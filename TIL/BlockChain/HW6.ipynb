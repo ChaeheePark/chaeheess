{
 "cells": [
  {
   "cell_type": "markdown",
   "metadata": {},
   "source": [
    "## 문제 1"
   ]
  },
  {
   "cell_type": "code",
   "execution_count": 102,
   "metadata": {},
   "outputs": [
    {
     "name": "stdout",
     "output_type": "stream",
     "text": [
      "Overwriting src/web3ethCommands.js\n"
     ]
    }
   ],
   "source": [
    "%%writefile src/web3ethCommands.js\n",
    "var Web3 = require('web3');\n",
    "var web3 = new Web3(new Web3.providers.HttpProvider('http://localhost:8345'));\n",
    "web3.eth.getCoinbase(console.log);\n",
    "//web3.eth.getBalance('0xf4443f683f7282d785be02b411c86658329ba247').then(console.log);"
   ]
  },
  {
   "cell_type": "code",
   "execution_count": 103,
   "metadata": {},
   "outputs": [
    {
     "name": "stdout",
     "output_type": "stream",
     "text": [
      "null 0xf4443f683f7282d785be02b411c86658329ba247\n"
     ]
    }
   ],
   "source": [
    "!node src/web3ethCommands.js"
   ]
  },
  {
   "cell_type": "code",
   "execution_count": 173,
   "metadata": {},
   "outputs": [
    {
     "name": "stdout",
     "output_type": "stream",
     "text": [
      "\"0x216b3540837b945748d6bd3dcd4303c872883361\"\n"
     ]
    }
   ],
   "source": [
    "!geth --exec web3.eth.coinbase attach http://localhost:8445"
   ]
  },
  {
   "cell_type": "markdown",
   "metadata": {},
   "source": [
    "#### ============================거래 전=============================================="
   ]
  },
  {
   "cell_type": "code",
   "execution_count": 165,
   "metadata": {},
   "outputs": [
    {
     "name": "stdout",
     "output_type": "stream",
     "text": [
      "93995480000000000000\n"
     ]
    }
   ],
   "source": [
    "!geth --exec web3.eth.getBalance('0xf4443f683f7282d785be02b411c86658329ba247') attach http://localhost:8345"
   ]
  },
  {
   "cell_type": "code",
   "execution_count": 166,
   "metadata": {},
   "outputs": [
    {
     "name": "stdout",
     "output_type": "stream",
     "text": [
      "269999999999999980000\n"
     ]
    }
   ],
   "source": [
    "!geth --exec web3.eth.getBalance('0x216b3540837b945748d6bd3dcd4303c872883361') attach http://localhost:8445"
   ]
  },
  {
   "cell_type": "code",
   "execution_count": 167,
   "metadata": {},
   "outputs": [
    {
     "name": "stdout",
     "output_type": "stream",
     "text": [
      "Overwriting src/exercise6_sendFromGanacheToGeth.js\n"
     ]
    }
   ],
   "source": [
    "%%writefile src/exercise6_sendFromGanacheToGeth.js\n",
    "var Web3=require('web3');\n",
    "var web3 = new Web3(new Web3.providers.HttpProvider(\"http://localhost:8345\"));\n",
    "var myAmount=web3.toWei(1.001,'ether');\n",
    "web3.eth.sendTransaction({from:'0xf4443f683f7282d785be02b411c86658329ba247',\n",
    "                          to:'0x216b3540837b945748d6bd3dcd4303c872883361',\n",
    "                         gas: 1000000,\n",
    "                         value:myAmount });"
   ]
  },
  {
   "cell_type": "code",
   "execution_count": 168,
   "metadata": {},
   "outputs": [],
   "source": [
    "!node src/exercise6_sendFromGanacheToGeth.js"
   ]
  },
  {
   "cell_type": "markdown",
   "metadata": {},
   "source": [
    "#### ============================거래 후=============================================="
   ]
  },
  {
   "cell_type": "code",
   "execution_count": 169,
   "metadata": {},
   "outputs": [
    {
     "name": "stdout",
     "output_type": "stream",
     "text": [
      "269999999999999980000\n"
     ]
    }
   ],
   "source": [
    "!geth --exec web3.eth.getBalance('0x216b3540837b945748d6bd3dcd4303c872883361') attach http://localhost:8445"
   ]
  },
  {
   "cell_type": "code",
   "execution_count": 170,
   "metadata": {},
   "outputs": [
    {
     "name": "stdout",
     "output_type": "stream",
     "text": [
      "92994060000000000000\n"
     ]
    }
   ],
   "source": [
    "!geth --exec web3.eth.getBalance('0xf4443f683f7282d785be02b411c86658329ba247') attach http://localhost:8345"
   ]
  },
  {
   "cell_type": "markdown",
   "metadata": {},
   "source": [
    "ganache의 잔고에서는 빠지지만 geth에 잔고에서는 추가가 안되는 것을 확인할 수 있다."
   ]
  },
  {
   "cell_type": "markdown",
   "metadata": {},
   "source": [
    "## 문제2"
   ]
  },
  {
   "cell_type": "code",
   "execution_count": 171,
   "metadata": {},
   "outputs": [
    {
     "name": "stdout",
     "output_type": "stream",
     "text": [
      "Overwriting src/printEther.js\n"
     ]
    }
   ],
   "source": [
    "%%writefile src/printEther.js\n",
    "var Web3=require('web3');\n",
    "var web3 = new Web3(new Web3.providers.HttpProvider(\"http://localhost:8345\"));\n",
    "var p=web3.fromWei(web3.eth.getBalance('0xf4443f683f7282d785be02b411c86658329ba247'),\"ether\");\n",
    "p=(p.toNumber())*(2691000) //4.9 21:30 시세\n",
    "console.log(p,\"won\")"
   ]
  },
  {
   "cell_type": "code",
   "execution_count": 172,
   "metadata": {},
   "outputs": [
    {
     "name": "stdout",
     "output_type": "stream",
     "text": [
      "250247015.46 won\n"
     ]
    }
   ],
   "source": [
    "!node src/printEther.js"
   ]
  }
 ],
 "metadata": {
  "kernelspec": {
   "display_name": "Python 3",
   "language": "python",
   "name": "python3"
  },
  "language_info": {
   "codemirror_mode": {
    "name": "ipython",
    "version": 3
   },
   "file_extension": ".py",
   "mimetype": "text/x-python",
   "name": "python",
   "nbconvert_exporter": "python",
   "pygments_lexer": "ipython3",
   "version": "3.7.9"
  }
 },
 "nbformat": 4,
 "nbformat_minor": 4
}
