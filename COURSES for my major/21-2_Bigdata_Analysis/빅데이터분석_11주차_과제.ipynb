{
  "nbformat": 4,
  "nbformat_minor": 0,
  "metadata": {
    "colab": {
      "name": "빅데이터분석_11주차_과제",
      "provenance": [],
      "collapsed_sections": []
    },
    "kernelspec": {
      "name": "python3",
      "display_name": "Python 3"
    },
    "language_info": {
      "name": "python"
    }
  },
  "cells": [
    {
      "cell_type": "markdown",
      "metadata": {
        "id": "UGbrNKsYHiIh"
      },
      "source": [
        "## (1) 클러스터의 중심점을 몇 회만에 찾는지, 매 반복 중심값만을 출력한다."
      ]
    },
    {
      "cell_type": "code",
      "metadata": {
        "id": "0Lvs48_n3TgD"
      },
      "source": [
        "from sklearn.datasets import make_blobs\n",
        "\n",
        "X, y = make_blobs(n_samples=100, centers=4, cluster_std=0.60, random_state=0)"
      ],
      "execution_count": 56,
      "outputs": []
    },
    {
      "cell_type": "code",
      "metadata": {
        "id": "bopU3WaJDVIY"
      },
      "source": [
        "def cluster(x, k, centroids):\n",
        "    row, col = x.shape\n",
        "    clusterAssigned = np.zeros(shape=(row, 2), dtype=float) ### 수정된부분\n",
        "    # print (clusterAssigned)\n",
        "    clusterUpdated=True\n",
        "    iter = 1\n",
        "    while(clusterUpdated):\n",
        "        print (\"\\n\\n====== Iteration {} ======\".format(iter))\n",
        "        # STEP 1: assign to closer cluster\n",
        "        for i in range(row):\n",
        "            minDist = np.inf   # set arbitray max to minDist\n",
        "            minIndex = -1      # set arbitray index to minIndex\n",
        "            # compute distance and assign to closer cluster\n",
        "            for j in range(k):\n",
        "                # distance from centroids[j] to x[0]\n",
        "                distJI = normDist(centroids[j], x[i])\n",
        "                # print (\"Distance {:.3f} between {} and {}\".format(distJI, centroids[j], x[i]))\n",
        "                # pick the closest centroid\n",
        "                if distJI < minDist:\n",
        "                    minDist = distJI\n",
        "                    minIndex = j\n",
        "            #print (\".....Assigning {} to {}th centroid by {:.3f}\".format(x[i], minIndex, minDist))\n",
        "            clusterAssigned[i] = [minIndex, minDist]   #-----changed\n",
        "        #print (\"\\n.....Assigned clusters: \\n {}\".format(clusterAssigned))\n",
        "        # STEP 2: update centroids\n",
        "        _centroids=np.zeros(shape = (k, x.shape[1]), dtype=float)\n",
        "        for cent in range(k):\n",
        "            # read data by index and average them\n",
        "            _centroids[cent] = np.mean(x[clusterAssigned[:,0]==cent],axis=0)\n",
        "        # print (\"Centroids updated: \\n\", _centroids)\n",
        "        # STEP 3: see if centroids is updated. STOP if NOT updated\n",
        "        comparison = np.equal(centroids, _centroids) # np.isclose() in case some tolerence is required\n",
        "        if(comparison.all() == True):\n",
        "            print (\"\\n.....NOT Updating Centroids\\n {} => \\n{}\".format(centroids, _centroids))\n",
        "            clusterUpdated = False\n",
        "            return centroids, clusterAssigned\n",
        "        else:\n",
        "            print (\"\\n.....Updating Centroids\\n {} => \\n{}\".format(centroids, _centroids))\n",
        "            centroids = _centroids\n",
        "            iter += 1"
      ],
      "execution_count": 57,
      "outputs": []
    },
    {
      "cell_type": "code",
      "metadata": {
        "id": "qQCpXhFpFeki"
      },
      "source": [
        "def normDist(x1, x2):\n",
        "    #dist=np.sqrt(sum(np.power(x1 - x2, 2))) #36.406001444695193\n",
        "    dist = np.linalg.norm(x1 - x2) #36.406001444695193\n",
        "    return dist"
      ],
      "execution_count": 58,
      "outputs": []
    },
    {
      "cell_type": "code",
      "metadata": {
        "colab": {
          "base_uri": "https://localhost:8080/"
        },
        "id": "iRRcp6aPEmiU",
        "outputId": "0ccd3e1d-5b46-42f7-c8ca-c99cfa3539f4"
      },
      "source": [
        "import numpy as np\n",
        "centroids = np.array([[-3,3], [-3,8], [2,4], [2,1]], dtype = float) #임의의 중심점\n",
        "centroids, clusterAssigned = cluster(X,4,centroids)"
      ],
      "execution_count": 59,
      "outputs": [
        {
          "output_type": "stream",
          "name": "stdout",
          "text": [
            "\n",
            "\n",
            "====== Iteration 1 ======\n",
            "\n",
            ".....Updating Centroids\n",
            " [[-3.  3.]\n",
            " [-3.  8.]\n",
            " [ 2.  4.]\n",
            " [ 2.  1.]] => \n",
            "[[-1.63043905  3.09879034]\n",
            " [-1.27208964  7.74944718]\n",
            " [ 0.78627354  4.2491454 ]\n",
            " [ 1.97918933  0.97920012]]\n",
            "\n",
            "\n",
            "====== Iteration 2 ======\n",
            "\n",
            ".....Updating Centroids\n",
            " [[-1.63043905  3.09879034]\n",
            " [-1.27208964  7.74944718]\n",
            " [ 0.78627354  4.2491454 ]\n",
            " [ 1.97918933  0.97920012]] => \n",
            "[[-1.5772186   3.11456071]\n",
            " [-1.27208964  7.74944718]\n",
            " [ 0.83044547  4.27831711]\n",
            " [ 1.97918933  0.97920012]]\n",
            "\n",
            "\n",
            "====== Iteration 3 ======\n",
            "\n",
            ".....NOT Updating Centroids\n",
            " [[-1.5772186   3.11456071]\n",
            " [-1.27208964  7.74944718]\n",
            " [ 0.83044547  4.27831711]\n",
            " [ 1.97918933  0.97920012]] => \n",
            "[[-1.5772186   3.11456071]\n",
            " [-1.27208964  7.74944718]\n",
            " [ 0.83044547  4.27831711]\n",
            " [ 1.97918933  0.97920012]]\n"
          ]
        }
      ]
    },
    {
      "cell_type": "markdown",
      "metadata": {
        "id": "wKkzve0NHm3q"
      },
      "source": [
        "### 3회만에 중심값을 찾았다."
      ]
    },
    {
      "cell_type": "markdown",
      "metadata": {
        "id": "Ns5Oc1iGHm8n"
      },
      "source": [
        "## (2) 배정된 클러스터가 맞는지 비교하여 동일한지 확인하세요."
      ]
    },
    {
      "cell_type": "markdown",
      "metadata": {
        "id": "DsU83RlgOYh3"
      },
      "source": [
        "### 원본 cluster"
      ]
    },
    {
      "cell_type": "code",
      "metadata": {
        "colab": {
          "base_uri": "https://localhost:8080/"
        },
        "id": "vBn-WStTO_1Y",
        "outputId": "7064643d-f537-47d5-fb39-3c9786353b4e"
      },
      "source": [
        "y"
      ],
      "execution_count": 60,
      "outputs": [
        {
          "output_type": "execute_result",
          "data": {
            "text/plain": [
              "array([0, 3, 0, 0, 0, 0, 2, 3, 0, 3, 3, 3, 3, 3, 3, 1, 1, 2, 2, 1, 0, 3,\n",
              "       2, 1, 0, 2, 2, 0, 1, 1, 1, 3, 1, 1, 2, 0, 3, 1, 3, 2, 0, 2, 3, 2,\n",
              "       2, 3, 1, 2, 0, 0, 0, 1, 2, 2, 2, 3, 3, 1, 1, 3, 3, 1, 1, 0, 1, 3,\n",
              "       2, 2, 1, 0, 3, 1, 0, 3, 0, 0, 2, 2, 1, 1, 1, 3, 2, 0, 1, 2, 1, 1,\n",
              "       0, 0, 0, 2, 0, 2, 2, 3, 3, 2, 3, 0])"
            ]
          },
          "metadata": {},
          "execution_count": 60
        }
      ]
    },
    {
      "cell_type": "code",
      "metadata": {
        "id": "vyFa8njnOc96"
      },
      "source": [
        "import matplotlib.pyplot as plt\n",
        "def draw(x,y):\n",
        "  plt.scatter(x[np.where(y==0),0],x[np.where(y==0),1],color='blue')\n",
        "  plt.scatter(x[np.where(y==1),0],x[np.where(y==1),1],color='red')\n",
        "  plt.scatter(x[np.where(y==2),0],x[np.where(y==2),1],color='green')\n",
        "  plt.scatter(x[np.where(y==3),0],x[np.where(y==3),1],color='cyan')"
      ],
      "execution_count": 65,
      "outputs": []
    },
    {
      "cell_type": "code",
      "metadata": {
        "colab": {
          "base_uri": "https://localhost:8080/",
          "height": 265
        },
        "id": "84EKpykCH03w",
        "outputId": "30315739-6c9c-4841-fab2-394a0edd5d0e"
      },
      "source": [
        "draw(X,y)"
      ],
      "execution_count": 66,
      "outputs": [
        {
          "output_type": "display_data",
          "data": {
            "image/png": "[encoded data removed]",
            "text/plain": [
              "<Figure size 432x288 with 1 Axes>"
            ]
          },
          "metadata": {
            "needs_background": "light"
          }
        }
      ]
    },
    {
      "cell_type": "markdown",
      "metadata": {
        "id": "KEWM7W2CSAMU"
      },
      "source": [
        "### centroid로 구성한 배정된 cluster"
      ]
    },
    {
      "cell_type": "code",
      "metadata": {
        "colab": {
          "base_uri": "https://localhost:8080/",
          "height": 265
        },
        "id": "H5-rxs53Lyaz",
        "outputId": "c50fc394-a786-4db1-9d65-fd81408e7039"
      },
      "source": [
        "draw(X, clusterAssigned[:,0])"
      ],
      "execution_count": 67,
      "outputs": [
        {
          "output_type": "display_data",
          "data": {
            "image/png": "[encoded data removed]",
            "text/plain": [
              "<Figure size 432x288 with 1 Axes>"
            ]
          },
          "metadata": {
            "needs_background": "light"
          }
        }
      ]
    },
    {
      "cell_type": "markdown",
      "metadata": {
        "id": "oZtriCa1R8-W"
      },
      "source": [
        "### 초록색 cluster에서 파란색 cluster와 맞닿는 부분 몇개 data가 잘 분류되지 않았지만 나머지는 올바르게 분류되었다."
      ]
    }
  ]
}