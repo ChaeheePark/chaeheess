{
 "cells": [
  {
   "cell_type": "markdown",
   "metadata": {},
   "source": [
    "# 14주 이진 베이지안 모델\n",
    "Sklearn의 make_classification() 함수는 분류에 쓰일 수 있는 데이터를 생성해준다.\n",
    "\n",
    "Sklearn으로 이진 베이지안 모델링을 해보자.\n",
    "\n"
   ]
  },
  {
   "cell_type": "markdown",
   "metadata": {},
   "source": [
    "## (1) X, Y 데이터를 생성"
   ]
  },
  {
   "cell_type": "code",
   "execution_count": 1,
   "metadata": {},
   "outputs": [],
   "source": [
    "from sklearn.datasets import make_classification\n",
    "\n",
    "X, Y = make_classification(n_samples=100, n_features=2, n_informative=2, n_redundant=0)"
   ]
  },
  {
   "cell_type": "code",
   "execution_count": 6,
   "metadata": {},
   "outputs": [
    {
     "name": "stdout",
     "output_type": "stream",
     "text": [
      "X\n",
      " [[ 2.83601904 -3.23923394]\n",
      " [ 1.03265777  0.79823489]\n",
      " [ 1.36706395 -0.25719822]\n",
      " [ 1.61349461 -2.22612085]\n",
      " [-0.45838151  1.39904438]]\n",
      "Y\n",
      " [0 1 1 0 1]\n"
     ]
    }
   ],
   "source": [
    "print(\"X\\n\",X[:5])\n",
    "print(\"Y\\n\",Y[:5])"
   ]
  },
  {
   "cell_type": "markdown",
   "metadata": {},
   "source": [
    "## (2) X의 평균과 표준편차 계산해서 출력"
   ]
  },
  {
   "cell_type": "code",
   "execution_count": 7,
   "metadata": {},
   "outputs": [
    {
     "data": {
      "text/plain": [
       "(0.04440705675883171, 1.3514934261110274)"
      ]
     },
     "execution_count": 7,
     "metadata": {},
     "output_type": "execute_result"
    }
   ],
   "source": [
    "X.mean(), X.std()"
   ]
  },
  {
   "cell_type": "markdown",
   "metadata": {},
   "source": [
    "## (3) 그래프 작성\n",
    "\n",
    "scatter() 함수에 c=Y 옵션을 넣으면, Y의 값에 대해 다른 색으로 표시할 수 있다.\n"
   ]
  },
  {
   "cell_type": "code",
   "execution_count": 8,
   "metadata": {},
   "outputs": [
    {
     "name": "stderr",
     "output_type": "stream",
     "text": [
      "findfont: Font family ['NanumSquareRound'] not found. Falling back to DejaVu Sans.\n"
     ]
    },
    {
     "data": {
      "image/png": "[encoded data removed]",
      "text/plain": [
       "<Figure size 432x288 with 1 Axes>"
      ]
     },
     "metadata": {
      "needs_background": "light"
     },
     "output_type": "display_data"
    }
   ],
   "source": [
    "import matplotlib.pyplot as plt\n",
    "\n",
    "plt.scatter(X[:,0], X[:,1], marker='o', c=Y)\n",
    "plt.show()"
   ]
  },
  {
   "cell_type": "markdown",
   "metadata": {},
   "source": [
    "## (4) 훈련데이터, 테스트데이터 3:1로 분리\n",
    "\n",
    "train_test_split()함수를 사용하면 원하는 비율로 분리할 수 있다.\n"
   ]
  },
  {
   "cell_type": "code",
   "execution_count": 9,
   "metadata": {},
   "outputs": [],
   "source": [
    "from sklearn.model_selection import train_test_split\n",
    "\n",
    "X_train, X_test, Y_train, Y_test = train_test_split(X, Y, test_size=0.25)"
   ]
  },
  {
   "cell_type": "markdown",
   "metadata": {},
   "source": [
    "## (5) 훈련데이터에 대하여 BernoulliNB 모델링\n",
    "\n",
    "X데이터는 연속 값이다. binarize=0.0으로 설정하여 이진수로 모델링한다.\n"
   ]
  },
  {
   "cell_type": "code",
   "execution_count": 10,
   "metadata": {},
   "outputs": [],
   "source": [
    "from sklearn.naive_bayes import BernoulliNB\n",
    "\n",
    "bnb = BernoulliNB(binarize=0.0)"
   ]
  },
  {
   "cell_type": "markdown",
   "metadata": {},
   "source": [
    "## (6) 테스트데이터에 대하여 예측값을 출력\n",
    "\n",
    "예측이 맞는지 실제값 Y와 비교해보자.\n"
   ]
  },
  {
   "cell_type": "code",
   "execution_count": 13,
   "metadata": {},
   "outputs": [
    {
     "data": {
      "text/plain": [
       "BernoulliNB()"
      ]
     },
     "execution_count": 13,
     "metadata": {},
     "output_type": "execute_result"
    }
   ],
   "source": [
    "bnb.fit(X_train, Y_train)"
   ]
  },
  {
   "cell_type": "code",
   "execution_count": 14,
   "metadata": {},
   "outputs": [
    {
     "data": {
      "text/plain": [
       "[(0, 0, array([ 1.20698109, -2.01570578])),\n",
       " (1, 1, array([-2.24602845,  1.24508379])),\n",
       " (0, 0, array([-3.09954992, -2.57636346])),\n",
       " (1, 0, array([1.30199898, 1.2199648 ])),\n",
       " (1, 0, array([-0.40838266,  0.06381237])),\n",
       " (0, 0, array([-1.74859765, -1.91581913])),\n",
       " (1, 0, array([0.82876625, 0.69554141])),\n",
       " (1, 1, array([-1.49620863,  1.2931898 ])),\n",
       " (1, 1, array([0.89823572, 1.6178847 ])),\n",
       " (0, 0, array([ 1.23528686, -0.87345693])),\n",
       " (0, 0, array([ 1.12250127, -1.88516203])),\n",
       " (0, 0, array([-1.47633735, -1.62391655])),\n",
       " (0, 0, array([-1.81118305, -1.97327316])),\n",
       " (0, 0, array([-1.40105846, -1.68313604])),\n",
       " (0, 1, array([ 1.57738314, -0.20666056])),\n",
       " (1, 1, array([1.03265777, 0.79823489])),\n",
       " (0, 0, array([ 0.01161345, -0.3665065 ])),\n",
       " (1, 1, array([0.28577386, 0.88440815])),\n",
       " (0, 0, array([-0.36711231, -0.3032018 ])),\n",
       " (0, 0, array([-1.63643549, -2.16306292])),\n",
       " (0, 0, array([-0.35988576, -0.63274267])),\n",
       " (0, 0, array([ 1.17953324, -1.2667779 ])),\n",
       " (1, 1, array([0.06992282, 2.17671893])),\n",
       " (0, 0, array([-0.79340789, -0.42455552])),\n",
       " (1, 1, array([-0.52869153,  1.94728918]))]"
      ]
     },
     "execution_count": 14,
     "metadata": {},
     "output_type": "execute_result"
    }
   ],
   "source": [
    "list(zip(bnb.predict(X_test),Y_test, X_test))"
   ]
  },
  {
   "cell_type": "markdown",
   "metadata": {},
   "source": [
    "## (7) 테스트데이터에 대하여 예측과 실제의 정확성 출력"
   ]
  },
  {
   "cell_type": "code",
   "execution_count": 15,
   "metadata": {},
   "outputs": [
    {
     "data": {
      "text/plain": [
       "0.84"
      ]
     },
     "execution_count": 15,
     "metadata": {},
     "output_type": "execute_result"
    }
   ],
   "source": [
    "bnb.score(X_test,Y_test)"
   ]
  }
 ],
 "metadata": {
  "kernelspec": {
   "display_name": "Python 3",
   "language": "python",
   "name": "python3"
  },
  "language_info": {
   "codemirror_mode": {
    "name": "ipython",
    "version": 3
   },
   "file_extension": ".py",
   "mimetype": "text/x-python",
   "name": "python",
   "nbconvert_exporter": "python",
   "pygments_lexer": "ipython3",
   "version": "3.7.9"
  }
 },
 "nbformat": 4,
 "nbformat_minor": 4
}
