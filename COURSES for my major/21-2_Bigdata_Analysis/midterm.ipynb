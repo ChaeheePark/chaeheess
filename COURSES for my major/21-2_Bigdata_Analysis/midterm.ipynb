{
  "nbformat": 4,
  "nbformat_minor": 0,
  "metadata": {
    "colab": {
      "name": "midterm.ipynb",
      "provenance": [],
      "collapsed_sections": []
    },
    "kernelspec": {
      "name": "python3",
      "display_name": "Python 3"
    },
    "language_info": {
      "name": "python"
    }
  },
  "cells": [
    {
      "cell_type": "markdown",
      "metadata": {
        "id": "mYBsuJ0MdN6h"
      },
      "source": [
        "## 휴먼지능정보공학과 201910803 박채희 \n",
        "### 중간고사 답안"
      ]
    },
    {
      "cell_type": "markdown",
      "metadata": {
        "id": "bKIBs2dkmOIN"
      },
      "source": [
        "## 문제 1: 열린데이터 수집\n",
        "\n",
        "서울시 열린데이터에서 검색을 하면 '서울시 우리마을가게 상권분석서비스(상권-아파트)'가 있다.\n",
        "\n",
        "(https://data.seoul.go.kr/dataList/OA-15566/S/1/datasetView.do?tab=A)\n",
        "\n",
        "OpenAPI를 통해서 2021년 최근 100개 데이터를 JSON 형식으로 수집하자."
      ]
    },
    {
      "cell_type": "markdown",
      "metadata": {
        "id": "FkF5OhBYoBTW"
      },
      "source": [
        "### 1) 프로그램으로 url을 만들어 출력. 그 url을 클릭하면 데이터가 출력 되어야 한다."
      ]
    },
    {
      "cell_type": "code",
      "metadata": {
        "id": "mNZJqz6rmNst"
      },
      "source": [
        "import os\n",
        "from src import mylib \n",
        "\n",
        "keyPath=os.path.join(os.getcwd(), 'src', 'key.properties')\n",
        "key=mylib.getKey(keyPath)\n",
        "KEY=key['dataseoul'] "
      ],
      "execution_count": 3,
      "outputs": []
    },
    {
      "cell_type": "code",
      "metadata": {
        "id": "1imStududLu8"
      },
      "source": [
        "import os\n",
        "TYPE='json'\n",
        "SERVICE='InfoTrdarAptQq'\n",
        "START_INDEX=str(1)\n",
        "END_INDEX=str(100)\n",
        "STDR_YM_CD=str(2021)\n",
        "params=os.path.join(KEY,TYPE,SERVICE,START_INDEX,END_INDEX,STDR_YM_CD)"
      ],
      "execution_count": 25,
      "outputs": []
    },
    {
      "cell_type": "code",
      "metadata": {
        "id": "-udJBjGQnRIa"
      },
      "source": [
        "import urllib.parse\n",
        "\n",
        "_url='http://openAPI.seoul.go.kr:8088/'\n",
        "url=urllib.parse.urljoin(_url,params)"
      ],
      "execution_count": 26,
      "outputs": []
    },
    {
      "cell_type": "markdown",
      "metadata": {
        "id": "j-CbfuUXoDzk"
      },
      "source": [
        "#### 답"
      ]
    },
    {
      "cell_type": "code",
      "metadata": {
        "colab": {
          "base_uri": "https://localhost:8080/"
        },
        "id": "bQvRbNj2nSyN",
        "outputId": "1f684c3e-6b86-49eb-9b73-8ab5d143bd4e"
      },
      "source": [
        "print(url)"
      ],
      "execution_count": 28,
      "outputs": [
        {
          "output_type": "stream",
          "name": "stdout",
          "text": [
            "http://openAPI.seoul.go.kr:8088/73725974496a736c34395757705847/json/InfoTrdarAptQq/1/100/2021\n"
          ]
        }
      ]
    },
    {
      "cell_type": "markdown",
      "metadata": {
        "id": "Y9z8_YYVoGAG"
      },
      "source": [
        "### 2) 전체 데이터 중 1건만 출력.\n",
        "\n",
        "\n"
      ]
    },
    {
      "cell_type": "code",
      "metadata": {
        "id": "vYVXE8hdnUHL"
      },
      "source": [
        "import requests\n",
        "r=requests.get(url)\n",
        "trade=r.json()"
      ],
      "execution_count": 29,
      "outputs": []
    },
    {
      "cell_type": "markdown",
      "metadata": {
        "id": "-NXE_-N7o_Sk"
      },
      "source": [
        "#### 답)"
      ]
    },
    {
      "cell_type": "code",
      "metadata": {
        "colab": {
          "base_uri": "https://localhost:8080/"
        },
        "id": "16osAoxonVGp",
        "outputId": "10bf96e5-4fc2-423e-88e0-ed25ac923f6b"
      },
      "source": [
        "trade['InfoTrdarAptQq']['row'][0]"
      ],
      "execution_count": 30,
      "outputs": [
        {
          "output_type": "execute_result",
          "data": {
            "text/plain": [
              "{'AE_132_SQMT_HSHLD_CO': 0.0,\n",
              " 'AE_165_SQMT_HSHLD_CO': 0.0,\n",
              " 'AE_66_SQMT_BELO_HSHLD_CO': 32.0,\n",
              " 'AE_66_SQMT_HSHLD_CO': 0.0,\n",
              " 'AE_99_SQMT_HSHLD_CO': 0.0,\n",
              " 'APT_HSMP_CO': 5.0,\n",
              " 'AVRG_AE': 44.0,\n",
              " 'AVRG_MKTC': 150247619.0,\n",
              " 'PC_1_HDMIL_BELO_HSHLD_CO': 0.0,\n",
              " 'PC_1_HDMIL_HSHLD_CO': 32.0,\n",
              " 'PC_2_HDMIL_HSHLD_CO': 0.0,\n",
              " 'PC_3_HDMIL_HSHLD_CO': 0.0,\n",
              " 'PC_4_HDMIL_HSHLD_CO': 0.0,\n",
              " 'PC_5_HDMIL_HSHLD_CO': 0.0,\n",
              " 'PC_6_HDMIL_ABOVE_HSHLD_CO': 0.0,\n",
              " 'STDR_QU_CD': '1',\n",
              " 'STDR_YY_CD': '2021',\n",
              " 'TRDAR_CD': '1000975',\n",
              " 'TRDAR_CD_NM': '동남로82길',\n",
              " 'TRDAR_SE_CD': 'A',\n",
              " 'TRDAR_SE_CD_NM': '골목상권'}"
            ]
          },
          "metadata": {},
          "execution_count": 30
        }
      ]
    },
    {
      "cell_type": "markdown",
      "metadata": {
        "id": "Th_-ZiYFo9Zu"
      },
      "source": [
        "### 3) 다음 항목을 100개 정렬해서 출력.\n",
        "\n",
        "\tTRDAR_SE_CD_NM\t상권_구분_코드_명\n",
        "\n",
        "\tAPT_HSMP_CO\t아파트_단지_수\n",
        "\n",
        "\tPC_6_HDMIL_ABOVE_HSHLD_CO\t아파트_가격_6_억_이상_세대_수\n",
        "\n",
        "\tAVRG_MKTC\t아파트_평균_시가\n",
        "\n",
        "\tTRDAR_CD_NM\t상권_코드_명\n",
        "\n",
        "정렬한 출력예시:\n",
        "\n",
        "```\n",
        "\n",
        "골목상권\t5.0\t0.0\t150247619.0\t동남로82길\n",
        "\n",
        "발달상권\t3.0\t0.0\t161157476.0\t당산역_2\n",
        "\n",
        "발달상권\t1.0\t0.0\t81750000.0\t서울 성북구 안암역\n",
        "\n",
        "```"
      ]
    },
    {
      "cell_type": "code",
      "metadata": {
        "colab": {
          "base_uri": "https://localhost:8080/"
        },
        "id": "oKOziVGjnZV8",
        "outputId": "fb9959b4-934e-4445-e723-aac995549376"
      },
      "source": [
        "for e in trade['InfoTrdarAptQq']['row']:\n",
        "    print (\"{0}\\t{1}\\t{2}\\t{3}\\t{4}\\n\".format(e['TRDAR_SE_CD_NM'], e['APT_HSMP_CO'], e['PC_6_HDMIL_ABOVE_HSHLD_CO'], e['AVRG_MKTC'], e['TRDAR_CD_NM']))"
      ],
      "execution_count": 33,
      "outputs": [
        {
          "output_type": "stream",
          "name": "stdout",
          "text": [
            "골목상권\t5.0\t0.0\t150247619.0\t동남로82길\n",
            "\n",
            "발달상권\t3.0\t0.0\t161157476.0\t당산역_2\n",
            "\n",
            "발달상권\t1.0\t0.0\t81750000.0\t서울 성북구 안암역\n",
            "\n",
            "전통시장\t37.0\t1.0\t183067389.0\t길동복조리시장\n",
            "\n",
            "관광특구\t71.0\t87.0\t409473123.0\t이태원 관광특구\n",
            "\n",
            "관광특구\t8.0\t271.0\t237967427.0\t동대문패션타운 관광특구\n",
            "\n",
            "관광특구\t5.0\t0.0\t112097903.0\t종로·청계 관광특구\n",
            "\n",
            "관광특구\t22.0\t1156.0\t527347107.0\t잠실 관광특구\n",
            "\n",
            "골목상권\t26.0\t22.0\t249322039.0\t계동길\n",
            "\n",
            "골목상권\t5.0\t0.0\t87700490.0\t난계로27길\n",
            "\n",
            "골목상권\t5.0\t0.0\t161118305.0\t돈화문로11가길\n",
            "\n",
            "골목상권\t41.0\t0.0\t105457249.0\t명륜길\n",
            "\n",
            "골목상권\t41.0\t0.0\t214023214.0\t백석동길\n",
            "\n",
            "골목상권\t3.0\t0.0\t213246032.0\t북촌로11길\n",
            "\n",
            "골목상권\t2.0\t2.0\t443000000.0\t북촌로5길\n",
            "\n",
            "골목상권\t5.0\t6.0\t430007143.0\t북촌로5나길\n",
            "\n",
            "골목상권\t1.0\t2.0\t572000000.0\t삼청로5길\n",
            "\n",
            "골목상권\t12.0\t0.0\t152368531.0\t성균관로5길\n",
            "\n",
            "골목상권\t19.0\t0.0\t141952840.0\t숭인동길\n",
            "\n",
            "골목상권\t100.0\t0.0\t177741821.0\t옥인길\n",
            "\n",
            "골목상권\t1.0\t0.0\t112279412.0\t율곡로16길\n",
            "\n",
            "골목상권\t20.0\t0.0\t153940955.0\t이화장길\n",
            "\n",
            "골목상권\t9.0\t0.0\t256264683.0\t자하문로7길\n",
            "\n",
            "골목상권\t3.0\t0.0\t81284178.0\t종로58가길\n",
            "\n",
            "골목상권\t87.0\t0.0\t124591950.0\t종로65길\n",
            "\n",
            "골목상권\t15.0\t0.0\t185365873.0\t지봉로8길\n",
            "\n",
            "골목상권\t8.0\t0.0\t142664918.0\t창경궁로35길\n",
            "\n",
            "골목상권\t17.0\t0.0\t107096078.0\t창신2길\n",
            "\n",
            "골목상권\t8.0\t0.0\t95141667.0\t창신5길\n",
            "\n",
            "골목상권\t86.0\t0.0\t116533576.0\t창신길\n",
            "\n",
            "골목상권\t50.0\t0.0\t99746000.0\t통일로12길\n",
            "\n",
            "골목상권\t19.0\t30.0\t309926113.0\t평창길\n",
            "\n",
            "골목상권\t14.0\t0.0\t229306432.0\t필운대로1길\n",
            "\n",
            "골목상권\t16.0\t33.0\t272737678.0\t난계로11길\n",
            "\n",
            "골목상권\t9.0\t0.0\t157574074.0\t난계로21길\n",
            "\n",
            "골목상권\t32.0\t0.0\t153392079.0\t다산로33길\n",
            "\n",
            "골목상권\t8.0\t0.0\t179132297.0\t다산로36길\n",
            "\n",
            "골목상권\t10.0\t1.0\t242063093.0\t다산로38길\n",
            "\n",
            "골목상권\t2.0\t0.0\t176972222.0\t다산로39길\n",
            "\n",
            "골목상권\t27.0\t0.0\t181864758.0\t동호로10길\n",
            "\n",
            "골목상권\t150.0\t0.0\t124396733.0\t동호로11길\n",
            "\n",
            "골목상권\t41.0\t12.0\t208647667.0\t동호로15길\n",
            "\n",
            "골목상권\t42.0\t43.0\t307355149.0\t동호로20길\n",
            "\n",
            "골목상권\t18.0\t0.0\t155018621.0\t동호로8길\n",
            "\n",
            "골목상권\t28.0\t1.0\t184979178.0\t장충단로8길\n",
            "\n",
            "골목상권\t33.0\t0.0\t206531628.0\t청구로17길\n",
            "\n",
            "골목상권\t9.0\t0.0\t189915947.0\t청구로1길\n",
            "\n",
            "골목상권\t7.0\t0.0\t167530465.0\t퇴계로12길\n",
            "\n",
            "골목상권\t3.0\t0.0\t168158730.0\t퇴계로18길\n",
            "\n",
            "골목상권\t7.0\t0.0\t119134454.0\t퇴계로46길\n",
            "\n",
            "골목상권\t6.0\t0.0\t130876389.0\t퇴계로56길\n",
            "\n",
            "골목상권\t13.0\t0.0\t213297572.0\t퇴계로8길\n",
            "\n",
            "골목상권\t27.0\t0.0\t170019584.0\t퇴계로90길\n",
            "\n",
            "골목상권\t4.0\t0.0\t250343750.0\t녹사평대로11길\n",
            "\n",
            "골목상권\t10.0\t0.0\t380352237.0\t녹사평대로26길\n",
            "\n",
            "골목상권\t8.0\t5.0\t382973462.0\t녹사평대로32길\n",
            "\n",
            "골목상권\t9.0\t13.0\t463599167.0\t녹사평대로40나길\n",
            "\n",
            "골목상권\t22.0\t5.0\t291820883.0\t녹사평대로46길\n",
            "\n",
            "골목상권\t35.0\t84.0\t559442404.0\t대사관로34길\n",
            "\n",
            "골목상권\t38.0\t0.0\t294402723.0\t두텁바위로1길\n",
            "\n",
            "골목상권\t104.0\t16.0\t242145926.0\t백범로79길\n",
            "\n",
            "골목상권\t11.0\t709.0\t496683400.0\t백범로90길\n",
            "\n",
            "골목상권\t72.0\t244.0\t662098926.0\t서빙고로71길\n",
            "\n",
            "골목상권\t44.0\t1.0\t200752888.0\t소월로20길\n",
            "\n",
            "골목상권\t114.0\t4.0\t171466325.0\t신흥로20길\n",
            "\n",
            "골목상권\t49.0\t129.0\t614161825.0\t우사단로10길\n",
            "\n",
            "골목상권\t15.0\t127.0\t654105268.0\t우사단로14길\n",
            "\n",
            "골목상권\t22.0\t12.0\t489858622.0\t우사단로4길\n",
            "\n",
            "골목상권\t23.0\t5.0\t269352177.0\t원효로19길\n",
            "\n",
            "골목상권\t16.0\t0.0\t281720858.0\t원효로41길\n",
            "\n",
            "골목상권\t40.0\t0.0\t228417439.0\t원효로53길\n",
            "\n",
            "골목상권\t10.0\t0.0\t215459650.0\t원효로89길\n",
            "\n",
            "골목상권\t49.0\t10.0\t387698359.0\t이촌로22길\n",
            "\n",
            "골목상권\t11.0\t19.0\t483746950.0\t이태원로27길\n",
            "\n",
            "골목상권\t30.0\t109.0\t480723433.0\t이태원로54길\n",
            "\n",
            "골목상권\t33.0\t106.0\t573284176.0\t장문로45길\n",
            "\n",
            "골목상권\t14.0\t0.0\t166160048.0\t청파로47길\n",
            "\n",
            "골목상권\t89.0\t4.0\t220994083.0\t청파로47나길\n",
            "\n",
            "골목상권\t122.0\t0.0\t215433642.0\t청파로71길\n",
            "\n",
            "골목상권\t58.0\t0.0\t219067232.0\t청파로73길\n",
            "\n",
            "골목상권\t25.0\t240.0\t341969048.0\t한강대로104길\n",
            "\n",
            "골목상권\t8.0\t151.0\t457474986.0\t한강대로15길\n",
            "\n",
            "골목상권\t3.0\t431.0\t989166024.0\t한강대로43길\n",
            "\n",
            "골목상권\t14.0\t1.0\t286364302.0\t한강대로52길\n",
            "\n",
            "골목상권\t9.0\t1.0\t364824342.0\t한강대로62길\n",
            "\n",
            "골목상권\t6.0\t12.0\t419996429.0\t한강대로7길\n",
            "\n",
            "골목상권\t7.0\t58.0\t352673085.0\t한남대로20길\n",
            "\n",
            "골목상권\t22.0\t40.0\t349667714.0\t회나무로13길\n",
            "\n",
            "골목상권\t90.0\t0.0\t231388058.0\t효창원로39길\n",
            "\n",
            "골목상권\t127.0\t21.0\t277169594.0\t후암로28길\n",
            "\n",
            "골목상권\t61.0\t0.0\t201004295.0\t고산자로6길\n",
            "\n",
            "골목상권\t39.0\t0.0\t182191459.0\t금호산2길\n",
            "\n",
            "골목상권\t69.0\t0.0\t200790347.0\t금호산길\n",
            "\n",
            "골목상권\t23.0\t9.0\t451650381.0\t둘레9길\n",
            "\n",
            "골목상권\t15.0\t144.0\t318029114.0\t뚝섬로5길\n",
            "\n",
            "골목상권\t10.0\t0.0\t140662018.0\t마장로27길\n",
            "\n",
            "골목상권\t7.0\t0.0\t261575022.0\t마장로39길\n",
            "\n",
            "골목상권\t20.0\t0.0\t228218098.0\t마조로16길\n",
            "\n",
            "골목상권\t26.0\t0.0\t149740447.0\t마조로1길\n",
            "\n",
            "골목상권\t9.0\t1530.0\t599287898.0\t매봉길\n",
            "\n"
          ]
        }
      ]
    },
    {
      "cell_type": "markdown",
      "metadata": {
        "id": "K7TG3NFTqzoJ"
      },
      "source": [
        "## 문제 2: RDD를 사용해서 단어빈도 계산\n",
        "\n",
        "다음은 일부 수정된 노래가사이다.\n",
        "\n",
        "```\n",
        "yesterday=[\n",
        "\n",
        "    [\"Yesterday 어제는\"],\n",
        "\n",
        "    [\"All my troubles seemed to far away 내 모든 문제들이 참 멀리 있는 것 같았는데\"],\n",
        "\n",
        "    [\"Now it looks as though they're here to stay 이제는 그 모든 문제들이 여기에 있는 것처럼 보여\"],\n",
        "\n",
        "    [\"Oh, I believe in yesterday 오, 어제가 좋았는데\"],\n",
        "\n",
        "    [\"Suddenly 갑자기 그-림-자-가 2021 그-림-자-가 2021\"],\n",
        "\n",
        "    [\"I'm not half the man I used to be 난 예전 내 모습의 반도 못한 사람이 되어버렸어\"],\n",
        "\n",
        "    [\"There's a shadow hanging over me 내 위에 그림자가 드리워져 있네\"],\n",
        "\n",
        "    [\"Oh!, yesterday came suddenly 오!, 이제는 너무 갑자기 와버렸어..\"],\n",
        "\n",
        "]\n",
        "```"
      ]
    },
    {
      "cell_type": "code",
      "metadata": {
        "id": "4L_CcsTErY8z"
      },
      "source": [
        "import pyspark"
      ],
      "execution_count": 44,
      "outputs": []
    },
    {
      "cell_type": "code",
      "metadata": {
        "id": "3Up9NGgyrZ5T"
      },
      "source": [
        "myConf=pyspark.SparkConf()\n",
        "spark=pyspark.sql.SparkSession.builder.master(\"local\").appName(\"myApp\").config(conf=myConf).getOrCreate()"
      ],
      "execution_count": 45,
      "outputs": []
    },
    {
      "cell_type": "code",
      "metadata": {
        "id": "rjNyth6Mrxr-"
      },
      "source": [
        "yesterday=[\n",
        "\n",
        "    [\"Yesterday 어제는\"],\n",
        "\n",
        "    [\"All my troubles seemed to far away 내 모든 문제들이 참 멀리 있는 것 같았는데\"],\n",
        "\n",
        "    [\"Now it looks as though they're here to stay 이제는 그 모든 문제들이 여기에 있는 것처럼 보여\"],\n",
        "\n",
        "    [\"Oh, I believe in yesterday 오, 어제가 좋았는데\"],\n",
        "\n",
        "    [\"Suddenly 갑자기 그-림-자-가 2021 그-림-자-가 2021\"],\n",
        "\n",
        "    [\"I'm not half the man I used to be 난 예전 내 모습의 반도 못한 사람이 되어버렸어\"],\n",
        "\n",
        "    [\"There's a shadow hanging over me 내 위에 그림자가 드리워져 있네\"],\n",
        "\n",
        "    [\"Oh!, yesterday came suddenly 오!, 이제는 너무 갑자기 와버렸어..\"],\n",
        "\n",
        "]"
      ],
      "execution_count": 162,
      "outputs": []
    },
    {
      "cell_type": "markdown",
      "metadata": {
        "id": "5jFPUExwrgjQ"
      },
      "source": [
        "### 1) 단어빈도를 계산해서 출력\n",
        "\n",
        "출력 예시: [('Yesterday', 1),('어제는', 1),('All', 1),('my', 1),...]"
      ]
    },
    {
      "cell_type": "code",
      "metadata": {
        "id": "WwzdMXX2ra2b"
      },
      "source": [
        "myRdd=spark.sparkContext.parallelize(yesterday)"
      ],
      "execution_count": 165,
      "outputs": []
    },
    {
      "cell_type": "markdown",
      "metadata": {
        "id": "usvVjY7Z3XkV"
      },
      "source": [
        "#### 답)"
      ]
    },
    {
      "cell_type": "code",
      "metadata": {
        "colab": {
          "base_uri": "https://localhost:8080/"
        },
        "id": "dLN5InlnzFlN",
        "outputId": "8a611e6e-a9b1-4e2f-eced-0c40d9153381"
      },
      "source": [
        "wc1=myRdd\\\n",
        "    .flatMap(lambda x:x)\\\n",
        "    .flatMap(lambda x:x.split())\\\n",
        "    .map(lambda x:(x,1))\\\n",
        "    .groupByKey()\\\n",
        "    .mapValues(sum)\\\n",
        "    .take(100)\n",
        "print(wc1)"
      ],
      "execution_count": 188,
      "outputs": [
        {
          "output_type": "stream",
          "name": "stdout",
          "text": [
            "[('Yesterday', 1), ('어제는', 1), ('All', 1), ('my', 1), ('troubles', 1), ('seemed', 1), ('to', 3), ('far', 1), ('away', 1), ('내', 3), ('모든', 2), ('문제들이', 2), ('참', 1), ('멀리', 1), ('있는', 2), ('것', 1), ('같았는데', 1), ('Now', 1), ('it', 1), ('looks', 1), ('as', 1), ('though', 1), (\"they're\", 1), ('here', 1), ('stay', 1), ('이제는', 2), ('그', 1), ('여기에', 1), ('것처럼', 1), ('보여', 1), ('Oh,', 1), ('I', 2), ('believe', 1), ('in', 1), ('yesterday', 2), ('오,', 1), ('어제가', 1), ('좋았는데', 1), ('Suddenly', 1), ('갑자기', 2), ('그-림-자-가', 2), ('2021', 2), (\"I'm\", 1), ('not', 1), ('half', 1), ('the', 1), ('man', 1), ('used', 1), ('be', 1), ('난', 1), ('예전', 1), ('모습의', 1), ('반도', 1), ('못한', 1), ('사람이', 1), ('되어버렸어', 1), (\"There's\", 1), ('a', 1), ('shadow', 1), ('hanging', 1), ('over', 1), ('me', 1), ('위에', 1), ('그림자가', 1), ('드리워져', 1), ('있네', 1), ('Oh!,', 1), ('came', 1), ('suddenly', 1), ('오!,', 1), ('너무', 1), ('와버렸어..', 1)]\n"
          ]
        }
      ]
    },
    {
      "cell_type": "markdown",
      "metadata": {
        "id": "l7ipxjut3Vmm"
      },
      "source": [
        "### 2) 빈도순으로 출력, 빈도 1이하는 제외."
      ]
    },
    {
      "cell_type": "code",
      "metadata": {
        "id": "D9_Z6Vi_0grr"
      },
      "source": [
        "wc2=myRdd\\\n",
        "    .flatMap(lambda x:x)\\\n",
        "    .flatMap(lambda x:x.split())\\\n",
        "    .map(lambda x:(x,1))\\\n",
        "    .groupByKey()\\\n",
        "    .mapValues(sum)\\\n",
        "    .map(lambda x:(x[1],x[0]))\\\n",
        "    .sortByKey(False)\\\n",
        "    .take(100)"
      ],
      "execution_count": 189,
      "outputs": []
    },
    {
      "cell_type": "markdown",
      "metadata": {
        "id": "nt9Wfwav4g9Q"
      },
      "source": [
        "#### 답)"
      ]
    },
    {
      "cell_type": "code",
      "metadata": {
        "colab": {
          "base_uri": "https://localhost:8080/"
        },
        "id": "eEFk4jpP3t7X",
        "outputId": "118b7582-c389-4f55-d35b-1866a2c308e4"
      },
      "source": [
        "for i in wc2:\n",
        "  if i[0]>1:\n",
        "    print ('단어:',i[1], ' / 빈도:',i[0])"
      ],
      "execution_count": 203,
      "outputs": [
        {
          "output_type": "stream",
          "name": "stdout",
          "text": [
            "단어: to  / 빈도: 3\n",
            "단어: 내  / 빈도: 3\n",
            "단어: 모든  / 빈도: 2\n",
            "단어: 문제들이  / 빈도: 2\n",
            "단어: 있는  / 빈도: 2\n",
            "단어: 이제는  / 빈도: 2\n",
            "단어: I  / 빈도: 2\n",
            "단어: yesterday  / 빈도: 2\n",
            "단어: 갑자기  / 빈도: 2\n",
            "단어: 그-림-자-가  / 빈도: 2\n",
            "단어: 2021  / 빈도: 2\n"
          ]
        }
      ]
    },
    {
      "cell_type": "markdown",
      "metadata": {
        "id": "SF47WRUC4fU1"
      },
      "source": [
        "### 3) 소문자, 하이픈, 느낌표, 숫자를 제외하고 단어빈도 계산해서 출력 (빈도 1이하는 제외)\n",
        "\n",
        "* 소문자: 'Yesterday', 'yesterday'를 동일한 단어로 계산\n",
        "\n",
        "* 하이픈: '그림자가', '그-림-자-가'를 동일한 단어로 계산\n",
        "\n",
        "* 느낌표: 'oh', 'oh!'를 동일한 단어로 계산\n",
        "\n",
        "* 숫자: '2021'는 제외하고 계산"
      ]
    },
    {
      "cell_type": "code",
      "metadata": {
        "colab": {
          "base_uri": "https://localhost:8080/"
        },
        "id": "CNqgwGqZ30Rd",
        "outputId": "87bb1979-7fe4-4ce4-8e21-0afe2c36837a"
      },
      "source": [
        "wc3=myRdd\\\n",
        "    .flatMap(lambda x:x)\\\n",
        "    .flatMap(lambda x:x.split())\\\n",
        "    .map(lambda x: x.replace('!','').replace('-','').lower())\\\n",
        "    .filter(lambda x: x!='2021')\\\n",
        "    .map(lambda x:(x,1))\\\n",
        "    .reduceByKey(lambda x,y:x+y)\\\n",
        "    .map(lambda x:(x[1],x[0]))\\\n",
        "    .take(100)\n",
        "print(wc3)"
      ],
      "execution_count": 264,
      "outputs": [
        {
          "output_type": "stream",
          "name": "stdout",
          "text": [
            "[(3, 'yesterday'), (1, '어제는'), (1, 'all'), (1, 'my'), (1, 'troubles'), (1, 'seemed'), (3, 'to'), (1, 'far'), (1, 'away'), (3, '내'), (2, '모든'), (2, '문제들이'), (1, '참'), (1, '멀리'), (2, '있는'), (1, '것'), (1, '같았는데'), (1, 'now'), (1, 'it'), (1, 'looks'), (1, 'as'), (1, 'though'), (1, \"they're\"), (1, 'here'), (1, 'stay'), (2, '이제는'), (1, '그'), (1, '여기에'), (1, '것처럼'), (1, '보여'), (2, 'oh,'), (2, 'i'), (1, 'believe'), (1, 'in'), (2, '오,'), (1, '어제가'), (1, '좋았는데'), (2, 'suddenly'), (2, '갑자기'), (3, '그림자가'), (1, \"i'm\"), (1, 'not'), (1, 'half'), (1, 'the'), (1, 'man'), (1, 'used'), (1, 'be'), (1, '난'), (1, '예전'), (1, '모습의'), (1, '반도'), (1, '못한'), (1, '사람이'), (1, '되어버렸어'), (1, \"there's\"), (1, 'a'), (1, 'shadow'), (1, 'hanging'), (1, 'over'), (1, 'me'), (1, '위에'), (1, '드리워져'), (1, '있네'), (1, 'came'), (1, '너무'), (1, '와버렸어..')]\n"
          ]
        }
      ]
    },
    {
      "cell_type": "markdown",
      "metadata": {
        "id": "A8D8L-zV_mCU"
      },
      "source": [
        "#### 답)"
      ]
    },
    {
      "cell_type": "code",
      "metadata": {
        "colab": {
          "base_uri": "https://localhost:8080/"
        },
        "id": "nWep9LV-6XOK",
        "outputId": "19e6beec-dc0f-468a-ab30-cac3a08d5fc1"
      },
      "source": [
        "for i in wc3:\n",
        "  if i[0]>1:\n",
        "    print ('단어:',i[1], ' / 빈도:',i[0])"
      ],
      "execution_count": 265,
      "outputs": [
        {
          "output_type": "stream",
          "name": "stdout",
          "text": [
            "단어: yesterday  / 빈도: 3\n",
            "단어: to  / 빈도: 3\n",
            "단어: 내  / 빈도: 3\n",
            "단어: 모든  / 빈도: 2\n",
            "단어: 문제들이  / 빈도: 2\n",
            "단어: 있는  / 빈도: 2\n",
            "단어: 이제는  / 빈도: 2\n",
            "단어: oh,  / 빈도: 2\n",
            "단어: i  / 빈도: 2\n",
            "단어: 오,  / 빈도: 2\n",
            "단어: suddenly  / 빈도: 2\n",
            "단어: 갑자기  / 빈도: 2\n",
            "단어: 그림자가  / 빈도: 3\n"
          ]
        }
      ]
    },
    {
      "cell_type": "markdown",
      "metadata": {
        "id": "YWD879Su_vYL"
      },
      "source": [
        "### 4) 1글자 단어 (예를 들어 'i', '내') 제외하고 단어빈도 계산 (빈도 1이하는 제외)"
      ]
    },
    {
      "cell_type": "markdown",
      "metadata": {
        "id": "zsFAOVdO__-l"
      },
      "source": [
        "#### 답)"
      ]
    },
    {
      "cell_type": "code",
      "metadata": {
        "colab": {
          "base_uri": "https://localhost:8080/"
        },
        "id": "KDgzZH5D97Ra",
        "outputId": "f9c80a9b-6731-4d56-d2a6-76d1d7ea8a1b"
      },
      "source": [
        "for i in wc3:\n",
        "  if i[0]>1:\n",
        "    if len(i[1])>1:\n",
        "      print ('단어:',i[1], ' / 빈도:',i[0])"
      ],
      "execution_count": 268,
      "outputs": [
        {
          "output_type": "stream",
          "name": "stdout",
          "text": [
            "단어: yesterday  / 빈도: 3\n",
            "단어: to  / 빈도: 3\n",
            "단어: 모든  / 빈도: 2\n",
            "단어: 문제들이  / 빈도: 2\n",
            "단어: 있는  / 빈도: 2\n",
            "단어: 이제는  / 빈도: 2\n",
            "단어: oh,  / 빈도: 2\n",
            "단어: 오,  / 빈도: 2\n",
            "단어: suddenly  / 빈도: 2\n",
            "단어: 갑자기  / 빈도: 2\n",
            "단어: 그림자가  / 빈도: 3\n"
          ]
        }
      ]
    },
    {
      "cell_type": "markdown",
      "metadata": {
        "id": "hQcqxNTlAae3"
      },
      "source": [
        "추가적으로 '오,' 같은 단어들도 ','를 제외하여\n",
        "(```replace (',','') ```) 빈도를 출력하면 '오' 단어도 1글자 단어가 되어 단어빈도 계산에서 제외될 것 이다."
      ]
    },
    {
      "cell_type": "markdown",
      "metadata": {
        "id": "pne_gX6mA7gL"
      },
      "source": [
        "## 문제 3: DataFrame을 사용해서 코로나 발생동향 분석\n",
        "\n",
        "서울시 열린데이터에서 검색을 하면 '서울특별시 코로나19 자치구별 확진자 발생동향'이 있다.\n",
        "\n",
        "https://data.seoul.go.kr/dataList/OA-20470/S/1/datasetView.do\n",
        "\n",
        "데이터를 '내려받기'해서 '서울특별시\\ 코로나19\\ 자치구별\\ 확진자\\ 발생동향.json' 파일을 분석하세요.\n",
        "\n",
        "\n",
        "\n",
        "\n",
        "\n",
        "\n",
        "3) (null제거하고) 종로구의 2020년 3월 데이터 출력.\n",
        "\n",
        "+-------------+------+\n",
        "\n",
        "|       jcg_dt|jongno|\n",
        "\n",
        "+-------------+------+\n",
        "\n",
        "|2020.03.31.10|    13|\n",
        "\n",
        "...\n",
        "\n",
        "\n",
        "\n",
        "4) (null제거하고) 년 x 월별 합계 10건 출력.\n",
        "\n",
        "+-----+-------+-------+\n",
        "\n",
        "|month|   2020|   2021|\n",
        "\n",
        "+-----+-------+-------+\n",
        "\n",
        "|   07| 1273.0|62849.0|\n",
        "\n",
        "...\n",
        "\n",
        "\n"
      ]
    },
    {
      "cell_type": "markdown",
      "metadata": {
        "id": "sK1Xs5y4BO9Y"
      },
      "source": [
        "### 1) 전체 건수 출력. null 값을 제외한 null 건수 출력 (null이 남아있는지 확인하기 위해)"
      ]
    },
    {
      "cell_type": "code",
      "metadata": {
        "id": "uZuH2YWLEIZU"
      },
      "source": [
        "covid=spark.read.json('서울특별시 코로나19 자치구별 확진자 발생동향.json')"
      ],
      "execution_count": 417,
      "outputs": []
    },
    {
      "cell_type": "code",
      "metadata": {
        "colab": {
          "base_uri": "https://localhost:8080/"
        },
        "id": "0CiGpuTcJ2TK",
        "outputId": "502a3fee-80b4-4b0e-9853-41ac3335e00d"
      },
      "source": [
        "covid.show()"
      ],
      "execution_count": 418,
      "outputs": [
        {
          "output_type": "stream",
          "name": "stdout",
          "text": [
            "+--------------------+----+------+------+---------+-------+----------+----+-----+----+------+-------+----------+--------+-----------+-------+----------+-------+----------+---------+------------+----+-------+------+---------+--------+-----------+-------------+------+---------+------+---------+--------+-----------+----+-------+-----+--------+----+------+------+---------+--------+-----------+---------+------------+------+---------+-------------+---------+------------+----+------+-------+----------+\n",
            "|     _corrupt_record| ddm|ddmadd|dobong|dobongadd|dongjak|dongjakadd|  ep|epadd| etc|etcadd|gangbuk|gangbukadd|gangdong|gangdongadd|gangnam|gangnamadd|gangseo|gangseoadd|geumcheon|geumcheonadd|guro|guroadd|gwanak|gwanakadd|gwangjin|gwangjinadd|       jcg_dt|jongno|jongnoadd|junggu|jungguadd|jungnang|jungnangadd|mapo|mapoadd|nowon|nowonadd| sdm|sdmadd|seocho|seochoadd|seongbuk|seongbukadd|seongdong|seongdongadd|songpa|songpaadd|    work_dttm|yangcheon|yangcheonadd| ydp|ydpadd|yongsan|yongsanadd|\n",
            "+--------------------+----+------+------+---------+-------+----------+----+-----+----+------+-------+----------+--------+-----------+-------+----------+-------+----------+---------+------------+----+-------+------+---------+--------+-----------+-------------+------+---------+------+---------+--------+-----------+----+-------+-----+--------+----+------+------+---------+--------+-----------+---------+------------+------+---------+-------------+---------+------------+----+------+-------+----------+\n",
            "|                   {|null|  null|  null|     null|   null|      null|null| null|null|  null|   null|      null|    null|       null|   null|      null|   null|      null|     null|        null|null|   null|  null|     null|    null|       null|         null|  null|     null|  null|     null|    null|       null|null|   null| null|    null|null|  null|  null|     null|    null|       null|     null|        null|  null|     null|         null|     null|        null|null|  null|   null|      null|\n",
            "|\"DESCRIPTION\" : {...|null|  null|  null|     null|   null|      null|null| null|null|  null|   null|      null|    null|       null|   null|      null|   null|      null|     null|        null|null|   null|  null|     null|    null|       null|         null|  null|     null|  null|     null|    null|       null|null|   null| null|    null|null|  null|  null|     null|    null|       null|     null|        null|  null|     null|         null|     null|        null|null|  null|   null|      null|\n",
            "|          \"DATA\" : [|null|  null|  null|     null|   null|      null|null| null|null|  null|   null|      null|    null|       null|   null|      null|   null|      null|     null|        null|null|   null|  null|     null|    null|       null|         null|  null|     null|  null|     null|    null|       null|null|   null| null|    null|null|  null|  null|     null|    null|       null|     null|        null|  null|     null|         null|     null|        null|null|  null|   null|      null|\n",
            "|                null|4272|    24|  2987|        8|   4654|        16|4903|   16|7981|    32|   3123|        18|    4494|         37|   7699|        36|   5001|        31|     2608|          40|5460|     55|  5989|       13|    3916|         12|2021.10.23.00|  2036|       13|  2004|       14|    4273|         11|4191|     15| 4503|      26|3081|    14|  4607|       19|    4399|         27|     3179|           6|  7107|       13|1634983903000|     3688|           9|5211|    34|   3076|        12|\n",
            "|                null|4248|    30|  2979|       11|   4638|        29|4887|   21|7949|    37|   3105|        11|    4457|         26|   7664|        32|   4970|        21|     2568|          14|5405|     36|  5976|       22|    3904|         10|2021.10.22.00|  2023|       15|  1989|        6|    4262|         24|4176|     12| 4477|      23|3067|    10|  4588|       15|    4372|         21|     3173|          14|  7094|       24|1634897503000|     3679|          14|5177|    32|   3064|         9|\n",
            "|                null|4218|    22|  2968|       13|   4609|        28|4866|   21|7912|    30|   3094|        15|    4431|         13|   7632|        22|   4949|        14|     2554|          14|5369|     42|  5954|       30|    3894|         13|2021.10.21.00|  2008|       19|  1983|       15|    4238|         14|4164|      7| 4454|      27|3057|    14|  4573|       17|    4351|         21|     3159|           8|  7070|       23|1634811103000|     3665|          24|5145|    34|   3055|         6|\n",
            "|                null|4197|    20|  2955|       10|   4581|        24|4845|   18|7885|    24|   3080|        17|    4418|         21|   7609|        20|   4935|        18|     2540|          14|5328|     60|  5924|       22|    3881|         13|2021.10.20.00|  1989|       13|  1968|        9|    4224|         20|4157|     23| 4428|      22|3043|    16|  4556|       11|    4324|         17|     3151|          13|  7047|       19|1634724703000|     3641|          13|5111|    39|   3049|         8|\n",
            "|                null|4177|    12|  2945|        7|   4557|        22|4827|    9|7861|    13|   3063|         9|    4397|         16|   7589|        19|   4917|        16|     2526|          14|5268|     24|  5902|        9|    3868|          9|2021.10.19.00|  1977|        9|  1959|        2|    4204|         15|4134|      7| 4406|      18|3027|     3|  4545|        4|    4307|         13|     3138|           6|  7028|       13|1634638303000|     3628|           9|5072|    10|   3041|        10|\n",
            "|                null|4165|    10|  2938|       10|   4535|        12|4818|    9|7846|    25|   3054|         9|    4381|         20|   7570|        20|   4901|        13|     2512|          18|5244|     39|  5893|       16|    3859|          8|2021.10.18.00|  1968|       13|  1960|        4|    4189|         13|4127|      6| 4387|      10|3024|     7|  4541|        5|    4294|         25|     3132|          13|  7015|       14|1634551903000|     3619|           5|5062|    23|   3031|         8|\n",
            "|                null|4155|    18|  2928|       13|   4523|        21|4809|   28|7818|    36|   3045|        11|    4361|         29|   7550|        29|   4888|        22|     2494|          17|5205|     54|  5877|       19|    3851|         10|2021.10.17.00|  1958|        9|  1956|        8|    4176|         19|4121|      9| 4377|      18|3017|    16|  4536|        6|    4269|         20|     3119|          17|  7001|       18|1634465503000|     3614|           9|5039|    32|   3023|        18|\n",
            "|                null|4137|    20|  2915|        8|   4502|        22|4781|   31|7781|    28|   3034|        17|    4332|         29|   7521|        36|   4866|        11|     2477|          23|5151|     76|  5858|       36|    3841|         10|2021.10.16.00|  1949|       21|  1949|       11|    4157|         18|4112|     10| 4359|      22|3001|    18|  4530|        9|    4249|         31|     3102|          15|  6983|       31|1634379103000|     3605|           6|5007|    36|   3006|        11|\n",
            "|                null|4117|    44|  2907|       16|   4480|        20|4750|   33|7756|    32|   3017|        26|    4303|         26|   7485|        33|   4855|        15|     2454|          33|5075|     84|  5822|       24|    3832|         25|2021.10.15.00|  1925|       25|  1938|        8|    4139|         28|4102|     20| 4337|      22|2983|    25|  4521|       10|    4218|         30|     3087|          15|  6952|       29|1634292702000|     3599|           8|4971|    31|   2995|        19|\n",
            "|                null|4073|    30|  2891|       22|   4460|        26|4717|   41|7722|    46|   2993|        22|    4277|         35|   7450|        42|   4840|        19|     2421|          38|4991|     73|  5798|       37|    3807|         23|2021.10.14.00|  1900|       21|  1930|        8|    4111|         25|4082|     22| 4315|      38|2960|    11|  4511|       11|    4188|         27|     3072|           8|  6923|       35|1634206302000|     3592|          16|4940|    53|   2976|        19|\n",
            "|                null|4043|    32|  2869|       10|   4434|        13|4677|   27|7676|    31|   2971|        16|    4242|         24|   7408|        37|   4821|        24|     2384|          17|4918|     59|  5761|       23|    3784|         12|2021.10.13.00|  1879|       14|  1922|        9|    4086|         25|4060|     25| 4277|      26|2949|    16|  4500|       15|    4161|         29|     3064|          12|  6888|       30|1634119902000|     3576|           9|4888|    29|   2957|        19|\n",
            "|                null|4011|    19|  2859|        7|   4421|        20|4650|   15|7635|    27|   2969|        31|    4218|         15|   7371|        48|   4797|        23|     2367|          11|4860|     35|  5738|       15|    3772|         18|2021.10.12.00|  1865|       12|  1913|        5|    4061|         17|4035|     12| 4251|      19|2933|    14|  4485|        9|    4132|         24|     3052|          11|  6858|       19|1634033502000|     3567|          17|4859|    17|   2938|        22|\n",
            "|                null|3992|    25|  2852|       19|   4401|        14|4635|   19|7608|    22|   2938|        15|    4203|         20|   7323|        27|   4774|        16|     2356|          28|4825|     51|  5723|       20|    3754|         24|2021.10.11.00|  1853|       11|  1908|        9|    4044|         17|4023|     11| 4232|      34|2919|     8|  4476|       13|    4108|         21|     3041|          15|  6839|       24|1633947102000|     3550|          13|4842|    25|   2916|        10|\n",
            "|                null|3967|    29|  2833|       12|   4387|        23|4616|   31|7586|    29|   2923|        21|    4183|         31|   7296|        28|   4758|        23|     2328|          23|4774|     64|  5703|       24|    3730|         24|2021.10.10.00|  1842|       11|  1899|        7|    4027|         21|4012|     18| 4198|      24|2911|    12|  4463|        7|    4087|         22|     3026|           7|  6815|       35|1633860702000|     3537|           9|4817|    20|   2906|        28|\n",
            "|                null|3938|    55|  2821|       12|   4364|        32|4584|   28|7557|    38|   2903|        32|    4151|         26|   7268|        35|   4735|        27|     2305|          29|4710|     51|  5679|       21|    3706|         15|2021.10.09.00|  1831|       16|  1892|       17|    4006|         21|3994|     26| 4174|      30|2899|    26|  4456|       15|    4066|         34|     3019|          14|  6780|       35|1633774302000|     3528|          22|4797|    30|   2878|        25|\n",
            "|                null|3881|    39|  2809|       22|   4331|        31|4553|   36|7529|    32|   2870|        31|    4124|         41|   7235|        31|   4708|        24|     2275|          25|4658|     56|  5658|       25|    3691|         20|2021.10.08.00|  1816|       30|  1875|       12|    3984|         36|3969|     34| 4150|      38|2874|    21|  4440|       22|    4031|         31|     3005|          10|  6740|       44|1633687902000|     3505|          31|4768|    41|   2853|        13|\n",
            "|                null|3843|    51|  2787|       30|   4299|        22|4517|   39|7498|    63|   2839|        34|    4083|         46|   7204|        22|   4684|        35|     2250|          20|4601|     65|  5633|       25|    3671|         17|2021.10.07.00|  1785|       25|  1864|       25|    3948|         26|3935|     24| 4112|      36|2853|    20|  4418|       24|    4001|         36|     2995|          10|  6696|       52|1633601502000|     3474|          31|4728|    44|   2840|        15|\n",
            "+--------------------+----+------+------+---------+-------+----------+----+-----+----+------+-------+----------+--------+-----------+-------+----------+-------+----------+---------+------------+----+-------+------+---------+--------+-----------+-------------+------+---------+------+---------+--------+-----------+----+-------+-----+--------+----+------+------+---------+--------+-----------+---------+------------+------+---------+-------------+---------+------------+----+------+-------+----------+\n",
            "only showing top 20 rows\n",
            "\n"
          ]
        }
      ]
    },
    {
      "cell_type": "code",
      "metadata": {
        "colab": {
          "base_uri": "https://localhost:8080/"
        },
        "id": "XJKDK6F9GPMq",
        "outputId": "d903f12a-ea3b-4ecc-9fd6-7c724862f07e"
      },
      "source": [
        "covid.dropna()"
      ],
      "execution_count": 410,
      "outputs": [
        {
          "output_type": "execute_result",
          "data": {
            "text/plain": [
              "DataFrame[_corrupt_record: string, ddm: string, ddmadd: string, dobong: string, dobongadd: string, dongjak: string, dongjakadd: string, ep: string, epadd: string, etc: string, etcadd: string, gangbuk: string, gangbukadd: string, gangdong: string, gangdongadd: string, gangnam: string, gangnamadd: string, gangseo: string, gangseoadd: string, geumcheon: string, geumcheonadd: string, guro: string, guroadd: string, gwanak: string, gwanakadd: string, gwangjin: string, gwangjinadd: string, jcg_dt: string, jongno: string, jongnoadd: string, junggu: string, jungguadd: string, jungnang: string, jungnangadd: string, mapo: string, mapoadd: string, nowon: string, nowonadd: string, sdm: string, sdmadd: string, seocho: string, seochoadd: string, seongbuk: string, seongbukadd: string, seongdong: string, seongdongadd: string, songpa: string, songpaadd: string, work_dttm: bigint, yangcheon: string, yangcheonadd: string, ydp: string, ydpadd: string, yongsan: string, yongsanadd: string]"
            ]
          },
          "metadata": {},
          "execution_count": 410
        }
      ]
    },
    {
      "cell_type": "code",
      "metadata": {
        "colab": {
          "base_uri": "https://localhost:8080/"
        },
        "id": "lZPYAbsaLXrx",
        "outputId": "50afd784-a70d-4dec-a976-6f4a6412b2e0"
      },
      "source": [
        "covid.show()"
      ],
      "execution_count": 411,
      "outputs": [
        {
          "output_type": "stream",
          "name": "stdout",
          "text": [
            "+--------------------+----+------+------+---------+-------+----------+----+-----+----+------+-------+----------+--------+-----------+-------+----------+-------+----------+---------+------------+----+-------+------+---------+--------+-----------+-------------+------+---------+------+---------+--------+-----------+----+-------+-----+--------+----+------+------+---------+--------+-----------+---------+------------+------+---------+-------------+---------+------------+----+------+-------+----------+\n",
            "|     _corrupt_record| ddm|ddmadd|dobong|dobongadd|dongjak|dongjakadd|  ep|epadd| etc|etcadd|gangbuk|gangbukadd|gangdong|gangdongadd|gangnam|gangnamadd|gangseo|gangseoadd|geumcheon|geumcheonadd|guro|guroadd|gwanak|gwanakadd|gwangjin|gwangjinadd|       jcg_dt|jongno|jongnoadd|junggu|jungguadd|jungnang|jungnangadd|mapo|mapoadd|nowon|nowonadd| sdm|sdmadd|seocho|seochoadd|seongbuk|seongbukadd|seongdong|seongdongadd|songpa|songpaadd|    work_dttm|yangcheon|yangcheonadd| ydp|ydpadd|yongsan|yongsanadd|\n",
            "+--------------------+----+------+------+---------+-------+----------+----+-----+----+------+-------+----------+--------+-----------+-------+----------+-------+----------+---------+------------+----+-------+------+---------+--------+-----------+-------------+------+---------+------+---------+--------+-----------+----+-------+-----+--------+----+------+------+---------+--------+-----------+---------+------------+------+---------+-------------+---------+------------+----+------+-------+----------+\n",
            "|                   {|null|  null|  null|     null|   null|      null|null| null|null|  null|   null|      null|    null|       null|   null|      null|   null|      null|     null|        null|null|   null|  null|     null|    null|       null|         null|  null|     null|  null|     null|    null|       null|null|   null| null|    null|null|  null|  null|     null|    null|       null|     null|        null|  null|     null|         null|     null|        null|null|  null|   null|      null|\n",
            "|\"DESCRIPTION\" : {...|null|  null|  null|     null|   null|      null|null| null|null|  null|   null|      null|    null|       null|   null|      null|   null|      null|     null|        null|null|   null|  null|     null|    null|       null|         null|  null|     null|  null|     null|    null|       null|null|   null| null|    null|null|  null|  null|     null|    null|       null|     null|        null|  null|     null|         null|     null|        null|null|  null|   null|      null|\n",
            "|          \"DATA\" : [|null|  null|  null|     null|   null|      null|null| null|null|  null|   null|      null|    null|       null|   null|      null|   null|      null|     null|        null|null|   null|  null|     null|    null|       null|         null|  null|     null|  null|     null|    null|       null|null|   null| null|    null|null|  null|  null|     null|    null|       null|     null|        null|  null|     null|         null|     null|        null|null|  null|   null|      null|\n",
            "|                null|4272|    24|  2987|        8|   4654|        16|4903|   16|7981|    32|   3123|        18|    4494|         37|   7699|        36|   5001|        31|     2608|          40|5460|     55|  5989|       13|    3916|         12|2021.10.23.00|  2036|       13|  2004|       14|    4273|         11|4191|     15| 4503|      26|3081|    14|  4607|       19|    4399|         27|     3179|           6|  7107|       13|1634983903000|     3688|           9|5211|    34|   3076|        12|\n",
            "|                null|4248|    30|  2979|       11|   4638|        29|4887|   21|7949|    37|   3105|        11|    4457|         26|   7664|        32|   4970|        21|     2568|          14|5405|     36|  5976|       22|    3904|         10|2021.10.22.00|  2023|       15|  1989|        6|    4262|         24|4176|     12| 4477|      23|3067|    10|  4588|       15|    4372|         21|     3173|          14|  7094|       24|1634897503000|     3679|          14|5177|    32|   3064|         9|\n",
            "|                null|4218|    22|  2968|       13|   4609|        28|4866|   21|7912|    30|   3094|        15|    4431|         13|   7632|        22|   4949|        14|     2554|          14|5369|     42|  5954|       30|    3894|         13|2021.10.21.00|  2008|       19|  1983|       15|    4238|         14|4164|      7| 4454|      27|3057|    14|  4573|       17|    4351|         21|     3159|           8|  7070|       23|1634811103000|     3665|          24|5145|    34|   3055|         6|\n",
            "|                null|4197|    20|  2955|       10|   4581|        24|4845|   18|7885|    24|   3080|        17|    4418|         21|   7609|        20|   4935|        18|     2540|          14|5328|     60|  5924|       22|    3881|         13|2021.10.20.00|  1989|       13|  1968|        9|    4224|         20|4157|     23| 4428|      22|3043|    16|  4556|       11|    4324|         17|     3151|          13|  7047|       19|1634724703000|     3641|          13|5111|    39|   3049|         8|\n",
            "|                null|4177|    12|  2945|        7|   4557|        22|4827|    9|7861|    13|   3063|         9|    4397|         16|   7589|        19|   4917|        16|     2526|          14|5268|     24|  5902|        9|    3868|          9|2021.10.19.00|  1977|        9|  1959|        2|    4204|         15|4134|      7| 4406|      18|3027|     3|  4545|        4|    4307|         13|     3138|           6|  7028|       13|1634638303000|     3628|           9|5072|    10|   3041|        10|\n",
            "|                null|4165|    10|  2938|       10|   4535|        12|4818|    9|7846|    25|   3054|         9|    4381|         20|   7570|        20|   4901|        13|     2512|          18|5244|     39|  5893|       16|    3859|          8|2021.10.18.00|  1968|       13|  1960|        4|    4189|         13|4127|      6| 4387|      10|3024|     7|  4541|        5|    4294|         25|     3132|          13|  7015|       14|1634551903000|     3619|           5|5062|    23|   3031|         8|\n",
            "|                null|4155|    18|  2928|       13|   4523|        21|4809|   28|7818|    36|   3045|        11|    4361|         29|   7550|        29|   4888|        22|     2494|          17|5205|     54|  5877|       19|    3851|         10|2021.10.17.00|  1958|        9|  1956|        8|    4176|         19|4121|      9| 4377|      18|3017|    16|  4536|        6|    4269|         20|     3119|          17|  7001|       18|1634465503000|     3614|           9|5039|    32|   3023|        18|\n",
            "|                null|4137|    20|  2915|        8|   4502|        22|4781|   31|7781|    28|   3034|        17|    4332|         29|   7521|        36|   4866|        11|     2477|          23|5151|     76|  5858|       36|    3841|         10|2021.10.16.00|  1949|       21|  1949|       11|    4157|         18|4112|     10| 4359|      22|3001|    18|  4530|        9|    4249|         31|     3102|          15|  6983|       31|1634379103000|     3605|           6|5007|    36|   3006|        11|\n",
            "|                null|4117|    44|  2907|       16|   4480|        20|4750|   33|7756|    32|   3017|        26|    4303|         26|   7485|        33|   4855|        15|     2454|          33|5075|     84|  5822|       24|    3832|         25|2021.10.15.00|  1925|       25|  1938|        8|    4139|         28|4102|     20| 4337|      22|2983|    25|  4521|       10|    4218|         30|     3087|          15|  6952|       29|1634292702000|     3599|           8|4971|    31|   2995|        19|\n",
            "|                null|4073|    30|  2891|       22|   4460|        26|4717|   41|7722|    46|   2993|        22|    4277|         35|   7450|        42|   4840|        19|     2421|          38|4991|     73|  5798|       37|    3807|         23|2021.10.14.00|  1900|       21|  1930|        8|    4111|         25|4082|     22| 4315|      38|2960|    11|  4511|       11|    4188|         27|     3072|           8|  6923|       35|1634206302000|     3592|          16|4940|    53|   2976|        19|\n",
            "|                null|4043|    32|  2869|       10|   4434|        13|4677|   27|7676|    31|   2971|        16|    4242|         24|   7408|        37|   4821|        24|     2384|          17|4918|     59|  5761|       23|    3784|         12|2021.10.13.00|  1879|       14|  1922|        9|    4086|         25|4060|     25| 4277|      26|2949|    16|  4500|       15|    4161|         29|     3064|          12|  6888|       30|1634119902000|     3576|           9|4888|    29|   2957|        19|\n",
            "|                null|4011|    19|  2859|        7|   4421|        20|4650|   15|7635|    27|   2969|        31|    4218|         15|   7371|        48|   4797|        23|     2367|          11|4860|     35|  5738|       15|    3772|         18|2021.10.12.00|  1865|       12|  1913|        5|    4061|         17|4035|     12| 4251|      19|2933|    14|  4485|        9|    4132|         24|     3052|          11|  6858|       19|1634033502000|     3567|          17|4859|    17|   2938|        22|\n",
            "|                null|3992|    25|  2852|       19|   4401|        14|4635|   19|7608|    22|   2938|        15|    4203|         20|   7323|        27|   4774|        16|     2356|          28|4825|     51|  5723|       20|    3754|         24|2021.10.11.00|  1853|       11|  1908|        9|    4044|         17|4023|     11| 4232|      34|2919|     8|  4476|       13|    4108|         21|     3041|          15|  6839|       24|1633947102000|     3550|          13|4842|    25|   2916|        10|\n",
            "|                null|3967|    29|  2833|       12|   4387|        23|4616|   31|7586|    29|   2923|        21|    4183|         31|   7296|        28|   4758|        23|     2328|          23|4774|     64|  5703|       24|    3730|         24|2021.10.10.00|  1842|       11|  1899|        7|    4027|         21|4012|     18| 4198|      24|2911|    12|  4463|        7|    4087|         22|     3026|           7|  6815|       35|1633860702000|     3537|           9|4817|    20|   2906|        28|\n",
            "|                null|3938|    55|  2821|       12|   4364|        32|4584|   28|7557|    38|   2903|        32|    4151|         26|   7268|        35|   4735|        27|     2305|          29|4710|     51|  5679|       21|    3706|         15|2021.10.09.00|  1831|       16|  1892|       17|    4006|         21|3994|     26| 4174|      30|2899|    26|  4456|       15|    4066|         34|     3019|          14|  6780|       35|1633774302000|     3528|          22|4797|    30|   2878|        25|\n",
            "|                null|3881|    39|  2809|       22|   4331|        31|4553|   36|7529|    32|   2870|        31|    4124|         41|   7235|        31|   4708|        24|     2275|          25|4658|     56|  5658|       25|    3691|         20|2021.10.08.00|  1816|       30|  1875|       12|    3984|         36|3969|     34| 4150|      38|2874|    21|  4440|       22|    4031|         31|     3005|          10|  6740|       44|1633687902000|     3505|          31|4768|    41|   2853|        13|\n",
            "|                null|3843|    51|  2787|       30|   4299|        22|4517|   39|7498|    63|   2839|        34|    4083|         46|   7204|        22|   4684|        35|     2250|          20|4601|     65|  5633|       25|    3671|         17|2021.10.07.00|  1785|       25|  1864|       25|    3948|         26|3935|     24| 4112|      36|2853|    20|  4418|       24|    4001|         36|     2995|          10|  6696|       52|1633601502000|     3474|          31|4728|    44|   2840|        15|\n",
            "+--------------------+----+------+------+---------+-------+----------+----+-----+----+------+-------+----------+--------+-----------+-------+----------+-------+----------+---------+------------+----+-------+------+---------+--------+-----------+-------------+------+---------+------+---------+--------+-----------+----+-------+-----+--------+----+------+------+---------+--------+-----------+---------+------------+------+---------+-------------+---------+------------+----+------+-------+----------+\n",
            "only showing top 20 rows\n",
            "\n"
          ]
        }
      ]
    },
    {
      "cell_type": "code",
      "metadata": {
        "id": "WJI8L2grNleL"
      },
      "source": [
        "import pandas as pd\n",
        "covid=covid.toPandas() "
      ],
      "execution_count": 424,
      "outputs": []
    },
    {
      "cell_type": "code",
      "metadata": {
        "id": "EVWNSHisNrAO"
      },
      "source": [
        "covid=covid[3:]"
      ],
      "execution_count": 425,
      "outputs": []
    },
    {
      "cell_type": "code",
      "metadata": {
        "colab": {
          "base_uri": "https://localhost:8080/"
        },
        "id": "swLnNXbVN0B7",
        "outputId": "e2912a81-80ee-4c0d-ce80-ed2b451cc315"
      },
      "source": [
        "len(covid)"
      ],
      "execution_count": 426,
      "outputs": [
        {
          "output_type": "execute_result",
          "data": {
            "text/plain": [
              "630"
            ]
          },
          "metadata": {},
          "execution_count": 426
        }
      ]
    },
    {
      "cell_type": "markdown",
      "metadata": {
        "id": "ItqK6WfSNLtU"
      },
      "source": [
        "#### 답) 총 630건의 데이터입니다.\n",
        "\n"
      ]
    },
    {
      "cell_type": "markdown",
      "metadata": {
        "id": "RyJ8bcCVNHog"
      },
      "source": [
        "### 2) (null제거하고) 종로, 마포, 용산, 합계 (종로, 마포, 용산) 10건 출력.\n",
        "\n",
        "+------+----+-------+------+\n",
        "\n",
        "|jongno|mapo|yongsan|   tot|\n",
        "\n",
        "+------+----+-------+------+\n",
        "\n",
        "|  1968|4127|   3031|9126.0|"
      ]
    },
    {
      "cell_type": "markdown",
      "metadata": {
        "id": "ea2IvZJDOwSl"
      },
      "source": [
        "뒤의 문제는 시간이 없어서 못풀었습니다."
      ]
    }
  ]
}