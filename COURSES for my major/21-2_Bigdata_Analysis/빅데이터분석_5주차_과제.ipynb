{
  "nbformat": 4,
  "nbformat_minor": 0,
  "metadata": {
    "colab": {
      "name": "빅데이터분석_5주차_과제",
      "provenance": [],
      "collapsed_sections": []
    },
    "kernelspec": {
      "name": "python3",
      "display_name": "Python 3"
    },
    "language_info": {
      "name": "python"
    }
  },
  "cells": [
    {
      "cell_type": "markdown",
      "metadata": {
        "id": "gH_7Jaeub3xZ"
      },
      "source": [
        "# 201910803 박채희 5주차 과제"
      ]
    },
    {
      "cell_type": "code",
      "metadata": {
        "id": "5VrjLVO7V0tC"
      },
      "source": [
        "import pyspark"
      ],
      "execution_count": 14,
      "outputs": []
    },
    {
      "cell_type": "code",
      "metadata": {
        "id": "4BM3X2u_V116"
      },
      "source": [
        "myConf=pyspark.SparkConf()\n",
        "spark=pyspark.sql.SparkSession.builder.master(\"local\").appName(\"myApp\").config(conf=myConf).getOrCreate()"
      ],
      "execution_count": 15,
      "outputs": []
    },
    {
      "cell_type": "code",
      "metadata": {
        "id": "2IUjkHUWV2sl"
      },
      "source": [
        "data = [('김하나','English',100),('김하나','Math',80),('임하나','English',70),('임하나','Math',100),('김갑돌','English',82.3),('김갑돌','Math',98.5)]\n",
        "\n",
        "Rdd=spark.sparkContext.parallelize(data)"
      ],
      "execution_count": 28,
      "outputs": []
    },
    {
      "cell_type": "markdown",
      "metadata": {
        "id": "CI3cL1ARWYYB"
      },
      "source": [
        "## 3-1. 이름으로 합계 구하기"
      ]
    },
    {
      "cell_type": "code",
      "metadata": {
        "id": "QIgj-RW6WBmp"
      },
      "source": [
        "s1 = Rdd.map(lambda x: (x[0], x[2]))"
      ],
      "execution_count": 29,
      "outputs": []
    },
    {
      "cell_type": "code",
      "metadata": {
        "id": "FTnBxmArWj5k"
      },
      "source": [
        "t1 = s1.combineByKey(lambda value: value,\n",
        "                     lambda x,value: x+value,\n",
        "                     lambda x: x)"
      ],
      "execution_count": 30,
      "outputs": []
    },
    {
      "cell_type": "code",
      "metadata": {
        "colab": {
          "base_uri": "https://localhost:8080/"
        },
        "id": "PxHyJaH4Wk8L",
        "outputId": "f346766c-0870-4129-dbc0-1e654518ab55"
      },
      "source": [
        "t1.collect()"
      ],
      "execution_count": 31,
      "outputs": [
        {
          "output_type": "execute_result",
          "data": {
            "text/plain": [
              "[('김하나', 180), ('임하나', 170), ('김갑돌', 180.8)]"
            ]
          },
          "metadata": {},
          "execution_count": 31
        }
      ]
    },
    {
      "cell_type": "markdown",
      "metadata": {
        "id": "cliCyruBW8xA"
      },
      "source": [
        "## 3-2. 과목으로 합계 구하기"
      ]
    },
    {
      "cell_type": "code",
      "metadata": {
        "id": "6Ce4dENkXA-G"
      },
      "source": [
        "s2=Rdd.map(lambda x: (x[1], x[2]))"
      ],
      "execution_count": 32,
      "outputs": []
    },
    {
      "cell_type": "code",
      "metadata": {
        "id": "s8nTBJ_xXllT"
      },
      "source": [
        "t2 = s2.combineByKey(lambda value: value,\n",
        "                     lambda x,value: x+value,\n",
        "                     lambda x: x)"
      ],
      "execution_count": 35,
      "outputs": []
    },
    {
      "cell_type": "code",
      "metadata": {
        "colab": {
          "base_uri": "https://localhost:8080/"
        },
        "id": "uPSd4ZtqXnTe",
        "outputId": "6f4e16d8-25ae-449c-8706-7e1c7acf4062"
      },
      "source": [
        "t2.collect()"
      ],
      "execution_count": 36,
      "outputs": [
        {
          "output_type": "execute_result",
          "data": {
            "text/plain": [
              "[('English', 252.3), ('Math', 278.5)]"
            ]
          },
          "metadata": {},
          "execution_count": 36
        }
      ]
    },
    {
      "cell_type": "markdown",
      "metadata": {
        "id": "Y5IfAxWsXxs3"
      },
      "source": [
        "## 3-3. 이름으로 합계와 개수 구하기"
      ]
    },
    {
      "cell_type": "code",
      "metadata": {
        "id": "ghR6YXK9YAHc"
      },
      "source": [
        "s3 = Rdd.map(lambda x: (x[0], x[2]))"
      ],
      "execution_count": 37,
      "outputs": []
    },
    {
      "cell_type": "code",
      "metadata": {
        "id": "Pwr7rqRwXpeg"
      },
      "source": [
        "t3 = s3.combineByKey(lambda value: (value,1),\n",
        "                     lambda x,value: (x[0]+value, x[1]+1),\n",
        "                     lambda x,y: (x[0]+y[0], x[1]+y[1]))"
      ],
      "execution_count": 39,
      "outputs": []
    },
    {
      "cell_type": "code",
      "metadata": {
        "colab": {
          "base_uri": "https://localhost:8080/"
        },
        "id": "-taA_3miYADf",
        "outputId": "f17c4130-3099-4648-e5a7-f0124c09f021"
      },
      "source": [
        "t3.collect()"
      ],
      "execution_count": 40,
      "outputs": [
        {
          "output_type": "execute_result",
          "data": {
            "text/plain": [
              "[('김하나', (180, 2)), ('임하나', (170, 2)), ('김갑돌', (180.8, 2))]"
            ]
          },
          "metadata": {},
          "execution_count": 40
        }
      ]
    },
    {
      "cell_type": "markdown",
      "metadata": {
        "id": "wZzpErYtYSSt"
      },
      "source": [
        "## 3-4. 이름으로 평균 구하기"
      ]
    },
    {
      "cell_type": "code",
      "metadata": {
        "id": "YGTr-0fLXxkQ"
      },
      "source": [
        "s4 = t3.map(lambda x: (x[0],x[1][0]/x[1][1]))"
      ],
      "execution_count": 55,
      "outputs": []
    },
    {
      "cell_type": "code",
      "metadata": {
        "colab": {
          "base_uri": "https://localhost:8080/"
        },
        "id": "44HWY2PdZVc4",
        "outputId": "74a6de63-820f-4229-ab03-099c092ab7b3"
      },
      "source": [
        "s4.collectAsMap()"
      ],
      "execution_count": 56,
      "outputs": [
        {
          "output_type": "execute_result",
          "data": {
            "text/plain": [
              "{'김갑돌': 90.4, '김하나': 90.0, '임하나': 85.0}"
            ]
          },
          "metadata": {},
          "execution_count": 56
        }
      ]
    }
  ]
}