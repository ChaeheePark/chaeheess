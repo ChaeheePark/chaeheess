{
  "nbformat": 4,
  "nbformat_minor": 0,
  "metadata": {
    "colab": {
      "name": "빅데이터분석_7주차_과제.ipynb",
      "provenance": [],
      "collapsed_sections": []
    },
    "kernelspec": {
      "name": "python3",
      "display_name": "Python 3"
    },
    "language_info": {
      "name": "python"
    }
  },
  "cells": [
    {
      "cell_type": "markdown",
      "metadata": {
        "id": "kAJ9aQjfVk3l"
      },
      "source": [
        "## 빅데이터분석 7주차과제 201910803 박채희"
      ]
    },
    {
      "cell_type": "markdown",
      "metadata": {
        "id": "tHTzbUVCVzN0"
      },
      "source": [
        "### 1-1 성적데이터로 DataFrame을 생성"
      ]
    },
    {
      "cell_type": "code",
      "metadata": {
        "id": "X7kLB0jN3R00"
      },
      "source": [
        "import pyspark"
      ],
      "execution_count": 39,
      "outputs": []
    },
    {
      "cell_type": "code",
      "metadata": {
        "id": "FJLWLmuB3Ss4"
      },
      "source": [
        "myConf=pyspark.SparkConf()\n",
        "spark=pyspark.sql.SparkSession.builder.master(\"local\").appName(\"myApp\").config(conf=myConf).getOrCreate()"
      ],
      "execution_count": 40,
      "outputs": []
    },
    {
      "cell_type": "code",
      "metadata": {
        "id": "0Lvs48_n3TgD"
      },
      "source": [
        "marks=[\n",
        "    \"김하나, English, 100\",\n",
        "    \"김하나, Math, 80\",\n",
        "    \"임하나, English, 70\",\n",
        "    \"임하나, Math, 100\",\n",
        "    \"김갑돌, English, 82.3\",\n",
        "    \"김갑돌, Math, 98.5\"\n",
        "]"
      ],
      "execution_count": 42,
      "outputs": []
    },
    {
      "cell_type": "code",
      "metadata": {
        "id": "Yd-gTLHZV3rj"
      },
      "source": [
        "rdd = spark.sparkContext.parallelize(marks).map(lambda x : x.split(','))"
      ],
      "execution_count": 43,
      "outputs": []
    },
    {
      "cell_type": "code",
      "metadata": {
        "id": "7EdNAcapWEkF"
      },
      "source": [
        "df = spark.createDataFrame(rdd, schema=['이름','과목','점수'])"
      ],
      "execution_count": 44,
      "outputs": []
    },
    {
      "cell_type": "code",
      "metadata": {
        "colab": {
          "base_uri": "https://localhost:8080/"
        },
        "id": "ZjVvlvXIWMYG",
        "outputId": "be456ce5-1b5f-49ba-dd49-8b3e98eac243"
      },
      "source": [
        "df.show()"
      ],
      "execution_count": 45,
      "outputs": [
        {
          "output_type": "stream",
          "name": "stdout",
          "text": [
            "+------+--------+-----+\n",
            "|  이름|    과목| 점수|\n",
            "+------+--------+-----+\n",
            "|김하나| English|  100|\n",
            "|김하나|    Math|   80|\n",
            "|임하나| English|   70|\n",
            "|임하나|    Math|  100|\n",
            "|김갑돌| English| 82.3|\n",
            "|김갑돌|    Math| 98.5|\n",
            "+------+--------+-----+\n",
            "\n"
          ]
        }
      ]
    },
    {
      "cell_type": "markdown",
      "metadata": {
        "id": "s4ilUI2SWZE4"
      },
      "source": [
        "### 1-2 zscore 컬럼을 생성"
      ]
    },
    {
      "cell_type": "code",
      "metadata": {
        "id": "1-eCkPVlWQoL"
      },
      "source": [
        "import numpy as np\n",
        "from pyspark.sql.functions import udf\n",
        "\n",
        "X = df.select('점수').rdd.map(lambda x: float(x[0])).collect()\n",
        "xbar=float(np.mean(X))\n",
        "sx=float(np.std(X,ddof=1))\n",
        "\n",
        "zscoreUdf = udf(lambda x: (float(x)-xbar)/sx)\n",
        "   \n",
        "df = df.withColumn('zscore',zscoreUdf(df['점수']))"
      ],
      "execution_count": 56,
      "outputs": []
    },
    {
      "cell_type": "code",
      "metadata": {
        "colab": {
          "base_uri": "https://localhost:8080/"
        },
        "id": "a2kdZlu2Y4y0",
        "outputId": "ab64a4a2-52a8-4966-c5f9-a4a953004d38"
      },
      "source": [
        "df.show()"
      ],
      "execution_count": 57,
      "outputs": [
        {
          "output_type": "stream",
          "name": "stdout",
          "text": [
            "+------+--------+-----+-------------------+\n",
            "|  이름|    과목| 점수|             zscore|\n",
            "+------+--------+-----+-------------------+\n",
            "|김하나| English|  100| 0.9020148231647499|\n",
            "|김하나|    Math|   80| -0.662172731456202|\n",
            "|임하나| English|   70| -1.444266508766678|\n",
            "|임하나|    Math|  100| 0.9020148231647499|\n",
            "|김갑돌| English| 82.3|-0.4822911626747928|\n",
            "|김갑돌|    Math| 98.5| 0.7847007565681785|\n",
            "+------+--------+-----+-------------------+\n",
            "\n"
          ]
        }
      ]
    },
    {
      "cell_type": "markdown",
      "metadata": {
        "id": "t_9eV-Kndqq-"
      },
      "source": [
        "### 1-3 cdf 컬럼을 생성"
      ]
    },
    {
      "cell_type": "code",
      "metadata": {
        "id": "dSINqs0ia_bA"
      },
      "source": [
        "from scipy.stats import norm\n",
        "\n",
        "cdfUdf = udf(lambda x : float(norm.cdf(x)))\n",
        "df = df.withColumn('cdf',cdfUdf(df['zscore']))"
      ],
      "execution_count": 82,
      "outputs": []
    },
    {
      "cell_type": "code",
      "metadata": {
        "colab": {
          "base_uri": "https://localhost:8080/"
        },
        "id": "jj0Bhw4AeqwZ",
        "outputId": "2c50d674-3ea3-4afc-c1e4-5e0fb580a6ef"
      },
      "source": [
        "df.show()"
      ],
      "execution_count": 83,
      "outputs": [
        {
          "output_type": "stream",
          "name": "stdout",
          "text": [
            "+------+--------+-----+-------------------+-------------------+\n",
            "|  이름|    과목| 점수|             zscore|                cdf|\n",
            "+------+--------+-----+-------------------+-------------------+\n",
            "|김하나| English|  100| 0.9020148231647499| 0.8164755032306112|\n",
            "|김하나|    Math|   80| -0.662172731456202| 0.2539302639589459|\n",
            "|임하나| English|   70| -1.444266508766678|0.07433201139097219|\n",
            "|임하나|    Math|  100| 0.9020148231647499| 0.8164755032306112|\n",
            "|김갑돌| English| 82.3|-0.4822911626747928|0.31479956212721416|\n",
            "|김갑돌|    Math| 98.5| 0.7847007565681785| 0.7836854804484269|\n",
            "+------+--------+-----+-------------------+-------------------+\n",
            "\n"
          ]
        }
      ]
    }
  ]
}