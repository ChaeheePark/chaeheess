{
 "cells": [
  {
   "cell_type": "code",
   "execution_count": 7,
   "metadata": {},
   "outputs": [
    {
     "name": "stdout",
     "output_type": "stream",
     "text": [
      "Overwriting src/mylib.py\n"
     ]
    }
   ],
   "source": [
    "%%writefile src/mylib.py\n",
    "def sayHello():\n",
    "    print(\"hello\")\n",
    "\n",
    "def getKey(keyPath):\n",
    "    d=dict()\n",
    "    f=open(keyPath,'r')\n",
    "    for line in f.readlines():\n",
    "        row=line.split('=')\n",
    "        row0=row[0]\n",
    "        d[row0]=row[1].strip()\n",
    "    return d"
   ]
  },
  {
   "cell_type": "code",
   "execution_count": 8,
   "metadata": {},
   "outputs": [
    {
     "name": "stdout",
     "output_type": "stream",
     "text": [
      "Overwriting src/key.properties\n"
     ]
    }
   ],
   "source": [
    "%%writefile src/key.properties\n",
    "gokr=8Bx4C1%2Bbogiu3i0M5k7aqOf%2BTA5yCWK%2BFDI7nTSJ0oAhDj1NC5CtbI1TMgFmnpuZxJ9LBoCScqBhuw5sul2tmQ%3D%3D"
   ]
  },
  {
   "cell_type": "code",
   "execution_count": 9,
   "metadata": {},
   "outputs": [],
   "source": [
    "import os\n",
    "import src.mylib   # 상대경로\n",
    "\n",
    "keyPath=os.path.join(os.getcwd(), 'src', 'key.properties')\n",
    "key=src.mylib.getKey(keyPath)"
   ]
  },
  {
   "cell_type": "code",
   "execution_count": 10,
   "metadata": {},
   "outputs": [
    {
     "name": "stdout",
     "output_type": "stream",
     "text": [
      "8Bx4C1%2Bbogiu3i0M5k7aqOf%2BTA5yCWK%2BFDI7nTSJ0oAhDj1NC5CtbI1TMgFmnpuZxJ9LBoCScqBhuw5sul2tmQ%3D%3D\n"
     ]
    }
   ],
   "source": [
    "print (key['gokr'])"
   ]
  },
  {
   "cell_type": "code",
   "execution_count": 11,
   "metadata": {},
   "outputs": [],
   "source": [
    "serviceKey=key['gokr']\n",
    "title='파이썬'\n",
    "manageCd='MA'\n",
    "numOfRows=str(20)\n",
    "pageNo=str(1)"
   ]
  },
  {
   "cell_type": "code",
   "execution_count": 16,
   "metadata": {},
   "outputs": [
    {
     "name": "stdout",
     "output_type": "stream",
     "text": [
      "http://openapi-lib.sen.go.kr/openapi/service/lib/openApi?serviceKey=8Bx4C1%2Bbogiu3i0M5k7aqOf%2BTA5yCWK%2BFDI7nTSJ0oAhDj1NC5CtbI1TMgFmnpuZxJ9LBoCScqBhuw5sul2tmQ%3D%3D&manageCd=MA&numOfRows=20&pageNo=1&title=파이썬\n"
     ]
    }
   ],
   "source": [
    "import urllib\n",
    "\n",
    "url='http://openapi-lib.sen.go.kr/openapi/service/lib/openApi?serviceKey='+serviceKey+'&manageCd='+manageCd+'&numOfRows='+numOfRows+'&pageNo='+pageNo+'&title='+title\n",
    "print(url)"
   ]
  },
  {
   "cell_type": "code",
   "execution_count": 21,
   "metadata": {},
   "outputs": [
    {
     "name": "stdout",
     "output_type": "stream",
     "text": [
      "<?xml version=\"1.0\" encoding=\"UTF-8\" standalone=\"yes\"?><response><header><resultCode>00</resultCode><resultMsg>NORMAL SERVICE.</resultMsg></header><body><items><item><appendixYn>N</appendixYn><author>사우랍 카푸 지음 ;김정중 옮김</author><bookKey>5387993273</bookKey><callNo>005.133-ㅋ334ㅍ</callNo><controlNo>KMO201800317</controlNo><isbn>9791161751061</isbn><libName>강남도서관</libName><manageCode>MA</manageCode><pubYear>2018</pubYear><publisher>에이콘출판</publisher><regNo>EMA000257311</regNo><rnum>1</rnum><shelfLocName>[강남]4층 종합자료실</shelfLocName><speciesKey>5387993271</speciesKey><title>파이썬 3로 컴퓨터 비전 다루기  : 이미지 인식, 추적, 기계 학습, 비디오 처리, 컴퓨터 비전 웹서비스</title></item><item><appendixYn>N</appendixYn><author>파루크 사커 지음 ;박영훈 옮김</author><bookKey>5414169695</bookKey><callNo>005.133-ㅅ166ㅍ</callNo><controlNo>KMO201803657</controlNo><isbn>9788960776432</isbn><libName>강남도서관</libName><manageCode>MA</manageCode><pubYear>2015</pubYear><publisher>에이콘</publisher><regNo>EMA000260741</regNo><rnum>2</rnum><shelfLocName>[강남]4층 종합자료실</shelfLocName><speciesKey>5414169693</speciesKey><title>파이썬을 활용한 네트워크 프로그래밍  : 개발자와 관리자를 위한 효율적인 네트워크 애플리케이션 개발</title></item><item><appendixYn>N</appendixYn><author>줄리안 단주 지음;김현욱 옮김</author><bookKey>5414169716</bookKey><callNo>005.135-ㄷ48ㅅ</callNo><controlNo>KMO201803665</controlNo><isbn>9788966262267</isbn><libName>강남도서관</libName><manageCode>MA</manageCode><pubYear>2018</pubYear><publisher>인사이트</publisher><regNo>EMA000260749</regNo><rnum>3</rnum><shelfLocName>[강남]4층 종합자료실</shelfLocName><speciesKey>5414169714</speciesKey><title>실전 스케일링 파이썬 프로그래밍  : 오픈 소스 개발자들에게 배우는 대규모 파이썬 개발 노하우</title></item><item><appendixYn>N</appendixYn><author>김용재 지음</author><bookKey>5399704440</bookKey><callNo>005.133-ㄱ855ㄱ</callNo><controlNo>KMO201801780</controlNo><isbn>9791186697559</isbn><libName>강남도서관</libName><manageCode>MA</manageCode><pubYear>2018</pubYear><publisher>BJpublic :비제이퍼블릭</publisher><regNo>EMA000258898</regNo><rnum>4</rnum><shelfLocName>[강남]4층 종합자료실</shelfLocName><speciesKey>5399704438</speciesKey><title>구글로 공부하는 파이썬  : 구글에서 찾는 파이썬 실전 예제 분석</title></item><item><appendixYn>N</appendixYn><author>마크 러츠 지음 ;강성용 ;조인중 옮김</author><bookKey>5399704462</bookKey><callNo>005.115-ㄹ782ㅍ-2</callNo><controlNo>KMO201801784</controlNo><isbn>9791188621163</isbn><libName>강남도서관</libName><manageCode>MA</manageCode><pubYear>2018</pubYear><publisher>제이펍</publisher><regNo>EMA000258902</regNo><rnum>5</rnum><shelfLocName>[강남]4층 종합자료실</shelfLocName><speciesKey>5399704459</speciesKey><title>러닝 파이썬  = Learning Python, 5th Edition. 하  : 파이썬에 관한 것, 그 무엇이든!</title><vol>2</vol></item><item><appendixYn>N</appendixYn><author>마크 러츠 지음;강성용,조인중 옮김</author><bookKey>5399704227</bookKey><callNo>005.115-ㄹ782ㅍ-1</callNo><controlNo>KMO201801729</controlNo><isbn>9791188621071</isbn><libName>강남도서관</libName><manageCode>MA</manageCode><pubYear>2018</pubYear><publisher>제이펍</publisher><regNo>EMA000258847</regNo><rnum>6</rnum><shelfLocName>[강남]4층 종합자료실</shelfLocName><speciesKey>5399704225</speciesKey><title>러닝 파이썬 = Learning Python, 5th Edition. 상 : 파이썬에 관한 것, 그 무엇이든!</title><vol>1</vol></item><item><appendixYn>N</appendixYn><author>가스통 힐라 지음 ;이승준 옮김</author><bookKey>5399704263</bookKey><callNo>005.118-ㅎ997ㄹ</callNo><controlNo>KMO201801737</controlNo><isbn>9791161750248</isbn><libName>강남도서관</libName><manageCode>MA</manageCode><pubYear>2017</pubYear><publisher>에이콘</publisher><regNo>EMA000258855</regNo><rnum>7</rnum><shelfLocName>[강남]4층 종합자료실</shelfLocName><speciesKey>5399704261</speciesKey><title>RESTful 파이썬 웹 서비스 제작  : 장고, 플라스크, 토네이도와 함께 하는 RESTful 웹 서비스</title></item><item><appendixYn>N</appendixYn><author>조민호 지음</author><bookKey>5414989880</bookKey><callNo>005.1-ㅈ614ㅇ</callNo><controlNo>KMO201803721</controlNo><isbn>9788956747880</isbn><libName>강남도서관</libName><manageCode>MA</manageCode><pubYear>2018</pubYear><publisher>정보문화사</publisher><regNo>EMA000261301</regNo><rnum>8</rnum><shelfLocName>[강남]4층 종합자료실</shelfLocName><speciesKey>5414989878</speciesKey><title>(그림으로 정리한) 알고리즘과 자료구조  : 자바+파이썬</title></item><item><appendixYn>N</appendixYn><author>유씽 얀 지음 ;이병욱 옮김</author><bookKey>5402411007</bookKey><callNo>005.133-ㅇ279ㄱ</callNo><controlNo>KMO201801990</controlNo><isbn>9791161750750</isbn><libName>강남도서관</libName><manageCode>MA</manageCode><pubYear>2018</pubYear><publisher>에이콘</publisher><regNo>EMA000259657</regNo><rnum>9</rnum><shelfLocName>[강남]4층 종합자료실</shelfLocName><speciesKey>5402411005</speciesKey><title>(파이썬으로 배우는) 금융 분석  : 금융의 기초 개념 이해부터 예제를 통한 계산 활용까지</title></item><item><appendixYn>N</appendixYn><author>앨런 비소첵 지음;김창엽,강병호 옮김</author><bookKey>5401705385</bookKey><callNo>005.133-ㅂ972ㄷ</callNo><controlNo>KMO201801981</controlNo><isbn>9791161751580</isbn><libName>강남도서관</libName><manageCode>MA</manageCode><pubYear>2018</pubYear><publisher>에이콘</publisher><regNo>EMA000259637</regNo><rnum>10</rnum><shelfLocName>[강남]4층 종합자료실</shelfLocName><speciesKey>5401705383</speciesKey><title>딥러닝 데이터 전처리 입문  : 파이썬과 R로 배우는 데이터 다루기</title></item><item><appendixYn>N</appendixYn><author>마크 서머필드 지음 ;서형국,오현석 [공]옮김</author><bookKey>5401705154</bookKey><callNo>005.135-ㅅ232ㅍ</callNo><controlNo>KMO201801933</controlNo><isbn>9788998139650</isbn><libName>강남도서관</libName><manageCode>MA</manageCode><pubYear>2014</pubYear><publisher>위키북스</publisher><regNo>EMA000259589</regNo><rnum>11</rnum><shelfLocName>[강남]4층 종합자료실</shelfLocName><speciesKey>5401705152</speciesKey><title>파이썬 인 프랙티스  : 디자인 패턴, 동시성, 네트워킹, 성능 최적화, GUI 제작 기법</title></item><item><appendixYn>N</appendixYn><author>이태화 지음</author><bookKey>5401705170</bookKey><callNo>005.133-ㅇ933ㅇ</callNo><controlNo>KMO201801935</controlNo><isbn>9788965402145</isbn><libName>강남도서관</libName><manageCode>MA</manageCode><pubYear>2018</pubYear><publisher>프리렉</publisher><regNo>EMA000259591</regNo><rnum>12</rnum><shelfLocName>[강남]4층 종합자료실</shelfLocName><speciesKey>5401705168</speciesKey><title>일 잘하는 평사원의 업무 자동화  : 업무에 날개를 달아주는 파이썬</title></item><item><appendixYn>N</appendixYn><author>박정태 지음</author><bookKey>5386413036</bookKey><callNo>005.133-ㅂ482ㅍ</callNo><controlNo>KMO201800205</controlNo><isbn>9788956747750</isbn><libName>강남도서관</libName><manageCode>MA</manageCode><pubYear>2018</pubYear><publisher>정보문화사</publisher><regNo>EMA000257252</regNo><rnum>13</rnum><shelfLocName>[강남]4층 종합자료실</shelfLocName><speciesKey>5386413033</speciesKey><title>파이썬으로 배우는 웹 크롤러  = Python web crawler  : 파이썬 코드 조각으로 데이터 모으기</title></item><item><appendixYn>N</appendixYn><author>브라이언 칼링,말리 아데어 지음 ;민지현 옮김</author><bookKey>5490912243</bookKey><callNo>005.133-ㅋ372ㅍ</callNo><controlNo>KMO202000361</controlNo><isbn>9788928643929</isbn><libName>강남도서관</libName><manageCode>MA</manageCode><pubYear>2018</pubYear><publisher>코딩타임</publisher><regNo>EMA000269116</regNo><rnum>14</rnum><shelfLocName>[강남]4층 종합자료실</shelfLocName><speciesKey>5490912238</speciesKey><title>파이썬으로 시작하는 코딩  : 나만의 게임을 만들어 보자!</title></item><item><appendixYn>N</appendixYn><author>김문권 지음</author><bookKey>5407266252</bookKey><callNo>004.73-ㄱ733ㄷ</callNo><controlNo>KMO201802871</controlNo><isbn>9791158391065</isbn><libName>강남도서관</libName><manageCode>MA</manageCode><pubYear>2018</pubYear><publisher>위키북스</publisher><regNo>EMA000259953</regNo><rnum>15</rnum><shelfLocName>[강남]4층 종합자료실</shelfLocName><speciesKey>5407266250</speciesKey><title>(파이썬과 케라스를 이용한) 딥러닝/강화학습 주식투자  : 퀀트 투자, 알고리즘 트레이딩을 위한 최첨단 해법 입문</title></item><item><appendixYn>N</appendixYn><author>부르크하르트 메이어 지음 ;김동호 옮김</author><bookKey>5407266267</bookKey><callNo>005.133-ㅁ444ㅍ</callNo><controlNo>KMO201802874</controlNo><isbn>9791161751474</isbn><libName>강남도서관</libName><manageCode>MA</manageCode><pubYear>2018</pubYear><publisher>에이콘</publisher><regNo>EMA000259956</regNo><rnum>16</rnum><shelfLocName>[강남]4층 종합자료실</shelfLocName><speciesKey>5407266263</speciesKey><title>파이썬 GUI 프로그래밍 쿡북 2/e  : 파이썬 3로 쉽고 빠르게 GUI 개발하기</title></item><item><appendixYn>N</appendixYn><author>최은석 지음</author><bookKey>5412785101</bookKey><callNo>005.133-ㅊ594ㅍ</callNo><controlNo>KMO201803205</controlNo><isbn>9791158391126</isbn><libName>강남도서관</libName><manageCode>MA</manageCode><pubYear>2018</pubYear><publisher>위키북스</publisher><regNo>EMA000260646</regNo><rnum>17</rnum><shelfLocName>[강남]4층 종합자료실</shelfLocName><speciesKey>5412785099</speciesKey><title>(데이터 분석을 위한) 파이썬 철저 입문  : 기초 문법부터 실무에 필요한 데이터 분석 기술까지 한 번에 배우는</title></item><item><appendixYn>N</appendixYn><author>클린턴 브라운리 지음 ;한창진,이병욱 옮김</author><bookKey>5400251623</bookKey><callNo>005.133-ㅂ956ㅍ</callNo><controlNo>KMO201801794</controlNo><isbn>9791162240144</isbn><libName>강남도서관</libName><manageCode>MA</manageCode><pubYear>2017</pubYear><publisher>한빛미디어</publisher><regNo>EMA000258914</regNo><rnum>18</rnum><shelfLocName>[강남]4층 종합자료실</shelfLocName><speciesKey>5400251621</speciesKey><title>파이썬 데이터 분석 입문</title></item><item><appendixYn>N</appendixYn><author>신호철,최동진,우상정 지음</author><bookKey>5358289885</bookKey><callNo>005.133-ㅅ948ㅍ</callNo><controlNo>KMO201707609</controlNo><isbn>9791158390716</isbn><libName>강남도서관</libName><manageCode>MA</manageCode><pubYear>2017</pubYear><publisher>위키북스</publisher><regNo>EMA000256245</regNo><rnum>19</rnum><shelfLocName>[강남]4층 종합자료실</shelfLocName><speciesKey>5358289883</speciesKey><title>(빠르게 활용하는) 파이썬 3.6 프로그래밍  : 기초 예제부터 라즈베리 파이, 알렉사, 텔레그램 봇까지 만들면서 배우는</title></item><item><appendixYn>N</appendixYn><author>제이크 밴더플래스 지음 ;김정인 옮김</author><bookKey>5368865336</bookKey><callNo>005.133-ㅂ744ㅍ</callNo><controlNo>KMO201705550</controlNo><isbn>9791158390730</isbn><libName>강남도서관</libName><manageCode>MA</manageCode><pubYear>2017</pubYear><publisher>위키북스</publisher><regNo>EMA000256085</regNo><rnum>20</rnum><shelfLocName>[강남]4층 종합자료실</shelfLocName><speciesKey>5368865333</speciesKey><title>파이썬 데이터 사이언스 핸드북  : IPython, Jupyter, NumPy, Pandas, Matplotlib, Scikit-learn 라이브러리를 활용한 데이터 과학과 머신러닝</title></item></items><numOfRows>20</numOfRows><pageNo>1</pageNo><totalCount>160</totalCount></body></response>\n"
     ]
    }
   ],
   "source": [
    "import requests\n",
    "\n",
    "response = requests.get(url).text\n",
    "print(response)\n",
    "f = open('gangnam_python_library.txt',mode='w')\n",
    "f.write(response)\n",
    "f.close()"
   ]
  },
  {
   "cell_type": "code",
   "execution_count": 22,
   "metadata": {},
   "outputs": [
    {
     "name": "stdout",
     "output_type": "stream",
     "text": [
      "<?xml version=\"1.0\" encoding=\"UTF-8\" standalone=\"yes\"?><response><header><resultCode>00</resultCode><resultMsg>NORMAL SERVICE.</resultMsg></header><body><items><item><appendixYn>N</appendixYn><author>사우랍 카푸 지음 ;김정중 옮김</author><bookKey>5387993273</bookKey><callNo>005.133-ㅋ334ㅍ</callNo><controlNo>KMO201800317</controlNo><isbn>9791161751061</isbn><libName>강남도서관</libName><manageCode>MA</manageCode><pubYear>2018</pubYear><publisher>에이콘출판</publisher><regNo>EMA000257311</regNo><rnum>1</rnum><shelfLocName>[강남]4층 종합자료실</shelfLocName><speciesKey>5387993271</speciesKey><title>파이썬 3로 컴퓨터 비전 다루기  : 이미지 인식, 추적, 기계 학습, 비디오 처리, 컴퓨터 비전 웹서비스</title></item><item><appendixYn>N</appendixYn><author>파루크 사커 지음 ;박영훈 옮김</author><bookKey>5414169695</bookKey><callNo>005.133-ㅅ166ㅍ</callNo><controlNo>KMO201803657</controlNo><isbn>9788960776432</isbn><libName>강남도서관</libName><manageCode>MA</manageCode><pubYear>2015</pubYear><publisher>에이콘</publisher><regNo>EMA000260741</regNo><rnum>2</rnum><shelfLocName>[강남]4층 종합자료실</shelfLocName><speciesKey>5414169693</speciesKey><title>파이썬을 활용한 네트워크 프로그래밍  : 개발자와 관리자를 위한 효율적인 네트워크 애플리케이션 개발</title></item><item><appendixYn>N</appendixYn><author>줄리안 단주 지음;김현욱 옮김</author><bookKey>5414169716</bookKey><callNo>005.135-ㄷ48ㅅ</callNo><controlNo>KMO201803665</controlNo><isbn>9788966262267</isbn><libName>강남도서관</libName><manageCode>MA</manageCode><pubYear>2018</pubYear><publisher>인사이트</publisher><regNo>EMA000260749</regNo><rnum>3</rnum><shelfLocName>[강남]4층 종합자료실</shelfLocName><speciesKey>5414169714</speciesKey><title>실전 스케일링 파이썬 프로그래밍  : 오픈 소스 개발자들에게 배우는 대규모 파이썬 개발 노하우</title></item><item><appendixYn>N</appendixYn><author>김용재 지음</author><bookKey>5399704440</bookKey><callNo>005.133-ㄱ855ㄱ</callNo><controlNo>KMO201801780</controlNo><isbn>9791186697559</isbn><libName>강남도서관</libName><manageCode>MA</manageCode><pubYear>2018</pubYear><publisher>BJpublic :비제이퍼블릭</publisher><regNo>EMA000258898</regNo><rnum>4</rnum><shelfLocName>[강남]4층 종합자료실</shelfLocName><speciesKey>5399704438</speciesKey><title>구글로 공부하는 파이썬  : 구글에서 찾는 파이썬 실전 예제 분석</title></item><item><appendixYn>N</appendixYn><author>마크 러츠 지음 ;강성용 ;조인중 옮김</author><bookKey>5399704462</bookKey><callNo>005.115-ㄹ782ㅍ-2</callNo><controlNo>KMO201801784</controlNo><isbn>9791188621163</isbn><libName>강남도서관</libName><manageCode>MA</manageCode><pubYear>2018</pubYear><publisher>제이펍</publisher><regNo>EMA000258902</regNo><rnum>5</rnum><shelfLocName>[강남]4층 종합자료실</shelfLocName><speciesKey>5399704459</speciesKey><title>러닝 파이썬  = Learning Python, 5th Edition. 하  : 파이썬에 관한 것, 그 무엇이든!</title><vol>2</vol></item><item><appendixYn>N</appendixYn><author>마크 러츠 지음;강성용,조인중 옮김</author><bookKey>5399704227</bookKey><callNo>005.115-ㄹ782ㅍ-1</callNo><controlNo>KMO201801729</controlNo><isbn>9791188621071</isbn><libName>강남도서관</libName><manageCode>MA</manageCode><pubYear>2018</pubYear><publisher>제이펍</publisher><regNo>EMA000258847</regNo><rnum>6</rnum><shelfLocName>[강남]4층 종합자료실</shelfLocName><speciesKey>5399704225</speciesKey><title>러닝 파이썬 = Learning Python, 5th Edition. 상 : 파이썬에 관한 것, 그 무엇이든!</title><vol>1</vol></item><item><appendixYn>N</appendixYn><author>가스통 힐라 지음 ;이승준 옮김</author><bookKey>5399704263</bookKey><callNo>005.118-ㅎ997ㄹ</callNo><controlNo>KMO201801737</controlNo><isbn>9791161750248</isbn><libName>강남도서관</libName><manageCode>MA</manageCode><pubYear>2017</pubYear><publisher>에이콘</publisher><regNo>EMA000258855</regNo><rnum>7</rnum><shelfLocName>[강남]4층 종합자료실</shelfLocName><speciesKey>5399704261</speciesKey><title>RESTful 파이썬 웹 서비스 제작  : 장고, 플라스크, 토네이도와 함께 하는 RESTful 웹 서비스</title></item><item><appendixYn>N</appendixYn><author>조민호 지음</author><bookKey>5414989880</bookKey><callNo>005.1-ㅈ614ㅇ</callNo><controlNo>KMO201803721</controlNo><isbn>9788956747880</isbn><libName>강남도서관</libName><manageCode>MA</manageCode><pubYear>2018</pubYear><publisher>정보문화사</publisher><regNo>EMA000261301</regNo><rnum>8</rnum><shelfLocName>[강남]4층 종합자료실</shelfLocName><speciesKey>5414989878</speciesKey><title>(그림으로 정리한) 알고리즘과 자료구조  : 자바+파이썬</title></item><item><appendixYn>N</appendixYn><author>유씽 얀 지음 ;이병욱 옮김</author><bookKey>5402411007</bookKey><callNo>005.133-ㅇ279ㄱ</callNo><controlNo>KMO201801990</controlNo><isbn>9791161750750</isbn><libName>강남도서관</libName><manageCode>MA</manageCode><pubYear>2018</pubYear><publisher>에이콘</publisher><regNo>EMA000259657</regNo><rnum>9</rnum><shelfLocName>[강남]4층 종합자료실</shelfLocName><speciesKey>5402411005</speciesKey><title>(파이썬으로 배우는) 금융 분석  : 금융의 기초 개념 이해부터 예제를 통한 계산 활용까지</title></item><item><appendixYn>N</appendixYn><author>앨런 비소첵 지음;김창엽,강병호 옮김</author><bookKey>5401705385</bookKey><callNo>005.133-ㅂ972ㄷ</callNo><controlNo>KMO201801981</controlNo><isbn>9791161751580</isbn><libName>강남도서관</libName><manageCode>MA</manageCode><pubYear>2018</pubYear><publisher>에이콘</publisher><regNo>EMA000259637</regNo><rnum>10</rnum><shelfLocName>[강남]4층 종합자료실</shelfLocName><speciesKey>5401705383</speciesKey><title>딥러닝 데이터 전처리 입문  : 파이썬과 R로 배우는 데이터 다루기</title></item><item><appendixYn>N</appendixYn><author>마크 서머필드 지음 ;서형국,오현석 [공]옮김</author><bookKey>5401705154</bookKey><callNo>005.135-ㅅ232ㅍ</callNo><controlNo>KMO201801933</controlNo><isbn>9788998139650</isbn><libName>강남도서관</libName><manageCode>MA</manageCode><pubYear>2014</pubYear><publisher>위키북스</publisher><regNo>EMA000259589</regNo><rnum>11</rnum><shelfLocName>[강남]4층 종합자료실</shelfLocName><speciesKey>5401705152</speciesKey><title>파이썬 인 프랙티스  : 디자인 패턴, 동시성, 네트워킹, 성능 최적화, GUI 제작 기법</title></item><item><appendixYn>N</appendixYn><author>이태화 지음</author><bookKey>5401705170</bookKey><callNo>005.133-ㅇ933ㅇ</callNo><controlNo>KMO201801935</controlNo><isbn>9788965402145</isbn><libName>강남도서관</libName><manageCode>MA</manageCode><pubYear>2018</pubYear><publisher>프리렉</publisher><regNo>EMA000259591</regNo><rnum>12</rnum><shelfLocName>[강남]4층 종합자료실</shelfLocName><speciesKey>5401705168</speciesKey><title>일 잘하는 평사원의 업무 자동화  : 업무에 날개를 달아주는 파이썬</title></item><item><appendixYn>N</appendixYn><author>박정태 지음</author><bookKey>5386413036</bookKey><callNo>005.133-ㅂ482ㅍ</callNo><controlNo>KMO201800205</controlNo><isbn>9788956747750</isbn><libName>강남도서관</libName><manageCode>MA</manageCode><pubYear>2018</pubYear><publisher>정보문화사</publisher><regNo>EMA000257252</regNo><rnum>13</rnum><shelfLocName>[강남]4층 종합자료실</shelfLocName><speciesKey>5386413033</speciesKey><title>파이썬으로 배우는 웹 크롤러  = Python web crawler  : 파이썬 코드 조각으로 데이터 모으기</title></item><item><appendixYn>N</appendixYn><author>브라이언 칼링,말리 아데어 지음 ;민지현 옮김</author><bookKey>5490912243</bookKey><callNo>005.133-ㅋ372ㅍ</callNo><controlNo>KMO202000361</controlNo><isbn>9788928643929</isbn><libName>강남도서관</libName><manageCode>MA</manageCode><pubYear>2018</pubYear><publisher>코딩타임</publisher><regNo>EMA000269116</regNo><rnum>14</rnum><shelfLocName>[강남]4층 종합자료실</shelfLocName><speciesKey>5490912238</speciesKey><title>파이썬으로 시작하는 코딩  : 나만의 게임을 만들어 보자!</title></item><item><appendixYn>N</appendixYn><author>김문권 지음</author><bookKey>5407266252</bookKey><callNo>004.73-ㄱ733ㄷ</callNo><controlNo>KMO201802871</controlNo><isbn>9791158391065</isbn><libName>강남도서관</libName><manageCode>MA</manageCode><pubYear>2018</pubYear><publisher>위키북스</publisher><regNo>EMA000259953</regNo><rnum>15</rnum><shelfLocName>[강남]4층 종합자료실</shelfLocName><speciesKey>5407266250</speciesKey><title>(파이썬과 케라스를 이용한) 딥러닝/강화학습 주식투자  : 퀀트 투자, 알고리즘 트레이딩을 위한 최첨단 해법 입문</title></item><item><appendixYn>N</appendixYn><author>부르크하르트 메이어 지음 ;김동호 옮김</author><bookKey>5407266267</bookKey><callNo>005.133-ㅁ444ㅍ</callNo><controlNo>KMO201802874</controlNo><isbn>9791161751474</isbn><libName>강남도서관</libName><manageCode>MA</manageCode><pubYear>2018</pubYear><publisher>에이콘</publisher><regNo>EMA000259956</regNo><rnum>16</rnum><shelfLocName>[강남]4층 종합자료실</shelfLocName><speciesKey>5407266263</speciesKey><title>파이썬 GUI 프로그래밍 쿡북 2/e  : 파이썬 3로 쉽고 빠르게 GUI 개발하기</title></item><item><appendixYn>N</appendixYn><author>최은석 지음</author><bookKey>5412785101</bookKey><callNo>005.133-ㅊ594ㅍ</callNo><controlNo>KMO201803205</controlNo><isbn>9791158391126</isbn><libName>강남도서관</libName><manageCode>MA</manageCode><pubYear>2018</pubYear><publisher>위키북스</publisher><regNo>EMA000260646</regNo><rnum>17</rnum><shelfLocName>[강남]4층 종합자료실</shelfLocName><speciesKey>5412785099</speciesKey><title>(데이터 분석을 위한) 파이썬 철저 입문  : 기초 문법부터 실무에 필요한 데이터 분석 기술까지 한 번에 배우는</title></item><item><appendixYn>N</appendixYn><author>클린턴 브라운리 지음 ;한창진,이병욱 옮김</author><bookKey>5400251623</bookKey><callNo>005.133-ㅂ956ㅍ</callNo><controlNo>KMO201801794</controlNo><isbn>9791162240144</isbn><libName>강남도서관</libName><manageCode>MA</manageCode><pubYear>2017</pubYear><publisher>한빛미디어</publisher><regNo>EMA000258914</regNo><rnum>18</rnum><shelfLocName>[강남]4층 종합자료실</shelfLocName><speciesKey>5400251621</speciesKey><title>파이썬 데이터 분석 입문</title></item><item><appendixYn>N</appendixYn><author>신호철,최동진,우상정 지음</author><bookKey>5358289885</bookKey><callNo>005.133-ㅅ948ㅍ</callNo><controlNo>KMO201707609</controlNo><isbn>9791158390716</isbn><libName>강남도서관</libName><manageCode>MA</manageCode><pubYear>2017</pubYear><publisher>위키북스</publisher><regNo>EMA000256245</regNo><rnum>19</rnum><shelfLocName>[강남]4층 종합자료실</shelfLocName><speciesKey>5358289883</speciesKey><title>(빠르게 활용하는) 파이썬 3.6 프로그래밍  : 기초 예제부터 라즈베리 파이, 알렉사, 텔레그램 봇까지 만들면서 배우는</title></item><item><appendixYn>N</appendixYn><author>제이크 밴더플래스 지음 ;김정인 옮김</author><bookKey>5368865336</bookKey><callNo>005.133-ㅂ744ㅍ</callNo><controlNo>KMO201705550</controlNo><isbn>9791158390730</isbn><libName>강남도서관</libName><manageCode>MA</manageCode><pubYear>2017</pubYear><publisher>위키북스</publisher><regNo>EMA000256085</regNo><rnum>20</rnum><shelfLocName>[강남]4층 종합자료실</shelfLocName><speciesKey>5368865333</speciesKey><title>파이썬 데이터 사이언스 핸드북  : IPython, Jupyter, NumPy, Pandas, Matplotlib, Scikit-learn 라이브러리를 활용한 데이터 과학과 머신러닝</title></item></items><numOfRows>20</numOfRows><pageNo>1</pageNo><totalCount>160</totalCount></body></response>\n"
     ]
    }
   ],
   "source": [
    "!type gangnam_python_library.txt"
   ]
  }
 ],
 "metadata": {
  "kernelspec": {
   "display_name": "Python 3",
   "language": "python",
   "name": "python3"
  },
  "language_info": {
   "codemirror_mode": {
    "name": "ipython",
    "version": 3
   },
   "file_extension": ".py",
   "mimetype": "text/x-python",
   "name": "python",
   "nbconvert_exporter": "python",
   "pygments_lexer": "ipython3",
   "version": "3.7.9"
  }
 },
 "nbformat": 4,
 "nbformat_minor": 4
}
