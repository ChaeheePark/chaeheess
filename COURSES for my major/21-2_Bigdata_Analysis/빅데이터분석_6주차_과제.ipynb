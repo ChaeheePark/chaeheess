{
  "nbformat": 4,
  "nbformat_minor": 0,
  "metadata": {
    "colab": {
      "name": "빅데이터분석_6주차_과제",
      "provenance": [],
      "collapsed_sections": [],
      "toc_visible": true
    },
    "kernelspec": {
      "name": "python3",
      "display_name": "Python 3"
    },
    "language_info": {
      "name": "python"
    }
  },
  "cells": [
    {
      "cell_type": "markdown",
      "metadata": {
        "id": "0F-kjCvrJ-Lw"
      },
      "source": [
        "# 빅데이터분석 6주차 과제 201910803 박채희"
      ]
    },
    {
      "cell_type": "code",
      "metadata": {
        "id": "AnCcy46nKetD"
      },
      "source": [
        "import pyspark\n",
        "myConf=pyspark.SparkConf()\n",
        "spark=pyspark.sql.SparkSession.builder.master(\"local\").appName(\"myApp\").config(conf=myConf).getOrCreate()"
      ],
      "execution_count": 14,
      "outputs": []
    },
    {
      "cell_type": "code",
      "metadata": {
        "colab": {
          "base_uri": "https://localhost:8080/"
        },
        "id": "h-vo49RPK4Xy",
        "outputId": "f4d33e55-28f0-4244-d520-5ec757d259e9"
      },
      "source": [
        "df = spark.read.options(header='true', inferschema='true', delimiter=',').csv('서울특별시_공공자전거 일별 대여건수_(2018_2019.03).csv')\n",
        "df.count()"
      ],
      "execution_count": 17,
      "outputs": [
        {
          "output_type": "execute_result",
          "data": {
            "text/plain": [
              "455"
            ]
          },
          "metadata": {},
          "execution_count": 17
        }
      ]
    },
    {
      "cell_type": "code",
      "metadata": {
        "colab": {
          "base_uri": "https://localhost:8080/"
        },
        "id": "xUGD74daMDfa",
        "outputId": "53189f4d-cbf6-489b-f8f3-984cfecf6b12"
      },
      "source": [
        "df.show()"
      ],
      "execution_count": 18,
      "outputs": [
        {
          "output_type": "stream",
          "name": "stdout",
          "text": [
            "+----------+------+\n",
            "|   �뿩����|�뿩�Ǽ�|\n",
            "+----------+------+\n",
            "|2018-01-01|  4950|\n",
            "|2018-01-02|  7136|\n",
            "|2018-01-03|  7156|\n",
            "|2018-01-04|  7102|\n",
            "|2018-01-05|  7705|\n",
            "|2018-01-06|  5681|\n",
            "|2018-01-07|  5220|\n",
            "|2018-01-08|  6309|\n",
            "|2018-01-09|  5988|\n",
            "|2018-01-10|  4476|\n",
            "|2018-01-11|  4337|\n",
            "|2018-01-12|  4401|\n",
            "|2018-01-13|  3756|\n",
            "|2018-01-14|  4675|\n",
            "|2018-01-15|  6993|\n",
            "|2018-01-16|  7421|\n",
            "|2018-01-17|  6990|\n",
            "|2018-01-18|  7054|\n",
            "|2018-01-19|  8329|\n",
            "|2018-01-20|  6148|\n",
            "+----------+------+\n",
            "only showing top 20 rows\n",
            "\n"
          ]
        }
      ]
    },
    {
      "cell_type": "code",
      "metadata": {
        "id": "e_8YPYemLqOl"
      },
      "source": [
        "df = df.withColumnRenamed('�뿩����','date')\n",
        "df = df.withColumnRenamed('�뿩�Ǽ�','count')"
      ],
      "execution_count": 22,
      "outputs": []
    },
    {
      "cell_type": "code",
      "metadata": {
        "colab": {
          "base_uri": "https://localhost:8080/"
        },
        "id": "EnJVRLInM5qX",
        "outputId": "4c9c754c-ba07-402b-9eb9-c8c9c6f6b944"
      },
      "source": [
        "df.show()"
      ],
      "execution_count": 23,
      "outputs": [
        {
          "output_type": "stream",
          "name": "stdout",
          "text": [
            "+----------+-----+\n",
            "|      date|count|\n",
            "+----------+-----+\n",
            "|2018-01-01| 4950|\n",
            "|2018-01-02| 7136|\n",
            "|2018-01-03| 7156|\n",
            "|2018-01-04| 7102|\n",
            "|2018-01-05| 7705|\n",
            "|2018-01-06| 5681|\n",
            "|2018-01-07| 5220|\n",
            "|2018-01-08| 6309|\n",
            "|2018-01-09| 5988|\n",
            "|2018-01-10| 4476|\n",
            "|2018-01-11| 4337|\n",
            "|2018-01-12| 4401|\n",
            "|2018-01-13| 3756|\n",
            "|2018-01-14| 4675|\n",
            "|2018-01-15| 6993|\n",
            "|2018-01-16| 7421|\n",
            "|2018-01-17| 6990|\n",
            "|2018-01-18| 7054|\n",
            "|2018-01-19| 8329|\n",
            "|2018-01-20| 6148|\n",
            "+----------+-----+\n",
            "only showing top 20 rows\n",
            "\n"
          ]
        }
      ]
    },
    {
      "cell_type": "markdown",
      "metadata": {
        "id": "Kou_cgRgN8Q4"
      },
      "source": [
        "### 문제 1-1: 년도별 대여건수 합계"
      ]
    },
    {
      "cell_type": "code",
      "metadata": {
        "id": "FQxbehtaM8iy"
      },
      "source": [
        "from pyspark.sql.types import StringType\n",
        "from pyspark.sql.functions import udf\n",
        "\n",
        "year=udf(lambda x :'2018' if x[:4]=='2018' else '2019',StringType())\n",
        "df=df.withColumn('year',year(df['date']))"
      ],
      "execution_count": 28,
      "outputs": []
    },
    {
      "cell_type": "code",
      "metadata": {
        "colab": {
          "base_uri": "https://localhost:8080/"
        },
        "id": "T5ai0m-tOa_L",
        "outputId": "dabe34a9-293d-4aa4-ca4d-81ac874ec16b"
      },
      "source": [
        "df.show()"
      ],
      "execution_count": 29,
      "outputs": [
        {
          "output_type": "stream",
          "name": "stdout",
          "text": [
            "+----------+-----+----+\n",
            "|      date|count|year|\n",
            "+----------+-----+----+\n",
            "|2018-01-01| 4950|2018|\n",
            "|2018-01-02| 7136|2018|\n",
            "|2018-01-03| 7156|2018|\n",
            "|2018-01-04| 7102|2018|\n",
            "|2018-01-05| 7705|2018|\n",
            "|2018-01-06| 5681|2018|\n",
            "|2018-01-07| 5220|2018|\n",
            "|2018-01-08| 6309|2018|\n",
            "|2018-01-09| 5988|2018|\n",
            "|2018-01-10| 4476|2018|\n",
            "|2018-01-11| 4337|2018|\n",
            "|2018-01-12| 4401|2018|\n",
            "|2018-01-13| 3756|2018|\n",
            "|2018-01-14| 4675|2018|\n",
            "|2018-01-15| 6993|2018|\n",
            "|2018-01-16| 7421|2018|\n",
            "|2018-01-17| 6990|2018|\n",
            "|2018-01-18| 7054|2018|\n",
            "|2018-01-19| 8329|2018|\n",
            "|2018-01-20| 6148|2018|\n",
            "+----------+-----+----+\n",
            "only showing top 20 rows\n",
            "\n"
          ]
        }
      ]
    },
    {
      "cell_type": "code",
      "metadata": {
        "colab": {
          "base_uri": "https://localhost:8080/"
        },
        "id": "qCTnPLzaObpB",
        "outputId": "1928f6cf-d1f6-462e-c763-b2b3e3735729"
      },
      "source": [
        "df.groupby('year').agg({'count':'sum'}).show()"
      ],
      "execution_count": 30,
      "outputs": [
        {
          "output_type": "stream",
          "name": "stdout",
          "text": [
            "+----+----------+\n",
            "|year|sum(count)|\n",
            "+----+----------+\n",
            "|2019|   1871935|\n",
            "|2018|  10124874|\n",
            "+----+----------+\n",
            "\n"
          ]
        }
      ]
    },
    {
      "cell_type": "markdown",
      "metadata": {
        "id": "98P7iUCMOxoJ"
      },
      "source": [
        "### 문제 1-2: 년도별, 월별 대여건수 합계"
      ]
    },
    {
      "cell_type": "code",
      "metadata": {
        "id": "ylretljIPHKq"
      },
      "source": [
        "month=udf(lambda x:x[5:7],StringType())\n",
        "df=df.withColumn('month',month(df['date']))"
      ],
      "execution_count": 31,
      "outputs": []
    },
    {
      "cell_type": "code",
      "metadata": {
        "colab": {
          "base_uri": "https://localhost:8080/"
        },
        "id": "so6IZPG9POih",
        "outputId": "c47012ee-7ae3-4983-c470-be7996377836"
      },
      "source": [
        "df.show()"
      ],
      "execution_count": 32,
      "outputs": [
        {
          "output_type": "stream",
          "name": "stdout",
          "text": [
            "+----------+-----+----+-----+\n",
            "|      date|count|year|month|\n",
            "+----------+-----+----+-----+\n",
            "|2018-01-01| 4950|2018|   01|\n",
            "|2018-01-02| 7136|2018|   01|\n",
            "|2018-01-03| 7156|2018|   01|\n",
            "|2018-01-04| 7102|2018|   01|\n",
            "|2018-01-05| 7705|2018|   01|\n",
            "|2018-01-06| 5681|2018|   01|\n",
            "|2018-01-07| 5220|2018|   01|\n",
            "|2018-01-08| 6309|2018|   01|\n",
            "|2018-01-09| 5988|2018|   01|\n",
            "|2018-01-10| 4476|2018|   01|\n",
            "|2018-01-11| 4337|2018|   01|\n",
            "|2018-01-12| 4401|2018|   01|\n",
            "|2018-01-13| 3756|2018|   01|\n",
            "|2018-01-14| 4675|2018|   01|\n",
            "|2018-01-15| 6993|2018|   01|\n",
            "|2018-01-16| 7421|2018|   01|\n",
            "|2018-01-17| 6990|2018|   01|\n",
            "|2018-01-18| 7054|2018|   01|\n",
            "|2018-01-19| 8329|2018|   01|\n",
            "|2018-01-20| 6148|2018|   01|\n",
            "+----------+-----+----+-----+\n",
            "only showing top 20 rows\n",
            "\n"
          ]
        }
      ]
    },
    {
      "cell_type": "code",
      "metadata": {
        "id": "l7qkchXTOmIi"
      },
      "source": [
        "sum_df=df.groupby('year').pivot('month').agg({'count':'sum'})"
      ],
      "execution_count": 48,
      "outputs": []
    },
    {
      "cell_type": "code",
      "metadata": {
        "colab": {
          "base_uri": "https://localhost:8080/"
        },
        "id": "2ETjcm9RRv2i",
        "outputId": "63f6947b-a17f-48fe-ea8b-aa15bde6d27e"
      },
      "source": [
        "sum_df.show()"
      ],
      "execution_count": 49,
      "outputs": [
        {
          "output_type": "stream",
          "name": "stdout",
          "text": [
            "+----+------+------+------+------+------+-------+-------+-------+-------+-------+------+------+\n",
            "|year|    01|    02|    03|    04|    05|     06|     07|     08|     09|     10|    11|    12|\n",
            "+----+------+------+------+------+------+-------+-------+-------+-------+-------+------+------+\n",
            "|2019|495573|471543|904819|  null|  null|   null|   null|   null|   null|   null|  null|  null|\n",
            "|2018|164367|168741|462661|687885|965609|1207123|1100015|1037505|1447993|1420621|961532|500822|\n",
            "+----+------+------+------+------+------+-------+-------+-------+-------+-------+------+------+\n",
            "\n"
          ]
        }
      ]
    },
    {
      "cell_type": "markdown",
      "metadata": {
        "id": "8hNJgesIO5cf"
      },
      "source": [
        "### 문제 1-3: 년도별, 월별 대여건수 그래프"
      ]
    },
    {
      "cell_type": "code",
      "metadata": {
        "id": "nX2XFNTARZAN"
      },
      "source": [
        "%matplotlib inline\n",
        "import numpy as np\n",
        "import pandas as pd\n",
        "import matplotlib.pyplot as plt"
      ],
      "execution_count": 41,
      "outputs": []
    },
    {
      "cell_type": "code",
      "metadata": {
        "id": "Zqey9Dy1Q8S6"
      },
      "source": [
        "sum_df_pandas=sum_df.toPandas()"
      ],
      "execution_count": 62,
      "outputs": []
    },
    {
      "cell_type": "code",
      "metadata": {
        "colab": {
          "base_uri": "https://localhost:8080/",
          "height": 110
        },
        "id": "9i9BmqgzS6t-",
        "outputId": "c2b6876f-c9fa-441e-ac69-764097464c24"
      },
      "source": [
        "sum_df_pandas.head()"
      ],
      "execution_count": 64,
      "outputs": [
        {
          "output_type": "execute_result",
          "data": {
            "text/html": [
              "<div>\n",
              "<style scoped>\n",
              "    .dataframe tbody tr th:only-of-type {\n",
              "        vertical-align: middle;\n",
              "    }\n",
              "\n",
              "    .dataframe tbody tr th {\n",
              "        vertical-align: top;\n",
              "    }\n",
              "\n",
              "    .dataframe thead th {\n",
              "        text-align: right;\n",
              "    }\n",
              "</style>\n",
              "<table border=\"1\" class=\"dataframe\">\n",
              "  <thead>\n",
              "    <tr style=\"text-align: right;\">\n",
              "      <th></th>\n",
              "      <th>year</th>\n",
              "      <th>01</th>\n",
              "      <th>02</th>\n",
              "      <th>03</th>\n",
              "      <th>04</th>\n",
              "      <th>05</th>\n",
              "      <th>06</th>\n",
              "      <th>07</th>\n",
              "      <th>08</th>\n",
              "      <th>09</th>\n",
              "      <th>10</th>\n",
              "      <th>11</th>\n",
              "      <th>12</th>\n",
              "    </tr>\n",
              "  </thead>\n",
              "  <tbody>\n",
              "    <tr>\n",
              "      <th>0</th>\n",
              "      <td>2019</td>\n",
              "      <td>495573</td>\n",
              "      <td>471543</td>\n",
              "      <td>904819</td>\n",
              "      <td>NaN</td>\n",
              "      <td>NaN</td>\n",
              "      <td>NaN</td>\n",
              "      <td>NaN</td>\n",
              "      <td>NaN</td>\n",
              "      <td>NaN</td>\n",
              "      <td>NaN</td>\n",
              "      <td>NaN</td>\n",
              "      <td>NaN</td>\n",
              "    </tr>\n",
              "    <tr>\n",
              "      <th>1</th>\n",
              "      <td>2018</td>\n",
              "      <td>164367</td>\n",
              "      <td>168741</td>\n",
              "      <td>462661</td>\n",
              "      <td>687885.0</td>\n",
              "      <td>965609.0</td>\n",
              "      <td>1207123.0</td>\n",
              "      <td>1100015.0</td>\n",
              "      <td>1037505.0</td>\n",
              "      <td>1447993.0</td>\n",
              "      <td>1420621.0</td>\n",
              "      <td>961532.0</td>\n",
              "      <td>500822.0</td>\n",
              "    </tr>\n",
              "  </tbody>\n",
              "</table>\n",
              "</div>"
            ],
            "text/plain": [
              "   year      01      02      03  ...         09         10        11        12\n",
              "0  2019  495573  471543  904819  ...        NaN        NaN       NaN       NaN\n",
              "1  2018  164367  168741  462661  ...  1447993.0  1420621.0  961532.0  500822.0\n",
              "\n",
              "[2 rows x 13 columns]"
            ]
          },
          "metadata": {},
          "execution_count": 64
        }
      ]
    },
    {
      "cell_type": "code",
      "metadata": {
        "colab": {
          "base_uri": "https://localhost:8080/",
          "height": 141
        },
        "id": "zlPLBEMxZTI_",
        "outputId": "b59f4e37-4846-4954-8fe0-553a9a333207"
      },
      "source": [
        "sum_df_pandas.set_index(['year'])"
      ],
      "execution_count": 78,
      "outputs": [
        {
          "output_type": "execute_result",
          "data": {
            "text/html": [
              "<div>\n",
              "<style scoped>\n",
              "    .dataframe tbody tr th:only-of-type {\n",
              "        vertical-align: middle;\n",
              "    }\n",
              "\n",
              "    .dataframe tbody tr th {\n",
              "        vertical-align: top;\n",
              "    }\n",
              "\n",
              "    .dataframe thead th {\n",
              "        text-align: right;\n",
              "    }\n",
              "</style>\n",
              "<table border=\"1\" class=\"dataframe\">\n",
              "  <thead>\n",
              "    <tr style=\"text-align: right;\">\n",
              "      <th></th>\n",
              "      <th>01</th>\n",
              "      <th>02</th>\n",
              "      <th>03</th>\n",
              "      <th>04</th>\n",
              "      <th>05</th>\n",
              "      <th>06</th>\n",
              "      <th>07</th>\n",
              "      <th>08</th>\n",
              "      <th>09</th>\n",
              "      <th>10</th>\n",
              "      <th>11</th>\n",
              "      <th>12</th>\n",
              "    </tr>\n",
              "    <tr>\n",
              "      <th>year</th>\n",
              "      <th></th>\n",
              "      <th></th>\n",
              "      <th></th>\n",
              "      <th></th>\n",
              "      <th></th>\n",
              "      <th></th>\n",
              "      <th></th>\n",
              "      <th></th>\n",
              "      <th></th>\n",
              "      <th></th>\n",
              "      <th></th>\n",
              "      <th></th>\n",
              "    </tr>\n",
              "  </thead>\n",
              "  <tbody>\n",
              "    <tr>\n",
              "      <th>2019</th>\n",
              "      <td>495573</td>\n",
              "      <td>471543</td>\n",
              "      <td>904819</td>\n",
              "      <td>NaN</td>\n",
              "      <td>NaN</td>\n",
              "      <td>NaN</td>\n",
              "      <td>NaN</td>\n",
              "      <td>NaN</td>\n",
              "      <td>NaN</td>\n",
              "      <td>NaN</td>\n",
              "      <td>NaN</td>\n",
              "      <td>NaN</td>\n",
              "    </tr>\n",
              "    <tr>\n",
              "      <th>2018</th>\n",
              "      <td>164367</td>\n",
              "      <td>168741</td>\n",
              "      <td>462661</td>\n",
              "      <td>687885.0</td>\n",
              "      <td>965609.0</td>\n",
              "      <td>1207123.0</td>\n",
              "      <td>1100015.0</td>\n",
              "      <td>1037505.0</td>\n",
              "      <td>1447993.0</td>\n",
              "      <td>1420621.0</td>\n",
              "      <td>961532.0</td>\n",
              "      <td>500822.0</td>\n",
              "    </tr>\n",
              "  </tbody>\n",
              "</table>\n",
              "</div>"
            ],
            "text/plain": [
              "          01      02      03  ...         10        11        12\n",
              "year                          ...                               \n",
              "2019  495573  471543  904819  ...        NaN       NaN       NaN\n",
              "2018  164367  168741  462661  ...  1420621.0  961532.0  500822.0\n",
              "\n",
              "[2 rows x 12 columns]"
            ]
          },
          "metadata": {},
          "execution_count": 78
        }
      ]
    },
    {
      "cell_type": "code",
      "metadata": {
        "id": "B3Nk6KFAZqMa"
      },
      "source": [
        "t=sum_df_pandas.drop('year',axis=1).T"
      ],
      "execution_count": 86,
      "outputs": []
    },
    {
      "cell_type": "code",
      "metadata": {
        "id": "hxpiOoLWZtZZ"
      },
      "source": [
        "t.rename(columns = {0 : '2018',1:'2019'}, inplace = True)"
      ],
      "execution_count": 92,
      "outputs": []
    },
    {
      "cell_type": "code",
      "metadata": {
        "colab": {
          "base_uri": "https://localhost:8080/",
          "height": 293
        },
        "id": "s01_PjL2YbLM",
        "outputId": "57c126b7-2be2-436a-cc04-ae2841e64d26"
      },
      "source": [
        "t.plot(kind='line')"
      ],
      "execution_count": 94,
      "outputs": [
        {
          "output_type": "execute_result",
          "data": {
            "text/plain": [
              "<matplotlib.axes._subplots.AxesSubplot at 0x7f6fec753e90>"
            ]
          },
          "metadata": {},
          "execution_count": 94
        },
        {
          "output_type": "display_data",
          "data": {
            "image/png": "[encoded data removed]",
            "text/plain": [
              "<Figure size 432x288 with 1 Axes>"
            ]
          },
          "metadata": {
            "needs_background": "light"
          }
        }
      ]
    }
  ]
}