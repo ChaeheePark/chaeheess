{
  "nbformat": 4,
  "nbformat_minor": 0,
  "metadata": {
    "colab": {
      "name": "빅데이터분석_정리2",
      "provenance": [],
      "collapsed_sections": []
    },
    "kernelspec": {
      "name": "python3",
      "display_name": "Python 3"
    },
    "language_info": {
      "name": "python"
    }
  },
  "cells": [
    {
      "cell_type": "code",
      "metadata": {
        "id": "X7kLB0jN3R00"
      },
      "source": [
        "import pyspark"
      ],
      "execution_count": 11,
      "outputs": []
    },
    {
      "cell_type": "code",
      "metadata": {
        "id": "FJLWLmuB3Ss4"
      },
      "source": [
        "myConf=pyspark.SparkConf()\n",
        "spark=pyspark.sql.SparkSession.builder.master(\"local\").appName(\"myApp\").config(conf=myConf).getOrCreate()"
      ],
      "execution_count": 12,
      "outputs": []
    },
    {
      "cell_type": "code",
      "metadata": {
        "id": "0Lvs48_n3TgD"
      },
      "source": [
        "file_name=\"http://archive.ics.uci.edu/ml/machine-learning-databases/abalone/abalone.data\""
      ],
      "execution_count": 13,
      "outputs": []
    },
    {
      "cell_type": "code",
      "source": [
        "import pandas as pd\n",
        "\n",
        "column_names = [\"sex\", \"length\", \"diameter\", \"height\", \"whole weight\", \n",
        "                \"shucked weight\", \"viscera weight\", \"shell weight\", \"rings\"]\n",
        "abalone = pd.read_csv(file_name, names=column_names)"
      ],
      "metadata": {
        "id": "YUGRAhZt1GRX"
      },
      "execution_count": 14,
      "outputs": []
    },
    {
      "cell_type": "code",
      "source": [
        "abalone.head()"
      ],
      "metadata": {
        "colab": {
          "base_uri": "https://localhost:8080/",
          "height": 206
        },
        "id": "kMmE_Ujo1Izd",
        "outputId": "f3bfc216-2f16-4d9e-aa54-0bc144cac2a7"
      },
      "execution_count": 15,
      "outputs": [
        {
          "output_type": "execute_result",
          "data": {
            "text/html": [
              "<div>\n",
              "<style scoped>\n",
              "    .dataframe tbody tr th:only-of-type {\n",
              "        vertical-align: middle;\n",
              "    }\n",
              "\n",
              "    .dataframe tbody tr th {\n",
              "        vertical-align: top;\n",
              "    }\n",
              "\n",
              "    .dataframe thead th {\n",
              "        text-align: right;\n",
              "    }\n",
              "</style>\n",
              "<table border=\"1\" class=\"dataframe\">\n",
              "  <thead>\n",
              "    <tr style=\"text-align: right;\">\n",
              "      <th></th>\n",
              "      <th>sex</th>\n",
              "      <th>length</th>\n",
              "      <th>diameter</th>\n",
              "      <th>height</th>\n",
              "      <th>whole weight</th>\n",
              "      <th>shucked weight</th>\n",
              "      <th>viscera weight</th>\n",
              "      <th>shell weight</th>\n",
              "      <th>rings</th>\n",
              "    </tr>\n",
              "  </thead>\n",
              "  <tbody>\n",
              "    <tr>\n",
              "      <th>0</th>\n",
              "      <td>M</td>\n",
              "      <td>0.455</td>\n",
              "      <td>0.365</td>\n",
              "      <td>0.095</td>\n",
              "      <td>0.5140</td>\n",
              "      <td>0.2245</td>\n",
              "      <td>0.1010</td>\n",
              "      <td>0.150</td>\n",
              "      <td>15</td>\n",
              "    </tr>\n",
              "    <tr>\n",
              "      <th>1</th>\n",
              "      <td>M</td>\n",
              "      <td>0.350</td>\n",
              "      <td>0.265</td>\n",
              "      <td>0.090</td>\n",
              "      <td>0.2255</td>\n",
              "      <td>0.0995</td>\n",
              "      <td>0.0485</td>\n",
              "      <td>0.070</td>\n",
              "      <td>7</td>\n",
              "    </tr>\n",
              "    <tr>\n",
              "      <th>2</th>\n",
              "      <td>F</td>\n",
              "      <td>0.530</td>\n",
              "      <td>0.420</td>\n",
              "      <td>0.135</td>\n",
              "      <td>0.6770</td>\n",
              "      <td>0.2565</td>\n",
              "      <td>0.1415</td>\n",
              "      <td>0.210</td>\n",
              "      <td>9</td>\n",
              "    </tr>\n",
              "    <tr>\n",
              "      <th>3</th>\n",
              "      <td>M</td>\n",
              "      <td>0.440</td>\n",
              "      <td>0.365</td>\n",
              "      <td>0.125</td>\n",
              "      <td>0.5160</td>\n",
              "      <td>0.2155</td>\n",
              "      <td>0.1140</td>\n",
              "      <td>0.155</td>\n",
              "      <td>10</td>\n",
              "    </tr>\n",
              "    <tr>\n",
              "      <th>4</th>\n",
              "      <td>I</td>\n",
              "      <td>0.330</td>\n",
              "      <td>0.255</td>\n",
              "      <td>0.080</td>\n",
              "      <td>0.2050</td>\n",
              "      <td>0.0895</td>\n",
              "      <td>0.0395</td>\n",
              "      <td>0.055</td>\n",
              "      <td>7</td>\n",
              "    </tr>\n",
              "  </tbody>\n",
              "</table>\n",
              "</div>"
            ],
            "text/plain": [
              "  sex  length  diameter  ...  viscera weight  shell weight  rings\n",
              "0   M   0.455     0.365  ...          0.1010         0.150     15\n",
              "1   M   0.350     0.265  ...          0.0485         0.070      7\n",
              "2   F   0.530     0.420  ...          0.1415         0.210      9\n",
              "3   M   0.440     0.365  ...          0.1140         0.155     10\n",
              "4   I   0.330     0.255  ...          0.0395         0.055      7\n",
              "\n",
              "[5 rows x 9 columns]"
            ]
          },
          "metadata": {},
          "execution_count": 15
        }
      ]
    },
    {
      "cell_type": "code",
      "source": [
        "abalone[\"age\"] = 1.5 * abalone[\"rings\"]"
      ],
      "metadata": {
        "id": "Df3wjMFb1JvB"
      },
      "execution_count": 16,
      "outputs": []
    },
    {
      "cell_type": "code",
      "source": [
        "abalone.sample(n=5)"
      ],
      "metadata": {
        "colab": {
          "base_uri": "https://localhost:8080/",
          "height": 206
        },
        "id": "mhszxjzi1R-Z",
        "outputId": "3339ffc8-2850-4a1f-d163-1d8c7681356c"
      },
      "execution_count": 17,
      "outputs": [
        {
          "output_type": "execute_result",
          "data": {
            "text/html": [
              "<div>\n",
              "<style scoped>\n",
              "    .dataframe tbody tr th:only-of-type {\n",
              "        vertical-align: middle;\n",
              "    }\n",
              "\n",
              "    .dataframe tbody tr th {\n",
              "        vertical-align: top;\n",
              "    }\n",
              "\n",
              "    .dataframe thead th {\n",
              "        text-align: right;\n",
              "    }\n",
              "</style>\n",
              "<table border=\"1\" class=\"dataframe\">\n",
              "  <thead>\n",
              "    <tr style=\"text-align: right;\">\n",
              "      <th></th>\n",
              "      <th>sex</th>\n",
              "      <th>length</th>\n",
              "      <th>diameter</th>\n",
              "      <th>height</th>\n",
              "      <th>whole weight</th>\n",
              "      <th>shucked weight</th>\n",
              "      <th>viscera weight</th>\n",
              "      <th>shell weight</th>\n",
              "      <th>rings</th>\n",
              "      <th>age</th>\n",
              "    </tr>\n",
              "  </thead>\n",
              "  <tbody>\n",
              "    <tr>\n",
              "      <th>1454</th>\n",
              "      <td>I</td>\n",
              "      <td>0.470</td>\n",
              "      <td>0.355</td>\n",
              "      <td>0.120</td>\n",
              "      <td>0.3685</td>\n",
              "      <td>0.1260</td>\n",
              "      <td>0.0835</td>\n",
              "      <td>0.1365</td>\n",
              "      <td>6</td>\n",
              "      <td>9.0</td>\n",
              "    </tr>\n",
              "    <tr>\n",
              "      <th>3761</th>\n",
              "      <td>M</td>\n",
              "      <td>0.530</td>\n",
              "      <td>0.420</td>\n",
              "      <td>0.135</td>\n",
              "      <td>0.6750</td>\n",
              "      <td>0.2940</td>\n",
              "      <td>0.1560</td>\n",
              "      <td>0.1825</td>\n",
              "      <td>10</td>\n",
              "      <td>15.0</td>\n",
              "    </tr>\n",
              "    <tr>\n",
              "      <th>1134</th>\n",
              "      <td>F</td>\n",
              "      <td>0.570</td>\n",
              "      <td>0.445</td>\n",
              "      <td>0.145</td>\n",
              "      <td>0.8775</td>\n",
              "      <td>0.4120</td>\n",
              "      <td>0.2170</td>\n",
              "      <td>0.2200</td>\n",
              "      <td>8</td>\n",
              "      <td>12.0</td>\n",
              "    </tr>\n",
              "    <tr>\n",
              "      <th>43</th>\n",
              "      <td>I</td>\n",
              "      <td>0.205</td>\n",
              "      <td>0.150</td>\n",
              "      <td>0.055</td>\n",
              "      <td>0.0420</td>\n",
              "      <td>0.0255</td>\n",
              "      <td>0.0150</td>\n",
              "      <td>0.0120</td>\n",
              "      <td>5</td>\n",
              "      <td>7.5</td>\n",
              "    </tr>\n",
              "    <tr>\n",
              "      <th>2084</th>\n",
              "      <td>F</td>\n",
              "      <td>0.690</td>\n",
              "      <td>0.540</td>\n",
              "      <td>0.195</td>\n",
              "      <td>1.2525</td>\n",
              "      <td>0.7300</td>\n",
              "      <td>0.3975</td>\n",
              "      <td>0.4620</td>\n",
              "      <td>12</td>\n",
              "      <td>18.0</td>\n",
              "    </tr>\n",
              "  </tbody>\n",
              "</table>\n",
              "</div>"
            ],
            "text/plain": [
              "     sex  length  diameter  height  ...  viscera weight  shell weight  rings   age\n",
              "1454   I   0.470     0.355   0.120  ...          0.0835        0.1365      6   9.0\n",
              "3761   M   0.530     0.420   0.135  ...          0.1560        0.1825     10  15.0\n",
              "1134   F   0.570     0.445   0.145  ...          0.2170        0.2200      8  12.0\n",
              "43     I   0.205     0.150   0.055  ...          0.0150        0.0120      5   7.5\n",
              "2084   F   0.690     0.540   0.195  ...          0.3975        0.4620     12  18.0\n",
              "\n",
              "[5 rows x 10 columns]"
            ]
          },
          "metadata": {},
          "execution_count": 17
        }
      ]
    },
    {
      "cell_type": "code",
      "source": [
        "abalone['Male'] = (abalone['sex']=='M').astype(int)\n",
        "abalone['Female'] = (abalone['sex']=='F').astype(int)\n",
        "abalone['Infant'] = (abalone['sex']=='I').astype(int)"
      ],
      "metadata": {
        "id": "SCQpwhAB1TiX"
      },
      "execution_count": 18,
      "outputs": []
    },
    {
      "cell_type": "code",
      "source": [
        "abalone.sample(n=5)"
      ],
      "metadata": {
        "colab": {
          "base_uri": "https://localhost:8080/",
          "height": 206
        },
        "id": "ctVJXdDO1YkF",
        "outputId": "287ef88d-3fa2-4ee7-882f-1f03bfdab0f3"
      },
      "execution_count": 19,
      "outputs": [
        {
          "output_type": "execute_result",
          "data": {
            "text/html": [
              "<div>\n",
              "<style scoped>\n",
              "    .dataframe tbody tr th:only-of-type {\n",
              "        vertical-align: middle;\n",
              "    }\n",
              "\n",
              "    .dataframe tbody tr th {\n",
              "        vertical-align: top;\n",
              "    }\n",
              "\n",
              "    .dataframe thead th {\n",
              "        text-align: right;\n",
              "    }\n",
              "</style>\n",
              "<table border=\"1\" class=\"dataframe\">\n",
              "  <thead>\n",
              "    <tr style=\"text-align: right;\">\n",
              "      <th></th>\n",
              "      <th>sex</th>\n",
              "      <th>length</th>\n",
              "      <th>diameter</th>\n",
              "      <th>height</th>\n",
              "      <th>whole weight</th>\n",
              "      <th>shucked weight</th>\n",
              "      <th>viscera weight</th>\n",
              "      <th>shell weight</th>\n",
              "      <th>rings</th>\n",
              "      <th>age</th>\n",
              "      <th>Male</th>\n",
              "      <th>Female</th>\n",
              "      <th>Infant</th>\n",
              "    </tr>\n",
              "  </thead>\n",
              "  <tbody>\n",
              "    <tr>\n",
              "      <th>2669</th>\n",
              "      <td>M</td>\n",
              "      <td>0.590</td>\n",
              "      <td>0.470</td>\n",
              "      <td>0.150</td>\n",
              "      <td>0.861</td>\n",
              "      <td>0.4130</td>\n",
              "      <td>0.1640</td>\n",
              "      <td>0.2490</td>\n",
              "      <td>8</td>\n",
              "      <td>12.0</td>\n",
              "      <td>1</td>\n",
              "      <td>0</td>\n",
              "      <td>0</td>\n",
              "    </tr>\n",
              "    <tr>\n",
              "      <th>2875</th>\n",
              "      <td>I</td>\n",
              "      <td>0.435</td>\n",
              "      <td>0.335</td>\n",
              "      <td>0.095</td>\n",
              "      <td>0.298</td>\n",
              "      <td>0.1090</td>\n",
              "      <td>0.0580</td>\n",
              "      <td>0.1150</td>\n",
              "      <td>7</td>\n",
              "      <td>10.5</td>\n",
              "      <td>0</td>\n",
              "      <td>0</td>\n",
              "      <td>1</td>\n",
              "    </tr>\n",
              "    <tr>\n",
              "      <th>71</th>\n",
              "      <td>F</td>\n",
              "      <td>0.400</td>\n",
              "      <td>0.320</td>\n",
              "      <td>0.110</td>\n",
              "      <td>0.353</td>\n",
              "      <td>0.1405</td>\n",
              "      <td>0.0985</td>\n",
              "      <td>0.1000</td>\n",
              "      <td>8</td>\n",
              "      <td>12.0</td>\n",
              "      <td>0</td>\n",
              "      <td>1</td>\n",
              "      <td>0</td>\n",
              "    </tr>\n",
              "    <tr>\n",
              "      <th>3291</th>\n",
              "      <td>M</td>\n",
              "      <td>0.530</td>\n",
              "      <td>0.405</td>\n",
              "      <td>0.130</td>\n",
              "      <td>0.738</td>\n",
              "      <td>0.2845</td>\n",
              "      <td>0.1700</td>\n",
              "      <td>0.1930</td>\n",
              "      <td>9</td>\n",
              "      <td>13.5</td>\n",
              "      <td>1</td>\n",
              "      <td>0</td>\n",
              "      <td>0</td>\n",
              "    </tr>\n",
              "    <tr>\n",
              "      <th>2851</th>\n",
              "      <td>F</td>\n",
              "      <td>0.635</td>\n",
              "      <td>0.510</td>\n",
              "      <td>0.185</td>\n",
              "      <td>1.286</td>\n",
              "      <td>0.5260</td>\n",
              "      <td>0.2950</td>\n",
              "      <td>0.4105</td>\n",
              "      <td>12</td>\n",
              "      <td>18.0</td>\n",
              "      <td>0</td>\n",
              "      <td>1</td>\n",
              "      <td>0</td>\n",
              "    </tr>\n",
              "  </tbody>\n",
              "</table>\n",
              "</div>"
            ],
            "text/plain": [
              "     sex  length  diameter  height  ...   age  Male  Female  Infant\n",
              "2669   M   0.590     0.470   0.150  ...  12.0     1       0       0\n",
              "2875   I   0.435     0.335   0.095  ...  10.5     0       0       1\n",
              "71     F   0.400     0.320   0.110  ...  12.0     0       1       0\n",
              "3291   M   0.530     0.405   0.130  ...  13.5     1       0       0\n",
              "2851   F   0.635     0.510   0.185  ...  18.0     0       1       0\n",
              "\n",
              "[5 rows x 13 columns]"
            ]
          },
          "metadata": {},
          "execution_count": 19
        }
      ]
    },
    {
      "cell_type": "code",
      "source": [
        "from sklearn.preprocessing import OneHotEncoder\n",
        "from sklearn.compose import ColumnTransformer\n",
        "ct = ColumnTransformer(transformers=[(\"sex\", OneHotEncoder(handle_unknown='ignore'), [0])],\n",
        "                       remainder = 'passthrough')\n",
        "X = ct.fit_transform(abalone)"
      ],
      "metadata": {
        "id": "xhj475lk1Zn2"
      },
      "execution_count": 37,
      "outputs": []
    },
    {
      "cell_type": "code",
      "source": [
        "_abalone = pd.DataFrame(X)"
      ],
      "metadata": {
        "id": "vVfyRHAK1dSb"
      },
      "execution_count": 38,
      "outputs": []
    },
    {
      "cell_type": "code",
      "source": [
        "abalaoneDf=spark.createDataFrame(abalone)"
      ],
      "metadata": {
        "id": "3ajWUyMS1fPE"
      },
      "execution_count": 39,
      "outputs": []
    },
    {
      "cell_type": "code",
      "source": [
        "abalaoneDf.printSchema()"
      ],
      "metadata": {
        "colab": {
          "base_uri": "https://localhost:8080/"
        },
        "id": "Z4hfP_fL1hEn",
        "outputId": "d92ee8b3-134e-4271-be78-cc6cd08f5011"
      },
      "execution_count": 40,
      "outputs": [
        {
          "output_type": "stream",
          "name": "stdout",
          "text": [
            "root\n",
            " |-- sex: string (nullable = true)\n",
            " |-- length: double (nullable = true)\n",
            " |-- diameter: double (nullable = true)\n",
            " |-- height: double (nullable = true)\n",
            " |-- whole weight: double (nullable = true)\n",
            " |-- shucked weight: double (nullable = true)\n",
            " |-- viscera weight: double (nullable = true)\n",
            " |-- shell weight: double (nullable = true)\n",
            " |-- rings: long (nullable = true)\n",
            " |-- age: double (nullable = true)\n",
            " |-- Male: long (nullable = true)\n",
            " |-- Female: long (nullable = true)\n",
            " |-- Infant: long (nullable = true)\n",
            "\n"
          ]
        }
      ]
    },
    {
      "cell_type": "code",
      "source": [
        "abalaoneDf.groupBy('sex').agg({\"age\":\"avg\"}).show()"
      ],
      "metadata": {
        "colab": {
          "base_uri": "https://localhost:8080/"
        },
        "id": "WItzujbG1nis",
        "outputId": "2f80c408-6df6-46ce-d5c0-8631be1332c7"
      },
      "execution_count": 41,
      "outputs": [
        {
          "output_type": "stream",
          "name": "stdout",
          "text": [
            "+---+------------------+\n",
            "|sex|          avg(age)|\n",
            "+---+------------------+\n",
            "|  F| 16.69395562356542|\n",
            "|  M| 16.05824607329843|\n",
            "|  I|11.835692995529062|\n",
            "+---+------------------+\n",
            "\n"
          ]
        }
      ]
    },
    {
      "cell_type": "code",
      "source": [
        "abalaoneDf.show()"
      ],
      "metadata": {
        "colab": {
          "base_uri": "https://localhost:8080/"
        },
        "id": "BeuEHCqp4y-p",
        "outputId": "dcac4176-8d1e-4da8-d51c-18c2751f8341"
      },
      "execution_count": 42,
      "outputs": [
        {
          "output_type": "stream",
          "name": "stdout",
          "text": [
            "+---+------+--------+------+------------+-------------------+-------------------+------------+-----+----+----+------+------+\n",
            "|sex|length|diameter|height|whole weight|     shucked weight|     viscera weight|shell weight|rings| age|Male|Female|Infant|\n",
            "+---+------+--------+------+------------+-------------------+-------------------+------------+-----+----+----+------+------+\n",
            "|  M| 0.455|   0.365| 0.095|       0.514|             0.2245|0.10099999999999999|        0.15|   15|22.5|   1|     0|     0|\n",
            "|  M|  0.35|   0.265|  0.09|      0.2255|             0.0995|             0.0485|        0.07|    7|10.5|   1|     0|     0|\n",
            "|  F|  0.53|    0.42| 0.135|       0.677|             0.2565|             0.1415|        0.21|    9|13.5|   0|     1|     0|\n",
            "|  M|  0.44|   0.365| 0.125|       0.516|             0.2155|              0.114|       0.155|   10|15.0|   1|     0|     0|\n",
            "|  I|  0.33|   0.255|  0.08|       0.205|             0.0895|             0.0395|       0.055|    7|10.5|   0|     0|     1|\n",
            "|  I| 0.425|     0.3| 0.095|      0.3515|              0.141|             0.0775|        0.12|    8|12.0|   0|     0|     1|\n",
            "|  F|  0.53|   0.415|  0.15|      0.7775|              0.237|             0.1415|        0.33|   20|30.0|   0|     1|     0|\n",
            "|  F| 0.545|   0.425| 0.125|       0.768|              0.294|             0.1495|        0.26|   16|24.0|   0|     1|     0|\n",
            "|  M| 0.475|    0.37| 0.125|      0.5095|             0.2165|             0.1125|       0.165|    9|13.5|   1|     0|     0|\n",
            "|  F|  0.55|    0.44|  0.15|      0.8945|             0.3145|              0.151|        0.32|   19|28.5|   0|     1|     0|\n",
            "|  F| 0.525|    0.38|  0.14|      0.6065|0.19399999999999998|             0.1475|        0.21|   14|21.0|   0|     1|     0|\n",
            "|  M|  0.43|    0.35|  0.11|       0.406|             0.1675|              0.081|       0.135|   10|15.0|   1|     0|     0|\n",
            "|  M|  0.49|    0.38| 0.135|      0.5415|             0.2175|              0.095|        0.19|   11|16.5|   1|     0|     0|\n",
            "|  F| 0.535|   0.405| 0.145|      0.6845|             0.2725|              0.171|       0.205|   10|15.0|   0|     1|     0|\n",
            "|  F|  0.47|   0.355|   0.1|      0.4755|             0.1675|             0.0805|       0.185|   10|15.0|   0|     1|     0|\n",
            "|  M|   0.5|     0.4|  0.13|      0.6645|              0.258|              0.133|        0.24|   12|18.0|   1|     0|     0|\n",
            "|  I| 0.355|    0.28| 0.085|      0.2905|              0.095|             0.0395|       0.115|    7|10.5|   0|     0|     1|\n",
            "|  F|  0.44|    0.34|   0.1|       0.451|              0.188|              0.087|        0.13|   10|15.0|   0|     1|     0|\n",
            "|  M| 0.365|   0.295|  0.08|      0.2555|0.09699999999999999|              0.043|         0.1|    7|10.5|   1|     0|     0|\n",
            "|  M|  0.45|    0.32|   0.1|       0.381|             0.1705|              0.075|       0.115|    9|13.5|   1|     0|     0|\n",
            "+---+------+--------+------+------------+-------------------+-------------------+------------+-----+----+----+------+------+\n",
            "only showing top 20 rows\n",
            "\n"
          ]
        }
      ]
    },
    {
      "cell_type": "code",
      "source": [
        "(trainDf, testDf) = abalaoneDf.randomSplit([0.6, 0.4])"
      ],
      "metadata": {
        "id": "hDyifoMr1pWV"
      },
      "execution_count": 26,
      "outputs": []
    },
    {
      "cell_type": "code",
      "source": [
        "from pyspark.ml.feature import StringIndexer\n",
        "\n",
        "stringIndexer = StringIndexer(inputCol=\"sex\", outputCol=\"sexIndex\")\n",
        "#siModel = stringIndexer.fit(trainDf)\n",
        "#siDf = siModel.transform(trainDf)"
      ],
      "metadata": {
        "id": "MMXf2kBf1twk"
      },
      "execution_count": 43,
      "outputs": []
    },
    {
      "cell_type": "code",
      "source": [
        "from pyspark.ml.feature import OneHotEncoder\n",
        "\n",
        "encoder = OneHotEncoder(inputCol=\"sexIndex\", outputCol=\"sexVec\")\n",
        "#enModel = encoder.fit(trainDf)\n",
        "#enDf = enModel.transform(trainDf)"
      ],
      "metadata": {
        "id": "MhUrzkM51wIH"
      },
      "execution_count": 44,
      "outputs": []
    },
    {
      "cell_type": "code",
      "source": [
        "from pyspark.ml.feature import VectorAssembler\n",
        "va = VectorAssembler(inputCols = [\"sexVec\", \"length\", \"diameter\", \"height\", \"whole weight\", \n",
        "                                            \"shucked weight\", \"viscera weight\", \"shell weight\"],\n",
        "                                   outputCol = 'features')\n",
        "#vaDf = va.transform(trainDf)"
      ],
      "metadata": {
        "id": "Q7NNI-hG10fo"
      },
      "execution_count": 45,
      "outputs": []
    },
    {
      "cell_type": "code",
      "source": [
        "from pyspark.ml.regression import LinearRegression\n",
        "lr = LinearRegression(featuresCol = 'features', labelCol='age', maxIter=10, regParam=0.3, elasticNetParam=0.8)\n",
        "#lrModel = lr.fit(trainDf)"
      ],
      "metadata": {
        "id": "73HwfEMs11q0"
      },
      "execution_count": 49,
      "outputs": []
    },
    {
      "cell_type": "code",
      "source": [
        "from pyspark.ml import Pipeline\n",
        "\n",
        "pipeline = Pipeline(stages=[stringIndexer, encoder, va, lr])"
      ],
      "metadata": {
        "id": "JntclZWI122b"
      },
      "execution_count": 50,
      "outputs": []
    },
    {
      "cell_type": "code",
      "source": [
        "model = pipeline.fit(trainDf)\n",
        "modelTrainDf = model.transform(trainDf)"
      ],
      "metadata": {
        "id": "RFju_28l13yL"
      },
      "execution_count": 51,
      "outputs": []
    },
    {
      "cell_type": "code",
      "source": [
        "print(\"Coefficients: {}\".format(model.stages[-1].coefficients))\n",
        "print(\"Intercept: {:.3f}\".format(model.stages[-1].intercept))"
      ],
      "metadata": {
        "colab": {
          "base_uri": "https://localhost:8080/"
        },
        "id": "iFTgKmyk14qo",
        "outputId": "a5e3528b-f578-470d-cd70-22c1f20768b7"
      },
      "execution_count": 52,
      "outputs": [
        {
          "output_type": "stream",
          "name": "stdout",
          "text": [
            "Coefficients: [0.0,-1.2115515711676572,1.9716145409304096,4.852256878030152,15.12914096323253,0.0,-5.484148293325724,0.0,18.09197923812694]\n",
            "Intercept: 7.837\n"
          ]
        }
      ]
    },
    {
      "cell_type": "code",
      "source": [
        "modelTestDf=model.transform(testDf)"
      ],
      "metadata": {
        "id": "EUnfoH1p158E"
      },
      "execution_count": 58,
      "outputs": []
    },
    {
      "cell_type": "code",
      "source": [
        "modelTestDf.select('age','prediction').show(10)"
      ],
      "metadata": {
        "colab": {
          "base_uri": "https://localhost:8080/"
        },
        "id": "t_tFvoBN1694",
        "outputId": "a5072816-d354-4c9b-cfaa-80aa6f595a30"
      },
      "execution_count": 59,
      "outputs": [
        {
          "output_type": "stream",
          "name": "stdout",
          "text": [
            "+----+------------------+\n",
            "| age|        prediction|\n",
            "+----+------------------+\n",
            "|10.5|11.082428904939247|\n",
            "|10.5|11.756506723028588|\n",
            "| 9.0|11.403260421558798|\n",
            "|13.5|11.963563256719677|\n",
            "|15.0|12.099403824999978|\n",
            "|15.0| 11.99750664636318|\n",
            "|12.0|11.867584468466992|\n",
            "|12.0|12.351087080112912|\n",
            "|13.5|12.461633482261355|\n",
            "|10.5|11.870649142790395|\n",
            "+----+------------------+\n",
            "only showing top 10 rows\n",
            "\n"
          ]
        }
      ]
    },
    {
      "cell_type": "code",
      "source": [
        "modelTestDf.select('age','prediction').show(5)"
      ],
      "metadata": {
        "id": "jOrQUora17z0"
      },
      "execution_count": null,
      "outputs": []
    },
    {
      "cell_type": "code",
      "source": [
        "from pyspark.ml.evaluation import RegressionEvaluator\n",
        "\n",
        "evaluator=RegressionEvaluator(labelCol=\"age\", predictionCol=\"prediction\", metricName=\"rmse\")\n",
        "rmse=evaluator.evaluate(modelTestDf)\n",
        "f\"Root Mean Squared Error (RMSE) on test data: {rmse:.3f}\""
      ],
      "metadata": {
        "colab": {
          "base_uri": "https://localhost:8080/",
          "height": 35
        },
        "id": "44zOwopn61fQ",
        "outputId": "e5f3f71c-fd57-465d-fe5c-b96bef1082b3"
      },
      "execution_count": 60,
      "outputs": [
        {
          "output_type": "execute_result",
          "data": {
            "application/vnd.google.colaboratory.intrinsic+json": {
              "type": "string"
            },
            "text/plain": [
              "'Root Mean Squared Error (RMSE) on test data: 3.492'"
            ]
          },
          "metadata": {},
          "execution_count": 60
        }
      ]
    },
    {
      "cell_type": "code",
      "source": [
        "from pyspark.ml.evaluation import RegressionEvaluator\n",
        "\n",
        "evaluator=RegressionEvaluator(labelCol=\"age\", predictionCol=\"prediction\", metricName=\"r2\")\n",
        "f\"r2: {evaluator.evaluate(modelTestDf):.3f}\""
      ],
      "metadata": {
        "colab": {
          "base_uri": "https://localhost:8080/",
          "height": 35
        },
        "id": "6VjO3i5g61vT",
        "outputId": "39425f2b-f596-424a-92dc-a4d77c9799c2"
      },
      "execution_count": 62,
      "outputs": [
        {
          "output_type": "execute_result",
          "data": {
            "application/vnd.google.colaboratory.intrinsic+json": {
              "type": "string"
            },
            "text/plain": [
              "'r2: 0.452'"
            ]
          },
          "metadata": {},
          "execution_count": 62
        }
      ]
    },
    {
      "cell_type": "code",
      "source": [
        "file_name = \"https://archive.ics.uci.edu/ml/machine-learning-databases/iris/iris.data\""
      ],
      "metadata": {
        "id": "H5cGgk1963pL"
      },
      "execution_count": 63,
      "outputs": []
    },
    {
      "cell_type": "code",
      "source": [
        "import pandas as pd\n",
        "\n",
        "iris = pd.read_csv(file_name, names=[\"sepal_length\",\"sepal_width\",\"petal_length\", \"petal_width\",\"species\"])"
      ],
      "metadata": {
        "id": "vy1eMhw28Obi"
      },
      "execution_count": 64,
      "outputs": []
    },
    {
      "cell_type": "code",
      "source": [
        "irisDf=spark.createDataFrame(iris)"
      ],
      "metadata": {
        "id": "TL7Q-36d8QGK"
      },
      "execution_count": 65,
      "outputs": []
    },
    {
      "cell_type": "code",
      "source": [
        "irisDf.printSchema()"
      ],
      "metadata": {
        "colab": {
          "base_uri": "https://localhost:8080/"
        },
        "id": "C0jNW0oM8iF7",
        "outputId": "b3a74625-c52b-41bb-f6e2-61ae3e8a039e"
      },
      "execution_count": 66,
      "outputs": [
        {
          "output_type": "stream",
          "name": "stdout",
          "text": [
            "root\n",
            " |-- sepal_length: double (nullable = true)\n",
            " |-- sepal_width: double (nullable = true)\n",
            " |-- petal_length: double (nullable = true)\n",
            " |-- petal_width: double (nullable = true)\n",
            " |-- species: string (nullable = true)\n",
            "\n"
          ]
        }
      ]
    },
    {
      "cell_type": "code",
      "source": [
        "from pyspark.ml.feature import VectorAssembler\n",
        "va = VectorAssembler(inputCols = [\"petal_length\"],\n",
        "                                   outputCol = 'features') ##형식을 vector로 반드시 맞추어야한다."
      ],
      "metadata": {
        "id": "McG6PghM8jEc"
      },
      "execution_count": 68,
      "outputs": []
    },
    {
      "cell_type": "code",
      "source": [
        "_irisDf=va.transform(irisDf) #하나만 하니까 파이프라인 할 필요 없음"
      ],
      "metadata": {
        "id": "izB2sBJS8kMV"
      },
      "execution_count": 69,
      "outputs": []
    },
    {
      "cell_type": "code",
      "source": [
        "from pyspark.ml.regression import LinearRegression\n",
        "lr = LinearRegression(featuresCol = 'features', labelCol='petal_width')"
      ],
      "metadata": {
        "id": "sNSp2HlI-oUq"
      },
      "execution_count": 70,
      "outputs": []
    },
    {
      "cell_type": "code",
      "source": [
        "lr_model=lr.fit(_irisDf)"
      ],
      "metadata": {
        "id": "xlEHD6nZ_6Xx"
      },
      "execution_count": 71,
      "outputs": []
    },
    {
      "cell_type": "code",
      "source": [
        "print(\"Coefficients: {}\".format(lr_model.coefficients))\n",
        "print(\"Intercept: {:.3f}\".format(lr_model.intercept)) #y절편"
      ],
      "metadata": {
        "colab": {
          "base_uri": "https://localhost:8080/"
        },
        "id": "H-TdTGoU_7KK",
        "outputId": "a19cac83-1e87-480a-b12e-e0439b4cbefa"
      },
      "execution_count": 72,
      "outputs": [
        {
          "output_type": "stream",
          "name": "stdout",
          "text": [
            "Coefficients: [0.41641913228540195]\n",
            "Intercept: -0.367\n"
          ]
        }
      ]
    },
    {
      "cell_type": "code",
      "source": [
        "#pandas 컬럼명 넣어야함\n",
        "import seaborn as sns\n",
        "sns.lmplot(x=\"petal_length\",y=\"petal_width\",data=iris)"
      ],
      "metadata": {
        "colab": {
          "base_uri": "https://localhost:8080/",
          "height": 387
        },
        "id": "uPunhMQl_75C",
        "outputId": "ed5181b3-40f7-408e-eac1-06278c66a26f"
      },
      "execution_count": 73,
      "outputs": [
        {
          "output_type": "execute_result",
          "data": {
            "text/plain": [
              "<seaborn.axisgrid.FacetGrid at 0x7f7cc58cd150>"
            ]
          },
          "metadata": {},
          "execution_count": 73
        },
        {
          "output_type": "display_data",
          "data": {
            "image/png": "[encoded data removed]",
            "text/plain": [
              "<Figure size 360x360 with 1 Axes>"
            ]
          },
          "metadata": {
            "needs_background": "light"
          }
        }
      ]
    },
    {
      "cell_type": "code",
      "source": [
        "import seaborn as sns\n",
        "sns.lmplot(x=\"petal_length\",y=\"petal_width\",data=iris,hue='species')"
      ],
      "metadata": {
        "colab": {
          "base_uri": "https://localhost:8080/",
          "height": 387
        },
        "id": "yFDLHr78_9en",
        "outputId": "98f079aa-9a19-4a5c-8957-b51be96ef98f"
      },
      "execution_count": 74,
      "outputs": [
        {
          "output_type": "execute_result",
          "data": {
            "text/plain": [
              "<seaborn.axisgrid.FacetGrid at 0x7f7cc51173d0>"
            ]
          },
          "metadata": {},
          "execution_count": 74
        },
        {
          "output_type": "display_data",
          "data": {
            "image/png": "[encoded data removed]",
            "text/plain": [
              "<Figure size 463.25x360 with 1 Axes>"
            ]
          },
          "metadata": {
            "needs_background": "light"
          }
        }
      ]
    },
    {
      "cell_type": "code",
      "source": [
        "from sklearn.datasets import make_classification\n",
        "\n",
        "X, Y = make_classification(n_samples=100, n_features=2, n_informative=2, n_redundant=0)"
      ],
      "metadata": {
        "id": "XsJxTTgBD9-W"
      },
      "execution_count": 75,
      "outputs": []
    },
    {
      "cell_type": "code",
      "source": [
        "X[:5] #연속적이므로 bi~multi~에는 해당안됨. 정규분포"
      ],
      "metadata": {
        "colab": {
          "base_uri": "https://localhost:8080/"
        },
        "id": "dJd9DhJYD-BR",
        "outputId": "70088eb5-d6b4-4764-d759-40e1c33b40de"
      },
      "execution_count": 76,
      "outputs": [
        {
          "output_type": "execute_result",
          "data": {
            "text/plain": [
              "array([[-1.07833384, -1.35575073],\n",
              "       [-1.86047403,  1.74735208],\n",
              "       [-2.01007335, -0.7945822 ],\n",
              "       [-0.73029861,  0.76421034],\n",
              "       [ 1.08057118, -0.82343188]])"
            ]
          },
          "metadata": {},
          "execution_count": 76
        }
      ]
    },
    {
      "cell_type": "code",
      "source": [
        "Y[:5]"
      ],
      "metadata": {
        "colab": {
          "base_uri": "https://localhost:8080/"
        },
        "id": "WR40ixe4D-D0",
        "outputId": "908b00f2-4e14-497f-d1b1-4f47db54289d"
      },
      "execution_count": 77,
      "outputs": [
        {
          "output_type": "execute_result",
          "data": {
            "text/plain": [
              "array([0, 1, 0, 1, 0])"
            ]
          },
          "metadata": {},
          "execution_count": 77
        }
      ]
    },
    {
      "cell_type": "code",
      "source": [
        "X.mean(), X.std()"
      ],
      "metadata": {
        "colab": {
          "base_uri": "https://localhost:8080/"
        },
        "id": "shXx7JdQD-Gy",
        "outputId": "9f41a43e-88de-4a29-bf20-e258e9cbc92a"
      },
      "execution_count": 81,
      "outputs": [
        {
          "output_type": "execute_result",
          "data": {
            "text/plain": [
              "(-0.0006722252252260929, 1.2688044272817758)"
            ]
          },
          "metadata": {},
          "execution_count": 81
        }
      ]
    },
    {
      "cell_type": "code",
      "source": [
        "import matplotlib.pyplot as plt\n",
        "\n",
        "plt.scatter(X[:,0], X[:,1], marker='o', c=Y)\n",
        "plt.show()"
      ],
      "metadata": {
        "colab": {
          "base_uri": "https://localhost:8080/",
          "height": 265
        },
        "id": "cp0qJf9sD-Js",
        "outputId": "813b06c1-0aa4-42ee-ca3b-4eba223b5331"
      },
      "execution_count": 79,
      "outputs": [
        {
          "output_type": "display_data",
          "data": {
            "image/png": "[encoded data removed]",
            "text/plain": [
              "<Figure size 432x288 with 1 Axes>"
            ]
          },
          "metadata": {
            "needs_background": "light"
          }
        }
      ]
    },
    {
      "cell_type": "code",
      "source": [
        "from sklearn.model_selection import train_test_split\n",
        "\n",
        "X_train, X_test, Y_train, Y_test = train_test_split(X, Y, test_size=0.25)"
      ],
      "metadata": {
        "id": "KdfjE8zHEhuJ"
      },
      "execution_count": 82,
      "outputs": []
    },
    {
      "cell_type": "code",
      "source": [
        "from sklearn.naive_bayes import BernoulliNB\n",
        "\n",
        "bnb = BernoulliNB(binarize=0.0)"
      ],
      "metadata": {
        "id": "xdBzAIGmF14Q"
      },
      "execution_count": 83,
      "outputs": []
    },
    {
      "cell_type": "code",
      "source": [
        "bnb.fit(X_train, Y_train)"
      ],
      "metadata": {
        "colab": {
          "base_uri": "https://localhost:8080/"
        },
        "id": "Sofz3GE1F3KG",
        "outputId": "a64904a5-3153-4573-a433-58da8a61e6ab"
      },
      "execution_count": 84,
      "outputs": [
        {
          "output_type": "execute_result",
          "data": {
            "text/plain": [
              "BernoulliNB()"
            ]
          },
          "metadata": {},
          "execution_count": 84
        }
      ]
    },
    {
      "cell_type": "code",
      "source": [
        "list(zip(bnb.predict(X_test),Y_test, X_test)) #zip: 묶어줌 출력은x / list:출력해줌"
      ],
      "metadata": {
        "colab": {
          "base_uri": "https://localhost:8080/"
        },
        "id": "jg0lfGR0F4N5",
        "outputId": "91276cba-88e5-4b30-86ed-15ff2083957f"
      },
      "execution_count": 85,
      "outputs": [
        {
          "output_type": "execute_result",
          "data": {
            "text/plain": [
              "[(0, 0, array([ 0.97901449, -0.93227946])),\n",
              " (1, 1, array([0.85658007, 0.84047083])),\n",
              " (1, 1, array([0.95031328, 0.62536462])),\n",
              " (0, 0, array([ 0.48018012, -1.29005036])),\n",
              " (1, 1, array([-0.92939892,  1.03714597])),\n",
              " (0, 0, array([ 1.03763456, -0.88349253])),\n",
              " (0, 0, array([-1.08895219, -2.46147875])),\n",
              " (1, 1, array([0.90766275, 1.22264456])),\n",
              " (0, 0, array([ 1.35890267, -0.99478892])),\n",
              " (1, 1, array([-0.1765491 ,  2.55203501])),\n",
              " (1, 1, array([-2.71455857,  2.99993235])),\n",
              " (1, 1, array([1.3158933 , 0.56551719])),\n",
              " (1, 1, array([-1.98383931,  1.85136818])),\n",
              " (0, 0, array([ 1.25680801, -0.6445314 ])),\n",
              " (1, 1, array([0.4225284, 1.8986133])),\n",
              " (0, 1, array([ 0.19518882, -1.6078727 ])),\n",
              " (0, 0, array([-1.16966518, -2.09295699])),\n",
              " (1, 1, array([-0.7634465 ,  0.78893785])),\n",
              " (0, 0, array([-1.64896466, -1.67963928])),\n",
              " (1, 1, array([0.48846578, 1.60450336])),\n",
              " (0, 0, array([ 1.08057118, -0.82343188])),\n",
              " (1, 1, array([-1.03903367,  1.04115254])),\n",
              " (1, 1, array([1.2745579 , 0.18212925])),\n",
              " (0, 0, array([ 0.72180113, -0.91293926])),\n",
              " (1, 0, array([2.29633101, 0.30784641]))]"
            ]
          },
          "metadata": {},
          "execution_count": 85
        }
      ]
    },
    {
      "cell_type": "code",
      "source": [
        "bnb.predict([[1,1], [1,-1], [-1,1], [-1,-1], [0,0]])"
      ],
      "metadata": {
        "colab": {
          "base_uri": "https://localhost:8080/"
        },
        "id": "lrRo_Wc4F5DM",
        "outputId": "214b1b16-8d5d-43d2-9143-3852a3dc6195"
      },
      "execution_count": 86,
      "outputs": [
        {
          "output_type": "execute_result",
          "data": {
            "text/plain": [
              "array([1, 0, 1, 0, 0])"
            ]
          },
          "metadata": {},
          "execution_count": 86
        }
      ]
    },
    {
      "cell_type": "code",
      "source": [
        "bnb.score(X_test, Y_test) #xtest(2차원배열)넣으면 자동으로 그 예측값과 ytest를 비교"
      ],
      "metadata": {
        "colab": {
          "base_uri": "https://localhost:8080/"
        },
        "id": "CJJKaNWRF6vy",
        "outputId": "99cda7ef-9b14-49e3-eaca-a70f1ac172ee"
      },
      "execution_count": 88,
      "outputs": [
        {
          "output_type": "execute_result",
          "data": {
            "text/plain": [
              "0.92"
            ]
          },
          "metadata": {},
          "execution_count": 88
        }
      ]
    },
    {
      "cell_type": "code",
      "source": [
        "import numpy as np\n",
        "_hwf = np.array([\n",
        "        ('male',6,180,12),\n",
        "        ('male',5.92,190,11),\n",
        "        ('male',5.58,170,12),\n",
        "        ('male',5.92,165,10),\n",
        "        ('female',5,100,6),\n",
        "        ('female',5.5,150,8),\n",
        "        ('female',5.42,130,7),\n",
        "        ('female',5.75,150,9)],\n",
        "        dtype=[('sex', 'U6'), ('height', 'f4'), ('weight', 'i4'), ('foot', 'i4')\n",
        "])"
      ],
      "metadata": {
        "id": "5Sou_TAOF828"
      },
      "execution_count": 89,
      "outputs": []
    },
    {
      "cell_type": "code",
      "source": [
        "pr_m=0.5\n",
        "# p(height|M) ~ N(6,남자키평균,남자키표준편차), 즉 N(6,5.855,0.187)\n",
        "pr_f=0.5"
      ],
      "metadata": {
        "id": "DQDgR4VDGNJ-"
      },
      "execution_count": 90,
      "outputs": []
    },
    {
      "cell_type": "code",
      "source": [
        "prior_m = np.count_nonzero(_hwf['sex']=='male')/_hwf.shape[0]\n",
        "prior_f = np.count_nonzero(_hwf['sex']=='female')/_hwf.shape[0]\n",
        "f\"prior_m: {prior_m}, prior_f: {prior_f}\""
      ],
      "metadata": {
        "colab": {
          "base_uri": "https://localhost:8080/",
          "height": 35
        },
        "id": "9vhbeYi0GSsD",
        "outputId": "84d339a3-a2b0-4a33-dd82-872ada30980e"
      },
      "execution_count": 91,
      "outputs": [
        {
          "output_type": "execute_result",
          "data": {
            "application/vnd.google.colaboratory.intrinsic+json": {
              "type": "string"
            },
            "text/plain": [
              "'prior_m: 0.5, prior_f: 0.5'"
            ]
          },
          "metadata": {},
          "execution_count": 91
        }
      ]
    },
    {
      "cell_type": "code",
      "source": [
        "import pandas as pd\n",
        "pdf=pd.DataFrame(_hwf)"
      ],
      "metadata": {
        "id": "z9S-WYTSGTvc"
      },
      "execution_count": 92,
      "outputs": []
    },
    {
      "cell_type": "code",
      "source": [
        "pdf.head()"
      ],
      "metadata": {
        "colab": {
          "base_uri": "https://localhost:8080/",
          "height": 206
        },
        "id": "teeDKcoTGYMB",
        "outputId": "da318460-0a5b-4307-c8fa-7353483bb0dd"
      },
      "execution_count": 93,
      "outputs": [
        {
          "output_type": "execute_result",
          "data": {
            "text/html": [
              "<div>\n",
              "<style scoped>\n",
              "    .dataframe tbody tr th:only-of-type {\n",
              "        vertical-align: middle;\n",
              "    }\n",
              "\n",
              "    .dataframe tbody tr th {\n",
              "        vertical-align: top;\n",
              "    }\n",
              "\n",
              "    .dataframe thead th {\n",
              "        text-align: right;\n",
              "    }\n",
              "</style>\n",
              "<table border=\"1\" class=\"dataframe\">\n",
              "  <thead>\n",
              "    <tr style=\"text-align: right;\">\n",
              "      <th></th>\n",
              "      <th>sex</th>\n",
              "      <th>height</th>\n",
              "      <th>weight</th>\n",
              "      <th>foot</th>\n",
              "    </tr>\n",
              "  </thead>\n",
              "  <tbody>\n",
              "    <tr>\n",
              "      <th>0</th>\n",
              "      <td>male</td>\n",
              "      <td>6.00</td>\n",
              "      <td>180</td>\n",
              "      <td>12</td>\n",
              "    </tr>\n",
              "    <tr>\n",
              "      <th>1</th>\n",
              "      <td>male</td>\n",
              "      <td>5.92</td>\n",
              "      <td>190</td>\n",
              "      <td>11</td>\n",
              "    </tr>\n",
              "    <tr>\n",
              "      <th>2</th>\n",
              "      <td>male</td>\n",
              "      <td>5.58</td>\n",
              "      <td>170</td>\n",
              "      <td>12</td>\n",
              "    </tr>\n",
              "    <tr>\n",
              "      <th>3</th>\n",
              "      <td>male</td>\n",
              "      <td>5.92</td>\n",
              "      <td>165</td>\n",
              "      <td>10</td>\n",
              "    </tr>\n",
              "    <tr>\n",
              "      <th>4</th>\n",
              "      <td>female</td>\n",
              "      <td>5.00</td>\n",
              "      <td>100</td>\n",
              "      <td>6</td>\n",
              "    </tr>\n",
              "  </tbody>\n",
              "</table>\n",
              "</div>"
            ],
            "text/plain": [
              "      sex  height  weight  foot\n",
              "0    male    6.00     180    12\n",
              "1    male    5.92     190    11\n",
              "2    male    5.58     170    12\n",
              "3    male    5.92     165    10\n",
              "4  female    5.00     100     6"
            ]
          },
          "metadata": {},
          "execution_count": 93
        }
      ]
    },
    {
      "cell_type": "code",
      "source": [
        "pdf.groupby('sex').mean()"
      ],
      "metadata": {
        "colab": {
          "base_uri": "https://localhost:8080/",
          "height": 144
        },
        "id": "4o8aojDhGarA",
        "outputId": "c06afea9-ff1e-4dfe-dfcc-46d541238cf0"
      },
      "execution_count": 94,
      "outputs": [
        {
          "output_type": "execute_result",
          "data": {
            "text/html": [
              "<div>\n",
              "<style scoped>\n",
              "    .dataframe tbody tr th:only-of-type {\n",
              "        vertical-align: middle;\n",
              "    }\n",
              "\n",
              "    .dataframe tbody tr th {\n",
              "        vertical-align: top;\n",
              "    }\n",
              "\n",
              "    .dataframe thead th {\n",
              "        text-align: right;\n",
              "    }\n",
              "</style>\n",
              "<table border=\"1\" class=\"dataframe\">\n",
              "  <thead>\n",
              "    <tr style=\"text-align: right;\">\n",
              "      <th></th>\n",
              "      <th>height</th>\n",
              "      <th>weight</th>\n",
              "      <th>foot</th>\n",
              "    </tr>\n",
              "    <tr>\n",
              "      <th>sex</th>\n",
              "      <th></th>\n",
              "      <th></th>\n",
              "      <th></th>\n",
              "    </tr>\n",
              "  </thead>\n",
              "  <tbody>\n",
              "    <tr>\n",
              "      <th>female</th>\n",
              "      <td>5.4175</td>\n",
              "      <td>132.50</td>\n",
              "      <td>7.50</td>\n",
              "    </tr>\n",
              "    <tr>\n",
              "      <th>male</th>\n",
              "      <td>5.8550</td>\n",
              "      <td>176.25</td>\n",
              "      <td>11.25</td>\n",
              "    </tr>\n",
              "  </tbody>\n",
              "</table>\n",
              "</div>"
            ],
            "text/plain": [
              "        height  weight   foot\n",
              "sex                          \n",
              "female  5.4175  132.50   7.50\n",
              "male    5.8550  176.25  11.25"
            ]
          },
          "metadata": {},
          "execution_count": 94
        }
      ]
    },
    {
      "cell_type": "code",
      "source": [
        "pdf.groupby('sex').std()"
      ],
      "metadata": {
        "colab": {
          "base_uri": "https://localhost:8080/",
          "height": 144
        },
        "id": "TN3HifapGjLk",
        "outputId": "7c3cc42e-cbae-4c6e-ebda-8e180b3b1b65"
      },
      "execution_count": 95,
      "outputs": [
        {
          "output_type": "execute_result",
          "data": {
            "text/html": [
              "<div>\n",
              "<style scoped>\n",
              "    .dataframe tbody tr th:only-of-type {\n",
              "        vertical-align: middle;\n",
              "    }\n",
              "\n",
              "    .dataframe tbody tr th {\n",
              "        vertical-align: top;\n",
              "    }\n",
              "\n",
              "    .dataframe thead th {\n",
              "        text-align: right;\n",
              "    }\n",
              "</style>\n",
              "<table border=\"1\" class=\"dataframe\">\n",
              "  <thead>\n",
              "    <tr style=\"text-align: right;\">\n",
              "      <th></th>\n",
              "      <th>height</th>\n",
              "      <th>weight</th>\n",
              "      <th>foot</th>\n",
              "    </tr>\n",
              "    <tr>\n",
              "      <th>sex</th>\n",
              "      <th></th>\n",
              "      <th></th>\n",
              "      <th></th>\n",
              "    </tr>\n",
              "  </thead>\n",
              "  <tbody>\n",
              "    <tr>\n",
              "      <th>female</th>\n",
              "      <td>0.311809</td>\n",
              "      <td>23.629078</td>\n",
              "      <td>1.290994</td>\n",
              "    </tr>\n",
              "    <tr>\n",
              "      <th>male</th>\n",
              "      <td>0.187172</td>\n",
              "      <td>11.086779</td>\n",
              "      <td>0.957427</td>\n",
              "    </tr>\n",
              "  </tbody>\n",
              "</table>\n",
              "</div>"
            ],
            "text/plain": [
              "          height     weight      foot\n",
              "sex                                  \n",
              "female  0.311809  23.629078  1.290994\n",
              "male    0.187172  11.086779  0.957427"
            ]
          },
          "metadata": {},
          "execution_count": 95
        }
      ]
    },
    {
      "cell_type": "code",
      "source": [
        "# 함수로 만들기\n",
        "def normpdf(x, mu=0, std=1):\n",
        "    n = float(x-mu) / abs(std)\n",
        "    g = np.exp(-n*n/2) / (abs(std) * np.sqrt(2*np.pi))\n",
        "    return g"
      ],
      "metadata": {
        "id": "B1Fcy4goGmlJ"
      },
      "execution_count": 96,
      "outputs": []
    },
    {
      "cell_type": "code",
      "source": [
        "mean_h_m=_hwf['height'][_hwf['sex']=='male'].mean()\n",
        "std_h_m=_hwf['height'][_hwf['sex']=='male'].std(ddof=1)\n",
        "pr_h_m=normpdf(6, mean_h_m, std_h_m) #1.5788829647561371, 확률이 아니라 확률분포값\n",
        "f\"Pr(Height|Male): {pr_h_m:.4f}, mean_h_m: {mean_h_m:.4f}, std_h_m: {std_h_m:.4f}\""
      ],
      "metadata": {
        "colab": {
          "base_uri": "https://localhost:8080/",
          "height": 35
        },
        "id": "IbO3IoAAGpmI",
        "outputId": "d9c0abc0-1255-45f2-f5f4-71697d1df844"
      },
      "execution_count": 97,
      "outputs": [
        {
          "output_type": "execute_result",
          "data": {
            "application/vnd.google.colaboratory.intrinsic+json": {
              "type": "string"
            },
            "text/plain": [
              "'Pr(Height|Male): 1.5789, mean_h_m: 5.8550, std_h_m: 0.1872'"
            ]
          },
          "metadata": {},
          "execution_count": 97
        }
      ]
    },
    {
      "cell_type": "code",
      "source": [
        "mean_f_m=_hwf['foot'][_hwf['sex']=='male'].mean() #11.25\n",
        "std_f_m=_hwf['foot'][_hwf['sex']=='male'].std(ddof=1) #0.957\n",
        "pr_f_m=normpdf(8, std_f_m, std_f_m) #0.0013050759944537563\n",
        "f\"pr_h_m: {pr_f_m:.4f}, mean_h_m: {mean_f_m:.4f}, std_h_m: {std_f_m:.4f}\""
      ],
      "metadata": {
        "colab": {
          "base_uri": "https://localhost:8080/",
          "height": 35
        },
        "id": "4CutvitPGsrB",
        "outputId": "78e49747-0c6f-4ec7-da39-5ccfb0514429"
      },
      "execution_count": 98,
      "outputs": [
        {
          "output_type": "execute_result",
          "data": {
            "application/vnd.google.colaboratory.intrinsic+json": {
              "type": "string"
            },
            "text/plain": [
              "'pr_h_m: 0.0000, mean_h_m: 11.2500, std_h_m: 0.9574'"
            ]
          },
          "metadata": {},
          "execution_count": 98
        }
      ]
    },
    {
      "cell_type": "code",
      "source": [
        "mean_w_m=_hwf['weight'][_hwf['sex']=='male'].mean() #176.25\n",
        "std_w_m=_hwf['weight'][_hwf['sex']=='male'].std(ddof=1) #11.0868\n",
        "pr_w_m=normpdf(130, mean_w_m, std_w_m) #5.9869297985549439e-06\n",
        "f\"pr_w_m: {pr_w_m:.8f}, mean_w_m: {mean_w_m:.4f}, std_w_m: {std_w_m:.4f}\""
      ],
      "metadata": {
        "colab": {
          "base_uri": "https://localhost:8080/",
          "height": 35
        },
        "id": "a1TlzvNgG0m1",
        "outputId": "e07e5b84-77df-4743-9315-484cbdfe100d"
      },
      "execution_count": 99,
      "outputs": [
        {
          "output_type": "execute_result",
          "data": {
            "application/vnd.google.colaboratory.intrinsic+json": {
              "type": "string"
            },
            "text/plain": [
              "'pr_w_m: 0.00000599, mean_w_m: 176.2500, std_w_m: 11.0868'"
            ]
          },
          "metadata": {},
          "execution_count": 99
        }
      ]
    },
    {
      "cell_type": "code",
      "source": [
        "df = spark.createDataFrame(\n",
        "    [\n",
        "        [1,'I am sorry he has fleas poor dog'],\n",
        "        [0,'take the dog to the park my dog would love it'],\n",
        "        [1,'quit posting stupid worthless garbage'],\n",
        "        [1,'my dog has fleas quit buying worthless dog food stupid'],\n",
        "        [0,'dog is so cute I love him'],\n",
        "        [1,u'우리 강아지 벼룩 미안해 불쌍해'],\n",
        "        [0,u'강아지 공원 강아지 좋아해'],\n",
        "        [1,u'너 멍청하게 쓸데없는 쓰레기 포스팅'],\n",
        "        [1,u'강아지 벼룩 쓸데없는 강아지 음식 사지마 멍청하게'],\n",
        "        [0,u'나 강아지 귀여워 좋아해']\n",
        "    ],\n",
        "    ['cls','sent']\n",
        ")"
      ],
      "metadata": {
        "id": "DsFBJ1ITHKsw"
      },
      "execution_count": 100,
      "outputs": []
    },
    {
      "cell_type": "code",
      "source": [
        "from pyspark.ml.feature import StringIndexer\n",
        "\n",
        "labelIndexer = StringIndexer(inputCol=\"cls\", outputCol=\"label\")"
      ],
      "metadata": {
        "id": "Fzjzc5uLMaiQ"
      },
      "execution_count": 101,
      "outputs": []
    },
    {
      "cell_type": "code",
      "source": [
        "from pyspark.ml.feature import RegexTokenizer\n",
        "\n",
        "regexTok = RegexTokenizer(inputCol=\"sent\", outputCol=\"wordsRegex\", pattern=\"\\\\s+\")\n",
        "#tokenizer = Tokenizer(inputCol=\"sent\", outputCol=\"words\")"
      ],
      "metadata": {
        "id": "kQtdsivmOx2w"
      },
      "execution_count": 102,
      "outputs": []
    },
    {
      "cell_type": "code",
      "source": [
        "from pyspark.ml.feature import StopWordsRemover\n",
        "\n",
        "stop = StopWordsRemover(inputCol=\"wordsRegex\", outputCol=\"nostops\")"
      ],
      "metadata": {
        "id": "D7B_sjSUOzq8"
      },
      "execution_count": 103,
      "outputs": []
    },
    {
      "cell_type": "code",
      "source": [
        "stopwords=list()\n",
        "_stopwords=stop.getStopWords()\n",
        "for e in _stopwords:\n",
        "    stopwords.append(e)"
      ],
      "metadata": {
        "id": "RpoEIZwqO4BG"
      },
      "execution_count": 104,
      "outputs": []
    },
    {
      "cell_type": "code",
      "source": [
        "_mystopwords=[u\"나\",u\"너\", u\"우리\", \"take\"]\n",
        "for e in _mystopwords:\n",
        "    stopwords.append(e)"
      ],
      "metadata": {
        "id": "FUewWDjYO60l"
      },
      "execution_count": 105,
      "outputs": []
    },
    {
      "cell_type": "code",
      "source": [
        "stop.setStopWords(stopwords)"
      ],
      "metadata": {
        "colab": {
          "base_uri": "https://localhost:8080/"
        },
        "id": "4jaKNpUQO8BV",
        "outputId": "3348a059-7dca-458a-af93-3467e49ecb47"
      },
      "execution_count": 106,
      "outputs": [
        {
          "output_type": "execute_result",
          "data": {
            "text/plain": [
              "StopWordsRemover_1522ee85a4bc"
            ]
          },
          "metadata": {},
          "execution_count": 106
        }
      ]
    },
    {
      "cell_type": "code",
      "source": [
        "from pyspark.ml.feature import HashingTF\n",
        "\n",
        "hashingTF = HashingTF(inputCol=\"nostops\", outputCol=\"features\")"
      ],
      "metadata": {
        "id": "x72RkIpKO9Km"
      },
      "execution_count": 107,
      "outputs": []
    },
    {
      "cell_type": "code",
      "source": [
        "from pyspark.ml import Pipeline\n",
        "pipeline = Pipeline(stages=[labelIndexer,regexTok,stop,hashingTF])"
      ],
      "metadata": {
        "id": "RMJEBzPhO9-w"
      },
      "execution_count": 108,
      "outputs": []
    },
    {
      "cell_type": "code",
      "source": [
        "model=pipeline.fit(df)\n",
        "trainDf = model.transform(df)"
      ],
      "metadata": {
        "id": "Np9IUGygO_PM"
      },
      "execution_count": 109,
      "outputs": []
    },
    {
      "cell_type": "code",
      "source": [
        "trainDf.select(\"label\",\"nostops\",\"features\").show(truncate=False)"
      ],
      "metadata": {
        "colab": {
          "base_uri": "https://localhost:8080/"
        },
        "id": "MH2K0jQrPALK",
        "outputId": "d4640c6d-e5a3-48bb-e9c6-2e699b8225e2"
      },
      "execution_count": 110,
      "outputs": [
        {
          "output_type": "stream",
          "name": "stdout",
          "text": [
            "+-----+--------------------------------------------------------+------------------------------------------------------------------------------------+\n",
            "|label|nostops                                                 |features                                                                            |\n",
            "+-----+--------------------------------------------------------+------------------------------------------------------------------------------------+\n",
            "|0.0  |[sorry, fleas, poor, dog]                               |(262144,[6155,54556,85735,144961],[1.0,1.0,1.0,1.0])                                |\n",
            "|1.0  |[dog, park, dog, love]                                  |(262144,[54556,71826,186480],[2.0,1.0,1.0])                                         |\n",
            "|0.0  |[quit, posting, stupid, worthless, garbage]             |(262144,[1696,67357,111492,186022,247840],[1.0,1.0,1.0,1.0,1.0])                    |\n",
            "|0.0  |[dog, fleas, quit, buying, worthless, dog, food, stupid]|(262144,[1696,6155,54556,111492,121133,186022,258147],[1.0,1.0,2.0,1.0,1.0,1.0,1.0])|\n",
            "|1.0  |[dog, cute, love]                                       |(262144,[23837,54556,186480],[1.0,1.0,1.0])                                         |\n",
            "|0.0  |[강아지, 벼룩, 미안해, 불쌍해]                          |(262144,[5579,58749,60868,226029],[1.0,1.0,1.0,1.0])                                |\n",
            "|1.0  |[강아지, 공원, 강아지, 좋아해]                          |(262144,[1510,58749,242045],[1.0,2.0,1.0])                                          |\n",
            "|0.0  |[멍청하게, 쓸데없는, 쓰레기, 포스팅]                    |(262144,[81961,173322,185814,200546],[1.0,1.0,1.0,1.0])                             |\n",
            "|0.0  |[강아지, 벼룩, 쓸데없는, 강아지, 음식, 사지마, 멍청하게]|(262144,[3425,58749,60868,185814,200546,250881],[1.0,2.0,1.0,1.0,1.0,1.0])          |\n",
            "|1.0  |[강아지, 귀여워, 좋아해]                                |(262144,[58749,64077,242045],[1.0,1.0,1.0])                                         |\n",
            "+-----+--------------------------------------------------------+------------------------------------------------------------------------------------+\n",
            "\n"
          ]
        }
      ]
    },
    {
      "cell_type": "code",
      "source": [
        "trainDf.select('cls','label','features').show()"
      ],
      "metadata": {
        "colab": {
          "base_uri": "https://localhost:8080/"
        },
        "id": "Ryyvt9dQPBfK",
        "outputId": "632b628f-6102-4bd5-805e-1425d3751658"
      },
      "execution_count": 111,
      "outputs": [
        {
          "output_type": "stream",
          "name": "stdout",
          "text": [
            "+---+-----+--------------------+\n",
            "|cls|label|            features|\n",
            "+---+-----+--------------------+\n",
            "|  1|  0.0|(262144,[6155,545...|\n",
            "|  0|  1.0|(262144,[54556,71...|\n",
            "|  1|  0.0|(262144,[1696,673...|\n",
            "|  1|  0.0|(262144,[1696,615...|\n",
            "|  0|  1.0|(262144,[23837,54...|\n",
            "|  1|  0.0|(262144,[5579,587...|\n",
            "|  0|  1.0|(262144,[1510,587...|\n",
            "|  1|  0.0|(262144,[81961,17...|\n",
            "|  1|  0.0|(262144,[3425,587...|\n",
            "|  0|  1.0|(262144,[58749,64...|\n",
            "+---+-----+--------------------+\n",
            "\n"
          ]
        }
      ]
    },
    {
      "cell_type": "code",
      "source": [
        "from pyspark.ml.classification import NaiveBayes\n",
        "nb=NaiveBayes(featuresCol='features', labelCol='label', modelType='multinomial', predictionCol='prediction')"
      ],
      "metadata": {
        "id": "SVWVRwjUPFeo"
      },
      "execution_count": 112,
      "outputs": []
    },
    {
      "cell_type": "code",
      "source": [
        "model = nb.fit(trainDf)"
      ],
      "metadata": {
        "id": "7qvoTw0mPK2A"
      },
      "execution_count": 113,
      "outputs": []
    },
    {
      "cell_type": "code",
      "source": [
        "predictions=model.transform(trainDf)"
      ],
      "metadata": {
        "id": "kOjd1N57PMdU"
      },
      "execution_count": 114,
      "outputs": []
    },
    {
      "cell_type": "code",
      "source": [
        "predictions.select('label','sent','prediction').show()"
      ],
      "metadata": {
        "colab": {
          "base_uri": "https://localhost:8080/"
        },
        "id": "lGAuun-mPOBu",
        "outputId": "89639878-4c36-439e-9bdc-0a46c93a212a"
      },
      "execution_count": 115,
      "outputs": [
        {
          "output_type": "stream",
          "name": "stdout",
          "text": [
            "+-----+----------------------------------+----------+\n",
            "|label|                              sent|prediction|\n",
            "+-----+----------------------------------+----------+\n",
            "|  0.0|              I am sorry he has...|       0.0|\n",
            "|  1.0|              take the dog to t...|       1.0|\n",
            "|  0.0|              quit posting stup...|       0.0|\n",
            "|  0.0|              my dog has fleas ...|       0.0|\n",
            "|  1.0|              dog is so cute I ...|       1.0|\n",
            "|  0.0|    우리 강아지 벼룩 미안해 불쌍해|       0.0|\n",
            "|  1.0|         강아지 공원 강아지 좋아해|       1.0|\n",
            "|  0.0|너 멍청하게 쓸데없는 쓰레기 포스팅|       0.0|\n",
            "|  0.0| 강아지 벼룩 쓸데없는 강아지 음...|       0.0|\n",
            "|  1.0|           나 강아지 귀여워 좋아해|       1.0|\n",
            "+-----+----------------------------------+----------+\n",
            "\n"
          ]
        }
      ]
    }
  ]
}