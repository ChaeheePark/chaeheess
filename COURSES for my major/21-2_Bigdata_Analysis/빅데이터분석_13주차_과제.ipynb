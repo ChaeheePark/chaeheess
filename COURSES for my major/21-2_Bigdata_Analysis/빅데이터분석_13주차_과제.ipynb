{
  "nbformat": 4,
  "nbformat_minor": 0,
  "metadata": {
    "colab": {
      "name": "빅데이터분석_13주차_과제",
      "provenance": [],
      "collapsed_sections": []
    },
    "kernelspec": {
      "name": "python3",
      "display_name": "Python 3"
    },
    "language_info": {
      "name": "python"
    }
  },
  "cells": [
    {
      "cell_type": "code",
      "metadata": {
        "id": "X7kLB0jN3R00"
      },
      "source": [
        "import pyspark"
      ],
      "execution_count": 11,
      "outputs": []
    },
    {
      "cell_type": "code",
      "metadata": {
        "id": "FJLWLmuB3Ss4"
      },
      "source": [
        "myConf=pyspark.SparkConf()\n",
        "spark=pyspark.sql.SparkSession.builder.master(\"local\").appName(\"myApp\").config(conf=myConf).getOrCreate()"
      ],
      "execution_count": 12,
      "outputs": []
    },
    {
      "cell_type": "markdown",
      "metadata": {
        "id": "fzi9SsDL1Jv0"
      },
      "source": [
        "# 13주 iris데이터 회귀분석\n",
        "\n",
        "\n"
      ]
    },
    {
      "cell_type": "markdown",
      "metadata": {
        "id": "Hzm011wA1ORI"
      },
      "source": [
        "## (1) DataFrame 생성"
      ]
    },
    {
      "cell_type": "code",
      "metadata": {
        "id": "0Lvs48_n3TgD"
      },
      "source": [
        "import pandas as pd\n",
        "\n",
        "file_name = \"https://archive.ics.uci.edu/ml/machine-learning-databases/iris/iris.data\"\n",
        "\n",
        "iris = pd.read_csv(file_name, names=[\"sepal_length\",\"sepal_width\",\"petal_length\", \"petal_width\",\"species\"])"
      ],
      "execution_count": 41,
      "outputs": []
    },
    {
      "cell_type": "code",
      "metadata": {
        "colab": {
          "base_uri": "https://localhost:8080/",
          "height": 424
        },
        "id": "lER397R31MKy",
        "outputId": "f1c736a5-7f21-4d37-b562-4b78812ea5ce"
      },
      "source": [
        "iris"
      ],
      "execution_count": 42,
      "outputs": [
        {
          "output_type": "execute_result",
          "data": {
            "text/html": [
              "<div>\n",
              "<style scoped>\n",
              "    .dataframe tbody tr th:only-of-type {\n",
              "        vertical-align: middle;\n",
              "    }\n",
              "\n",
              "    .dataframe tbody tr th {\n",
              "        vertical-align: top;\n",
              "    }\n",
              "\n",
              "    .dataframe thead th {\n",
              "        text-align: right;\n",
              "    }\n",
              "</style>\n",
              "<table border=\"1\" class=\"dataframe\">\n",
              "  <thead>\n",
              "    <tr style=\"text-align: right;\">\n",
              "      <th></th>\n",
              "      <th>sepal_length</th>\n",
              "      <th>sepal_width</th>\n",
              "      <th>petal_length</th>\n",
              "      <th>petal_width</th>\n",
              "      <th>species</th>\n",
              "    </tr>\n",
              "  </thead>\n",
              "  <tbody>\n",
              "    <tr>\n",
              "      <th>0</th>\n",
              "      <td>5.1</td>\n",
              "      <td>3.5</td>\n",
              "      <td>1.4</td>\n",
              "      <td>0.2</td>\n",
              "      <td>Iris-setosa</td>\n",
              "    </tr>\n",
              "    <tr>\n",
              "      <th>1</th>\n",
              "      <td>4.9</td>\n",
              "      <td>3.0</td>\n",
              "      <td>1.4</td>\n",
              "      <td>0.2</td>\n",
              "      <td>Iris-setosa</td>\n",
              "    </tr>\n",
              "    <tr>\n",
              "      <th>2</th>\n",
              "      <td>4.7</td>\n",
              "      <td>3.2</td>\n",
              "      <td>1.3</td>\n",
              "      <td>0.2</td>\n",
              "      <td>Iris-setosa</td>\n",
              "    </tr>\n",
              "    <tr>\n",
              "      <th>3</th>\n",
              "      <td>4.6</td>\n",
              "      <td>3.1</td>\n",
              "      <td>1.5</td>\n",
              "      <td>0.2</td>\n",
              "      <td>Iris-setosa</td>\n",
              "    </tr>\n",
              "    <tr>\n",
              "      <th>4</th>\n",
              "      <td>5.0</td>\n",
              "      <td>3.6</td>\n",
              "      <td>1.4</td>\n",
              "      <td>0.2</td>\n",
              "      <td>Iris-setosa</td>\n",
              "    </tr>\n",
              "    <tr>\n",
              "      <th>...</th>\n",
              "      <td>...</td>\n",
              "      <td>...</td>\n",
              "      <td>...</td>\n",
              "      <td>...</td>\n",
              "      <td>...</td>\n",
              "    </tr>\n",
              "    <tr>\n",
              "      <th>145</th>\n",
              "      <td>6.7</td>\n",
              "      <td>3.0</td>\n",
              "      <td>5.2</td>\n",
              "      <td>2.3</td>\n",
              "      <td>Iris-virginica</td>\n",
              "    </tr>\n",
              "    <tr>\n",
              "      <th>146</th>\n",
              "      <td>6.3</td>\n",
              "      <td>2.5</td>\n",
              "      <td>5.0</td>\n",
              "      <td>1.9</td>\n",
              "      <td>Iris-virginica</td>\n",
              "    </tr>\n",
              "    <tr>\n",
              "      <th>147</th>\n",
              "      <td>6.5</td>\n",
              "      <td>3.0</td>\n",
              "      <td>5.2</td>\n",
              "      <td>2.0</td>\n",
              "      <td>Iris-virginica</td>\n",
              "    </tr>\n",
              "    <tr>\n",
              "      <th>148</th>\n",
              "      <td>6.2</td>\n",
              "      <td>3.4</td>\n",
              "      <td>5.4</td>\n",
              "      <td>2.3</td>\n",
              "      <td>Iris-virginica</td>\n",
              "    </tr>\n",
              "    <tr>\n",
              "      <th>149</th>\n",
              "      <td>5.9</td>\n",
              "      <td>3.0</td>\n",
              "      <td>5.1</td>\n",
              "      <td>1.8</td>\n",
              "      <td>Iris-virginica</td>\n",
              "    </tr>\n",
              "  </tbody>\n",
              "</table>\n",
              "<p>150 rows × 5 columns</p>\n",
              "</div>"
            ],
            "text/plain": [
              "     sepal_length  sepal_width  petal_length  petal_width         species\n",
              "0             5.1          3.5           1.4          0.2     Iris-setosa\n",
              "1             4.9          3.0           1.4          0.2     Iris-setosa\n",
              "2             4.7          3.2           1.3          0.2     Iris-setosa\n",
              "3             4.6          3.1           1.5          0.2     Iris-setosa\n",
              "4             5.0          3.6           1.4          0.2     Iris-setosa\n",
              "..            ...          ...           ...          ...             ...\n",
              "145           6.7          3.0           5.2          2.3  Iris-virginica\n",
              "146           6.3          2.5           5.0          1.9  Iris-virginica\n",
              "147           6.5          3.0           5.2          2.0  Iris-virginica\n",
              "148           6.2          3.4           5.4          2.3  Iris-virginica\n",
              "149           5.9          3.0           5.1          1.8  Iris-virginica\n",
              "\n",
              "[150 rows x 5 columns]"
            ]
          },
          "metadata": {},
          "execution_count": 42
        }
      ]
    },
    {
      "cell_type": "markdown",
      "metadata": {
        "id": "ekc5D5aX1Vwa"
      },
      "source": [
        "## (2) 회귀선 그래프"
      ]
    },
    {
      "cell_type": "code",
      "metadata": {
        "id": "fJT2fccw1TKc"
      },
      "source": [
        "from sklearn import linear_model\n",
        "x=iris['petal_length']\n",
        "y=iris['petal_width']"
      ],
      "execution_count": 43,
      "outputs": []
    },
    {
      "cell_type": "code",
      "metadata": {
        "id": "GCuiqgPY2Gyo"
      },
      "source": [
        "import numpy as np\n",
        "x=np.array([x,np.ones(len(x))])\n",
        "x=x.T\n",
        "w1, w0=np.dot(np.linalg.inv(np.dot(x.T, x)), np.dot(x.T, y))"
      ],
      "execution_count": 44,
      "outputs": []
    },
    {
      "cell_type": "code",
      "metadata": {
        "id": "6zvPRnX12M0A"
      },
      "source": [
        "yhat = w0*x[:,1] + w1*x[:,0]"
      ],
      "execution_count": 45,
      "outputs": []
    },
    {
      "cell_type": "code",
      "metadata": {
        "id": "kJdHiMdn2OOo"
      },
      "source": [
        "alpha = 0.0001\n",
        "theta=np.array(np.ones([x.shape[1]]))"
      ],
      "execution_count": 46,
      "outputs": []
    },
    {
      "cell_type": "code",
      "metadata": {
        "id": "-oZtil5V2P-K"
      },
      "source": [
        "def gradientDescent(x, y, theta, alpha, numIterations):\n",
        "    for i in range(numIterations):\n",
        "        h=np.dot(x, theta)\n",
        "        error=h-y\n",
        "        cost=np.sum((h-y)**2) / len(x) # full MSE\n",
        "        gradient=np.dot(x.T,error)*2/len(x) # w0, w1\n",
        "        theta-=alpha*gradient\n",
        "        if (i%100==0):\n",
        "            print (\"iter:{0:5d}\\ttheta {1} Cost {2:.5f}\".format(i, theta, cost))\n",
        "    return theta"
      ],
      "execution_count": 23,
      "outputs": []
    },
    {
      "cell_type": "code",
      "metadata": {
        "colab": {
          "base_uri": "https://localhost:8080/"
        },
        "id": "hJfnME1p2RPN",
        "outputId": "909d8cee-a949-4f86-a86e-18f2aaf18c76"
      },
      "source": [
        "w1, w0=gradientDescent(x, y, theta, alpha, 10000)"
      ],
      "execution_count": 47,
      "outputs": [
        {
          "output_type": "stream",
          "name": "stdout",
          "text": [
            "iter:    0\ttheta [0.99696289 0.999288  ] Cost 13.76907\n",
            "iter:  100\ttheta [0.74270901 0.93899892] Cost 6.82932\n",
            "iter:  200\ttheta [0.56587746 0.89579339] Cost 3.46148\n",
            "iter:  300\ttheta [0.44297297 0.86449143] Cost 1.82664\n",
            "iter:  400\ttheta [0.35763005 0.84148495] Cost 1.03260\n",
            "iter:  500\ttheta [0.29844945 0.82426073] Cost 0.64651\n",
            "iter:  600\ttheta [0.25749113 0.81106821] Cost 0.45834\n",
            "iter:  700\ttheta [0.2292245  0.80068803] Cost 0.36621\n",
            "iter:  800\ttheta [0.20979727 0.79227083] Cost 0.32068\n",
            "iter:  900\ttheta [0.19652617 0.785225  ] Cost 0.29776\n",
            "iter: 1000\ttheta [0.18754218 0.77913844] Cost 0.28581\n",
            "iter: 1100\ttheta [0.18154345 0.77372407] Cost 0.27920\n",
            "iter: 1200\ttheta [0.1776232  0.76878193] Cost 0.27518\n",
            "iter: 1300\ttheta [0.17514983 0.76417273] Cost 0.27243\n",
            "iter: 1400\ttheta [0.17368337 0.75979943] Cost 0.27029\n",
            "iter: 1500\ttheta [0.1729174  0.75559441] Cost 0.26846\n",
            "iter: 1600\ttheta [0.17263848 0.75151058] Cost 0.26678\n",
            "iter: 1700\ttheta [0.17269794 0.74751512] Cost 0.26518\n",
            "iter: 1800\ttheta [0.17299222 0.74358513] Cost 0.26363\n",
            "iter: 1900\ttheta [0.17344921 0.73970469] Cost 0.26210\n",
            "iter: 2000\ttheta [0.17401866 0.73586265] Cost 0.26060\n",
            "iter: 2100\ttheta [0.17466559 0.73205128] Cost 0.25910\n",
            "iter: 2200\ttheta [0.17536563 0.72826513] Cost 0.25762\n",
            "iter: 2300\ttheta [0.17610181 0.72450044] Cost 0.25615\n",
            "iter: 2400\ttheta [0.17686231 0.72075454] Cost 0.25469\n",
            "iter: 2500\ttheta [0.17763891 0.71702558] Cost 0.25323\n",
            "iter: 2600\ttheta [0.17842588 0.71331225] Cost 0.25179\n",
            "iter: 2700\ttheta [0.17921922 0.70961362] Cost 0.25036\n",
            "iter: 2800\ttheta [0.18001617 0.70592903] Cost 0.24894\n",
            "iter: 2900\ttheta [0.18081479 0.70225802] Cost 0.24753\n",
            "iter: 3000\ttheta [0.18161375 0.69860025] Cost 0.24613\n",
            "iter: 3100\ttheta [0.18241211 0.69495546] Cost 0.24474\n",
            "iter: 3200\ttheta [0.18320922 0.69132346] Cost 0.24335\n",
            "iter: 3300\ttheta [0.18400464 0.68770412] Cost 0.24198\n",
            "iter: 3400\ttheta [0.18479807 0.68409732] Cost 0.24062\n",
            "iter: 3500\ttheta [0.18558928 0.68050297] Cost 0.23926\n",
            "iter: 3600\ttheta [0.18637814 0.67692099] Cost 0.23792\n",
            "iter: 3700\ttheta [0.18716454 0.67335132] Cost 0.23658\n",
            "iter: 3800\ttheta [0.18794842 0.6697939 ] Cost 0.23525\n",
            "iter: 3900\ttheta [0.18872973 0.66624868] Cost 0.23393\n",
            "iter: 4000\ttheta [0.18950846 0.6627156 ] Cost 0.23263\n",
            "iter: 4100\ttheta [0.19028458 0.65919462] Cost 0.23133\n",
            "iter: 4200\ttheta [0.19105809 0.65568569] Cost 0.23003\n",
            "iter: 4300\ttheta [0.19182897 0.65218878] Cost 0.22875\n",
            "iter: 4400\ttheta [0.19259724 0.64870383] Cost 0.22748\n",
            "iter: 4500\ttheta [0.1933629 0.6452308] Cost 0.22621\n",
            "iter: 4600\ttheta [0.19412594 0.64176966] Cost 0.22496\n",
            "iter: 4700\ttheta [0.19488638 0.63832036] Cost 0.22371\n",
            "iter: 4800\ttheta [0.19564422 0.63488286] Cost 0.22247\n",
            "iter: 4900\ttheta [0.19639948 0.63145713] Cost 0.22124\n",
            "iter: 5000\ttheta [0.19715215 0.62804311] Cost 0.22002\n",
            "iter: 5100\ttheta [0.19790225 0.62464077] Cost 0.21880\n",
            "iter: 5200\ttheta [0.19864979 0.62125007] Cost 0.21760\n",
            "iter: 5300\ttheta [0.19939476 0.61787097] Cost 0.21640\n",
            "iter: 5400\ttheta [0.20013719 0.61450343] Cost 0.21521\n",
            "iter: 5500\ttheta [0.20087708 0.61114741] Cost 0.21403\n",
            "iter: 5600\ttheta [0.20161444 0.60780287] Cost 0.21286\n",
            "iter: 5700\ttheta [0.20234928 0.60446978] Cost 0.21169\n",
            "iter: 5800\ttheta [0.2030816  0.60114808] Cost 0.21054\n",
            "iter: 5900\ttheta [0.20381142 0.59783775] Cost 0.20939\n",
            "iter: 6000\ttheta [0.20453874 0.59453875] Cost 0.20825\n",
            "iter: 6100\ttheta [0.20526358 0.59125102] Cost 0.20711\n",
            "iter: 6200\ttheta [0.20598593 0.58797455] Cost 0.20599\n",
            "iter: 6300\ttheta [0.20670581 0.58470929] Cost 0.20487\n",
            "iter: 6400\ttheta [0.20742324 0.58145519] Cost 0.20376\n",
            "iter: 6500\ttheta [0.2081382  0.57821223] Cost 0.20265\n",
            "iter: 6600\ttheta [0.20885072 0.57498036] Cost 0.20156\n",
            "iter: 6700\ttheta [0.2095608  0.57175955] Cost 0.20047\n",
            "iter: 6800\ttheta [0.21026846 0.56854975] Cost 0.19939\n",
            "iter: 6900\ttheta [0.21097369 0.56535094] Cost 0.19832\n",
            "iter: 7000\ttheta [0.21167651 0.56216307] Cost 0.19725\n",
            "iter: 7100\ttheta [0.21237693 0.55898611] Cost 0.19619\n",
            "iter: 7200\ttheta [0.21307495 0.55582001] Cost 0.19514\n",
            "iter: 7300\ttheta [0.21377058 0.55266474] Cost 0.19410\n",
            "iter: 7400\ttheta [0.21446383 0.54952027] Cost 0.19306\n",
            "iter: 7500\ttheta [0.21515471 0.54638656] Cost 0.19203\n",
            "iter: 7600\ttheta [0.21584323 0.54326356] Cost 0.19101\n",
            "iter: 7700\ttheta [0.21652939 0.54015125] Cost 0.18999\n",
            "iter: 7800\ttheta [0.2172132  0.53704959] Cost 0.18898\n",
            "iter: 7900\ttheta [0.21789468 0.53395854] Cost 0.18798\n",
            "iter: 8000\ttheta [0.21857382 0.53087806] Cost 0.18699\n",
            "iter: 8100\ttheta [0.21925064 0.52780812] Cost 0.18600\n",
            "iter: 8200\ttheta [0.21992515 0.52474868] Cost 0.18502\n",
            "iter: 8300\ttheta [0.22059735 0.52169971] Cost 0.18404\n",
            "iter: 8400\ttheta [0.22126724 0.51866117] Cost 0.18307\n",
            "iter: 8500\ttheta [0.22193485 0.51563302] Cost 0.18211\n",
            "iter: 8600\ttheta [0.22260017 0.51261523] Cost 0.18116\n",
            "iter: 8700\ttheta [0.22326322 0.50960777] Cost 0.18021\n",
            "iter: 8800\ttheta [0.223924   0.50661059] Cost 0.17927\n",
            "iter: 8900\ttheta [0.22458251 0.50362367] Cost 0.17833\n",
            "iter: 9000\ttheta [0.22523878 0.50064697] Cost 0.17740\n",
            "iter: 9100\ttheta [0.2258928  0.49768044] Cost 0.17648\n",
            "iter: 9200\ttheta [0.22654458 0.49472407] Cost 0.17556\n",
            "iter: 9300\ttheta [0.22719413 0.49177781] Cost 0.17465\n",
            "iter: 9400\ttheta [0.22784146 0.48884163] Cost 0.17375\n",
            "iter: 9500\ttheta [0.22848658 0.4859155 ] Cost 0.17285\n",
            "iter: 9600\ttheta [0.22912949 0.48299937] Cost 0.17196\n",
            "iter: 9700\ttheta [0.2297702  0.48009322] Cost 0.17107\n",
            "iter: 9800\ttheta [0.23040872 0.47719702] Cost 0.17019\n",
            "iter: 9900\ttheta [0.23104505 0.47431072] Cost 0.16932\n"
          ]
        }
      ]
    },
    {
      "cell_type": "code",
      "metadata": {
        "id": "tQiCtTZY2SrZ"
      },
      "source": [
        "yhatGV = w0*x[:,1] + w1*x[:,0]"
      ],
      "execution_count": 48,
      "outputs": []
    },
    {
      "cell_type": "code",
      "metadata": {
        "colab": {
          "base_uri": "https://localhost:8080/",
          "height": 265
        },
        "id": "5_MhNvpV3COB",
        "outputId": "328b5319-1f68-4e7b-d5a1-a9c4b24e07b4"
      },
      "source": [
        "%matplotlib inline\n",
        "import matplotlib.pyplot as plt\n",
        "\n",
        "plt.scatter(x[:,0],y)\n",
        "plt.plot(x[:,0],yhatGV,'bx') # gradient, MSE=123\n",
        "plt.plot(x[:,0],yhat,'r-') # matrix inverse, MSE=105.6\n",
        "plt.show()"
      ],
      "execution_count": 49,
      "outputs": [
        {
          "output_type": "display_data",
          "data": {
            "image/png": "[encoded data removed]",
            "text/plain": [
              "<Figure size 432x288 with 1 Axes>"
            ]
          },
          "metadata": {
            "needs_background": "light"
          }
        }
      ]
    },
    {
      "cell_type": "markdown",
      "metadata": {
        "id": "3LzPQr8r6b7w"
      },
      "source": [
        "## (3) Spark를 사용하여 회귀분석하고 계수 출력"
      ]
    },
    {
      "cell_type": "code",
      "metadata": {
        "id": "Tx1xPzEH3GPd"
      },
      "source": [
        "irisDf=spark.createDataFrame(iris)"
      ],
      "execution_count": 51,
      "outputs": []
    },
    {
      "cell_type": "code",
      "metadata": {
        "id": "gWAE-jVV6bSO"
      },
      "source": [
        "train, test = irisDf.randomSplit([0.6, 0.4])"
      ],
      "execution_count": 52,
      "outputs": []
    },
    {
      "cell_type": "code",
      "metadata": {
        "id": "DmQNzLcz6_jL"
      },
      "source": [
        "from pyspark.ml.feature import VectorAssembler\n",
        "va = VectorAssembler(inputCols = [\"petal_length\"],\n",
        "                                   outputCol = 'features')"
      ],
      "execution_count": 53,
      "outputs": []
    },
    {
      "cell_type": "code",
      "metadata": {
        "id": "EVLiYxpX7SXF"
      },
      "source": [
        "from pyspark.ml.regression import LinearRegression\n",
        "lr = LinearRegression(featuresCol = 'features', labelCol='petal_width', maxIter=10, regParam=0.3, elasticNetParam=0.8)"
      ],
      "execution_count": 54,
      "outputs": []
    },
    {
      "cell_type": "code",
      "metadata": {
        "id": "TMWWr3Eg7Ttz"
      },
      "source": [
        "from pyspark.ml import Pipeline\n",
        "\n",
        "pipeline = Pipeline(stages=[va,lr])"
      ],
      "execution_count": 55,
      "outputs": []
    },
    {
      "cell_type": "code",
      "metadata": {
        "id": "MnFGjsbz7U0f"
      },
      "source": [
        "model = pipeline.fit(train)\n",
        "modelTrainDf = model.transform(train)"
      ],
      "execution_count": 58,
      "outputs": []
    },
    {
      "cell_type": "code",
      "metadata": {
        "colab": {
          "base_uri": "https://localhost:8080/"
        },
        "id": "W9_M1lny7Vu5",
        "outputId": "a01d311c-7a17-49d2-ccfd-5da9d2af17fe"
      },
      "source": [
        "print(\"Coefficients: {}\".format(model.stages[-1].coefficients))\n",
        "print(\"Intercept: {:.3f}\".format(model.stages[-1].intercept))"
      ],
      "execution_count": 59,
      "outputs": [
        {
          "output_type": "stream",
          "name": "stdout",
          "text": [
            "Coefficients: [0.25419918577379963]\n",
            "Intercept: 0.226\n"
          ]
        }
      ]
    },
    {
      "cell_type": "markdown",
      "metadata": {
        "id": "H1cwZY3g7fp9"
      },
      "source": [
        "## (4) 실제와 예측 출력"
      ]
    },
    {
      "cell_type": "code",
      "metadata": {
        "id": "7z6vYf9g7c1Z"
      },
      "source": [
        "modelTest=model.transform(test)"
      ],
      "execution_count": 60,
      "outputs": []
    },
    {
      "cell_type": "code",
      "metadata": {
        "colab": {
          "base_uri": "https://localhost:8080/"
        },
        "id": "WU8Cu6zO7jox",
        "outputId": "14f0c368-5a5f-4b72-ffe0-46a6cd322e36"
      },
      "source": [
        "modelTest.select('petal_width','prediction').show(10)"
      ],
      "execution_count": 64,
      "outputs": [
        {
          "output_type": "stream",
          "name": "stdout",
          "text": [
            "+-----------+-------------------+\n",
            "|petal_width|         prediction|\n",
            "+-----------+-------------------+\n",
            "|        0.1|  0.505379303593392|\n",
            "|        0.3| 0.5562191407481519|\n",
            "|        0.3| 0.5816390593255318|\n",
            "|        0.2|0.47995938501601204|\n",
            "|        0.2| 0.6324788964802919|\n",
            "|        0.3| 0.5816390593255318|\n",
            "|        0.2| 0.7087386522124317|\n",
            "|        1.7| 1.3696565352243109|\n",
            "|        0.2| 0.5816390593255318|\n",
            "|        1.0| 1.1154573494505111|\n",
            "+-----------+-------------------+\n",
            "only showing top 10 rows\n",
            "\n"
          ]
        }
      ]
    },
    {
      "cell_type": "code",
      "metadata": {
        "id": "8t_Sigah7lPT"
      },
      "source": [
        "from pyspark.ml.evaluation import RegressionEvaluator\n",
        "\n",
        "evaluator=RegressionEvaluator(labelCol=\"petal_width\", predictionCol=\"prediction\", metricName=\"rmse\")"
      ],
      "execution_count": 66,
      "outputs": []
    },
    {
      "cell_type": "code",
      "metadata": {
        "id": "POuHaBDD7xew"
      },
      "source": [
        "rmse=evaluator.evaluate(modelTest)"
      ],
      "execution_count": 67,
      "outputs": []
    },
    {
      "cell_type": "code",
      "metadata": {
        "colab": {
          "base_uri": "https://localhost:8080/",
          "height": 35
        },
        "id": "UKrHUNRn70Ze",
        "outputId": "1773f38a-b85d-4591-8aa4-df80f6804c8d"
      },
      "source": [
        "f\"Root Mean Squared Error (RMSE) on test data: {rmse:.3f}\""
      ],
      "execution_count": 68,
      "outputs": [
        {
          "output_type": "execute_result",
          "data": {
            "application/vnd.google.colaboratory.intrinsic+json": {
              "type": "string"
            },
            "text/plain": [
              "'Root Mean Squared Error (RMSE) on test data: 0.366'"
            ]
          },
          "metadata": {},
          "execution_count": 68
        }
      ]
    },
    {
      "cell_type": "code",
      "metadata": {
        "id": "f3TkLFM271kS"
      },
      "source": [
        "from pyspark.ml.evaluation import RegressionEvaluator\n",
        "\n",
        "evaluator=RegressionEvaluator(labelCol=\"petal_width\", predictionCol=\"prediction\", metricName=\"r2\")"
      ],
      "execution_count": 69,
      "outputs": []
    },
    {
      "cell_type": "code",
      "metadata": {
        "colab": {
          "base_uri": "https://localhost:8080/",
          "height": 35
        },
        "id": "NprpsuRx75Li",
        "outputId": "af17e677-80b1-4399-8685-8f511530d97c"
      },
      "source": [
        "f\"r2: {evaluator.evaluate(modelTest):.3f}\""
      ],
      "execution_count": 71,
      "outputs": [
        {
          "output_type": "execute_result",
          "data": {
            "application/vnd.google.colaboratory.intrinsic+json": {
              "type": "string"
            },
            "text/plain": [
              "'r2: 0.779'"
            ]
          },
          "metadata": {},
          "execution_count": 71
        }
      ]
    }
  ]
}