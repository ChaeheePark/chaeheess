{
 "cells": [
  {
   "cell_type": "markdown",
   "metadata": {},
   "source": [
    "### 휴먼지능정보공학과 201910803 박채희"
   ]
  },
  {
   "cell_type": "markdown",
   "metadata": {},
   "source": [
    "## 문제 1의 답"
   ]
  },
  {
   "cell_type": "code",
   "execution_count": 163,
   "metadata": {},
   "outputs": [
    {
     "name": "stdout",
     "output_type": "stream",
     "text": [
      "Overwriting src/test1.js\n"
     ]
    }
   ],
   "source": [
    "%%writefile src/test1.js\n",
    "console.log('1-1: ');\n",
    "var info=JSON.stringify(admin.nodeInfo);\n",
    "//console.log(info) \n",
    "ip=JSON.parse(info).ip\n",
    "chainid=JSON.parse(info).protocols.eth.config.chainId;\n",
    "var isPrivate;\n",
    "if (chainid>5){\n",
    "    isPrivate=\"private network\";\n",
    "}\n",
    "else{\n",
    "    isPrivate=\"public network\";\n",
    "}\n",
    "console.log('Your chainId ',chainid,'@',ip,'is a',isPrivate);\n",
    "\n",
    "miner.setEtherbase(eth.accounts[0]);\n",
    "console.log('\\n2\\n')\n",
    "console.log('-Before\\n');\n",
    "console.log('\\t -coinbase balance in Wei:',eth.getBalance(eth.accounts[0]),'Ether: ',web3.fromWei(eth.getBalance(eth.accounts[0]),\"ether\"));\n",
    "console.log('\\t -account1 balance in Wei:',eth.getBalance(eth.accounts[1]),'Ether: ',web3.fromWei(eth.getBalance(eth.accounts[1]),\"ether\"));\n",
    "console.log('\\t transaction count: ',eth.getTransactionCount(eth.accounts[0]));\n",
    "var btb=eth.getBalance(eth.accounts[1]);\n",
    "var bt=eth.getTransactionCount(eth.accounts[0]);\n",
    "\n",
    "web3.personal.unlockAccount(web3.eth.coinbase,'');\n",
    "console.log('\\n3\\n')\n",
    "var trans=eth.sendTransaction({from:eth.coinbase, to:eth.accounts[1], value:web3.toWei(0.00000000000010101,\"ether\")});\n",
    "console.log('...mining start',trans);\n",
    "miner.start(1);admin.sleepBlocks(1);miner.stop();\n",
    "console.log('mining done...\\n');\n",
    "\n",
    "console.log('\\n4\\n')\n",
    "console.log('-After\\n');\n",
    "console.log('\\t -coinbase balance in ether: ',web3.fromWei(eth.getBalance(eth.accounts[0]),\"ether\"));\n",
    "console.log('\\t -account1 balance in ether: ',web3.fromWei(eth.getBalance(eth.accounts[1]),\"ether\"),'increased by ',eth.getBalance(eth.accounts[1])-btb);\n",
    "console.log('\\t transaction count: ',eth.getTransactionCount(eth.accounts[0]),'increased by ',eth.getTransactionCount(eth.accounts[0])-bt);\n",
    "var transRe=JSON.stringify(eth.getTransactionReceipt(trans))\n",
    "var gasused=JSON.parse(transRe).gasUsed\n",
    "console.log('\\t gas used: ',web3.fromWei(gasused),'won (1 ether = 2500000):',web3.fromWei(gasused)*2500000);"
   ]
  },
  {
   "cell_type": "code",
   "execution_count": 164,
   "metadata": {
    "scrolled": true
   },
   "outputs": [
    {
     "name": "stdout",
     "output_type": "stream",
     "text": [
      "1-1: \n",
      "Your chainId  36 @ 218.148.204.70 is a private network\n",
      "\n",
      "2\n",
      "\n",
      "-Before\n",
      "\n",
      "\t -coinbase balance in Wei: 494999999999996767680 Ether:  494.99999999999676768\n",
      "\t -account1 balance in Wei: 180000000000003232320 Ether:  180.00000000000323232\n",
      "\t transaction count:  32\n",
      "\n",
      "3\n",
      "\n",
      "...mining start 0xd8c02ee4920c9ec6e33a9cbd60168462e54838460ac06fa1d5d048424def2946\n",
      "mining done...\n",
      "\n",
      "\n",
      "4\n",
      "\n",
      "-After\n",
      "\n",
      "\t -coinbase balance in ether:  499.99999999999666667\n",
      "\t -account1 balance in ether:  180.00000000000333333 increased by  98304\n",
      "\t transaction count:  33 increased by  1\n",
      "\t gas used:  0.000000000000021 won (1 ether = 2500000): 5.25e-8\n",
      "null\n"
     ]
    }
   ],
   "source": [
    "!geth --exec \"loadScript('src/test1.js')\" attach http://localhost:8446"
   ]
  },
  {
   "cell_type": "markdown",
   "metadata": {},
   "source": [
    "\n",
    "## 문제 2의 답"
   ]
  },
  {
   "cell_type": "markdown",
   "metadata": {},
   "source": [
    "## 2-1"
   ]
  },
  {
   "cell_type": "code",
   "execution_count": 238,
   "metadata": {},
   "outputs": [
    {
     "name": "stdout",
     "output_type": "stream",
     "text": [
      "Writing src/Math.sol\n"
     ]
    }
   ],
   "source": [
    "%%writefile src/Math.sol\n",
    "pragma solidity ^0.4.25;\n",
    "contract Math {\n",
    "    function powerOf2(uint x) public pure returns (uint){\n",
    "        return 2**x;\n",
    "    }\n",
    "}"
   ]
  },
  {
   "cell_type": "code",
   "execution_count": 102,
   "metadata": {
    "scrolled": true
   },
   "outputs": [
    {
     "name": "stdout",
     "output_type": "stream",
     "text": [
      "\n",
      "======= src/Math.sol:Math =======\n",
      "Gas estimation:\n",
      "construction:\n",
      "   87 + 37400 = 37487\n",
      "external:\n",
      "   powerOf2(uint256):\t1876\n",
      "Binary: \n",
      "608060405234801561001057600080fd5b5060bb8061001f6000396000f300608060405260043610603f576000357c0100000000000000000000000000000000000000000000000000000000900463ffffffff168063bdacc0cf146044575b600080fd5b348015604f57600080fd5b50606c600480360381019080803590602001909291905050506082565b6040518082815260200191505060405180910390f35b60008160020a90509190505600a165627a7a723058209d403754c4c043a0b37bed207504c9cb39349b1ed6b07a8c8cb60022141c59520029\n",
      "Contract JSON ABI \n",
      "[{\"constant\":true,\"inputs\":[{\"name\":\"x\",\"type\":\"uint256\"}],\"name\":\"powerOf2\",\"outputs\":[{\"name\":\"\",\"type\":\"uint256\"}],\"payable\":false,\"stateMutability\":\"pure\",\"type\":\"function\"}]\n"
     ]
    }
   ],
   "source": [
    "!solc --abi --gas --bin src/Math.sol"
   ]
  },
  {
   "cell_type": "markdown",
   "metadata": {},
   "source": [
    "## 2-2"
   ]
  },
  {
   "cell_type": "code",
   "execution_count": 173,
   "metadata": {
    "scrolled": true
   },
   "outputs": [
    {
     "name": "stdout",
     "output_type": "stream",
     "text": [
      "[\"0x57debf2e94a2ec946b3e41e4f1640dee925dc147\", \"0x5e79b3fff0b06a1aca9468ef10a3132223775b56\", \"0x40e978627fbd22b49d2664361d1deb58a6f7b936\", \"0xb7ca0feaadf41bb936d7e7e38276984912fa9313\", \"0x8a4e7436534e5fb9149be4b20c1a0fef0adf2a15\", \"0xc5f88d421272514d793a8287e1cbf43a2616de47\", \"0x4d1b6f0d14d9033c36022b3b7ec35b69a29c6a95\", \"0x9c25cc261abdab3258e47ccaf5d493b4a6e1ad93\", \"0xf7e33c4c7c9b7405b18f498a9a2f7dec02b5b746\", \"0x16ca213b8299014de96e1346feda8c9ce0a3c213\"]\n"
     ]
    }
   ],
   "source": [
    "!geth --exec \"eth.accounts\" attach \"http://localhost:8446\""
   ]
  },
  {
   "cell_type": "code",
   "execution_count": 177,
   "metadata": {},
   "outputs": [
    {
     "name": "stdout",
     "output_type": "stream",
     "text": [
      "Overwriting src/MathDeploy.js\n"
     ]
    }
   ],
   "source": [
    "%%writefile src/MathDeploy.js\n",
    "var Web3=require('web3');\n",
    "var web3;\n",
    "\n",
    "if (typeof web3 !== 'undefined') {\n",
    "    web3 = new Web3(web3.currentProvider);\n",
    "} else {\n",
    "    web3 = new Web3(new Web3.providers.HttpProvider(\"http://localhost:8446\"));\n",
    "}\n",
    "var _abiArray=[{\"constant\":true,\"inputs\":[{\"name\":\"x\",\"type\":\"uint256\"}],\"name\":\"powerOf2\",\"outputs\":[{\"name\":\"\",\"type\":\"uint256\"}],\"payable\":false,\"stateMutability\":\"pure\",\"type\":\"function\"}];\n",
    "var _bin=\"608060405234801561001057600080fd5b5060bb8061001f6000396000f300608060405260043610603f576000357c0100000000000000000000000000000000000000000000000000000000900463ffffffff168063bdacc0cf146044575b600080fd5b348015604f57600080fd5b50606c600480360381019080803590602001909291905050506082565b6040518082815260200191505060405180910390f35b60008160020a90509190505600a165627a7a723058209d403754c4c043a0b37bed207504c9cb39349b1ed6b07a8c8cb60022141c59520029\";\n",
    "var _contract = new web3.eth.Contract(_abiArray);\n",
    "_contract\n",
    "    .deploy({data:\"0x\"+_bin})\n",
    "    .send({from: \"0x57debf2e94a2ec946b3e41e4f1640dee925dc147\",gas: 364124, gasPrice: '1000000000'})\n",
    "    .then(function(newContractInstance){\n",
    "        console.log(newContractInstance.options.address) // instance with the new contract address\n",
    "    });"
   ]
  },
  {
   "cell_type": "code",
   "execution_count": 178,
   "metadata": {},
   "outputs": [
    {
     "name": "stdout",
     "output_type": "stream",
     "text": [
      "0xB4E8F46bd3A6C87d624C83b203B3deD958ab8c36\n"
     ]
    }
   ],
   "source": [
    "!node src/mathDeploy.js"
   ]
  },
  {
   "cell_type": "markdown",
   "metadata": {},
   "source": [
    "## 2-3"
   ]
  },
  {
   "cell_type": "code",
   "execution_count": 179,
   "metadata": {},
   "outputs": [
    {
     "name": "stdout",
     "output_type": "stream",
     "text": [
      "Overwriting src/MathUse.js\n"
     ]
    }
   ],
   "source": [
    "%%writefile src/MathUse.js\n",
    "var Web3=require('web3');\n",
    "var web3 = new Web3(new Web3.providers.HttpProvider(\"http://localhost:8446\"));\n",
    "var abi =[{\"constant\":true,\"inputs\":[{\"name\":\"x\",\"type\":\"uint256\"}],\"name\":\"powerOf2\",\"outputs\":[{\"name\":\"\",\"type\":\"uint256\"}],\"payable\":false,\"stateMutability\":\"pure\",\"type\":\"function\"}];\n",
    "var addr = \"0xB4E8F46bd3A6C87d624C83b203B3deD958ab8c36\";\n",
    "var res = new web3.eth.Contract(abi,addr);\n",
    "res.methods.powerOf2(8).call().then(function(str) {console.log(str);});\n",
    "res.methods.powerOf2(32).call().then(function(str) {console.log(str);});"
   ]
  },
  {
   "cell_type": "code",
   "execution_count": 180,
   "metadata": {},
   "outputs": [
    {
     "name": "stdout",
     "output_type": "stream",
     "text": [
      "256\n",
      "4294967296\n"
     ]
    }
   ],
   "source": [
    "!node src/MathUse.js"
   ]
  },
  {
   "cell_type": "markdown",
   "metadata": {},
   "source": [
    "## 2-4"
   ]
  },
  {
   "cell_type": "code",
   "execution_count": 197,
   "metadata": {},
   "outputs": [
    {
     "name": "stdout",
     "output_type": "stream",
     "text": [
      "Overwriting scripts/powerOf2.html\n"
     ]
    }
   ],
   "source": [
    "%%writefile scripts/powerOf2.html\n",
    "<!doctype>\n",
    "<html>\n",
    "<head>\n",
    "<script src=\"https://cdn.jsdelivr.net/npm/web3@1.2.7/dist/web3.min.js\"></script>\n",
    "<script type=\"text/javascript\">\n",
    "    var web3 = new Web3(new Web3.providers.HttpProvider(\"http://localhost:8446\"));\n",
    "    function res(str){\n",
    "        var shelloContract = new web3.eth.Contract([{\"constant\":true,\"inputs\":[{\"name\":\"x\",\"type\":\"uint256\"}],\"name\":\"powerOf2\",\"outputs\":[{\"name\":\"\",\"type\":\"uint256\"}],\"payable\":false,\"stateMutability\":\"pure\",\"type\":\"function\"}],\n",
    "                                      \"0xB4E8F46bd3A6C87d624C83b203B3deD958ab8c36\");\n",
    "        shelloContract.methods.powerOf2(str).call().then(function(str){\n",
    "             document.getElementById('powerOf2').innerText=str;\n",
    "        })};\n",
    "</script>\n",
    "</head>\n",
    "<body>\n",
    "    <h1>powerOf2</h1>\n",
    "    <button type=\"button\" onClick=\"res(8);\">result 2^8</button>\n",
    "    <div></div>\n",
    "    <button type=\"button\" onClick=\"res(32);\">result 2^32</button>\n",
    "    <div></div>\n",
    "    <div id=\"powerOf2\"></div>\n",
    "</body>"
   ]
  },
  {
   "cell_type": "code",
   "execution_count": 198,
   "metadata": {},
   "outputs": [],
   "source": [
    "from IPython.display import Image"
   ]
  },
  {
   "cell_type": "markdown",
   "metadata": {},
   "source": [
    "### 버튼을 2개만들어서 왼쪽은 2^8의 버튼을 눌렀을 때, 오른쪽은 2^32를 눌렀을 때 결과입니다."
   ]
  },
  {
   "cell_type": "code",
   "execution_count": 200,
   "metadata": {},
   "outputs": [
    {
     "data": {
      "image/jpeg": "[encoded data removed]",
      "text/plain": [
       "<IPython.core.display.Image object>"
      ]
     },
     "execution_count": 200,
     "metadata": {},
     "output_type": "execute_result"
    }
   ],
   "source": [
    "Image(\"screenshot.jpg\")"
   ]
  },
  {
   "cell_type": "markdown",
   "metadata": {},
   "source": [
    "## 2-5"
   ]
  },
  {
   "cell_type": "code",
   "execution_count": 254,
   "metadata": {},
   "outputs": [],
   "source": [
    "!echo | set /p=\"exports.compiled=\" > src\\MathABI.json\n",
    "!solc --optimize --combined-json abi src\\Math.sol > src\\MathABI.json"
   ]
  },
  {
   "cell_type": "code",
   "execution_count": 260,
   "metadata": {},
   "outputs": [],
   "source": [
    "!echo | set /p=\"exports.compiled=\" > src\\MathBIN.json\n",
    "!solc --optimize --combined-json bin src\\Math.sol > src\\MathBIN.json"
   ]
  },
  {
   "cell_type": "code",
   "execution_count": 261,
   "metadata": {},
   "outputs": [
    {
     "name": "stdout",
     "output_type": "stream",
     "text": [
      "{\"contracts\":{\"src\\\\Math.sol:Math\":{\"abi\":\"[{\\\"constant\\\":true,\\\"inputs\\\":[{\\\"name\\\":\\\"x\\\",\\\"type\\\":\\\"uint256\\\"}],\\\"name\\\":\\\"powerOf2\\\",\\\"outputs\\\":[{\\\"name\\\":\\\"\\\",\\\"type\\\":\\\"uint256\\\"}],\\\"payable\\\":false,\\\"stateMutability\\\":\\\"pure\\\",\\\"type\\\":\\\"function\\\"}]\"}},\"version\":\"0.4.25+commit.59dbf8f1.Windows.msvc\"}\n"
     ]
    }
   ],
   "source": [
    "!type src\\MathABI.json"
   ]
  },
  {
   "cell_type": "code",
   "execution_count": 262,
   "metadata": {},
   "outputs": [
    {
     "name": "stdout",
     "output_type": "stream",
     "text": [
      "{\"contracts\":{\"src\\\\Math.sol:Math\":{\"bin\":\"6080604052348015600f57600080fd5b50609c8061001e6000396000f300608060405260043610603e5763ffffffff7c0100000000000000000000000000000000000000000000000000000000600035041663bdacc0cf81146043575b600080fd5b348015604e57600080fd5b506058600435606a565b60408051918252519081900360200190f35b60020a905600a165627a7a72305820399ebc714ffb3be8f5dd7b407e4f0f209eb7e07db7fefd74e63d39cb22a9a26f0029\"}},\"version\":\"0.4.25+commit.59dbf8f1.Windows.msvc\"}\n"
     ]
    }
   ],
   "source": [
    "!type src\\MathBIN.json"
   ]
  },
  {
   "cell_type": "code",
   "execution_count": 263,
   "metadata": {},
   "outputs": [
    {
     "name": "stdout",
     "output_type": "stream",
     "text": [
      "Overwriting src/MathImportTest.js\n"
     ]
    }
   ],
   "source": [
    "%%writefile src/MathImportTest.js\n",
    "var _abiJson = require('./MathABI.json');\n",
    "var _binJson = require('./MathBIN.json');\n",
    "contractName=Object.keys(_abiJson.contracts); \n",
    "console.log(\"- contract name: \", contractName[0]); //or console.log(contractName);\n",
    "\n",
    "_abi=_abiJson.contracts[contractName].abi\n",
    "_bin=_binJson.contracts[contractName].bin\n",
    "console.log(\"- ABI: \", _abi);\n",
    "console.log(\"- Bytecode: \", _bin);"
   ]
  },
  {
   "cell_type": "code",
   "execution_count": 264,
   "metadata": {},
   "outputs": [
    {
     "name": "stdout",
     "output_type": "stream",
     "text": [
      "- contract name:  src\\Math.sol:Math\n",
      "- ABI:  [{\"constant\":true,\"inputs\":[{\"name\":\"x\",\"type\":\"uint256\"}],\"name\":\"powerOf2\",\"outputs\":[{\"name\":\"\",\"type\":\"uint256\"}],\"payable\":false,\"stateMutability\":\"pure\",\"type\":\"function\"}]\n",
      "- Bytecode:  6080604052348015600f57600080fd5b50609c8061001e6000396000f300608060405260043610603e5763ffffffff7c0100000000000000000000000000000000000000000000000000000000600035041663bdacc0cf81146043575b600080fd5b348015604e57600080fd5b506058600435606a565b60408051918252519081900360200190f35b60020a905600a165627a7a72305820399ebc714ffb3be8f5dd7b407e4f0f209eb7e07db7fefd74e63d39cb22a9a26f0029\n"
     ]
    }
   ],
   "source": [
    "!node src/MathImportTest.js"
   ]
  },
  {
   "cell_type": "code",
   "execution_count": 286,
   "metadata": {},
   "outputs": [
    {
     "name": "stderr",
     "output_type": "stream",
     "text": [
      "src\\MathABI.json:1:1: Error: Expected pragma, import directive or contract/interface/library definition.\n",
      " ... { ... \n",
      "     ^\n"
     ]
    }
   ],
   "source": [
    "!echo | set /p=\"var _compiled=\" >src\\MathAbiBinFromFile.js\n",
    "!solc --optimize --combined-json abi,bin,interface src\\MathABI.json>>src\\MathAbiBinFromFile.js"
   ]
  },
  {
   "cell_type": "code",
   "execution_count": 283,
   "metadata": {},
   "outputs": [
    {
     "name": "stdout",
     "output_type": "stream",
     "text": [
      "Overwriting src/MathAbiBinFromFile.js\n"
     ]
    }
   ],
   "source": [
    "%%writefile src/MathAbiBinFromFile.js\n",
    "var Web3=require('web3');\n",
    "var _abiJson = require('./TimerABI.json');\n",
    "var _binJson = require('./TimerBIN.json');\n",
    "\n",
    "var web3;\n",
    "if (typeof web3 !== 'undefined') {\n",
    "    web3 = new Web3(web3.currentProvider);\n",
    "} else {\n",
    "    web3 = new Web3(new Web3.providers.HttpProvider(\"http://localhost:8446\"));\n",
    "}\n",
    "\n",
    "///contractName=Object.keys(_abiJson.contracts); \n",
    "//console.log(\"- contract name: \", contractName[0]); \n",
    "//_abiArray=JSON.parse(_abiJson.contracts[contractName].abi);\n",
    "//_bin=_binJson.contracts[contractName].bin;\n",
    "//console.log(\"- ABI: \" + _abiArray);\n",
    "//console.log(\"- Bytecode: \" + _bin);\n",
    "\n",
    "//var _contract = new web3.eth.Contract(_abiArray);\n",
    "//_contract\n",
    "//    .deploy({data:\"0x\"+_bin})\n",
    "//    .send({from: \"0x57debf2e94a2ec946b3e41e4f1640dee925dc147\", gas: 364124, gasPrice: '1000000000'})\n",
    "//    .then(function(newContractInstance){\n",
    "//       console.log(\"- Contract Address: \"+newContractInstance.options.address) // instance with the new contract address\n",
    "//    });"
   ]
  },
  {
   "cell_type": "code",
   "execution_count": 284,
   "metadata": {
    "scrolled": true
   },
   "outputs": [
    {
     "name": "stderr",
     "output_type": "stream",
     "text": [
      "internal/modules/cjs/loader.js:883\n",
      "  throw err;\n",
      "  ^\n",
      "\n",
      "Error: Cannot find module 'C:\\Users\\chaeh\\co\\201910803\\src\\MathDeployAbiBinFromFile.js'\n",
      "    at Function.Module._resolveFilename (internal/modules/cjs/loader.js:880:15)\n",
      "    at Function.Module._load (internal/modules/cjs/loader.js:725:27)\n",
      "    at Function.executeUserEntryPoint [as runMain] (internal/modules/run_main.js:72:12)\n",
      "    at internal/main/run_main_module.js:17:47 {\n",
      "  code: 'MODULE_NOT_FOUND',\n",
      "  requireStack: []\n",
      "}\n"
     ]
    }
   ],
   "source": [
    "!node src/MathDeployAbiBinFromFile.js"
   ]
  },
  {
   "cell_type": "code",
   "execution_count": null,
   "metadata": {},
   "outputs": [],
   "source": [
    "%%writefile src/MathUse.js\n",
    "var Web3=require('web3');\n",
    "var _abiJson = require('./MathABI.json');\n",
    "var _binJson = require('./MathBIN.json');\n",
    "\n",
    "var web3 = new Web3(new Web3.providers.HttpProvider(\"http://localhost:8446\"));\n",
    "\n",
    "contractName=Object.keys(_abiJson.contracts); \n",
    "console.log(\"- contract name: \", contractName[0]); \n",
    "_abiArray=JSON.parse(_abiJson.contracts[contractName].abi); //JSON parsing needed!!\n",
    "_bin=_binJson.contracts[contractName].bin;\n",
    "var _instance = new web3.eth.Contract(_abiArray,\"contract주소가 들어가야함\");\n",
    "console.log(_instance.powerOf2(8));\n",
    "console.log(_instance.powerOf2(32))"
   ]
  },
  {
   "cell_type": "markdown",
   "metadata": {},
   "source": [
    "## 2-6"
   ]
  },
  {
   "cell_type": "code",
   "execution_count": 201,
   "metadata": {},
   "outputs": [
    {
     "name": "stdout",
     "output_type": "stream",
     "text": [
      "Writing src/MathGeth.sol\n"
     ]
    }
   ],
   "source": [
    "%%writefile src/MathGeth.sol\n",
    "pragma solidity ^0.4.25;\n",
    "contract Math {\n",
    "    function powerOf2(uint x) public pure returns (uint){\n",
    "        return 2**x;\n",
    "    }\n",
    "}"
   ]
  },
  {
   "cell_type": "code",
   "execution_count": 202,
   "metadata": {},
   "outputs": [
    {
     "name": "stdout",
     "output_type": "stream",
     "text": [
      "\n",
      "======= src/MathGeth.sol:Math =======\n",
      "Gas estimation:\n",
      "construction:\n",
      "   87 + 37400 = 37487\n",
      "external:\n",
      "   powerOf2(uint256):\t1876\n",
      "Binary: \n",
      "608060405234801561001057600080fd5b5060bb8061001f6000396000f300608060405260043610603f576000357c0100000000000000000000000000000000000000000000000000000000900463ffffffff168063bdacc0cf146044575b600080fd5b348015604f57600080fd5b50606c600480360381019080803590602001909291905050506082565b6040518082815260200191505060405180910390f35b60008160020a90509190505600a165627a7a72305820f23ec20aec6a2af79b867b7de1644ed1e674701f1a4b714576928d11f4cf614e0029\n",
      "Contract JSON ABI \n",
      "[{\"constant\":true,\"inputs\":[{\"name\":\"x\",\"type\":\"uint256\"}],\"name\":\"powerOf2\",\"outputs\":[{\"name\":\"\",\"type\":\"uint256\"}],\"payable\":false,\"stateMutability\":\"pure\",\"type\":\"function\"}]\n"
     ]
    }
   ],
   "source": [
    "!solc --abi --bin --gas src/MathGeth.sol"
   ]
  },
  {
   "cell_type": "code",
   "execution_count": 203,
   "metadata": {},
   "outputs": [],
   "source": [
    "!echo | set /p=\"exports._compiled=\" >src\\MathGeth.js\n",
    "!solc --optimize --combined-json abi,bin,interface src/MathGeth.sol>>src\\MathGeth.js"
   ]
  },
  {
   "cell_type": "code",
   "execution_count": 204,
   "metadata": {},
   "outputs": [
    {
     "name": "stdout",
     "output_type": "stream",
     "text": [
      "exports._compiled={\"contracts\":{\"src/MathGeth.sol:Math\":{\"abi\":\"[{\\\"constant\\\":true,\\\"inputs\\\":[{\\\"name\\\":\\\"x\\\",\\\"type\\\":\\\"uint256\\\"}],\\\"name\\\":\\\"powerOf2\\\",\\\"outputs\\\":[{\\\"name\\\":\\\"\\\",\\\"type\\\":\\\"uint256\\\"}],\\\"payable\\\":false,\\\"stateMutability\\\":\\\"pure\\\",\\\"type\\\":\\\"function\\\"}]\",\"bin\":\"6080604052348015600f57600080fd5b50609c8061001e6000396000f300608060405260043610603e5763ffffffff7c0100000000000000000000000000000000000000000000000000000000600035041663bdacc0cf81146043575b600080fd5b348015604e57600080fd5b506058600435606a565b60408051918252519081900360200190f35b60020a905600a165627a7a7230582025bab6af40cbc6ce02e22e8fe40087a003e4f6188bfad3729b0d406f48dfbc120029\"}},\"version\":\"0.4.25+commit.59dbf8f1.Windows.msvc\"}\n"
     ]
    }
   ],
   "source": [
    "!type src\\MathGeth.js"
   ]
  },
  {
   "cell_type": "code",
   "execution_count": 212,
   "metadata": {},
   "outputs": [],
   "source": [
    "!echo | set /p=\"var _compiled=\" >src\\MathGeth.js\n",
    "!solc --optimize --combined-json abi,bin,interface src\\MathGeth.sol>>src\\MathGeth.js"
   ]
  },
  {
   "cell_type": "code",
   "execution_count": 213,
   "metadata": {},
   "outputs": [
    {
     "name": "stdout",
     "output_type": "stream",
     "text": [
      "Overwriting src/MathDeployGeth.js\n"
     ]
    }
   ],
   "source": [
    "%%writefile src/MathDeployGeth.js\n",
    "var primary=eth.accounts[0];\n",
    "loadScript('src/MathGeth.js')\n",
    "contractName=Object.keys(_compiled.contracts)\n",
    "_abi=JSON.parse(_compiled.contracts[contractName[0]].abi)   \n",
    "_code=_compiled.contracts[contractName[0]].bin              \n",
    "_class=eth.contract(_abi);\n",
    "console.log('bin code: ', _code)\n",
    "_object=_class.new({from:primary,data:'0x'+_code,gas:1000000}, function(err, contract) {\n",
    "  if (!err && contract.address)\n",
    "    console.log(\"contractAddress: \", contract.address);\n",
    "    console.log(\"transactionHash: \", contract.transactionHash);\n",
    "});"
   ]
  },
  {
   "cell_type": "code",
   "execution_count": 215,
   "metadata": {},
   "outputs": [
    {
     "name": "stdout",
     "output_type": "stream",
     "text": [
      "bin code:  6080604052348015600f57600080fd5b50609c8061001e6000396000f300608060405260043610603e5763ffffffff7c0100000000000000000000000000000000000000000000000000000000600035041663bdacc0cf81146043575b600080fd5b348015604e57600080fd5b506058600435606a565b60408051918252519081900360200190f35b60020a905600a165627a7a7230582094253cf66a3da14b4ca19383715ab584a9c3457aaea50fb1dc430968619ad9160029\n",
      "transactionHash:  0x89c6b73a5ef15342f8e4d9df4520f0f7ec25c61f63f4f43904471594dfe4538e\n",
      "{\n",
      "  abi: [{\n",
      "      constant: true,\n",
      "      inputs: [{...}],\n",
      "      name: \"powerOf2\",\n",
      "      outputs: [{...}],\n",
      "      payable: false,\n",
      "      stateMutability: \"pure\",\n",
      "      type: \"function\"\n",
      "  }],\n",
      "  address: undefined,\n",
      "  transactionHash: \"0x89c6b73a5ef15342f8e4d9df4520f0f7ec25c61f63f4f43904471594dfe4538e\"\n",
      "}\n"
     ]
    }
   ],
   "source": [
    "!geth --exec \"loadScript('src/MathDeployGeth.js')\" attach http://localhost:8446"
   ]
  },
  {
   "cell_type": "code",
   "execution_count": 216,
   "metadata": {},
   "outputs": [
    {
     "name": "stdout",
     "output_type": "stream",
     "text": [
      "{\n",
      "  blockHash: \"0x4c5e2757495cd27011699f6e125eb3c705fcd5bb4697f4429b7a8d1b78ea960f\",\n",
      "  blockNumber: 2,\n",
      "  contractAddress: \"0x9ed2d1cb1902bcca2b7214ab0ef16adb4a6abcb4\",\n",
      "  cumulativeGasUsed: 86801,\n",
      "  from: \"0x57debf2e94a2ec946b3e41e4f1640dee925dc147\",\n",
      "  gasUsed: 86801,\n",
      "  logs: [],\n",
      "  logsBloom: \"0x00000000000000000000000000000000000000000000000000000000000000000000000000000000000000000000000000000000000000000000000000000000000000000000000000000000000000000000000000000000000000000000000000000000000000000000000000000000000000000000000000000000000000000000000000000000000000000000000000000000000000000000000000000000000000000000000000000000000000000000000000000000000000000000000000000000000000000000000000000000000000000000000000000000000000000000000000000000000000000000000000000000000000000000000000000000\",\n",
      "  status: \"0x1\",\n",
      "  to: null,\n",
      "  transactionHash: \"0x89c6b73a5ef15342f8e4d9df4520f0f7ec25c61f63f4f43904471594dfe4538e\",\n",
      "  transactionIndex: 0\n",
      "}\n"
     ]
    }
   ],
   "source": [
    "!geth --exec \"eth.getTransactionReceipt('0x89c6b73a5ef15342f8e4d9df4520f0f7ec25c61f63f4f43904471594dfe4538e')\" attach http://localhost:8446"
   ]
  },
  {
   "cell_type": "code",
   "execution_count": 235,
   "metadata": {},
   "outputs": [
    {
     "name": "stdout",
     "output_type": "stream",
     "text": [
      "Overwriting src/MathUseGeth.js\n"
     ]
    }
   ],
   "source": [
    "%%writefile src/MathUseGeth.js\n",
    "loadScript('src/MathGeth.js')\n",
    "contractName=Object.keys(_compiled.contracts)\n",
    "_abi=JSON.parse(_compiled.contracts[contractName[0]].abi)\n",
    "var _contract=eth.contract(_abi);\n",
    "var _address=\"0x9ed2d1cb1902bcca2b7214ab0ef16adb4a6abcb4\";\n",
    "var _instance=eth.contract(_abi).at(_address);\n",
    "console.log(_instance.powerOf2(8));\n",
    "console.log(_instance.powerOf2(32));"
   ]
  },
  {
   "cell_type": "code",
   "execution_count": 236,
   "metadata": {},
   "outputs": [
    {
     "name": "stdout",
     "output_type": "stream",
     "text": [
      "256\n",
      "4294967296\n",
      "null\n"
     ]
    }
   ],
   "source": [
    "!geth --exec \"loadScript('src/MathUseGeth.js')\" attach http://localhost:8446"
   ]
  }
 ],
 "metadata": {
  "kernelspec": {
   "display_name": "Python 3",
   "language": "python",
   "name": "python3"
  },
  "language_info": {
   "codemirror_mode": {
    "name": "ipython",
    "version": 3
   },
   "file_extension": ".py",
   "mimetype": "text/x-python",
   "name": "python",
   "nbconvert_exporter": "python",
   "pygments_lexer": "ipython3",
   "version": "3.7.9"
  }
 },
 "nbformat": 4,
 "nbformat_minor": 4
}
