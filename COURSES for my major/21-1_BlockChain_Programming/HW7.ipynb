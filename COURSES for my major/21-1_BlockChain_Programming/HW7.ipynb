{
 "cells": [
  {
   "cell_type": "code",
   "execution_count": 1,
   "metadata": {},
   "outputs": [
    {
     "name": "stdout",
     "output_type": "stream",
     "text": [
      "Overwriting src/Hello.sol\n"
     ]
    }
   ],
   "source": [
    "%%writefile src/Hello.sol\n",
    "pragma solidity ^0.4.25;\n",
    "\n",
    "contract Hello{\n",
    "    function sayHello() pure public returns(string memory){\n",
    "        return \"Hello, Snowman\";\n",
    "    }\n",
    "}"
   ]
  },
  {
   "cell_type": "code",
   "execution_count": 2,
   "metadata": {},
   "outputs": [
    {
     "name": "stdout",
     "output_type": "stream",
     "text": [
      "\n",
      "======= src/Hello.sol:Hello =======\n",
      "EVM assembly:\n",
      "    /* \"src/Hello.sol\":28:148  contract Hello{\n",
      "... */\n",
      "  mstore(0x40, 0x80)\n",
      "  callvalue\n",
      "    /* \"--CODEGEN--\":8:17   */\n",
      "  dup1\n",
      "    /* \"--CODEGEN--\":5:7   */\n",
      "  iszero\n",
      "  tag_1\n",
      "  jumpi\n",
      "    /* \"--CODEGEN--\":30:31   */\n",
      "  0x0\n",
      "    /* \"--CODEGEN--\":27:28   */\n",
      "  dup1\n",
      "    /* \"--CODEGEN--\":20:32   */\n",
      "  revert\n",
      "    /* \"--CODEGEN--\":5:7   */\n",
      "tag_1:\n",
      "    /* \"src/Hello.sol\":28:148  contract Hello{\n",
      "... */\n",
      "  pop\n",
      "  dataSize(sub_0)\n",
      "  dup1\n",
      "  dataOffset(sub_0)\n",
      "  0x0\n",
      "  codecopy\n",
      "  0x0\n",
      "  return\n",
      "stop\n",
      "\n",
      "sub_0: assembly {\n",
      "        /* \"src/Hello.sol\":28:148  contract Hello{\n",
      "... */\n",
      "      mstore(0x40, 0x80)\n",
      "      jumpi(tag_1, lt(calldatasize, 0x4))\n",
      "      calldataload(0x0)\n",
      "      0x100000000000000000000000000000000000000000000000000000000\n",
      "      swap1\n",
      "      div\n",
      "      0xffffffff\n",
      "      and\n",
      "      dup1\n",
      "      0xef5fb05b\n",
      "      eq\n",
      "      tag_2\n",
      "      jumpi\n",
      "    tag_1:\n",
      "      0x0\n",
      "      dup1\n",
      "      revert\n",
      "        /* \"src/Hello.sol\":49:145  function sayHello() pure public returns(string memory){\n",
      "... */\n",
      "    tag_2:\n",
      "      callvalue\n",
      "        /* \"--CODEGEN--\":8:17   */\n",
      "      dup1\n",
      "        /* \"--CODEGEN--\":5:7   */\n",
      "      iszero\n",
      "      tag_3\n",
      "      jumpi\n",
      "        /* \"--CODEGEN--\":30:31   */\n",
      "      0x0\n",
      "        /* \"--CODEGEN--\":27:28   */\n",
      "      dup1\n",
      "        /* \"--CODEGEN--\":20:32   */\n",
      "      revert\n",
      "        /* \"--CODEGEN--\":5:7   */\n",
      "    tag_3:\n",
      "        /* \"src/Hello.sol\":49:145  function sayHello() pure public returns(string memory){\n",
      "... */\n",
      "      pop\n",
      "      tag_4\n",
      "      jump(tag_5)\n",
      "    tag_4:\n",
      "      mload(0x40)\n",
      "      dup1\n",
      "      dup1\n",
      "      0x20\n",
      "      add\n",
      "      dup3\n",
      "      dup2\n",
      "      sub\n",
      "      dup3\n",
      "      mstore\n",
      "      dup4\n",
      "      dup2\n",
      "      dup2\n",
      "      mload\n",
      "      dup2\n",
      "      mstore\n",
      "      0x20\n",
      "      add\n",
      "      swap2\n",
      "      pop\n",
      "      dup1\n",
      "      mload\n",
      "      swap1\n",
      "      0x20\n",
      "      add\n",
      "      swap1\n",
      "      dup1\n",
      "      dup4\n",
      "      dup4\n",
      "        /* \"--CODEGEN--\":23:24   */\n",
      "      0x0\n",
      "        /* \"--CODEGEN--\":8:108   */\n",
      "    tag_6:\n",
      "        /* \"--CODEGEN--\":33:36   */\n",
      "      dup4\n",
      "        /* \"--CODEGEN--\":30:31   */\n",
      "      dup2\n",
      "        /* \"--CODEGEN--\":27:37   */\n",
      "      lt\n",
      "        /* \"--CODEGEN--\":8:108   */\n",
      "      iszero\n",
      "      tag_7\n",
      "      jumpi\n",
      "        /* \"--CODEGEN--\":99:100   */\n",
      "      dup1\n",
      "        /* \"--CODEGEN--\":94:97   */\n",
      "      dup3\n",
      "        /* \"--CODEGEN--\":90:101   */\n",
      "      add\n",
      "        /* \"--CODEGEN--\":84:102   */\n",
      "      mload\n",
      "        /* \"--CODEGEN--\":80:81   */\n",
      "      dup2\n",
      "        /* \"--CODEGEN--\":75:78   */\n",
      "      dup5\n",
      "        /* \"--CODEGEN--\":71:82   */\n",
      "      add\n",
      "        /* \"--CODEGEN--\":64:103   */\n",
      "      mstore\n",
      "        /* \"--CODEGEN--\":52:54   */\n",
      "      0x20\n",
      "        /* \"--CODEGEN--\":49:50   */\n",
      "      dup2\n",
      "        /* \"--CODEGEN--\":45:55   */\n",
      "      add\n",
      "        /* \"--CODEGEN--\":40:55   */\n",
      "      swap1\n",
      "      pop\n",
      "        /* \"--CODEGEN--\":8:108   */\n",
      "      jump(tag_6)\n",
      "    tag_7:\n",
      "        /* \"--CODEGEN--\":12:26   */\n",
      "      pop\n",
      "        /* \"src/Hello.sol\":49:145  function sayHello() pure public returns(string memory){\n",
      "... */\n",
      "      pop\n",
      "      pop\n",
      "      pop\n",
      "      swap1\n",
      "      pop\n",
      "      swap1\n",
      "      dup2\n",
      "      add\n",
      "      swap1\n",
      "      0x1f\n",
      "      and\n",
      "      dup1\n",
      "      iszero\n",
      "      tag_9\n",
      "      jumpi\n",
      "      dup1\n",
      "      dup3\n",
      "      sub\n",
      "      dup1\n",
      "      mload\n",
      "      0x1\n",
      "      dup4\n",
      "      0x20\n",
      "      sub\n",
      "      0x100\n",
      "      exp\n",
      "      sub\n",
      "      not\n",
      "      and\n",
      "      dup2\n",
      "      mstore\n",
      "      0x20\n",
      "      add\n",
      "      swap2\n",
      "      pop\n",
      "    tag_9:\n",
      "      pop\n",
      "      swap3\n",
      "      pop\n",
      "      pop\n",
      "      pop\n",
      "      mload(0x40)\n",
      "      dup1\n",
      "      swap2\n",
      "      sub\n",
      "      swap1\n",
      "      return\n",
      "    tag_5:\n",
      "        /* \"src/Hello.sol\":89:95  string */\n",
      "      0x60\n",
      "        /* \"src/Hello.sol\":114:137  return \"Hello, Snowman\" */\n",
      "      0x40\n",
      "      dup1\n",
      "      mload\n",
      "      swap1\n",
      "      dup2\n",
      "      add\n",
      "      0x40\n",
      "      mstore\n",
      "      dup1\n",
      "      0xe\n",
      "      dup2\n",
      "      mstore\n",
      "      0x20\n",
      "      add\n",
      "      0x48656c6c6f2c20536e6f776d616e000000000000000000000000000000000000\n",
      "      dup2\n",
      "      mstore\n",
      "      pop\n",
      "      swap1\n",
      "      pop\n",
      "        /* \"src/Hello.sol\":49:145  function sayHello() pure public returns(string memory){\n",
      "... */\n",
      "      swap1\n",
      "      jump\t// out\n",
      "\n",
      "    auxdata: 0xa165627a7a7230582031b2d76a7e8a2a2f1d4b073b0f4487db4992d359094a558e1215cdafd5127dcd0029\n",
      "}\n",
      "\n"
     ]
    }
   ],
   "source": [
    "!solc --asm src/Hello.sol"
   ]
  },
  {
   "cell_type": "code",
   "execution_count": 3,
   "metadata": {
    "scrolled": true
   },
   "outputs": [
    {
     "name": "stdout",
     "output_type": "stream",
     "text": [
      "\n",
      "======= src/Hello.sol:Hello =======\n",
      "Gas estimation:\n",
      "construction:\n",
      "   111 + 63800 = 63911\n",
      "external:\n",
      "   sayHello():\tinfinite\n",
      "Binary: \n",
      "608060405234801561001057600080fd5b5061013f806100206000396000f300608060405260043610610041576000357c0100000000000000000000000000000000000000000000000000000000900463ffffffff168063ef5fb05b14610046575b600080fd5b34801561005257600080fd5b5061005b6100d6565b6040518080602001828103825283818151815260200191508051906020019080838360005b8381101561009b578082015181840152602081019050610080565b50505050905090810190601f1680156100c85780820380516001836020036101000a031916815260200191505b509250505060405180910390f35b60606040805190810160405280600e81526020017f48656c6c6f2c20536e6f776d616e0000000000000000000000000000000000008152509050905600a165627a7a7230582031b2d76a7e8a2a2f1d4b073b0f4487db4992d359094a558e1215cdafd5127dcd0029\n",
      "Contract JSON ABI \n",
      "[{\"constant\":true,\"inputs\":[],\"name\":\"sayHello\",\"outputs\":[{\"name\":\"\",\"type\":\"string\"}],\"payable\":false,\"stateMutability\":\"pure\",\"type\":\"function\"}]\n"
     ]
    }
   ],
   "source": [
    "!solc --abi --bin --gas src/Hello.sol"
   ]
  },
  {
   "cell_type": "code",
   "execution_count": 20,
   "metadata": {},
   "outputs": [
    {
     "name": "stdout",
     "output_type": "stream",
     "text": [
      "Overwriting src/HelloDeployGas.js\n"
     ]
    }
   ],
   "source": [
    "%%writefile src/HelloDeployGas.js\n",
    "var Web3=require('web3');\n",
    "var web3=new Web3(new Web3.providers.HttpProvider('http://localhost:8345'));\n",
    "var shelloContract = new web3.eth.Contract([{\"constant\":true,\"inputs\":[],\"name\":\"sayHello\",\"outputs\":[{\"name\":\"\",\"type\":\"string\"}],\"payable\":false,\"stateMutability\":\"view\",\"type\":\"function\"}]);\n",
    "shelloContract\n",
    "   .deploy({\n",
    "       data:'0x608060405234801561001057600080fd5b5061013f806100206000396000f300608060405260043610610041576000357c0100000000000000000000000000000000000000000000000000000000900463ffffffff168063ef5fb05b14610046575b600080fd5b34801561005257600080fd5b5061005b6100d6565b6040518080602001828103825283818151815260200191508051906020019080838360005b8381101561009b578082015181840152602081019050610080565b50505050905090810190601f1680156100c85780820380516001836020036101000a031916815260200191505b509250505060405180910390f35b60606040805190810160405280600e81526020017f48656c6c6f2c20536e6f776d616e0000000000000000000000000000000000008152509050905600a165627a7a72305820034ffcd503a1bb1dedc2faf707327b6038ed9655f1e465878e8863515381aec90029',\n",
    "    })\n",
    "    .estimateGas()\n",
    "    .then(function(myGas){\n",
    "        console.log(\"Estimated gas:\"+myGas)\n",
    "        gas=myGas;\n",
    "    })\n",
    "    .catch(console.error)"
   ]
  },
  {
   "cell_type": "code",
   "execution_count": 21,
   "metadata": {
    "scrolled": true
   },
   "outputs": [
    {
     "name": "stdout",
     "output_type": "stream",
     "text": [
      "Estimated gas:121723\n"
     ]
    }
   ],
   "source": [
    "!node src/HelloDeployGas.js"
   ]
  },
  {
   "cell_type": "code",
   "execution_count": 22,
   "metadata": {},
   "outputs": [
    {
     "name": "stdout",
     "output_type": "stream",
     "text": [
      "Writing src/getMyaddr.js\n"
     ]
    }
   ],
   "source": [
    "%%writefile src/getMyaddr.js\n",
    "var Web3=require('web3');\n",
    "var web3=new Web3(new Web3.providers.HttpProvider(\"http://localhost:8345\"));\n",
    "var myAddr0;\n",
    "web3.eth.getAccounts(function(err,addr){\n",
    "    myAddr0=addr[0];\n",
    "    console.log(addr);\n",
    "});\n",
    "console.log(\"my address: \"+myAddr0)"
   ]
  },
  {
   "cell_type": "code",
   "execution_count": 24,
   "metadata": {},
   "outputs": [
    {
     "name": "stdout",
     "output_type": "stream",
     "text": [
      "my address: undefined\n",
      "[\n",
      "  '0x4e4A9bfb882fC4adE655a804a350515FF239b443',\n",
      "  '0xeB8A57E5211cd79b163f35A5496d73d4318Ce7Dd',\n",
      "  '0x34Af8C4Be84E401E648438095A997CE9e0e7074F',\n",
      "  '0x899F5FE04742de1915fa6C2F38b0eb239bCAAa99',\n",
      "  '0xA9742CFAE54069aF4Dd072BE147AbC6543c6Ff0F',\n",
      "  '0xB1b44D70c6b9eFB2957359d8AA702031874FD6D5',\n",
      "  '0x13B41EBb968a11AFeBF7dEB80583aB6bb05eE3d9',\n",
      "  '0x10f8ACCFfE908c1e37d9C52A20B9C52AabF41F9f',\n",
      "  '0xC195084Dda054ceF602180E5f4370b6cB5A367DE',\n",
      "  '0x02095e19fA5984421159Bce25DAd2FC32486ee77'\n",
      "]\n"
     ]
    }
   ],
   "source": [
    "!node src/getMyaddr.js"
   ]
  },
  {
   "cell_type": "code",
   "execution_count": 37,
   "metadata": {},
   "outputs": [
    {
     "name": "stdout",
     "output_type": "stream",
     "text": [
      "Overwriting src/HelloDeploy.js\n"
     ]
    }
   ],
   "source": [
    "%%writefile src/HelloDeploy.js\n",
    "var Web3=require('web3');\n",
    "var web3=new Web3(new Web3.providers.HttpProvider(\"http://localhost:8345\"));\n",
    "var shelloContract = new web3.eth.Contract([{\"constant\":true,\"inputs\":[],\"name\":\"sayHello\",\"outputs\":[{\"name\":\"\",\"type\":\"string\"}],\"payable\":false,\"stateMutability\":\"view\",\"type\":\"function\"}]);\n",
    "web3.eth.personal.unlockAccount('0x4e4A9bfb882fC4adE655a804a350515FF239b443',\"password\",1000).then(console.log('unlocked!'));\n",
    "var hello = shelloContract.deploy({\n",
    "     data: '0x608060405234801561001057600080fd5b5061013f806100206000396000f300608060405260043610610041576000357c0100000000000000000000000000000000000000000000000000000000900463ffffffff168063ef5fb05b14610046575b600080fd5b34801561005257600080fd5b5061005b6100d6565b6040518080602001828103825283818151815260200191508051906020019080838360005b8381101561009b578082015181840152602081019050610080565b50505050905090810190601f1680156100c85780820380516001836020036101000a031916815260200191505b509250505060405180910390f35b60606040805190810160405280600e81526020017f48656c6c6f2c20536e6f776d616e0000000000000000000000000000000000008152509050905600a165627a7a72305820034ffcd503a1bb1dedc2faf707327b6038ed9655f1e465878e8863515381aec90029', \n",
    "     arguments: [\n",
    "     ]\n",
    "}).send({\n",
    "     from: '0x4e4A9bfb882fC4adE655a804a350515FF239b443',\n",
    "     gas: '4700000'\n",
    "   }, function (e, contract){\n",
    "    console.log(e, contract);\n",
    "    if (typeof contract.address !== 'undefined') {\n",
    "         console.log('Contract mined! address: ' + contract.address + ' transactionHash: ' + contract.transactionHash);\n",
    "    }\n",
    " })\n",
    ".then (function(newContractInstance){\n",
    "      console.log(newContractInstance.options.address)\n",
    "});"
   ]
  },
  {
   "cell_type": "code",
   "execution_count": 38,
   "metadata": {},
   "outputs": [
    {
     "name": "stdout",
     "output_type": "stream",
     "text": [
      "unlocked!\n",
      "null 0xedbc0ac353d472492a5714c2c89671cc4fa33cbdc5f388e29e4a661d9bcb98d3\n",
      "0x121a7Ba6449cA5Cb9ecafb21eA8eB82aF30C5171\n"
     ]
    }
   ],
   "source": [
    "!node src/HelloDeploy.js"
   ]
  },
  {
   "cell_type": "code",
   "execution_count": 43,
   "metadata": {},
   "outputs": [
    {
     "name": "stdout",
     "output_type": "stream",
     "text": [
      "Overwriting src/HelloUse.js\n"
     ]
    }
   ],
   "source": [
    "%%writefile src/HelloUse.js\n",
    "var Web3=require('web3');\n",
    "var web3=new Web3(new Web3.providers.HttpProvider(\"http://localhost:8345\"));\n",
    "var shelloContract = new web3.eth.Contract([{\"constant\":true,\"inputs\":[],\"name\":\"sayHello\",\"outputs\":[{\"name\":\"\",\"type\":\"string\"}],\"payable\":false,\"stateMutability\":\"view\",\"type\":\"function\"}],'0x121a7Ba6449cA5Cb9ecafb21eA8eB82aF30C5171');\n",
    "shelloContract.methods.sayHello().call().then(function(str) {console.log(str);});"
   ]
  },
  {
   "cell_type": "code",
   "execution_count": 44,
   "metadata": {},
   "outputs": [
    {
     "name": "stdout",
     "output_type": "stream",
     "text": [
      "Hello, Snowman\n"
     ]
    }
   ],
   "source": [
    "!node src/HelloUse.js"
   ]
  }
 ],
 "metadata": {
  "kernelspec": {
   "display_name": "Python 3",
   "language": "python",
   "name": "python3"
  },
  "language_info": {
   "codemirror_mode": {
    "name": "ipython",
    "version": 3
   },
   "file_extension": ".py",
   "mimetype": "text/x-python",
   "name": "python",
   "nbconvert_exporter": "python",
   "pygments_lexer": "ipython3",
   "version": "3.7.9"
  }
 },
 "nbformat": 4,
 "nbformat_minor": 4
}
