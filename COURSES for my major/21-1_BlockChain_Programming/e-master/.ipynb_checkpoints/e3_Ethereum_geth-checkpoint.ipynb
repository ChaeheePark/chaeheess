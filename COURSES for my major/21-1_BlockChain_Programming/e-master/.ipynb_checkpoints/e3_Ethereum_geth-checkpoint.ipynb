{
 "cells": [
  {
   "cell_type": "markdown",
   "metadata": {
    "slideshow": {
     "slide_type": "slide"
    }
   },
   "source": [
    "# 3. 네트워크\n",
    "\n",
    "Last Updated 20210322SUN1802 20190327WED1130 20180717TUE1700 201801231MON1800 20160207\n",
    "\n",
    "## 학습내용\n",
    "\n",
    "### 목표\n",
    "\n",
    "* 이더리움 네트워크 망을 개설할 수 있다.\n",
    "* 네트워크 망에 접속하여 클라이언트를 개설할 수 있다."
   ]
  },
  {
   "cell_type": "markdown",
   "metadata": {},
   "source": [
    "1학년 신입생들을 대상으로 하여 전공지식에 얽매이지 않고 지성인으로의 첫걸음을 내딛으며 세계시민으로서 갖추어야 할 교양과 인성을 함양하는 것을 목적으로 하는 과목이다. 짧은 시간 속에 학생들의 교양과 인성을 길러주는 활동을 효과적으로 수행하기 위하여 2-3주에 한 번씩 학기당 5-7회의 온라인심리검사, 강연, 독서, 토론, 문화 및 예술 경험 등 관련 활동을 수행하며 학우와 교수진이 서로 생각을 나누고 가치관을 공유함으로써 성공적인 학교생활 및 가치 있는 인생 설계를 돕는다. 본 교과의 대표핵심역량은 윤리실천역량으로 지도교수와 다양한 마음프로젝트 활동을 통해 올바른 인성 함양을 목표로 한다.\n",
    "\n",
    "1. 신입생을 대상으로 학교의 교육이념 및 철학을 소개하고 이를 바탕으로 자신의 대학생활 설계를 돕는다.\n",
    "2. 자기 자신과 타인의 생각과 행동을 이해하기 위한 기초 심리검사 및 워크샵 등을 실행하여 자기 이해와 대인관계능력을 모색한다.\n",
    "3. 문화체험을 통해 문화적 소양을 함양하고 자신의 재능을 활용하여 사회에 기여할 수 있는 바안을 모색한다.\n",
    "4. 공통된 도서를 읽고 토론하는 과정을 통해 사고의 다양성을 이해하고 소통하는 기술을 함양한다."
   ]
  },
  {
   "cell_type": "markdown",
   "metadata": {
    "collapsed": true,
    "slideshow": {
     "slide_type": "subslide"
    }
   },
   "source": [
    "### 목차\n",
    "\n",
    "* 3.1 [네트워크](#3.1)\n",
    "* 3.2 공중망\n",
    "* 3.3.1 네트워크 버전 및 ID\n",
    "* 3.3.2 메인 네트워크\n",
    "* 3.3.3 테스트 네트워크\n",
    "* 3.4 사설망"
   ]
  },
  {
   "cell_type": "markdown",
   "metadata": {
    "slideshow": {
     "slide_type": "subslide"
    }
   },
   "source": [
    "### 문제\n",
    "\n",
    "* 문제 3-1: [사설망을 구성하고 접속하기](#3-1)\n",
    "* 문제 3-2: [사설망을 구성하고 접속하기 (IP를 넣어서)](#3-2)\n",
    "* 문제 3-3: [사설망 멀티노드 구성하기](#3-3)"
   ]
  },
  {
   "cell_type": "markdown",
   "metadata": {
    "slideshow": {
     "slide_type": "slide"
    }
   },
   "source": [
    "## 3.1 네트워크\n",
    "<a id='3.1'></a>\n",
    "\n",
    "블록체인 네트워크는 분산 P2P로 실행되지만 개방성에 따라 구분할 수 있다.\n",
    "**공중망 Public Network**은 인터넷과 같이 누구나 참여하고 사용할 수 있다.\n",
    "반면에 **사설망 Private Network**은 보통 특정 개인이 개설하여 참여가 제한된 네트워크이다.\n",
    "**연합망**은 참여가 허용되는 기업을 정해서 네트워크를 구성한다. Ethereum에서 fork된 **Quorum** (https://www.goquorum.com/), 리눅스 재단에서 시작한 **하이퍼레저** (https://www.hyperledger.org/), 씨티은행이나 우리나라의 신한, 우리은행 등 금융기관들이 주로 참여하고 있는 **Corda** (https://www.corda.net/) 를 예로 들 수 있다.\n",
    "\n",
    "개방정도 | 구분 | 설명\n",
    "-----|-----|-----\n",
    "제한 | private | 어떤 기관이나 개인이 개설하고, 참여하는 권한을 그 기관이나 개인이 결정하여 허락이된 참여자만 읽고 쓸 수 있다.\n",
    "허락 | consortium | 공중망과 사설망 중간쯤에 해당하는 네트워크로서, 참여자를 일부로 제한하여 선정하고, 허락되지 않은 경우에는 참여할 수 없게 구성한다.\n",
    "무제한 | public | 어느 누구나 참여할 수 있는 네트워크. 합의뿐만 아니라 읽고 쓰는 권한을 가진다.\n"
   ]
  },
  {
   "cell_type": "markdown",
   "metadata": {
    "slideshow": {
     "slide_type": "slide"
    }
   },
   "source": [
    "## 3.2 공중망\n",
    "\n",
    "공중망은 개방되어 누구나 사용할 수 있다. 이더리움의 **메인 네트워크**인 Homestead를 예로 들 수 있다. **테스트 네트워크**도 누구나 참여할 수 있는 공중망이지만, 스마트콘트랙을 개발하고 정식으로 배포하기 전에 시험하는 테스트 용도로 개방되어 있다. Ropsten 또는 Rinkeby 테스트 네트워크를 예로 들 수 있다."
   ]
  },
  {
   "cell_type": "markdown",
   "metadata": {
    "slideshow": {
     "slide_type": "subslide"
    }
   },
   "source": [
    "## 3.2.1 네트워크 버전 및 ID\n",
    "\n",
    "2015년에 아직 정식버전이 아닌 시험용 Olympic이 발표되었다. 이는 2016년 Frontier로 대체되었다.\n",
    "각 버전에는 고유번호가 붙어 있어 접속할 때 사용하게 된다.\n",
    "**현재 Homestead** 버전이 메인네트워크로 **1 번**이 붙어 있고,\n",
    "대응되는 **테스트 네트워크 Ropsten**에는 **3 번**이 고유번호로 사용되고 있다.\n",
    "5번 이후부터는 사설망에서 사용할 수 있는 번호이다.\n",
    "\n",
    "네트워크 ID | 명칭 | 구분 | 설명\n",
    "-------|-------|-------\n",
    "0 | Olympic | testnet | 2015년 7월 다음 버전 Morden으로 대체\n",
    "1 | Frontier | main | 2016년 3월 **Homestead**로 업그레이드\n",
    "2 | Morden | testnet | **Frontier의 테스트 네트워크**. 2016년 종료\n",
    "3 | Ropsten | testnet | **Homestead의 테스트 네트워크**. 2016년 발표. 스위치를 ```--testnet```로 주면 접속할 수 있다.\n",
    "4 | Rinkeby | testnet | PoA (Proof of Authority)  ```--rinkeby``` 스위치로 접속할 수 있다.\n"
   ]
  },
  {
   "cell_type": "markdown",
   "metadata": {},
   "source": [
    "### 3.3.1 메인 네트워크\n",
    "\n",
    "메인 네트워크는 발생하는 거래가 모두 기록이 되고 누구에게나 공유되는 환경이다.\n",
    "자신이 구현한 어플리케이션도 실제로 운영할 수 있다.\n",
    "다른 사설망이나 테스트네트워크와 달리 **Ether가 유통**되기 때문에 거래를 테스트해서는 안되며 주의를 기울여야 한다.\n",
    "오늘 가격이 올랐다 또는 떨어졌다하고 뉴스에 나오는 경우, 메인네트워크의 ETH를 말하는 것이다."
   ]
  },
  {
   "cell_type": "markdown",
   "metadata": {},
   "source": [
    "#### 관련 정보\n",
    "\n",
    "```Ethernodes.org```에서는 메인 네트워크가 운영되고 있는 상황을 확인할 수 있다 (https://www.ethernodes.org/).\n",
    "* 2021년 현재, 1번 메인 네트워크는 미국이 약 29.5%, 독일 16%, 그 뒤를 중국, 싱가포르, 영국, 한국, 일본이 따르고 있다.\n",
    "* 클라이언트는 리눅스 운영체제가 압도적이고, geth가 많이 쓰이고 있다.\n",
    "\n",
    "메인 네트워크에서 발생하는 거래관련 정보는:\n",
    "* ```Ethstats.net``` https://ethstats.net/ 에서 거래 및 블록 관련 통계를 볼 수 있다.\n",
    "* ```Etherscan.io``` https://etherscan.io 에서도 비슷하게 실시간 발생하는 거래를 조회할 수 있다."
   ]
  },
  {
   "cell_type": "markdown",
   "metadata": {
    "slideshow": {
     "slide_type": "subslide"
    }
   },
   "source": [
    "#### 접속 및 동기화\n",
    "\n",
    "메인 네트워크에 접속해 보자.\n",
    "메인 네트워크의 블록체인 규모가 커지고 있어 동기화하려면 시간이 꽤 걸릴 수 있다.\n",
    "동기화 방식은 스위치 ```--syncmode```로 full, light, fast 방식 가운데 선택할 수 있다.\n",
    "**full node**를 선택하면, 동기화에 CPU와 메모리를 상당히 소모해서 컴퓨터를 사용하려면 매우 불편한 정도가 될 수 있다.\n",
    "최근 1.8버전에서는 많이 개선되었다는 반응이 있기는 하다.\n",
    "메인 네트워크는 130 GB를 넘고, 테스트 네트워크는 그보다 적지만 수십 GB를 내려받아야 한다.\n",
    "반면에 v1.5.2부터 제공되는 **light node**로 블록의 헤더 정보만 동기화할 수 있다.\n",
    "용량이 제한되어 있는 모바일 폰 등에서 사용하면 적합하다.\n",
    "\n",
    "```python\n",
    "geth --syncmode light\n",
    "```"
   ]
  },
  {
   "cell_type": "markdown",
   "metadata": {},
   "source": [
    "full sync를 하기 위해서는 그림에서 (출처: etherscan) 보듯이, 상당한 저장용량이 필요하다.\n",
    "\n",
    "![alt text](figures/3_fullSyncChart.png \"Transactions per second by Etherscan\")"
   ]
  },
  {
   "cell_type": "markdown",
   "metadata": {},
   "source": [
    "또한 네트워크를 빠르게 동기화 하려면 ```--syncmode fast``` 선택할 수 있다. 또한 메모리까지 --cache=1024```로 설정할 수 있다.\n",
    "메모리 cache는 16MB단위로 증가할 수 있고, RAM크기에 따라 설정할 수 있다.\n",
    "1024는 약 1G 정도를 배정한 경우이다.\n",
    "\n",
    "```python\n",
    "geth --syncmode fast --cache=1024 console\n",
    "```"
   ]
  },
  {
   "cell_type": "markdown",
   "metadata": {
    "slideshow": {
     "slide_type": "subslide"
    }
   },
   "source": [
    "따로 data directory를 명시하지 않으면, 디렉토리가 생성되고 keystore, chaindata 등의 관련 데이터가 생성된다. 생성되는 디렉토리는 운영체제 별로 다르다.\n",
    "* 리눅스\n",
    "```python\n",
    "~/.ethereum (blockchain, keystore)\n",
    "~/.ethash (DAG)\n",
    "```\n",
    "* 맥 OS X\n",
    "```python\n",
    "~/Library/Ethereum on OS X\n",
    "```\n",
    "* 윈도우\n",
    "```python\n",
    "~/AppData/Roaming/Ethereum on Windows\n",
    "```"
   ]
  },
  {
   "cell_type": "markdown",
   "metadata": {},
   "source": [
    "### 3.3.2 테스트 네트워크\n",
    "\n",
    "반면에 테스트 네트워크는 메인의 복사본 쯤으로 볼 수 있다.\n",
    "테스트 네트워크는 말 그대로 어플리케이션을 테스트하는 네트워크이다.\n",
    "실제 ETH가 통용되는 상용 어플리케이션을 메인 네트워크에 바로 올릴 수는 없지 않은가?\n",
    "메인 네트워크에 배포하기 전 잘 작동되는지 테스트를 해보는 네트워크가 필요하다.\n",
    "앞서 보듯이, 현재 사용할 수 있는 테스트 네트워크는 Ropsten, Kovan, Rinkeby 이다.\n",
    "현재 운영되는 **메인 네크워크 Homestead**에 대응되는 테스트 네트워크인 **Ropsten**은 ```--testnet```으로 접속할 수 있다."
   ]
  },
  {
   "cell_type": "markdown",
   "metadata": {
    "slideshow": {
     "slide_type": "subslide"
    }
   },
   "source": [
    "#### 접속 및 동기화\n",
    "\n",
    "별도로 명시하지 않으면 데이터베이스는 홈디렉토리 아래 .ethereum/testnet/에 만들어 진다.\n",
    "\n",
    "```python\n",
    "$ geth --testnet\n",
    "\n",
    "INFO [03-17|12:39:05.806] Maximum peer count                       ETH=25 LES=0 total=25\n",
    "INFO [03-17|12:39:05.807] Starting peer-to-peer node               instance=Geth/v1.8.23-stable-c9427004/linux-amd64/go1.10.4\n",
    "INFO [03-17|12:39:05.807] Allocated cache and file handles         database=**/home/jsl/.ethereum/testnet/**geth/chaindata cache=512 handles=524288\n",
    "INFO [03-17|12:39:06.071] Persisted trie from memory database      nodes=355 size=51.89kB time=780.85µs gcnodes=0 gcsize=0.00B gctime=0s livenodes=1 livesize=0.00B\n",
    "INFO [03-17|12:39:06.072] Initialised chain configuration          config=\"{ChainID: 3 Homestead: 0 DAO: <nil> DAOSupport: true EIP150: 0 EIP155: 10 EIP158: 10 Byzantium: 1700000 Constantinople: 4230000  ConstantinopleFix: 4939394 Engine: ethash}\"\n",
    "INFO [03-17|12:39:06.072] Disk storage enabled for ethash caches   dir=/home/jsl/.ethereum/testnet/geth/ethash count=3\n",
    "INFO [03-17|12:39:06.072] Disk storage enabled for ethash DAGs     dir=/home/jsl/.ethash                       count=2\n",
    "INFO [03-17|12:39:06.072] Initialising Ethereum protocol           versions=\"[63 62]\" network=3\n",
    "INFO [03-17|12:39:07.179] Loaded most recent local header          number=1152 hash=4ec42f…556803 td=1069386844 age=2y4mo6d\n",
    "INFO [03-17|12:39:07.179] Loaded most recent local full block      number=0    hash=419410…ca4a2d td=1048576    age=49y11mo2d\n",
    "INFO [03-17|12:39:07.179] Loaded most recent local fast block      number=230  hash=4057f4…3be8bb td=195973576  age=2y4mo6d\n",
    "INFO [03-17|12:39:07.179] Loaded local transaction journal         transactions=0 dropped=0\n",
    "INFO [03-17|12:39:07.179] Regenerated local transaction journal    transactions=0 accounts=0\n",
    "INFO [03-17|12:39:10.743] New local node record                    seq=2 id=150304bb4b4a1a90 ip=127.0.0.1 udp=30303 tcp=30303\n",
    "INFO [03-17|12:39:10.744] Started P2P networking                   self=enode://3166b07b53259f5bb77d46806375cb0164d68ea48b48e0ea75ea34fbe07d0b3486f28c1bde74fe7892a5e1e513a6694aa295b19d08ed2310d8d0f301b432b85d@127.0.0.1:30303\n",
    "INFO [03-17|12:39:10.745] IPC endpoint opened                      url=/home/jsl/.ethereum/testnet/geth.ipc\n",
    "INFO [03-17|12:39:20.744] Block synchronisation started\n",
    "```"
   ]
  },
  {
   "cell_type": "markdown",
   "metadata": {},
   "source": [
    "\n",
    "블록체인을 빠르게 동기화하려면 다음과 같이 ```--syncmode fast```와 ```--cache```를 늘려 잡는다.\n",
    "```python\n",
    "$ geth --testnet --syncmode \"fast\" --cache=1024 console\n",
    "```"
   ]
  },
  {
   "cell_type": "markdown",
   "metadata": {
    "slideshow": {
     "slide_type": "subslide"
    }
   },
   "source": [
    "#### 원격접속\n",
    "\n",
    "원격접속을 허용하려면 rpc 옵션을 다음과 같이 넣어준다.\n",
    "이는 방금 생성한 testnet에 원격에서 접속하는 것을 말하는데, 그 방식을 rpc, websocket으로 설정할 수 있다.\n",
    "여기서는 rpc방식의 접속을 허용하며, 사용할 수 있는 api를 명시하고 있다.\n",
    "또한 접속을 허용하는 도메인을 적을 수 있는데, 여기서는 와일드카드 ```*```로 적어서 제한을 두지 않고 있다. 실제는 허용되는 도메인을 한정하는 것이 보안측면에서 필요하다.\n",
    "\n",
    "```python\n",
    "geth --testnet --syncmode \"fast\" --rpc --rpcapi \"db,eth,net,web3,personal\" --verbosity 3 --rpccorsdomain \"*\"\n",
    "```"
   ]
  },
  {
   "cell_type": "markdown",
   "metadata": {
    "slideshow": {
     "slide_type": "subslide"
    }
   },
   "source": [
    "#### 충전\n",
    "\n",
    "testnet에 사용할 수 있는 ether는 (1) 마이닝하거나, (2) faucet에서 충전할 수 있다. Robsten에서의 충전은 별도 url https://faucet.ropsten.be/ 에 접속하여 자신의 계정으로 충전을 요청할 수 있다. Kovan, Rinkeby는 마이닝하지 않고 충전을 별도로 요청해서 한다.\n",
    "\n",
    "마이닝으로 충전을 할 경우에는 계정을 만들고, 마이닝 보상의 입금계정으로 만들어야 한다. 마이닝이라고 하면 좀 어렵게 들릴 수 있다. 실물경제에서 화폐는 은행에서 인출해서 얻을 수 있는데, 암호화폐는 그렇지 않고 마이닝을 통해서 획득할 수 있다. 마이닝을 통해서 발생한 보상이 저장되는 통장과 같은 계정이 필요하다. 1시간 정도 마이닝하면 10 ether는 할 수 있다. 2017년 2월 아침 6시 ~ 오후 1시 60 ether 정도를 충전할 수 있었다.\n",
    "\n",
    "```python\n",
    "geth --testnet account new\n",
    "geth --testnet --rpc --mine --minerthreads 1 console\n",
    "```\n"
   ]
  },
  {
   "cell_type": "markdown",
   "metadata": {
    "slideshow": {
     "slide_type": "subslide"
    }
   },
   "source": [
    "testnet에 접속해서 network id는 ```admin.nodeinfo```를 확인해보자.\n",
    "chainId, networ id 모두 3번, 그러니까 ```Ropsten```으로 올바르게 설정이 되어있다.\n",
    "\n",
    "\n",
    "\n",
    "```python\n",
    "> admin.nodeInfo\n",
    "{\n",
    "  enode: \"enode://3166b07b53259f5bb77d46806375cb0164d68ea48b48e0ea75ea34fbe07d0b3486f28c1bde74fe7892a5e1e513a6694aa295b19d08ed2310d8d0f301b432b85d@127.0.0.1:30303\",\n",
    "  enr: \"0xf896b8403e5c9c0baa0e1083b48394f29d016b3e875221e36793359c46694bb1d2ca660644c4ef045fc49cb724797cf2d5c16b239ebeb425a549f72a3b479b30d4bb8ef40383636170c6c5836574683f826964827634826970847f00000189736563703235366b31a1033166b07b53259f5bb77d46806375cb0164d68ea48b48e0ea75ea34fbe07d0b348374637082765f8375647082765f\",\n",
    "  id: \"150304bb4b4a1a906d3b92a96db6c1cda9b0f7f01618b5a7ed38d246859ff174\",\n",
    "  ip: \"127.0.0.1\",\n",
    "  listenAddr: \"[::]:30303\",\n",
    "  name: \"Geth/v1.8.23-stable-c9427004/linux-amd64/go1.10.4\",\n",
    "  ports: {\n",
    "    discovery: 30303,\n",
    "    listener: 30303\n",
    "  },\n",
    "  protocols: {\n",
    "    eth: {\n",
    "      config: {\n",
    "        byzantiumBlock: 1700000,\n",
    "        chainId: 3,\n",
    "        constantinopleBlock: 4230000,\n",
    "        daoForkSupport: true,\n",
    "        eip150Block: 0,\n",
    "        eip150Hash: \"0x41941023680923e0fe4d74a34bdac8141f2540e3ae90623718e47d66d1ca4a2d\",\n",
    "        eip155Block: 10,\n",
    "        eip158Block: 10,\n",
    "        ethash: {},\n",
    "        homesteadBlock: 0,\n",
    "        petersburgBlock: 4939394\n",
    "      },\n",
    "      difficulty: 1048576,\n",
    "      genesis: \"0x41941023680923e0fe4d74a34bdac8141f2540e3ae90623718e47d66d1ca4a2d\",\n",
    "      head: \"0x41941023680923e0fe4d74a34bdac8141f2540e3ae90623718e47d66d1ca4a2d\",\n",
    "      network: 3\n",
    "    }\n",
    "  }\n",
    "}\n",
    "```"
   ]
  },
  {
   "cell_type": "markdown",
   "metadata": {
    "collapsed": true
   },
   "source": [
    "geth 실행 명령어는 매번 타이핑을 하기 번거로울 수 있다.\n",
    "명령어를 저장해서 편리하게 필요할 경우 간단히 구동하게 할 수 있다.\n",
    "아래는 리눅스 쉘문법에 따라 작성한 testnet을 구동하는 명령어이다.\n",
    "편리한 편집기를 사용해서 작성을 해도 좋다.\n",
    "단 윈도우 메모장은 보이지 않는 BOM문자가 말썽을 부릴 수 있으므로 피하는 편이 좋다.\n",
    "\n",
    "```명령어 2>> 파일명 ```는 명령어에서 발생하는 오류 (0번은 STDIN, 1번은 STDOUT, 2번은 오류)를 파일로 **재지정 Redirection**하는 명령어이다. 부등호 ```>``` 는 1회, ```>>```는 추가하는 재지정이다."
   ]
  },
  {
   "cell_type": "code",
   "execution_count": 1,
   "metadata": {
    "slideshow": {
     "slide_type": "subslide"
    }
   },
   "outputs": [
    {
     "name": "stdout",
     "output_type": "stream",
     "text": [
      "Overwriting _geth_testnet.sh\n"
     ]
    }
   ],
   "source": [
    "%%writefile _geth_testnet.sh\n",
    "_dir=$HOME/Downloads/eth/testnet\n",
    "_log=$HOME/Downloads/eth/testnet.log\n",
    "geth --identity \"jslTestNode\" \\\n",
    "--verbosity 3 \\\n",
    "--rpc --rpcaddr \"117.16.44.45\" --rpcport \"8444\" --rpccorsdomain \"*\" \\\n",
    "--datadir $_dir \\\n",
    "--port \"30444\" \\\n",
    "--maxpeers 3 \\\n",
    "--rpcapi \"admin,db,eth,debug,miner,net,shh,txpool,personal,web3\" \\\n",
    "--ipcdisable \\\n",
    "--networkid 3 \\\n",
    "console 2>>$_log\n"
   ]
  },
  {
   "cell_type": "markdown",
   "metadata": {},
   "source": [
    "## 3.4 사설망\n",
    "\n",
    "사설망 Private Network는 **개인이 개설**하여 개방이 제한되며 누구나 참여할 수 있는 네트워크가 아니다. 사설망은 개방된 네트워크가 아니므로 **분산원장으로 본래의 목적인 공유를 할 수 없다**. 공용망에 완성품을 배포하기 전 개발용으로 개설해서 사용하는 경우가 많다. Ether를 사용하지만 실제 가치가 없다. 따라서 개인이 자유롭게 개설해서 사용하고 사용에 수반되는 비용이 없다. 따라서 거래를 발생한 자신이 마이닝까지 수행하게 되는 것이 보통이다."
   ]
  },
  {
   "cell_type": "markdown",
   "metadata": {
    "slideshow": {
     "slide_type": "slide"
    }
   },
   "source": [
    "### Dev Mode\n",
    "\n",
    "매우 간편하게 사설망을 개설하는 방법은 개발 옵션 ```--dev``` 만을 주면 된다.\n",
    "임의의 ChainID (아래에서는 1337), 계정 및 기본 설정이 주어진다. ```--maxpeers 0``` 으로 자동 설정되어 개발자 혼자 사용하게 된다.\n",
    "데이터 디렉토리 ```--datadir```를 지정할 수 있다. 그러나 이를 별도로 지정하지 않으면 메모리에서 구동되다, 저장되지 않은채 사라지게 된다.\n",
    "\n",
    "```python\n",
    "$ geth --dev\n",
    "\n",
    "INFO [03-17|16:05:41.295] Maximum peer count                       ETH=25 LES=0 total=25\n",
    "INFO [03-17|16:05:44.857] Using developer account                  address=0xFaB10f1929411457aA821A620A406cB1Cd96Ad43\n",
    "INFO [03-17|16:05:46.301] Starting peer-to-peer node               instance=Geth/v1.8.23-stable-c9427004/linux-amd64/go1.10.4\n",
    "INFO [03-17|16:05:46.420] Writing custom genesis block\n",
    "INFO [03-17|16:05:46.578] Persisted trie from memory database      nodes=12 size=1.79kB time=54.971µs gcnodes=0 gcsize=0.00B gctime=0s livenodes=1 livesize=0.00B\n",
    "INFO [03-17|16:05:46.613] Initialised chain configuration          config=\"{ChainID: 1337 Homestead: 0 DAO: <nil> DAOSupport: false EIP150: 0 EIP155: 0 EIP158: 0 Byzantium: 0 Constantinople: 0  ConstantinopleFix: 0 Engine: clique}\"\n",
    "INFO [03-17|16:05:46.653] Initialising Ethereum protocol           versions=\"[63 62]\" network=1337\n",
    "INFO [03-17|16:05:47.319] Loaded most recent local header          number=0 hash=77e2d9…9c4684 td=1 age=49y11mo2d\n",
    "INFO [03-17|16:05:47.319] Loaded most recent local full block      number=0 hash=77e2d9…9c4684 td=1 age=49y11mo2d\n",
    "INFO [03-17|16:05:47.319] Loaded most recent local fast block      number=0 hash=77e2d9…9c4684 td=1 age=49y11mo2d\n",
    "INFO [03-17|16:05:47.993] Stored checkpoint snapshot to disk       number=0 hash=77e2d9…9c4684\n",
    "INFO [03-17|16:05:49.793] New local node record                    seq=1 id=7863223ef9286263 ip=127.0.0.1 udp=0 tcp=37184\n",
    "INFO [03-17|16:05:49.793] Started P2P networking                   self=\"enode://904da05cea1da76135d014a510bbd9a4d7a60bab2a0c6a34f52695fc9609467dc1ab5376dc6a2c0514dbb529d1d2601b4e15de5bd86e743bf9943ff3a4fb93b5@127.0.0.1:37184?discport=0\"\n",
    "INFO [03-17|16:05:49.768] started whisper v.6.0\n",
    "INFO [03-17|16:05:50.326] IPC endpoint opened                      url=/tmp/geth.ipc\n",
    "INFO [03-17|16:05:50.389] Transaction pool price threshold updated price=1000000000\n",
    "INFO [03-17|16:05:50.409] Transaction pool price threshold updated price=1\n",
    "INFO [03-17|16:05:50.409] Etherbase automatically configured       address=0xFaB10f1929411457aA821A620A406cB1Cd96Ad43\n",
    "INFO [03-17|16:05:50.484] Commit new mining work                   number=1 sealhash=b43d1f…b520ba uncles=0 txs=0 gas=0 fees=0 elapsed=37.151ms\n",
    "INFO [03-17|16:05:50.484] Sealing paused, waiting for transactions\n",
    "```"
   ]
  },
  {
   "cell_type": "markdown",
   "metadata": {
    "slideshow": {
     "slide_type": "slide"
    }
   },
   "source": [
    "## 문제 3-1: 사설망을 구성하고 접속하기\n",
    "<a id='3-1'></a>\n",
    "\n",
    "자신의 사설망을 개설하여 운영해 보자.\n",
    "앞서 설명한 공중망은 실제 완성된 프로그램을 실행하고, 그 전까지 사설망은 스마트콘트랙을 개발하고 테스트하는 용도로 쓰이게 된다.\n",
    "또한 **Microsoft Azure**에서도 사설망을 제공하고 있어서, 이를 개설하여 사용할 수 있다."
   ]
  },
  {
   "cell_type": "markdown",
   "metadata": {
    "slideshow": {
     "slide_type": "subslide"
    }
   },
   "source": [
    "### 단계 1: genesis.json 설정\n",
    "\n",
    "사설망을 구성하려면, genesis 설정으로 블록체인을 초기화해야 한다.\n",
    "Frontier guide의 genesis.json 예제를 사용한다.\n",
    "https://github.com/ethereum/go-ethereum/wiki/Private-network\n",
    "\n",
    "설정 | 설명\n",
    "-------|-------\n",
    "config | 설정하지 않아도 된다.\n",
    "mixhash | 256 bit hash 값\n",
    "nonce | 64 bit hash 값. 이 값과 블록체인의 해시값이 더해지고, 이 값을 맞추려면 일정한 양의 수학적 계산이 필요하다. 따라서 블록이 PoW에 따라 마이닝되고 검증되었다는 의미이다.\n",
    "difficulty | 마이닝 난이도로서, 당연히 높으면 마이닝하려면 오래 걸림. 블록에서는 이전 블록의 1) 난이도와 2) timestamp에 따라 결정되지만 genesis block은 이전 블록이 없으므로 임의로 정하게 된다. 낮게 설정해서 대기시간을 줄이는 편이 좋다.\n",
    "alloc | 'Ether pre-sale'에 판매된 계정과 잔고. \"alloc\": {\"0x..\": { \"balance\": \"Wei\" }} 로컬은 충전이 쉬워 비워놓음.\n",
    "coinbase | 160 bit 주소. 마이닝 보상을 가져가는 계정주소. 실제 **마이닝하면서 정해지기 때문에 어떤 주소**를 적어도 좋다.\n",
    "timestamp | 타임스탬프. 블럭 사이의 timestamp길이가 짧으면 난이도를 높이게 된다.\n",
    "parentHash | Keccak 256-bit hash로 부모 블록 헤더 (nonce와 mixhash포함)\n",
    "extraData | 최대 32 byte. 다른 용도를 대비한 공간.\n",
    "gasLimit | 블록 당 최대 소비 제한 gas. 높게 설정해서 out-of-gas과 같은 오류를 줄일 수 있다.\n"
   ]
  },
  {
   "cell_type": "markdown",
   "metadata": {
    "collapsed": true,
    "slideshow": {
     "slide_type": "subslide"
    }
   },
   "source": [
    "또한 ```config```에 다음 옵션을 설정할 수 있다.\n",
    "\n",
    "* ChainId - **네트워크 ID, NetworkID와 같은 값**으로 정해서 적는다. ID번호 4 이하는 공중망에 배정되었이므로 사용하지 않는다. **사설망의 ChainId가 동일하면 Peer로 연결**될 수 있다. 즉 **공중망의 동일한 ChainId를 사용하는 다른 컴퓨터**가 연결될 수 있다. 이 경우 bootnodes를 정해서 연결될 Peer를 제한할 수 있다.\n",
    "* homesteadBlock - Homestead를 블록 0부터 사용한다는 뜻, 그러니까 시작부터 Homestead라는 의미다. 예를 들어, 1번 main 네트워크에 접속을 하면 homesteadBlock이 분기된 1150000, Morden은 494000로 설정되어 있다. 그 블록에서 각 각 hard fork가 일어났기 때문이다.\n",
    "* eip155Block - EIP는 Ethereum Improvement Proposal의 약어로 이더리움은 누구나 소스코드나 이슈에 대해 제안을 할 수 있다. 그 제안이 받아들여지면 EIP155와 같이 번호가 부여된다. EIP155는 Replay Attack 방지를 위한 것으로 hard fork하게 되는데, 하지 않는 경우 0으로 한다.\n",
    "* eip158Block - EIP158는 공계정과 관련하여, 이를 없는 것으로 처리하여 블록체인을 절약하기 위한 것이다."
   ]
  },
  {
   "cell_type": "code",
   "execution_count": 1,
   "metadata": {
    "slideshow": {
     "slide_type": "subslide"
    }
   },
   "outputs": [
    {
     "name": "stdout",
     "output_type": "stream",
     "text": [
      "Overwriting _genesis.json\n"
     ]
    }
   ],
   "source": [
    "%%writefile _genesis.json\n",
    "{\n",
    "  \"config\": {\n",
    "    \"chainId\": 33,\n",
    "    \"homesteadBlock\": 0,\n",
    "    \"eip150Block\": 0,\n",
    "    \"eip155Block\": 0,\n",
    "    \"eip158Block\": 0\n",
    "  },\n",
    "  \"nonce\": \"0x0000000000000033\",\n",
    "  \"timestamp\": \"0x0\",\n",
    "  \"parentHash\": \"0x0000000000000000000000000000000000000000000000000000000000000000\",\n",
    "  \"gasLimit\": \"0x8000000\",\n",
    "  \"difficulty\": \"0x100\",\n",
    "  \"mixhash\": \"0x0000000000000000000000000000000000000000000000000000000000000000\",\n",
    "  \"coinbase\": \"0x3333333333333333333333333333333333333333\",\n",
    "  \"alloc\": {}\n",
    "}\n"
   ]
  },
  {
   "cell_type": "markdown",
   "metadata": {
    "slideshow": {
     "slide_type": "subslide"
    }
   },
   "source": [
    "### 단계 2: geth 네트워크 초기화\n",
    "\n",
    "```init``` 명령어를 사용해서 방금 작성한 ```genesis.json```을 읽어 블록체인을 설정한다. 앞의 **main, testnet은 이미 구동 중인 블록체인이 있어**서 별도의 블록 설정이 필요하지 않았다. **사설망은 블록체인의 생성뿐만 아니라 블록체인이 유통되는 네트워크도 필요**하다.\n",
    "\n",
    "다음과 같이 ```--datadir```을 현재 디렉토리 아래 ```eth```에 설정하고, ```init``` 명령으로 ```genesis.json```을 읽게 되면 초기화된 사설망이 생성된다.\n",
    "\n",
    "```python\n",
    "geth --datadir .\\eth init _genesisi.json\n",
    "```"
   ]
  },
  {
   "cell_type": "markdown",
   "metadata": {},
   "source": [
    "앞서 설명한 바와 같이 사설망을 초기화 설정하는 작업은 실행파일로 저장해 놓으면 편리하다. 사설망은 딱 한 번만 설정하는 것이 아니라, 배워나가면서 삭제했다가 생성했다가를 반복하기 마련이기 때문이다."
   ]
  },
  {
   "cell_type": "code",
   "execution_count": null,
   "metadata": {
    "collapsed": true
   },
   "outputs": [],
   "source": [
    "# %load _geth_genesis.sh\n",
    "_dir=$HOME/eth\n",
    "geth --datadir $_dir init _genesis.json\n"
   ]
  },
  {
   "cell_type": "markdown",
   "metadata": {
    "slideshow": {
     "slide_type": "subslide"
    }
   },
   "source": [
    "chainID는 networkid와 동일하게 설정하도록 한다.\n",
    "\n",
    "![alt text](figures/1_gethInitGenesis.png \"geth init genesis.json\")"
   ]
  },
  {
   "cell_type": "markdown",
   "metadata": {},
   "source": [
    "리눅스는 쉘로 만들어서 다음과 같이 실행한다. 윈도우에서는 배치프로그램으로 실행하기 때문에 ```.bat```로 저장해서 실행하도록 한다."
   ]
  },
  {
   "cell_type": "code",
   "execution_count": 19,
   "metadata": {},
   "outputs": [
    {
     "name": "stdout",
     "output_type": "stream",
     "text": [
      "I0729 22:25:31.360143 ethdb/database.go:82] Allotted 16MB cache and 16 file handles to /home/jsl/Downloads/eth/3/chaindata\n",
      "I0729 22:25:31.406873 core/genesis.go:92] Genesis block already in chain. Writing canonical number\n",
      "I0729 22:25:31.406909 cmd/geth/main.go:300] successfully wrote genesis block and/or chain rule set: 6650a0ac6c5e805475e7ca48eae5df0e32a2147a154bb2222731c770ddb5c158\n"
     ]
    }
   ],
   "source": [
    "!sh _geth_genesis.sh"
   ]
  },
  {
   "cell_type": "markdown",
   "metadata": {
    "slideshow": {
     "slide_type": "subslide"
    }
   },
   "source": [
    "### 단계 3: 계정 발급\n",
    "\n",
    "네트워크를 시작하려면, 새로운 계정을 만들어야 한다.\n",
    "새로운 계정은 당연히 잔고가 '0'으로 되어 있다.\n",
    "잔고가 없으면 거래를 할 수 없다. 충전을 하거나 또는 facuet 서비스를 이용해도 된다.\n",
    "계정의 생성을 명령창에서 해보자. ```account new``` 명령어를 사용하고 ```datadir```은 앞서 설정한 디렉토리와 **반드시 동일**해야 한다.\n",
    "명령어를 입력하면, 비밀번호를 묻게 되는데 이 비밀번호는 꼭 기억해야 한다.\n",
    "비밀번호를 타이핑할 때, 커서가 움직이지 않으므로 입력이 제대로 되는지 묻는 경우가 많다. 걱정하지 말고 비밀번호를 마치고, 확인까지 해보자.\n",
    "그러고 나면, 통장의 계좌번호 역할을 하는 계좌가 생성이 되는데 상당히 복잡하여 외워서 사용하기 힘들 정도로 암호화되어 있다.\n",
    "\n",
    "```python\n",
    "C:\\Users\\jsl\\Code\\201711111>geth --datadir .\\eth account new\n",
    "INFO [03-22|17:45:25.532] Maximum peer count                       ETH=25 LES=0 total=25\n",
    "Your new account is locked with a password. Please give a password. Do not forget this password.\n",
    "Passphrase:\n",
    "Repeat passphrase:\n",
    "Address: {4fa2c7caac80a8518264d263bdb5ed74f1a6f398}\n",
    "C:\\Users\\jsl\\Code\\201711111>\n",
    "```\n",
    "\n",
    "또는 다음과 같이 geth에 접속한 후, 계정을 발급해도 된다. \n",
    "```python\n",
    "> personal.newAccount(\"비밀번호\")\n",
    "```"
   ]
  },
  {
   "cell_type": "code",
   "execution_count": null,
   "metadata": {
    "collapsed": true
   },
   "outputs": [],
   "source": [
    "!geth --datadir ~/Downloads/eth/1 account new"
   ]
  },
  {
   "cell_type": "markdown",
   "metadata": {
    "collapsed": true,
    "slideshow": {
     "slide_type": "subslide"
    }
   },
   "source": [
    "### 단계 4: geth 사설망 접속\n",
    "\n",
    "옵션을 주어 사설망에 접속한다.\n",
    "\n",
    "```python\n",
    "geth --datadir .\\eth --rpc --rpcaddr \"localhost\" -rpccorsdomain \"*\" console\n",
    "```"
   ]
  },
  {
   "cell_type": "markdown",
   "metadata": {
    "slideshow": {
     "slide_type": "subslide"
    }
   },
   "source": [
    "#### 설정\n",
    "\n",
    "선택 | 설명\n",
    "-----------|-----------\n",
    "--networkid | 네트워크 번호, 임의의 양수 0=Olympic, 1=Frontier, 2=Morden. 5이상부터는 genesis block의 chainID와 동일하게 한다. \n",
    "--identity \"jslNode\" | 자신의 사설망 명칭\n",
    "--syncmode <mode> | 동기화 방식을 지정 fast, full, or light\n",
    "--nodiscover | 다른 노드가 자동으로 찾지 못하게 함.\n",
    "--maxpeers | 다른 노드의 최대 접속 수. 0으로 하면 다른 노드는 사용 허용하지 않음.\n",
    "--unlock | 계정의 잔고를 사용할 수 있게 잠금 해제\n",
    "--rpc | HTTP를 통해 rpc 서버로 사용\n",
    "--rpcapi | rpc에서 사용할 api (예: db,eth,net,web3)\n",
    "--rpcaddr | rpc 주소, 0.0.0.0 is all interfaces\n",
    "--rpcport | rpc 포트, 기본값은 **8545**\n",
    "--rpccorsdomain | rpc 요청을 할 수 있는 도메인 (URL) \"*\"는 어떤 도메인이나 허용\n",
    "--datadir | 데이터를 저장하는 디렉토리\n",
    "--port | 네트워크 포트, 기본 값은 **30303**\n",
    "--verbosity | Geth 작동 상황의 출력 정도, 0=silent, 1=error, 2=warn, 3=info, 4=core, 5=debug, 6=debug detail\n",
    "--mine | 마이닝 가능 설정\n",
    "\n",
    "잠깐! 계정 **비밀번호를 해제 (unlock)해 놓았을 경우, --rpccorsdomain=\"*\" 이라고 하지 않도록 한다**. 어디서든지 접근가능하기 때문에 안전을 보장할 수 없다.\n",
    "그리고, 자신의 컴퓨터에서 구동할 경우, **ip 대신 ```--rpcaddr=\"localhost\"```**라고 설정하면 된다.\n"
   ]
  },
  {
   "cell_type": "markdown",
   "metadata": {
    "slideshow": {
     "slide_type": "subslide"
    }
   },
   "source": [
    "#### 접근방식\n",
    "\n",
    "접근 방식은 rpc, ipc 또는 ws (Web Socket)으로 허용된다.\n",
    "* ipc (Inter-Process Communication)는 **동일한 컴퓨터**의 프로세스 간의 호출\n",
    "* rpc (Remote Procedure Call)는 컴퓨터와 컴퓨터 간에 네트워크를 통한 프로세스 호출로서, json rpc를 사용한다. 일반적으로 TCP, HTTP 프로토콜을 사용한다.\n",
    "* 마지막으로, ws는 web socket의 통신이며, 최근 geth 버전에서는 이벤트를 사용하기 위해 ws로 원격접속을 설정해야 한다.\n",
    "\n",
    "구분 | 설명\n",
    "-----|-----\n",
    "ipc | 프로세스A가 IPC pipe ($HOME/.ethereum/geth.ipc)를 생성, 프로세스B는 이 파이프를 통해 통신\n",
    "rpc | 원격에서 RPC endpoint (localhost:8545) 통신\n",
    "\n",
    "\n",
    "```python\n",
    "\\$ geth ipc --ipcapi \"admin,db,eth,debug,miner,net,shh,txpool,personal,web3\" --ipcpath \"$HOME/.ethereum_experiment/geth.ipc\"\n",
    "\\$ geth attach ipc:$HOME/.ethereum/geth.ipc\n",
    "```"
   ]
  },
  {
   "cell_type": "markdown",
   "metadata": {
    "slideshow": {
     "slide_type": "subslide"
    }
   },
   "source": [
    "\n",
    "![alt text](figures/1_gethClientRun.png \"geth client run\")"
   ]
  },
  {
   "cell_type": "markdown",
   "metadata": {
    "slideshow": {
     "slide_type": "subslide"
    }
   },
   "source": [
    "앞과 같은 요령으로 실행파일을 만들어 두는 편이 편리하다.\n",
    "앞서 testnet을 구동할 때 사용했던 옵션과 유사하게 설정하고 있다.\n",
    "```--unlock 0 ```는 자신이 가지고 있는 첫번째 계정을 잠금해제하는 설정인데, 이런 계정해제 스위치가 제거되었다. 대신에 ```--allow-insecure-unlock```를 사용하자.\n",
    "networkid는 genesis.json에서 설정한 것과 동일하게 한다.\n",
    "rpcport와 port는 임의로 번호를 설정할 수 있지만, 적은 숫자는 시스템에서 사용하고 있으므로 아래에서 쓰인 정도로 적당히 큰 번호를 사용하도록 하자. "
   ]
  },
  {
   "cell_type": "code",
   "execution_count": 1,
   "metadata": {
    "scrolled": true
   },
   "outputs": [
    {
     "name": "stdout",
     "output_type": "stream",
     "text": [
      "Overwriting _gethNow.sh\n"
     ]
    }
   ],
   "source": [
    "%%writefile _gethNow.sh\n",
    "_dir=$HOME/eth/\n",
    "_log=$HOME/eth/my.log\n",
    "geth --identity \"jslNode\" \\\n",
    "--allow-insecure-unlock \\\n",
    "--rpc --rpcaddr \"117.16.44.45\" --rpcport \"8445\" --rpccorsdomain \"*\" \\\n",
    "--datadir $_dir \\\n",
    "--port \"38445\" \\\n",
    "--rpcapi \"admin,db,eth,debug,miner,net,shh,txpool,personal,web3\" \\\n",
    "--networkid 33 \n"
   ]
  },
  {
   "cell_type": "markdown",
   "metadata": {
    "slideshow": {
     "slide_type": "subslide"
    }
   },
   "source": [
    "#### geth 사설망 접속\n",
    "\n",
    "앞서 geth를 console 없이 띄워놓았다.\n",
    "console까지 붙여서 열어놓게 되면, geth에서 발생하는 로그때문에 콘솔 작업이 쉽지 않을 것이다. 이럴 경우 ```attach``` 명령어를 사용한다.\n",
    "\n",
    "ipc, rpc, ws에 다음과 같이 콘솔을 붙여 사용할 수 있다.\n",
    "```python\n",
    "\\$ geth attach ipc:/some/custom/path\n",
    "\\$ geth attach http://191.168.1.1:8545\n",
    "\\$ geth attach ws://191.168.1.1:8546\n",
    "```\n",
    "\n",
    "geth console에서는:\n",
    "```python\n",
    "> admin.startRPC(\"117.16.xxx.xxx\",8545,\"*\",\"web3,db,net,eth\")\n",
    "```\n",
    "\n",
    "![alt text](figures/1_gethIPC.png \"geth IPC\")"
   ]
  },
  {
   "cell_type": "code",
   "execution_count": 1,
   "metadata": {
    "slideshow": {
     "slide_type": "subslide"
    }
   },
   "outputs": [
    {
     "name": "stdout",
     "output_type": "stream",
     "text": [
      "{\r\n",
      "  eth: {\r\n",
      "    config: {\r\n",
      "      chainId: \u001b[31m33\u001b[0m,\r\n",
      "      eip150Hash: \u001b[32m\"0x0000000000000000000000000000000000000000000000000000000000000000\"\u001b[0m,\r\n",
      "      eip155Block: \u001b[31m0\u001b[0m,\r\n",
      "      eip158Block: \u001b[31m0\u001b[0m,\r\n",
      "      homesteadBlock: \u001b[31m0\u001b[0m\r\n",
      "    },\r\n",
      "    difficulty: \u001b[31m93425390\u001b[0m,\r\n",
      "    genesis: \u001b[32m\"0x5704d029fe80f4fb605c0cb5e31d591511f10a46a0cb8166f97d8d559f9bc5b0\"\u001b[0m,\r\n",
      "    head: \u001b[32m\"0x1bf49142fd5666dc16ed51961eb3b82351a6b403f511a6d3a2d9db0d84678d2f\"\u001b[0m,\r\n",
      "    network: \u001b[31m33\u001b[0m\r\n",
      "  }\r\n",
      "}\r\n"
     ]
    }
   ],
   "source": [
    "!geth --exec \"admin.nodeInfo.protocols\" attach http://117.16.44.45:8445"
   ]
  },
  {
   "cell_type": "markdown",
   "metadata": {
    "slideshow": {
     "slide_type": "subslide"
    }
   },
   "source": [
    "개설된 데이터 디렉토리의 구성을 살펴보자.\n",
    "\n",
    "* chaindata/ (directory of chain and state data)\n",
    "* dapp/ (directory for placeholder of dapp data)\n",
    "* geth.ipc (file for inter-process-communication as used by Mist)\n",
    "* history (file for console command history from geth attach or geth console)\n",
    "* keystore/ (directory for encrypted private keys)\n",
    "* nodekey (file of public key used by peers to connect with)\n",
    "* nodes/ (directory peer connection data, used to establish network on start)\n"
   ]
  },
  {
   "cell_type": "code",
   "execution_count": 6,
   "metadata": {
    "slideshow": {
     "slide_type": "subslide"
    }
   },
   "outputs": [
    {
     "name": "stdout",
     "output_type": "stream",
     "text": [
      "total 28\r\n",
      "drwxr-xr-x 2 jsl jsl 4096  3월 11 22:30 chaindata\r\n",
      "drwxr-xr-x 2 jsl jsl 4096  1월  3 16:57 lightchaindata\r\n",
      "-rw-r--r-- 1 jsl jsl    0  1월  3 16:59 LOCK\r\n",
      "-rw------- 1 jsl jsl   64  1월  3 16:59 nodekey\r\n",
      "drwxr-xr-x 2 jsl jsl 4096  3월 11 22:30 nodes\r\n",
      "-rwxr-xr-x 1 jsl jsl 8538  3월 11 22:30 transactions.rlp\r\n"
     ]
    }
   ],
   "source": [
    "!ls -l /home/jsl/eth/geth"
   ]
  },
  {
   "cell_type": "code",
   "execution_count": 7,
   "metadata": {
    "slideshow": {
     "slide_type": "subslide"
    }
   },
   "outputs": [
    {
     "name": "stdout",
     "output_type": "stream",
     "text": [
      "total 8\r\n",
      "-rw------- 1 jsl jsl 491  1월  4 06:57 UTC--2019-01-03T21-57-03.966937024Z--21c704354d07f804bab01894e8b4eb4e0eba7451\r\n",
      "-rw------- 1 jsl jsl 491  1월  4 10:40 UTC--2019-01-04T01-40-01.674920065Z--778ea91cb0d0879c22ca20c5aea6fbf8cbeed480\r\n"
     ]
    }
   ],
   "source": [
    "!ls -l /home/jsl/eth/keystore/"
   ]
  },
  {
   "cell_type": "markdown",
   "metadata": {
    "collapsed": true,
    "slideshow": {
     "slide_type": "subslide"
    }
   },
   "source": [
    "### 단계 5: 충전\n",
    "\n",
    "계정은 방금 만들었으니, 당연히 잔고가 없을 것이다. 잔고가 없으면 거래를 발생할 수 없게 된다. 무엇보다 먼저 계정에 충전을 해야하며, 마이닝을 해서 충전하도록 한다.\n",
    "사설망에는 굳이 충전하기 위해 faucet 서비스를 이용할 필요가 없다.\n",
    "```python\n",
    "miner.start()\n",
    "```\n",
    "\n",
    "적당한 시간이 지나면 마이닝을 종료 ```miner.stop()```할 수 있다. 5분 정도만 충전을 해도 실제화폐 가치로는 상당한 금액이 계좌에 입금되어 있을 것이다.\n",
    "\n",
    "![alt text](figures/2_gethNewAccountMiningToPutEther.png \"geth new account and mine to get Ether\")"
   ]
  },
  {
   "cell_type": "markdown",
   "metadata": {
    "slideshow": {
     "slide_type": "subslide"
    }
   },
   "source": [
    "### 단계 6: geth 종료하기 \n",
    "\n",
    "geth를 올바르게 종료하지 않으면, 지난 세션의 동기화를 잃어버리게 된다.\n",
    "즉 윈도우를 강제로 닫거나, 원격에서 열어놓은 단말이 네트워크 연결이 끊어져 올바르게 geth 세션이 종료하지 않는 경우 그런 동기화를 모두 잃어버리게 되는 상황이 발생한다.\n",
    "올바르게 geth를 종료하려면\n",
    "* 단말이 열려 있는 경우 Ctrl+C 또는 ```> exit```\n",
    "* 또는 Ctrl+C\n",
    "\n",
    "```python\n",
    "WARN [01-07|10:03:01.420] Head state missing, repairing chain      number=707 hash=fad39d…871506\n",
    "INFO [01-07|10:03:01.435] Rewound blockchain to past state         number=0   hash=5704d0…9bc5b0\n",
    "```\n",
    "\n",
    "![alt text](figures/geth_headStateMissing.png \"geth head state missing\")"
   ]
  },
  {
   "cell_type": "markdown",
   "metadata": {
    "slideshow": {
     "slide_type": "slide"
    }
   },
   "source": [
    "## 문제 3-2: 사설망을 구성하고 접속하기 (IP를 넣어서)\n",
    "<a id='3-2'></a>\n",
    "\n",
    "문제 3-1에서 생성한 초기화된 사설망을 사용한다.\n",
    "IP 주소를 사용하여 구성하고, 접속한다."
   ]
  },
  {
   "cell_type": "markdown",
   "metadata": {
    "slideshow": {
     "slide_type": "subslide"
    }
   },
   "source": [
    "### 단계1: Geth 서버를 실행\n",
    "\n",
    "* smu(117.16.44.xxx)에서 geth 서버실행 (또는 ssh login하고 할 수 있다.)\n",
    "\n",
    "```python\n",
    "$ ssh smu\n",
    "$ sh _gethNow.sh\n",
    "```"
   ]
  },
  {
   "cell_type": "markdown",
   "metadata": {
    "slideshow": {
     "slide_type": "subslide"
    }
   },
   "source": [
    "### 단계2: 서버를 사용\n",
    "\n",
    "* 원격에서 ssh 로그인\n",
    "\n",
    "```python\n",
    "$ ssh smu\n",
    "jsl@117.16.44.xxx's password: \n",
    "Welcome to Ubuntu 16.04.1 LTS (GNU/Linux 4.4.0-53-generic x86_64)\n",
    "```\n",
    "\n",
    "* geth attach 실행한다.\n",
    "\n",
    "```python\n",
    "jsl@jsl-smu$ geth attach http://117.16.44.xxx:8445\n",
    "Welcome to the Geth JavaScript console!\n",
    "\n",
    "instance: Geth/jslNode/v1.5.7-stable-da2a22c3/linux/go1.7.3     식별자, 버전 정보 표시\n",
    "coinbase: 0x2e49e21e708b7d83746ec676a4afda47f1a0d693            unlock 0 계정 암호풀고 시작하기\n",
    "at block: 272207 (Wed, 25 Jan 2017 05:35:02 KST)                현재 블럭번호\n",
    " datadir: /home/jsl/Downloads/eth/1                             사용 디렉토리, 아래는 사용 모듈들\n",
    " modules: admin:1.0 debug:1.0 eth:1.0 miner:1.0 net:1.0 personal:1.0 rpc:1.0 txpool:1.0 web3:1.0\n",
    "> \n",
    "> eth.blockNumber\n",
    "```\n",
    "    "
   ]
  },
  {
   "cell_type": "markdown",
   "metadata": {
    "slideshow": {
     "slide_type": "subslide"
    }
   },
   "source": [
    "* ipython notebook에서 사용하는 경우 ssh tunneling을 해 놓는다.\n",
    "```python\n",
    "ssh -N -f -L localhost:8891:localhost:8888 jsl@smu\n",
    "```\n",
    "    "
   ]
  },
  {
   "cell_type": "markdown",
   "metadata": {
    "slideshow": {
     "slide_type": "subslide"
    }
   },
   "source": [
    "* nodejs로 사용할 수 있다. web3를 먼저 설치해야 한다. (event는 firing이 안됨 -> geth를 사용해야)\n",
    "\n",
    "```python\n",
    "$ cd $HOME/Code/git/bb/jsl/bitcoin\n",
    "$ npm list (web3설치 확인, 설치하려면 npm install web3)\n",
    "```\n",
    "\n",
    "```python\n",
    "jsl@jsl-smu:~/Code/git/bb/jsl/bitcoin$ node (web3 설치된 디렉토리에서)\n",
    "> var Web3 = require('web3');\n",
    "> var web3 = new Web3(new Web3.providers.HttpProvider(\"http://117.16.44.xxx:8445\"));\n",
    "> web3.eth.accounts\n",
    "```\n",
    "\n",
    "* 브라우저 (Web3, HttpProvider가 아래 html에 설정되어 있어야 한다)\n",
    "```python\n",
    "file:///Users/media/Code/git/else/web3.js/example/contract.html\n",
    "```"
   ]
  },
  {
   "cell_type": "markdown",
   "metadata": {
    "slideshow": {
     "slide_type": "subslide"
    }
   },
   "source": [
    "* Geth 서버\n",
    "    * 드라이버 설정은 변경할 수 있다.\n",
    "    * ipcapi, rpcapi를 모두 사용하는 것으로 설정하였다.\n",
    "    \n",
    "personal API는 계정정보를 보거나, 잔고에서 비용을 쓰거나 할 수 있다.\n",
    "RPC로 사용하면 인터넷에 노출되어 위험에 노출될 수 있다.\n",
    "ipc로 사용하거나 MetaMask"
   ]
  },
  {
   "cell_type": "code",
   "execution_count": 1,
   "metadata": {
    "slideshow": {
     "slide_type": "subslide"
    }
   },
   "outputs": [
    {
     "name": "stdout",
     "output_type": "stream",
     "text": [
      "Overwriting _geth2.sh\n"
     ]
    }
   ],
   "source": [
    "%%writefile _geth2.sh\n",
    "_dir=$HOME/Downloads/eth/1\n",
    "_log=$HOME/Downloads/eth/1.log\n",
    "geth --identity \"jslNode\" \\\n",
    "--unlock 0 \\\n",
    "--rpc --rpcaddr \"117.16.44.45\" --rpcport \"8445\" --rpccorsdomain \"*\" \\\n",
    "--datadir $_dir \\\n",
    "--port \"30301\" \\\n",
    "--nodiscover \\\n",
    "--ipcapi \"admin,db,eth,debug,miner,net,shh,txpool,personal,web3\" \\\n",
    "--rpcapi \"db,eth,net,web3\" \\\n",
    "--networkid 11 \\\n",
    "console 2>>$_log"
   ]
  },
  {
   "cell_type": "markdown",
   "metadata": {
    "slideshow": {
     "slide_type": "subslide"
    }
   },
   "source": [
    "* shell에서 실행 (노트북에서는 console이 실행되지 않는다)\n",
    "```python\n",
    "$ sh _geth2.sh\n",
    "```"
   ]
  },
  {
   "cell_type": "markdown",
   "metadata": {
    "slideshow": {
     "slide_type": "slide"
    }
   },
   "source": [
    "## 문제 3-3: 사설망 멀티노드 구성하기\n",
    "<a id='3-3'></a>\n",
    "\n",
    "### 특정 컴퓨터를 Peer로 추가하여 멀티노드를 구성해 보자\n",
    "\n",
    "자신이 개설한 사설망은 Peer가 없다고 생각할 수 있다.\n",
    "그러나 **동일한 NetworkID를 가진 노드**인 경우, Peer로 참여될 수 있다.\n",
    "그러니까 사설망도 나 자신만이 연결되어 작동되지 않는다는 점에서 엄밀히 사설망은 아닐 수 있다.\n",
    "어떤 컴퓨터를 지정하여 노드로 참여시키고 클러스터로 구성해 보자.\n",
    "멀티노드는 서로 동기화 한다 (블록체인이 동기화되기 때문에 blockNumber가 동일하다)."
   ]
  },
  {
   "cell_type": "markdown",
   "metadata": {
    "slideshow": {
     "slide_type": "subslide"
    }
   },
   "source": [
    "### 단계 1: 멀티 노드 설정 및 실행\n",
    "\n",
    "Peer로 추가하려면 **genesis block**를 동일하게 설정해 놓아야 한다. **networkID** 역시 동일하게 설정한다. ```admin.nodeInfo.protocols.eth```의 값을 서로 비교해 보자. 또한 ```web3.eth.getBlock(0)```의 hash가 서로 동일한지 비교해 보자.\n",
    "\n",
    "Peer는 **정적 IP**를 가지고 있고, 외부에서 자신의 컴퓨터를 찾을 수 있어야 한다. https://canyouseeme.org/ 에 포트번호를, 예를 들어 30301를 넣어 확인한다. \n",
    "\n",
    "**genesis block이 동일하여도 Peer로 추가할 수 없다면**, 네트워크 문제가 있어 연결이 안되는 것이다. **firewall**이 막는 경우 특히방화벽이 있는 경우 Peer를 찾을 수 없다. ```--port```가 개방되어 있어야 한다. 우리의 경우 30301로 설정되어 있다.\n",
    "\n",
    "```python\n",
    "sudo ufw allow 30301\n",
    "```\n",
    "\n",
    "또는 **운영체제 시간**이 맞지 않는 경우, sudo ntpdate -s time.nist.gov"
   ]
  },
  {
   "cell_type": "markdown",
   "metadata": {
    "slideshow": {
     "slide_type": "subslide"
    }
   },
   "source": [
    "> **Peer** 찾기\n",
    "\n",
    "> P2P 시스템에서는 Peer를 찾기 위한 알고리즘이 필요하다.\n",
    "**Port/IP scanning**은 가능한 모든 IP, Port에 broadcasting하고 응답하는지 찾아보는 방식으로, 낭비가 매우 많다. 보통 후보 Peer가 적힌 목록을 가지고 연결할 수 있다. 또는 처음 시작할 때 연결할 bootstrap nodes를 설정할 수 있다. (컴퓨터에서의 부팅) 연결되는 노드라 **bootnode**라고도 한다. 네트워크를 시작하는 시점에 'geth --bootnodes'에 나열해서 특정 peer를 static node로 연결할 수 있다.\n",
    "> ethereum에서는 Kademlia 알고리듬으로 Peer를 찾는다. https://github.com/ethereum/wiki/wiki/Kademlia-Peer-Selection \n"
   ]
  },
  {
   "cell_type": "markdown",
   "metadata": {
    "slideshow": {
     "slide_type": "subslide"
    }
   },
   "source": [
    "### 단계 2: enode값을 구한다.\n",
    "\n",
    "enode는 이더리움 네트워크 상에서 컴퓨터를 찾기 위해 필요한 URL과 유사한 역할을 한다.\n",
    "enode에는 네트워크 연결에 필요한 IP 주소, 포트번호를 포함하고 있다.\n",
    "\n",
    "```python\n",
    "> admin.nodeInfo.enode\n",
    "\"enode://e0a396df0b5f68d20...5e8f0c@[::]:30446\"\n",
    "```"
   ]
  },
  {
   "cell_type": "markdown",
   "metadata": {
    "collapsed": true,
    "slideshow": {
     "slide_type": "subslide"
    }
   },
   "source": [
    "### 단계 3: 노드 추가\n",
    "\n",
    "* 노드를 서로 추가한다. ([::]를 ip주소로 바꾸고)\n",
    "* 매번 추가하려면 addPeer() 함수를 이용\n",
    "```python\n",
    "admin.addPeer(\"enode://719b29cc599ee5964...011155676a3cb@117.16.44.46:30446?discport=0\")\n",
    "```\n",
    "    \n",
    "* 설정으로 추가하려면 static-nodes.json을 작성\n",
    "```python\n",
    "<datadir>/static-nodes.json\n",
    "```"
   ]
  },
  {
   "cell_type": "markdown",
   "metadata": {
    "collapsed": true,
    "slideshow": {
     "slide_type": "subslide"
    }
   },
   "source": [
    "* 첫번째 노드를 실행한다."
   ]
  },
  {
   "cell_type": "code",
   "execution_count": null,
   "metadata": {},
   "outputs": [],
   "source": [
    "# %load _geth.sh\n",
    "_dir=$HOME/Downloads/eth/1\n",
    "_log=$HOME/Downloads/eth/1.log\n",
    "geth --identity \"jslNode\" \\\n",
    "--unlock 0 \\\n",
    "--verbosity 3 \\\n",
    "--rpc --rpcaddr \"117.16.44.45\" --rpcport \"8445\" --rpccorsdomain \"*\" \\\n",
    "--datadir $_dir \\\n",
    "--port \"30445\" \\\n",
    "--bootnodes \"enode://e0a396df0b5f68d209c7fa357f55aeb777ee2b9b318ba2966d891733e1e2fdc30632991326dca1592bcbebebd081d761fd1ed4a4429342175c7aab9e415e8f0c@117.16.44.46:30446\" \\\n",
    "--maxpeers 3 \\\n",
    "--rpcapi \"admin,db,eth,debug,miner,net,shh,txpool,personal,web3\" \\\n",
    "--ipcdisable \\\n",
    "--networkid 44 \\\n",
    "console 2>>$_log\n"
   ]
  },
  {
   "cell_type": "markdown",
   "metadata": {
    "collapsed": true,
    "slideshow": {
     "slide_type": "subslide"
    }
   },
   "source": [
    "* static-nodes.json을 3개 노드의 enode값을 구해서 작성한다.\n",
    "```--datadir```에 명시한 디렉토리 keystore와 같은 수준에 파일을 저장한다. \n",
    "\n",
    "```python\n",
    "C:\\Users\\G305\\eth\n",
    "         |\n",
    "         ---> keystore\\\n",
    "         |\n",
    "         | static-nodes.json\n",
    "```\n",
    "\n",
    "```python\n",
    "117.16.xxx.xxx smu\n",
    "117.16.xxx.xxx hq\n",
    "117.16.xxx.xxx pi\n",
    "```"
   ]
  },
  {
   "cell_type": "code",
   "execution_count": 2,
   "metadata": {
    "slideshow": {
     "slide_type": "subslide"
    }
   },
   "outputs": [
    {
     "name": "stdout",
     "output_type": "stream",
     "text": [
      "Overwriting /home/jsl/Downloads/eth/1/static-nodes.json\n"
     ]
    }
   ],
   "source": [
    "%%writefile /home/jsl/Downloads/eth/1/static-nodes.json\n",
    "[\n",
    "    \"enode://e0a396df0b5f68d209c7fa357f55aeb777ee2b9b318ba2966d891733e1e2fdc30632991326dca1592bcbebebd081d761fd1ed4a4429342175c7aab9e415e8f0c@117.16.44.46:30446\",\n",
    "    \"enode://00c177125f949f51290b5e480dfcf1c24f280b0a403277c5156b4572cee7bae7d550a4e3de28d09aa28bda4778b379e558326564300e7a9d3809a1c15ef97566@117.16.44.45:30445\",\n",
    "    \"enode://b099f3ec722508d5ce94eee5b2e299f4d003908a1f1d9a3e48ca23b29977adc64a6413177c97b77ed250671038e9ab0042c24e35f578166e782431ffdb1e4513@117.16.44.48:30448\"\n",
    "]\n"
   ]
  },
  {
   "cell_type": "markdown",
   "metadata": {
    "collapsed": true,
    "slideshow": {
     "slide_type": "subslide"
    }
   },
   "source": [
    "* 두번째 노드를 실행한다. (_geth_hq.sh)"
   ]
  },
  {
   "cell_type": "code",
   "execution_count": null,
   "metadata": {
    "collapsed": true
   },
   "outputs": [],
   "source": [
    "# %load _geth_hq.sh\n",
    "_dir=$HOME/Downloads/eth/1\n",
    "_log=$HOME/Downloads/eth/1.log\n",
    "geth --identity \"jslNode\" \\\n",
    "--unlock 0 \\\n",
    "--verbosity 3 \\\n",
    "--rpc --rpcaddr \"117.16.44.46\" --rpcport \"8446\" --rpccorsdomain \"*\" \\\n",
    "--datadir $_dir \\\n",
    "--port \"30446\" \\\n",
    "--bootnodes \"enode://00c177125f949f51290b5e480dfcf1c24f280b0a403277c5156b4572cee7bae7d550a4e3de28d09aa28bda4778b379e558326564300e7a9d3809a1c15ef97566@117.16.44.45:30445\" \\\n",
    "--maxpeers 3 \\\n",
    "--rpcapi \"admin,db,eth,debug,miner,net,shh,txpool,personal,web3\" \\\n",
    "--ipcdisable \\\n",
    "--networkid 44 \\\n",
    "console 2>>$_log\n"
   ]
  },
  {
   "cell_type": "markdown",
   "metadata": {
    "slideshow": {
     "slide_type": "subslide"
    }
   },
   "source": [
    "* 멀티노드를 성공적으로 구성하면, peer접속 정보를 볼 수 있다."
   ]
  },
  {
   "cell_type": "code",
   "execution_count": 4,
   "metadata": {
    "scrolled": true
   },
   "outputs": [
    {
     "name": "stdout",
     "output_type": "stream",
     "text": [
      "[{\r\n",
      "    caps: [\u001b[32m\"eth/62\"\u001b[0m, \u001b[32m\"eth/63\"\u001b[0m],\r\n",
      "    id: \u001b[32m\"e0a396df0b5f68d209c7fa357f55aeb777ee2b9b318ba2966d891733e1e2fdc30632991326dca1592bcbebebd081d761fd1ed4a4429342175c7aab9e415e8f0c\"\u001b[0m,\r\n",
      "    name: \u001b[32m\"Geth/jslNode/v1.5.0-unstable/linux/go1.6.2\"\u001b[0m,\r\n",
      "    network: {\r\n",
      "      localAddress: \u001b[32m\"117.16.44.45:45034\"\u001b[0m,\r\n",
      "      remoteAddress: \u001b[32m\"117.16.44.46:30446\"\u001b[0m\r\n",
      "    },\r\n",
      "    protocols: {\r\n",
      "      eth: {\r\n",
      "        difficulty: \u001b[31m218833674473\u001b[0m,\r\n",
      "        head: \u001b[32m\"0x08f0271d893ee08ea387773c10e672a26ad9b8a2dd19dcbd503b859b4f0bab0e\"\u001b[0m,\r\n",
      "        version: \u001b[31m63\u001b[0m\r\n",
      "      }\r\n",
      "    }\r\n",
      "}]\r\n"
     ]
    }
   ],
   "source": [
    "!geth --exec \"admin.peers;\" attach http://117.16.44.45:8445"
   ]
  },
  {
   "cell_type": "code",
   "execution_count": 6,
   "metadata": {
    "scrolled": false,
    "slideshow": {
     "slide_type": "subslide"
    }
   },
   "outputs": [
    {
     "name": "stdout",
     "output_type": "stream",
     "text": [
      "[]\r\n"
     ]
    }
   ],
   "source": [
    "!geth --exec \"admin.peers;\" attach http://117.16.44.45:8445"
   ]
  }
 ],
 "metadata": {
  "kernelspec": {
   "display_name": "Python 2",
   "language": "python",
   "name": "python2"
  },
  "language_info": {
   "codemirror_mode": {
    "name": "ipython",
    "version": 2
   },
   "file_extension": ".py",
   "mimetype": "text/x-python",
   "name": "python",
   "nbconvert_exporter": "python",
   "pygments_lexer": "ipython2",
   "version": "2.7.17"
  }
 },
 "nbformat": 4,
 "nbformat_minor": 1
}
