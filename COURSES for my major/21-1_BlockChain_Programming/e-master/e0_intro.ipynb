{
 "cells": [
  {
   "cell_type": "markdown",
   "metadata": {
    "slideshow": {
     "slide_type": "slide"
    }
   },
   "source": [
    "# 소개\n",
    "\n",
    "Last Updated 20210301SAT1000 20200314SAT1000 20190306WEB0630 20180717TUE1700 201801231MON1800 20160207\n",
    "\n",
    "## 개설학기: 2021년 1학기\n",
    "\n",
    "## 과목명: 블록체인 프로그래밍\n",
    "\n",
    "은행, 카드 그리고 요즘에는 모바일페이 등을 이용해 지급결제가 이루어진다.\n",
    "반면에 암호화폐는 이러한 중앙의 신뢰할만한 기관을 거치지 않고 거래가 처리된다.\n",
    "이러한 거래는 블록체인으로 저장된다.\n",
    "비트코인에서의 거래도 역시 다르지 않으며, 사실 블록체인은 비트코인에서 유래되었다.\n",
    "이 과목에서는 이더리움으로 스마트계약을 만들고,\n",
    "분산환경에서 블록체인으로 거래하고, 지급결제를 처리하는 것을 프로그래밍하게 된다.\n"
   ]
  },
  {
   "cell_type": "markdown",
   "metadata": {
    "slideshow": {
     "slide_type": "subslide"
    }
   },
   "source": [
    "## 강사 소개\n",
    "\n",
    "### 소속\n",
    "휴먼지능정보공학과\n",
    "\n",
    "### 실무 프로젝트\n",
    "효성, 삼성생명, 삼성캐피탈, 금융감독원, 대법원 호적정보시스템, 대우자동차판매, LIG화재, 금융감독원 등 IT 컨설팅, 금융프로젝트 개발 참여\n",
    "\n",
    "### 강의과목\n",
    "소프트웨어공학, 소프트웨어설계 등 개발 관련 교과목을 강의, 근래에는 자바, 파이썬, 빅데이터, 블록체인 강의"
   ]
  },
  {
   "cell_type": "markdown",
   "metadata": {
    "slideshow": {
     "slide_type": "subslide"
    }
   },
   "source": [
    "## 무엇을 배우는가?\n",
    "\n",
    "비트코인에서의 블록체인은 데이터저장소로 활용되었다. 최근 블록체인은 프로그램을 할 수 있는 플랫폼으로 발전하고 있다.\n",
    "\n",
    "블록체인은 **분산원장**이다. 용어에서 쓰인 **분산**이란 어떤 집중된 서버에서 서비스를 제공하지 않고, **처리능력이 흩어져 불특정 컴퓨터에 존재**한다는 의미이다. **원장**이란 발생하는 처리내용을 기록한다는 것이다. 즉 블록체인은 **어떤 거래가 발생하면, 분산네트워크에 존재하는 불특정 컴퓨터가 이를 처리하고 기록**한다는 것이다. 이런 분산원장이 뭐 특별하지 하고 고개를 갸우뚱할 수 있다. 특별한 점을 부각 한다면 기존 방식과 현격하게 다르다는 것이다.\n",
    "\n",
    "우선은 **화폐**를 내장하고 있다는 점이 특별나다. 이런 화폐에 대해 사람들은 투자의 대상으로 여기고 큰 관심을 보이고 있다. 2018년에는 가격이 급등락하면서, 과연 내재가치가 있는지에 대한 논의가 뜨겁기도 했다. 지금까지 그 어떤 거래는 은행, 카드 등 금융기관에서 제공하는 플랫폼을 이용하지 않고는 가능하지 못했다. 블록체인을 사용하면 이러한 **금융기관을 경유하지 않고 양자간 거래가 성립**할 수 있다는 것이다. \n",
    "\n",
    "또한 **분산형**이라는 점이 기존 방식과의 큰 차별성이다. **중앙처리장치가 없어서 누구나** 그 기록을 처리하고, 저장한다는 점이다. 그 뿐 아니라 그 처리과정이 투명하고 매우 민주적이어서 **합의**를 통해 거래가 인정된다는 점이다. 중앙처리에서와 같이 특정 서버로 하여금 거래를 처리하지 않고, 어느 컴퓨터가 처리할지 정해지기 전까지는 모르는 **불특정 처리**가 이루어지게 된다. 이렇게 거래가 성사되어 한 번 저장이 되면 그 내용을 **위변조할 수가 없다**는 점도 해킹에 불안한 사람들에게는 매우 매력적으로 들리게 된다.\n",
    "\n",
    "이 강의에서는 블록체인이 무엇인지, 어떻게 기록이 암호화, 인증, 합의, 저장되는지 배우게 된다. 필요한 이론을 배우기도 하겠지만, 프로그래밍으로 실제 해보게 된다. 블록체인 관련 가장 많이 쓰이고 있는 **Ethereum**을 활용하여, 스마트계약을 만들고, 분산앱 DApp을 개발하게 된다."
   ]
  },
  {
   "cell_type": "markdown",
   "metadata": {
    "slideshow": {
     "slide_type": "subslide"
    }
   },
   "source": [
    "## 주별 내용\n",
    "\n",
    "주차 | 목표 | 내용\n",
    "-----|-----|-----\n",
    "주 1 | 소개 | 강의 소개\n",
    "주 2 | 블록체인 소개 | 분산, 합의, 암호화페, 블록체인, 블록체인기반 화폐\n",
    "주 3 | 설치 geth | 스마트컨트랙, 설치, 이더리움 노드 설정, geth 네트워크\n",
    "주 4 | 거래 계정 wallet 마이닝 | 계정, 지갑, 암호화, 트랜잭션, 마이닝, gas\n",
    "주 5 | Hello Project 1 | Hello 프로젝트, Solidity, Remix, solc, web3.js 개발\n",
    "주 6 | Hello project 2 | 단순 저장, 계산 프로젝트, Solidity, Remix, solc, web3.js 개발\n",
    "주 7 | Solidity | 변수, 데이터 타잎\n",
    "주 8 | 중간시험 | 간단한 프로젝트 개발, 배포, 사용할 수 있는지\n",
    "주 9 | Solidity | 함수 fallback, modifier\n",
    "주 10 | Solidity | 컨트랙 결합, import, library\n",
    "주 11 | Solidity | 객체지향 컨트랙\n",
    "주 12 | Python | web3.py 사용\n",
    "주 13 | DApp | Web으로 구현\n",
    "주 14 | 발표 | 학생들의 프로젝트 발표\n",
    "주 15 | 기말시험 | dApp 개발\n",
    "추가 | 추가 주제 | JSON-RPC, compiler-runner, ipfs\n"
   ]
  },
  {
   "cell_type": "markdown",
   "metadata": {},
   "source": [
    "## 강의자료\n",
    "\n",
    "### 강의자료\n",
    "* https://github.com/smu405/e\n",
    "\n",
    "### 참고문헌\n",
    "* Bashir, I. (2018). Mastering Blockchain: Distributed ledger technology, decentralization, and smart contracts explained. Packt Publishing Ltd.\n",
    "* Modi, R. (2018). Solidity Programming Essentials: A beginner's guide to build smart contracts for Ethereum and blockchain. Packt Publishing Ltd."
   ]
  },
  {
   "cell_type": "markdown",
   "metadata": {
    "slideshow": {
     "slide_type": "subslide"
    }
   },
   "source": [
    "## 강의에 필요한 것\n",
    "\n",
    "강의는 프로그래밍을 실제 하기 때문에 **컴퓨터**가 당연히 필요하다. 윈도우, 맥 OSX, 리눅스 어느 운영체제도 무관하지만 리눅스 운영체제를 사용하는 것이 좋다.\n",
    "또한 강의를 들으려면 프로그래밍 지식이 필요하다. 블록체인은 클라이언트-서버에서의 프로그래밍과는 물론 다르다. 앞서 설명한 바와같이 서버가 정해져 있지 않기 때문이다. 그러나 그 아키텍쳐에서 클라이언트와 서버가 분리되어 있는 것처럼 클라이언트는 **Javascript**, Python 등을 서버에서는 **Solidity** 언어를 사용하게 된다. 이렇게 만들어진 블록체인 프로그램을 dApp (Distributed Application)이라고 한다. dApp은 서버프로그램을 Solidity로 개발하고, 클라이언트를 Javascript 등 복수의 언어를 사용하는 것과 유사하게 여러 언어를 혼합해야 완성이 될 수 있다."
   ]
  },
  {
   "cell_type": "markdown",
   "metadata": {
    "slideshow": {
     "slide_type": "subslide"
    }
   },
   "source": [
    "## 누가 필요한가\n",
    "\n",
    "강의는 **암호화폐 투자와 관련한 과목이 아니다**. 또한 블록체인의 경제적, 행정적 이론을 배우는 과목이 아니다. 블록체인이라는 새로운 매체에서 발생하는 금융거래를 프로그래밍으로 처리하는 과목이다. 기존의 온라인 결제, NFC 현장결제 등과 같은 방식과 같이 블록체인에서의 거래를 프로그램으로 만들어 보게 된다.\n",
    "이 과목은:\n",
    "- 암호화폐와 같은 플랫폼에서의 거래가 어떻게 이루어지는지 배우고 싶거나\n",
    "- 실제 무엇인가 분산앱 DApp을 개발하려고 하거나\n",
    "- 특히, **물류 유통**에서와 같이 다자가 정보를 투명하게 공유해야 하거나, **개인ID**와 같이 강력한 보안이 필요하거나, **졸업증명서**와 같이 기록이 필요한 경우 등 등 창의적으로 프로젝트를 수행하고 싶은 경우\n"
   ]
  },
  {
   "cell_type": "markdown",
   "metadata": {
    "slideshow": {
     "slide_type": "subslide"
    }
   },
   "source": [
    "## 사전 평가\n",
    "\n",
    "프로그래밍에 대한 지식 없이는 블록체인 프로그래밍을 배우기는 어렵다.\n",
    "자신의 능력을 가늠하기 위해, **1에서 100까지 합계를 계산하는 프로그램**을 작성해보자.\n",
    "Java, Python, C 어떤 언어를 사용해도 좋다. "
   ]
  },
  {
   "cell_type": "markdown",
   "metadata": {
    "slideshow": {
     "slide_type": "subslide"
    }
   },
   "source": [
    "## 성적평가\n",
    "\n",
    "* 중간시험: 30%\n",
    "* 기말시험: 40%\n",
    "* 프로젝트, 실습, 출석 30%\n",
    "    * 프로젝트, 실습문제: 기한을 넘기는 경우 50% 감점, 20% 이상 미제출하는 경우 학점 등급 내림\n",
    "    * 출석: 학교규정에 따른 출석일수 적용"
   ]
  },
  {
   "cell_type": "markdown",
   "metadata": {
    "slideshow": {
     "slide_type": "subslide"
    }
   },
   "source": [
    "## 표기\n",
    "\n",
    "http://docopt.org/\n",
    "\n",
    "* 굵은 글씨는 중요한 단어, \n",
    "* 코드에 대해서는 다른 글씨체 ```int x```\n",
    "* ```( )```: 반드시 적어주어야 하는 경우\n",
    "* ```[ ]```: 선택적으로 적어주는 경우, 적어줄 때 ```[]``` 괄호는 제거한다.\n",
    "* ```{ }```:  선택적으로 적어주지만 하나는 반드시 적어주어야 하는 경우, 적어줄 때 ```{}``` 괄호는 제거한다.\n",
    "* 수직 심볼 ```|```: 선택적으로 적어주는 경우 ```OR```를 의미한다. \n",
    "* 이탤릭체 - 사용자가 값을 제공해야 하는 정보\n",
    "```python\n",
    "function (*int x*) {internal|external} [pure|constant|view|payable] [returns (return types)] varName;\n",
    "```"
   ]
  },
  {
   "cell_type": "code",
   "execution_count": null,
   "metadata": {
    "collapsed": true
   },
   "outputs": [],
   "source": []
  }
 ],
 "metadata": {
  "kernelspec": {
   "display_name": "Python 2",
   "language": "python",
   "name": "python2"
  },
  "language_info": {
   "codemirror_mode": {
    "name": "ipython",
    "version": 2
   },
   "file_extension": ".py",
   "mimetype": "text/x-python",
   "name": "python",
   "nbconvert_exporter": "python",
   "pygments_lexer": "ipython2",
   "version": "2.7.17"
  }
 },
 "nbformat": 4,
 "nbformat_minor": 0
}
