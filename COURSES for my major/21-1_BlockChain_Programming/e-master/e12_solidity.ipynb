{
 "cells": [
  {
   "cell_type": "markdown",
   "metadata": {
    "slideshow": {
     "slide_type": "slide"
    }
   },
   "source": [
    "#  12. Solidity 결합, 라이브러리, 보안\n",
    "\n",
    "* Last Updated 20200617WED1000 20190605WEB1200 20190120SUN0000 20180707SAT1300 20170112\n",
    "\n",
    "## 12.1 학습내용\n",
    "\n",
    "### 12.1.1 목표\n",
    " \n",
    "* contract 결합, 상속, 라이브러리, 보안"
   ]
  },
  {
   "cell_type": "markdown",
   "metadata": {
    "slideshow": {
     "slide_type": "slide"
    }
   },
   "source": [
    "### 12.1.2 목차\n",
    "\n",
    "* 12.2 컨트랙 결합\n",
    "    * 12.2.1 상대측 객체의 생성\n",
    "    * 12.2.2 함수의 호출\n",
    "    * 실습: new 명령어로 컨트랙 생성\n",
    "    * 실습: 컨트랙의 주소를 사용하여 컨트랙 결합\n",
    "    * 실습: 자동차와 엔진 컨트랙: new 명령어 사용\n",
    "    * 실습: 사각형과 면적 컨트랙: new 명령어 사용\n",
    "    * 실습: 이미 배포된 컨트랙을 포함: 주소를 사용\n",
    "    * 실습: import 문을 사용하여 컨트랙 결합\n",
    "    * 문제: Observer pattern\n",
    "* 12.3 [상속](#12.3)\n",
    "    * 실습: greeter\n",
    "* 12.4 [Library](#12.4)\n",
    "    * 12.4.1 library internal\n",
    "    * 실습: 주소 없이 라이브러리 사용\n",
    "    * 12.4.2 library public\n",
    "    * 실습: 커맨드라인으로 라이브러리 링크\n",
    "    * 실습: placeholder에 주소를 넣어 라이브러리 링크\n",
    "    \n",
    "    * 실습: 제삼자가 제공하는 github 라이브러리\n",
    "    * 실습: OpenZeppelin\n",
    "* 12.5 [보안](#12.5)\n"
   ]
  },
  {
   "cell_type": "markdown",
   "metadata": {
    "slideshow": {
     "slide_type": "slide"
    }
   },
   "source": [
    "## 12.2 컨트랙 결합\n",
    "\n",
    "지금까지는 주로 하나의 컨트랙을 개발하였다. 컨트랙이 2개 이상이 되는 경우, 결합을 해야 한다. Solidity는 객체지향언어이므로 ```is-a```, ```has-a``` 관계를 구현할 수 있다.\n",
    "\n",
    "### 12.2.1 상대측 객체의 생성\n",
    "\n",
    "컨트랙이 결합해야 하는 경우, 먼저 상대 객체를 생성해야 한다.\n",
    "사용하려는 대상 객체는, \n",
    "* 배포되어 있지 않은 경우 또는\n",
    "* 배포되어 있는 경우로 구분하여 관계를 가질 수 있다.\n",
    "\n",
    "#### 배포되어 있지 않은 경우\n",
    "* 한 파일에 컨트랙의 소스코드가 포함되는 경우, ```new()``` 명령어로 **인스턴스**를 만들어서 함수를 호출한다.\n",
    "\n",
    "#### 배포되어 있는 경우\n",
    "* 이미 배포된 컨트랙을 포함되는 경우, **주소**를 구해서 넘겨주어야 한다.\n",
    "\n",
    "상대객체를 한 파일에 포함하지 않는 경우라면, ```import``` 문으로 그 컨트랙을 포함하여야 한다.\n",
    "```import```문 다음에 적는 filename은 **현재 프로그램의 상대경로**로 적어준다.\n",
    "\n",
    "```python\n",
    "import <<filename>>\n",
    "```\n"
   ]
  },
  {
   "cell_type": "markdown",
   "metadata": {
    "slideshow": {
     "slide_type": "subslide"
    }
   },
   "source": [
    "### 12.2.2 함수의 호출\n",
    "\n",
    "#### 컨트랙에서 호출\n",
    "상대측 객체를 만들고 나면, 함수를 호출한다.\n",
    "함수는 객체지향에서 하는 방식으로 dot operator를 사용하면 된다.\n",
    "```python\n",
    "<instance>.functionMethod()\n",
    "```\n",
    "\n",
    "#### ```webe.js```에서 호출\n",
    "```web3.js```에서는 ```<instance>.methods.functionMethod()```라고 호출한다.\n",
    "\n",
    "좀 더 자세히 설명하면, 앞서 ```5.2 ABI 명세```에서 설명하였던 ```function selector```를 사용하여 함수가 호출된다.\n",
    "```function setCounter(uint n){ counter = n; }``` 함수를 컨트랙에서 호출해 보자.\n",
    "함수명을 sha3 해싱한 후, 처음 4바이트로 함수를 호출하게 된다.\n",
    "데이터가 없는 경우 (```calldata```가 없는 경우), ```fallback``` 함수가 호출된다.\n",
    "\n",
    "힘수 호출 | 설명\n",
    "-----|-----\n",
    "<address>.call.gas(200000).value(this.balance)(\"\") | fallback 함수 호출\n",
    "<address>.call.gas(200000).value(this.balance)(bytes4(bytes32(sha3(\"setCounter(uint)\")))) | ```setCounter``` 함수 호출\n",
    "\n",
    "다른 컨트랙을 호출하는 경우 gas 비용이 infinite라고 계산된다. 그 이유는 다른 컨트랙이 얼마나 gas를 사용하게 될지 모르기 때문이다.\n",
    "gas비용은 전송측에서 차감이 된다는 점에 주의하자.\n",
    "\n"
   ]
  },
  {
   "cell_type": "markdown",
   "metadata": {
    "slideshow": {
     "slide_type": "subslide"
    }
   },
   "source": [
    "## 실습: new 명령어로 컨트랙 생성\n",
    "\n",
    "```new()``` 명령어로 컨트랙을 생성하려면 컴파일 시점에 그 소스코드를 가져올 수 있어야 한다.\n",
    "즉 **상대 컨트랙이 동일한 파일에 존재**하거나\n",
    "또는 **```import``` 문으로 상대 컨트랙이 포함**되는 경우가 해당이 된다.\n",
    "그러면 상대 컨트랙이 컴파일되어 바이트코드가 포함되게 된다."
   ]
  },
  {
   "cell_type": "code",
   "execution_count": 1,
   "metadata": {
    "collapsed": false
   },
   "outputs": [],
   "source": [
    "import iplantuml"
   ]
  },
  {
   "cell_type": "code",
   "execution_count": 2,
   "metadata": {
    "collapsed": false
   },
   "outputs": [
    {
     "data": {
      "image/svg+xml": [
       "<svg height=\"77px\" style=\"width:146px;height:77px;\" version=\"1.1\" viewBox=\"0 0 146 77\" width=\"146px\" xmlns=\"http://www.w3.org/2000/svg\" xmlns:xlink=\"http://www.w3.org/1999/xlink\"><defs><filter height=\"300%\" id=\"f1\" width=\"300%\" x=\"-1\" y=\"-1\"><feGaussianBlur result=\"blurOut\" stdDeviation=\"2.0\"/><feColorMatrix in=\"blurOut\" result=\"blurOut2\" type=\"matrix\" values=\"0 0 0 0 0 0 0 0 0 0 0 0 0 0 0 0 0 0 .4 0\"/><feOffset dx=\"4.0\" dy=\"4.0\" in=\"blurOut2\" result=\"blurOut3\"/><feBlend in=\"SourceGraphic\" in2=\"blurOut3\" mode=\"normal\"/></filter></defs><g><rect fill=\"#FEFECE\" filter=\"url(#f1)\" height=\"48\" style=\"stroke: #A80036; stroke-width: 1.5;\" width=\"48\" x=\"89\" y=\"14.5\"/><ellipse cx=\"104\" cy=\"30.5\" fill=\"#ADD1B2\" rx=\"11\" ry=\"11\" style=\"stroke: #A80036; stroke-width: 1.0;\"/><path d=\"M106.9688,36.1406 Q106.3906,36.4375 105.75,36.5781 Q105.1094,36.7344 104.4063,36.7344 Q101.9063,36.7344 100.5781,35.0938 Q99.2656,33.4375 99.2656,30.3125 Q99.2656,27.1875 100.5781,25.5313 Q101.9063,23.875 104.4063,23.875 Q105.1094,23.875 105.75,24.0313 Q106.4063,24.1875 106.9688,24.4844 L106.9688,27.2031 Q106.3438,26.625 105.75,26.3594 Q105.1563,26.0781 104.5313,26.0781 Q103.1875,26.0781 102.5,27.1563 Q101.8125,28.2188 101.8125,30.3125 Q101.8125,32.4063 102.5,33.4844 Q103.1875,34.5469 104.5313,34.5469 Q105.1563,34.5469 105.75,34.2813 Q106.3438,34 106.9688,33.4219 L106.9688,36.1406 Z \"/><text fill=\"#000000\" font-family=\"sans-serif\" font-size=\"12\" lengthAdjust=\"spacingAndGlyphs\" textLength=\"16\" x=\"118\" y=\"34.6543\">C1</text><line style=\"stroke: #A80036; stroke-width: 1.5;\" x1=\"90\" x2=\"136\" y1=\"46.5\" y2=\"46.5\"/><line style=\"stroke: #A80036; stroke-width: 1.5;\" x1=\"90\" x2=\"136\" y1=\"54.5\" y2=\"54.5\"/><rect fill=\"#FEFECE\" filter=\"url(#f1)\" height=\"60.8047\" style=\"stroke: #A80036; stroke-width: 1.5;\" width=\"48\" x=\"6\" y=\"8\"/><ellipse cx=\"21\" cy=\"24\" fill=\"#ADD1B2\" rx=\"11\" ry=\"11\" style=\"stroke: #A80036; stroke-width: 1.0;\"/><path d=\"M23.9688,29.6406 Q23.3906,29.9375 22.75,30.0781 Q22.1094,30.2344 21.4063,30.2344 Q18.9063,30.2344 17.5781,28.5938 Q16.2656,26.9375 16.2656,23.8125 Q16.2656,20.6875 17.5781,19.0313 Q18.9063,17.375 21.4063,17.375 Q22.1094,17.375 22.75,17.5313 Q23.4063,17.6875 23.9688,17.9844 L23.9688,20.7031 Q23.3438,20.125 22.75,19.8594 Q22.1563,19.5781 21.5313,19.5781 Q20.1875,19.5781 19.5,20.6563 Q18.8125,21.7188 18.8125,23.8125 Q18.8125,25.9063 19.5,26.9844 Q20.1875,28.0469 21.5313,28.0469 Q22.1563,28.0469 22.75,27.7813 Q23.3438,27.5 23.9688,26.9219 L23.9688,29.6406 Z \"/><text fill=\"#000000\" font-family=\"sans-serif\" font-size=\"12\" lengthAdjust=\"spacingAndGlyphs\" textLength=\"16\" x=\"35\" y=\"28.1543\">C2</text><line style=\"stroke: #A80036; stroke-width: 1.5;\" x1=\"7\" x2=\"53\" y1=\"40\" y2=\"40\"/><text fill=\"#000000\" font-family=\"sans-serif\" font-size=\"11\" lengthAdjust=\"spacingAndGlyphs\" textLength=\"32\" x=\"12\" y=\"54.2104\">c1:C1</text><line style=\"stroke: #A80036; stroke-width: 1.5;\" x1=\"7\" x2=\"53\" y1=\"60.8047\" y2=\"60.8047\"/><path d=\"M54.3164,38.5 C64.0767,38.5 73.837,38.5 83.5973,38.5 \" fill=\"none\" style=\"stroke: #A80036; stroke-width: 1.0;\"/><polygon fill=\"#A80036\" points=\"88.7013,38.5,79.7013,34.5,83.7013,38.5,79.7013,42.5,88.7013,38.5\" style=\"stroke: #A80036; stroke-width: 1.0;\"/></g></svg>"
      ],
      "text/plain": [
       "<IPython.core.display.SVG object>"
      ]
     },
     "execution_count": 2,
     "metadata": {},
     "output_type": "execute_result"
    }
   ],
   "source": [
    "%%plantuml --jar\n",
    "@startuml\n",
    "class C1\n",
    "class C2 {\n",
    "    c1:C1\n",
    "}\n",
    "C2->C1\n",
    "@enduml"
   ]
  },
  {
   "cell_type": "markdown",
   "metadata": {
    "slideshow": {
     "slide_type": "subslide"
    }
   },
   "source": [
    "### 단계 1: 컨트랙 개발\n",
    "\n",
    "일부 0.5버전에서는 컴파일은 문제가 없었으나, 실행하면 기대하는 기능을 수행하지 못하는 증상이 있었다. 이는 이미 개발자들이 이슈에서 제기한 바, 0.4.21이하에서는 문제가 없으나 그 이후에는 문제가 있다 (https://github.com/ethereum/solidity/issues/3969).\n"
   ]
  },
  {
   "cell_type": "code",
   "execution_count": 32,
   "metadata": {
    "collapsed": false
   },
   "outputs": [
    {
     "name": "stdout",
     "output_type": "stream",
     "text": [
      "Overwriting src/C1C2.sol\n"
     ]
    }
   ],
   "source": [
    "%%writefile src/C1C2.sol\n",
    "pragma solidity ^0.6;\n",
    "//pragma solidity 0.4.21;\n",
    "contract C1 {\n",
    "    uint128 v1;\n",
    "    function set(uint128 _v1) public {\n",
    "        v1=_v1;\n",
    "    }\n",
    "    function get() public view returns(uint128) {\n",
    "        return v1;\n",
    "    }\n",
    "    function get7() public pure returns(uint128) {\n",
    "        return 7;\n",
    "    }\n",
    "}\n",
    "\n",
    "contract C2 {\n",
    "    C1 c1;\n",
    "    //function C2() public {  //0.4.21 constructor\n",
    "    constructor() public {    //0.6 constructor\n",
    "        c1=new C1();\n",
    "    }\n",
    "    function set(uint128 _v1) public {\n",
    "        c1.set(_v1);\n",
    "    }\n",
    "    function get() public view returns(uint128) {\n",
    "        return c1.get();\n",
    "    }\n",
    "    function get7() public view returns(uint128) {\n",
    "        return c1.get7();\n",
    "    }\n",
    "    function getC1Address() public view returns(address) {\n",
    "        return address(c1);\n",
    "    }\n",
    "}"
   ]
  },
  {
   "cell_type": "markdown",
   "metadata": {
    "slideshow": {
     "slide_type": "subslide"
    }
   },
   "source": [
    "### 단계 2: 컴파일\n",
    "\n",
    "다음과 같이 컴파일할 수 있다.\n",
    "로컬에서 설치된 solc보다 낮은 버전으로 컴파일 하려면 REMIX에서 버전을 낮추어 컴파일하고 ABI, bin을 가져온다.\n",
    "파일에 컨트랙이 2개 있으면, 컴파일한 ABI, bin도 2개가 생성된다."
   ]
  },
  {
   "cell_type": "code",
   "execution_count": 28,
   "metadata": {
    "collapsed": false,
    "scrolled": true
   },
   "outputs": [],
   "source": [
    "!solc src/C1C2.sol --combined-json abi,bin > src/C1C2.json"
   ]
  },
  {
   "cell_type": "markdown",
   "metadata": {
    "slideshow": {
     "slide_type": "subslide"
    }
   },
   "source": [
    "### 단계 3: 배포\n",
    "\n",
    "컴파일 한 후, C2의 abi, bin을 가져와서 배포를 한다."
   ]
  },
  {
   "cell_type": "code",
   "execution_count": 15,
   "metadata": {
    "collapsed": false
   },
   "outputs": [
    {
     "name": "stdout",
     "output_type": "stream",
     "text": [
      "Overwriting src/C1C2Deploy.js\n"
     ]
    }
   ],
   "source": [
    "%%writefile src/C1C2Deploy.js\n",
    "var Web3=require('web3');\n",
    "var web3=new Web3(new Web3.providers.HttpProvider(\"http://117.16.44.45:8345\"));\n",
    "var fs=require('fs');\n",
    "var _str = fs.readFileSync(\"src/C1C2.json\");\n",
    "var _json=JSON.parse(_str)\n",
    "//var _abiArray=JSON.parse(_json.contracts.sHello2.abi);\n",
    "var _abiArray=JSON.parse(_json.contracts[\"src/C1C2.sol:C2\"].abi);\n",
    "//var _bin=_json.contracts.sHello2.bin;\n",
    "var _bin=\"0x\"+_json.contracts[\"src/C1C2.sol:C2\"].bin;\n",
    "\n",
    "//unlock the account with a password provided\n",
    "//web3.personal.unlockAccount(web3.eth.accounts[0],'password');\n",
    "async function deploy() {\n",
    "    const accounts = await web3.eth.getAccounts();\n",
    "    console.log(\"Deploying the contract from \" + accounts[0]);\n",
    "    var deployed = await new web3.eth.Contract(_abiArray)\n",
    "        .deploy({data: _bin})\n",
    "        .send({from: accounts[0], gas: 1000000})\n",
    "        .on('transactionHash', function(hash){\n",
    "            console.log(\">>> transactionHash\"+hash);\n",
    "        })\n",
    "        .on('receipt', function(receipt){\n",
    "            console.log(\">>> RECEPIT hash: \" + receipt.transactionHash + \"\\n>>> address:\" + receipt.contractAddress);\n",
    "        })\n",
    "        .on('error', function(error, receipt) {\n",
    "            console.log(\">>> ERROR \"+error);\n",
    "        });\n",
    "        //.then(function(newContractInstance){\n",
    "        //    console.log(newContractInstance.options.address)\n",
    "        //});\n",
    "    console.log(\"---> The contract deployed to: \" + deployed.options.address)\n",
    "}\n",
    "deploy()"
   ]
  },
  {
   "cell_type": "code",
   "execution_count": 1,
   "metadata": {
    "collapsed": false
   },
   "outputs": [
    {
     "name": "stdout",
     "output_type": "stream",
     "text": [
      "Deploying the contract from 0xAD4c0912D2562b7072780A2F0FB2749D749B14fB\n",
      ">>> transactionHash0x2188f922e7158e4b24f754886a53b1a216d7249ec4959217341acb1833cf161d\n",
      ">>> RECEPIT hash: 0x2188f922e7158e4b24f754886a53b1a216d7249ec4959217341acb1833cf161d\n",
      ">>> address:0x83AA5DdD047fD1B931480A6A1557F6feb54Dec8b\n",
      "---> The contract deployed to: 0x83AA5DdD047fD1B931480A6A1557F6feb54Dec8b\n"
     ]
    }
   ],
   "source": [
    "!node src/C1C2Deploy.js"
   ]
  },
  {
   "cell_type": "markdown",
   "metadata": {
    "slideshow": {
     "slide_type": "subslide"
    }
   },
   "source": [
    "### 단계 4: 사용"
   ]
  },
  {
   "cell_type": "code",
   "execution_count": 2,
   "metadata": {
    "collapsed": false
   },
   "outputs": [
    {
     "name": "stdout",
     "output_type": "stream",
     "text": [
      "Overwriting src/C1C2Use.js\n"
     ]
    }
   ],
   "source": [
    "%%writefile src/C1C2Use.js\n",
    "var Web3=require('web3');\n",
    "var web3=new Web3(new Web3.providers.HttpProvider(\"http://117.16.44.45:8345\"));\n",
    "var fs=require('fs');\n",
    "var _str = fs.readFileSync(\"src/C1C2.json\");\n",
    "var _json=JSON.parse(_str)\n",
    "//var _abiArray=JSON.parse(_json.contracts.sHello2.abi);\n",
    "var _abiArray=JSON.parse(_json.contracts[\"src/C1C2.sol:C2\"].abi);\n",
    "\n",
    "var c2 = new web3.eth.Contract(_abiArray, \"0x83AA5DdD047fD1B931480A6A1557F6feb54Dec8b\");\n",
    "\n",
    "async function doIt() {\n",
    "    const accounts = await web3.eth.getAccounts();\n",
    "    console.log(\"Account: \" + accounts[0]);\n",
    "    const balanceBefore = await web3.eth.getBalance(accounts[0]);\n",
    "    console.log(\"Balance before: \" + balanceBefore);\n",
    "    c2.methods.get7().call().then(console.log);\n",
    "    await c2.methods.set(9).send({from: accounts[0],gas:50000});\n",
    "    c2.methods.get().call().then(console.log);\n",
    "    const balanceAfter = await web3.eth.getBalance(accounts[0]);\n",
    "    console.log(\"Balance after: \" + balanceAfter);\n",
    "    console.log(\"Balance diff: \" + (balanceBefore - balanceAfter));\n",
    "    //hello.methods.kill().send({from: accounts[0]})\n",
    "}\n",
    "\n",
    "doIt()\n"
   ]
  },
  {
   "cell_type": "code",
   "execution_count": 3,
   "metadata": {
    "collapsed": false
   },
   "outputs": [
    {
     "name": "stdout",
     "output_type": "stream",
     "text": [
      "Account: 0xAD4c0912D2562b7072780A2F0FB2749D749B14fB\n",
      "Balance before: 99990295100000000000\n",
      "7\n",
      "9\n",
      "Balance after: 99989414760000000000\n",
      "Balance diff: 880339999997952\n"
     ]
    }
   ],
   "source": [
    "!node src/C1C2Use.js"
   ]
  },
  {
   "cell_type": "markdown",
   "metadata": {
    "slideshow": {
     "slide_type": "slide"
    }
   },
   "source": [
    "## 실습: 컨트랙의 주소를 사용하여 컨트랙 결합\n",
    "\n",
    "앞서 ```new()``` 명령어는 소스코드를 포함할 수 있는 경우에 사용하였다.\n",
    "이번에는 이미 배포된 컨트랙을 결합하여 보자. 그렇다면 C2에 C1의 주소를 넘겨주어야 한다. 즉 C1을 배포하고 그 주소를 알야야 한다."
   ]
  },
  {
   "cell_type": "markdown",
   "metadata": {
    "slideshow": {
     "slide_type": "subslide"
    }
   },
   "source": [
    "### C1을 배포하고 주소를 구하기\n",
    "\n",
    "* 단계 1: 컨트랙 개발 (C1)"
   ]
  },
  {
   "cell_type": "code",
   "execution_count": 7,
   "metadata": {
    "collapsed": false
   },
   "outputs": [
    {
     "name": "stdout",
     "output_type": "stream",
     "text": [
      "Overwriting src/C1.sol\n"
     ]
    }
   ],
   "source": [
    "%%writefile src/C1.sol\n",
    "pragma solidity ^0.6;\n",
    "//pragma solidity 0.4.21;\n",
    "\n",
    "contract C1 {\n",
    "    uint128 v1;\n",
    "    function set(uint128 _v1) public {\n",
    "        v1=_v1;\n",
    "    }\n",
    "    function get() public view returns(uint128) {\n",
    "        return v1;\n",
    "    }\n",
    "    function get7() public pure returns(uint128) {\n",
    "        return 7;\n",
    "    }\n",
    "}"
   ]
  },
  {
   "cell_type": "markdown",
   "metadata": {
    "slideshow": {
     "slide_type": "subslide"
    }
   },
   "source": [
    "* 단계 2: 컴파일 (C1)\n",
    "\n",
    "REMIX에서 0.4.21로 컴파일한 후\n",
    "\n",
    "byzantium이 기본.\n",
    "solc --evm-version \"homestead\" --gas C1.sol"
   ]
  },
  {
   "cell_type": "code",
   "execution_count": 8,
   "metadata": {
    "collapsed": true
   },
   "outputs": [],
   "source": [
    "!solc src/C1.sol --combined-json abi,bin > src/C1.json"
   ]
  },
  {
   "cell_type": "code",
   "execution_count": 9,
   "metadata": {
    "collapsed": false
   },
   "outputs": [
    {
     "name": "stdout",
     "output_type": "stream",
     "text": [
      "{\"contracts\":{\"src/C1.sol:C1\":{\"abi\":\"[{\\\"inputs\\\":[],\\\"name\\\":\\\"get\\\",\\\"outputs\\\":[{\\\"internalType\\\":\\\"uint128\\\",\\\"name\\\":\\\"\\\",\\\"type\\\":\\\"uint128\\\"}],\\\"stateMutability\\\":\\\"view\\\",\\\"type\\\":\\\"function\\\"},{\\\"inputs\\\":[],\\\"name\\\":\\\"get7\\\",\\\"outputs\\\":[{\\\"internalType\\\":\\\"uint128\\\",\\\"name\\\":\\\"\\\",\\\"type\\\":\\\"uint128\\\"}],\\\"stateMutability\\\":\\\"pure\\\",\\\"type\\\":\\\"function\\\"},{\\\"inputs\\\":[{\\\"internalType\\\":\\\"uint128\\\",\\\"name\\\":\\\"_v1\\\",\\\"type\\\":\\\"uint128\\\"}],\\\"name\\\":\\\"set\\\",\\\"outputs\\\":[],\\\"stateMutability\\\":\\\"nonpayable\\\",\\\"type\\\":\\\"function\\\"}]\",\"bin\":\"608060405234801561001057600080fd5b506101a9806100206000396000f3fe608060405234801561001057600080fd5b50600436106100415760003560e01c8063086949b7146100465780634178462f146100885780636d4ce63c146100c8575b600080fd5b61004e61010a565b60405180826fffffffffffffffffffffffffffffffff166fffffffffffffffffffffffffffffffff16815260200191505060405180910390f35b6100c66004803603602081101561009e57600080fd5b8101908080356fffffffffffffffffffffffffffffffff169060200190929190505050610113565b005b6100d061014e565b60405180826fffffffffffffffffffffffffffffffff166fffffffffffffffffffffffffffffffff16815260200191505060405180910390f35b60006007905090565b806000806101000a8154816fffffffffffffffffffffffffffffffff02191690836fffffffffffffffffffffffffffffffff16021790555050565b60008060009054906101000a90046fffffffffffffffffffffffffffffffff1690509056fea2646970667358221220e32c55940d315a318b81f19380b97d0b3a7e46713f6ab3dd5dd0f2dd8c44633c64736f6c63430006010033\"}},\"version\":\"0.6.1+commit.e6f7d5a4.Linux.g++\"}\r\n"
     ]
    }
   ],
   "source": [
    "!cat src/C1.json"
   ]
  },
  {
   "cell_type": "markdown",
   "metadata": {
    "slideshow": {
     "slide_type": "subslide"
    }
   },
   "source": [
    "* 배포 (C1)"
   ]
  },
  {
   "cell_type": "code",
   "execution_count": 11,
   "metadata": {
    "collapsed": false
   },
   "outputs": [
    {
     "name": "stdout",
     "output_type": "stream",
     "text": [
      "Overwriting src/C1Deploy.js\n"
     ]
    }
   ],
   "source": [
    "%%writefile src/C1Deploy.js\n",
    "var Web3 = require('web3');\n",
    "var web3 = new Web3(new Web3.providers.HttpProvider(\"http://117.16.44.45:8345\"));\n",
    "var fs=require('fs');\n",
    "var _str = fs.readFileSync(\"src/C1.json\");\n",
    "var _json = JSON.parse(_str)\n",
    "//var _abiArray = JSON.parse(_json.contracts.sHello2.abi);\n",
    "var _abiArray = JSON.parse(_json.contracts[\"src/C1.sol:C1\"].abi);\n",
    "//var _bin = _json.contracts.sHello2.bin;\n",
    "var _bin = \"0x\"+_json.contracts[\"src/C1.sol:C1\"].bin;\n",
    "\n",
    "//unlock the account with a password provided\n",
    "//web3.personal.unlockAccount(web3.eth.accounts[0],'password');\n",
    "async function deploy() {\n",
    "    const accounts = await web3.eth.getAccounts();\n",
    "    console.log(\"Deploying the contract from \" + accounts[0]);\n",
    "    var deployed = await new web3.eth.Contract(_abiArray)\n",
    "        .deploy({data: _bin})\n",
    "        .send({from: accounts[0], gas: 1000000})\n",
    "        .on('transactionHash', function(hash){\n",
    "            console.log(\">>> transactionHash\" + hash);\n",
    "        })\n",
    "        .on('receipt', function(receipt){\n",
    "            console.log(\">>> RECEPIT hash: \" + receipt.transactionHash + \"\\n>>> address:\" + receipt.contractAddress);\n",
    "        })\n",
    "        .on('error', function(error, receipt) {\n",
    "            console.log(\">>> ERROR \" + error);\n",
    "        });\n",
    "        //.then(function(newContractInstance){\n",
    "        //    console.log(newContractInstance.options.address)\n",
    "        //});\n",
    "    console.log(\"---> The contract deployed to: \" + deployed.options.address)\n",
    "}\n",
    "deploy()\n"
   ]
  },
  {
   "cell_type": "markdown",
   "metadata": {},
   "source": [
    "C1Deploy.js를 한 줄씩 REPL할 수 있다. Mac에서 해보니 이유없이 ```Returned error: unknown account``` 오류를 발생하고 있다."
   ]
  },
  {
   "cell_type": "code",
   "execution_count": 12,
   "metadata": {
    "collapsed": false,
    "scrolled": false
   },
   "outputs": [
    {
     "name": "stdout",
     "output_type": "stream",
     "text": [
      "Deploying the contract from 0xAD4c0912D2562b7072780A2F0FB2749D749B14fB\r\n",
      ">>> transactionHash0x2b3ee36d75725837b00f422b23dd5db801e8c6d39a70a60cb117b041624acbb4\r\n",
      ">>> RECEPIT hash: 0x2b3ee36d75725837b00f422b23dd5db801e8c6d39a70a60cb117b041624acbb4\r\n",
      ">>> address:0xc71cC556bf5C9c4694062BF4752768F65d9349Dc\r\n",
      "---> The contract deployed to: 0xc71cC556bf5C9c4694062BF4752768F65d9349Dc\r\n"
     ]
    }
   ],
   "source": [
    "!node src/C1Deploy.js"
   ]
  },
  {
   "cell_type": "markdown",
   "metadata": {
    "slideshow": {
     "slide_type": "subslide"
    }
   },
   "source": [
    "* 사용 (C1)"
   ]
  },
  {
   "cell_type": "markdown",
   "metadata": {},
   "source": [
    "위 오류에도 불구하고 nodejs를 REPL로 해서 주소를 얻어서 복사해 넣고 아래를 실행하면 결과를 얻을 수 있다."
   ]
  },
  {
   "cell_type": "code",
   "execution_count": 15,
   "metadata": {
    "collapsed": false
   },
   "outputs": [
    {
     "name": "stdout",
     "output_type": "stream",
     "text": [
      "Overwriting src/C1Use.js\n"
     ]
    }
   ],
   "source": [
    "%%writefile src/C1Use.js\n",
    "var Web3=require('web3');\n",
    "var web3=new Web3(new Web3.providers.HttpProvider(\"http://117.16.44.45:8345\"));\n",
    "var fs=require('fs');\n",
    "var _str = fs.readFileSync(\"src/C1.json\");\n",
    "var _json=JSON.parse(_str)\n",
    "//var _abiArray=JSON.parse(_json.contracts.sHello2.abi);\n",
    "var _abiArray=JSON.parse(_json.contracts[\"src/C1.sol:C1\"].abi);\n",
    "\n",
    "var c1 = new web3.eth.Contract(_abiArray, \"0xc71cC556bf5C9c4694062BF4752768F65d9349Dc\");\n",
    "async function doIt() {\n",
    "    const accounts = await web3.eth.getAccounts();\n",
    "    console.log(\"Account: \" + accounts[0]);\n",
    "    const balanceBefore = await web3.eth.getBalance(accounts[0]);\n",
    "    console.log(\"Balance before: \" + balanceBefore);\n",
    "    c1.methods.get7().call().then(console.log);\n",
    "    await c1.methods.set(9).send({from: accounts[0],gas:50000});\n",
    "    c1.methods.get().call().then(console.log);\n",
    "    const balanceAfter = await web3.eth.getBalance(accounts[0]);\n",
    "    console.log(\"Balance after: \" + balanceAfter);\n",
    "    console.log(\"Balance diff: \" + (balanceBefore - balanceAfter));\n",
    "    //hello.methods.kill().send({from: accounts[0]})\n",
    "}\n",
    "\n",
    "doIt()\n"
   ]
  },
  {
   "cell_type": "code",
   "execution_count": 16,
   "metadata": {
    "collapsed": false
   },
   "outputs": [
    {
     "name": "stdout",
     "output_type": "stream",
     "text": [
      "Account: 0xAD4c0912D2562b7072780A2F0FB2749D749B14fB\n",
      "Balance before: 99986065100000000000\n",
      "7\n",
      "9\n",
      "Balance after: 99985225800000000000\n",
      "Balance diff: 839300000006144\n"
     ]
    }
   ],
   "source": [
    "!node src/C1Use.js"
   ]
  },
  {
   "cell_type": "markdown",
   "metadata": {
    "slideshow": {
     "slide_type": "subslide"
    }
   },
   "source": [
    "### 단계 1: 컨트랙 개발 (C2)\n",
    "\n",
    "```C1```과 ```C2```를 결합하는 소스코드를 구현해보자.\n",
    "```C1```은 이미 배포가 되었고, 그 주소를 받을 수 있는 기능이 필요하다.\n",
    "이 경우 ```C1```의 abi를 모르면 ```C2```를 컴파일을 할 수 없다.\n",
    "예를 들어 ```C1```의 함수 ```c1.get7()```를 모르면, C2의 ```get7()```을 컴파일 할 수 없게 된다.\n",
    "\n",
    "앞서 ```C1.sol```, ```C2.sol```을 한 파일 안에 적어주지 않고,\n",
    "```import```문으로 ```C1```을 포함한다.\n",
    "이 경우 ```import C1.sol```이라고 해주지 않고, 현재 파일의 상대 디렉토리 ```import \"./C1.sol\"```로 적어준다.\n",
    "\n",
    "구분 | 사용 예 | 이유\n",
    "-----|-----|-----\n",
    "올바른 사용 | ```import \"./C1.sol\"``` | 상대 디렉토리로 적어주면 ```C1.sol```을 못 찾는다.\n",
    "올바르지 않은 사용 | ```import \"C1.sol\"``` | 상대 디렉토리가 아니라서 오류가 발생"
   ]
  },
  {
   "cell_type": "code",
   "execution_count": 17,
   "metadata": {
    "collapsed": false
   },
   "outputs": [
    {
     "name": "stdout",
     "output_type": "stream",
     "text": [
      "Overwriting src/C2.sol\n"
     ]
    }
   ],
   "source": [
    "%%writefile src/C2.sol\n",
    "pragma solidity 0.6;\n",
    "//pragma solidity 0.4.21;\n",
    "import \"./C1.sol\";\n",
    "\n",
    "contract C2 {\n",
    "    C1 c1;\n",
    "    //function C2() public {  //0.4.21 constructor\n",
    "    constructor() public {    //0.6 constructor\n",
    "        c1=new C1();\n",
    "    }\n",
    "    function setC1(address _addressOfC1) public {\n",
    "        c1 = C1(_addressOfC1);\n",
    "    }\n",
    "    function set(uint128 _v1) public {\n",
    "        c1.set(_v1);\n",
    "    }\n",
    "    function get() public view returns(uint128) {\n",
    "        return c1.get();\n",
    "    }\n",
    "    function get7() public view returns(uint128) {\n",
    "        return c1.get7();\n",
    "    }\n",
    "    function getC1Address() public view returns(address) {\n",
    "        return address(c1);\n",
    "    }\n",
    "}"
   ]
  },
  {
   "cell_type": "markdown",
   "metadata": {
    "slideshow": {
     "slide_type": "subslide"
    }
   },
   "source": [
    "### 단계 2: 컴파일 (C2)\n",
    "\n",
    "C2를 컴파일한다."
   ]
  },
  {
   "cell_type": "code",
   "execution_count": 18,
   "metadata": {
    "collapsed": false
   },
   "outputs": [],
   "source": [
    "!solc src/C2.sol --combined-json abi,bin > src/C2.json"
   ]
  },
  {
   "cell_type": "markdown",
   "metadata": {
    "slideshow": {
     "slide_type": "subslide"
    }
   },
   "source": [
    "### 단계 3: 배포"
   ]
  },
  {
   "cell_type": "code",
   "execution_count": 20,
   "metadata": {
    "collapsed": false
   },
   "outputs": [
    {
     "name": "stdout",
     "output_type": "stream",
     "text": [
      "Overwriting src/C2Deploy.js\n"
     ]
    }
   ],
   "source": [
    "%%writefile src/C2Deploy.js\n",
    "var Web3 = require('web3');\n",
    "var web3 = new Web3(new Web3.providers.HttpProvider(\"http://117.16.44.45:8345\"));\n",
    "var fs=require('fs');\n",
    "var _str = fs.readFileSync(\"src/C2.json\");\n",
    "var _json = JSON.parse(_str)\n",
    "//var _abiArray = JSON.parse(_json.contracts.sHello2.abi);\n",
    "var _abiArray = JSON.parse(_json.contracts[\"src/C2.sol:C2\"].abi);\n",
    "//var _bin = _json.contracts.sHello2.bin;\n",
    "var _bin = \"0x\"+_json.contracts[\"src/C2.sol:C2\"].bin;\n",
    "\n",
    "//unlock the account with a password provided\n",
    "//web3.personal.unlockAccount(web3.eth.accounts[0],'password');\n",
    "async function deploy() {\n",
    "    const accounts = await web3.eth.getAccounts();\n",
    "    console.log(\"Deploying the contract from \" + accounts[0]);\n",
    "    var deployed = await new web3.eth.Contract(_abiArray)\n",
    "        .deploy({data: _bin})\n",
    "        .send({from: accounts[0], gas: 1000000})\n",
    "        .on('transactionHash', function(hash){\n",
    "            console.log(\">>> transactionHash\" + hash);\n",
    "        })\n",
    "        .on('receipt', function(receipt){\n",
    "            console.log(\">>> RECEPIT hash: \" + receipt.transactionHash + \"\\n>>> address:\" + receipt.contractAddress);\n",
    "        })\n",
    "        .on('error', function(error, receipt) {\n",
    "            console.log(\">>> ERROR \" + error);\n",
    "        });\n",
    "        //.then(function(newContractInstance){\n",
    "        //    console.log(newContractInstance.options.address)\n",
    "        //});\n",
    "    console.log(\"---> The contract deployed to: \" + deployed.options.address)\n",
    "}\n",
    "deploy()\n"
   ]
  },
  {
   "cell_type": "code",
   "execution_count": 46,
   "metadata": {
    "collapsed": false
   },
   "outputs": [
    {
     "name": "stdout",
     "output_type": "stream",
     "text": [
      "Deploying the contract from 0xAD4c0912D2562b7072780A2F0FB2749D749B14fB\n",
      ">>> transactionHash0xa590fbd70cb5e86b8d80c25212ce83891136d2c4a40aff8952a9916cf81fd049\n",
      ">>> RECEPIT hash: 0xa590fbd70cb5e86b8d80c25212ce83891136d2c4a40aff8952a9916cf81fd049\n",
      ">>> address:0xe812078c783942dA662E89acF3351d0Fbf16cF81\n",
      "---> The contract deployed to: 0xe812078c783942dA662E89acF3351d0Fbf16cF81\n"
     ]
    }
   ],
   "source": [
    "!node src/C2Deploy.js"
   ]
  },
  {
   "cell_type": "markdown",
   "metadata": {
    "slideshow": {
     "slide_type": "subslide"
    }
   },
   "source": [
    "### 단계 4: 사용\n",
    "\n",
    "줄 | 함수 | 설명\n",
    "-----|-----|-----\n",
    "16 | ```c2.methods.getC1Address().call()``` | 생성자에서 ```new``` 명령어로 생성된 ```C1```의 주소를 출력. 단, ```C2```를 배포하고 첫 회 실행할 때만 유효하고, 2회부터는 이전에 실행된 ```setC1()```의 결과인 이전 ```C1```의 주소가 출력된다.\n",
    "19 | ```c2.methods.get7().call()``` | ```await```로 하지 않으면 실행 순서가 늦춰질 수 있다.\n",
    "21 | c2.methods.setC1() | 생성자에서 설정한 C1을 제거하고, 위에서 블록체인에 배포한 C1의 주소를 사용하여 교체한다."
   ]
  },
  {
   "cell_type": "code",
   "execution_count": 47,
   "metadata": {
    "collapsed": false
   },
   "outputs": [
    {
     "name": "stdout",
     "output_type": "stream",
     "text": [
      "Overwriting src/C2Use.js\n"
     ]
    }
   ],
   "source": [
    "%%writefile src/C2Use.js\n",
    "var Web3=require('web3');\n",
    "var web3 = new Web3(new Web3.providers.HttpProvider(\"http://117.16.44.45:8345\"));\n",
    "var fs=require('fs');\n",
    "var _str = fs.readFileSync(\"src/C2.json\");\n",
    "var _json = JSON.parse(_str)\n",
    "//var _abiArray = JSON.parse(_json.contracts.sHello2.abi);\n",
    "var _abiArray = JSON.parse(_json.contracts[\"src/C2.sol:C2\"].abi);\n",
    "\n",
    "var c2 = new web3.eth.Contract(_abiArray, \"0xe812078c783942dA662E89acF3351d0Fbf16cF81\");\n",
    "async function doIt() {\n",
    "    const accounts = await web3.eth.getAccounts();\n",
    "    console.log(\"Account: \" + accounts[0]);\n",
    "    const balanceBefore = await web3.eth.getBalance(accounts[0]);\n",
    "    console.log(\"Balance before: \" + balanceBefore);\n",
    "    console.log(\"--- new C1 ---\");\n",
    "    await c2.methods.getC1Address().call(function(err, c1addr) {\n",
    "        if(!err) console.log(\"c1 address by 'new': \"+c1addr);\n",
    "    });\n",
    "    await c2.methods.get7().call().then(console.log);\n",
    "    console.log(\"--- set the above deployed address of C1 ---\");\n",
    "    await c2.methods.setC1(\"0xc71cC556bf5C9c4694062BF4752768F65d9349Dc\").send({from:accounts[0], gas:50000});\n",
    "    await c2.methods.getC1Address().call(function(err, c1addr) {\n",
    "        if(!err) console.log(\"c1 address by 'setC1()': \"+c1addr);\n",
    "    });\n",
    "    c2.methods.get7().call().then(console.log);\n",
    "    await c2.methods.set(222).send({from: accounts[0],gas:50000});\n",
    "    c2.methods.get().call().then(console.log);\n",
    "    const balanceAfter = await web3.eth.getBalance(accounts[0]);\n",
    "    console.log(\"Balance after: \" + balanceAfter);\n",
    "    console.log(\"Balance diff: \" + (balanceBefore - balanceAfter));\n",
    "    //hello.methods.kill().send({from: accounts[0]})\n",
    "}\n",
    "\n",
    "doIt()\n"
   ]
  },
  {
   "cell_type": "code",
   "execution_count": 48,
   "metadata": {
    "collapsed": false
   },
   "outputs": [
    {
     "name": "stdout",
     "output_type": "stream",
     "text": [
      "Account: 0xAD4c0912D2562b7072780A2F0FB2749D749B14fB\n",
      "Balance before: 99945866560000000000\n",
      "--- new C1 ---\n",
      "c1 address by 'new': 0x6BA98F59D5E3dDd9a3A38727e04dFDC4C4bE9D16\n",
      "7\n",
      "--- set the above deployed address of C1 ---\n",
      "c1 address by 'setC1()': 0xc71cC556bf5C9c4694062BF4752768F65d9349Dc\n",
      "7\n",
      "222\n",
      "Balance after: 99944817720000000000\n",
      "Balance diff: 1048839999995904\n"
     ]
    }
   ],
   "source": [
    "!node src/C2Use.js"
   ]
  },
  {
   "cell_type": "markdown",
   "metadata": {},
   "source": [
    "2회를 실행하면 아래에서 보는 것처럼 C1의 주소가 같아진다.\n",
    "2회부터는 이전에 실행된 ```setC1()```의 결과인 이전 ```C1```의 주소로 설정되어 출력된다.\n",
    "생성자가 최초에만 호출되기 때문이다.\n",
    "\n",
    "다시 생성자를 호출하여 ```C1```의 주소를 설정하려면, C2를 다시 배포한 후 그 주소로 ```C2Use.js```를 실행하면 된다."
   ]
  },
  {
   "cell_type": "code",
   "execution_count": 49,
   "metadata": {
    "collapsed": false
   },
   "outputs": [
    {
     "name": "stdout",
     "output_type": "stream",
     "text": [
      "Account: 0xAD4c0912D2562b7072780A2F0FB2749D749B14fB\n",
      "Balance before: 99944817720000000000\n",
      "--- new C1 ---\n",
      "c1 address by 'new': 0xc71cC556bf5C9c4694062BF4752768F65d9349Dc\n",
      "7\n",
      "--- set the above deployed address of C1 ---\n",
      "c1 address by 'setC1()': 0xc71cC556bf5C9c4694062BF4752768F65d9349Dc\n",
      "7\n",
      "222\n",
      "Balance after: 99943864880000000000\n",
      "Balance diff: 952839999995904\n"
     ]
    }
   ],
   "source": [
    "!node src/C2Use.js"
   ]
  },
  {
   "cell_type": "code",
   "execution_count": null,
   "metadata": {
    "collapsed": true
   },
   "outputs": [],
   "source": []
  },
  {
   "cell_type": "markdown",
   "metadata": {
    "slideshow": {
     "slide_type": "slide"
    }
   },
   "source": [
    "## 실습: 자동차와 엔진 컨트랙: new 명령어 사용\n",
    "\n",
    "동일한 파일에 2개의 컨트랙을 넣어서 개발해 보자."
   ]
  },
  {
   "cell_type": "markdown",
   "metadata": {
    "slideshow": {
     "slide_type": "subslide"
    }
   },
   "source": [
    "### 단계 1: 컨트랙 개발\n",
    "\n",
    "Line | 설명\n",
    "-----|-----\n",
    "1 | major version 6 이상 최신으로 컴파일\n",
    "2 | contract 명. 컨트랙이 2개 포함된 경우, 파일명과 반드시 일치할 필요가 없다.\n",
    "4 | ```Engine```을 포함하고, ```constructor```에서 할당한다.\n",
    "26 ~ 31 | ```start()```은 ```engineObj.on()``` 엔진을 켠다. 그리고 엔진상태를 이벤트로 발생한다.\n",
    "52 ~ 60 | ```speed```가 0 ~ 최대속도 범위 내에서 속도를 증감하도록 한다. 감속을 위해 음수를 사용할 수 있도록 ```int```를 적용하면 ```uint```로 형변환이 필요함."
   ]
  },
  {
   "cell_type": "code",
   "execution_count": 15,
   "metadata": {
    "collapsed": false
   },
   "outputs": [
    {
     "name": "stdout",
     "output_type": "stream",
     "text": [
      "Overwriting src/Car.sol\n"
     ]
    }
   ],
   "source": [
    "%%writefile src/Car.sol\n",
    "pragma solidity ^0.6.0;\n",
    "//pragma solidity 0.4.21;\n",
    "contract Car {\n",
    "    Engine engineObj;\n",
    "    string private color;\n",
    "    event PrintLog(address sender, string msg);\n",
    "\n",
    "    constructor() public {\n",
    "        engineObj = new Engine();\n",
    "    }\n",
    "    function setColor(string memory _color) public {\n",
    "        color=_color;\n",
    "    }\n",
    "    function getColor() public view returns(string memory) {\n",
    "        return color;\n",
    "    }\n",
    "    function getSpeed() public view returns(uint) {\n",
    "        return engineObj.getSpeed();\n",
    "    }\n",
    "    function speedUpBy10() public {\n",
    "        engineObj.setSpeedUpBy(10);\n",
    "    }\n",
    "    function speedDownBy10() public {\n",
    "        engineObj.setSpeedDownBy(10);   \n",
    "    }\n",
    "    function start() public {\n",
    "        engineObj.on();\n",
    "        //convert bool to string\n",
    "        string memory engineStateStr=engineObj.getEngineState()? \"on\" : \"off\";\n",
    "        emit PrintLog(msg.sender, engineStateStr);\n",
    "    }\n",
    "}\n",
    "\n",
    "contract Engine {\n",
    "    uint constant private MAXSPEED = 200;\n",
    "    uint private speed;\n",
    "    bool private engineState;\n",
    "\n",
    "    constructor() public {\n",
    "        speed = 0;\n",
    "        off();\n",
    "    }\n",
    "    function on() public {\n",
    "        engineState = true;\n",
    "    }\n",
    "    function off() public {\n",
    "        engineState = false;\n",
    "    }\n",
    "    function getEngineState() public view returns(bool){\n",
    "        return engineState;\n",
    "    }\n",
    "    function setSpeedUpBy(uint _speed) public {\n",
    "        if(speed < (MAXSPEED - 10) && engineState == true)\n",
    "            speed += _speed;\n",
    "    }\n",
    "    // int _speed -> needs casting to uint (speed)\n",
    "    function setSpeedDownBy(uint _speed) public {\n",
    "        if((speed - 10) > 0  && engineState == true)\n",
    "            speed -= _speed;\n",
    "    }\n",
    "    function getSpeed() public view returns(uint) {\n",
    "        return speed;\n",
    "    }\n",
    "}"
   ]
  },
  {
   "cell_type": "markdown",
   "metadata": {
    "slideshow": {
     "slide_type": "subslide"
    }
   },
   "source": [
    "### 단계 2: 컴파일\n",
    "\n",
    "현재 설치되어 있는 버전 0.6으로 컴파일 해서, abi, bin을 구한다.\n",
    "버전이 다른 경우, REMIX에서 컴파일한다."
   ]
  },
  {
   "cell_type": "code",
   "execution_count": 16,
   "metadata": {
    "collapsed": false
   },
   "outputs": [],
   "source": [
    "!solc src/Car.sol --combined-json abi,bin > src/Car.json"
   ]
  },
  {
   "cell_type": "markdown",
   "metadata": {
    "slideshow": {
     "slide_type": "subslide"
    }
   },
   "source": [
    "### 단계 3: 배포"
   ]
  },
  {
   "cell_type": "code",
   "execution_count": 1,
   "metadata": {
    "collapsed": false
   },
   "outputs": [
    {
     "name": "stdout",
     "output_type": "stream",
     "text": [
      "Overwriting src/carDeploy.js\n"
     ]
    }
   ],
   "source": [
    "%%writefile src/carDeploy.js\n",
    "var Web3=require('web3');\n",
    "var web3=new Web3(new Web3.providers.HttpProvider(\"http://117.16.44.45:8345\"));\n",
    "var fs=require('fs');\n",
    "var _str = fs.readFileSync(\"src/Car.json\");\n",
    "var _json=JSON.parse(_str)\n",
    "//var _abiArray=JSON.parse(_json.contracts.sHello2.abi);\n",
    "var _abiArray=JSON.parse(_json.contracts[\"src/Car.sol:Car\"].abi);\n",
    "//var _bin=_json.contracts.sHello2.bin;\n",
    "var _bin=\"0x\"+_json.contracts[\"src/Car.sol:Car\"].bin;\n",
    "\n",
    "//unlock the account with a password provided\n",
    "//web3.personal.unlockAccount(web3.eth.accounts[0],'password');\n",
    "async function deploy() {\n",
    "    const accounts = await web3.eth.getAccounts();\n",
    "    console.log(\"Deploying the contract from \" + accounts[0]);\n",
    "    var deployed = await new web3.eth.Contract(_abiArray)\n",
    "        .deploy({data: _bin})\n",
    "        .send({from: accounts[0], gas: 1000000})\n",
    "        .on('transactionHash', function(hash){\n",
    "            console.log(\">>> transactionHash\"+hash);\n",
    "        })\n",
    "        .on('receipt', function(receipt){\n",
    "            console.log(\">>> RECEPIT hash: \" + receipt.transactionHash + \"\\n>>> address:\" + receipt.contractAddress);\n",
    "        })\n",
    "        .on('error', function(error, receipt) {\n",
    "            console.log(\">>> ERROR \"+error);\n",
    "        });\n",
    "        //.then(function(newContractInstance){\n",
    "        //    console.log(newContractInstance.options.address)\n",
    "        //});\n",
    "    console.log(\"---> The contract deployed to: \" + deployed.options.address)\n",
    "}\n",
    "deploy()\n"
   ]
  },
  {
   "cell_type": "code",
   "execution_count": 2,
   "metadata": {
    "collapsed": false
   },
   "outputs": [
    {
     "name": "stdout",
     "output_type": "stream",
     "text": [
      "Deploying the contract from 0x6DbfE74e38B1157F5AFA5F9122AD9C56671Fc50E\n",
      ">>> transactionHash0xf23a81b3f842ebbf385065f238dae116b768ba48c7d8e2b3c87b428ea48ef814\n",
      ">>> RECEPIT hash: 0xf23a81b3f842ebbf385065f238dae116b768ba48c7d8e2b3c87b428ea48ef814\n",
      ">>> address:0xd47b1A1c9D52730F6D8c44247241f3CC2786B9E9\n",
      "---> The contract deployed to: 0xd47b1A1c9D52730F6D8c44247241f3CC2786B9E9\n"
     ]
    }
   ],
   "source": [
    "!node src/carDeploy.js"
   ]
  },
  {
   "cell_type": "markdown",
   "metadata": {
    "slideshow": {
     "slide_type": "subslide"
    }
   },
   "source": [
    "### 단계 4: 사용\n",
    "아래를 실행하면 다음 결과\n",
    "\n",
    "```python\n",
    "> car.getColor.call();\n",
    "'RED'\n",
    "```"
   ]
  },
  {
   "cell_type": "code",
   "execution_count": 1,
   "metadata": {
    "collapsed": false
   },
   "outputs": [
    {
     "name": "stdout",
     "output_type": "stream",
     "text": [
      "Overwriting src/carUse.js\n"
     ]
    }
   ],
   "source": [
    "%%writefile src/carUse.js\n",
    "var Web3=require('web3');\n",
    "//var web3=new Web3(new Web3.providers.HttpProvider(\"http://117.16.44.45:8345\"));         //nok\n",
    "//var web3 = new Web3(new Web3.providers.WebsocketProvider(\"http://117.16.44.45:8345\"));  //ok\n",
    "var web3 = new Web3(new Web3.providers.WebsocketProvider(\"ws://117.16.44.45:8345\"));\n",
    "var fs=require('fs');\n",
    "var _str = fs.readFileSync(\"src/Car.json\");\n",
    "var _json=JSON.parse(_str)\n",
    "//var _abiArray=JSON.parse(_json.contracts.sHello2.abi);\n",
    "var _abiArray=JSON.parse(_json.contracts[\"src/Car.sol:Car\"].abi);\n",
    "\n",
    "async function doIt() {\n",
    "    var car = new web3.eth.Contract(_abiArray, \"0xd47b1A1c9D52730F6D8c44247241f3CC2786B9E9\");\n",
    "    car.events.PrintLog({fromBlock: 'latest', toBlock:'pending'}, function (error, event) {\n",
    "            console.log(\">>> Event fired: \" + JSON.stringify(event.returnValues));\n",
    "        }).on('>> data', function(event){\n",
    "            console.log(event); // same results as the optional callback above\n",
    "        }).on('>> changed', function(event){\n",
    "            console.log(event); // remove event from local database\n",
    "        }).on('>> error', console.error);\n",
    "\n",
    "    var speed;\n",
    "    const accounts = await web3.eth.getAccounts();\n",
    "    console.log(\"Account: \" + accounts[0]);\n",
    "    const balanceBefore = await web3.eth.getBalance(accounts[0]);\n",
    "    console.log(\"Balance before: \" + balanceBefore);\n",
    "    car.methods.setColor(\"RED\").send({from: accounts[0], gas:100000});\n",
    "    car.methods.getColor().call().then(console.log);\n",
    "    await car.methods.start().send({from: accounts[0], gas:100000})\n",
    "    await car.methods.speedUpBy10().send({from: accounts[0], gas:100000})\n",
    "    car.methods.getSpeed().call().then(function(speed) { console.log(\"-> speed: \" + speed) });\n",
    "    await car.methods.start().send({from: accounts[0], gas:100000})\n",
    "    await car.methods.speedUpBy10().send({from: accounts[0], gas:100000})\n",
    "    car.methods.getSpeed().call().then(function(speed) { console.log(\"-> speed: \" + speed) });\n",
    "    await car.methods.speedDownBy10().send({from: accounts[0], gas:100000})\n",
    "    car.methods.getSpeed().call().then(function(speed) { console.log(\"-> speed: \" + speed) });\n",
    "    const balanceAfter = await web3.eth.getBalance(accounts[0]);\n",
    "    console.log(\"Balance after: \" + balanceAfter);\n",
    "    console.log(\"Balance diff: \" + (balanceBefore - balanceAfter));\n",
    "}\n",
    "\n",
    "doIt()\n"
   ]
  },
  {
   "cell_type": "code",
   "execution_count": null,
   "metadata": {
    "collapsed": false,
    "scrolled": true
   },
   "outputs": [
    {
     "name": "stdout",
     "output_type": "stream",
     "text": [
      "Account: 0x6DbfE74e38B1157F5AFA5F9122AD9C56671Fc50E\n",
      "Balance before: 99956307280000000000\n",
      "RED\n",
      ">>> Event fired: {\"0\":\"0x6DbfE74e38B1157F5AFA5F9122AD9C56671Fc50E\",\"1\":\"on\",\"sender\":\"0x6DbfE74e38B1157F5AFA5F9122AD9C56671Fc50E\",\"msg\":\"on\"}\n",
      "-> speed: 90\n",
      ">>> Event fired: {\"0\":\"0x6DbfE74e38B1157F5AFA5F9122AD9C56671Fc50E\",\"1\":\"on\",\"sender\":\"0x6DbfE74e38B1157F5AFA5F9122AD9C56671Fc50E\",\"msg\":\"on\"}\n",
      "-> speed: 100\n",
      "-> speed: 90\n",
      "Balance after: 99952940540000000000\n",
      "Balance diff: 3366739999997952\n"
     ]
    }
   ],
   "source": [
    "!node src/carUse.js"
   ]
  },
  {
   "cell_type": "markdown",
   "metadata": {
    "slideshow": {
     "slide_type": "slide"
    }
   },
   "source": [
    "## 실습: 사각형과 면적 컨트랙: new 명령어 사용\n",
    "\n",
    "SquareArea passing address"
   ]
  },
  {
   "cell_type": "markdown",
   "metadata": {
    "slideshow": {
     "slide_type": "subslide"
    }
   },
   "source": [
    "### 단계 1: 컨트랙 개발"
   ]
  },
  {
   "cell_type": "code",
   "execution_count": 1,
   "metadata": {
    "collapsed": false,
    "slideshow": {
     "slide_type": "-"
    }
   },
   "outputs": [
    {
     "name": "stdout",
     "output_type": "stream",
     "text": [
      "Overwriting src/SquareArea.sol\n"
     ]
    }
   ],
   "source": [
    "%%writefile src/SquareArea.sol\n",
    "pragma solidity ^0.6.0;\n",
    "//pragma solidity 0.4.21;\n",
    "\n",
    "contract Square {\n",
    "    uint128 length;\n",
    "    function getLength() public view returns(uint128) {\n",
    "        return length;\n",
    "    }\n",
    "    function setLength(uint128 _length) public {\n",
    "        length=_length;\n",
    "    }\n",
    "    function getDegree() public pure returns(uint128) {\n",
    "        return 90;\n",
    "    }\n",
    "}\n",
    "\n",
    "contract Area {\n",
    "    Square s;\n",
    "    address owner;\n",
    "    //event PrintLog(uint128);\n",
    "    //function Area() public {\n",
    "    constructor() public {\n",
    "        s = new Square();\n",
    "        owner = msg.sender;\n",
    "    }\n",
    "    function changeSquare(address _addressOfSquare) public {\n",
    "        s=Square(_addressOfSquare);\n",
    "    }\n",
    "    function calcArea() view public returns(uint128) {\n",
    "        uint128 length = s.getLength();\n",
    "        uint128 area = length*length;\n",
    "        //emit PrintLog(area);\n",
    "        return area;\n",
    "    }\n",
    "    function setLength(uint128 _length) public {\n",
    "        s.setLength(_length);\n",
    "    }\n",
    "    function getLength() public view returns(uint128) {\n",
    "        return s.getLength();\n",
    "    }\n",
    "    function getDegree() public view returns(uint128) {\n",
    "        return s.getDegree();\n",
    "    }\n",
    "    function getAddressOfSquare() public view returns(address) {\n",
    "        return address(s);\n",
    "    }\n",
    "}\n"
   ]
  },
  {
   "cell_type": "markdown",
   "metadata": {
    "scrolled": true,
    "slideshow": {
     "slide_type": "subslide"
    }
   },
   "source": [
    "### 단계 2: 컴파일\n"
   ]
  },
  {
   "cell_type": "code",
   "execution_count": 2,
   "metadata": {
    "collapsed": false
   },
   "outputs": [],
   "source": [
    "!solc src/SquareArea.sol --combined-json abi,bin > src/SquareArea.json"
   ]
  },
  {
   "cell_type": "markdown",
   "metadata": {
    "slideshow": {
     "slide_type": "subslide"
    }
   },
   "source": [
    "### 단계 3: 컨트랙 배포"
   ]
  },
  {
   "cell_type": "code",
   "execution_count": 10,
   "metadata": {
    "collapsed": false
   },
   "outputs": [
    {
     "name": "stdout",
     "output_type": "stream",
     "text": [
      "Overwriting src/SquareAreaDeploy.js\n"
     ]
    }
   ],
   "source": [
    "%%writefile src/SquareAreaDeploy.js\n",
    "var Web3 = require('web3');\n",
    "var web3 = new Web3(new Web3.providers.HttpProvider(\"http://117.16.44.45:8345\"));\n",
    "var fs=require('fs');\n",
    "var _str = fs.readFileSync(\"src/SquareArea.json\");\n",
    "var _json=JSON.parse(_str)\n",
    "//var _abiArray = JSON.parse(_json.contracts.sHello2.abi);\n",
    "var _abiArray = JSON.parse(_json.contracts[\"src/SquareArea.sol:Area\"].abi);\n",
    "//var _bin = _json.contracts.sHello2.bin;\n",
    "var _bin = \"0x\" + _json.contracts[\"src/SquareArea.sol:Area\"].bin;\n",
    "\n",
    "//unlock the account with a password provided\n",
    "//web3.personal.unlockAccount(web3.eth.accounts[0],'password');\n",
    "async function deploy() {\n",
    "    const accounts = await web3.eth.getAccounts();\n",
    "    console.log(\"Deploying the contract from \" + accounts[0]);\n",
    "    var deployed = await new web3.eth.Contract(_abiArray)\n",
    "        .deploy({data: _bin})\n",
    "        .send({from: accounts[0], gas: 1000000})\n",
    "        .on('transactionHash', function(hash){\n",
    "            console.log(\">>> transactionHash\"+hash);\n",
    "        })\n",
    "        .on('receipt', function(receipt){\n",
    "            console.log(\">>> RECEPIT hash: \" + receipt.transactionHash + \"\\n>>> address:\" + receipt.contractAddress);\n",
    "        })\n",
    "        .on('error', function(error, receipt) {\n",
    "            console.log(\">>> ERROR \"+error);\n",
    "        });\n",
    "        //.then(function(newContractInstance){\n",
    "        //    console.log(newContractInstance.options.address)\n",
    "        //});\n",
    "    console.log(\"---> The contract deployed to: \" + deployed.options.address)\n",
    "}\n",
    "\n",
    "deploy()\n"
   ]
  },
  {
   "cell_type": "code",
   "execution_count": 11,
   "metadata": {
    "collapsed": false
   },
   "outputs": [
    {
     "name": "stdout",
     "output_type": "stream",
     "text": [
      "Deploying the contract from 0x0A2aca05EB30707F09C883A4b1881F775ACA4Fa8\n",
      ">>> transactionHash0xd5a4bd2033ddf42c43703f09687ac7475def381779ba5e976a17eca6e55743d4\n",
      ">>> RECEPIT hash: 0xd5a4bd2033ddf42c43703f09687ac7475def381779ba5e976a17eca6e55743d4\n",
      ">>> address:0x99c9e13Fb74Ec1B86Df5712CDF382757788C235C\n",
      "---> The contract deployed to: 0x99c9e13Fb74Ec1B86Df5712CDF382757788C235C\n"
     ]
    }
   ],
   "source": [
    "!node src/SquareAreaDeploy.js"
   ]
  },
  {
   "cell_type": "markdown",
   "metadata": {
    "slideshow": {
     "slide_type": "subslide"
    }
   },
   "source": [
    "### 단계 4: 사용"
   ]
  },
  {
   "cell_type": "code",
   "execution_count": null,
   "metadata": {
    "collapsed": true
   },
   "outputs": [],
   "source": [
    "```python\n",
    "> area.methods.getDegree().call().then(console.log);\n",
    "> 90\n",
    "> area.methods.setLength(9).send({from:\"0x9cd639aac746b3bbc85e386c05cf1ac74925112e\"});\n",
    "> //miner.start(1);admin.sleepBlocks(1);miner.stop();\n",
    "undefined\n",
    "> area.methods.getLength().call().then(console.log);\n",
    "> 9\n",
    "> area.methods.calcArea().send({from:\"0x9cd639aac746b3bbc85e386c05cf1ac74925112e\"});\n",
    "> //miner.start(1);admin.sleepBlocks(1);miner.stop();\n",
    "undefined\n",
    "> area.methods.calcArea().call().then(console.log);           로컬에서 처리되기 때문에 이전 면적계산 값 81을 반환\n",
    "> 81\n",
    "> area.methods.getAddressOfSquare().call().then(console.log);\n",
    "> 0x9f75D1A80D5715EED0962dd72d1d4E409DaCF037\n",
    "```"
   ]
  },
  {
   "cell_type": "markdown",
   "metadata": {
    "slideshow": {
     "slide_type": "subslide"
    }
   },
   "source": [
    "처음 실행하면 길이는 0이다. 그 다음 실행하면 9가 된다. 그 이유는 asynch방식이라 마이닝하지 않고 연달아 시행하면 마이닝 전의 결과가 나오기 때문에 그렇다."
   ]
  },
  {
   "cell_type": "code",
   "execution_count": 12,
   "metadata": {
    "collapsed": false
   },
   "outputs": [
    {
     "name": "stdout",
     "output_type": "stream",
     "text": [
      "Overwriting src/SquareAreaUse.js\n"
     ]
    }
   ],
   "source": [
    "%%writefile src/SquareAreaUse.js\n",
    "var Web3 = require('web3');\n",
    "//var web3 = new Web3(new Web3.providers.HttpProvider(\"http://117.16.44.45:8345\"));         //nok\n",
    "//var web3 = new Web3(new Web3.providers.WebsocketProvider(\"http://117.16.44.45:8345\"));  //ok\n",
    "var web3 = new Web3(new Web3.providers.WebsocketProvider(\"ws://117.16.44.45:8345\"));\n",
    "var fs=require('fs');\n",
    "var _str = fs.readFileSync(\"src/SquareArea.json\");\n",
    "var _json = JSON.parse(_str)\n",
    "//var _abiArray = JSON.parse(_json.contracts.sHello2.abi);\n",
    "var _abiArray = JSON.parse(_json.contracts[\"src/SquareArea.sol:Area\"].abi);\n",
    "\n",
    "async function doIt() {\n",
    "    var area = new web3.eth.Contract(_abiArray, \"0x99c9e13Fb74Ec1B86Df5712CDF382757788C235C\");\n",
    "    var speed;\n",
    "    const accounts = await web3.eth.getAccounts();\n",
    "    console.log(\"Account: \" + accounts[0]);\n",
    "    const balanceBefore = await web3.eth.getBalance(accounts[0]);\n",
    "    console.log(\"Balance before: \" + balanceBefore);\n",
    "    area.methods.getDegree().call().then(console.log);\n",
    "    await area.methods.setLength(9).send({from: accounts[0]});\n",
    "    area.methods.getLength().call().then(console.log);\n",
    "    //area.methods.calcArea().send({from: accounts[0]});\n",
    "    area.methods.calcArea().call().then(console.log);\n",
    "    area.methods.getAddressOfSquare().call().then(function(address) {\n",
    "        console.log(\"Square Address: \" + address);\n",
    "    });\n",
    "    const balanceAfter = await web3.eth.getBalance(accounts[0]);\n",
    "    console.log(\"Balance after: \" + balanceAfter);\n",
    "    console.log(\"Balance diff: \" + (balanceBefore - balanceAfter));\n",
    "}\n",
    "\n",
    "doIt()\n"
   ]
  },
  {
   "cell_type": "markdown",
   "metadata": {},
   "source": [
    "아래에서 구한 ```Square```의 주소는 다음 문제에서 ```changeSquare(address _addressOfSquare)```에 설정하여 사용해보자."
   ]
  },
  {
   "cell_type": "code",
   "execution_count": null,
   "metadata": {
    "collapsed": false,
    "scrolled": true
   },
   "outputs": [
    {
     "name": "stdout",
     "output_type": "stream",
     "text": [
      "Account: 0x0A2aca05EB30707F09C883A4b1881F775ACA4Fa8\n",
      "Balance before: 99973924640000000000\n",
      "90\n",
      "9\n",
      "81\n",
      "Square Address: 0x748929714418AaF173Cc14cB269BA246573a71eD\n",
      "Balance after: 99973043860000000000\n",
      "Balance diff: 880780000002048\n"
     ]
    }
   ],
   "source": [
    "!node src/SquareAreaUse.js"
   ]
  },
  {
   "cell_type": "markdown",
   "metadata": {
    "slideshow": {
     "slide_type": "slide"
    }
   },
   "source": [
    "## 실습: import 문을 사용하여 컨트랙 결합\n",
    "\n",
    "import문을 사용하여 Square.sol과 이를 사용하는 Area.sol을 \n"
   ]
  },
  {
   "cell_type": "markdown",
   "metadata": {},
   "source": [
    "### 단계 1: 컨트랙 개발\n",
    "\n",
    "#### Square\n",
    "\n",
    "```Square.sol```은 별도로 로컬 파일에 저장해서, ```Area.sol```에서 포함하도록 한다.\n",
    "```Square.sol```은 컴파일하지 않는다."
   ]
  },
  {
   "cell_type": "code",
   "execution_count": 1,
   "metadata": {
    "collapsed": false
   },
   "outputs": [
    {
     "name": "stdout",
     "output_type": "stream",
     "text": [
      "Overwriting src/Square.sol\n"
     ]
    }
   ],
   "source": [
    "%%writefile src/Square.sol\n",
    "pragma solidity ^0.6.0;\n",
    "//pragma solidity 0.4.21;\n",
    "\n",
    "contract Square {\n",
    "    uint128 length;\n",
    "    function getLength() public view returns(uint128) {\n",
    "        return length;\n",
    "    }\n",
    "    function setLength(uint128 _length) public {\n",
    "        length=_length;\n",
    "    }\n",
    "    function getDegree() public pure returns(uint128) {\n",
    "        return 90;\n",
    "    }\n",
    "}"
   ]
  },
  {
   "cell_type": "markdown",
   "metadata": {},
   "source": [
    "#### Area\n",
    "\n",
    "Square를 import할 때는 컴파일하는 Area.sol 기준으로 상대 경로 ```import \"./Square.sol\"```로 적어준다."
   ]
  },
  {
   "cell_type": "code",
   "execution_count": 2,
   "metadata": {
    "collapsed": false
   },
   "outputs": [
    {
     "name": "stdout",
     "output_type": "stream",
     "text": [
      "Overwriting src/Area.sol\n"
     ]
    }
   ],
   "source": [
    "%%writefile src/Area.sol\n",
    "pragma solidity ^0.6.0;\n",
    "//pragma solidity 0.4.21;\n",
    "\n",
    "import \"./Square.sol\";\n",
    "\n",
    "contract Area {\n",
    "    Square s;\n",
    "    address owner;\n",
    "    //event PrintLog(uint128);\n",
    "    //function Area() public {  //0.4.21\n",
    "    constructor() public {\n",
    "        s = new Square();\n",
    "        owner = msg.sender;\n",
    "    }\n",
    "    function changeSquare(address _addressOfSquare) public {\n",
    "        s=Square(_addressOfSquare);\n",
    "    }\n",
    "    function calcArea() view public returns(uint128) {\n",
    "        uint128 length = s.getLength();\n",
    "        uint128 area = length*length;\n",
    "        //emit PrintLog(area);\n",
    "        return area;\n",
    "    }\n",
    "    function setLength(uint128 _length) public {\n",
    "        s.setLength(_length);\n",
    "    }\n",
    "    function getLength() public view returns(uint128) {\n",
    "        return s.getLength();\n",
    "    }\n",
    "    function getDegree() public view returns(uint128) {\n",
    "        return s.getDegree();\n",
    "    }\n",
    "    function getAddressOfSquare() public view returns(address) {\n",
    "        return address(s);\n",
    "    }\n",
    "}"
   ]
  },
  {
   "cell_type": "markdown",
   "metadata": {
    "collapsed": true
   },
   "source": [
    "### 단계 2: 컴파일\n",
    "\n",
    "import 문으로 포함했으니, Square를 컴파일해서, abi, bin를 필요하지 않는다."
   ]
  },
  {
   "cell_type": "code",
   "execution_count": 3,
   "metadata": {
    "collapsed": true
   },
   "outputs": [],
   "source": [
    "!solc src/Area.sol --combined-json abi,bin > src/Area.json"
   ]
  },
  {
   "cell_type": "markdown",
   "metadata": {
    "collapsed": true
   },
   "source": [
    "### 단계 3: 컨트랙 배포\n",
    "\n",
    "컴파일하고 Area.sol의 abi, bin만을 넣어준다. Square.sol의 abi,bin은 무시한다."
   ]
  },
  {
   "cell_type": "code",
   "execution_count": 1,
   "metadata": {
    "collapsed": false
   },
   "outputs": [
    {
     "name": "stdout",
     "output_type": "stream",
     "text": [
      "Overwriting src/AreaDeploy.js\n"
     ]
    }
   ],
   "source": [
    "%%writefile src/AreaDeploy.js\n",
    "var Web3 = require('web3');\n",
    "var web3 = new Web3(new Web3.providers.HttpProvider(\"http://117.16.44.45:8345\"));\n",
    "var fs = require('fs');\n",
    "var _str = fs.readFileSync(\"src/Area.json\");\n",
    "var _json = JSON.parse(_str)\n",
    "//var _abiArray = JSON.parse(_json.contracts.sHello2.abi);\n",
    "var _abiArray = JSON.parse(_json.contracts[\"src/Area.sol:Area\"].abi);\n",
    "//var _bin = _json.contracts.sHello2.bin;\n",
    "var _bin = \"0x\" + _json.contracts[\"src/Area.sol:Area\"].bin;\n",
    "\n",
    "//unlock the account with a password provided\n",
    "//web3.personal.unlockAccount(web3.eth.accounts[0],'password');\n",
    "async function deploy() {\n",
    "    const accounts = await web3.eth.getAccounts();\n",
    "    console.log(\"Deploying the contract from \" + accounts[0]);\n",
    "    var deployed = await new web3.eth.Contract(_abiArray)\n",
    "        .deploy({data: _bin})\n",
    "        .send({from: accounts[0], gas: 1000000}, function(err, transactionHash) {\n",
    "            if(!err) console.log(\"hash: \" + transactionHash); \n",
    "        })\n",
    "        //.then(function(newContractInstance){\n",
    "        //    console.log(newContractInstance.options.address)\n",
    "        //});\n",
    "    console.log(\"---> The contract deployed to: \" + deployed.options.address)\n",
    "}\n",
    "\n",
    "deploy()\n"
   ]
  },
  {
   "cell_type": "code",
   "execution_count": 15,
   "metadata": {
    "collapsed": false
   },
   "outputs": [
    {
     "name": "stdout",
     "output_type": "stream",
     "text": [
      "Deploying the contract from 0x0A2aca05EB30707F09C883A4b1881F775ACA4Fa8\n",
      "hash: 0x5f65d6f449e7d85fb4c1550e91385207eb4849af92c079ff3084932ee51dfbec\n",
      "---> The contract deployed to: 0x0b7bF4eaD0Ac5e4f8a301852F626fEeccA07b8c6\n"
     ]
    }
   ],
   "source": [
    "!node src/AreaDeploy.js"
   ]
  },
  {
   "cell_type": "markdown",
   "metadata": {},
   "source": [
    "### 단계 4: 사용\n",
    "\n",
    "함수 | 설명\n",
    "-----|-----\n",
    "```getAddressOfSquare()``` | 생성자에서 할당된 Square 주소, 즉 ```import ./Square.sol```에서 가져온 ```new Square()```의 주소. 주소 없이 ```new Square()```라고 해도 문제없이 실행이 된다. 즉, ```import```문을 사용하면 주소없이 컨트랙을 생성해서 사용할 수 있다는 의미이다.\n",
    "```setLength()``` | 길이 설정하고\n",
    "```calcArea()``` | 설정된 길이로 면적을 계산\n",
    "```changeSquare('0x748929714418AaF173Cc14cB269BA246573a71eD')``` | 주소를 재설정. 위에서 주소를 넣는다. 즉, 앞서 ```SquareArea.sol```을 컴파일하고 ```getAddressOfSquare()```에서 구한 ```Square```의 주소를 넣어 ```Square```를 교체하여 보자.  단 주소에 따옴표를 해야 한다. 그러고 나서 기능이 적절히 수행되는지 확인해 보자."
   ]
  },
  {
   "cell_type": "code",
   "execution_count": 16,
   "metadata": {
    "collapsed": false
   },
   "outputs": [
    {
     "name": "stdout",
     "output_type": "stream",
     "text": [
      "Overwriting src/AreaUse.js\n"
     ]
    }
   ],
   "source": [
    "%%writefile src/AreaUse.js\n",
    "var Web3=require('web3');\n",
    "var web3=new Web3(new Web3.providers.HttpProvider(\"http://117.16.44.45:8345\"));       //nok\n",
    "//var web3 = new Web3(new Web3.providers.WebsocketProvider(\"http://117.16.44.45:8345\"));  //ok\n",
    "//var web3 = new Web3(new Web3.providers.WebsocketProvider(\"ws://117.16.44.45:8345\"));  //ok\n",
    "var fs=require('fs');\n",
    "var _str = fs.readFileSync(\"src/Area.json\");\n",
    "var _json = JSON.parse(_str)\n",
    "//var _abiArray = JSON.parse(_json.contracts.Area.abi);\n",
    "var _abiArray = JSON.parse(_json.contracts[\"src/Area.sol:Area\"].abi);\n",
    "\n",
    "async function doIt() {\n",
    "    var hello = new web3.eth.Contract(_abiArray, \"0x0b7bF4eaD0Ac5e4f8a301852F626fEeccA07b8c6\");\n",
    "    const accounts = await web3.eth.getAccounts();\n",
    "    console.log(\"Account: \" + accounts[0]);\n",
    "    const balanceBefore = await web3.eth.getBalance(accounts[0]);\n",
    "    console.log(\"Balance before: \" + balanceBefore);\n",
    "    // do by the Square address as set in the constructor\n",
    "    hello.methods.getAddressOfSquare().call(function(err, c1addr) {\n",
    "        if(!err) console.log(\">> Square address by 'new': \"+c1addr);\n",
    "    });\n",
    "    await hello.methods.setLength(10).send({from: accounts[0]});\n",
    "    hello.methods.getLength().call().then(console.log);\n",
    "    hello.methods.calcArea().call().then(console.log);\n",
    "    hello.methods.getDegree().call().then(console.log);\n",
    "    hello.methods.getAddressOfSquare().call().then(console.log);\n",
    "    //redo by the Square address as changed by changeSquare()\n",
    "    await hello.methods.changeSquare('0x748929714418AaF173Cc14cB269BA246573a71eD').send({from: accounts[0]});\n",
    "    hello.methods.getAddressOfSquare().call(function(err, c1addr) {\n",
    "        if(!err) console.log(\">> Square address by 'changeSquare: \"+c1addr);\n",
    "    });\n",
    "    await hello.methods.setLength(10).send({from: accounts[0]});\n",
    "    hello.methods.getLength().call().then(console.log);\n",
    "    hello.methods.calcArea().call().then(console.log);\n",
    "    hello.methods.getDegree().call().then(console.log);\n",
    "    hello.methods.getAddressOfSquare().call().then(console.log);\n",
    "    const balanceAfter = await web3.eth.getBalance(accounts[0]);\n",
    "    console.log(\"Balance after: \" + balanceAfter);\n",
    "    console.log(\"Balance diff: \" + (balanceBefore - balanceAfter));\n",
    "}\n",
    "\n",
    "doIt()\n"
   ]
  },
  {
   "cell_type": "code",
   "execution_count": 17,
   "metadata": {
    "collapsed": false,
    "scrolled": true
   },
   "outputs": [
    {
     "name": "stdout",
     "output_type": "stream",
     "text": [
      "Account: 0x0A2aca05EB30707F09C883A4b1881F775ACA4Fa8\n",
      "Balance before: 99954709760000000000\n",
      ">> Square address by 'new': 0x07cE6901B343abA0Fabe1098E360F7503De920cD\n",
      "10\n",
      "100\n",
      "90\n",
      "0x07cE6901B343abA0Fabe1098E360F7503De920cD\n",
      ">> Square address by 'changeSquare: 0x748929714418AaF173Cc14cB269BA246573a71eD\n",
      "10\n",
      "100\n",
      "90\n",
      "0x748929714418AaF173Cc14cB269BA246573a71eD\n",
      "Balance after: 99952778820000000000\n",
      "Balance diff: 1930939999993856\n"
     ]
    }
   ],
   "source": [
    "!node src/AreaUse.js"
   ]
  },
  {
   "cell_type": "markdown",
   "metadata": {},
   "source": [
    "2회 실행하면 생성자는 최초에만 실행되므로, ```Square```의 주소가 변경된 상태로 실행된다."
   ]
  },
  {
   "cell_type": "code",
   "execution_count": 18,
   "metadata": {
    "collapsed": false,
    "scrolled": false
   },
   "outputs": [
    {
     "name": "stdout",
     "output_type": "stream",
     "text": [
      "Account: 0x0A2aca05EB30707F09C883A4b1881F775ACA4Fa8\n",
      "Balance before: 99952778820000000000\n",
      ">> Square address by 'new': 0x748929714418AaF173Cc14cB269BA246573a71eD\n",
      "10\n",
      "100\n",
      "90\n",
      "0x748929714418AaF173Cc14cB269BA246573a71eD\n",
      ">> Square address by 'changeSquare: 0x748929714418AaF173Cc14cB269BA246573a71eD\n",
      "10\n",
      "100\n",
      "90\n",
      "0x748929714418AaF173Cc14cB269BA246573a71eD\n",
      "Balance after: 99951339880000000000\n",
      "Balance diff: 1438940000010240\n"
     ]
    }
   ],
   "source": [
    "!node src/AreaUse.js"
   ]
  },
  {
   "cell_type": "code",
   "execution_count": null,
   "metadata": {
    "collapsed": true
   },
   "outputs": [],
   "source": []
  }
 ],
 "metadata": {
  "kernelspec": {
   "display_name": "Python 3",
   "language": "python",
   "name": "python3"
  },
  "language_info": {
   "codemirror_mode": {
    "name": "ipython",
    "version": 3
   },
   "file_extension": ".py",
   "mimetype": "text/x-python",
   "name": "python",
   "nbconvert_exporter": "python",
   "pygments_lexer": "ipython3",
   "version": "3.6.9"
  }
 },
 "nbformat": 4,
 "nbformat_minor": 1
}
