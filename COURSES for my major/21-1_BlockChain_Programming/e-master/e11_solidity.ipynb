{
 "cells": [
  {
   "cell_type": "markdown",
   "metadata": {
    "slideshow": {
     "slide_type": "slide"
    }
   },
   "source": [
    "#  11. Solidity 제어, 데이터구조\n",
    "\n",
    "* Last Updated 20200606SAT1200 20190120SUN0000 20180707SAT1300 20170112\n",
    "* todo: 1) ```watch``` 2) library ```myLib+StringUtils``` 3) 계정에서 발생한 거래의 목록? 4) registry\n",
    "\n",
    "## 9.1 학습내용\n",
    "\n",
    "### 9.1.1 목표\n",
    " \n",
    "* solidity 배우기"
   ]
  },
  {
   "cell_type": "markdown",
   "metadata": {
    "slideshow": {
     "slide_type": "slide"
    }
   },
   "source": [
    "### 9.1.2 목차\n",
    "\n",
    "* 9.6 [제어](#9.6)\n",
    "    * 문제 Hello World Contract - 이름정하고, 헬로우 할 때 알아내기\n",
    "* 9.7 데이터구조\n",
    "    * 9.7.1 Array\n",
    "    * 9.7.2 [mapping](#S.5.2)\n",
    "    * 실습 Members\n",
    "    * 실습 BankV4\n",
    "* 9.8 [Exception](#9.6)\n"
   ]
  },
  {
   "cell_type": "markdown",
   "metadata": {
    "slideshow": {
     "slide_type": "slide"
    }
   },
   "source": [
    "## 9.6 제어\n",
    "<a id='11.4'></a>\n",
    "\n",
    "\n",
    "### 9.6.1 반복문\n",
    "블록체인에서의 프로그램은 명령문마다 비용이 발생하는 특성을 가지고 있기 때문에, 반복을 하게되면 비용이 발생하게 된다.\n",
    "gas가 반복마다 소비되고 한도 gasLimit를 초과하게 되면 실행이 중지될 수 밖에 없다.\n",
    "\n",
    "* for문\n",
    "```python\n",
    "function getSum() public returns(uint) {\n",
    "    uint sum=0;\n",
    "    for(uint i=0;i<10;i++)\n",
    "        sum+=i;\n",
    "    return sum;\n",
    "}\n",
    "```\n",
    "\n",
    "* while문\n",
    "```python\n",
    "function getSum() public returns(uint) {\n",
    "    uint sum=0;\n",
    "    uint i=0;\n",
    "    do {\n",
    "        sum+=i;\n",
    "        i++;\n",
    "    } while(i<10);\n",
    "    return sum;\n",
    "}\n",
    "```"
   ]
  },
  {
   "cell_type": "markdown",
   "metadata": {
    "collapsed": true
   },
   "source": [
    "반복횟수에 따라 gas비용이 급증하는 것을 볼 수 있다.\n",
    "특히 sum 변수를 메모리에 두는 경우에 비해, storage에 (state variable) 두는 경우 비용이 매우 높았다.\n",
    "메모리를 사용하는 것에 비해 Storage가 많이 비용이 많이 든다.\n",
    "\n",
    "반복 횟수 | sum을 로컬에 두는 경우 | sum을 state variable에 두는 경우\n",
    "-----|-----|-----\n",
    "10 | 약 30,000 (23845 + 6773)  |  약 64,000 (43045 + 21773)\n",
    "100 | 약 78,000 (49345 + 28073)  |  약 368,000 (192881 + 175809)\n",
    "1000 | 약 203,000 (112345 + 91073) | 약 3,408,000 (1712981 + 1695909)\n",
    "10000 | REMIX가 죽고, 다시 실행 | 좌동"
   ]
  },
  {
   "cell_type": "code",
   "execution_count": 10,
   "metadata": {
    "collapsed": false
   },
   "outputs": [
    {
     "name": "stdout",
     "output_type": "stream",
     "text": [
      "Writing src/ControlFlowTest.sol\n"
     ]
    }
   ],
   "source": [
    "%%writefile src/ControlFlowTest.sol\n",
    "pragma solidity ^0.6.0;\n",
    "contract ControlFlowTest {\n",
    "    uint sum;\n",
    "    constructor() public {\n",
    "        sum = 0;\n",
    "    }\n",
    "    function doForLoop() public {\n",
    "        //sum = 0;\n",
    "        uint sumLocal = 0;\n",
    "        for(uint i = 0; i < 101; i++) {\n",
    "            sumLocal += i;\n",
    "        }\n",
    "        sum = sumLocal;\n",
    "    }\n",
    "    function doForLoop2() public {\n",
    "        sum = 0;\n",
    "        //uint sumLocal = 0;\n",
    "        for(uint i = 0; i < 101; i++) {\n",
    "            //sumLocal += i;\n",
    "            sum += i;\n",
    "        }\n",
    "        //sum = sumLocal;\n",
    "    }\n",
    "    function getSum() view public returns(uint) {\n",
    "        return sum;\n",
    "    }\n",
    "}"
   ]
  },
  {
   "cell_type": "markdown",
   "metadata": {
    "slideshow": {
     "slide_type": "subslide"
    }
   },
   "source": [
    "* switch, goto를 제외하고, 다른 언어에서 제공하는 if, else, while, do, for, break, continue, return, ?\n",
    "\n",
    "```python\n",
    "if(condition) {\n",
    "    ...\n",
    "} else if {\n",
    "    ...\n",
    "}\n",
    "```\n",
    "\n",
    "* 삼항 연산자 ternary operator\n",
    "```python\n",
    "betAmount=betAmount>amount ? amount : betAmount;\n",
    "```"
   ]
  },
  {
   "cell_type": "markdown",
   "metadata": {},
   "source": [
    "## 실습: 인사하는 컨트랙\n",
    "\n",
    "\"Hello\"를 출력하는 프로그램을 수정해서 if문을 사용해 보자.\n",
    "modifier를 사용하면 조건문을 사용하지 않을 수 있다.\n",
    "조건문에서 비교문을 사용하게 되는데, ```string```은 참조타입이라 비교를 하면 주소를 비교하게 된다. 어떻게 해야 하는지 생각해보자.\n",
    "\n",
    "```python\n",
    "contract Hello1 {\n",
    "    function sayHello() \n",
    "    modifier isOwner()\n",
    "    function setHello()\n",
    "    function compareTo(string memory _str)\n",
    "    function getBalance()\n",
    "}\n",
    "```"
   ]
  },
  {
   "cell_type": "markdown",
   "metadata": {},
   "source": [
    "###  단계 1: 컨트랙 개발\n",
    "\n",
    "Line | 설명\n",
    "-----|-----\n",
    "1 | major version 6 이상 최신으로 컴파일\n",
    "2 | contract 명. 파일명과 반드시 일치할 필요가 없다.\n",
    "3 | 속성 ```hello```. 누구나 사용할 수 없도록 ```private```\n",
    "4 | 속성 ```address```. ```private```으로 자신만 사용할 수 있게 선언.\n",
    "5 | ```event```로서 주소, 문자열 인자를 출력한다. Solidity에는 print문이 별도로 없다. 문자열을 반환하거나 ```event```문으로 출력할 수 있다.\n",
    "6 ~ 9 | 생성자로서 외부에서 인자를 받아 속성을 초기화. ```constructor```는 ```public``` 또는 ```internal```로 선언해야 한다. 속성 값을 넣어준다. ```msg```는 전역변수로서 ```msg.sender```는 전송자의 계정주소를 말한다. 생성자의 ```msg.sender```를 컨트랙의 소유주 ```owner```로 등록한다.\n",
    "10 ~ 12 | ```sayHello()``` 함수는 속성 값을 읽는다. 따라서 ```view```로 선언한다. 인자는 함수 내에서만 잠시 사용하므로 ```memory```로 선언\n",
    "13 ~ 18 | ```modifier``` 함수. ```msg.sender```와 ```owner```가 일치하지 않으면 예외처리한다. 아니면 계속 실행.\n",
    "19 ~ 29 | ```setHello()``` 함수는 ```event```함수를 가지고 있으므로 ```view```로 선언하지 않는다. ```view```와 ```event```는 같이 사용할 수 없다. ```event```는 상태를 변경하기 때문이다.\n",
    "30 ~ 37 | ```compareTo()```함수는 입력문자열과 hello를 비교한다. 문자열은 참조값이기 때문에 비교할 경우 참조를 비교하게 되므로 주의를 해야한다. hash로 비교하고 있다.\n",
    "38 ~ 40 | 잔고를 구한다.\n"
   ]
  },
  {
   "cell_type": "code",
   "execution_count": 2,
   "metadata": {
    "collapsed": false
   },
   "outputs": [
    {
     "name": "stdout",
     "output_type": "stream",
     "text": [
      "Overwriting src/Hello1.sol\n"
     ]
    }
   ],
   "source": [
    "%%writefile src/Hello1.sol\n",
    "pragma solidity ^0.6.0;\n",
    "contract Hello1 {\n",
    "    string private hello;\n",
    "    address private owner;\n",
    "    event PrintLog(address addr, string s);\n",
    "    constructor(string memory _hello) public {\n",
    "        hello = _hello;\n",
    "        owner = msg.sender;\n",
    "    }\n",
    "    function sayHello() view public returns(string memory) {\n",
    "        return hello;\n",
    "    }\n",
    "    modifier isOwner() {\n",
    "        if (msg.sender != owner) {\n",
    "            revert();\n",
    "        }\n",
    "        _; //continue executing rest of method body\n",
    "    }\n",
    "    function setHello() public {\n",
    "        string memory s = \"\";\n",
    "        if (msg.sender == owner) {\n",
    "            s = \"Hello\";\n",
    "            emit PrintLog(msg.sender, s);\n",
    "        } else {\n",
    "            s = \"Olleh\";\n",
    "            emit PrintLog(msg.sender, s);\n",
    "        }\n",
    "        hello = s;\n",
    "    }\n",
    "    function compareTo(string memory _str) view public returns(bool) {\n",
    "        bool isEqual = false;\n",
    "        //if (hello == _str) {\n",
    "        if (keccak256(bytes(hello)) == keccak256(bytes(_str))) {\n",
    "            isEqual = true;\n",
    "        }\n",
    "        return isEqual;\n",
    "    }\n",
    "    function getBalance() view public isOwner returns(uint) {\n",
    "        return address(this).balance;\n",
    "    }\n",
    "}\n"
   ]
  },
  {
   "cell_type": "markdown",
   "metadata": {},
   "source": [
    "### 단계 2: 컴파일"
   ]
  },
  {
   "cell_type": "code",
   "execution_count": 2,
   "metadata": {
    "collapsed": false,
    "scrolled": true
   },
   "outputs": [],
   "source": [
    "!solc src/Hello1.sol --combined-json abi,bin > src/Hello1.json"
   ]
  },
  {
   "cell_type": "markdown",
   "metadata": {},
   "source": [
    "### 단계 3: 배포\n",
    "\n",
    "bytecode는 16진수이므로 앞에 ```0x```를 붙여준다.\n",
    "gas를 지급해야 하는 등 비용이 발생하는 경우에는 반드시 web3.personal.unlockAccount()를 해주어야 한다.\n",
    "REMIX를 사용하면, Web3 deploy를 복사해서 사용할 수 있다. abi, bin을 넣은 javascript명령문을 발견할 수 있다."
   ]
  },
  {
   "cell_type": "code",
   "execution_count": 7,
   "metadata": {
    "collapsed": false
   },
   "outputs": [
    {
     "name": "stdout",
     "output_type": "stream",
     "text": [
      "Writing src/Hello1DeployFromFile.js\n"
     ]
    }
   ],
   "source": [
    "%%writefile src/Hello1DeployFromFile.js\n",
    "var Web3 = require('web3');\n",
    "var web3 = new Web3(new Web3.providers.HttpProvider(\"http://117.16.44.45:8345\"));\n",
    "var fs=require('fs');\n",
    "var _str = fs.readFileSync(\"src/Hello1.json\");\n",
    "var _json = JSON.parse(_str)\n",
    "//var _abiArray = JSON.parse(_json.contracts.sHello2.abi);\n",
    "var _abiArray = JSON.parse(_json.contracts[\"src/Hello1.sol:Hello1\"].abi);\n",
    "//var _bin = _json.contracts.sHello2.bin;\n",
    "var _bin=\"0x\" + _json.contracts[\"src/Hello1.sol:Hello1\"].bin;\n",
    "\n",
    "//unlock the account with a password provided\n",
    "//web3.personal.unlockAccount(web3.eth.accounts[0],'password');\n",
    "async function deploy() {\n",
    "    const accounts = await web3.eth.getAccounts();\n",
    "    console.log(\"Deploying the contract from \" + accounts[0]);\n",
    "    var deployed = await new web3.eth.Contract(_abiArray)\n",
    "        .deploy({data: _bin, arguments: [\"Hello from web3\"]})\n",
    "        .send({from: accounts[0], gas: 1000000}, function(err, transactionHash) {\n",
    "                if(!err) console.log(\"hash: \" + transactionHash); \n",
    "        })\n",
    "        //.then(function(newContractInstance){\n",
    "        //    console.log(newContractInstance.options.address)\n",
    "        //});\n",
    "    console.log(\"---> The contract deployed to: \" + deployed.options.address)\n",
    "}\n",
    "deploy()\n"
   ]
  },
  {
   "cell_type": "code",
   "execution_count": 8,
   "metadata": {
    "collapsed": false
   },
   "outputs": [
    {
     "name": "stdout",
     "output_type": "stream",
     "text": [
      "Deploying the contract from 0x28E9D5b10083b74406b50cbb7B48a299BA6C8Be1\n",
      "hash: 0xf1d660888318cc1428289aa1481a2fd1bf8e968eed9f408c9d7192656dccfa35\n",
      "---> The contract deployed to: 0xA43f621f0bAFfce634E43858Fb72809f050049E4\n"
     ]
    }
   ],
   "source": [
    "!node src/Hello1Deploy.js"
   ]
  },
  {
   "cell_type": "markdown",
   "metadata": {},
   "source": [
    "개인망을 띄우고, node로 Hello1Deploy.js를 실행하면 화면좌측에 보이듯이 transaction이 생성되고 그 hash값 이 주어진다.\n",
    "\n",
    "우측 geth 단말에서 보듯이 대기중 transaction hash 값이 서로 일치한다.\n",
    "마이닝을 하고 나면 contract 주소가 주어진다.\n",
    "\n",
    "```\n",
    "INFO [01-08|11:37:07.548] Submitted contract creation\n",
    "fullhash=0x2ef00671e310f594dca636acbc352ce61463e78110e8098b0d483c8374643248\n",
    "contract=0x96d8b65B4586B090840d6587C216D4A69071F405\n",
    "```\n",
    "\n",
    "![alt text](figures/sol_helloV1Web3DeployMining.png \"deploy hello.sol using web3 with mining\")"
   ]
  },
  {
   "cell_type": "markdown",
   "metadata": {
    "collapsed": true
   },
   "source": [
    "### REMIX에서 이벤트 확인하기\n",
    "\n",
    "* Environment를 Javascript VM으로\n",
    "* Deploy버튼 옆에 생성자 함수를 호출하기 위해 문자열 \"Hello from web3\"을 넣는다. 문자열에 따옴표를 잊지 않는다.\n",
    "* Deploy버튼을 누르면 \"Deployed Contracts\" 아래, Hello1 객체가 나타난다. 괄호안 메모리는 실제 블록체인에 배포되지 않았다는 의미 (Javascript VM이므로)\n",
    "* 속성 및 함수 버튼들을 눌러 결과가 출력되는지 보자.\n",
    "* setHello() 함수 버튼을 누르면 화면 우측 하단을 잘 살펴보자. 특히 굵은 글씨 \"logs\"를 누르면 하단에 표가 펼쳐지고 이벤트 로그를 볼 수 있다.\n",
    "\n",
    "![alt text](figures/sol_eventREMIX.png \"geth download page\")"
   ]
  },
  {
   "cell_type": "markdown",
   "metadata": {},
   "source": [
    "### 단계 4: 사용\n",
    "\n",
    "이벤트는 transaction log에 저장이 된다.\n",
    "이벤트는 거래가 마이닝되어 블럭에 포함되어야만 발생된다.\n",
    "트랙잭션이 pending되어 완료가 되지 않으면, 로그에 포함되지 않기 때문에 여기서 이벤틑가 발생하는지 지켜보는 경우 대기하게 된다.\n",
    "단 이벤트가 발생하는 순서는 지켜진다.\n",
    "단순하게 블록체인의 transaction이 아닌 ```call()```은 이벤트를 발생하지 않게 된다."
   ]
  },
  {
   "cell_type": "code",
   "execution_count": 1,
   "metadata": {
    "collapsed": false
   },
   "outputs": [
    {
     "name": "stdout",
     "output_type": "stream",
     "text": [
      "Overwriting src/Hello1UseFromFile.js\n"
     ]
    }
   ],
   "source": [
    "%%writefile src/Hello1UseFromFile.js\n",
    "var Web3=require('web3');\n",
    "//var web3=new Web3(new Web3.providers.HttpProvider(\"http://117.16.44.45:8345\"));       //nok\n",
    "var web3 = new Web3(new Web3.providers.WebsocketProvider(\"http://117.16.44.45:8345\"));  //ok\n",
    "//var web3 = new Web3(new Web3.providers.WebsocketProvider(\"ws://117.16.44.45:8345\"));  //ok\n",
    "var fs=require('fs');\n",
    "var _str = fs.readFileSync(\"src/Hello1.json\");\n",
    "var _json = JSON.parse(_str)\n",
    "//var _abiArray = JSON.parse(_json.contracts.Hello1.abi);\n",
    "var _abiArray = JSON.parse(_json.contracts[\"src/Hello1.sol:Hello1\"].abi);\n",
    "\n",
    "async function doIt() {\n",
    "    var hello = new web3.eth.Contract(_abiArray, \"0xA43f621f0bAFfce634E43858Fb72809f050049E4\");\n",
    "    var event = hello.events.PrintLog(function (error, event) {\n",
    "        console.log(\">>> Event fired: \" + JSON.stringify(event.returnValues));\n",
    "    })\n",
    "    .on('>> data', function(event) {\n",
    "        console.log(event);\n",
    "    })\n",
    "    .on('>> changed', function(event) {\n",
    "        console.log(event);\n",
    "    })\n",
    "    .on('>> error', console.error);\n",
    "    const accounts = await web3.eth.getAccounts();\n",
    "    console.log(\"Account: \" + accounts[0]);\n",
    "    const balanceBefore = await web3.eth.getBalance(accounts[0]);\n",
    "    console.log(\"Balance before: \" + balanceBefore);\n",
    "    hello.methods.sayHello().call().then(console.log);  //null\n",
    "    await hello.methods.setHello().send({from: accounts[0]});\n",
    "    hello.methods.sayHello().call().then(console.log);\n",
    "    hello.methods.compareTo(\"Hello\").call().then(console.log);\n",
    "    const balanceAfter = await web3.eth.getBalance(accounts[0]);\n",
    "    console.log(\"Balance after: \" + balanceAfter);\n",
    "    console.log(\"Balance diff: \" + (balanceBefore - balanceAfter));\n",
    "    \n",
    "}\n",
    "doIt()\n"
   ]
  },
  {
   "cell_type": "code",
   "execution_count": null,
   "metadata": {
    "collapsed": false
   },
   "outputs": [
    {
     "name": "stdout",
     "output_type": "stream",
     "text": [
      "Account: 0x28E9D5b10083b74406b50cbb7B48a299BA6C8Be1\n",
      "Balance before: 99942805280000000000\n",
      "Hello\n",
      ">>> Event fired: {\"0\":\"0x28E9D5b10083b74406b50cbb7B48a299BA6C8Be1\",\"1\":\"Hello\",\"addr\":\"0x28E9D5b10083b74406b50cbb7B48a299BA6C8Be1\",\"s\":\"Hello\"}\n",
      "Hello\n",
      "true\n",
      "Balance after: 99942304260000000000\n",
      "Balance diff: 501019999993856\n"
     ]
    }
   ],
   "source": [
    "!node src/Hello1UseFromFile.js"
   ]
  },
  {
   "cell_type": "markdown",
   "metadata": {},
   "source": [
    "## 블록체인에서 컨트랙 삭제\n",
    "\n",
    "블록체인에서 프로그램을 유지보수할 수 없다. 오류가 발생하거나, 쓸모가 없어지면 삭제를 해야 한다.\n",
    "컨트랙은 Read Only로서, 만들어지면 영구히 남게된다.\n",
    "selfdestruct()는 잔고를 전액 반환하고, 컨트랙을 블록체인으로부터 제거한다."
   ]
  },
  {
   "cell_type": "markdown",
   "metadata": {},
   "source": [
    "###  단계 1: 컨트랙 개발"
   ]
  },
  {
   "cell_type": "code",
   "execution_count": 42,
   "metadata": {
    "collapsed": false
   },
   "outputs": [
    {
     "name": "stdout",
     "output_type": "stream",
     "text": [
      "Overwriting src/Hello2.sol\n"
     ]
    }
   ],
   "source": [
    "%%writefile src/Hello2.sol\n",
    "pragma solidity ^0.6.0;\n",
    "contract Hello2 {\n",
    "    string hello;\n",
    "    address payable owner;\n",
    "\n",
    "    event PrintLog(string _s);\n",
    "    constructor() public {\n",
    "        owner = msg.sender;\n",
    "    }\n",
    "    function sayHello() view public returns(string memory) {\n",
    "        return hello;\n",
    "    }\n",
    "    function setHello(string memory _hello) public payable {\n",
    "        hello = _hello;\n",
    "        emit PrintLog(_hello);\n",
    "    }\n",
    "    function getBalance() view public returns(uint) {\n",
    "        return address(this).balance;\n",
    "    }\n",
    "    function kill() public { if (msg.sender == owner) selfdestruct(owner); }\n",
    "}"
   ]
  },
  {
   "cell_type": "markdown",
   "metadata": {},
   "source": [
    "### 단계 2: 컴파일"
   ]
  },
  {
   "cell_type": "code",
   "execution_count": 1,
   "metadata": {
    "collapsed": true
   },
   "outputs": [],
   "source": [
    "!solc src/Hello2.sol --combined-json abi,bin > src/Hello2.json"
   ]
  },
  {
   "cell_type": "code",
   "execution_count": 44,
   "metadata": {
    "collapsed": false,
    "scrolled": true
   },
   "outputs": [
    {
     "name": "stdout",
     "output_type": "stream",
     "text": [
      "{\"contracts\":{\"src/Hello2.sol:Hello2\":{\"abi\":\"[{\\\"inputs\\\":[],\\\"stateMutability\\\":\\\"nonpayable\\\",\\\"type\\\":\\\"constructor\\\"},{\\\"anonymous\\\":false,\\\"inputs\\\":[{\\\"indexed\\\":false,\\\"internalType\\\":\\\"string\\\",\\\"name\\\":\\\"_s\\\",\\\"type\\\":\\\"string\\\"}],\\\"name\\\":\\\"PrintLog\\\",\\\"type\\\":\\\"event\\\"},{\\\"inputs\\\":[],\\\"name\\\":\\\"getBalance\\\",\\\"outputs\\\":[{\\\"internalType\\\":\\\"uint256\\\",\\\"name\\\":\\\"\\\",\\\"type\\\":\\\"uint256\\\"}],\\\"stateMutability\\\":\\\"view\\\",\\\"type\\\":\\\"function\\\"},{\\\"inputs\\\":[],\\\"name\\\":\\\"kill\\\",\\\"outputs\\\":[],\\\"stateMutability\\\":\\\"nonpayable\\\",\\\"type\\\":\\\"function\\\"},{\\\"inputs\\\":[],\\\"name\\\":\\\"sayHello\\\",\\\"outputs\\\":[{\\\"internalType\\\":\\\"string\\\",\\\"name\\\":\\\"\\\",\\\"type\\\":\\\"string\\\"}],\\\"stateMutability\\\":\\\"view\\\",\\\"type\\\":\\\"function\\\"},{\\\"inputs\\\":[{\\\"internalType\\\":\\\"string\\\",\\\"name\\\":\\\"_hello\\\",\\\"type\\\":\\\"string\\\"}],\\\"name\\\":\\\"setHello\\\",\\\"outputs\\\":[],\\\"stateMutability\\\":\\\"payable\\\",\\\"type\\\":\\\"function\\\"}]\",\"bin\":\"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\"}},\"version\":\"0.6.1+commit.e6f7d5a4.Linux.g++\"}\r\n"
     ]
    }
   ],
   "source": [
    "!cat src/Hello2.json"
   ]
  },
  {
   "cell_type": "markdown",
   "metadata": {},
   "source": [
    "### 단계 3: 배포\n",
    "\n",
    "컴파일한 후 abi, bin을 저장한 파일에서 읽어서 배포해보자.\n"
   ]
  },
  {
   "cell_type": "code",
   "execution_count": 45,
   "metadata": {
    "collapsed": false
   },
   "outputs": [
    {
     "name": "stdout",
     "output_type": "stream",
     "text": [
      "Overwriting src/Hello2DeployFromFile.js\n"
     ]
    }
   ],
   "source": [
    "%%writefile src/Hello2DeployFromFile.js\n",
    "var Web3=require('web3');\n",
    "var web3=new Web3(new Web3.providers.HttpProvider(\"http://117.16.44.45:8345\"));\n",
    "var fs=require('fs');\n",
    "var _str = fs.readFileSync(\"src/Hello2.json\");\n",
    "var _json=JSON.parse(_str)\n",
    "//var _abiArray=JSON.parse(_json.contracts.sHello2.abi);\n",
    "var _abiArray=JSON.parse(_json.contracts['src/Hello2.sol:Hello2'].abi);\n",
    "//var _bin=_json.contracts.sHello2.bin;\n",
    "var _bin=\"0x\"+_json.contracts['src/Hello2.sol:Hello2'].bin;\n",
    "\n",
    "//unlock the account with a password provided\n",
    "//web3.personal.unlockAccount(web3.eth.accounts[0],'password');\n",
    "async function deploy() {\n",
    "    const accounts = await web3.eth.getAccounts();\n",
    "    console.log(\"Deploying the contract from \" + accounts[0]);\n",
    "    var deployed = await new web3.eth.Contract(_abiArray)\n",
    "        .deploy({data: _bin})\n",
    "        .send({from: accounts[0], gas: 1000000}, function(err, transactionHash) {\n",
    "                if(!err) console.log(\"hash: \" + transactionHash); \n",
    "        })\n",
    "        //.then(function(newContractInstance){\n",
    "        //    console.log(newContractInstance.options.address)\n",
    "        //});\n",
    "    console.log(\"---> The contract deployed to: \" + deployed.options.address)\n",
    "}\n",
    "deploy()\n"
   ]
  },
  {
   "cell_type": "code",
   "execution_count": 1,
   "metadata": {
    "collapsed": false
   },
   "outputs": [
    {
     "name": "stdout",
     "output_type": "stream",
     "text": [
      "Deploying the contract from 0x28E9D5b10083b74406b50cbb7B48a299BA6C8Be1\n",
      "hash: 0x8ae619bbf0f84a108b17e8796131c5160e4210e5e1060393ef71b037478614ca\n",
      "---> The contract deployed to: 0x8DeCdBfD91C84F9669b826B25598BF96eEf74185\n"
     ]
    }
   ],
   "source": [
    "!node src/Hello2DeployFromFile.js"
   ]
  },
  {
   "cell_type": "markdown",
   "metadata": {},
   "source": [
    "### 단계 4: 사용"
   ]
  },
  {
   "cell_type": "code",
   "execution_count": 1,
   "metadata": {
    "collapsed": false
   },
   "outputs": [
    {
     "name": "stdout",
     "output_type": "stream",
     "text": [
      "Overwriting src/Hello2UseFromFile.js\n"
     ]
    }
   ],
   "source": [
    "%%writefile src/Hello2UseFromFile.js\n",
    "var Web3=require('web3');\n",
    "//var web3=new Web3(new Web3.providers.HttpProvider(\"http://117.16.44.45:8345\"));       //nok\n",
    "var web3 = new Web3(new Web3.providers.WebsocketProvider(\"http://117.16.44.45:8345\"));  //ok\n",
    "//var web3 = new Web3(new Web3.providers.WebsocketProvider(\"ws://117.16.44.45:8345\"));  //ok\n",
    "var fs=require('fs');\n",
    "var _str = fs.readFileSync(\"src/Hello2.json\");\n",
    "var _json=JSON.parse(_str)\n",
    "//var _abiArray=JSON.parse(_json.contracts.sHello2.abi);\n",
    "var _abiArray=JSON.parse(_json.contracts['src/Hello2.sol:Hello2'].abi);\n",
    "\n",
    "async function doIt() {\n",
    "    var hello = new web3.eth.Contract(_abiArray, \"0x8DeCdBfD91C84F9669b826B25598BF96eEf74185\");\n",
    "    var event = hello.events.PrintLog(function (error, result) {\n",
    "        if (!error) {\n",
    "            console.log(\"Event fired: \" + JSON.stringify(result.returnValues));\n",
    "        }\n",
    "    });\n",
    "    const accounts = await web3.eth.getAccounts();\n",
    "    console.log(\"Account: \" + accounts[0]);\n",
    "    const balanceBefore = await web3.eth.getBalance(accounts[0]);\n",
    "    console.log(\"Balance before: \" + balanceBefore);\n",
    "    hello.methods.sayHello().call().then(console.log);  //null\n",
    "    await hello.methods.setHello(\"Hello World!\").send({from: accounts[0], value: 1111});\n",
    "    hello.methods.sayHello().call().then(console.log);\n",
    "    //hello.methods.getBalance().call(function(err, bal) { console.log(\"Contract Balance: \"+bal) });\n",
    "    const balanceAfter = await web3.eth.getBalance(accounts[0]);\n",
    "    console.log(\"Balance after: \" + balanceAfter);\n",
    "    console.log(\"Balance diff: \" + (balanceBefore - balanceAfter));\n",
    "    //hello.methods.kill().send({from: accounts[0]})\n",
    "}\n",
    "\n",
    "doIt()\n"
   ]
  },
  {
   "cell_type": "markdown",
   "metadata": {},
   "source": [
    "kill 함수를 마지막에 호출하기 때문에 한 번 실행해서 결과를 출력한 후, 재호출하면 ```Error: Returned values aren't valid, did it run Out of Gas?```가 호출된다."
   ]
  },
  {
   "cell_type": "code",
   "execution_count": null,
   "metadata": {
    "collapsed": false
   },
   "outputs": [
    {
     "name": "stdout",
     "output_type": "stream",
     "text": [
      "Account: 0x28E9D5b10083b74406b50cbb7B48a299BA6C8Be1\n",
      "Balance before: 99933007819999997778\n",
      "Hello World!\n",
      "Event fired: {\"0\":\"Hello World!\",\"_s\":\"Hello World!\"}\n",
      "Hello World!\n",
      "Balance after: 99932487159999996667\n",
      "Balance diff: 520659999997952\n"
     ]
    }
   ],
   "source": [
    "!node src/Hello2UseFromFile.js"
   ]
  },
  {
   "cell_type": "markdown",
   "metadata": {},
   "source": [
    "## 무작위 수의 생성\n",
    "\n",
    "블록체인에서 무작위 수를 생성하기 위해서는 전역변수를 활용해야 한다.\n",
    "전역변수를 256비트의 해시값으로 만들고, modulus를 이용해 일정 범위의 수가 생성되도록 한다.\n",
    "\n",
    "일련의 무작위 수를 생성하기 위해서는 전역변수 값이 짧은 시간에 변동하지 않으므로,\n",
    "매 번 다른 수가 생성되도록 하려면, 약간의 트릭을 써서 카운터 값을 더해주도록 한다."
   ]
  },
  {
   "cell_type": "code",
   "execution_count": 4,
   "metadata": {
    "collapsed": false
   },
   "outputs": [
    {
     "name": "stdout",
     "output_type": "stream",
     "text": [
      "Overwriting src/Random.sol\n"
     ]
    }
   ],
   "source": [
    "%%writefile src/Random.sol\n",
    "pragma solidity ^0.6.0;\n",
    "contract Random {\n",
    "    function rand() public view returns(bytes32) {\n",
    "        return keccak256(abi.encodePacked(block.timestamp, block.difficulty));\n",
    "    }\n",
    "    function rand0and250() public view returns(uint8) {\n",
    "        return uint8(uint256(keccak256(abi.encodePacked(block.timestamp, block.difficulty)))%251);\n",
    "    }\n",
    "    function rand0and9() public view returns(uint8) {\n",
    "        return uint8(uint256(keccak256(abi.encodePacked(block.timestamp, block.difficulty)))%10);\n",
    "    }\n",
    "    function rand0and2() public view returns(uint8) {\n",
    "        return uint8(uint256(keccak256(abi.encodePacked(block.timestamp, block.difficulty)))%3);\n",
    "    }\n",
    "    function genRandomInteger() view public returns(uint8[] memory) {\n",
    "        uint8[] memory r = new uint8[](10);\n",
    "        for(uint i = 0; i<r.length; i++)\n",
    "            //r[i] = uint8(uint256(keccak256(abi.encodePacked(block.timestamp, block.difficulty)))%10);\n",
    "            //change timestamp by adding i, otherwise all the same numbers generated\n",
    "            r[i] = uint8(uint256(keccak256(abi.encodePacked(block.timestamp + i, block.difficulty)))%10);\n",
    "        return r;\n",
    "    }\n",
    "}\n"
   ]
  },
  {
   "cell_type": "markdown",
   "metadata": {},
   "source": [
    "## 9.7 데이터구조\n",
    "\n",
    "### 9.7.1 array\n",
    "\n",
    "배열은 순서가 있는 데이터로서 인덱스를 사용하여 요소를 특정할 수 있다.\n",
    "컴파일 시점에 메모리가 할당되는 고정배열과 실행시점에 메모리가 배정되는 동적배열로 구분할 수 있다.\n",
    "\n",
    "#### 고정배열\n",
    "\n",
    "고정배열은 배열이 저장하는 데이터의 개수를 사전에 정할 수 있는 경우에 사용한다.\n",
    "우측은 요소가 3개로 정해져 있는 배열이므로 좌측의 고정배열에 할당할 수 있다.\n",
    "\n",
    "```python\n",
    "string[3] cities1=[\"Seoul\", \"Sydney\", \"Tokyo\"];\n",
    "```\n"
   ]
  },
  {
   "cell_type": "markdown",
   "metadata": {},
   "source": [
    "#### 동적배열\n",
    "\n",
    "저장하는 데이터의 개수를 미리 정할 수 없고 나중에 정해진다.\n",
    "동적배열은 ```new``` 명령어로 생성할 수 있고, 괄호 안에 개수를 적어서 초기화할 수 있다.\n",
    "\n",
    "```python\n",
    "int[] memory num=new int[](3);\n",
    "```\n",
    "\n",
    "```string```은 그 자체로 동적배열이다.\n",
    "동적배열은 storage함수에만 사용할 수 있고, memory 변수에는 사용할 수 없다.\n",
    "storage 배열에는 push() 함수를 사용하여 데이터를 추가할 수 있다.\n",
    "\n",
    "```python\n",
    "string[] cities2;\n",
    "cities2.push(\"New York\");\n",
    "cities2.push(\"Beijing\");\n",
    "```"
   ]
  },
  {
   "cell_type": "markdown",
   "metadata": {},
   "source": [
    "#### 다차원배열\n",
    "\n",
    "정수의 동적 2차원배열이다.\n",
    "앞의 3은 요소의 개수를, 뒤는 배열의 개수를 의미한다.\n",
    "다음 예는 3개의 요소를 가진 배열이 2개라는 선언이다.\n",
    "\n",
    "```python\n",
    "uint[3][] marks=[[100, 80, 95],[20,30,40]];\n",
    "```"
   ]
  },
  {
   "cell_type": "markdown",
   "metadata": {},
   "source": [
    "### 배열의 동작\n",
    "\n",
    "* **동적 배열은 그 크기를 알 수 없으므로 반환을 할 수 없다**. 배열을 반환하는 경우 사전에  크기를 알아야 한다.\n",
    "또는 ```pragma experimental ABIEncoderV2;```라고 프로그램 앞에 선언해주어야 한다.\n",
    "\n",
    "* 배열을 삭제하는 경우 특정 인덱스를 정해서 ```delete array[index]```.\n",
    "그러나 그 데이터 항목은 그대로 유지된다는 점에 주의해야 한다.\n",
    "예를 들어, 배열 ```data``` ```[1, 2, 3, 4]```에서 ```delete data[2]```하면 ```[1, 2, 0, 4]```가 된다.\n",
    "\n",
    "* ```length```를 사용하여 배열 크기를 알 수 있다.\n",
    "* ```push```는 ```storage``` 배열에만 사용하고 (즉 상태변수의 배열), ```memory``` 배열에는 사용할 수 없다."
   ]
  },
  {
   "cell_type": "markdown",
   "metadata": {},
   "source": [
    "## 실습: 배열\n",
    "\n",
    "### 단계 1: 컨트랙 개발\n",
    "\n",
    "함수 명 | 설명\n",
    "-----|-----\n",
    "```getDynamicArrMemory()``` | 메모리에 선언된 동적배열이지만 데이터를 채우고 크기를 알게 되면 반환가능 ```uint[] memory```\n",
    "```getStringDynamicArrMemory()``` | ```string```은 그 자체로 동적배열이므로 반환 불가능 ```string[] memory```\n",
    "```getCities1_()``` | ```string```은 그 자체로 동적배열이므로 반환 불가능 ```string[] memory```\n",
    "```getCities1()``` | ```string``` 1개씩은 반환 가능\n",
    "```getCities2()``` | ```pragma experimental ABIEncoderV2```를 사용하면 ```string``` 동적 배열 반환가능\n",
    "```getMathAbove70()``` | 크기를 결정하지 않고, 값을 할당할 수 없슴\n"
   ]
  },
  {
   "cell_type": "code",
   "execution_count": 69,
   "metadata": {
    "collapsed": false
   },
   "outputs": [
    {
     "name": "stdout",
     "output_type": "stream",
     "text": [
      "Writing src/ArrayTest2.sol\n"
     ]
    }
   ],
   "source": [
    "%%writefile src/ArrayTest2.sol\n",
    "pragma solidity ^0.6.0;\n",
    "pragma experimental ABIEncoderV2;\n",
    "\n",
    "contract ArrayTest2 {\n",
    "    string[3] cities1=[\"Seoul\", \"Sydney\", \"Tokyo\"];\n",
    "    string[] cities2 = new string[](2);\n",
    "    string[] cities3;\n",
    "    int[5] mathMarks;\n",
    "    uint[3][] marks=[[100, 80, 95],[20,30,40]];\n",
    "\n",
    "    function getDynamicArrMemory() pure public returns(uint[] memory) {\n",
    "        uint[] memory num=new uint[](3);  //dynamic\n",
    "        for (uint i=0; i<num.length; i++)\n",
    "            num[i]=i;       //push() not allowed for array memeory\n",
    "        return num;\n",
    "    }\n",
    "    //string is a dynamic array itself, which can not be returned.\n",
    "    //function setArrMemory() view public returns(string[] memory) {\n",
    "    function getStringDynamicArrMemory() pure public {\n",
    "        //array storage not allowed\n",
    "        //error: string[2] storage places = [\"9000\", \"Sydney\"];\n",
    "        string[2] memory places = [\"9000\", \"Sydney\"];\n",
    "        //array memory push not allowed\n",
    "        //places.push(\"Seoul\");\n",
    "        places[0]=\"Seoul\";\n",
    "        //return places;\n",
    "    }\n",
    "    /*returning 'string[] storage' is not allowed\n",
    "    function getCities1_() view public returns(string[] memory) {\n",
    "        return cities1;  //can not return stoarge var. \n",
    "    }*/\n",
    "    function getCities1() view public returns(string memory) {\n",
    "        return cities1[0];\n",
    "    }\n",
    "    function getCities1Length() view public returns(uint) { return cities1.length; }\n",
    "    function setCities23() public {\n",
    "        cities2[0]=\"New York\";\n",
    "        cities2.push(\"Busan\");\n",
    "        cities3.push(\"New York\");\n",
    "        cities3.push(\"Beijing\");\n",
    "    }\n",
    "    //dynamic array return needs \"pragma experimental ABIEncoderV2;\"\n",
    "    function getCities2() view public returns(string[] memory){\n",
    "        return cities2;\n",
    "    }\n",
    "    function setMathMarks() public {\n",
    "        mathMarks=[100,60,95,50,80];\n",
    "    }\n",
    "    //run setMathMarks() beforehand\n",
    "    function getMathAbove70_() view public returns(int[] memory) {\n",
    "        // size is not allocated yet -> invalid opcode error\n",
    "        int[] memory mathAbove70;\n",
    "        uint counter = 0;\n",
    "        for(uint8 i=0;i<mathMarks.length;i++)\n",
    "            if(mathMarks[i]>70) {\n",
    "                mathAbove70[counter] = mathMarks[i];\n",
    "                //mathAbove70.push(mathMarks[i]);\n",
    "                counter++;\n",
    "            }\n",
    "        return mathAbove70;\n",
    "    }\n",
    "    //run setMathMarks() beforehand\n",
    "    function getMathAbove70() view public returns(int[] memory) {\n",
    "        //compute lengthOfMathAbove70\n",
    "        uint8 counter=0;\n",
    "        uint8 lengthOfMathAbove70=0;\n",
    "        for(uint8 i=0;i<mathMarks.length;i++)\n",
    "            if(mathMarks[i]>70) counter++;\n",
    "        lengthOfMathAbove70=counter;\n",
    "        //move math marks above 70\n",
    "        int[] memory mathAbove70=new int[](lengthOfMathAbove70);\n",
    "        counter=0;\n",
    "        for(uint i=0;i<mathMarks.length;i++) {\n",
    "            if(mathMarks[i]>70) {\n",
    "                mathAbove70[counter]=mathMarks[i];\n",
    "                counter++;\n",
    "            }\n",
    "        }\n",
    "        return mathAbove70;\n",
    "    }\n",
    "    function updateMarks() public returns(uint[3][] memory){\n",
    "        marks[0][0]=90;\n",
    "        return marks;\n",
    "    }\n",
    "    function getMarksArr() view public returns(uint[3][] memory) {\n",
    "        return marks;\n",
    "    }\n",
    "    function getMarksLength() view public returns(uint) {\n",
    "        return marks.length;\n",
    "    }\n",
    "}"
   ]
  },
  {
   "cell_type": "markdown",
   "metadata": {},
   "source": [
    "### 단계 2: 컴파일"
   ]
  },
  {
   "cell_type": "code",
   "execution_count": 2,
   "metadata": {
    "collapsed": true
   },
   "outputs": [],
   "source": [
    "!solc src/ArrayTest2.sol --combined-json abi,bin > src/ArrayTest2.json"
   ]
  },
  {
   "cell_type": "markdown",
   "metadata": {},
   "source": [
    "### 단계 3: 컨트랙 배포\n",
    "\n",
    "#### estimateGas\n",
    "\n",
    "배열은 ```gas```를 많이 필요로 한다. ```Gas```를 산정해보니, 앞서 컨트랙보다 많이 1,226,648가 발생하고 있다.\n",
    "1,226,647로 1을 줄여서 하면 ```out of gas``` 오류가 발생한다.\n",
    "\n",
    "```python\n",
    "new web3.eth.Contract(_abiArray).deploy({data: _bin}).estimateGas(function(err, gas) {\n",
    "        if(!err) console.log(\">> gas: \"+ gas);});\n",
    "```\n"
   ]
  },
  {
   "cell_type": "code",
   "execution_count": 19,
   "metadata": {
    "collapsed": false
   },
   "outputs": [
    {
     "name": "stdout",
     "output_type": "stream",
     "text": [
      "Overwriting src/ArrayTest2Deploy.js\n"
     ]
    }
   ],
   "source": [
    "%%writefile src/ArrayTest2Deploy.js\n",
    "var Web3 = require('web3');\n",
    "var web3 = new Web3(new Web3.providers.HttpProvider(\"http://117.16.44.45:8345\"));\n",
    "var fs=require('fs');\n",
    "var _str = fs.readFileSync(\"src/ArrayTest2.json\");\n",
    "var _json = JSON.parse(_str)\n",
    "//var _abiArray = JSON.parse(_json.contracts.sHello2.abi);\n",
    "var _abiArray = JSON.parse(_json.contracts[\"src/ArrayTest2.sol:ArrayTest2\"].abi);\n",
    "//var _bin = _json.contracts.sHello2.bin;\n",
    "var _bin=\"0x\" + _json.contracts[\"src/ArrayTest2.sol:ArrayTest2\"].bin;\n",
    "\n",
    "//unlock the account with a password provided\n",
    "//web3.personal.unlockAccount(web3.eth.accounts[0],'password');\n",
    "async function deploy() {\n",
    "    const accounts = await web3.eth.getAccounts();\n",
    "    console.log(\"Deploying the contract from \" + accounts[0]);\n",
    "\n",
    "    new web3.eth.Contract(_abiArray).deploy({data: _bin}).estimateGas(function(err, gas) {\n",
    "        if(!err) console.log(\">> gas: \"+ gas);\n",
    "    });\n",
    "\n",
    "    var deployed = await new web3.eth.Contract(_abiArray)\n",
    "        .deploy({data: _bin})\n",
    "        .send({from: accounts[0], gas: 1226648}, function(err, transactionHash) {\n",
    "                if(!err) console.log(\"hash: \" + transactionHash); \n",
    "        })\n",
    "        //.then(function(newContractInstance){\n",
    "        //    console.log(newContractInstance.options.address)\n",
    "        //});\n",
    "    console.log(\"---> The contract deployed to: \" + deployed.options.address)\n",
    "}\n",
    "\n",
    "deploy()\n"
   ]
  },
  {
   "cell_type": "code",
   "execution_count": 31,
   "metadata": {
    "collapsed": false
   },
   "outputs": [
    {
     "name": "stdout",
     "output_type": "stream",
     "text": [
      "Deploying the contract from 0x64893d897E16687921f7e59E68157BeA57eC6E1a\n",
      ">> gas: 1226648\n",
      "hash: 0xc87a8d09a695e0c57b60c97877fe920feb0668b99553114bda222600044fec58\n",
      "---> The contract deployed to: 0x80A6be863994d05aB7ca6f2A9416B5eda707bBa5\n"
     ]
    }
   ],
   "source": [
    "!node src/ArrayTest2Deploy.js"
   ]
  },
  {
   "cell_type": "markdown",
   "metadata": {
    "collapsed": true
   },
   "source": [
    "### 단계 4: 사용\n",
    "\n",
    "#### estimateGas\n",
    "\n",
    "gas를 없이 트랙잭션을 발생하면, ```out of gas``` 오류가 발생한다.\n",
    "```python\n",
    "await arr.methods.setCities23().send({from: accounts[0]});  //out of gas error\n",
    "```\n",
    "\n",
    "```estimateGas()``` 함수를 사용하여 ```gas```를 산정하면 130312가 소요된다.\n",
    "그 값을 넣어주면 오류가 없어지게 된다.\n",
    "\n",
    "```python\n",
    "await arr.methods.setCities23().send({from: accounts[0], gas:130312});\n",
    "```"
   ]
  },
  {
   "cell_type": "code",
   "execution_count": 32,
   "metadata": {
    "collapsed": false
   },
   "outputs": [
    {
     "name": "stdout",
     "output_type": "stream",
     "text": [
      "Overwriting src/ArrayTest2Use.js\n"
     ]
    }
   ],
   "source": [
    "%%writefile src/ArrayTest2Use.js\n",
    "var Web3=require('web3');\n",
    "var web3=new Web3(new Web3.providers.HttpProvider(\"http://117.16.44.45:8345\"));       //ok\n",
    "var fs=require('fs');\n",
    "var _str = fs.readFileSync(\"src/ArrayTest2.json\");\n",
    "var _json = JSON.parse(_str)\n",
    "//var _abiArray = JSON.parse(_json.contracts.sHello2.abi);\n",
    "var _abiArray = JSON.parse(_json.contracts[\"src/ArrayTest2.sol:ArrayTest2\"].abi);\n",
    "\n",
    "async function doIt() {\n",
    "    var arr = new web3.eth.Contract(_abiArray, \"0x80A6be863994d05aB7ca6f2A9416B5eda707bBa5\");\n",
    "    const accounts = await web3.eth.getAccounts();\n",
    "    console.log(\"Account: \" + accounts[0]);\n",
    "    const balanceBefore = await web3.eth.getBalance(accounts[0]);\n",
    "    console.log(\"Balance before: \" + balanceBefore);\n",
    "    \n",
    "    arr.methods.setCities23().estimateGas(function(err, gas) {\n",
    "        if(!err) console.log(\">> gas: \"+ gas);\n",
    "    });\n",
    "\n",
    "    //await arr.methods.setCities23().send({from: accounts[0]});   //out of gas error\n",
    "    await arr.methods.setCities23().send({from: accounts[0], gas:130312});\n",
    "    arr.methods.getCities2().call().then(console.log);\n",
    "\n",
    "    arr.methods.setMathMarks().estimateGas(function(err, gas) {\n",
    "        if(!err) console.log(\">> gas: \"+ gas);\n",
    "    });\n",
    "\n",
    "    await arr.methods.setMathMarks().send({from: accounts[0], gas: 122209});\n",
    "    //ERROR invalid opcode arr.methods.getMathAbove70().call().then(console.log);\n",
    "    arr.methods.getMarksArr().call().then(console.log);\n",
    "\n",
    "    const balanceAfter = await web3.eth.getBalance(accounts[0]);\n",
    "    console.log(\"Balance after: \" + balanceAfter);\n",
    "    console.log(\"Balance diff: \" + (balanceBefore - balanceAfter));\n",
    "    \n",
    "}\n",
    "\n",
    "doIt()\n"
   ]
  },
  {
   "cell_type": "code",
   "execution_count": 33,
   "metadata": {
    "collapsed": false,
    "scrolled": true
   },
   "outputs": [
    {
     "name": "stdout",
     "output_type": "stream",
     "text": [
      "Account: 0x64893d897E16687921f7e59E68157BeA57eC6E1a\n",
      "Balance before: 99727509020000000000\n",
      ">> gas: 130312\n",
      "[ 'New York', '', 'Busan' ]\n",
      ">> gas: 122209\n",
      "[ [ '100', '80', '95' ], [ '20', '30', '40' ] ]\n",
      "Balance after: 99722458600000000000\n",
      "Balance diff: 5050419999997952\n"
     ]
    }
   ],
   "source": [
    "!node src/ArrayTest2Use.js"
   ]
  },
  {
   "cell_type": "markdown",
   "metadata": {
    "collapsed": true
   },
   "source": [
    "```gas``` 비용은 ```ArrayTest2Use.js```를 다시 실행하면 많이 낮아진다.\n",
    "첫 회의 실행에서는 동적배열을 생성하고, 다음 실행에서는 그 비용이 줄어들기 때문에 ```gas```비가 낮아지고 있다."
   ]
  },
  {
   "cell_type": "code",
   "execution_count": 34,
   "metadata": {
    "collapsed": false,
    "scrolled": true
   },
   "outputs": [
    {
     "name": "stdout",
     "output_type": "stream",
     "text": [
      "Account: 0x64893d897E16687921f7e59E68157BeA57eC6E1a\n",
      "Balance before: 99722458600000000000\n",
      ">> gas: 95769\n",
      "[ 'New York', '', 'Busan', 'Busan' ]\n",
      ">> gas: 23209\n",
      "[ [ '100', '80', '95' ], [ '20', '30', '40' ] ]\n",
      "Balance after: 99720079040000000000\n",
      "Balance diff: 2379559999995904\n"
     ]
    }
   ],
   "source": [
    "!node src/ArrayTest2Use.js"
   ]
  },
  {
   "cell_type": "markdown",
   "metadata": {
    "slideshow": {
     "slide_type": "subslide"
    }
   },
   "source": [
    "#### 배열의 출력\n",
    "\n",
    "```web3.js``` 현재 버전에서는 Solidity -> node로 배열의 전달에 문제가 없어서 출력이 올바르게 되고 있다.\n",
    "이전 버전에서는 배열을 올바르게 출력하려면 ```toString()``` 함수를 사용해야 한다.\n",
    "\n",
    "```python\n",
    "> arraytest.getMarksArr()                      출력하기 위해서는 toString()\n",
    "[ [ BigNumber { s: 1, e: 2, c: [Array] },\n",
    "    BigNumber { s: 1, e: 1, c: [Array] },\n",
    "    BigNumber { s: 1, e: 1, c: [Array] } ],\n",
    "  [ BigNumber { s: 1, e: 1, c: [Array] },\n",
    "    BigNumber { s: 1, e: 1, c: [Array] },\n",
    "    BigNumber { s: 1, e: 1, c: [Array] } ] ]\n",
    "> arraytest.getMarksLength()\n",
    "BigNumber { s: 1, e: 0, c: [ 2 ] }\n",
    "> arraytest.getMarksLength().toString()\n",
    "'2'\n",
    "> arraytest.getMarksArr().toString()\n",
    "'100,80,95,20,30,40'\n",
    "```"
   ]
  },
  {
   "cell_type": "markdown",
   "metadata": {
    "slideshow": {
     "slide_type": "subslide"
    }
   },
   "source": [
    "## 실습: Members 배열\n",
    "\n",
    "배열을 검색하는 것은 비용이 많이 발생한다. \n",
    "mapping을 사용하거나, 클라이언트 측에서 배열 데이터를 검색하는 편으로 하자.\n",
    "\n",
    "문자열 비교 '=='는 사용할 수 없다. ```keccak256()``` 해싱을 한 후 비교해야 한다."
   ]
  },
  {
   "cell_type": "code",
   "execution_count": 2,
   "metadata": {
    "collapsed": false,
    "slideshow": {
     "slide_type": "-"
    }
   },
   "outputs": [
    {
     "name": "stdout",
     "output_type": "stream",
     "text": [
      "Writing src/Members.sol\n"
     ]
    }
   ],
   "source": [
    "%%writefile src/Members.sol\n",
    "pragma solidity ^0.5.0;\n",
    "contract Members{\n",
    "    address owner;\n",
    "    event printAddr(address arg);\n",
    "    struct Member{\n",
    "        uint id;\n",
    "        string name;\n",
    "    }\n",
    "    Member[] public memberArr;\n",
    "    constructor() public {\n",
    "        owner=msg.sender;\n",
    "    }\n",
    "    function del() public {\n",
    "        delete memberArr;\n",
    "    }\n",
    "    function delOne(uint i) public{\n",
    "        delete memberArr[i];  //try pop()\n",
    "    }\n",
    "    function add(uint id,string memory name) public {\n",
    "        memberArr.push(Member(id,name));\n",
    "    }\n",
    "    //return Member\n",
    "    function getMember(string memory who) view public returns(uint, string memory) {\n",
    "        uint _id;\n",
    "        string memory _name;\n",
    "        for(uint i=0;i<memberArr.length;i++) {\n",
    "            _name=memberArr[i].name;\n",
    "            if(keccak256(abi.encodePacked(_name))==keccak256(abi.encodePacked(who))) {\n",
    "                _id=memberArr[i].id;\n",
    "                _name=memberArr[i].name;\n",
    "            }\n",
    "        }\n",
    "        return (_id,_name);\n",
    "    }\n",
    "    function compareStr(string memory s1, string memory s2) pure public returns(bool) {\n",
    "        return keccak256(abi.encodePacked(s1))==keccak256(abi.encodePacked(s2));\n",
    "    }\n",
    "    function compareBytes(bytes memory b1, bytes memory b2) pure public returns(bool) {\n",
    "        return keccak256(b1) == keccak256(b2);\n",
    "    }\n",
    "    function getLength() view public returns(uint) {\n",
    "        return memberArr.length;\n",
    "    }\n",
    "}"
   ]
  },
  {
   "cell_type": "markdown",
   "metadata": {
    "slideshow": {
     "slide_type": "subslide"
    }
   },
   "source": [
    "### 9.7.2 mapping\n",
    "<a id='S.5.2'></a>\n",
    "\n",
    "```mapping```은 `키`와 키에 해당하는 `값`을 쌍으로 저장한다. **```=>```** 기호를 사용하여, 좌측에 키를 오른쪽에 값을 적어준다.\n",
    "다음 ```mapping``` 코드를 보면, ```string```은 키로 값은 ```uint```로 정의 하고, 그 변수 명은 ```balances```로 선언하고 있다.\n",
    "그리고 ```string```으로 선언된 키에 ```jsl```, ```uint```로 선언된 값에 잔고 100을 저장한다.\n",
    "\n",
    "```python\n",
    "mapping (string => uint) public balances;\n",
    "balances[\"jsl\"] = 100;\n",
    "```"
   ]
  },
  {
   "cell_type": "markdown",
   "metadata": {
    "slideshow": {
     "slide_type": "slide"
    }
   },
   "source": [
    "## 실습: 은행\n",
    "\n",
    "앞서 은행에서는 한 계정에서의 입금, 출금을 실행해 보았다.\n",
    "여러 계정이 있는 경우, mapping을 이용해 잔고를 관리할 수 있다.\n",
    "\n",
    "```mapping(address=>uint) balanceOf;``` 라고 선언하고\n",
    "```balanceOf[<address>]=amount;```로 잔고를 저장할 수 있다.\n",
    "\n",
    "증액, 감액을 하려면:\n",
    "```python\n",
    "uint balanceToAdd=111;\n",
    "balanceOf[<address>] += balanceToAdd;\n",
    "```\n",
    "\n",
    "* adddress 자신의 주소를 따옴표 없이, 금액도 따옴표 없이 정수"
   ]
  },
  {
   "cell_type": "markdown",
   "metadata": {},
   "source": [
    "입출금은 기능을 어떻게 설계하느냐에 따라 금액변동에 영향을 미칠 수 있기 마련이다.\n",
    "여기서는 입출금 및 계좌이체를 하면 자신의 계좌, owner 계좌 그리고 컨트랙의 계좌에 아래와 같이 변동이 있도록 해보았다.\n",
    "\n",
    "함수 | 관련 잔고 | owner잔고 | 컨트랙 잔고\n",
    "-----|-----|-----|-----|-----|\n",
    "deposit(111)을 하면 | owner잔고에 입금함 | owner 잔고 111 증가 | 컨트랙잔고 111 증가\n",
    "forwardTo(0x1234..., 11)을 하면| 계좌이체이므로 Ox1234... 잔고 11 증가 | owner잔고 11감소 | 컨트랙 잔고 변동 없슴\n",
    "withdraw(0x1234..., 11)을 하면 | Ox1234... 잔고 11 감소 | owner잔고 변동 없슴 | 컨트랙 잔고 11감소"
   ]
  },
  {
   "cell_type": "code",
   "execution_count": 1,
   "metadata": {
    "collapsed": false,
    "slideshow": {
     "slide_type": "subslide"
    }
   },
   "outputs": [
    {
     "name": "stdout",
     "output_type": "stream",
     "text": [
      "Overwriting src/BankV4.sol\n"
     ]
    }
   ],
   "source": [
    "%%writefile src/BankV4.sol\n",
    "//check for Coin.sol (ch12) and BankV3.sol 201906\n",
    "pragma solidity ^0.6.0;\n",
    "contract BankV4 {\n",
    "    address owner;\n",
    "    mapping (address => uint) balanceOf;\n",
    "    constructor() public {\n",
    "        owner = msg.sender;\n",
    "    }\n",
    "    // save to individual addresses\n",
    "    function deposit(uint amount) payable public onlyOwner {\n",
    "        require(msg.value == amount);\n",
    "        balanceOf[msg.sender] += amount;\n",
    "    }\n",
    "    // forward from owner to another\n",
    "    function forwardTo(address receiver, uint amount) payable public onlyOwner {\n",
    "        require(balanceOf[msg.sender] >= amount);\n",
    "        balanceOf[msg.sender] -= amount; // Subtract from the sender\n",
    "        balanceOf[receiver] += amount;   // Add the same to the recipient\n",
    "    }\n",
    "    function withdraw(address payable receiver, uint amount) public onlyOwner {\n",
    "        require(balanceOf[receiver] >= amount && address(this).balance >= amount);\n",
    "        balanceOf[receiver] -= amount;\n",
    "        receiver.transfer(amount);\n",
    "    }\n",
    "    function getBalance() public view returns(uint, uint) {\n",
    "        return (address(this).balance, balanceOf[owner]);\n",
    "    }\n",
    "    function getBalanceOf(address addr) public view returns (uint) {\n",
    "        return balanceOf[addr];\n",
    "    }\n",
    "    modifier onlyOwner {\n",
    "        require(msg.sender == owner);\n",
    "        _;\n",
    "    }\n",
    "}"
   ]
  },
  {
   "cell_type": "markdown",
   "metadata": {
    "slideshow": {
     "slide_type": "subslide"
    }
   },
   "source": [
    "* 중복키 확인\n",
    "\n",
    "맵은 그 특성상 중복키는 허용되지 않는다. 동일한 키로 당연히 데이터를 입력할 수가 없다.\n",
    "맵에 이미 키가 존재하는지 확인할 수 있는 ```containsKey()```와 같은 지원 함수가 없다.\n",
    "필드 ```isMember```를 설정해놓고 그 값을 확인하는 방법으로 하자.\n",
    "```\n",
    "mapping(address=>Member) memberMap;\n",
    "struct Member {\n",
    "\tuint id;\n",
    "\tstring name;\n",
    "\tbool isMember;\n",
    "}\n",
    "if (memberMap(<address>).isMember) 중복키 존재함\n",
    "```"
   ]
  },
  {
   "cell_type": "markdown",
   "metadata": {
    "slideshow": {
     "slide_type": "subslide"
    }
   },
   "source": [
    "* 삭제\n",
    "\n",
    "키삭제는 쉽지 않다. 다른 언어에서는 ```remove()```함수가 지원되어, 간편하게 키를 지울 수 있는 것과 비교된다.\n",
    "\n",
    "```\n",
    "delete pendingAccessRequest[key];\n",
    "```"
   ]
  },
  {
   "cell_type": "markdown",
   "metadata": {
    "slideshow": {
     "slide_type": "subslide"
    }
   },
   "source": [
    "#### bidirectional map\n",
    "\n",
    "주소에 대해 회원(아이디, 이름)을 저장하는 ```map```이다.\n",
    "이 경우 'id' 또는 '이름'으로 '주소'를 검색하는 기능은 ```bidiretional map```으로 구현하였다.\n",
    "이렇게 하면, 반복문을 사용하지 않고 검색하는 기능이 가능해 진다.\n",
    "특정 id에 해당하는 주소를 찾고, 그 주소에 해당하는 값을 읽어올 수 있게 된다.\n",
    "\n",
    "줄 | 설명\n",
    "-----|-----\n",
    "9 | 주소의  ```Member strcut ```을 조회하는 map\n",
    "10 | 이름의 주소를 조회하는 map\n",
    "11~19 ```addMember() ``` |  ```Member struct```을 추가하고 ```getMemberByName()``` 함수에서 이름을 입력하면 주소를 조회할 수 있도록 저장. ```name```이 중복되는 경우, 엎어쓰기 때문에 문제가 될 수 있다. 실제는 중복이 없는 ```id```를 사용하여 ```bidirectional map```을 구현해야 한다.\n",
    "20~24 ```getMemberById()``` | bidirectional map에서 ```id```에 해당하는 주소를 조회하고, 그 주소키를 이용 Member를 조회\n",
    "25~28 ```getMemberByName()``` | bidirectional map에서 ```name```에 해당하는 주소를 조회\n",
    "29~32 ```getMember()``` | 주소에 해당하는 ```Member struct```을 조회"
   ]
  },
  {
   "cell_type": "code",
   "execution_count": 3,
   "metadata": {
    "collapsed": false,
    "slideshow": {
     "slide_type": "subslide"
    }
   },
   "outputs": [
    {
     "name": "stdout",
     "output_type": "stream",
     "text": [
      "Overwriting src/MembersMap.sol\n"
     ]
    }
   ],
   "source": [
    "%%writefile src/MembersMap.sol\n",
    "pragma solidity ^0.6.0;\n",
    "\n",
    "contract MembersMap {\n",
    "    struct Member {\n",
    "        uint id;\n",
    "        string name;\n",
    "    }\n",
    "    //bidrectional map\n",
    "    mapping(address=>Member) memberMap;\n",
    "    mapping(uint=>address) addressById;\n",
    "    mapping(string=>address) addressByName;\n",
    "    function addMember (uint _id, string memory _name) public {\n",
    "       Member memory m=Member(_id, _name);\n",
    "       memberMap[msg.sender]=m;\n",
    "       //saving into a bidiretional map to get address by id\n",
    "       addressById[_id]=msg.sender;\n",
    "       //saving into a bidiretional map to get address by name\n",
    "       addressByName[_name]=msg.sender;\n",
    "    }\n",
    "    //get Member by id\n",
    "    function getMemberById(uint _id) view public returns(uint, string memory) {\n",
    "        Member memory my = memberMap[addressById[_id]];\n",
    "        return (my.id, my.name);\n",
    "    }\n",
    "    // get address (not Member) by name\n",
    "    function getMemberAddressByName(string memory _name) public view returns(address) {\n",
    "        return addressByName[_name];\n",
    "    }\n",
    "    function getMember(address addr) view public returns (uint, string memory) {\n",
    "        Member memory m=memberMap[addr];\n",
    "        return (m.id, m.name);\n",
    "    }\n",
    "}"
   ]
  },
  {
   "cell_type": "markdown",
   "metadata": {
    "slideshow": {
     "slide_type": "slide"
    }
   },
   "source": [
    "## 9.8 Exception\n",
    "<a id='S.6'></a>\n",
    "\n",
    "오류는 발생하기 마련이다. 컴파일 오류는 수정하기 비교적 용이하다. 그러나 실행시점에 발생하는 오류는 잡아내기 어렵다.\n",
    "다른 언어에서 보통 제공하는 ```try..catch``` 구문도 제공되지 않는다.\n",
    "버전 4.10 이전에는 ```throw``` 명령문이 사용되었지만 문제가 있었다.\n",
    "지급한 gas를 다 소비하고 오류발생 이전의 상태로 돌려놓았다.\n",
    "\n",
    "```python\n",
    "if (msg.sender != owner) { throw; }\n",
    "```\n",
    "\n",
    "버전 4.10이후에는 ```throw```구문은 더 이상 사용되지 않고 다음 구문이 사용된다.\n"
   ]
  },
  {
   "cell_type": "markdown",
   "metadata": {},
   "source": [
    "발생하는 예외는 여러 경우가 있을 수 있다. 실행 시점에 발생하는 예외는 배열이 범위를 넘어서거나 ```out-of-gas errors```, ```divide by zero```와 같이 어떤 특정 조건에서 예외를 발생시킬 수 있다.\n",
    "이 경우 실행이 중지되고, 원상복구 (상태변수와 잔고)된다.\n",
    "\n",
    "###  require\n",
    "```require()```문은 자주 쓰이는 명령문으로 실행한 결과를 ```true```, ```false```로 반환된다. ```false```인 경우 예외가 발생하고 실행이 중지된다. 미사용 gas를 호출자에게 반환하고 상태를 원래대로 복원한다.\n",
    "* 송금이 되었는지 확인하는 경우 ```require(<address>.transfer(amount))```\n",
    "* 조건이 충족되었는지 확인하는 경우 ```require(msg.value == amount)```, ```require(address(this).balance >= amount)```\n",
    "* 함수의 진행에 필요한 사전조건을 확인하는 방식으로, 보통 함수의 맨 앞에 위치하여 사용된다."
   ]
  },
  {
   "cell_type": "markdown",
   "metadata": {},
   "source": [
    "### revert\n",
    "```revert()```문은 ```require()```함수와 동일한 의미지만, ```revert()```문 내에서 참인지, 거짓인지 어떤 평가를 하지 않는다는 점이 다르다. 프로그램 로직에 대해 이진비교 이상을 하는 경우에 사용되기 때문에 **```if/else```**문과 많이 사용된다. ```require()```와 마찬가지로 ```revert()``` 명령문은 미사용 gas를 호출자에게 반환하고 상태를 원래대로 복원한다."
   ]
  },
  {
   "cell_type": "markdown",
   "metadata": {},
   "source": [
    "### assert\n",
    "```assert()``` 미사용 gas는 반환되지 않고, 모두 소모된다. 상태는 원래대로 복원된다.\n",
    "* overflow/underflow ```assert(age > 20)```\n",
    "* 항상 충족해야 하는 조건 ```assert(address(this).balance >= 0)```\n",
    "* 함수가 끝나고 나서 사후조건을 확인하는 방식으로, 보통 함수의 맨 뒤에 위치하여 사용된다. ```require```에 비해 자주 사용되지 않는다."
   ]
  },
  {
   "cell_type": "markdown",
   "metadata": {
    "slideshow": {
     "slide_type": "subslide"
    }
   },
   "source": [
    "명령문 | gas 반환 | 원복 | 사용하는 경우\n",
    "-----|-----|-----|-----\n",
    "```assert()``` | NO | YES | overflow/underflow, invariants 등 어떤 오류가 발생하는 것을 예방하는 경우. 실패하면 중단되며, 다음으로 진행되지 않는다.\n",
    "```revert()``` | YES | YES | ```require()```는 참, 거짓을 평가하지만 조건문 없이 수행되기 때문에 이진비교 이상을 하는 경우. ```revert```되면 중단되며, 다음으로 진행되지 않는다.\n",
    "```require()``` | YES | YES | 사용자 입력 , 상태변수 값, 반환 값 등 조건을 검증하는 경우. 실패하면 중단되며, 다음으로 진행되지 않는다."
   ]
  },
  {
   "cell_type": "code",
   "execution_count": 3,
   "metadata": {
    "collapsed": false,
    "slideshow": {
     "slide_type": "subslide"
    }
   },
   "outputs": [
    {
     "name": "stdout",
     "output_type": "stream",
     "text": [
      "Overwriting src/ExceptionTest.sol\n"
     ]
    }
   ],
   "source": [
    "%%writefile src/ExceptionTest.sol\n",
    "pragma solidity *0.6.0;\n",
    "\n",
    "contract ExceptionTest {\n",
    "    address owner;\n",
    "    constructor() public {\n",
    "        owner=msg.sender;\n",
    "    }\n",
    "    function requireException() view public returns(string memory) {\n",
    "        //if (msg.sender != owner) { throw; }\n",
    "        require(msg.sender != owner, \"Sorry! You are owner. Require failed...\");\n",
    "        return \"require condition met\";\n",
    "    }\n",
    "    function assertException() view public returns(string memory) {\n",
    "        assert(msg.sender == owner);\n",
    "        return \"asserted\";  //do this line only 'assert' is succeeded\n",
    "    }\n",
    "    function revertException() view public returns(string memory) {\n",
    "        if(msg.sender != owner) {\n",
    "            revert(\"Sorry! You are NOT owner. Reverted...\");\n",
    "            //return \"reverted\";  // this line can't be reached if revert is executed \n",
    "        } else {\n",
    "            return \"not reverted\";\n",
    "        }\n",
    "    }\n",
    "    function raiseException() pure public {\n",
    "        int x=0;\n",
    "        int y=0;\n",
    "        x/y;    //divide by zero\n",
    "    }\n",
    "}"
   ]
  },
  {
   "cell_type": "markdown",
   "metadata": {
    "slideshow": {
     "slide_type": "subslide"
    }
   },
   "source": [
    "## 연습문제 주문\n",
    "\n",
    "사용자별 주문은 1:1 관계로 구현하고 있다 (1:n 관계로 구현하려면 복잡해진다). 주문id로 조회할 수 있도록 하기 위해 bidiectional map을 사용하였다.\n",
    "\n",
    "줄 | 설명\n",
    "-----|-----\n",
    "4~12 | 주문 데이터, ```isOrdered```는 중복키 확인용도로 쓰인다.\n",
    "14 | 주문 갯수. 반복문으로 갯수를 세는 것을 피하기 위해서 계속 추적한다.\n",
    "15 | 주문 총액 역시 반복문을 피하기 위해 추적한다.\n",
    "18 | 주문번호에서 검색을 하기 위해 설정한다.\n",
    "22~30 ```placeOrder()``` | 주문금액 확인, 전송자 주소로 주문데이터 확인, 주문갯수 및 주문총액을 추적. bidirectional map을 이용해서 주문id 별로 주문내역을 검색할 수 있게 함. 주문id는 중복되지 않게 생성을 하도록 함.\n",
    "32~35 ```updateStatus()``` | 주문번호를 이용해 주문의 상태를 갱신한다. 관리자만 갱신권한을 가진다.\n"
   ]
  },
  {
   "cell_type": "markdown",
   "metadata": {
    "slideshow": {
     "slide_type": "subslide"
    }
   },
   "source": [
    "## 연습문제\n",
    "\n",
    "A, B 2인의 가위바위보 게임 후 게임머니를 이긴 사람에게 지급"
   ]
  },
  {
   "cell_type": "code",
   "execution_count": null,
   "metadata": {
    "collapsed": true
   },
   "outputs": [],
   "source": []
  }
 ],
 "metadata": {
  "kernelspec": {
   "display_name": "Python 3",
   "language": "python",
   "name": "python3"
  },
  "language_info": {
   "codemirror_mode": {
    "name": "ipython",
    "version": 3
   },
   "file_extension": ".py",
   "mimetype": "text/x-python",
   "name": "python",
   "nbconvert_exporter": "python",
   "pygments_lexer": "ipython3",
   "version": "3.6.9"
  }
 },
 "nbformat": 4,
 "nbformat_minor": 0
}
