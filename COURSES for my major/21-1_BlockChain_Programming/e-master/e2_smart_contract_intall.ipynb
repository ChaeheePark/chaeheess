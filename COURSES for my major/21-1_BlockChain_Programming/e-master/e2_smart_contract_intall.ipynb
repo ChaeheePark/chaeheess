{
 "cells": [
  {
   "cell_type": "markdown",
   "metadata": {
    "slideshow": {
     "slide_type": "slide"
    }
   },
   "source": [
    "# 2. 스마트 계약\n",
    "\n",
    "Last Updated 20210303_202003_201903_201807_20160207\n",
    "* [ok] Ubuntu jsl@smu: ethereum ppa install ethereum, solc\n",
    "* [ok] Mac: ethereum source build ~/Code/else/go-ethereum (solidity install fail 202003)\n",
    "* [ok] Win: geth ganache solidity web3.js web3.py\n",
    "\n",
    "## 학습내용\n",
    "\n",
    "### 목표\n",
    "\n",
    "- 스마트계약이 무엇인지, 어떻게 사용되는지 이해\n",
    "- Geth, Solidity 설치"
   ]
  },
  {
   "cell_type": "markdown",
   "metadata": {
    "collapsed": true,
    "slideshow": {
     "slide_type": "subslide"
    }
   },
   "source": [
    "### 목차\n",
    "\n",
    "* 2.1 스마트계약이란\n",
    "* 2.2 Use Cases\n",
    "* 2.3 플랫폼들\n",
    "* 2.4 이더리움\n",
    "* 2.4.1 이더리움이 뭐지?\n",
    "* 2.4.2 비트코인과 비교\n",
    "* 2.4.3 버전\n",
    "* 2.4.4 ether 가상화폐\n",
    "* 2.4.5 기술스택\n",
    "* 2.4.6 설치\n",
    "    * Geth 설치\n",
    "    * Solidity 설치\n",
    "\n",
    "### 문제\n",
    "\n",
    "### 참고문헌\n",
    "Mastering Ethereum O'Reilly https://github.com/ethereumbook/ethereumbook/"
   ]
  },
  {
   "cell_type": "markdown",
   "metadata": {
    "slideshow": {
     "slide_type": "slide"
    }
   },
   "source": [
    "## 2.1 스마트계약이란\n",
    "\n",
    "### 디지털형식의 계약\n",
    "스마트계약(Smart Contract)은 1996년 Nick Szabo가 처음 이름을 붙이고, **디지털형식으로 명세화된 약속**으로 당사자간에 약속을 이행하는데 필요한 **절차나 규정**을 포함한다고 했다.\n",
    "\n",
    "계약이란 **'쌍방의 의무나 권리에 대해 글이나 말로 약속하는 일'**을 의미하지만\n",
    "스마트계약은 글이나 말이 아닌 **디지털형식**으로 명세화된다.\n",
    "소스코드 또는 소프트웨어로 작성이 되어 계약과 관련된 데이터 처리, 지급과 같은 수행해야할 절차가 자율적으로 실행이 된다.\n",
    "즉 **자율실행계약**으로 전자적으로 실행된다는 것은 **자동적**이란 의미를 내포하고 있어서,\n",
    "조건에 부합하지 않아서 처리가 되지 않는 경우를 제외하고는 그 결과는 실행이 되면 중단되거나 취소될 수 없다.\n",
    "\n",
    "금융거래, 부동산계약, 주식거래 등 어떤 화폐가치가 있는 재화 등을 거래하면서 **중간거래상 없이 (스마트하게) 계약을 체결하고 그와 수반되는 의무를 강제**할 수 있게 한다.\n",
    "당사자 간에 서면으로 만들어진 계약이 없어지고 대신에 **분산원장에서 만들어지고 거래의 체결, 지급 및 조건의 이행 등도 사람의 개입없이** 가능하게 된다.\n"
   ]
  },
  {
   "cell_type": "markdown",
   "metadata": {
    "slideshow": {
     "slide_type": "subslide"
    }
   },
   "source": [
    "### 블록체인에서의 스마트계약\n",
    "스마트계약이 처음 언급된 1996년은 블록체인이 존재하지 않던 시기였다.\n",
    "2009년 비트코인이 등장하고, 비트코인 안에서의 블록체인이 진화해서 스마트 계약을 실행하는 플랫폼으로 활용하고 있다\n",
    "스마트 계약은 **블록체인 네트워크상에서 합의프로토콜에 따라** 계약 확인, 이행 위반 등을 통합적으로 강제할\n",
    "수 있으며 매우 **안전한 거래**를 보장할 수 있는 특징을 가진다.\n",
    "스마트계약은 블록체인 등 분산원장기술(Distributed Ledger Technology)을 사용하여 **데이터**와 **소스코드**를 가지고 실행하면서 당사자 간 자동으로 거래가 체결되고 의무를 강제하는 기술을 말한다.\n",
    "\n",
    "스마트계약은 **계정**을 가지고 있는 **객체**로서\n",
    "금액을 지급하고 받을 수 있는 역할이 다른 점이다.\n",
    "비트코인에서의 블록체인은 거래가 발생하면 이를 저장하고, 참여하는 누구에게나 그 거래가 공유되면서 수정될 수 없게 되면서 안전성을 입증하고 있다. 반면에, 이더리움은 블록체인에서 스마트계약을 실행할 수 있게 되면서, 은행과 같이 입출금 뿐만 아니라 다양한 거래를 보다 스마트하게 할 수 있는 길을 열고 있다.\n",
    "\n",
    "블록체인에서 실행되는 스마트 계약은 **블록체인에 존재하고 고유한 주소로 식별되는 소스코드**이다.\n",
    "스마트 계약은 객체지향에서 말하는 객체와 매우 유사하며 상태변수 및 실행가능한 함수를 포함한다.\n",
    "계약서를 만들면 문서로 존재하는 것이 아니라 주소를 암호화 알고리듬에 따라 생성하고, 그 블록체인의 주소에 업로드 된다.\n",
    "그러면 블록체인 네트워크에 있는 모든 참여자가 계약을 사용할 수 있으며\n",
    "거래를 계약서로 보내면 네트워크에 참여하는 각 노드에서 마이닝되고 실행된다."
   ]
  },
  {
   "cell_type": "markdown",
   "metadata": {
    "slideshow": {
     "slide_type": "subslide"
    }
   },
   "source": [
    "## 2.2 Use Cases\n",
    "\n",
    "### 자동차 렌트\n",
    "\n",
    "자동차를 렌트한다고 하자.\n",
    "렌트회사와 대여자 쌍방간의 계약이 필요하다.\n",
    "- 운전자 이름, 운전면허번호\n",
    "- 차량 번호, 차명\n",
    "- 대여 일시, 장소\n",
    "- 반납일시, 반차장소\n",
    "- 보험 회사\n",
    "- 렌트 비용, 선불, 반환 시간, 주행거리 정산\n",
    "- 예약은 50%, 해약은 24시간 전 30%공제"
   ]
  },
  {
   "cell_type": "markdown",
   "metadata": {
    "slideshow": {
     "slide_type": "subslide"
    }
   },
   "source": [
    "자동차회사 Manufacturer에서 자동차를 생산하면, 판매 대리점 Dealer로 넘어간다. 사용자에게 판매되면 타고 다니다가 Scrap Merchant에서 폐차되거나 중고차 대리점에 되팔기도 한다. 또는 렌트회사 Leasing Company로 넘어가기도 한다. **블록체인**을 이용해 각 단계의 자동차 소유자를 등록하여 변경할 수 있다.\n",
    "\n",
    "종이 계약은 쌍방간에 계약문건과 규정을 만들고 서명을 하여 법적인 효력을 발생한다.\n",
    "**종이 계약은 회사가 매개가 되어 계약이 실행**된다.\n",
    "반면 스마트 계약은 프로그래밍 언어로 코딩되어 컴퓨터에서 실행한다.\n",
    "보통 법적인 계약과 같지만, 필요한 입력 값을 받아, 계약에 명시된 절차에 따라 처리하고, 그 결과에 따른 행위를 수행한다.\n",
    "예를 들어, **렌트회사의 중간 매개 없이** 자동차를 렌트하고 반납하는 절차를 수행할 수 있다.\n",
    "**IBM**에서는 블록체인을 활용하여 자동차 리스를 구현한 사례를 보여주고 있다.\n",
    "https://github.com/IBM-Blockchain-Archive/car-lease-demo\n",
    "\n",
    "\n",
    "\n",
    "![alt text](figures/2_ibmCarRetail-Lifecycle.jpg \"ibm car rental\")"
   ]
  },
  {
   "cell_type": "markdown",
   "metadata": {
    "slideshow": {
     "slide_type": "subslide"
    }
   },
   "source": [
    "![alt text](figures/2_ibmCarRental_Technical_Component_Model.png \"ibm car rental\")"
   ]
  },
  {
   "cell_type": "markdown",
   "metadata": {
    "slideshow": {
     "slide_type": "subslide"
    }
   },
   "source": [
    "### 물류\n",
    "\n",
    "물류는 제조사에서 고객까지 상품이 배달되면서 **많은 기관**, shippers, DHL과 같은 3PLs (Third-Party Logistics Providers), carriers 운송인, consignees수탁자가 관여될 뿐만 아니라, 이들 간에 **많은 거래가 발생하고 관련 문서가 생성**된다 BOLs (bills of lading 선하증권), invoices 신용장, PODs (proof of delivery) 등. 그럼에도 불구하고 정보가 투명하게 공유되지 못하는 경우가 많다.\n",
    "서로 알지 못하는 당사자끼리 거래를 성사시키려면, 중앙에서 매개하는 제삼의 기관이 필요하게 된다. 온라인쇼핑의 경우, 결제후 배송, 거래취소 등의 경우 이를 중앙기관을 믿고 신뢰해야 되지만 중간매개자 없이 거래가 완성이 된다.\n",
    "\n",
    "출처: https://www.globaltranz.com/blog/blockchain-technology-transform-logistics/\n",
    "\n",
    "![alt text](figures/2_how-blockchain-works-globaltranz.png \"logistics blockchain\")"
   ]
  },
  {
   "cell_type": "markdown",
   "metadata": {
    "slideshow": {
     "slide_type": "subslide"
    }
   },
   "source": [
    "### 투표\n",
    "\n",
    "블록체인의 투표는 전자투표와 달리 해킹으로 부터 안전하고, 위변조 가능성이 매우 적다.\n",
    "출처: 블록체인은 우리 생활을 어떻게 바꿀 수 있을까? http://it.donga.com/28140/\n",
    "\n",
    "![alt text](figures/2_votingBlockchain.png \"voting\")"
   ]
  },
  {
   "cell_type": "markdown",
   "metadata": {
    "slideshow": {
     "slide_type": "subslide"
    }
   },
   "source": [
    "### 커피 유통 과정으로 보는 블록체인 웹사이트\n",
    "\n",
    "http://blockchain-coffee-mobile.mybluemix.net/ 블록체인이 적용되면, 농장에서 커피를 원장에 매물로 올려 놓는다. 사용자는 모바일에서 스마트계약을 실행하여 품질, 분량, 가격을 정하여 구매한다. 블록체인은 커피콩의 유통과정을 모두 기록하고, 이 기록은 수정될 수 없기 때문에 누구나 믿고 **투명하게 거래가 실행**될 수 있다.\n",
    "\n",
    "또한 얼마 전 유명인이 투자해서 화제가 된 바 있지만, 자체 암호화폐 코인을 통해 연어를 비롯한 수산물을 국제적으로 거래하는 데 블록체인을 활용한다. 거래대금의 **결제 불이행** 또는 **연체**로 인해 수출보증보험 비용과 미수금 회수 비용이 발생하는데, 블록체인으로 **실시간 투명한 거래**로 이런 과정을 해결하려고 한다.\n",
    "\n",
    "출처: https://developer.ibm.com/articles/cl-coffee-with-blockchain-introduction-to-how-blockchain-works/\n",
    "![alt text](figures/2_coffeeBlockchain2.png \"coffeeBlockchain bluemix\")"
   ]
  },
  {
   "cell_type": "markdown",
   "metadata": {
    "slideshow": {
     "slide_type": "subslide"
    }
   },
   "source": [
    "## 2.3 플랫폼들\n",
    "\n",
    "스마트계약을 구현할 수 있는 플랫폼이 최근 많아지고 있다. 최근 CBDC Central Bank Digital Currency, 중앙은행이 발행한 디지털화폐에 대한 세계 각 국의 동향이 있다. 중국이 가장 적극적이고, 이미 2022년 동계올림픽이 열리는 일부 지역에서 디지털 위완화를 실험도입 중이다. 미국은 2020년까지만 해도 유보적인 입장이었으나, 2021년 연방준비제도 Fed가 CBDC를 검토하고 있다고 말했다. 유럽, 일본, 러시아, 터키, 싱가포르 등 세계의 80%가 CBDC 연구를 진행하고 있다 (2020년 1월 국제결제은행 BIS 보고서). 어느 플랫폼을 기반으로 개발이 될지 관심이 가지 않을 수 없다.\n",
    "\n",
    "* **이더리움**: 블록체인 시장을 주도하고 있는 메인플레이어.\n",
    "* **이오에스아이오** https://eos.io/ 2017년 블록원 Block.one에서 개발을 시작하여 2018년 6월 오픈소스로 발표했다. ICO Initial Coin Offering 역사 상 최대 펀드 총 41억5000만달러(원화 약 4조4630억원)를 모집하였다. PoS의 일종인 위임지분증명방식으로 구동되어, 이더리움에 비해 빠르고, 개스 사용료를 사용자가 지불하지 않고 개발자가 부담한다.\n",
    "* **하이퍼레저 HYPERLEDGER**는 2015년 리눅스재단에서 하이퍼레저 프로젝트 시작했고, 이더리움과 더불어 블록체인을 주도하는 컨소시엄이다. 기업에서 사용할 수 있는 표준적인 블록체인 기술을 구현하는 게 목적이고, 하위 프로젝트 5개가 모여있다. 블록체인 익스플로러 Blockchain Explorer, 패브릭 Fabric, 이로하 Iroha, 쏘우투스레이크 Sawtooth Lake.\n",
    "\n",
    "이 외에도 NEM, STELLAR, WAVES, iOlite, Neblio, Lisk, Quorum, Wanchain, Aeternity, Zen, Counterparty, Rootstock, RChain, Qtum, Ark, Neblio, DFINITY, BOSCoin, Agoras Tauchain, Burst, iOlite, ByteBall, XTRABYTES, PolkaDot, Radix, Exonum, Universa, Urbit, Soil, Expanse, Monax 등 수 많은 플랫폼이 제공되고 있어 선택이 쉽지 않다.\n"
   ]
  },
  {
   "cell_type": "markdown",
   "metadata": {
    "slideshow": {
     "slide_type": "subslide"
    }
   },
   "source": [
    "이더리움은 암호화폐 ether를 가지고 있지만 하이퍼레저는 그렇지 않으며, 네트워크도 공중망을 제공하지 않고 있다. 출처: 하이퍼레저\n",
    "\n",
    "| Bitcoin | Ethereum | Hyperledger Fabric\n",
    "-----|-----|-----|-----\n",
    "암호화폐 | bitcoin | ether | none\n",
    "네트워크 |\tpublic | public or permissioned | permissioned\n",
    "합의 | proof of work | proof of work | PBFT\n",
    "스마트계약 | none | yes (Solidity, Serpent, LLL) | yes (chaincode)\n",
    "언어 | C++ | Golang, C++, Python | Golang, Java"
   ]
  },
  {
   "cell_type": "markdown",
   "metadata": {
    "slideshow": {
     "slide_type": "slide"
    }
   },
   "source": [
    "## 2.4 이더리움\n",
    "<a id='E.3'></a>\n",
    "\n",
    "### 2.4.1 이더리움이 뭐지?\n",
    "\n",
    "스마트 계약을 구현하기 위한 환경으로는 현재 이더리움이 많이 적용되고 있다.\n",
    "이더리움은 블록체인 네트워크에서 스마트 계약을 생성하여\n",
    "발생하는 데이터를 비트코인에서 사용하는 **블록체인에 기록할 뿐만 아니라 스마트콘트랙을 구현하여 실행하는 환경**을 제공한다.\n",
    "**화폐의 전송이 아닌 프로그래밍 코드 형태의 데이터를 전송**하여\n",
    "해당코드를 실행할 수 있는 오픈 플랫폼이다.\n",
    "이더리움은 블록체인을 기반으로 튜링 완전 프로그래밍 언어가 내장된 플랫폼으로 누구나 스마트 계약서 및 분산 응용 프로그램을 작성할 수 있다.\n",
    "\n",
    "암호화폐 **Ether**라고 하는 내부에서 쓰는 화폐를 가지고 있어 금전 거래와 gas라고 하는 트랜잭션 처리 비용에 쓰이고 있다. gas를 부담해야 하므로 불필요한 트랜잭션이 발생되는 것을 막을 수 있어 해킹, DDoS가 예방될 수 있다."
   ]
  },
  {
   "cell_type": "markdown",
   "metadata": {
    "slideshow": {
     "slide_type": "subslide"
    }
   },
   "source": [
    "### 2.4.2 비트코인과 비교\n",
    "\n",
    "비트코인과 비교해서, 이더리움은 스마트계약을 실행할 수 있다는 점이 가장 큰 차이이다.\n",
    "비트코인은 블럭체인에 거래기록을 저장했다면, 이더리움은 프로그램 코드를 실행할 수 있다.\n",
    "비트코인도 스크립트언어를 사용할 수 있지만 필요한 기능에만 제한하여 사용했다.\n",
    "\n",
    "블록 생성시간을 비교하면, 비트코인이 약 10분이고 이더리움은 약 14초이다 (https://ethstats.net/)\n",
    "비트코인은 블록의 크기가 1MB이지만, 이더리움은 블록의 gas limit에 따라 그 크기가 결정된다. 현재 gas limit은 약 800만 https://ethstats.net/, 블록의 크기는 평균 약 20KB이다 (참조: https://etherscan.io/chart/blocksize)\n",
    "\n",
    "구분 | 비트코인 | 이더리움\n",
    "-------|-------|-------\n",
    "주 사용 | 화폐 | Smart contract\n",
    "발행 | 최대 2,100만 비트코인. 모두 마이닝의 보상으로 발급 | 7,200만 ether가 pre-sale. 나머지는 마이닝 보상 발급.\n",
    "블럭체인 | 거래기록 | 거래기록 + 프로그램 코드\n",
    "블럭 생성 시간 | 약 10분 | 약 14초\n",
    "블럭 크기 | currently 1 MB, 약 500거래 | 블록크기라기 보다는 Gas limit에 따라 결정, 약 20KB\n",
    "Smart Contract | No | Yes\n"
   ]
  },
  {
   "cell_type": "markdown",
   "metadata": {
    "slideshow": {
     "slide_type": "subslide"
    }
   },
   "source": [
    "### 2.4.3 버전\n",
    "    \n",
    "2013년 Vitalik Buterin 처음 제안,\n",
    "2014년 7~8월 크라우드판매로 **6천만 Ether를 공모**하였다.\n",
    "매년 20%씩 마이닝 보상으로 발매되어 현재 약 1억 Ether 정도 (현 시세 14만원으로 계산하면 1조가 넘는 시장규모)\n",
    "여러 회에 걸쳐 시험버전을 출시하였고, 2015년 5월 Olympic, Frontier의 베타에 해당되는 시험버전이 발표되고, 곧 이어 2015년 7월 Frontier를 발표했다. 이 버전이 최초의 공중망 버전이라고 볼 수 있다.\n",
    "2016년 3월 Homestead가 발표되었고, 안정화된 플랫폼이다.\n",
    "비잔틴은 하드포크로 2017년 10월 4,370,000 블록에서 하드포크로 만들어진 버전이다.\n",
    "\n",
    "버전 | 버전의 명칭 | 발표 시점 | 설명\n",
    "-----|-----|-----|-----\n",
    "0 | Olympic | 2015, May | Ethereum v0.9, Frontier를 배포하기 전의 시험 버전\n",
    "1 | Frontier | 2015, July | 최초의 live release\n",
    "2 | Homestead | 2016, March | 최초 production release. 상당히 안정화된 버전.\n",
    "3 | Metropolis | 2017 Oct | 업그레이드. Byzantium, Constantinople\n",
    "4 | Serenity | 향후 2021? | 2014년부터 작업해 오던 Casper합의 알고리즘을 구현한 PoS (Proof of Stake)를 적용\n",
    "\n",
    "> Fork\n",
    "\n",
    "> **하드포크 Hard Fork**는 이전 버전과 호환이 되지 않는 변경. 사용자는 버전 업그레이드를 해야만 한다. 하드포크가 발생하면 체인이 메인에서 분기가 된다.\n",
    "예로 들 수 있는 경우는 하드포크로 인해 ETH, ETC 화폐가 분리된 경우이다.\n",
    "반면에 **소프트포크 Soft Fork**는 이전 버전과 호환이 유지되며, 체인이 분리되지 않는다. 이더리움의 통상적인 프로토콜 업그레이드는 소프트포크이다.\n"
   ]
  },
  {
   "cell_type": "markdown",
   "metadata": {
    "slideshow": {
     "slide_type": "subslide"
    }
   },
   "source": [
    "### 2.4.4 Ether 가상화폐\n",
    "\n",
    "이더리움에서 쓰이는 가상화폐이다.\n",
    "스마트 콘트랙을 사용하면서 발생하는 비용이나 계좌이체 등 보통 화페와 같이 이더리움 환경에서 쓰인다.\n",
    "또한 트랜잭션을 마이닝하는 댓가로 지급하는 gas도 ether로 지급한다.\n",
    "\n",
    "비트코인에서는 Unspent Transaction Output (UTXO)를 통하여 계정의 잔고를 보관한다.\n",
    "비트코인에서는 매 트랜잭션 후 남겨진 잔액 기록 UTXO를 저장한다. \n",
    "계정별로 이런 **UTXO를 목록으로 가지고 있고, 잔고는 합계**를 내어 구한다.\n",
    "반면에 이더리움에서는 **계정에 잔고를 최신화해서 저장**한다.\n",
    "그러니까 별도로 잔고를 합산해서 계산할 필요가 없다.\n",
    "이더리움에서 상태를 저장하는 머클트리 Merkle Patricia Trie를 사용해 잔고를 저장한다.\n",
    "\n",
    "이더리움에 따르면 화폐는 무한정 발행되지 않을 것이라고 한다.\n",
    "* 처음 판매된 6천만 ether, 매년 초기 공급분의 약 25%이 발행되고 있다.\n",
    "* 향후 PoS 알고리즘 Casper에서는 마이닝 보상이 적게 발생하게 된다.\n",
    "\n",
    "'Ethereum' (ETH)와 'Ethereum Classic' (ETC)는 다른 화폐이다.\n",
    "2016년 July공격으로 하드포크 hard fork되면서 갈라진 화폐가 ETH이고 공식적으로 통용되고 있다.\n"
   ]
  },
  {
   "cell_type": "markdown",
   "metadata": {
    "slideshow": {
     "slide_type": "subslide"
    }
   },
   "source": [
    "wei는 이더리움에서의 가장 작은 화폐 단위\n",
    "\n",
    "Unit | Wei Value | Wei\n",
    "-----|-----|-----\n",
    "wei | 1 wei | 1\n",
    "Kwei (babbage) | 1e3 wei | 1,000\n",
    "Mwei (lovelace) | 1e6 wei | 1,000,000\n",
    "Gwei (shannon) | 1e9 wei | 1,000,000,000\n",
    "microether (szabo) | 1e12 wei | 1,000,000,000,000\n",
    "milliether (finney) | 1e15 wei | 1,000,000,000,000,000\n",
    "ether | 1e18 wei | 1,000,000,000,000,000,000"
   ]
  },
  {
   "cell_type": "markdown",
   "metadata": {
    "slideshow": {
     "slide_type": "subslide"
    }
   },
   "source": [
    "### 2.4.5 기술 스택\n",
    "\n",
    "이더리움 개발에 필요한 환경을 살펴보자.\n",
    "https://github.com/ethereum/wiki/wiki/Ethereum-Virtual-Machine-(EVM)-Awesome-List\n",
    "\n",
    "* **네트워크**: geth 명령어로 블록체인을 사용하기 위한 P2P네트워크를 구성한다.\n",
    "* **스마트 콘트랙**: 스마트 콘트랙은 Solidity, Serpent, LLL로 구현한다. 이 콘트랙은 데이터를 저장할 수 있고 프로세스를 실행하면서 기존의 서버가 하는 역할을 한다. 이런 작업들이 P2P네트워크 블록체인 상에서 실행된다.\n",
    "* **evm**: Ethereum Virtual Machine. 자바가상머신과 같이 콘트랙 바이트코드를 실행할 수 있는 환경 runtime environment이다.\n",
    "* **클라이언트**: 블록체인을 서버로 간주해서, 그 서버에 있는 데이터 또는 소스코드를 실행하여 작업을 처리하게 자신의 로컬컴퓨터에서 처리한다. geth 단말 또는 nodejs를 사용할 수 있다.\n",
    "* **라이브러리**: 자바스크립트 web3.js web3.py\n",
    "web3.js는 자바스크립트 라이브러리로 JSON RPC. contract 함수 호출 등...\n",
    "* **swam**: 파일 저장소\n",
    "* **whisper**: 블록체인 상에서의 메시지 통신 프로토콜"
   ]
  },
  {
   "cell_type": "markdown",
   "metadata": {
    "slideshow": {
     "slide_type": "subslide"
    }
   },
   "source": [
    "### 2.4.6  설치\n",
    "\n",
    "#### 디렉토리 구성\n",
    "\n",
    "* 최상위 디렉토리 'Code'를 먼저 만든다. 문서 디렉토리가 있듯이, 개발자는 소스코드를 'Code'에 저장하는 것이 좋다.\n",
    "* 'Code' 아래 'myProject' **프로젝트 디렉토리**를 만든다. 학번으로 하는 편이 좋다.\n",
    "* 'myProject' 아래 'src' 디렉토리를 만든다.\n",
    "    * 'scripts'는 html\n",
    "    * 'src'는 **소스코드 파일**들을 저장\n",
    "    * npm으로 라이브러리를 설치하면 node_moudles가 생성된다.\n",
    "\n",
    "```python\n",
    "C:\\Users\\G305\\Code\\jsl\\ 리눅스는 '/home/user/Code/jsl\n",
    "         |\n",
    "         |\n",
    "         gethNow.sh\n",
    "         |\n",
    "         ---> sripts\\\n",
    "         |\n",
    "         ---> src\\\n",
    "                |\n",
    "                ---> Hello.sol\n",
    "                |\n",
    "                ---> HelloDeploy.js\n",
    "         |\n",
    "         | package.json\n",
    "         |\n",
    "         |---> node_modules\n",
    "```"
   ]
  },
  {
   "cell_type": "markdown",
   "metadata": {
    "slideshow": {
     "slide_type": "slide"
    }
   },
   "source": [
    "#### Geth 설치\n",
    "\n",
    "Geth는 Ethereum을 go 언어로 구현한 것으로서, 명령어 입력 방식으로 실행된다.\n",
    "GUI방식으로 mist 등을 설치할 수도 있다.\n",
    "\n",
    "구분 | Ethereum client\n",
    "-----|-----\n",
    "CLI | eth, geth, pyethapp (3rd party: ethereumj, ethereumjs, etherwall)\n",
    "GUI | mist, AlethZero\n",
    "\n",
    "* macOS에 설치\n",
    "```python\n",
    "brew install ethereum\n",
    "```\n",
    "\n",
    "* 우분투에 설치\n",
    "```python\n",
    "sudo apt-get install software-properties-common\n",
    "sudo add-apt-repository ppa:ethereum/ethereum\n",
    "sudo add-apt-repository ppa:ethereum/ethereum-dev\n",
    "sudo apt-get update\n",
    "sudo apt-get install ethereum\n",
    "```"
   ]
  },
  {
   "cell_type": "markdown",
   "metadata": {
    "slideshow": {
     "slide_type": "subslide"
    }
   },
   "source": [
    "* 윈도우에 Geth를 설치해보자\n",
    "\n",
    "다운로드 해서 설치한다. 32비트 또는 64비트 알맞은 버전을 선택해서 설치하면 된다.\n",
    "\n",
    "![alt text](figures/1_gethDownload.png \"geth download page\")"
   ]
  },
  {
   "cell_type": "markdown",
   "metadata": {
    "slideshow": {
     "slide_type": "subslide"
    }
   },
   "source": [
    "설치하는 디렉토리를 설정한다.\n",
    "\n",
    "\n",
    "![alt text](figures/1_gethInstallFolderSelect.png \"geth install foler select\")"
   ]
  },
  {
   "cell_type": "markdown",
   "metadata": {
    "slideshow": {
     "slide_type": "subslide"
    }
   },
   "source": [
    "경로를 설정한다.\n",
    "\n",
    "\n",
    "![alt text](figures/1_gethPath.png \"geth path\")"
   ]
  },
  {
   "cell_type": "markdown",
   "metadata": {
    "slideshow": {
     "slide_type": "subslide"
    }
   },
   "source": [
    "필요한 경우 eth를 설치할 수 있다.\n",
    "\n",
    "* cpp-ethereum (eth)\n",
    "```python\n",
    "\\$ apt-get install cpp-ethereum\n",
    "\\$ eth --console (js콘솔을 엶)\n",
    "```\n",
    "\n",
    "자바환경에서도 ethereum-light-client, ethereumj-android를 설치하여 사용할 수 있다.\n",
    "또한 라즈베리 파이와 같은 환경에서도 블록체인을 사용할 수 있다 (https://github.com/ethereum/wiki/wiki/Raspberry-Pi-instructions)\n"
   ]
  },
  {
   "cell_type": "markdown",
   "metadata": {
    "slideshow": {
     "slide_type": "subslide"
    }
   },
   "source": [
    "* 오류\n",
    "    * Failed to connect to 127.0.0.1:27017 -> 서버를 실행하지 않고 하는 경우 발생한다.\n",
    "    * port already in use (또는 netstat -nlp | grep 하거나 lsof -i tcp:30303)\n",
    "```python\n",
    "\\$ ps -ax | grep geth\n",
    "\\$ kill -9 15302\n",
    "```\n",
    "    * TypeError: BigNumber is not a function -> web3.js가 사용하는 라이브러리이고 자동으로 추가된다. 웹브라우저에서 하면 오류 없이 작동 -> bignumber.js충돌(내거를 넣으면) 디렉토리가 html파일에 있는 것처럼 적어야!!\n",
    "    web3.js는 BigNumber.js가 필요하고 자동으로 사용한다. 따라서 bignumber로 반환하고 결과를 출력하려면 toString()으로 변환해야 한다.\n",
    "```python\n",
    "web3.eth.getBalance(\"0x....\").toString();\n",
    "```\n"
   ]
  },
  {
   "cell_type": "markdown",
   "metadata": {},
   "source": [
    "#### Solidity 설치\n",
    "\n",
    "smart contract은 Solidity 또는 Vyper로 구현할 수 있다.\n",
    "\n",
    "* 리눅스에서 Solidity 설치\n",
    "```python\n",
    "sudo apt-get install solc (for solidity)\n",
    "node solc는 'npm install solc'\n",
    "```\n",
    "\n",
    "* 맥에서 Solidity 설치\n",
    "```python\n",
    "brew install solidity (@4 특정 버전을 정해서 설치하려면 solidity@4)\n",
    "```"
   ]
  },
  {
   "cell_type": "markdown",
   "metadata": {
    "slideshow": {
     "slide_type": "slide"
    }
   },
   "source": [
    "* soldity source build\n",
    "    * git clone으로 소스를 다운로드하고 make\n",
    "    * go-ethereum/build/에 설치됨.\n",
    "```python\n",
    "\\$ git clone https://github.com/ethereum/go-ethereum        \n",
    "\\$ cd go-ethereum\n",
    "\\$ make geth\n",
    "\\$ ./build/bin/geth\n",
    "\\$ make all (모두 빌드하려면)\n",
    "```"
   ]
  },
  {
   "cell_type": "markdown",
   "metadata": {
    "slideshow": {
     "slide_type": "subslide"
    }
   },
   "source": [
    "* Solidity 다운로드\n",
    "\n",
    "https://github.com/ethereum/solidity/releases 로 가서 Solidity를 설치한다\n",
    "아직 Solidity 언어가 발전하고 있어 안정적이지 못하다.\n",
    "그리고 Python에서 사용하려면 ```pip install py-solc```하여 일종의 Wrapper를 설치하면, 설치된 solidity를 실행하여 경유해 사용한다.\n",
    "최신 버전을 설치했으면 그 버전을, 경우에 따라서는 안정성의 문제로 낮은 버전 0.5 또는 0.4.25를 설치하여 각 각 사용하게 된다.\n",
    "\n",
    "![alt text](figures/1_solidityUnzipInstall.png \"nodel run web3 after npm link web3\")"
   ]
  },
  {
   "cell_type": "markdown",
   "metadata": {
    "slideshow": {
     "slide_type": "subslide"
    }
   },
   "source": [
    "Solidity 경로 설정\n",
    "\n",
    "![alt text](figures/1_solidityPathSet.png \"solidity set path\")"
   ]
  },
  {
   "cell_type": "markdown",
   "metadata": {
    "collapsed": true,
    "slideshow": {
     "slide_type": "slide"
    }
   },
   "source": [
    "## 연습문제\n",
    "\n",
    "1. ```Code/myProect/``` 디렉토리와 그 하위 디렉토리를 구성해 보세요.\n",
    "2. ```solc --version```을 실행하여, 설치된 버전을 출력해 보세요.\n",
    "3. ```geth -h```로 geth의 도움말을 출력해 보세요.\n",
    "1. ETC는 ETH와 가격이 다르다. 서로 다른 이유는 무엇인가?\n",
    "DAO관련 오류로 인해 하드포크가 발생하였다. 이 때 원본을 유지하려는 측이 ETC에 남았고, 이더리움은 하드포크를 단행하게 되었다.\n",
    "\n",
    "2. 스마트계약이 완전 turing이란 뜻은?\n",
    "스마트계약의 상태가 언제나 유지된다.\n",
    "\n",
    "3. 플랫폼 HyperLegder에는 암호화폐가 있는지, 어떻게 합의를 이루는지?\n",
    "암호화폐는 없고, 합의는 작업인증이 아니라 마이닝이 없다. pBFT를 사용한다.\n",
    "\n",
    "4. Ethereum HardFork가 언제, 왜 일어났는지 간단히 설명하세요.\n",
    "\n",
    "5. 커피콩에 블록체인을 적용한 사례를 직접 사용해 보고, 개선점이 무엇인지 설명하세요.\n",
    "http://blockchain-coffee-mobile.mybluemix.net/ "
   ]
  }
 ],
 "metadata": {
  "kernelspec": {
   "display_name": "Python 2",
   "language": "python",
   "name": "python2"
  },
  "language_info": {
   "codemirror_mode": {
    "name": "ipython",
    "version": 2
   },
   "file_extension": ".py",
   "mimetype": "text/x-python",
   "name": "python",
   "nbconvert_exporter": "python",
   "pygments_lexer": "ipython2",
   "version": "2.7.17"
  }
 },
 "nbformat": 4,
 "nbformat_minor": 0
}
