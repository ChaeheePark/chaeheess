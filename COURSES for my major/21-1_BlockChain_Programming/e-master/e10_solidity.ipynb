{
 "cells": [
  {
   "cell_type": "markdown",
   "metadata": {
    "slideshow": {
     "slide_type": "slide"
    }
   },
   "source": [
    "#  10. Solidity 함수\n",
    "\n",
    "* Last Updated 20200610WED1800 20190612WEB1200\n",
    "\n",
    "## 10.1 학습내용\n",
    "\n",
    "## 10.1.1 목표\n",
    "\n",
    "* solidity 함수를 정의하고, 타입, 가시성을 설정하고 만들기\n",
    "* modifier 만들기\n",
    "* Event 발생하는 코드 구현\n",
    "* fallback 설정하고 구현"
   ]
  },
  {
   "cell_type": "markdown",
   "metadata": {
    "slideshow": {
     "slide_type": "slide"
    }
   },
   "source": [
    "###### 10.1.2 목차\n",
    "\n",
    "* 10.1 생성자\n",
    "* 10.2 함수 타잎\n",
    "    * 10.2.1 view, pure 함수\n",
    "    * 10.2.2 Payable 함수\n",
    "    * 10.2.3 가시성\n",
    "    * 실습 FunctionTest\n",
    "* 10.3 modifier\n",
    "    * 실습 UnderscoreTest\n",
    "    * 실습 BankV3\n",
    "* 10.4 Events and logs\n",
    "    * 실습 testEvent\n",
    "    * 실습 e_testDeposit\n",
    "    * 실습 e_testDeposit\n",
    "    * 문제 Multiply7Event.sol\n",
    "    * 실습 e_testEvent 복수의 이벤트 사용하기\n",
    "* 10.5 fallback\n",
    "    * 실습 FallbackTest\n",
    "    * 실습 Payable Fallback - Multiply7.sol"
   ]
  },
  {
   "cell_type": "markdown",
   "metadata": {
    "slideshow": {
     "slide_type": "slide"
    }
   },
   "source": [
    "## 10. 함수\n",
    "\n",
    "함수는 **제공되거나 built-in** 또는 **사용자가 정의 user-defined** 로 구분할 수 있다.\n",
    "built-in 함수는 지금까지 배워왔던 ```web3.eth.getAccounts()``` 등 뿐만아리라 ```keccak256()```, ```sha256()```과 같은 여러 함수가 있다. 또한 우리가 스스로 만들어 사용할 수 있는데, 이를 사용자 정의함수라고 한다.\n",
    "\n",
    "아래의 문법에 맞추어, 앞에 ```function```이라고 적어서 함수 선언을 한다.\n",
    "함수의 입력과 출력을 선언한다.\n",
    "가시성과 수행하는 기능의 성격에 따라 ```pure```, ```view```, ```payable```의 수식어를 붙여준다.\n",
    "\n",
    "```python\n",
    "function (param types) {internal|external} [pure|view|payable] [returns (return types)] varName;\n",
    "```"
   ]
  },
  {
   "cell_type": "markdown",
   "metadata": {
    "slideshow": {
     "slide_type": "slide"
    }
   },
   "source": [
    "## 10.1 생성자\n",
    "\n",
    "생성자 ```constructor()```는 컨트랙의 객체를 생성한다.\n",
    "컨트랙의 소유자를 설정하거나, 처음에 설정이 필요한 변수를 초기화할 경우 사용한다.\n",
    "생성자는 객체를 생성할 때 (배포가 완료되는 시점) 한 번만 실행이 된다.\n",
    "* 생성자는 구현하지 않아도 되며, 그럴 경우 기본 생성자가 주어진다. 기본 생성자에는 물론 arg가 없다.\n",
    "* 생성자는 1개만 허용된다. overloading은 할 수 없다는 의미이다.\n",
    "* 보통 외부에서 사용할 수 있도록 **public**으로 선언한다.\n",
    "또는 **internal**로 선언하여 다른 컨트랙이 생성할 수 있게 한다.\n",
    "\n",
    "```python\n",
    "contructor() public { ... }\n",
    "```\n"
   ]
  },
  {
   "cell_type": "markdown",
   "metadata": {},
   "source": [
    "## 10.2 함수 타잎\n",
    "\n",
    "### 10.2.1 view, pure 함수\n",
    "\n",
    "보통 함수는 입출력에 따라 구분할 수 있다. 입력이 있는지, 반환 값이 무엇인지에 따라 구분할 수 있다.\n",
    "블록체인 프로그램에서는 함수가 블록체인을 변경하는지에 따라 구분하고 있다.\n",
    "상태를 변경하지 않는 함수는 ```view```, ```pure```로 표기해야 하고, 따라서 함수를 local에서 실행할 수 있게 한다.\n",
    "**```view```**는 이전 ```constant```를 대체한 명령어로서, 상태를 수정하지 않는 경우, 즉 읽기 전용 read only 함수이다. \n",
    "\n",
    "**```pure```**는  ```view```보다 더 제약이 많은 함수에 붙이는 수식어이다. 함수의 지역변수만을 사용하며, 함수 밖의 그 어떤 변수를 수정하지 못할 뿐만 아니라, 상태 값을 읽지도 않는 경우에 사용한다. \n",
    "\n",
    "구분 | 설명\n",
    "----------|----------\n",
    "view | 상태를 수정하지 않는 경우\n",
    "pure | 상태를 수정하지도 않으며, 읽지도 않는 경우\n",
    "\n",
    "블록체인을 변경하는 **view, pure가 아닌 경우**에는 transaction이 발생하므로 **Transaction hash**가 반환된다. 즉 처리결과 값을 반환return 하지 않는다. event를 사용해서 값을 남겨진 로그에서 확인할 수 있다."
   ]
  },
  {
   "cell_type": "markdown",
   "metadata": {
    "slideshow": {
     "slide_type": "slide"
    }
   },
   "source": [
    "즉 ```pure``` 함수는 다음과 같은 경우는 할 수 없다.\n",
    "* 상태변수 state variables를 읽거나\n",
    "* 잔고 ```this.balance``` 또는 ```<address>.balance```를 읽는 경우\n",
    "* 전역변수 ```block```, ```tx```, ```msg``` (```msg.sig```, ```msg.data``` 제외)를 읽는 경우\n",
    "* ```pure```로 표기되지 않은 함수를 호출하는 경우\n",
    "* ```opcodes```로 작성된 인라인 코드"
   ]
  },
  {
   "cell_type": "markdown",
   "metadata": {
    "slideshow": {
     "slide_type": "subslide"
    }
   },
   "source": [
    "또한 다음과 같은 경우는 블록체인을 수정하는 작업이기 때문에 ```view```는 사용할 수 없다.\n",
    "- 상태변수를 저장하는 경우 (당연히 블록체인에 쓰는 경우이다)\n",
    "- 이벤트 발생 (이벤트가 발생하면 로그에 기록이 남겨진다.)\n",
    "- 다른 컨트랙 생성\n",
    "- ```selfdestruct``` 컨트랙을 삭제하는 경우\n",
    "- ```call``` 함수로 송금하는 경우\n",
    "- ```view``` 또는 ```pure``` 아닌 함수를 호출하는 경우\n",
    "- low-level calls을 호출하는 경우\n",
    "- ```opcodes```로 작성된 인라인 코드\n"
   ]
  },
  {
   "cell_type": "markdown",
   "metadata": {},
   "source": [
    "## 연습문제\n",
    "\n",
    "앞서 작성했던 GlobalVarsTest.sol을 다시 돌아보자.\n",
    "pure, view를 사용한 경우가 위에서 설명한 바와 같은지 확인하자.\n",
    "송금하는 컨트랙도 잔고를 구할 경우 pure, view 어떤 수식어를 사용했는지 확인해보자. \n"
   ]
  },
  {
   "cell_type": "markdown",
   "metadata": {
    "slideshow": {
     "slide_type": "subslide"
    }
   },
   "source": [
    "### 10.2.2 Payable 함수\n",
    "\n",
    "```payable``` 함수는 Ether를 입출금하는 경우에 사용된다.\n",
    "web3 호출하는 측에서 { value: 0 }에 ether를 입력하면 ```msg.value```로 전달된다.\n",
    "컨트랙에서 호출하는 경우는 ```value()```를 사용한다."
   ]
  },
  {
   "cell_type": "markdown",
   "metadata": {
    "slideshow": {
     "slide_type": "slide"
    }
   },
   "source": [
    "### 10.2.3 가시성\n",
    "\n",
    "* ```public``` 외부에서 누구나 사용할 수 있다.\n",
    "* ```internal``` 기본default 가시성으로, 내부 또는 상속관계에서만 사용할 수 있다.\n",
    "* ```private``` 자신만 사용할 수 있다.\n",
    "* ```external```은 ```internal```의 반대로서 외부에서만 사용할 수 있다."
   ]
  },
  {
   "cell_type": "markdown",
   "metadata": {
    "slideshow": {
     "slide_type": "subslide"
    }
   },
   "source": [
    "### 10.2.4 스타일\n",
    "\n",
    "컨트랙 내에 함수를 배치할 때는 다음과 같은 순서로 적어준다 (참조 Solidity Style Guide)\n",
    "- 생성자\n",
    "- fallback 함수\n",
    "- external 함수\n",
    "- public 함수\n",
    "- internal 함수\n",
    "- private 함수"
   ]
  },
  {
   "cell_type": "markdown",
   "metadata": {
    "slideshow": {
     "slide_type": "subslide"
    }
   },
   "source": [
    "### 함수 실습 코드\n",
    "\n",
    "줄 | 설명\n",
    "-----|-----\n",
    "4 ~ 7 ```constructor()``` | 생성자는 앞에 위치시킨다.\n",
    "8 ~ 11 ```increatementX()``` | state var를 수정하므로 ```view```, ```pure```가 아님.\n",
    "13 ~ 15 ```doubleX()``` | 내부함수 ```internal X2()```를 호출함. state var 수정하므로 ```view```, ```pure``` 아님.\n",
    "17 ~ 19 ```divideBy(int by)``` | 0으로 나누어도 오류를 발생하지 않는다. 아직 소수는 지원하지 않으므로 필요한 경우 라이브러리를 사용한다.\n",
    "21 ~ 23 ```getX_()``` | ```view```, ```pure```가 아니므로```returns(int)```해도 반환 값을 받지 못함. 해시값을 돌려줌.\n",
    "25 ~ 27 ```getX()``` | state var를 읽으므로 ```view```를 사용한다.  ```pure```를 사용하지 않는다.\n",
    "28 ~ 30 ```getBalance()``` | 잔고 조회는 view도 가능함.\n",
    "32 ~ 33 ```deposit()``` | ```payable```로 선언해야 입금이 가능. 함수가 비워있어도 ```msg.value```를 입금.\n",
    "35 ~ 37 ```X2()``` | ```internal```로 선언되어서 내부에서만 사용가능.\n",
    "38 ~ 40 ```getBlockNumber()``` | 전역변수를 읽을 경우 ```view```"
   ]
  },
  {
   "cell_type": "code",
   "execution_count": 1,
   "metadata": {
    "collapsed": false,
    "slideshow": {
     "slide_type": "-"
    }
   },
   "outputs": [
    {
     "name": "stdout",
     "output_type": "stream",
     "text": [
      "Writing src/FuctionTest.sol\n"
     ]
    }
   ],
   "source": [
    "%%writefile src/FuctionTest.sol\n",
    "pragma solidity ^0.6.0;\n",
    "contract FunctionTest {\n",
    "    int x;\n",
    "    //constructor\n",
    "    constructor() public {\n",
    "        x = 0;\n",
    "    }\n",
    "    // updating state var x\n",
    "    function incrementX() public {\n",
    "        x += 1;\n",
    "    }\n",
    "    // call when x = 0\n",
    "    function doubleX() public {\n",
    "        X2();\n",
    "    }\n",
    "    // float not supported. try 0, 1/3...\n",
    "    function divideBy(int by) view public returns(int) {\n",
    "        return x/by;\n",
    "    }\n",
    "    // actually NONE returned\n",
    "    function getX_() public returns(int) {\n",
    "        return x;        \n",
    "    }\n",
    "    // try pure\n",
    "    function getX() view public returns(int) {\n",
    "        return x;\n",
    "    }\n",
    "    function getBalance() view public returns(uint) {\n",
    "        return(address(this).balance);\n",
    "    }\n",
    "    // 'payable' means that msg.value can be deposited\n",
    "    function deposit() public payable {\n",
    "    }\n",
    "    // can not be used in public\n",
    "    function X2() internal {\n",
    "        x *= 2;\n",
    "    }\n",
    "    function getBlockNumber() view public returns(uint) {\n",
    "        return block.number;\n",
    "    }\n",
    "}"
   ]
  },
  {
   "cell_type": "markdown",
   "metadata": {
    "slideshow": {
     "slide_type": "subslide"
    }
   },
   "source": [
    "## 10.3 modifier\n",
    "\n",
    "함수의 **제약조건**으로 사용된다. 즉 어떤 함수가 실행되려면 만족해야 하는 조건을 modifier로 정할 수 있다. Owner인 경우, 일정한 기간에 포함되는 경우, 짝수에 해당하는 경우 등 조건을 걸어 그런 경우에만 함수를 실행할 수 있게 한다. 그 효과로 **if문을 제거하는 효과**가 있게 된다.\n",
    "\n",
    "또한 modifier는 보통 함수가 그런 것처럼 **상속**이 가능하다. 또한 override할 수도 있다.\n"
   ]
  },
  {
   "cell_type": "markdown",
   "metadata": {
    "slideshow": {
     "slide_type": "subslide"
    }
   },
   "source": [
    "modifier를 사용할 때 underscore ```_``` 명령어를 통해 어디에 호출 소스코드가 포함되는지 분명히 할 수 있다.\n",
    "아래 코드에서 포함되는 시점을 전 또는 후로 정할 수 있다."
   ]
  },
  {
   "cell_type": "code",
   "execution_count": 2,
   "metadata": {
    "collapsed": false,
    "slideshow": {
     "slide_type": "subslide"
    }
   },
   "outputs": [
    {
     "name": "stdout",
     "output_type": "stream",
     "text": [
      "Writing src/UnderscoreTest.sol\n"
     ]
    }
   ],
   "source": [
    "%%writefile src/UnderscoreTest.sol\n",
    "pragma solidity ^0.6.0;\n",
    "contract UnderscoreTest {\n",
    "    string season = \"\";\n",
    "    function getSeason() view public returns(string memory) {\n",
    "        return season;\n",
    "    }\n",
    "    function setWinter() public setSummerAfter {\n",
    "        season = \"winter\";\n",
    "    }\n",
    "    function setSpring() public setSummerBefore {\n",
    "        season = \"spring\";\n",
    "    }\n",
    "    modifier setSummerAfter() {\n",
    "        season = \"summer\";\n",
    "        _;\n",
    "    }\n",
    "    modifier setSummerBefore() {\n",
    "        _;\n",
    "        season = \"summer\";\n",
    "    }\n",
    "}"
   ]
  },
  {
   "cell_type": "markdown",
   "metadata": {
    "slideshow": {
     "slide_type": "slide"
    }
   },
   "source": [
    "## 실습: 은행\n",
    "\n",
    "앞의 은행 코드에 fallabck, modifier를 넣어서 수정한다."
   ]
  },
  {
   "cell_type": "markdown",
   "metadata": {
    "slideshow": {
     "slide_type": "subslide"
    }
   },
   "source": [
    "### 단계 1: 컨트랙 개발\n",
    "\n",
    "* 입금을 연달아 할 경우, 반드시 일정시간이 지나야 (10초) 입금을 가능하게 하고\n",
    "* 일정 잔고 이상일 경우에만 출금이 되도록 해보자."
   ]
  },
  {
   "cell_type": "code",
   "execution_count": 17,
   "metadata": {
    "collapsed": false
   },
   "outputs": [
    {
     "name": "stdout",
     "output_type": "stream",
     "text": [
      "Overwriting src/BankV3.sol\n"
     ]
    }
   ],
   "source": [
    "%%writefile src/BankV3.sol\n",
    "pragma solidity ^0.5.0;\n",
    "\n",
    "contract BankV3 {\n",
    "    address owner;\n",
    "    uint balance;\n",
    "    uint256 timeToDeposit;\n",
    "    \n",
    "    event PrintLog(string);\n",
    "    event Sent(address from, address to, uint amount );\n",
    "    constructor() public {\n",
    "        owner = msg.sender;\n",
    "        balance = 0;\n",
    "    }\n",
    "    function() external {\n",
    "        emit PrintLog(\"Fallback called\");\n",
    "    }\n",
    "    function forwardTo(address payable _receiver) public payable onlyOwner {\n",
    "        //require(msg.sender == owner);\n",
    "        _receiver.transfer(msg.value);\n",
    "        emit Sent(msg.sender, _receiver, msg.value);\n",
    "    }\n",
    "    function getBalance() public view returns(uint, uint) {\n",
    "        return (balance, address(this).balance);\n",
    "    }\n",
    "    function deposit(uint amount) public payable onlyAfter {\n",
    "        timeToDeposit = now + 10 seconds;\n",
    "        require(msg.value == amount);\n",
    "        balance += amount;\n",
    "    }\n",
    "    function withdrawAll() public onlyOwner minBalance {\n",
    "        balance -= address(this).balance;\n",
    "        //require(msg.sender == owner);\n",
    "        msg.sender.transfer(address(this).balance);\n",
    "    }\n",
    "    modifier onlyOwner {\n",
    "        require(msg.sender == owner);\n",
    "        _;\n",
    "    }\n",
    "    modifier onlyAfter {\n",
    "        require(now >= timeToDeposit);\n",
    "        _;\n",
    "    }\n",
    "    modifier minBalance {\n",
    "        require(address(this).balance>101 wei);\n",
    "        _;\n",
    "    }\n",
    "}"
   ]
  },
  {
   "cell_type": "markdown",
   "metadata": {
    "slideshow": {
     "slide_type": "subslide"
    }
   },
   "source": [
    "### 단계 2: 컴파일"
   ]
  },
  {
   "cell_type": "code",
   "execution_count": 18,
   "metadata": {
    "collapsed": false,
    "scrolled": true
   },
   "outputs": [
    {
     "name": "stdout",
     "output_type": "stream",
     "text": [
      "\r\n",
      "======= src/BankV3.sol:BankV3 =======\r\n",
      "Gas estimation:\r\n",
      "construction:\r\n",
      "   20523 + 211800 = 232323\r\n",
      "external:\r\n",
      "   fallback:\t1795\r\n",
      "   deposit(uint256):\t20509\r\n",
      "   queryBalance():\t601\r\n",
      "   sendTo(address):\tinfinite\r\n",
      "   withdraw():\tinfinite\r\n",
      "Binary: \r\n",
      "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\r\n",
      "Contract JSON ABI \r\n",
      "[{\"constant\":true,\"inputs\":[],\"name\":\"queryBalance\",\"outputs\":[{\"name\":\"\",\"type\":\"uint256\"}],\"payable\":false,\"stateMutability\":\"view\",\"type\":\"function\"},{\"constant\":false,\"inputs\":[],\"name\":\"withdraw\",\"outputs\":[],\"payable\":false,\"stateMutability\":\"nonpayable\",\"type\":\"function\"},{\"constant\":false,\"inputs\":[{\"name\":\"amount\",\"type\":\"uint256\"}],\"name\":\"deposit\",\"outputs\":[],\"payable\":true,\"stateMutability\":\"payable\",\"type\":\"function\"},{\"constant\":false,\"inputs\":[{\"name\":\"_receiver\",\"type\":\"address\"}],\"name\":\"sendTo\",\"outputs\":[],\"payable\":true,\"stateMutability\":\"payable\",\"type\":\"function\"},{\"inputs\":[],\"payable\":false,\"stateMutability\":\"nonpayable\",\"type\":\"constructor\"},{\"payable\":false,\"stateMutability\":\"nonpayable\",\"type\":\"fallback\"},{\"anonymous\":false,\"inputs\":[{\"indexed\":false,\"name\":\"\",\"type\":\"string\"}],\"name\":\"PrintLog\",\"type\":\"event\"},{\"anonymous\":false,\"inputs\":[{\"indexed\":false,\"name\":\"from\",\"type\":\"address\"},{\"indexed\":false,\"name\":\"to\",\"type\":\"address\"},{\"indexed\":false,\"name\":\"amount\",\"type\":\"uint256\"}],\"name\":\"Sent\",\"type\":\"event\"}]\r\n"
     ]
    }
   ],
   "source": [
    "!solc --gas --abi --bin src/BankV3.sol"
   ]
  },
  {
   "cell_type": "markdown",
   "metadata": {
    "slideshow": {
     "slide_type": "subslide"
    }
   },
   "source": [
    "### 단계 3: 컨트랙 배포"
   ]
  },
  {
   "cell_type": "code",
   "execution_count": 19,
   "metadata": {
    "collapsed": false,
    "scrolled": true
   },
   "outputs": [
    {
     "name": "stdout",
     "output_type": "stream",
     "text": [
      "Overwriting src/BankV3Deploy.js\n"
     ]
    }
   ],
   "source": [
    "%%writefile src/BankV3Deploy__.js\n",
    "var Web3=require('web3');\n",
    "var web3;\n",
    "if (typeof web3 !== 'undefined') {\n",
    "    web3 = new Web3(web3.currentProvider);\n",
    "} else {\n",
    "    web3 = new Web3(new Web3.providers.HttpProvider(\"http://117.16.44.45:8445\"));\n",
    "}\n",
    "var _abiArray=[{\"constant\":true,\"inputs\":[],\"name\":\"queryBalance\",\"outputs\":[{\"name\":\"\",\"type\":\"uint256\"}],\"payable\":false,\"stateMutability\":\"view\",\"type\":\"function\"},{\"constant\":false,\"inputs\":[],\"name\":\"withdraw\",\"outputs\":[],\"payable\":false,\"stateMutability\":\"nonpayable\",\"type\":\"function\"},{\"constant\":false,\"inputs\":[{\"name\":\"amount\",\"type\":\"uint256\"}],\"name\":\"deposit\",\"outputs\":[],\"payable\":true,\"stateMutability\":\"payable\",\"type\":\"function\"},{\"constant\":false,\"inputs\":[{\"name\":\"_receiver\",\"type\":\"address\"}],\"name\":\"sendTo\",\"outputs\":[],\"payable\":true,\"stateMutability\":\"payable\",\"type\":\"function\"},{\"inputs\":[],\"payable\":false,\"stateMutability\":\"nonpayable\",\"type\":\"constructor\"},{\"payable\":false,\"stateMutability\":\"nonpayable\",\"type\":\"fallback\"},{\"anonymous\":false,\"inputs\":[{\"indexed\":false,\"name\":\"\",\"type\":\"string\"}],\"name\":\"PrintLog\",\"type\":\"event\"},{\"anonymous\":false,\"inputs\":[{\"indexed\":false,\"name\":\"from\",\"type\":\"address\"},{\"indexed\":false,\"name\":\"to\",\"type\":\"address\"},{\"indexed\":false,\"name\":\"amount\",\"type\":\"uint256\"}],\"name\":\"Sent\",\"type\":\"event\"}];\n",
    "var _bin=\"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\";\n",
    "var _contract = web3.eth.contract(_abiArray);\n",
    "//unlock the account with a password provided\n",
    "//web3.personal.unlockAccount(web3.eth.accounts[0],'password');\n",
    "var _instance=_contract.new({data:\"0x\"+_bin,from:web3.eth.accounts[0],gas:1000000}, function(err, contract) {\n",
    "    if (!err) {\n",
    "        console.log(\"contractAddress: \", contract.address);\n",
    "        console.log(\"transactionHash: \", contract.transactionHash);\n",
    "    }\n",
    "});"
   ]
  },
  {
   "cell_type": "markdown",
   "metadata": {},
   "source": [
    "이번에는 ```async```, ```await```로 변경하여 코드를 작성해보자.\n",
    "배포함수를 ```async function deploy()```로 선언한다.\n",
    "그리고 그 안에 ```await web3.eth.getAccounts()```로 계정을 구해서 이를 활용한다.\n",
    "컨트랙을 생성하기 위해 블록체인에 전송하는 ```await send()``` 함수도 비동기적으로 처리하여, 주소를 출력한다."
   ]
  },
  {
   "cell_type": "code",
   "execution_count": 1,
   "metadata": {
    "collapsed": false
   },
   "outputs": [
    {
     "name": "stdout",
     "output_type": "stream",
     "text": [
      "Overwriting src/BankV3Deploy.js\n"
     ]
    }
   ],
   "source": [
    "%%writefile src/BankV3Deploy.js\n",
    "var Web3 = require('web3');\n",
    "var web3 = new Web3(new Web3.providers.HttpProvider(\"http://117.16.44.45:8445\"));\n",
    "//var _abiArray = JSON.parse(_abiStr);\n",
    "var _abiArray = [{\"constant\":true,\"inputs\":[],\"name\":\"getBalance\",\"outputs\":[{\"name\":\"\",\"type\":\"uint256\"},{\"name\":\"\",\"type\":\"uint256\"}],\"payable\":false,\"stateMutability\":\"view\",\"type\":\"function\"},{\"constant\":false,\"inputs\":[{\"name\":\"_receiver\",\"type\":\"address\"}],\"name\":\"forwardTo\",\"outputs\":[],\"payable\":true,\"stateMutability\":\"payable\",\"type\":\"function\"},{\"constant\":false,\"inputs\":[],\"name\":\"withdrawAll\",\"outputs\":[],\"payable\":false,\"stateMutability\":\"nonpayable\",\"type\":\"function\"},{\"constant\":false,\"inputs\":[{\"name\":\"amount\",\"type\":\"uint256\"}],\"name\":\"deposit\",\"outputs\":[],\"payable\":true,\"stateMutability\":\"payable\",\"type\":\"function\"},{\"inputs\":[],\"payable\":false,\"stateMutability\":\"nonpayable\",\"type\":\"constructor\"},{\"payable\":false,\"stateMutability\":\"nonpayable\",\"type\":\"fallback\"},{\"anonymous\":false,\"inputs\":[{\"indexed\":false,\"name\":\"\",\"type\":\"string\"}],\"name\":\"PrintLog\",\"type\":\"event\"},{\"anonymous\":false,\"inputs\":[{\"indexed\":false,\"name\":\"from\",\"type\":\"address\"},{\"indexed\":false,\"name\":\"to\",\"type\":\"address\"},{\"indexed\":false,\"name\":\"amount\",\"type\":\"uint256\"}],\"name\":\"Sent\",\"type\":\"event\"}];\n",
    "var _bin = \"0x\" + \"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\";\n",
    "//unlock the account with a password provided\n",
    "//web3.personal.unlockAccount(web3.eth.accounts[0],'password');\n",
    "async function deploy() {\n",
    "    const accounts = await web3.eth.getAccounts();\n",
    "    console.log(\"Deploying the contract from \" + accounts[0]);\n",
    "    var deployed = await new web3.eth.Contract(_abiArray)\n",
    "        .deploy({data: _bin})\n",
    "        .send({from: accounts[0], gas: 1000000}, function(err, transactionHash) {\n",
    "                if(!err) console.log(\"hash: \" + transactionHash); \n",
    "        })\n",
    "        //.then(function(newContractInstance){\n",
    "        //    console.log(newContractInstance.options.address)\n",
    "        //});\n",
    "    console.log(\"---> The contract deployed to: \" + deployed.options.address)\n",
    "}\n",
    "deploy()"
   ]
  },
  {
   "cell_type": "code",
   "execution_count": 3,
   "metadata": {
    "collapsed": false
   },
   "outputs": [
    {
     "name": "stdout",
     "output_type": "stream",
     "text": [
      "Deploying the contract from 0x21c704354D07f804baB01894e8B4eB4E0EBA7451\n",
      "hash: 0x72da865e8f67e4fe5f0174beacc87f5757002abf3b500ba92d18bf77c061b756\n",
      "(node:32444) UnhandledPromiseRejectionWarning: Error: Failed to check for transaction receipt:\n",
      "{}\n",
      "    at Object._fireError (/home/jsl/Code/git/bb/jsl/bitcoin/node_modules/web3-utils/src/index.js:57:17)\n",
      "    at /home/jsl/Code/git/bb/jsl/bitcoin/node_modules/web3-core-method/src/index.js:275:27\n",
      "    at <anonymous>\n",
      "(node:32444) UnhandledPromiseRejectionWarning: Unhandled promise rejection. This error originated either by throwing inside of an async function without a catch block, or by rejecting a promise which was not handled with .catch(). (rejection id: 45)\n",
      "(node:32444) [DEP0018] DeprecationWarning: Unhandled promise rejections are deprecated. In the future, promise rejections that are not handled will terminate the Node.js process with a non-zero exit code.\n"
     ]
    }
   ],
   "source": [
    "!node src/BankV3Deploy.js"
   ]
  },
  {
   "cell_type": "code",
   "execution_count": 23,
   "metadata": {
    "collapsed": false
   },
   "outputs": [
    {
     "name": "stdout",
     "output_type": "stream",
     "text": [
      "Overwriting src/BankV3Deploy.js\n"
     ]
    }
   ],
   "source": [
    "%%writefile src/BankV3Deploy.js\n",
    "var Web3 = require('web3');\n",
    "var web3 = new Web3(new Web3.providers.HttpProvider(\"http://117.16.44.45:8345\"));\n",
    "//var _abiArray = JSON.parse(_abiStr);\n",
    "var _abiArray = [{\"constant\":true,\"inputs\":[],\"name\":\"getBalance\",\"outputs\":[{\"name\":\"\",\"type\":\"uint256\"},{\"name\":\"\",\"type\":\"uint256\"}],\"payable\":false,\"stateMutability\":\"view\",\"type\":\"function\"},{\"constant\":false,\"inputs\":[{\"name\":\"_receiver\",\"type\":\"address\"}],\"name\":\"forwardTo\",\"outputs\":[],\"payable\":true,\"stateMutability\":\"payable\",\"type\":\"function\"},{\"constant\":false,\"inputs\":[],\"name\":\"withdrawAll\",\"outputs\":[],\"payable\":false,\"stateMutability\":\"nonpayable\",\"type\":\"function\"},{\"constant\":false,\"inputs\":[{\"name\":\"amount\",\"type\":\"uint256\"}],\"name\":\"deposit\",\"outputs\":[],\"payable\":true,\"stateMutability\":\"payable\",\"type\":\"function\"},{\"inputs\":[],\"payable\":false,\"stateMutability\":\"nonpayable\",\"type\":\"constructor\"},{\"payable\":false,\"stateMutability\":\"nonpayable\",\"type\":\"fallback\"},{\"anonymous\":false,\"inputs\":[{\"indexed\":false,\"name\":\"\",\"type\":\"string\"}],\"name\":\"PrintLog\",\"type\":\"event\"},{\"anonymous\":false,\"inputs\":[{\"indexed\":false,\"name\":\"from\",\"type\":\"address\"},{\"indexed\":false,\"name\":\"to\",\"type\":\"address\"},{\"indexed\":false,\"name\":\"amount\",\"type\":\"uint256\"}],\"name\":\"Sent\",\"type\":\"event\"}];\n",
    "var _bin = \"0x\" + \"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\";\n",
    "//unlock the account with a password provided\n",
    "//web3.personal.unlockAccount(web3.eth.accounts[0],'password');\n",
    "async function deploy() {\n",
    "    const accounts = await web3.eth.getAccounts();\n",
    "    console.log(\"Deploying the contract from \" + accounts[0]);\n",
    "    var deployed = await new web3.eth.Contract(_abiArray)\n",
    "        .deploy({data: _bin})\n",
    "        .send({from: accounts[0], gas: 1000000}, function(err, transactionHash) {\n",
    "                if(!err) console.log(\"hash: \" + transactionHash); \n",
    "        })\n",
    "        //.then(function(newContractInstance){\n",
    "        //    console.log(newContractInstance.options.address)\n",
    "        //});\n",
    "    console.log(\"---> The contract deployed to: \" + deployed.options.address)\n",
    "}\n",
    "deploy()"
   ]
  },
  {
   "cell_type": "code",
   "execution_count": 24,
   "metadata": {
    "collapsed": false
   },
   "outputs": [
    {
     "name": "stdout",
     "output_type": "stream",
     "text": [
      "Deploying the contract from 0xa0EeCb43Bf5FB417fe6Fcd1Af14F757e89052ef1\n",
      "hash: 0xb654da07e509ad39b40797b9892b2b0351ec6f962692b21f9fda2fa2e52d86e4\n",
      "---> The contract deployed to: 0x290EbE3313d9538953c9e3dEB3aa52eAA7C0fb25\n"
     ]
    }
   ],
   "source": [
    "!node src/BankV3Deploy.js"
   ]
  },
  {
   "cell_type": "markdown",
   "metadata": {
    "slideshow": {
     "slide_type": "subslide"
    }
   },
   "source": [
    "### 단계 4: 사용\n",
    "\n",
    "프로그램에 설정한 제약조건을 지켜서 실행헤야 한다.\n",
    "* 10초 이내 저축\n",
    "* 잔고 101보다 적은데 출금"
   ]
  },
  {
   "cell_type": "code",
   "execution_count": 33,
   "metadata": {
    "collapsed": false,
    "slideshow": {
     "slide_type": "subslide"
    }
   },
   "outputs": [
    {
     "name": "stdout",
     "output_type": "stream",
     "text": [
      "Overwriting src/BankV3Use.js\n"
     ]
    }
   ],
   "source": [
    "%%writefile src/BankV3Use__.js\n",
    "var Web3=require('web3');\n",
    "var web3 = new Web3(new Web3.providers.HttpProvider(\"http://117.16.44.45:8445\"));\n",
    "var _abiArray=[{\"constant\":true,\"inputs\":[],\"name\":\"queryBalance\",\"outputs\":[{\"name\":\"\",\"type\":\"uint256\"}],\"payable\":false,\"stateMutability\":\"view\",\"type\":\"function\"},{\"constant\":false,\"inputs\":[],\"name\":\"withdraw\",\"outputs\":[],\"payable\":false,\"stateMutability\":\"nonpayable\",\"type\":\"function\"},{\"constant\":false,\"inputs\":[{\"name\":\"amount\",\"type\":\"uint256\"}],\"name\":\"deposit\",\"outputs\":[],\"payable\":true,\"stateMutability\":\"payable\",\"type\":\"function\"},{\"constant\":false,\"inputs\":[{\"name\":\"_receiver\",\"type\":\"address\"}],\"name\":\"sendTo\",\"outputs\":[],\"payable\":true,\"stateMutability\":\"payable\",\"type\":\"function\"},{\"inputs\":[],\"payable\":false,\"stateMutability\":\"nonpayable\",\"type\":\"constructor\"},{\"payable\":false,\"stateMutability\":\"nonpayable\",\"type\":\"fallback\"},{\"anonymous\":false,\"inputs\":[{\"indexed\":false,\"name\":\"\",\"type\":\"string\"}],\"name\":\"PrintLog\",\"type\":\"event\"},{\"anonymous\":false,\"inputs\":[{\"indexed\":false,\"name\":\"from\",\"type\":\"address\"},{\"indexed\":false,\"name\":\"to\",\"type\":\"address\"},{\"indexed\":false,\"name\":\"amount\",\"type\":\"uint256\"}],\"name\":\"Sent\",\"type\":\"event\"}];\n",
    "var _contract = web3.eth.contract(_abiArray);\n",
    "var bank = _contract.at(\"0x486d4a274e03639c2bd52369f38e15736d760ee0\");\n",
    "//var filter = bank.PrintLog(function (error, result) {\n",
    "//  if (!error)\n",
    "//    console.log(result);\n",
    "//});\n",
    "//console.log(bank.sendTo(0x778ea91cb0d0879c22ca20c5aea6fbf8cbeed480, 100,{from:web3.eth.accounts[0],gas:100000}));\n",
    "console.log(bank.deposit(100, {from:web3.eth.accounts[0], value:100}));\n",
    "console.log(bank.withdraw({from:web3.eth.accounts[0]}));\n",
    "console.log(bank.queryBalance().toNumber());"
   ]
  },
  {
   "cell_type": "markdown",
   "metadata": {},
   "source": [
    "블록체인에 send()가 필요한 함수는 비동기적으로 처리하기 위해 ```await```로 처리한다.\n",
    "비동기적으로 처리하면, 예를 들어 입금 ```deposit()```하고 ```getBalance()```하면 잔고에 입금분만큼 반영이 되어있는 것을 알 수 있다."
   ]
  },
  {
   "cell_type": "code",
   "execution_count": 44,
   "metadata": {
    "collapsed": false
   },
   "outputs": [
    {
     "name": "stdout",
     "output_type": "stream",
     "text": [
      "Overwriting src/BankV3Use.js\n"
     ]
    }
   ],
   "source": [
    "%%writefile src/BankV3Use.js\n",
    "var Web3=require('web3');\n",
    "var web3 = new Web3(new Web3.providers.HttpProvider(\"http://117.16.44.45:8345\"));\n",
    "var _abiArray=[{\"constant\":true,\"inputs\":[],\"name\":\"getBalance\",\"outputs\":[{\"name\":\"\",\"type\":\"uint256\"},{\"name\":\"\",\"type\":\"uint256\"}],\"payable\":false,\"stateMutability\":\"view\",\"type\":\"function\"},{\"constant\":false,\"inputs\":[{\"name\":\"_receiver\",\"type\":\"address\"}],\"name\":\"forwardTo\",\"outputs\":[],\"payable\":true,\"stateMutability\":\"payable\",\"type\":\"function\"},{\"constant\":false,\"inputs\":[],\"name\":\"withdrawAll\",\"outputs\":[],\"payable\":false,\"stateMutability\":\"nonpayable\",\"type\":\"function\"},{\"constant\":false,\"inputs\":[{\"name\":\"amount\",\"type\":\"uint256\"}],\"name\":\"deposit\",\"outputs\":[],\"payable\":true,\"stateMutability\":\"payable\",\"type\":\"function\"},{\"inputs\":[],\"payable\":false,\"stateMutability\":\"nonpayable\",\"type\":\"constructor\"},{\"payable\":false,\"stateMutability\":\"nonpayable\",\"type\":\"fallback\"},{\"anonymous\":false,\"inputs\":[{\"indexed\":false,\"name\":\"\",\"type\":\"string\"}],\"name\":\"PrintLog\",\"type\":\"event\"},{\"anonymous\":false,\"inputs\":[{\"indexed\":false,\"name\":\"from\",\"type\":\"address\"},{\"indexed\":false,\"name\":\"to\",\"type\":\"address\"},{\"indexed\":false,\"name\":\"amount\",\"type\":\"uint256\"}],\"name\":\"Sent\",\"type\":\"event\"}];\n",
    "var bank = new web3.eth.Contract(_abiArray, \"0x290EbE3313d9538953c9e3dEB3aa52eAA7C0fb25\");\n",
    "//var filter = bank.PrintLog(function (error, result) {\n",
    "//  if (!error)\n",
    "//    console.log(result);\n",
    "//});\n",
    "//console.log(bank.sendTo(0x778ea91cb0d0879c22ca20c5aea6fbf8cbeed480, 100,{from:web3.eth.accounts[0],gas:100000}));\n",
    "\n",
    "async function doIt() {\n",
    "    const accounts = await web3.eth.getAccounts();\n",
    "    console.log(\"Account: \" + accounts[0]);\n",
    "    const balanceBefore = await web3.eth.getBalance(accounts[0]);\n",
    "    console.log(\"Balance before: \" + balanceBefore);\n",
    "    bank.methods.getBalance().call().then(console.log);\n",
    "    await bank.methods.deposit(111).send({from: accounts[0], value:111});\n",
    "    bank.methods.getBalance().call().then(console.log);\n",
    "    await bank.methods.withdrawAll().send({from: accounts[0]});    //greater than 101\n",
    "    bank.methods.getBalance().call().then(console.log);\n",
    "    const balanceAfter = await web3.eth.getBalance(accounts[0]);\n",
    "    console.log(\"Balance after: \" + balanceAfter);\n",
    "    console.log(\"Balance diff: \" + (balanceBefore - balanceAfter));\n",
    "    \n",
    "}\n",
    "doIt()"
   ]
  },
  {
   "cell_type": "code",
   "execution_count": 45,
   "metadata": {
    "collapsed": false
   },
   "outputs": [
    {
     "name": "stdout",
     "output_type": "stream",
     "text": [
      "Account: 0xa0EeCb43Bf5FB417fe6Fcd1Af14F757e89052ef1\n",
      "Balance before: 99973586239000000000\n",
      "Result { '0': '0', '1': '0' }\n",
      "Result { '0': '111', '1': '111' }\n",
      "Result { '0': '0', '1': '0' }\n",
      "Balance after: 99972227459000000000\n",
      "Balance diff: 1358780000010240\n"
     ]
    }
   ],
   "source": [
    "!node src/BankV3Use.js"
   ]
  },
  {
   "cell_type": "markdown",
   "metadata": {},
   "source": [
    "결과는 비동기 함수를 일시에 실행하기 때문에 바르게 출력되지 않고 있다.\n",
    "node창에서 실행을 해보면 알 수 있다.m"
   ]
  },
  {
   "cell_type": "markdown",
   "metadata": {
    "slideshow": {
     "slide_type": "subslide"
    }
   },
   "source": [
    "1. deposit(100);\n",
    "2. withdraw() ---> 실패 (프로그램에 101 wei 이상 제약조건)\n",
    "3. deposit(111);\n",
    "value를 반드시 함수인자와 동일하게 입력해야 한다.\n",
    "REMIX에서 할 경우에도 마찬가지이다. Run 탭 상단의 value, Deployed Contracts 함수의 인자 두 필드에 동일한 금액을 넣어준다.\n",
    "4. 빠르게 (프로그램에 설정해 놓은 10초 이내) deposit(111) ---> 실패\n",
    "5. queryBalance() --=> 211\n",
    "6. deposit(111); ---> 10초가 지났으면 실행. 이때 마이닝을 해서 동기화를 시켜줄 필요가 있다.\n",
    "7. queryBalance() ---> 322\n",
    "\n",
    "```python\n",
    "> bank.methods.getBalance().call().then(console.log);              잔고 0\n",
    "> 0\n",
    "> bank.methods.deposit(100).send({from:\"0x4D2fF...\", value:100});    입금 100\n",
    "> //miner.start(1);admin.sleepBlocks(1);miner.stop();                마이닝\n",
    "> bank.methods.getBalance().call().then(console.log);              입금금액 조회 100. 앞 입금거래를 마이닝하고 금액 증가.\n",
    "> 100                                                                \n",
    "> bank.methods.deposit(100).send({from:\"0x4D2fF...\", value:111});    입금 'value'와 '인자'가 서로 다르면 입금 실패\n",
    "> //miner.start(1);admin.sleepBlocks(1);miner.stop();                마이닝\n",
    "undefined\n",
    "> bank.methods.getBalance().call().then(console.log);              실패하였으므로 잔고는 계속 100\n",
    "> 100\n",
    "> bank.methods.deposit(111).send({from:\"0x4D2fF...\", value:111});    입금 111\n",
    "> //miner.start(1);admin.sleepBlocks(1);miner.stop();                마이닝\n",
    "> bank.methods.getBalance().call().then(console.log);              입금 100+111 = 211\n",
    "> 211\n",
    "> bank.methods.deposit(111).send({from:\"0x4D2fF...\", value:111});    (10초 지나서) 입금 111, 마이닝하면 금액 증가함\n",
    "> //miner.start(1);admin.sleepBlocks(1);miner.stop();\n",
    "> bank.methods.getBalance().call().then(console.log);              입금 100+111+111 = 322\n",
    "> 322\n",
    "> bank.methods.deposit(111).send({from:\"0x4D2fF...\", value:111});    입금 111, 마이닝하면 금액 증가함\n",
    "> bank.methods.deposit(111).send({from:\"0x4D2fF...\", value:111});    입금 111, 10초 이내이므로 마이닝해도 금액 증가하지 않음\n",
    "> //miner.start(1);admin.sleepBlocks(1);miner.stop();\n",
    "> bank.methods.getBalance().call().then(console.log);              여러번 입금해도 10초 이내 거래는 실패하고 잔고가 늘지 않음\n",
    "> 433\n",
    "```"
   ]
  },
  {
   "cell_type": "markdown",
   "metadata": {
    "slideshow": {
     "slide_type": "slide"
    }
   },
   "source": [
    "## 10.4 Events and logs\n",
    "<a id='S.3.5'></a>\n",
    "\n",
    "컴퓨터에서 이벤트는 마우스, 키보드 또는 센서로부터 발생할 수 있다.\n",
    "블록체인에서는 그 특성 상 마우스나 키보드의 이벤트가 발생할 수 없고,\n",
    "어떤 함수가 실행되는 경우 이벤트가 발생되는 것으로 한다.\n",
    "\n",
    "###  event, emit\n",
    "\n",
    "함수가 호출되고 함수 내의 **```emit```**명령어로 **이벤트가 발생**된다.\n",
    "그러면 이벤트는 **로그**에 기록되고, 그로부터 이벤트가 인식된다.\n",
    "EVM의 로그 기능을 사용한다. 로그는 blockchain에 저장된다.\n",
    "이벤트는 **상속**할 수 있어서, 부모가 정의한 이벤트를 자식이 물려받아 발생시킬 수 있다."
   ]
  },
  {
   "cell_type": "markdown",
   "metadata": {},
   "source": [
    "#### 단계 1. 이벤트 설정\n",
    "CapWords 스타일로 단어 첫 글자를 대문자로 적어준다.\n",
    "인자를 넣어줄 수 있다.\n",
    "인자 3개까지 로그에서 인덱스로 사용할 수 있고,\n",
    "인자의 해시 값이 로그의 ```topic```으로 출력된다.\n",
    "```python\n",
    "event PrintLog()\n",
    "```"
   ]
  },
  {
   "cell_type": "markdown",
   "metadata": {
    "slideshow": {
     "slide_type": "subslide"
    }
   },
   "source": [
    "#### 단계 2. 함수를 호출할 때 이벤트가 발생하도록 연결한다. 이런 연결을 바인딩 **binding**이라고 한다.\n",
    "\n",
    "```python\n",
    "function fireEvent() {\n",
    "    emit PrintLog()\n",
    "    ...\n",
    "}\n",
    "```"
   ]
  },
  {
   "cell_type": "markdown",
   "metadata": {
    "slideshow": {
     "slide_type": "subslide"
    }
   },
   "source": [
    "#### 단계 3. 이벤트의 발생을 callback 함수로 리스닝한다. ```instance.events.PrintLog()```, 인자가 있어도 생략할 수 있다.\n",
    "JavaScript callbacks을 사용하여 이벤트가 호출되는지 리스닝한다.\n",
    "\n",
    "```python\n",
    "1) 이벤트를 생성하고 리스닝한다.\n",
    "> var myEvent = myInstance.events.PrintLog({from: web3.eth.accounts[0]}, {\n",
    "    fromBlock: 0,     //시작 블록 수\n",
    "    toBlock: 'latest' //끝 블록 수\n",
    "  });\n",
    "> myEvent.watch(function (error, result) {\n",
    "    if (!error) {\n",
    "        console.log(\"Event triggered ===> \",result);\n",
    "        process.exit(1);\n",
    "    }\n",
    "});\n",
    "또는 한 명령어로 합쳐서 다음과 같이 리스닝할 수 있다.\n",
    "var myEvent = myInstance.events.PrintLog({fromBlock: 0}, fromfunction(error, event) {\n",
    "    if (!error)\n",
    "        console.log(event);\n",
    "});\n",
    "```\n"
   ]
  },
  {
   "cell_type": "markdown",
   "metadata": {
    "slideshow": {
     "slide_type": "subslide"
    }
   },
   "source": [
    "#### 단계 4. 함수호출로 이벤트 발생.\n",
    "이벤트를 가지고 있는 함수 호출, ```_instance.MyFunction()``` or ```_instance.MyEvent.watch()```\n",
    "\n",
    "```python\n",
    "> myInstance.fireEvent();\n",
    "```\n",
    "\n",
    "#### 단계 5. 이벤트 watch 중지\n",
    "```python\n",
    "> myEvent.stopWatching();\n",
    "```"
   ]
  },
  {
   "cell_type": "markdown",
   "metadata": {
    "collapsed": true,
    "slideshow": {
     "slide_type": "slide"
    }
   },
   "source": [
    "## 예제: 간단한 이벤트\n",
    "\n",
    "이벤트를 만들고 함수가 호출되는 시점에 발생하도록 해보자.\n",
    "이벤트는 발생하는 시점에 \"Hello World!\" 문자열이 출력되도록 한다.\n",
    "이벤트가 발생하는지는 클라이언트에서 리스닝해서 알아 낸다.\n",
    "이벤트가 발생하면 로그에 기록이 되고, 리스닝한다는 것은 이런 로그의 기록에 이벤트가 발생했는지를 확인하는 것이다."
   ]
  },
  {
   "cell_type": "markdown",
   "metadata": {
    "slideshow": {
     "slide_type": "subslide"
    }
   },
   "source": [
    "### 단계 1: 컨트랙 개발"
   ]
  },
  {
   "cell_type": "code",
   "execution_count": 1,
   "metadata": {
    "collapsed": false
   },
   "outputs": [
    {
     "name": "stdout",
     "output_type": "stream",
     "text": [
      "Overwriting src/EventTest.sol\n"
     ]
    }
   ],
   "source": [
    "%%writefile src/EventTest.sol\n",
    "pragma solidity ^0.6.0;\n",
    "contract EventTest {\n",
    "    event MyLog(string my);\n",
    "    function myFunction() public {\n",
    "        emit MyLog(\"Hello World!\");\n",
    "    }\n",
    "}"
   ]
  },
  {
   "cell_type": "markdown",
   "metadata": {
    "slideshow": {
     "slide_type": "subslide"
    }
   },
   "source": [
    "### 단계 2: 컴파일"
   ]
  },
  {
   "cell_type": "code",
   "execution_count": 1,
   "metadata": {
    "collapsed": false
   },
   "outputs": [
    {
     "name": "stdout",
     "output_type": "stream",
     "text": [
      "\r\n",
      "======= src/EventTest.sol:EventTest =======\r\n",
      "Gas estimation:\r\n",
      "construction:\r\n",
      "   93 + 42600 = 42693\r\n",
      "external:\r\n",
      "   myFunction():\t1748\r\n",
      "Binary:\r\n",
      "6080604052348015600f57600080fd5b5060d58061001e6000396000f3fe6080604052348015600f57600080fd5b506004361060285760003560e01c8063c3780a3a14602d575b600080fd5b60336035565b005b7f5186edd9beca61d795526ca1f274260b3fc74be3e10e1f02e1be1552e14f137360405180806020018281038252600c8152602001807f48656c6c6f20576f726c6421000000000000000000000000000000000000000081525060200191505060405180910390a156fea2646970667358221220b88a03b3a7cef85cfe2ce5e017bedbe9e192f6ef40c8dbc84a9082af5a23d4c164736f6c63430006010033\r\n",
      "Contract JSON ABI\r\n",
      "[{\"anonymous\":false,\"inputs\":[{\"indexed\":false,\"internalType\":\"string\",\"name\":\"my\",\"type\":\"string\"}],\"name\":\"MyLog\",\"type\":\"event\"},{\"inputs\":[],\"name\":\"myFunction\",\"outputs\":[],\"stateMutability\":\"nonpayable\",\"type\":\"function\"}]\r\n"
     ]
    }
   ],
   "source": [
    "!solc --abi --bin --gas src/EventTest.sol"
   ]
  },
  {
   "cell_type": "markdown",
   "metadata": {
    "slideshow": {
     "slide_type": "subslide"
    }
   },
   "source": [
    "### 단계 3: 컨트랙 배포"
   ]
  },
  {
   "cell_type": "code",
   "execution_count": 29,
   "metadata": {
    "collapsed": false
   },
   "outputs": [
    {
     "name": "stdout",
     "output_type": "stream",
     "text": [
      "Overwriting src/testEvent1.js\n"
     ]
    }
   ],
   "source": [
    "%%writefile src/EventTestDeploys__.js\n",
    "var Web3=require('web3');\n",
    "var web3 = new Web3(new Web3.providers.HttpProvider(\"http://117.16.44.45:8445\"));\n",
    "//copy abi from '!solc --abi src/testEvent.sol'\n",
    "var _abiArray=[{\"constant\":false,\"inputs\":[],\"name\":\"MyFunction\",\"outputs\":[],\"payable\":false,\"stateMutability\":\"nonpayable\",\"type\":\"function\"},{\"anonymous\":false,\"inputs\":[{\"indexed\":false,\"name\":\"\",\"type\":\"string\"}],\"name\":\"MyLog\",\"type\":\"event\"}];\n",
    "//var _abiArray=JSON.parse(_abiStr);\n",
    "//copy bin from '!solc --bin src/testEvent.sol'\n",
    "var _bin=\"0x\"+\"6080604052348015600f57600080fd5b5060e88061001e6000396000f3fe6080604052348015600f57600080fd5b50600436106045576000357c010000000000000000000000000000000000000000000000000000000090048063ad6e81d214604a575b600080fd5b60506052565b005b7f5186edd9beca61d795526ca1f274260b3fc74be3e10e1f02e1be1552e14f137360405180806020018281038252600c8152602001807f48656c6c6f20576f726c6421000000000000000000000000000000000000000081525060200191505060405180910390a156fea165627a7a72305820da9dac7ab71e948c4150d99274d7b603a5877bd7f86eb48ce48f0f58aad0ba280029\";\n",
    "var _contract = web3.eth.contract(_abiArray);\n",
    "var _instance=_contract.new({data:_bin,from:web3.eth.accounts[0],gas:1000000}, function(err, contract) {\n",
    "  if (!err && contract.address)\n",
    "    console.log(\"contractAddress: \", contract.address);\n",
    "    console.log(\"transactionHash: \", contract.transactionHash);\n",
    "});\n",
    "console.log(\"after async - transactionHash: \",_instance.transactionHash)\n",
    "console.log(\"after async - contractAddress: \",_instance.address);"
   ]
  },
  {
   "cell_type": "code",
   "execution_count": 3,
   "metadata": {
    "collapsed": false
   },
   "outputs": [
    {
     "name": "stdout",
     "output_type": "stream",
     "text": [
      "Overwriting src/EventTestDeploy.js\n"
     ]
    }
   ],
   "source": [
    "%%writefile src/EventTestDeploy.js\n",
    "var Web3 = require('web3');\n",
    "var web3 = new Web3(new Web3.providers.HttpProvider(\"http://117.16.44.45:8345\"));\n",
    "//var _abiArray = JSON.parse(_abiStr);\n",
    "var _abiArray  =[{\"anonymous\":false,\"inputs\":[{\"indexed\":false,\"internalType\":\"string\",\"name\":\"my\",\"type\":\"string\"}],\"name\":\"MyLog\",\"type\":\"event\"},{\"inputs\":[],\"name\":\"myFunction\",\"outputs\":[],\"stateMutability\":\"nonpayable\",\"type\":\"function\"}];\n",
    "var _bin = \"0x\" + \"6080604052348015600f57600080fd5b5060d58061001e6000396000f3fe6080604052348015600f57600080fd5b506004361060285760003560e01c8063c3780a3a14602d575b600080fd5b60336035565b005b7f5186edd9beca61d795526ca1f274260b3fc74be3e10e1f02e1be1552e14f137360405180806020018281038252600c8152602001807f48656c6c6f20576f726c6421000000000000000000000000000000000000000081525060200191505060405180910390a156fea2646970667358221220b88a03b3a7cef85cfe2ce5e017bedbe9e192f6ef40c8dbc84a9082af5a23d4c164736f6c63430006010033\";\n",
    "\n",
    "async function deploy() {\n",
    "    const accounts = await web3.eth.getAccounts();\n",
    "    console.log(\"Deploying the contract from \" + accounts[0]);\n",
    "    var deployed = await new web3.eth.Contract(_abiArray)\n",
    "        .deploy({data: _bin})\n",
    "        .send({from: accounts[0], gas: 364124, gasPrice: '1000000000'}, function(err, transactionHash) {\n",
    "                if(!err) console.log(\"hash: \" + transactionHash); \n",
    "        })\n",
    "        //.then(function(newContractInstance) {\n",
    "        //    console.log(newContractInstance.options.address)\n",
    "        //});\n",
    "    console.log(\"---> The contract deployed to: \" + deployed.options.address)\n",
    "}\n",
    "deploy()"
   ]
  },
  {
   "cell_type": "markdown",
   "metadata": {},
   "source": [
    "사설망에 배포할 경우에는 계정 암호 풀어야 ```authentication needed: password or unlock``` 오류가 발생하지 않는다."
   ]
  },
  {
   "cell_type": "code",
   "execution_count": 4,
   "metadata": {
    "collapsed": false,
    "scrolled": true
   },
   "outputs": [
    {
     "name": "stdout",
     "output_type": "stream",
     "text": [
      "Deploying the contract from 0x28E9D5b10083b74406b50cbb7B48a299BA6C8Be1\r\n",
      "hash: 0xc301b9cb2c7d6f0f98bc56370a34f46174867969c5b5f2cef9baa7e5619dd153\r\n",
      "---> The contract deployed to: 0x84E260576E134A90a54e35d526a9FCB83Fd4D6EC\r\n"
     ]
    }
   ],
   "source": [
    "!node src/EventTestDeploy.js"
   ]
  },
  {
   "cell_type": "markdown",
   "metadata": {
    "slideshow": {
     "slide_type": "subslide"
    }
   },
   "source": [
    "위에서 주어진 ```transactionHash```를 가지고 처리결과를 알 수 있다.\n",
    "gas 사용량, contractAddress도 찾을 수 있다."
   ]
  },
  {
   "cell_type": "code",
   "execution_count": 6,
   "metadata": {
    "collapsed": false
   },
   "outputs": [
    {
     "name": "stdout",
     "output_type": "stream",
     "text": [
      "{\r\n",
      "  blockHash: \u001b[32m\"0x3ac5bd8bcb62a46a8338a6585d01afd6a6e5201360491d633ee322ffd9432491\"\u001b[0m,\r\n",
      "  blockNumber: \u001b[31m1\u001b[0m,\r\n",
      "  contractAddress: \u001b[32m\"0x577f7d6f4f72cd57cfd3bbe7eec685ce367d4903\"\u001b[0m,\r\n",
      "  cumulativeGasUsed: \u001b[31m110297\u001b[0m,\r\n",
      "  from: \u001b[32m\"0x29ce1c8ad6a62b0e065890dd1eb0ff86da435929\"\u001b[0m,\r\n",
      "  gasUsed: \u001b[31m110297\u001b[0m,\r\n",
      "  logs: [],\r\n",
      "  logsBloom: \u001b[32m\"0x00000000000000000000000000000000000000000000000000000000000000000000000000000000000000000000000000000000000000000000000000000000000000000000000000000000000000000000000000000000000000000000000000000000000000000000000000000000000000000000000000000000000000000000000000000000000000000000000000000000000000000000000000000000000000000000000000000000000000000000000000000000000000000000000000000000000000000000000000000000000000000000000000000000000000000000000000000000000000000000000000000000000000000000000000000000\"\u001b[0m,\r\n",
      "  r: \u001b[32m\"0xbf9f397bbdb8ec41e62bd274668ab297d3ab6a90ea124571c28fb74edfa805bc\"\u001b[0m,\r\n",
      "  s: \u001b[32m\"0x23a01b896e7df3386d9a3581afa02117122d3f3474482cb5d1986d34bbadcb94\"\u001b[0m,\r\n",
      "  status: \u001b[32m\"0x1\"\u001b[0m,\r\n",
      "  to: \u001b[1mnull\u001b[0m,\r\n",
      "  transactionHash: \u001b[32m\"0xf146911d309a2039244e57335f121bc52ea917bd23547e1801c331d941551e0c\"\u001b[0m,\r\n",
      "  transactionIndex: \u001b[31m0\u001b[0m,\r\n",
      "  v: \u001b[32m\"0x1c\"\u001b[0m\r\n",
      "}\r\n"
     ]
    }
   ],
   "source": [
    "!geth --exec 'eth.getTransactionReceipt(\"0xf146911d309a2039244e57335f121bc52ea917bd23547e1801c331d941551e0c\");' attach http://117.16.44.45:8345"
   ]
  },
  {
   "cell_type": "markdown",
   "metadata": {
    "slideshow": {
     "slide_type": "subslide"
    }
   },
   "source": [
    "### 단계 4: 사용\n"
   ]
  },
  {
   "cell_type": "code",
   "execution_count": 1,
   "metadata": {
    "collapsed": false
   },
   "outputs": [
    {
     "name": "stdout",
     "output_type": "stream",
     "text": [
      "Overwriting src/testEvent2.js\n"
     ]
    }
   ],
   "source": [
    "%%writefile src/testEvent2__.js\n",
    "var Web3=require('web3');\n",
    "var web3 = new Web3(new Web3.providers.HttpProvider(\"http://117.16.44.45:8445\"));\n",
    "var _abiArray=[{\"constant\":false,\"inputs\":[],\"name\":\"MyFunction\",\"outputs\":[],\"payable\":false,\"stateMutability\":\"nonpayable\",\"type\":\"function\"},{\"anonymous\":false,\"inputs\":[{\"indexed\":false,\"name\":\"\",\"type\":\"string\"}],\"name\":\"MyLog\",\"type\":\"event\"}];\n",
    "var _contract=web3.eth.contract(_abiArray);\n",
    "var _address=\"0x40dc58fc998d6ed4a384e01d89ba297d5bea2863\";\n",
    "var _instance=web3.eth.contract(_abiArray).at(_address);\n",
    "var filter = _instance.MyLog(function (error, result) {\n",
    "  if (!error)\n",
    "    console.log(result);\n",
    "});\n",
    "_instance.MyFunction.sendTransaction({from:web3.eth.accounts[0]});"
   ]
  },
  {
   "cell_type": "markdown",
   "metadata": {
    "collapsed": true
   },
   "source": [
    "```JSON.stringify```는 Object의 내용을 문자열로 출력한다."
   ]
  },
  {
   "cell_type": "code",
   "execution_count": 1,
   "metadata": {
    "collapsed": false
   },
   "outputs": [
    {
     "name": "stdout",
     "output_type": "stream",
     "text": [
      "Overwriting src/EventTestHttpNoEventFiredUse.js\n"
     ]
    }
   ],
   "source": [
    "%%writefile src/EventTestHttpNoEventFiredUse.js\n",
    "var Web3=require('web3');\n",
    "var web3 = new Web3(new Web3.providers.HttpProvider(\"http://117.16.44.45:8345\"));\n",
    "var _abiArray = [{\"anonymous\":false,\"inputs\":[{\"indexed\":false,\"internalType\":\"string\",\"name\":\"my\",\"type\":\"string\"}],\"name\":\"MyLog\",\"type\":\"event\"},{\"inputs\":[],\"name\":\"myFunction\",\"outputs\":[],\"stateMutability\":\"nonpayable\",\"type\":\"function\"}];\n",
    "var _test = new web3.eth.Contract(_abiArray, '0x84E260576E134A90a54e35d526a9FCB83Fd4D6EC');\n",
    "var event = _test.events.MyLog({fromBlock: 0}, function (error, result) {\n",
    "    if (!error) {\n",
    "        console.log(\"Event fired: \" + JSON.stringify(result.returnValues));\n",
    "    }\n",
    "});\n",
    "\n",
    "async function doIt() {\n",
    "    const accounts = await web3.eth.getAccounts();\n",
    "    console.log(\"Account: \" + accounts[0]);\n",
    "    const balanceBefore = await web3.eth.getBalance(accounts[0]);\n",
    "    console.log(\"Balance before: \" + balanceBefore);\n",
    "    const value = await _test.methods.myFunction()\n",
    "        .send({from: accounts[0], gas: 364124, gasPrice: '1000000000'})\n",
    "        //.then(function(value) {console.log(\"---> myFunction called \" + JSON.stringify(value.events.MyLog.returnValues));});\n",
    "    console.log(\"---> myFunction called \" + JSON.stringify(value.events.MyLog.returnValues));\n",
    "    const balanceAfter = await web3.eth.getBalance(accounts[0]);\n",
    "    console.log(\"Balance after: \" + balanceAfter);\n",
    "    console.log(\"Balance diff: \" + (balanceBefore - balanceAfter));\n",
    "}\n",
    "doIt()"
   ]
  },
  {
   "cell_type": "markdown",
   "metadata": {},
   "source": [
    "HttpProvider는 Event를 호출하지 못하고 있다. 함수 호출하면서 발생한 로그를 ```value.events.MyLog.returnValues```를 통해 출력할 수 있다."
   ]
  },
  {
   "cell_type": "code",
   "execution_count": 2,
   "metadata": {
    "collapsed": false,
    "scrolled": true
   },
   "outputs": [
    {
     "name": "stdout",
     "output_type": "stream",
     "text": [
      "Account: 0x28E9D5b10083b74406b50cbb7B48a299BA6C8Be1\n",
      "Balance before: 99932263510999996667\n",
      "---> myFunction called {\"0\":\"Hello World!\",\"my\":\"Hello World!\"}\n",
      "Balance after: 99932240490999996667\n",
      "Balance diff: 23019999985664\n"
     ]
    }
   ],
   "source": [
    "!node src/EventTestHttpNoEventFiredUse.js"
   ]
  },
  {
   "cell_type": "markdown",
   "metadata": {},
   "source": [
    "#### WebSocketProvider\n",
    "\n",
    "위 프로그램에서 HttpProvider --> WebsocketProvider으로 변경한다. 사설망을 사용하는 경우, WebSocket이 가능하도록 설정해야 한다.\n",
    "\n",
    "#### 파일에 로그 쓰기\n",
    "\n",
    "이벤트가 발생하면 로컬에 다를 프로세스를 호출하는 작업을 할 수 있다. \n",
    "```fs.writeFile(파일명, 데이터, 인코딩방식, callback함수)```함수를 사용하여 이벤트 발생 로그를 로컬 파일에 써보자.\n",
    "```fs.appendFile()```은 파일에 추가하는 기능이다."
   ]
  },
  {
   "cell_type": "code",
   "execution_count": 1,
   "metadata": {
    "collapsed": false
   },
   "outputs": [
    {
     "name": "stdout",
     "output_type": "stream",
     "text": [
      "Overwriting src/EventTestWsUse.js\n"
     ]
    }
   ],
   "source": [
    "%%writefile src/EventTestWsUse.js\n",
    "var Web3=require('web3');\n",
    "var fs=require('fs');\n",
    "var web3 = new Web3(new Web3.providers.WebsocketProvider(\"http://117.16.44.45:8345\"));\n",
    "var _abiArray=[{\"anonymous\":false,\"inputs\":[{\"indexed\":false,\"internalType\":\"string\",\"name\":\"my\",\"type\":\"string\"}],\"name\":\"MyLog\",\"type\":\"event\"},{\"inputs\":[],\"name\":\"myFunction\",\"outputs\":[],\"stateMutability\":\"nonpayable\",\"type\":\"function\"}];\n",
    "\n",
    "async function doIt() {\n",
    "    var _test = new web3.eth.Contract(_abiArray, '0x84E260576E134A90a54e35d526a9FCB83Fd4D6EC');\n",
    "    var event = _test.events.MyLog({fromBlock: 0}, function (error, result) {\n",
    "        if (!error) {\n",
    "            log = JSON.stringify(result.returnValues);\n",
    "            console.log(\"Event fired: \" + log);\n",
    "            //fs.writeFile(\"src/EventTestLog.txt\", log, \"utf-8\", function(e) {\n",
    "            fs.appendFile(\"src/EventTestLog.txt\", log, \"utf-8\", function(e) {\n",
    "                if(!e) {\n",
    "                    console.log(\">> Writing to file\");\n",
    "                }\n",
    "            });\n",
    "        }\n",
    "    });\n",
    "    const accounts = await web3.eth.getAccounts();\n",
    "    console.log(\"Account: \" + accounts[0]);\n",
    "    const balanceBefore = await web3.eth.getBalance(accounts[0]);\n",
    "    console.log(\"Balance before: \" + balanceBefore);\n",
    "    const value = await _test.methods.myFunction()\n",
    "        .send({from: accounts[0], gas: 364124, gasPrice: '1000000000'})\n",
    "        //.then(function(value) {console.log(\"---> myFunction called \" + JSON.stringify(value.events.MyLog.returnValues));});\n",
    "    console.log(\"---> myFunction called \" + JSON.stringify(value.events.MyLog.returnValues));\n",
    "    const balanceAfter = await web3.eth.getBalance(accounts[0]);\n",
    "    console.log(\"Balance after: \" + balanceAfter);\n",
    "    console.log(\"Balance diff: \" + (balanceBefore - balanceAfter));\n",
    "}\n",
    "\n",
    "doIt()"
   ]
  },
  {
   "cell_type": "markdown",
   "metadata": {},
   "source": [
    "계정 암호 해제해야 한다. (node:19884) UnhandledPromiseRejectionWarning: Error: Returned error: authentication needed: password or unlock\n"
   ]
  },
  {
   "cell_type": "code",
   "execution_count": null,
   "metadata": {
    "collapsed": false,
    "scrolled": true
   },
   "outputs": [
    {
     "name": "stdout",
     "output_type": "stream",
     "text": [
      "Event fired: {\"0\":\"Hello World!\",\"my\":\"Hello World!\"}\n",
      "Account: 0x28E9D5b10083b74406b50cbb7B48a299BA6C8Be1\n",
      ">> Writing to file\n",
      "Balance before: 99885635031999993577\n",
      "Event fired: {\"0\":\"Hello World!\",\"my\":\"Hello World!\"}\n",
      ">> Writing to file\n",
      "---> myFunction called {\"0\":\"Hello World!\",\"my\":\"Hello World!\"}\n",
      "Balance after: 99885612011999993577\n",
      "Balance diff: 23020000002048\n"
     ]
    }
   ],
   "source": [
    "!node src/EventTestWsUse.js"
   ]
  },
  {
   "cell_type": "markdown",
   "metadata": {},
   "source": [
    "이벤트 발생하면서 파일에는 아래와 같이 JSON 형식으로 작성된다."
   ]
  },
  {
   "cell_type": "code",
   "execution_count": 1,
   "metadata": {
    "collapsed": false
   },
   "outputs": [
    {
     "name": "stdout",
     "output_type": "stream",
     "text": [
      "{\"0\":\"Hello World!\",\"my\":\"Hello World!\"}"
     ]
    }
   ],
   "source": [
    "!cat src/EventTestLog.txt"
   ]
  },
  {
   "cell_type": "markdown",
   "metadata": {},
   "source": [
    "### event indexing\n",
    "\n",
    "매개변수를 인덱싱한다는 것은, 빠른 검색을 위해 색인을 만들어 놓는다는 의미이다.\n",
    "매개변수 3개까지는 인덱싱을 할 수 있다.\n",
    "\n",
    "예를 들어, Transfer(address indexed _from, address indexed _to, uint256 _value) 이렇게 인덱스가 잡혀 있다면\n",
    "이 경우 전체가 아니라, 송신주소, 수신주소로 국한지어 검색할 수 있게 된다.\n",
    "```python\n",
    "contract.Event({from:\"0xc32c36e7cea09c00e0dbd4bb4e72b8baaa51fd45\"},{fromBlock: 0, toBlock: 'latest'});\n",
    "```"
   ]
  },
  {
   "cell_type": "markdown",
   "metadata": {
    "slideshow": {
     "slide_type": "slide"
    }
   },
   "source": [
    "### event overloading\n",
    "\n",
    "컨트랙에 이벤트를 여러 개 가질 수 있는지의 문제이다.\n",
    "이벤트 **오버로딩**도 가능한지 해보자."
   ]
  },
  {
   "cell_type": "markdown",
   "metadata": {
    "slideshow": {
     "slide_type": "slide"
    }
   },
   "source": [
    "## 실습: Order"
   ]
  },
  {
   "cell_type": "markdown",
   "metadata": {
    "slideshow": {
     "slide_type": "subslide"
    }
   },
   "source": [
    "### 단계 1: 컨트랙 개발"
   ]
  },
  {
   "cell_type": "markdown",
   "metadata": {},
   "source": [
    "변수 ```_itemId```는 ```bytes2```으로 선언되어있다. 값을 입력할 경우 16진수라서 4자리를 넣었다 (예: \"0x1234\")\n"
   ]
  },
  {
   "cell_type": "code",
   "execution_count": 2,
   "metadata": {
    "collapsed": false
   },
   "outputs": [
    {
     "name": "stdout",
     "output_type": "stream",
     "text": [
      "Overwriting src/OrderEvent.sol\n"
     ]
    }
   ],
   "source": [
    "%%writefile src/OrderEvent.sol\n",
    "pragma solidity ^0.6.0;\n",
    "\n",
    "contract OrderEvent {\n",
    "    uint unitPrice = 10;\n",
    "    event OrderLog(string);\n",
    "    event OrderLog(bytes2 _itemId, uint _value);\n",
    "    event OrderLog(uint256 timestamp);\n",
    "    event OrderLog(address indexed _from, bytes2 _itemId, uint indexed _value);\n",
    "\n",
    "    function order(bytes2 _itemId, uint quantity) public payable {\n",
    "        uint256 orderTime = now;\n",
    "        uint256 orderAmount = quantity * unitPrice;\n",
    "        require(msg.value == orderAmount);\n",
    "        emit OrderLog(\"Ordered\");\n",
    "        emit OrderLog(orderTime);\n",
    "        emit OrderLog(msg.sender, _itemId, msg.value);\n",
    "    }\n",
    "}"
   ]
  },
  {
   "cell_type": "markdown",
   "metadata": {
    "slideshow": {
     "slide_type": "subslide"
    }
   },
   "source": [
    "### 단계 2: 컴파일"
   ]
  },
  {
   "cell_type": "code",
   "execution_count": 3,
   "metadata": {
    "collapsed": false
   },
   "outputs": [
    {
     "name": "stdout",
     "output_type": "stream",
     "text": [
      "\n",
      "======= src/OrderEvent.sol:OrderEvent =======\n",
      "Gas estimation:\n",
      "construction:\n",
      "   20159 + 102600 = 122759\n",
      "external:\n",
      "   order(bytes2,uint256):\t5601\n",
      "Binary:\n",
      "6080604052600a60005534801561001557600080fd5b50610201806100256000396000f3fe60806040526004361061001e5760003560e01c806332af7f7314610023575b600080fd5b61007a6004803603604081101561003957600080fd5b8101908080357dffffffffffffffffffffffffffffffffffffffffffffffffffffffffffff191690602001909291908035906020019092919050505061007c565b005b6000429050600080548302905080341461009557600080fd5b7fb9e815be6bf0b588396af8fa0244c9f92e26ad4dbf3694c09d90b0cc9f2be8e56040518080602001828103825260078152602001807f4f7264657265640000000000000000000000000000000000000000000000000081525060200191505060405180910390a17f2fb1e4e17675a393b0a43253759334f7e61806d1ac2690f0432362ed1c4c1611826040518082815260200191505060405180910390a1343373ffffffffffffffffffffffffffffffffffffffff167f1f7c3420c50f5b8875456d867e023a6d440ef2c1706d52ba38f5c6f553b53d508660405180827dffffffffffffffffffffffffffffffffffffffffffffffffffffffffffff19167dffffffffffffffffffffffffffffffffffffffffffffffffffffffffffff1916815260200191505060405180910390a35050505056fea2646970667358221220f1639089861eff944a29e48ea7925f02376e324f0d6656fb1cff157211e5e3d564736f6c63430006010033\n",
      "Contract JSON ABI\n",
      "[{\"anonymous\":false,\"inputs\":[{\"indexed\":false,\"internalType\":\"string\",\"name\":\"\",\"type\":\"string\"}],\"name\":\"OrderLog\",\"type\":\"event\"},{\"anonymous\":false,\"inputs\":[{\"indexed\":false,\"internalType\":\"bytes2\",\"name\":\"_itemId\",\"type\":\"bytes2\"},{\"indexed\":false,\"internalType\":\"uint256\",\"name\":\"_value\",\"type\":\"uint256\"}],\"name\":\"OrderLog\",\"type\":\"event\"},{\"anonymous\":false,\"inputs\":[{\"indexed\":false,\"internalType\":\"uint256\",\"name\":\"timestamp\",\"type\":\"uint256\"}],\"name\":\"OrderLog\",\"type\":\"event\"},{\"anonymous\":false,\"inputs\":[{\"indexed\":true,\"internalType\":\"address\",\"name\":\"_from\",\"type\":\"address\"},{\"indexed\":false,\"internalType\":\"bytes2\",\"name\":\"_itemId\",\"type\":\"bytes2\"},{\"indexed\":true,\"internalType\":\"uint256\",\"name\":\"_value\",\"type\":\"uint256\"}],\"name\":\"OrderLog\",\"type\":\"event\"},{\"inputs\":[{\"internalType\":\"bytes2\",\"name\":\"_itemId\",\"type\":\"bytes2\"},{\"internalType\":\"uint256\",\"name\":\"quantity\",\"type\":\"uint256\"}],\"name\":\"order\",\"outputs\":[],\"stateMutability\":\"payable\",\"type\":\"function\"}]\n"
     ]
    }
   ],
   "source": [
    "!solc --abi --bin --gas src/OrderEvent.sol"
   ]
  },
  {
   "cell_type": "markdown",
   "metadata": {
    "slideshow": {
     "slide_type": "subslide"
    }
   },
   "source": [
    "### 단계 3: 컨트랙 배포\n",
    "\n",
    "컴파일하고 출력되는 abi, bin을 복사해서 배포 프로그램에 넣어주자.\n",
    "사설망에 배포하려면, 계정을 unlock하는 것을 잊지 말자.\n",
    "\n",
    "```python\n",
    "> personal.unlockAccount(eth.accounts[0]);\n",
    "Unlock account 0x21c704354d07f804bab01894e8b4eb4e0eba7451\n",
    "Passphrase: \n",
    "```\n"
   ]
  },
  {
   "cell_type": "code",
   "execution_count": 12,
   "metadata": {
    "collapsed": false
   },
   "outputs": [
    {
     "name": "stdout",
     "output_type": "stream",
     "text": [
      "Overwriting src/OrderEventDeploy.js\n"
     ]
    }
   ],
   "source": [
    "%%writefile src/OrderEventDeploy.js\n",
    "var Web3=require('web3');\n",
    "var web3 = new Web3(new Web3.providers.HttpProvider(\"http://117.16.44.45:8345\"));\n",
    "var _abiArray = [{\"anonymous\":false,\"inputs\":[{\"indexed\":false,\"internalType\":\"string\",\"name\":\"\",\"type\":\"string\"}],\"name\":\"OrderLog\",\"type\":\"event\"},{\"anonymous\":false,\"inputs\":[{\"indexed\":false,\"internalType\":\"bytes2\",\"name\":\"_itemId\",\"type\":\"bytes2\"},{\"indexed\":false,\"internalType\":\"uint256\",\"name\":\"_value\",\"type\":\"uint256\"}],\"name\":\"OrderLog\",\"type\":\"event\"},{\"anonymous\":false,\"inputs\":[{\"indexed\":false,\"internalType\":\"uint256\",\"name\":\"timestamp\",\"type\":\"uint256\"}],\"name\":\"OrderLog\",\"type\":\"event\"},{\"anonymous\":false,\"inputs\":[{\"indexed\":true,\"internalType\":\"address\",\"name\":\"_from\",\"type\":\"address\"},{\"indexed\":false,\"internalType\":\"bytes2\",\"name\":\"_itemId\",\"type\":\"bytes2\"},{\"indexed\":true,\"internalType\":\"uint256\",\"name\":\"_value\",\"type\":\"uint256\"}],\"name\":\"OrderLog\",\"type\":\"event\"},{\"inputs\":[{\"internalType\":\"bytes2\",\"name\":\"_itemId\",\"type\":\"bytes2\"},{\"internalType\":\"uint256\",\"name\":\"quantity\",\"type\":\"uint256\"}],\"name\":\"order\",\"outputs\":[],\"stateMutability\":\"payable\",\"type\":\"function\"}];\n",
    "//var _abiArray = JSON.parse(_abiStr);\n",
    "var _bin=\"0x\" + \"6080604052600a60005534801561001557600080fd5b50610201806100256000396000f3fe60806040526004361061001e5760003560e01c806332af7f7314610023575b600080fd5b61007a6004803603604081101561003957600080fd5b8101908080357dffffffffffffffffffffffffffffffffffffffffffffffffffffffffffff191690602001909291908035906020019092919050505061007c565b005b6000429050600080548302905080341461009557600080fd5b7fb9e815be6bf0b588396af8fa0244c9f92e26ad4dbf3694c09d90b0cc9f2be8e56040518080602001828103825260078152602001807f4f7264657265640000000000000000000000000000000000000000000000000081525060200191505060405180910390a17f2fb1e4e17675a393b0a43253759334f7e61806d1ac2690f0432362ed1c4c1611826040518082815260200191505060405180910390a1343373ffffffffffffffffffffffffffffffffffffffff167f1f7c3420c50f5b8875456d867e023a6d440ef2c1706d52ba38f5c6f553b53d508660405180827dffffffffffffffffffffffffffffffffffffffffffffffffffffffffffff19167dffffffffffffffffffffffffffffffffffffffffffffffffffffffffffff1916815260200191505060405180910390a35050505056fea2646970667358221220f1639089861eff944a29e48ea7925f02376e324f0d6656fb1cff157211e5e3d564736f6c63430006010033\";\n",
    "\n",
    "//unlock the account with a password provided\n",
    "//web3.personal.unlockAccount(web3.eth.accounts[0],'password');\n",
    "async function deploy() {\n",
    "    const accounts = await web3.eth.getAccounts();\n",
    "    console.log(\"Deploying the contract from \" + accounts[0]);\n",
    "    var deployed = await new web3.eth.Contract(_abiArray)\n",
    "        .deploy({data: _bin})\n",
    "        .send({from: accounts[0], gas: 300000}, function(err, transactionHash) {\n",
    "                if(!err) console.log(\"hash: \" + transactionHash); \n",
    "        })\n",
    "        //.then(function(newContractInstance) {\n",
    "        //    console.log(newContractInstance.options.address)\n",
    "        //});\n",
    "    console.log(\"---> The contract deployed to: \" + deployed.options.address)\n",
    "}\n",
    "\n",
    "deploy()"
   ]
  },
  {
   "cell_type": "code",
   "execution_count": 13,
   "metadata": {
    "collapsed": false
   },
   "outputs": [
    {
     "name": "stdout",
     "output_type": "stream",
     "text": [
      "Deploying the contract from 0x28E9D5b10083b74406b50cbb7B48a299BA6C8Be1\n",
      "hash: 0x8ad8ecc07dde85a2a5205c94a24bde80d0335d5e36c6cf24dd1c3b70899b112c\n",
      "---> The contract deployed to: 0x759575cbf8D032b5715a61412fbf7c0e8b729940\n"
     ]
    }
   ],
   "source": [
    "!node src/OrderEventDeploy.js"
   ]
  },
  {
   "cell_type": "code",
   "execution_count": 1,
   "metadata": {
    "collapsed": false
   },
   "outputs": [
    {
     "name": "stdout",
     "output_type": "stream",
     "text": [
      "{\r\n",
      "  blockHash: \u001b[32m\"0xf886f9114d3735207d53b43306ea2aa06e0efa53d744a8e64f2edfd6106eac87\"\u001b[0m,\r\n",
      "  blockNumber: \u001b[31m1\u001b[0m,\r\n",
      "  contractAddress: \u001b[32m\"0xa4eeb56806ad9fca1f53fe44d38f27cb7cac1fed\"\u001b[0m,\r\n",
      "  cumulativeGasUsed: \u001b[31m201359\u001b[0m,\r\n",
      "  from: \u001b[32m\"0xe1cd15d96c6109d32b542573f2943878cc0f5b95\"\u001b[0m,\r\n",
      "  gasUsed: \u001b[31m201359\u001b[0m,\r\n",
      "  logs: [],\r\n",
      "  logsBloom: \u001b[32m\"0x00000000000000000000000000000000000000000000000000000000000000000000000000000000000000000000000000000000000000000000000000000000000000000000000000000000000000000000000000000000000000000000000000000000000000000000000000000000000000000000000000000000000000000000000000000000000000000000000000000000000000000000000000000000000000000000000000000000000000000000000000000000000000000000000000000000000000000000000000000000000000000000000000000000000000000000000000000000000000000000000000000000000000000000000000000000\"\u001b[0m,\r\n",
      "  r: \u001b[32m\"0x2403903754ecbc39258859b7aaa8e5b48141193fbaf410af3da8da5bdd1febaf\"\u001b[0m,\r\n",
      "  s: \u001b[32m\"0x5d147727cb64c69d24307e1a47e157b06f980418d3c4f2cf1eae4aa796ced744\"\u001b[0m,\r\n",
      "  status: \u001b[32m\"0x1\"\u001b[0m,\r\n",
      "  to: \u001b[1mnull\u001b[0m,\r\n",
      "  transactionHash: \u001b[32m\"0x77ec35fe3c55b792b6d9b998fa6e6803a3da28fcf17ef07ca5bdbe996f69d9b5\"\u001b[0m,\r\n",
      "  transactionIndex: \u001b[31m0\u001b[0m,\r\n",
      "  v: \u001b[32m\"0x1c\"\u001b[0m\r\n",
      "}\r\n"
     ]
    }
   ],
   "source": [
    "!geth --exec \"eth.getTransactionReceipt('0x77ec35fe3c55b792b6d9b998fa6e6803a3da28fcf17ef07ca5bdbe996f69d9b5')\" attach http://117.16.44.45:8345"
   ]
  },
  {
   "cell_type": "markdown",
   "metadata": {
    "slideshow": {
     "slide_type": "subslide"
    }
   },
   "source": [
    "### 단계 4: 사용\n",
    "\n",
    "event는 async방식으로 ```order()```함수가 호출되면 실행된다.\n",
    "Order에 넘겨주는 매개변수는 바이트는 2바이트를 채워서 \"0x1234\", 주문량은 정수 3으로 맞추어 준다.\n",
    "호출한 클라이언트에 event의 argument를 받아볼 수 있다 (예: result.args._from은 주소)\n",
    "\n",
    "currentProvider는 MetaMask, Mist와 같은 Wallet을 사용하는 경우 자동으로 설정된다.\n",
    "\n",
    "라인 | 설명\n",
    "-----|-----\n",
    "6 | WebsocketProvider으로 설정한다.\n",
    "17 | **```filter: {_from: accounts[0], _value: 30}```** 인덱싱 걸어놓은 이벤트에 대해 해당 조건에 맞는 경우만 출력한다. 따라서 40, 100은 출력하지 않는다.\n",
    "18 | **```fromBlock: 'latest', toBlock: 'pending'```** 최근부터 대기하는 이벤트를 출력한다. fromBlock: 0, toBlock: 'latest'는 처움 블록부터 발생한 이벤트를 모두 출력한다.\n",
    "35 ~ 39 | 이벤트 로그에 대해 인덱싱에 해당되지 않아, ```my.events.OrderLog.returnValues``` 필드가 없게 되어 ```undefined```로 출력하고 있다."
   ]
  },
  {
   "cell_type": "code",
   "execution_count": 1,
   "metadata": {
    "collapsed": false
   },
   "outputs": [
    {
     "name": "stdout",
     "output_type": "stream",
     "text": [
      "Overwriting src/OrderEventUse.js\n"
     ]
    }
   ],
   "source": [
    "%%writefile src/OrderEventUse.js\n",
    "var Web3=require('web3');\n",
    "var web3;\n",
    "if (typeof web3 !== 'undefined') {\n",
    "    web3 = new Web3(web3.currentProvider);\n",
    "} else {\n",
    "    var web3 = new Web3(new Web3.providers.WebsocketProvider(\"http://117.16.44.45:8345\"));\n",
    "}\n",
    "var _abiArray = [{\"anonymous\":false,\"inputs\":[{\"indexed\":false,\"internalType\":\"string\",\"name\":\"\",\"type\":\"string\"}],\"name\":\"OrderLog\",\"type\":\"event\"},{\"anonymous\":false,\"inputs\":[{\"indexed\":false,\"internalType\":\"bytes2\",\"name\":\"_itemId\",\"type\":\"bytes2\"},{\"indexed\":false,\"internalType\":\"uint256\",\"name\":\"_value\",\"type\":\"uint256\"}],\"name\":\"OrderLog\",\"type\":\"event\"},{\"anonymous\":false,\"inputs\":[{\"indexed\":false,\"internalType\":\"uint256\",\"name\":\"timestamp\",\"type\":\"uint256\"}],\"name\":\"OrderLog\",\"type\":\"event\"},{\"anonymous\":false,\"inputs\":[{\"indexed\":true,\"internalType\":\"address\",\"name\":\"_from\",\"type\":\"address\"},{\"indexed\":false,\"internalType\":\"bytes2\",\"name\":\"_itemId\",\"type\":\"bytes2\"},{\"indexed\":true,\"internalType\":\"uint256\",\"name\":\"_value\",\"type\":\"uint256\"}],\"name\":\"OrderLog\",\"type\":\"event\"},{\"inputs\":[{\"internalType\":\"bytes2\",\"name\":\"_itemId\",\"type\":\"bytes2\"},{\"internalType\":\"uint256\",\"name\":\"quantity\",\"type\":\"uint256\"}],\"name\":\"order\",\"outputs\":[],\"stateMutability\":\"payable\",\"type\":\"function\"}];\n",
    "//var _abiArray=JSON.parse(_abiStr);\n",
    "\n",
    "async function doIt() {\n",
    "    var _order = new web3.eth.Contract(_abiArray, '0x759575cbf8D032b5715a61412fbf7c0e8b729940');\n",
    "    const accounts = await web3.eth.getAccounts();\n",
    "    console.log(\"Account: \" + accounts[0]);\n",
    "    var event = _order.events.OrderLog({\n",
    "            //filter: {_from: accounts[0], _value: [20,50]},\n",
    "            filter: {_from: accounts[0], _value: 30},\n",
    "            fromBlock: 'latest', toBlock: 'pending'\n",
    "        }, function (error, result) {\n",
    "        if (!error) {\n",
    "            //console.log(\"Event fired: \" + JSON.stringify(result) + \"\\n---> \" + JSON.stringify(result.returnValues));\n",
    "            console.log(\"Event fired: \" + JSON.stringify(result.returnValues));\n",
    "            //process.exit(1);\n",
    "        }\n",
    "    });\n",
    "    var value;\n",
    "    const balanceBefore = await web3.eth.getBalance(accounts[0]);\n",
    "    console.log(\"Balance before: \" + balanceBefore);\n",
    "    // this will fire an event\n",
    "    my = await _order.methods.order(\"0x1234\", 3)\n",
    "        .send({from: accounts[0], gas: 100000, value:30})\n",
    "        //.then(function(my) {console.log(\"---> MyFunction called \" + JSON.stringify(my.events.OrderLog.returnValues));});\n",
    "    console.log(\"---> MyFunction called \" + JSON.stringify(my.events.OrderLog.returnValues));\n",
    "    // this will fire another event\n",
    "    my = await _order.methods.order(\"0x1234\", 4).send({from: accounts[0], gas: 100000, value:40});\n",
    "    console.log(\"---> MyFunction called \" + JSON.stringify(my.events.OrderLog.returnValues));\n",
    "    // this will NOT fire another event\n",
    "    my = await _order.methods.order(\"0x1234\", 10).send({from: accounts[0], gas: 100000, value:100});\n",
    "    console.log(\"---> MyFunction called \" + JSON.stringify(my.events.OrderLog.returnValues));\n",
    "    const balanceAfter = await web3.eth.getBalance(accounts[0]);\n",
    "    console.log(\"Balance after: \" + balanceAfter);\n",
    "    console.log(\"Balance diff: \" + (balanceBefore - balanceAfter));\n",
    "}\n",
    "\n",
    "doIt()\n"
   ]
  },
  {
   "cell_type": "markdown",
   "metadata": {
    "collapsed": true
   },
   "source": [
    "첫째 인자는 키를 가지고 있다.\n"
   ]
  },
  {
   "cell_type": "code",
   "execution_count": null,
   "metadata": {
    "collapsed": false
   },
   "outputs": [
    {
     "name": "stdout",
     "output_type": "stream",
     "text": [
      "Account: 0x28E9D5b10083b74406b50cbb7B48a299BA6C8Be1\n",
      "Balance before: 99887306051999993777\n",
      "Event fired: {\"0\":\"0x28E9D5b10083b74406b50cbb7B48a299BA6C8Be1\",\"1\":\"0x1234\",\"2\":\"30\",\"_from\":\"0x28E9D5b10083b74406b50cbb7B48a299BA6C8Be1\",\"_itemId\":\"0x1234\",\"_value\":\"30\"}\n",
      "---> MyFunction called undefined\n",
      "---> MyFunction called undefined\n",
      "---> MyFunction called undefined\n",
      "Balance after: 99885702791999993607\n",
      "Balance diff: 1603259999993856\n"
     ]
    }
   ],
   "source": [
    "!node src/OrderEventUse.js"
   ]
  },
  {
   "cell_type": "markdown",
   "metadata": {
    "slideshow": {
     "slide_type": "subslide"
    }
   },
   "source": [
    "## 연습문제 Multiply7\n",
    "\n",
    "앞서 Multiply7을 구현해 보았다.\n",
    "이 컨트랙에 이벤트를 추가해서 구현해보자.\n",
    "아래 주어진 미완성 코드를 구현해서 노드에서 이벤트를 띄워보자.\n",
    "\n",
    "* 함수는 param4인자를 받아서 곱하기 7 연산을 한다. 8과 16의 연산을 실행하자. 그 결과는 56과 112가 출력될 것이다.\n",
    "* 이벤트로 넘겨주는 매개변수 param1은 누가 이 함수를 호출했는지 (address), param2는 언제 호출되었는지 (timestamp), 마지막으로 param3는 연산결과를 출력하도록 한다.\n",
    "\n",
    "```python\n",
    "contract Multiply7Event {\n",
    "    event Print(param1, param2, param3);\n",
    "    function multiply(param4);\n",
    "}\n",
    "```\n"
   ]
  },
  {
   "cell_type": "markdown",
   "metadata": {
    "slideshow": {
     "slide_type": "subslide"
    }
   },
   "source": [
    "### 단계 1: 컨트랙 개발\n",
    "\n",
    "```multiply()``` 함수는 ```pure```로 선언되어야 마땅하지만, ```event```를 발생하므로 ```pure``` 또는 ```view```가 될 수가 없다.\n",
    "따라서 값을 반환하는 것이 의미가 없고, 다음과 같이 \n",
    "```function multiply(uint input) public``` 선언하는 것이 바람직하다."
   ]
  },
  {
   "cell_type": "code",
   "execution_count": 1,
   "metadata": {
    "collapsed": false
   },
   "outputs": [
    {
     "name": "stdout",
     "output_type": "stream",
     "text": [
      "Overwriting src/Multiply7Event.sol\n"
     ]
    }
   ],
   "source": [
    "%%writefile src/Multiply7Event.sol\n",
    "pragma solidity ^0.6.0;\n",
    "contract Multiply7Event {\n",
    "    event Print(address _addr, uint256 timestamp, uint res);\n",
    "    //function multiply(uint input) public returns(uint) {\n",
    "    function multiply(uint input) public {\n",
    "        uint res = input * 7;\n",
    "        emit Print(msg.sender, now, res);\n",
    "        //return res;\n",
    "    }\n",
    "}"
   ]
  },
  {
   "cell_type": "markdown",
   "metadata": {
    "slideshow": {
     "slide_type": "subslide"
    }
   },
   "source": [
    "### 단계 2: 컴파일"
   ]
  },
  {
   "cell_type": "code",
   "execution_count": 3,
   "metadata": {
    "collapsed": false
   },
   "outputs": [
    {
     "name": "stdout",
     "output_type": "stream",
     "text": [
      "\r\n",
      "======= src/Multiply7Event.sol:Multiply7Event =======\r\n",
      "Gas estimation:\r\n",
      "construction:\r\n",
      "   111 + 59000 = 59111\r\n",
      "external:\r\n",
      "   multiply(uint256):\t1928\r\n",
      "Binary:\r\n",
      "6080604052348015600f57600080fd5b506101278061001f6000396000f3fe6080604052348015600f57600080fd5b506004361060285760003560e01c8063c6888fa114602d575b600080fd5b605660048036036020811015604157600080fd5b8101908080359060200190929190505050606c565b6040518082815260200191505060405180910390f35b6000806007830290507f91da4985ab616136202f4e81fd2d8cac1eb12591132d609cece407f7c6fb9205334283604051808473ffffffffffffffffffffffffffffffffffffffff1673ffffffffffffffffffffffffffffffffffffffff168152602001838152602001828152602001935050505060405180910390a18091505091905056fea26469706673582212201f2b58641bcadee708439f7e52d3b7d33168278dbdc6285f760ef41356a006df64736f6c63430006010033\r\n",
      "Contract JSON ABI\r\n",
      "[{\"anonymous\":false,\"inputs\":[{\"indexed\":false,\"internalType\":\"address\",\"name\":\"_addr\",\"type\":\"address\"},{\"indexed\":false,\"internalType\":\"uint256\",\"name\":\"timestamp\",\"type\":\"uint256\"},{\"indexed\":false,\"internalType\":\"uint256\",\"name\":\"res\",\"type\":\"uint256\"}],\"name\":\"Print\",\"type\":\"event\"},{\"inputs\":[{\"internalType\":\"uint256\",\"name\":\"input\",\"type\":\"uint256\"}],\"name\":\"multiply\",\"outputs\":[{\"internalType\":\"uint256\",\"name\":\"\",\"type\":\"uint256\"}],\"stateMutability\":\"nonpayable\",\"type\":\"function\"}]\r\n"
     ]
    }
   ],
   "source": [
    "!solc --gas --abi --bin src/Multiply7Event.sol"
   ]
  },
  {
   "cell_type": "markdown",
   "metadata": {
    "slideshow": {
     "slide_type": "subslide"
    }
   },
   "source": [
    "### 단계 3: 컨트랙 배포\n",
    "* 위 abi, bin을 복사해서 붙여 넣는다."
   ]
  },
  {
   "cell_type": "code",
   "execution_count": 92,
   "metadata": {
    "collapsed": false
   },
   "outputs": [
    {
     "name": "stdout",
     "output_type": "stream",
     "text": [
      "Overwriting src/Multiply7EventDeploy.js\n"
     ]
    }
   ],
   "source": [
    "%%writefile src/Multiply7EventDeploy__.js\n",
    "var Web3=require('web3');\n",
    "var web3;\n",
    "if (typeof web3 !== 'undefined') {\n",
    "    web3 = new Web3(web3.currentProvider);\n",
    "} else {\n",
    "    web3 = new Web3(new Web3.providers.HttpProvider(\"http://117.16.44.45:8445\"));\n",
    "}\n",
    "var _abiArray=[{\"constant\":false,\"inputs\":[{\"name\":\"input\",\"type\":\"uint256\"}],\"name\":\"multiply\",\"outputs\":[{\"name\":\"\",\"type\":\"uint256\"}],\"payable\":false,\"stateMutability\":\"nonpayable\",\"type\":\"function\"},{\"anonymous\":false,\"inputs\":[{\"indexed\":false,\"name\":\"\",\"type\":\"uint256\"}],\"name\":\"Print\",\"type\":\"event\"}];\n",
    "var _bin=\"608060405234801561001057600080fd5b5060fe8061001f6000396000f3fe6080604052348015600f57600080fd5b50600436106045576000357c010000000000000000000000000000000000000000000000000000000090048063c6888fa114604a575b600080fd5b607360048036036020811015605e57600080fd5b81019080803590602001909291905050506089565b6040518082815260200191505060405180910390f35b6000806007830290507f24abdb5865df5079dcc5ac590ff6f01d5c16edbc5fab4e195d9febd1114503da816040518082815260200191505060405180910390a18091505091905056fea165627a7a7230582046cff98a35c11661d6274a85a3b3cf0bb0a0cb33787b6fd675af2741a7009a130029\";\n",
    "var _contract = web3.eth.contract(_abiArray);\n",
    "//unlock the account with a password provided\n",
    "//web3.personal.unlockAccount(web3.eth.accounts[0],'password');\n",
    "var _instance=_contract.new({data:\"0x\"+_bin,from:web3.eth.accounts[0],gas:1000000}, function(err, contract) {\n",
    "    if (!err) {\n",
    "        console.log(\"contractAddress: \", contract.address);\n",
    "        console.log(\"transactionHash: \", contract.transactionHash);\n",
    "    }\n",
    "});"
   ]
  },
  {
   "cell_type": "code",
   "execution_count": 4,
   "metadata": {
    "collapsed": false
   },
   "outputs": [
    {
     "name": "stdout",
     "output_type": "stream",
     "text": [
      "Overwriting src/Multiply7EventDeploy.js\n"
     ]
    }
   ],
   "source": [
    "%%writefile src/Multiply7EventDeploy.js\n",
    "var Web3=require('web3');\n",
    "var web3 = new Web3(new Web3.providers.HttpProvider(\"http://117.16.44.45:8345\"));\n",
    "var _abiArray=[{\"anonymous\":false,\"inputs\":[{\"indexed\":false,\"internalType\":\"address\",\"name\":\"_addr\",\"type\":\"address\"},{\"indexed\":false,\"internalType\":\"uint256\",\"name\":\"timestamp\",\"type\":\"uint256\"},{\"indexed\":false,\"internalType\":\"uint256\",\"name\":\"res\",\"type\":\"uint256\"}],\"name\":\"Print\",\"type\":\"event\"},{\"inputs\":[{\"internalType\":\"uint256\",\"name\":\"input\",\"type\":\"uint256\"}],\"name\":\"multiply\",\"outputs\":[{\"internalType\":\"uint256\",\"name\":\"\",\"type\":\"uint256\"}],\"stateMutability\":\"nonpayable\",\"type\":\"function\"}];\n",
    "var _bin=\"0x\" + \"6080604052348015600f57600080fd5b506101278061001f6000396000f3fe6080604052348015600f57600080fd5b506004361060285760003560e01c8063c6888fa114602d575b600080fd5b605660048036036020811015604157600080fd5b8101908080359060200190929190505050606c565b6040518082815260200191505060405180910390f35b6000806007830290507f91da4985ab616136202f4e81fd2d8cac1eb12591132d609cece407f7c6fb9205334283604051808473ffffffffffffffffffffffffffffffffffffffff1673ffffffffffffffffffffffffffffffffffffffff168152602001838152602001828152602001935050505060405180910390a18091505091905056fea26469706673582212201f2b58641bcadee708439f7e52d3b7d33168278dbdc6285f760ef41356a006df64736f6c63430006010033\";\n",
    "//unlock the account with a password provided\n",
    "//web3.personal.unlockAccount(web3.eth.accounts[0],'password');\n",
    "async function deploy() {\n",
    "    const accounts = await web3.eth.getAccounts();\n",
    "    console.log(\"Deploying the contract from \" + accounts[0]);\n",
    "    var deployed = await new web3.eth.Contract(_abiArray)\n",
    "        .deploy({data: _bin})\n",
    "        .send({from: accounts[0], gas: 1000000, gasPrice: '1000000000'}, function(err, transactionHash) {\n",
    "                if(!err) console.log(\"hash: \" + transactionHash); \n",
    "        })\n",
    "        //.then(function(newContractInstance) {\n",
    "        //    console.log(newContractInstance.options.address)\n",
    "        //});\n",
    "    console.log(\"---> The contract deployed to: \" + deployed.options.address)\n",
    "}\n",
    "\n",
    "deploy()\n"
   ]
  },
  {
   "cell_type": "code",
   "execution_count": 5,
   "metadata": {
    "collapsed": false
   },
   "outputs": [
    {
     "name": "stdout",
     "output_type": "stream",
     "text": [
      "Deploying the contract from 0xe1cD15D96c6109d32B542573f2943878cc0f5b95\r\n",
      "hash: 0x10fd61d33819c8c90fabb95a868a1eecdfe87357b80a297750f3235b75fd10cc\r\n",
      "---> The contract deployed to: 0x85c1cA1755f706c5228107235f7e5C510e77d392\r\n"
     ]
    }
   ],
   "source": [
    "!node src/Multiply7EventDeploy.js"
   ]
  },
  {
   "cell_type": "markdown",
   "metadata": {
    "slideshow": {
     "slide_type": "subslide"
    }
   },
   "source": [
    "### 단계 4: 사용\n",
    "\n",
    "```m7.Print(function (error, result)``` 명령문으로 이벤트를 리스닝하고, 이벤트가 발생하는 경우, 그 결과 ```result```를 출력하고 있다.\n",
    "이 이벤트는 ```multiply()``` 함수 내에서 발생되고 있다.\n",
    "그런 까닭에 **```multiply()``` 함수는 ```pure```로 선언할 수 있지만 ```event```를 발생하기 때문에 그렇지 못했다**.\n",
    "따라서 ```web3```에서 ```transaction```으로 호출해야 하지만. 아래 예제는 **```call()```로 호출**하였다.\n",
    "```call()``` 함수는 트랜잭션을 발생시키지 않으므로 결과는 알 수 있지만, **이벤트는 발생하지 않는다**."
   ]
  },
  {
   "cell_type": "code",
   "execution_count": 1,
   "metadata": {
    "collapsed": false
   },
   "outputs": [
    {
     "name": "stdout",
     "output_type": "stream",
     "text": [
      "Overwriting src/Multiply7EventUse.js\n"
     ]
    }
   ],
   "source": [
    "%%writefile src/Multiply7EventUse__.js\n",
    "var Web3=require('web3');\n",
    "var web3 = new Web3(new Web3.providers.HttpProvider(\"http://117.16.44.45:8445\"));\n",
    "var _abiArray=[{\"constant\":false,\"inputs\":[{\"name\":\"input\",\"type\":\"uint256\"}],\"name\":\"multiply\",\"outputs\":[{\"name\":\"\",\"type\":\"uint256\"}],\"payable\":false,\"stateMutability\":\"nonpayable\",\"type\":\"function\"},{\"anonymous\":false,\"inputs\":[{\"indexed\":false,\"name\":\"\",\"type\":\"uint256\"}],\"name\":\"Print\",\"type\":\"event\"}];\n",
    "var _contract = web3.eth.contract(_abiArray);\n",
    "var m7 = _contract.at(\"0xee7b78482383b57db71c9c311be3a7ec682042a7\");\n",
    "var event = m7.Print(function (error, result) {\n",
    "    if (!error) {\n",
    "        console.log(\"event Print ===> \" + result.args.res);\n",
    "        console.log(\"result: \", result);\n",
    "        process.exit(1);\n",
    "    }\n",
    "});\n",
    "console.log(m7.multiply.call(8).toNumber());"
   ]
  },
  {
   "cell_type": "markdown",
   "metadata": {},
   "source": [
    "```multiply()```함수는 state variable을 갱신하지 않으므로, ```call()```로 호출해도 연산 계산을 할 수 있고, 이벤트로 값이 전달된다.\n"
   ]
  },
  {
   "cell_type": "code",
   "execution_count": 6,
   "metadata": {
    "collapsed": false,
    "slideshow": {
     "slide_type": "subslide"
    }
   },
   "outputs": [
    {
     "name": "stdout",
     "output_type": "stream",
     "text": [
      "Overwriting src/Multiply7EventUse.js\n"
     ]
    }
   ],
   "source": [
    "%%writefile src/Multiply7EventUse.js\n",
    "var Web3=require('web3');\n",
    "var web3;\n",
    "if (typeof web3 !== 'undefined') {\n",
    "    web3 = new Web3(web3.currentProvider);\n",
    "} else {\n",
    "    var web3 = new Web3(new Web3.providers.WebsocketProvider(\"http://117.16.44.45:8345\"));\n",
    "}\n",
    "var _abiArray=[{\"anonymous\":false,\"inputs\":[{\"indexed\":false,\"internalType\":\"address\",\"name\":\"_addr\",\"type\":\"address\"},{\"indexed\":false,\"internalType\":\"uint256\",\"name\":\"timestamp\",\"type\":\"uint256\"},{\"indexed\":false,\"internalType\":\"uint256\",\"name\":\"res\",\"type\":\"uint256\"}],\"name\":\"Print\",\"type\":\"event\"},{\"inputs\":[{\"internalType\":\"uint256\",\"name\":\"input\",\"type\":\"uint256\"}],\"name\":\"multiply\",\"outputs\":[{\"internalType\":\"uint256\",\"name\":\"\",\"type\":\"uint256\"}],\"stateMutability\":\"nonpayable\",\"type\":\"function\"}];\n",
    "var m7 = new web3.eth.Contract(_abiArray, '0x85c1cA1755f706c5228107235f7e5C510e77d392');\n",
    "var event = m7.events.Print({fromBlock: 0}, function (error, result) {\n",
    "    if (!error) {\n",
    "        //console.log(\"Event fired: \" + JSON.stringify(result) + \"\\n---> \" + JSON.stringify(result.returnValues));\n",
    "        console.log(\"Event fired: \" + JSON.stringify(result.returnValues));\n",
    "        //process.exit(1);\n",
    "    }\n",
    "});\n",
    "\n",
    "async function doIt() {\n",
    "    const accounts = await web3.eth.getAccounts();\n",
    "    console.log(\"Account: \" + accounts[0]);\n",
    "    const balanceBefore = await web3.eth.getBalance(accounts[0]);\n",
    "    console.log(\"Balance before: \" + balanceBefore);\n",
    "    //const value = m7.methods.multiply(8).call();\n",
    "    const value = m7.methods.multiply(8)\n",
    "        .send({from: accounts[0]})\n",
    "        //.then(function(value) {console.log(\"---> MyFunction called \" + JSON.stringify(value) +\n",
    "        //                               '\\n---> '+ JSON.stringify(value.events.Print.returnValues));});\n",
    "    console.log(\"---> MyFunction called \" + JSON.stringify(value));\n",
    "        //+ '\\n---> '+ JSON.stringify(value.events.Print.returnValues));\n",
    "    const balanceAfter = await web3.eth.getBalance(accounts[0]);\n",
    "    console.log(\"Balance after: \" + balanceAfter);\n",
    "    console.log(\"Balance diff: \" + (balanceBefore - balanceAfter));\n",
    "}\n",
    "\n",
    "doIt()\n"
   ]
  },
  {
   "cell_type": "markdown",
   "metadata": {
    "slideshow": {
     "slide_type": "subslide"
    }
   },
   "source": [
    "```sendTransaction()``` 함수로 트랜잭션을 발생시켜야 블록체인에 기록이되고, 그 로그에서 이벤트가 발생이 된다."
   ]
  },
  {
   "cell_type": "code",
   "execution_count": null,
   "metadata": {
    "collapsed": false
   },
   "outputs": [
    {
     "name": "stdout",
     "output_type": "stream",
     "text": [
      "Account: 0xe1cD15D96c6109d32B542573f2943878cc0f5b95\n",
      "Balance before: 99999611641999999940\n",
      "---> MyFunction called {\"_events\":{}}\n",
      "Balance after: 99999611641999999940\n",
      "Balance diff: 0\n",
      "Event fired: {\"0\":\"0xe1cD15D96c6109d32B542573f2943878cc0f5b95\",\"1\":\"1591257244\",\"2\":\"56\",\"_addr\":\"0xe1cD15D96c6109d32B542573f2943878cc0f5b95\",\"timestamp\":\"1591257244\",\"res\":\"56\"}\n"
     ]
    }
   ],
   "source": [
    "!node src/Multiply7EventUse.js"
   ]
  },
  {
   "cell_type": "code",
   "execution_count": 3,
   "metadata": {
    "collapsed": false
   },
   "outputs": [
    {
     "name": "stdout",
     "output_type": "stream",
     "text": [
      "0xb6d5172a1c18f77b3976fa30f24496c805502edb94ed9f564a61da7510b6316b\n",
      "event Print ===> undefined\n",
      "result:  { address: '0xee7b78482383b57db71c9c311be3a7ec682042a7',\n",
      "  blockNumber: 330,\n",
      "  transactionHash: '0xb6d5172a1c18f77b3976fa30f24496c805502edb94ed9f564a61da7510b6316b',\n",
      "  transactionIndex: 0,\n",
      "  blockHash: '0xdd521f6c48f0f95eea5f4b132fbb0de31f78e0e9049c320020ba0c26a0bf2b62',\n",
      "  logIndex: 0,\n",
      "  removed: false,\n",
      "  event: 'Print',\n",
      "  args: { '': { [String: '56'] s: 1, e: 1, c: [Object] } } }\n"
     ]
    }
   ],
   "source": [
    "!node src/Multiply7EventUse.js"
   ]
  },
  {
   "cell_type": "markdown",
   "metadata": {},
   "source": [
    "## 10.5 fallback\n",
    "<a id='S.3.4'></a>\n",
    "\n",
    "### fallback\n",
    "fallback() 함수는 보통 함수와는 다른 기능을 가진다.\n",
    "사용자가 호출하지 않는다. 따라서 **이름이 없고, 인자가 없고, 반환 값도 없는 함수**이다.\n",
    "또한 컨트랙에는 **한 개의 fallback 함수**만 존재할 수 있다.\n",
    "외부에서만 호출할 수 있도록 **external**으로 선언한다.\n",
    "\n",
    "fallback함수가 없으면 **예외**가 발생하게 된다. \n",
    "fallback이 호출되는 경우는:\n",
    "* 사용자가 호출한 함수가 **존재하지 않을 경우**에 호출된다.\n",
    "아래에서 ```callA()``` 함수를 호출해야 하는데 잘 못하여 ```callB()```를 호출했다고 하자.\n",
    "그러면 존재하지 않는 ```callB```()를 실행하지 못하고 ```fallback()```을 실행한다.\n",
    "* 또한 ether를 송금했는데, 수신측에서 이를 받는 함수가 존재하지 않으면, 송금이 거절되지만 ```fallback```이 호출된다. 이 경우는 **```fallback() payable```**로 선언해야 한다.\n"
   ]
  },
  {
   "cell_type": "markdown",
   "metadata": {
    "slideshow": {
     "slide_type": "slide"
    }
   },
   "source": [
    "### receive\n",
    "Solidity 버전 0.6.x부터는 ```receive()```함수가 제공되고 있다.\n",
    "이 함수는 송금을 하지만 calldata가 없는 경우 호출된다.\n",
    "따라서 ```receive() external payable```로 사용해야 한다.\n",
    "```receive()```함수가 없으면 ```fallback()```함수가 호출되게 된다.\n",
    "\n",
    "* receive() external payable은 calldata가 없고, value 필드에 값이 있는 경우\n",
    "* fallback() external payable은 해당하는 함수가 없는 경우. 송금이 있는 경우에는 payable은 선택적으로, 즉 송금 금액이 있는 경우에 한정적으로 payable을 적어준다.\n",
    "\n",
    "```python\n",
    "contract ReceiveTest {\n",
    "    event PrintLog(address user, uint amount);     \n",
    "    receive() external payable {\n",
    "        emit PrintLog(msg.sender, msg.value);\n",
    "    }\n",
    "}\n",
    "```"
   ]
  },
  {
   "cell_type": "markdown",
   "metadata": {
    "slideshow": {
     "slide_type": "slide"
    }
   },
   "source": [
    "## 실습: fallback\n",
    "\n",
    "존재하지 않는 함수를 호출해서 강제적으로 fallback 함수를 실행해 본다."
   ]
  },
  {
   "cell_type": "markdown",
   "metadata": {
    "slideshow": {
     "slide_type": "subslide"
    }
   },
   "source": [
    "### 단계 1: 컨트랙 개발"
   ]
  },
  {
   "cell_type": "code",
   "execution_count": 1,
   "metadata": {
    "collapsed": false
   },
   "outputs": [
    {
     "name": "stdout",
     "output_type": "stream",
     "text": [
      "Overwriting src/FallbackTest.sol\n"
     ]
    }
   ],
   "source": [
    "%%writefile src/FallbackTest.sol\n",
    "pragma solidity ^0.6.0;\n",
    "contract FallbackTest {\n",
    "    event PrintLog(string);\n",
    "    function callA () pure public returns(string memory){\n",
    "        return \"doing callA\";\n",
    "    }\n",
    "    fallback () external {\n",
    "        emit PrintLog(\"fallback called\");\n",
    "    }\n",
    "}"
   ]
  },
  {
   "cell_type": "markdown",
   "metadata": {
    "slideshow": {
     "slide_type": "subslide"
    }
   },
   "source": [
    "### 단계 2: 컴파일"
   ]
  },
  {
   "cell_type": "code",
   "execution_count": 3,
   "metadata": {
    "collapsed": false,
    "scrolled": true
   },
   "outputs": [],
   "source": [
    "!solc src/FallbackTest.sol --combined-json abi,bin > src/FallbackTest.json"
   ]
  },
  {
   "cell_type": "code",
   "execution_count": 4,
   "metadata": {
    "collapsed": false
   },
   "outputs": [
    {
     "name": "stdout",
     "output_type": "stream",
     "text": [
      "{\"contracts\":{\"src/FallbackTest.sol:FallbackTest\":{\"abi\":\"[{\\\"anonymous\\\":false,\\\"inputs\\\":[{\\\"indexed\\\":false,\\\"internalType\\\":\\\"string\\\",\\\"name\\\":\\\"\\\",\\\"type\\\":\\\"string\\\"}],\\\"name\\\":\\\"PrintLog\\\",\\\"type\\\":\\\"event\\\"},{\\\"stateMutability\\\":\\\"nonpayable\\\",\\\"type\\\":\\\"fallback\\\"},{\\\"inputs\\\":[],\\\"name\\\":\\\"callA\\\",\\\"outputs\\\":[{\\\"internalType\\\":\\\"string\\\",\\\"name\\\":\\\"\\\",\\\"type\\\":\\\"string\\\"}],\\\"stateMutability\\\":\\\"pure\\\",\\\"type\\\":\\\"function\\\"}]\",\"bin\":\"608060405234801561001057600080fd5b50610190806100206000396000f3fe608060405234801561001057600080fd5b506004361061002f5760003560e01c8063e7f09e051461009a57610030565b5b7f968f0302429ff0e5bd56a45ce3ba1f4fa79f4b822857e438616435f00c3b59fd60405180806020018281038252600f8152602001807f66616c6c6261636b2063616c6c6564000000000000000000000000000000000081525060200191505060405180910390a1005b6100a261011d565b6040518080602001828103825283818151815260200191508051906020019080838360005b838110156100e25780820151818401526020810190506100c7565b50505050905090810190601f16801561010f5780820380516001836020036101000a031916815260200191505b509250505060405180910390f35b60606040518060400160405280600b81526020017f646f696e672063616c6c4100000000000000000000000000000000000000000081525090509056fea264697066735822122056d995ce7ef7910f3f6903db6ca21f882613ca3301f47e650a0f9d701afbc4c664736f6c63430006010033\"}},\"version\":\"0.6.1+commit.e6f7d5a4.Linux.g++\"}\r\n"
     ]
    }
   ],
   "source": [
    "!cat src/FallbackTest.json"
   ]
  },
  {
   "cell_type": "markdown",
   "metadata": {
    "slideshow": {
     "slide_type": "subslide"
    }
   },
   "source": [
    "### 단계 3: 컨트랙 배포"
   ]
  },
  {
   "cell_type": "code",
   "execution_count": 4,
   "metadata": {
    "collapsed": false
   },
   "outputs": [
    {
     "name": "stdout",
     "output_type": "stream",
     "text": [
      "Writing src/FallbackTestDeploy.js\n"
     ]
    }
   ],
   "source": [
    "%%writefile src/FallbackTestDeploy__.js\n",
    "var Web3=require('web3');\n",
    "var web3;\n",
    "if (typeof web3 !== 'undefined') {\n",
    "    web3 = new Web3(web3.currentProvider);\n",
    "} else {\n",
    "    web3 = new Web3(new Web3.providers.HttpProvider(\"http://117.16.44.45:8445\"));\n",
    "}\n",
    "var _abiArray=[{\"constant\":true,\"inputs\":[],\"name\":\"callA\",\"outputs\":[{\"name\":\"\",\"type\":\"string\"}],\"payable\":false,\"stateMutability\":\"pure\",\"type\":\"function\"},{\"payable\":false,\"stateMutability\":\"nonpayable\",\"type\":\"fallback\"},{\"anonymous\":false,\"inputs\":[{\"indexed\":false,\"name\":\"\",\"type\":\"string\"}],\"name\":\"PrintLog\",\"type\":\"event\"}];\n",
    "var _bin=\"608060405234801561001057600080fd5b5061019e806100206000396000f3fe608060405234801561001057600080fd5b5060043610610048576000357c010000000000000000000000000000000000000000000000000000000090048063e7f09e05146100b2575b7f968f0302429ff0e5bd56a45ce3ba1f4fa79f4b822857e438616435f00c3b59fd60405180806020018281038252600f8152602001807f66616c6c6261636b2063616c6c6564000000000000000000000000000000000081525060200191505060405180910390a1005b6100ba610135565b6040518080602001828103825283818151815260200191508051906020019080838360005b838110156100fa5780820151818401526020810190506100df565b50505050905090810190601f1680156101275780820380516001836020036101000a031916815260200191505b509250505060405180910390f35b60606040805190810160405280600b81526020017f646f696e672063616c6c4100000000000000000000000000000000000000000081525090509056fea165627a7a72305820eebb5fe6a9199558a5ae72300540824638cef5eb55bc15bba28146b1b2477f830029\";\n",
    "var _contract = web3.eth.contract(_abiArray);\n",
    "//unlock the account with a password provided\n",
    "//web3.personal.unlockAccount(web3.eth.accounts[0],'password');\n",
    "var _instance=_contract.new({data:\"0x\"+_bin,from:web3.eth.accounts[0]}, function(err, contract) {\n",
    "    if (!err) {\n",
    "        console.log(\"contractAddress: \", contract.address);\n",
    "        console.log(\"transactionHash: \", contract.transactionHash);\n",
    "    }\n",
    "});"
   ]
  },
  {
   "cell_type": "code",
   "execution_count": 9,
   "metadata": {
    "collapsed": false
   },
   "outputs": [
    {
     "name": "stdout",
     "output_type": "stream",
     "text": [
      "Writing src/FallbackTestDeployFromFile.js\n"
     ]
    }
   ],
   "source": [
    "%%writefile src/FallbackTestDeployFromFile.js\n",
    "var Web3=require('web3');\n",
    "var web3=new Web3(new Web3.providers.HttpProvider(\"http://117.16.44.45:8345\"));\n",
    "var fs=require('fs');\n",
    "var _str = fs.readFileSync(\"src/FallbackTest.json\");\n",
    "var _json=JSON.parse(_str)\n",
    "var _abiArray=JSON.parse(_json.contracts[\"src/FallbackTest.sol:FallbackTest\"].abi);\n",
    "//console.log(_abiArray);\n",
    "//var _bin=_json.contracts.sHello2.bin;\n",
    "var _bin=\"0x\"+_json.contracts[\"src/FallbackTest.sol:FallbackTest\"].bin;\n",
    "//console.log(_bin);\n",
    "//unlock the account with a password provided\n",
    "//web3.personal.unlockAccount(web3.eth.accounts[0],'password');\n",
    "async function deploy() {\n",
    "    const accounts = await web3.eth.getAccounts();\n",
    "    console.log(\"Deploying the contract from \" + accounts[0]);\n",
    "    var deployed = await new web3.eth.Contract(_abiArray)\n",
    "        .deploy({data: _bin})\n",
    "        .send({from: accounts[0], gas: 1000000}, function(err, transactionHash) {\n",
    "                if(!err) console.log(\"hash: \" + transactionHash); \n",
    "        })\n",
    "        //.then(function(newContractInstance){\n",
    "        //    console.log(newContractInstance.options.address)\n",
    "        //});\n",
    "    console.log(\"---> The contract deployed to: \" + deployed.options.address)\n",
    "}\n",
    "deploy()"
   ]
  },
  {
   "cell_type": "code",
   "execution_count": 4,
   "metadata": {
    "collapsed": false
   },
   "outputs": [
    {
     "name": "stdout",
     "output_type": "stream",
     "text": [
      "Deploying the contract from 0xf828946Ec3cD7aDc51a370597D000A5F237bf746\n",
      "hash: 0xdf389c80fcf3f5407505aaae80c9fe81bf378be9e356bf75e62acbb3bdec06a2\n",
      "---> The contract deployed to: 0x953C7F383b29C57B605a16ce3360dd7121F7DEB1\n"
     ]
    }
   ],
   "source": [
    "!node src/FallbackTestDeployFromFile.js"
   ]
  },
  {
   "cell_type": "markdown",
   "metadata": {
    "slideshow": {
     "slide_type": "subslide"
    }
   },
   "source": [
    "### 단계 4: 사용\n",
    "\n",
    "REMIX에서는 fallback 함수를 호출할 수 있도록 노출하지 않는다.\n",
    "REMIX 버전 0.9.3부터 지원된 **Low level interactions**라는 기능을 통해 fallback 함수를 호출할 수 있다.\n",
    "**최소 1바이트 이상을 입력해야 하는데, 16진수로 calldata를 입력**하고 ```Transact``` 버튼을 누르면,\n",
    "우측 아래 REMIX 콘솔 창에 함수가 호출되었다는 로그가 뜬다.\n",
    "로그를 열어 보면 이벤트가 발생하였다는 것을 확인할 수 있다.\n",
    "\n",
    "**아무 데이터도 입력하지 않고** ```Transact``` 버튼을 누르면, ```receive```가 호출된다?"
   ]
  },
  {
   "cell_type": "markdown",
   "metadata": {},
   "source": [
    "![alt text](figures/10_fallbackREMIX.png \"call fallback via low level interactions on REMIX\")"
   ]
  },
  {
   "cell_type": "code",
   "execution_count": 3,
   "metadata": {
    "collapsed": false
   },
   "outputs": [
    {
     "name": "stdout",
     "output_type": "stream",
     "text": [
      "Overwriting src/FallbackTestUse.js\n"
     ]
    }
   ],
   "source": [
    "%%writefile src/FallbackTestUse__.js\n",
    "var Web3=require('web3');\n",
    "var web3 = new Web3(new Web3.providers.HttpProvider(\"http://117.16.44.45:8445\"));\n",
    "var _abiArray=[{\"constant\":true,\"inputs\":[],\"name\":\"callA\",\"outputs\":[{\"name\":\"\",\"type\":\"string\"}],\"payable\":false,\"stateMutability\":\"pure\",\"type\":\"function\"},{\"payable\":false,\"stateMutability\":\"nonpayable\",\"type\":\"fallback\"},{\"anonymous\":false,\"inputs\":[{\"indexed\":false,\"name\":\"\",\"type\":\"string\"}],\"name\":\"PrintLog\",\"type\":\"event\"}];\n",
    "var _contract = web3.eth.contract(_abiArray);\n",
    "var fallback = _contract.at(\"0x3ab1841c257571342e04b0fc898d2e63050585b2\");\n",
    "var filter = fallback.PrintLog(function (error, result) {\n",
    "  if (!error)\n",
    "    console.log(result);\n",
    "});\n",
    "web3.eth.sendTransaction({from:web3.eth.accounts[0], to:\"0x3ab1841c257571342e04b0fc898d2e63050585b2\"});"
   ]
  },
  {
   "cell_type": "code",
   "execution_count": 5,
   "metadata": {
    "collapsed": false
   },
   "outputs": [
    {
     "name": "stdout",
     "output_type": "stream",
     "text": [
      "Overwriting src/FallbackTestUseFromFile.js\n"
     ]
    }
   ],
   "source": [
    "%%writefile src/FallbackTestUseFromFile.js\n",
    "var Web3=require('web3');\n",
    "var web3=new Web3(new Web3.providers.HttpProvider(\"http://117.16.44.45:8345\"));\n",
    "var fs=require('fs');\n",
    "var _str = fs.readFileSync(\"src/FallbackTest.json\");\n",
    "var _json=JSON.parse(_str)\n",
    "var _abiArray=JSON.parse(_json.contracts[\"src/FallbackTest.sol:FallbackTest\"].abi);\n",
    "var _instance = new web3.eth.Contract(_abiArray, \"0x953C7F383b29C57B605a16ce3360dd7121F7DEB1\");\n",
    "var event = _instance.events.PrintLog(function (error, result) {\n",
    "    if (!error) {\n",
    "        console.log(\"Event fired: \" + JSON.stringify(result) + \"\\n---> \" + JSON.stringify(result.returnValues));\n",
    "    }\n",
    "});\n",
    "\n",
    "async function doIt() {\n",
    "    const accounts = await web3.eth.getAccounts();\n",
    "    console.log(\"Account: \" + accounts[0]);\n",
    "    const balanceBefore = await web3.eth.getBalance(accounts[0]);\n",
    "    console.log(\"Balance before: \" + balanceBefore);\n",
    "    _instance.methods.callA().call().then(console.log);  //null\n",
    "    //call without calling any method\n",
    "    //await _instance.methods.callB().send({from:accounts[0], to: 0x08c6FB3fFDfdf5d46db22A7e9e8Ac8DdC930bbC9});\n",
    "    const balanceAfter = await web3.eth.getBalance(accounts[0]);\n",
    "    console.log(\"Balance after: \" + balanceAfter);\n",
    "    console.log(\"Balance diff: \" + (balanceBefore - balanceAfter));\n",
    "}\n",
    "\n",
    "doIt()"
   ]
  },
  {
   "cell_type": "markdown",
   "metadata": {
    "slideshow": {
     "slide_type": "subslide"
    }
   },
   "source": [
    "#### 존재하지 않는 function selector\n",
    "\n",
    "**존재하지 않는 함수를 호출**하면 fallback함수가 호출된다.\n",
    "클라이언트에서 web3를 사용하면, 존재하지 않는 함수를 호출할 수 있는 방법은 없다.\n",
    "가능한 방법은 ```web3.eth.sendTransaction()```의 ```data```, 즉 ```msg.data```를 수정하면 된다. 앞서 설명한 **function selector** (호출할 함수시그니처의 sha3 해시값으로 만들고, 앞 4바이트)가 존재하지 않도록 수정해야 한다.\n",
    "\n",
    "```python\n",
    "<address>.call(bytes4(bytes32(sha3(\"baz(uint32,bool)\")))\n",
    "```\n",
    "\n",
    "아쉬운대로 다음과 같이 **함수명을 생략하여 강제적으로 존재하지 않는 함수**를 호출한다.\n",
    "즉 컨트랙 주소로 그냥 트랜잭션을 전송하여 없는 함수가 호출된 것처럼 한다.\n",
    "\n",
    "```python\n",
    "web3.eth.sendTransaction({from:web3.eth.accounts[0], to:<<contract address>>});\n",
    "```"
   ]
  },
  {
   "cell_type": "code",
   "execution_count": 6,
   "metadata": {
    "collapsed": false
   },
   "outputs": [
    {
     "name": "stdout",
     "output_type": "stream",
     "text": [
      "Account: 0xf828946Ec3cD7aDc51a370597D000A5F237bf746\r\n",
      "Balance before: 99996822860000000000\r\n",
      "doing callA\r\n",
      "Balance after: 99996822860000000000\r\n",
      "Balance diff: 0\r\n"
     ]
    }
   ],
   "source": [
    "!node src/FallbackTestUseFromFile.js"
   ]
  },
  {
   "cell_type": "code",
   "execution_count": null,
   "metadata": {
    "collapsed": false
   },
   "outputs": [
    {
     "name": "stdout",
     "output_type": "stream",
     "text": [
      "{ address: '0x3ab1841c257571342e04b0fc898d2e63050585b2',\r\n",
      "  blockNumber: 45484,\r\n",
      "  transactionHash: '0x5725425ea888cfcad16298c2e4a1d3fd71cbb2880230b82762ac5be12fee7def',\r\n",
      "  transactionIndex: 0,\r\n",
      "  blockHash: '0xe4e9f371bb90f67279e9284c17451cba53b5eb850ed416249fe32b64f801e20c',\r\n",
      "  logIndex: 0,\r\n",
      "  removed: false,\r\n",
      "  event: 'PrintLog',\r\n",
      "  args: { '': 'fallback called' } }\r\n"
     ]
    }
   ],
   "source": [
    "!node src/FallbackTestUse.js"
   ]
  },
  {
   "cell_type": "markdown",
   "metadata": {
    "slideshow": {
     "slide_type": "subslide"
    }
   },
   "source": [
    "## 실습: payable fallback\n",
    "\n",
    "앞서 존재하지 않는 함수를 호출하는 경우, ```fallback```함수가 호출되었다.\n",
    "또한 금액없이 송금을 하여도 ```fallback```함수가 호출된다.\n",
    "\n",
    "송금을 하면서 오류가 발생하여 ```fallback```이 호출된다 하더라도 송금액은 받을 수 없다.\n",
    "단, ```payable fabllback```으로 선언하면 송금액을 받을 수 있다.\n",
    "\n",
    "```python\n",
    "function () payable {}\n",
    "```\n"
   ]
  },
  {
   "cell_type": "markdown",
   "metadata": {
    "slideshow": {
     "slide_type": "subslide"
    }
   },
   "source": [
    "### 단계 1: 컨트랙 개발\n",
    "\n",
    "```fallback()``` 함수가 호출되려면, web3.js 측에서가 아니라 다른 컨트랙에서 실험하는 편이 좋다.\n",
    "그렇다면 부득이 컨트랙을 하나 더 만들어야 하고, 두 컨트랙이 연관을 가져야 한다.\n",
    "아래 코드를 보면:\n",
    "* 두 컨트랙이 하나의 파일에 존재하면 ```new``` 명령어로 객체를 만들어 사용하거나,\n",
    "* 이미 배포된 컨트랙을 사용하려고 하면, 그 주소를 할당하여 사용하고 있다."
   ]
  },
  {
   "cell_type": "code",
   "execution_count": 55,
   "metadata": {
    "collapsed": false
   },
   "outputs": [
    {
     "name": "stdout",
     "output_type": "stream",
     "text": [
      "Overwriting src/MathMultiply7.sol\n"
     ]
    }
   ],
   "source": [
    "%%writefile src/MathMultiply7.sol\n",
    "pragma solidity ^0.6.0;\n",
    "\n",
    "contract Multiply7 {\n",
    "   //event Print(uint);\n",
    "   receive() external payable {}\n",
    "   fallback() external payable {}\n",
    "   function multiply(uint input) pure public returns (uint) {\n",
    "      //emit Print(input * 7);\n",
    "      return input * 7;\n",
    "   }\n",
    "   function getAddress() view public returns(address) {\n",
    "       return address(this);\n",
    "   }\n",
    "}\n",
    "\n",
    "contract Math {\n",
    "    Multiply7 m7=new Multiply7();\n",
    "    function deposit(uint amount) payable public {\n",
    "        require(msg.value==amount);\n",
    "    }\n",
    "    function setM7(address payable _addr) public { m7 = Multiply7(_addr); }\n",
    "    function multiply() view public returns(uint) {\n",
    "        uint res=m7.multiply(8);\n",
    "        //this.send11(); It does not send value.\n",
    "        return res;\n",
    "    }\n",
    "    function send11M7() public payable {\n",
    "        //m7.multiply.value(11)(9);\n",
    "        //m7.multiply(9);\n",
    "        address(m7).transfer(11);\n",
    "    }\n",
    "    function getBalanceOfThis() public view returns(uint) {\n",
    "        return address(this).balance;\n",
    "    }\n",
    "    function getBalanceOfM7() public view returns(uint) {\n",
    "        return address(m7).balance;\n",
    "    }\n",
    "    function getAddressOfM7() view public returns(address) {\n",
    "        return address(m7);\n",
    "   }    \n",
    "}"
   ]
  },
  {
   "cell_type": "markdown",
   "metadata": {
    "slideshow": {
     "slide_type": "subslide"
    }
   },
   "source": [
    "### 단계 2: 컴파일\n",
    "\n",
    "지금은 버전 0.6으로 컴파일해서 실행하고 있다. 실행에 문제가 있으면 REMIX에서 버전을 0.4.21로 낮추어 적용하여 보자."
   ]
  },
  {
   "cell_type": "code",
   "execution_count": 56,
   "metadata": {
    "collapsed": true
   },
   "outputs": [],
   "source": [
    "!solc src/MathMultiply7.sol --combined-json abi,bin > src/MathMultiply7.json"
   ]
  },
  {
   "cell_type": "code",
   "execution_count": 59,
   "metadata": {
    "collapsed": false
   },
   "outputs": [
    {
     "name": "stdout",
     "output_type": "stream",
     "text": [
      "{\"contracts\":{\"src/MathMultiply7.sol:Math\":{\"abi\":\"[{\\\"inputs\\\":[{\\\"internalType\\\":\\\"uint256\\\",\\\"name\\\":\\\"amount\\\",\\\"type\\\":\\\"uint256\\\"}],\\\"name\\\":\\\"deposit\\\",\\\"outputs\\\":[],\\\"stateMutability\\\":\\\"payable\\\",\\\"type\\\":\\\"function\\\"},{\\\"inputs\\\":[],\\\"name\\\":\\\"getAddressOfM7\\\",\\\"outputs\\\":[{\\\"internalType\\\":\\\"address\\\",\\\"name\\\":\\\"\\\",\\\"type\\\":\\\"address\\\"}],\\\"stateMutability\\\":\\\"view\\\",\\\"type\\\":\\\"function\\\"},{\\\"inputs\\\":[],\\\"name\\\":\\\"getBalanceOfM7\\\",\\\"outputs\\\":[{\\\"internalType\\\":\\\"uint256\\\",\\\"name\\\":\\\"\\\",\\\"type\\\":\\\"uint256\\\"}],\\\"stateMutability\\\":\\\"view\\\",\\\"type\\\":\\\"function\\\"},{\\\"inputs\\\":[],\\\"name\\\":\\\"getBalanceOfThis\\\",\\\"outputs\\\":[{\\\"internalType\\\":\\\"uint256\\\",\\\"name\\\":\\\"\\\",\\\"type\\\":\\\"uint256\\\"}],\\\"stateMutability\\\":\\\"view\\\",\\\"type\\\":\\\"function\\\"},{\\\"inputs\\\":[],\\\"name\\\":\\\"multiply\\\",\\\"outputs\\\":[{\\\"internalType\\\":\\\"uint256\\\",\\\"name\\\":\\\"\\\",\\\"type\\\":\\\"uint256\\\"}],\\\"stateMutability\\\":\\\"view\\\",\\\"type\\\":\\\"function\\\"},{\\\"inputs\\\":[],\\\"name\\\":\\\"send11M7\\\",\\\"outputs\\\":[],\\\"stateMutability\\\":\\\"payable\\\",\\\"type\\\":\\\"function\\\"},{\\\"inputs\\\":[{\\\"internalType\\\":\\\"address payable\\\",\\\"name\\\":\\\"_addr\\\",\\\"type\\\":\\\"address\\\"}],\\\"name\\\":\\\"setM7\\\",\\\"outputs\\\":[],\\\"stateMutability\\\":\\\"nonpayable\\\",\\\"type\\\":\\\"function\\\"}]\",\"bin\":\"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\"},\"src/MathMultiply7.sol:Multiply7\":{\"abi\":\"[{\\\"stateMutability\\\":\\\"payable\\\",\\\"type\\\":\\\"fallback\\\"},{\\\"inputs\\\":[],\\\"name\\\":\\\"getAddress\\\",\\\"outputs\\\":[{\\\"internalType\\\":\\\"address\\\",\\\"name\\\":\\\"\\\",\\\"type\\\":\\\"address\\\"}],\\\"stateMutability\\\":\\\"view\\\",\\\"type\\\":\\\"function\\\"},{\\\"inputs\\\":[{\\\"internalType\\\":\\\"uint256\\\",\\\"name\\\":\\\"input\\\",\\\"type\\\":\\\"uint256\\\"}],\\\"name\\\":\\\"multiply\\\",\\\"outputs\\\":[{\\\"internalType\\\":\\\"uint256\\\",\\\"name\\\":\\\"\\\",\\\"type\\\":\\\"uint256\\\"}],\\\"stateMutability\\\":\\\"pure\\\",\\\"type\\\":\\\"function\\\"},{\\\"stateMutability\\\":\\\"payable\\\",\\\"type\\\":\\\"receive\\\"}]\",\"bin\":\"608060405234801561001057600080fd5b5061011b806100206000396000f3fe60806040526004361060295760003560e01c806338cc4831146031578063c6888fa114608557602f565b36602f57005b005b348015603c57600080fd5b50604360d0565b604051808273ffffffffffffffffffffffffffffffffffffffff1673ffffffffffffffffffffffffffffffffffffffff16815260200191505060405180910390f35b348015609057600080fd5b5060ba6004803603602081101560a557600080fd5b810190808035906020019092919050505060d8565b6040518082815260200191505060405180910390f35b600030905090565b600060078202905091905056fea26469706673582212200591b36bab7f65a539e544453c58025549bd862b50a3ea39a847058dfa99338564736f6c63430006010033\"}},\"version\":\"0.6.1+commit.e6f7d5a4.Linux.g++\"}\r\n"
     ]
    }
   ],
   "source": [
    "!cat src/MathMultiply7.json"
   ]
  },
  {
   "cell_type": "markdown",
   "metadata": {
    "slideshow": {
     "slide_type": "subslide"
    }
   },
   "source": [
    "### 단계 3: 컨트랙 배포"
   ]
  },
  {
   "cell_type": "code",
   "execution_count": 45,
   "metadata": {
    "collapsed": false
   },
   "outputs": [
    {
     "name": "stdout",
     "output_type": "stream",
     "text": [
      "Overwriting src/MathMultiply7Deploy.js\n"
     ]
    }
   ],
   "source": [
    "%%writefile src/MathMultiply7Deploy__.js\n",
    "var Web3=require('web3');\n",
    "var web3;\n",
    "if (typeof web3 !== 'undefined') {\n",
    "    web3 = new Web3(web3.currentProvider);\n",
    "} else {\n",
    "    web3 = new Web3(new Web3.providers.HttpProvider(\"http://117.16.44.45:8445\"));\n",
    "}\n",
    "//taken from REMIX from here\n",
    "var mathContract = web3.eth.contract([{\"constant\":true,\"inputs\":[],\"name\":\"queryBalance\",\"outputs\":[{\"name\":\"\",\"type\":\"uint256\"}],\"payable\":false,\"stateMutability\":\"view\",\"type\":\"function\"},{\"constant\":false,\"inputs\":[],\"name\":\"send11\",\"outputs\":[{\"name\":\"\",\"type\":\"uint256\"}],\"payable\":false,\"stateMutability\":\"nonpayable\",\"type\":\"function\"},{\"constant\":false,\"inputs\":[{\"name\":\"amount\",\"type\":\"uint256\"}],\"name\":\"deposit\",\"outputs\":[],\"payable\":true,\"stateMutability\":\"payable\",\"type\":\"function\"},{\"constant\":true,\"inputs\":[],\"name\":\"queryBalanceM7\",\"outputs\":[{\"name\":\"\",\"type\":\"uint256\"}],\"payable\":false,\"stateMutability\":\"view\",\"type\":\"function\"},{\"constant\":true,\"inputs\":[],\"name\":\"multiply\",\"outputs\":[{\"name\":\"\",\"type\":\"uint256\"}],\"payable\":false,\"stateMutability\":\"view\",\"type\":\"function\"},{\"constant\":false,\"inputs\":[{\"name\":\"_addr\",\"type\":\"address\"}],\"name\":\"m7set\",\"outputs\":[],\"payable\":false,\"stateMutability\":\"nonpayable\",\"type\":\"function\"}]);\n",
    "var math = mathContract.new(\n",
    "   {\n",
    "     from: web3.eth.accounts[0], \n",
    "     data: '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', \n",
    "     gas: '4700000'\n",
    "   }, function (e, contract){\n",
    "    //console.log(e, contract);\n",
    "    if (typeof contract.address !== 'undefined') {\n",
    "         console.log('Contract mined! address: ' + contract.address + ' transactionHash: ' + contract.transactionHash);\n",
    "    }\n",
    " })"
   ]
  },
  {
   "cell_type": "code",
   "execution_count": 60,
   "metadata": {
    "collapsed": false
   },
   "outputs": [
    {
     "name": "stdout",
     "output_type": "stream",
     "text": [
      "Overwriting src/MathMultiply7DeployFromFile.js\n"
     ]
    }
   ],
   "source": [
    "%%writefile src/MathMultiply7DeployFromFile.js\n",
    "var Web3=require('web3');\n",
    "var web3=new Web3(new Web3.providers.HttpProvider(\"http://117.16.44.45:8345\"));\n",
    "var fs=require('fs');\n",
    "var _str = fs.readFileSync(\"src/MathMultiply7.json\");\n",
    "var _json=JSON.parse(_str)\n",
    "var _abiArray=JSON.parse(_json.contracts[\"src/MathMultiply7.sol:Math\"].abi);\n",
    "//console.log(_abiArray);\n",
    "//var _bin=_json.contracts.sHello2.bin;\n",
    "var _bin=\"0x\"+_json.contracts[\"src/MathMultiply7.sol:Math\"].bin;\n",
    "//console.log(_bin);\n",
    "//unlock the account with a password provided\n",
    "//web3.personal.unlockAccount(web3.eth.accounts[0],'password');\n",
    "async function deploy() {\n",
    "    const accounts = await web3.eth.getAccounts();\n",
    "    console.log(\"Deploying the contract from \" + accounts[0]);\n",
    "    var deployed = await new web3.eth.Contract(_abiArray)\n",
    "        .deploy({data: _bin})\n",
    "        .send({from: accounts[0], gas: 1000000}, function(err, transactionHash) {\n",
    "                if(!err) console.log(\"hash: \" + transactionHash); \n",
    "        })\n",
    "        //.then(function(newContractInstance){\n",
    "        //    console.log(newContractInstance.options.address)\n",
    "        //});\n",
    "    console.log(\"---> The contract deployed to: \" + deployed.options.address)\n",
    "}\n",
    "deploy()"
   ]
  },
  {
   "cell_type": "code",
   "execution_count": 61,
   "metadata": {
    "collapsed": false
   },
   "outputs": [
    {
     "name": "stdout",
     "output_type": "stream",
     "text": [
      "Deploying the contract from 0xd2d45Dd6457A410b86632c4Fb9b2E9535DD61e55\n",
      "hash: 0x4b6495636a0ad52f13acd2fb66e01bb13d497eaffc7934b83b3113472e6678d5\n",
      "---> The contract deployed to: 0x4Dc626EEB7CDDBfDD631D25407FEcAe6510F1305\n"
     ]
    }
   ],
   "source": [
    "!node src/MathMultiply7DeployFromFile.js"
   ]
  },
  {
   "cell_type": "markdown",
   "metadata": {},
   "source": [
    "### 단계 4: 사용\n",
    "\n",
    "### 컨트랙 연관관계에서의 주소 설정\n",
    "\n",
    "```new``` 명령어는 동일한 파일에 연관관계 컨트랙이 존재할 때 주소를 할당하여 객체를 생성한다.\n",
    "```setM7(address)``` 함수는 ```Multiply7```를 배포하고, 확득한 주소를 할당한다."
   ]
  },
  {
   "cell_type": "markdown",
   "metadata": {},
   "source": [
    "### 입금해서 잔고가 있어야 송금 가능: send11M7()\n",
    "\n",
    "9를 곱하면서 ```11 wei```를 송금하려면 ```m7.multiply.value(11)(9)```로 호출할 수 있다.\n",
    "송금하면서 ```payable fabllback```를 호출되게 하기 위해 의도적으로 아래와 같이 존재하지 않는 함수를 호출하였다.\n",
    "\n",
    "```python\n",
    "call.value()();\n",
    "```\n",
    "\n",
    "송금하려면 물론 ```deposit()```을 먼저해야 한다.\n",
    "\n",
    "1. ```deposit(123)```\n",
    "value를 반드시 함수인자와 동일하게 입력해야 한다.\n",
    "REMIX에서 할 경우에도 마찬가지이다. ```Run``` 탭 상단의 ```value```, ```Deployed Contracts``` 함수의 인자 두 필드에 동일한 금액을 넣어준다.\n",
    "2. ```getBalanceOfThis()``` --> 123 입금하고 난 후의 잔고\n",
    "3. ```queryBalanceOfM7()``` ---> 0\n",
    "4. ```send11()```\n",
    "존재하지 않는 함수를 호출하여 ```m7.call.value(11)()```,\n",
    "다른 컨트랙 ```Multiply7```의 ```payable fallback``` 함수를 호출하여 ```11 Wei```를 송금한다.\n",
    "5. ```getBalanceOfThis()``` ---> 112\n",
    "6. ```getBalanceOfM7()``` ---> 11 ```payable fallback``` **존재하지 않는 함수를 호출하는 오류에도 불구하고 11 wei 송금 성공**\n",
    "\n",
    "```python\n",
    "> var math = mathContract.at(\"0xf803dac95ea40f03736060114dfb9cca9ee7d514\");\n",
    "undefined\n",
    "> math.deposit.sendTransaction(123,{from:web3.eth.accounts[0], value:123});   value와 인자를 동일하게 123으로 입금\n",
    "'0x9aa405b5780c999755ae85c3bc852a1e3b09a7d29b6fea20cdfb1af2ac4da19d'          REMIX에서도 마찬가지로 value와 인자를 일치시킴.\n",
    "> //miner.start(1);admin.sleepBlocks(1);miner.stop();\n",
    "undefined\n",
    "> math.queryBalance.call().toNumber();                                        마이닝하고 나면 잔고 123\n",
    "123\n",
    "> math.queryBalanceM7.call().toNumber();                                      Multiply7 잔고는 0\n",
    "0\n",
    "> math.send11({from:web3.eth.accounts[0]});                                   call.value(11)로 송금\n",
    "'0x9c497939df2a5d37cc7f9bf29b0f149831b82bfb841c2163badd360cba5f3360'\n",
    "> //miner.start(1);admin.sleepBlocks(1);miner.stop();\n",
    "undefined\n",
    "> math.queryBalance.call().toNumber();                                        마이닝하고 나면 잔고 112=123-11\n",
    "112\n",
    "> math.queryBalanceM7.call().toNumber();                                      Multiply7 잔고는 11증가\n",
    "11\n",
    "> math.multiply.call().toNumber();                                            함수내 8은 이미 입력되어 있으므로 56 = 8 x 7\n",
    "56\n",
    "```"
   ]
  },
  {
   "cell_type": "code",
   "execution_count": 4,
   "metadata": {
    "collapsed": false,
    "slideshow": {
     "slide_type": "subslide"
    }
   },
   "outputs": [
    {
     "name": "stdout",
     "output_type": "stream",
     "text": [
      "Overwriting src/MathMultiply7Use.js\n"
     ]
    }
   ],
   "source": [
    "%%writefile src/MathMultiply7Use__.js\n",
    "var Web3=require('web3');\n",
    "var web3 = new Web3(new Web3.providers.HttpProvider(\"http://117.16.44.45:8445\"));\n",
    "var mathContract = web3.eth.contract([{\"constant\":true,\"inputs\":[],\"name\":\"queryBalance\",\"outputs\":[{\"name\":\"\",\"type\":\"uint256\"}],\"payable\":false,\"stateMutability\":\"view\",\"type\":\"function\"},{\"constant\":false,\"inputs\":[],\"name\":\"send11\",\"outputs\":[{\"name\":\"\",\"type\":\"uint256\"}],\"payable\":false,\"stateMutability\":\"nonpayable\",\"type\":\"function\"},{\"constant\":false,\"inputs\":[{\"name\":\"amount\",\"type\":\"uint256\"}],\"name\":\"deposit\",\"outputs\":[],\"payable\":true,\"stateMutability\":\"payable\",\"type\":\"function\"},{\"constant\":true,\"inputs\":[],\"name\":\"queryBalanceM7\",\"outputs\":[{\"name\":\"\",\"type\":\"uint256\"}],\"payable\":false,\"stateMutability\":\"view\",\"type\":\"function\"},{\"constant\":true,\"inputs\":[],\"name\":\"multiply\",\"outputs\":[{\"name\":\"\",\"type\":\"uint256\"}],\"payable\":false,\"stateMutability\":\"view\",\"type\":\"function\"},{\"constant\":false,\"inputs\":[{\"name\":\"_addr\",\"type\":\"address\"}],\"name\":\"m7set\",\"outputs\":[],\"payable\":false,\"stateMutability\":\"nonpayable\",\"type\":\"function\"}]);\n",
    "var math = mathContract.at(\"0xf803dac95ea40f03736060114dfb9cca9ee7d514\");\n",
    "console.log(\"deposit 123...\"+math.deposit.sendTransaction(123,{from:web3.eth.accounts[0], value:123}));\n",
    "console.log(\"math balance: \"+math.queryBalance.call().toNumber());\n",
    "math.send11({from:web3.eth.accounts[0]});\n",
    "console.log(\"math balance: \"+math.queryBalance.call().toNumber());\n",
    "console.log(\"m7 balance: \"+math.queryBalanceM7.call().toNumber());\n",
    "math.multiply.call().toNumber();"
   ]
  },
  {
   "cell_type": "code",
   "execution_count": 72,
   "metadata": {
    "collapsed": false
   },
   "outputs": [
    {
     "name": "stdout",
     "output_type": "stream",
     "text": [
      "Overwriting src/MathMultiply7UseFromFile.js\n"
     ]
    }
   ],
   "source": [
    "%%writefile src/MathMultiply7UseFromFile.js\n",
    "var Web3=require('web3');\n",
    "var web3=new Web3(new Web3.providers.HttpProvider(\"http://117.16.44.45:8345\"));\n",
    "var fs=require('fs');\n",
    "var _str = fs.readFileSync(\"src/MathMultiply7.json\");\n",
    "var _json=JSON.parse(_str)\n",
    "var _abiArray=JSON.parse(_json.contracts[\"src/MathMultiply7.sol:Math\"].abi);\n",
    "var _instance = new web3.eth.Contract(_abiArray, \"0x4Dc626EEB7CDDBfDD631D25407FEcAe6510F1305\");\n",
    "\n",
    "async function doIt() {\n",
    "    const accounts = await web3.eth.getAccounts();\n",
    "    console.log(\"Account: \" + accounts[0]);\n",
    "    const balanceBefore = await web3.eth.getBalance(accounts[0]);\n",
    "    console.log(\"Balance before: \" + balanceBefore);\n",
    "    _instance.methods.multiply().call().then(console.log);\n",
    "    _instance.methods.deposit(123).send({from:accounts[0], value:123});\n",
    "    _instance.methods.getBalanceOfM7().call().then(console.log);\n",
    "    await _instance.methods.send11M7().send({from:accounts[0]});\n",
    "    _instance.methods.getBalanceOfM7().call().then(console.log);\n",
    "    const balanceAfter = await web3.eth.getBalance(accounts[0]);\n",
    "    console.log(\"Balance after: \" + balanceAfter);\n",
    "    console.log(\"Balance diff: \" + (balanceBefore - balanceAfter));\n",
    "}\n",
    "\n",
    "doIt()"
   ]
  },
  {
   "cell_type": "code",
   "execution_count": 73,
   "metadata": {
    "collapsed": false
   },
   "outputs": [
    {
     "name": "stdout",
     "output_type": "stream",
     "text": [
      "Account: 0xd2d45Dd6457A410b86632c4Fb9b2E9535DD61e55\n",
      "Balance before: 99982252519999999754\n",
      "56\n",
      "0\n",
      "11\n",
      "Balance after: 99981233199999999631\n",
      "Balance diff: 1019320000004096\n"
     ]
    }
   ],
   "source": [
    "!node src/MathMultiply7UseFromFile.js"
   ]
  },
  {
   "cell_type": "code",
   "execution_count": 74,
   "metadata": {
    "collapsed": false
   },
   "outputs": [
    {
     "name": "stdout",
     "output_type": "stream",
     "text": [
      "Account: 0xd2d45Dd6457A410b86632c4Fb9b2E9535DD61e55\n",
      "Balance before: 99981233199999999631\n",
      "56\n",
      "11\n",
      "22\n",
      "Balance after: 99980213879999999508\n",
      "Balance diff: 1019319999987712\n"
     ]
    }
   ],
   "source": [
    "!node src/MathMultiply7UseFromFile.js"
   ]
  },
  {
   "cell_type": "markdown",
   "metadata": {
    "collapsed": true
   },
   "source": [
    "## 연습문제\n",
    "\n",
    "블록체인에서 주문을 하고, 그 내역을 로컬 파일에 작성해 보자.\n",
    "블록체인으로 주문을 전송하면, 이벤트가 발생하고 주문내역을 로컬파일에 쓰게 된다.\n",
    "* ```EventTest.sol```에서는 이벤트가 발생하면서 그 로그를 파일에 작성한다 (```OrderEvent.txt```)\n",
    "* ```OrderEvent.sol```을 수정하여:\n",
    "\t* ```order(상품항목, 주문 개수, 배송지)``` 함수 작성\n",
    "\t* ```getBalance()``` 함수 작성. 해당 프로그램 생성한 ```owner```만 읽을 수 있게 ```modfier isOnwer``` 작성.\n",
    "\n",
    "```geth``` 또는 ```ganache``` 어느 하나를 선택하여 프로그램을 작성하세요.\n",
    "아래 로그가 파일에 쓰여지도록 하고, 노트북에서 그 파일을 출력하세요 (```!cat src/OrderEvent.txt```, 윈도우에서는 ```cat``` 대신 ```type```)\n",
    "```python\n",
    "전송자주소, 1111, 3, 20 2-gil Hongji-dong Jongro-gu Seoul\n",
    "전송자주소, 1111, 5, 20 2-gil Hongji-dong Jongro-gu Seoul\n",
    "전송자주소, 1111, 20, 20 2-gil Hongji-dong Jongro-gu Seoul\n",
    "```"
   ]
  },
  {
   "cell_type": "code",
   "execution_count": null,
   "metadata": {
    "collapsed": true
   },
   "outputs": [],
   "source": []
  }
 ],
 "metadata": {
  "kernelspec": {
   "display_name": "Python 3",
   "language": "python",
   "name": "python3"
  },
  "language_info": {
   "codemirror_mode": {
    "name": "ipython",
    "version": 3
   },
   "file_extension": ".py",
   "mimetype": "text/x-python",
   "name": "python",
   "nbconvert_exporter": "python",
   "pygments_lexer": "ipython3",
   "version": "3.6.9"
  }
 },
 "nbformat": 4,
 "nbformat_minor": 0
}
