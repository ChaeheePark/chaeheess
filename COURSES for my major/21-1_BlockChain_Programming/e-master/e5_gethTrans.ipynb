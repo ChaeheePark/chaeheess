{
 "cells": [
  {
   "cell_type": "markdown",
   "metadata": {
    "slideshow": {
     "slide_type": "slide"
    }
   },
   "source": [
    "# 5. Geth 거래\n",
    "\n",
    "Last Updated 20200421TUE1000 20190410WEB1530 20180717TUE1700 201801231MON1800 20160207\n",
    "\n",
    "\n",
    "## 학습내용\n",
    "\n",
    "### 목표\n",
    "\n",
    "- 트랜잭션, ABI, 블록체인, 마이닝, gas 학습"
   ]
  },
  {
   "cell_type": "markdown",
   "metadata": {
    "collapsed": true,
    "slideshow": {
     "slide_type": "subslide"
    }
   },
   "source": [
    "### 목차\n",
    "\n",
    "* 5.1 [메시지](#5.1)\n",
    "* 5.1.1 call\n",
    "* 5.1.2 sendTransaction\n",
    "* 5.2 ABI 명세\n",
    "* 5.3 트랜잭션 구성\n",
    "* 5.3.1 비트코인의 트랜잭션\n",
    "* 5.3.2 트랜잭션\n",
    "* 5.4 트랜잭션 처리 단계\n",
    "* 5.5 블록체인\n",
    "* 5.6 마이닝\n",
    "* 5.7 gas\n",
    "\n",
    "\n",
    "### 문제\n",
    "\n",
    "* 문제 5-1: [다른 계정으로 송금 거래](#5-1)\n"
   ]
  },
  {
   "cell_type": "markdown",
   "metadata": {
    "slideshow": {
     "slide_type": "slide"
    }
   },
   "source": [
    "## 5.1 메시지\n",
    "<a id='5.1'></a>\n",
    "\n",
    "이더리움에서의 메시지는 **계정 간**, 예를 들면 **자신의 계정에서 다른 사람의 계정 또는 컨트랙 계정**으로 \n",
    "전달되는 **데이터**와 **value**를 말한다."
   ]
  },
  {
   "cell_type": "markdown",
   "metadata": {
    "slideshow": {
     "slide_type": "subslide"
    }
   },
   "source": [
    "메시지, Message는 우리가 자주 사용하는 핸드폰의 **송금, 입금과 같은 페이 기능**,\n",
    "금액을 정하고 상대 번호를 지정하고 전송하는 서비스와 비슷하다.\n",
    "핸드폰에서의 송금 기능이 이더리움과 비교해서 어떻게 다른지 그 메시지를 서로 비교해 보자.\n",
    "\n",
    "구성 | 핸드폰 | 이더리움 메시지 | 비교\n",
    "-----|-----|-----|-----\n",
    "데이터 | 수신측에서 읽을 수 있는 글 | **바이트코드** | 핸드폰 문자는 사람이 읽을 수 있는 텍스트이고 이더리움 메시지는 EVM에서 처리할 수 있는 바이트코드로 작성한 메시지 또는 컨트랙 호출.\n",
    "value | 송금 | 입금, 송금 등 금액 | 휴대폰 번호로 송금을 해도 '금액'이 실물가치가 있어야 한다. 물론 이더리움에서도 실물가치가 있는 'value' 금액으로 전송해야 한다.\n",
    "송신 | 전화번호 (또는 계좌번호) | 내, 외부계정 | 휴대폰 번호로 송금을 해도 은행통장과 같은 기능이 있어야 한다. 반면 이더리움에서는 입금 또는 송금 은행통장 없이 가능하다.\n",
    "수신 | 전화번호  (또는 계좌번호) | 내, 외부계정 | 상동\n"
   ]
  },
  {
   "cell_type": "markdown",
   "metadata": {
    "slideshow": {
     "slide_type": "subslide"
    }
   },
   "source": [
    "메시지는 계정의 서명이 필요한지에 따라 1) 메시지 call과 2) 트랜잭션으로 구분한다.\n",
    "**메시지 call은 서명을 하지 않고**, **트랜잭션은 서명**을 해야 한다.\n",
    "다시 말하면, 트랜잭션은 전송자에 의해 서명이 된 메시지를 말한다.\n",
    "\n",
    "함수 | 설명 | 블록체인에 기록\n",
    "-----|-----|-----\n",
    "call | 로컬에서 실행, 블록체인에 전송되지 않는다. 따라서 블록체을 변경하지 않고, 읽기만 하는 경우, 비용이 발생하지 않음 | NO\n",
    "sendTransaction | 외부계정에 의해 발생하고, 사인해서 블록체인에 전송된다. 블록체인을 변경할 경우 사용 | YES 반환값은 hash.\n",
    "\n",
    "또한 메시지를 보내는 측, **외부계정에서 발생하는지 또는 내부계정에서 발생하는지에 따라 메시지를 구분**할 수 있다.\n",
    "외부계정, 예를 들어 갑돌이 계정에서 **contract**으로 보낼 수 있다. 이 경우 받는 주소가 블록체인 상의 contract이므로 해당 소스코드가 실행된다. 또는 내부계정에서 **상대방 계정**, 예를 들어 갑순이 계정으로 직접 전송할 수도 있다.\n"
   ]
  },
  {
   "cell_type": "markdown",
   "metadata": {
    "slideshow": {
     "slide_type": "subslide"
    }
   },
   "source": [
    "### 5.1.1 call\n",
    "call() 함수는 로컬 블록체인에서의 호출이라 블록체인에 전송되거나 기록되지 않는다.\n",
    "따라서 **사인이 필요없고**, gas가 발생하지 않는다.\n",
    "따라서 네트워크 참여자가 그 함수가 호출되었는지 알지 못한다.\n",
    "call() 함수는 실행되고 나서 그 반환 값을 가질 수 있다.\n",
    "web3.js API는 **web3.eth.call**이다.\n",
    "\n",
    "내부 계정, 즉 contract은 다른 contract이나 계정으로 메시지 call을 할 수 있다.\n",
    "그 예는:\n",
    "\n",
    "```python\n",
    "call.gas(0).value(number)()\n",
    "```\n",
    "\n",
    "> Solidity Documentation의 메시지 호출 설명\n",
    "\n",
    "> 컨트랙은 다른 **컨트랙**을 호출하거나, **컨트랙이 아닌 다른 계정**으로 메시지 호출이라는 수단을 통해 Ether를 전송할 수 있다.\n",
    "메시지 호출은 트랜잭션과 비슷한데, 그 이유로는 송신, 수신, 데이터, Ether, gas, 반환 값을 가진다는 점이다."
   ]
  },
  {
   "cell_type": "markdown",
   "metadata": {
    "slideshow": {
     "slide_type": "subslide"
    }
   },
   "source": [
    "### 5.1.2 sendTransaction\n",
    "\n",
    "sendTransaction() 함수는 블록체인에 전송되고 기록된다.\n",
    "**사인**을 해야 하고, gas가 필요하다.\n",
    "트랜잭션은 **반환 값이 없고, 그 결과 값은 해시 값**이다.\n",
    "프로그래밍을 할 때 반환 값은 함수가 올바르게 실행이 되었는지를 테스트할 때 유용하게 사용되는데, 블록체인에서는 이러한 반환값이 없다는 것은 매우 불펴한게 느껴진다. **반환 값을 알려면 event를 발생**시켜서 로그에 적어주고, 나중에 그 로그를 확인해야 한다.\n",
    "해시 값이 주어지면, 트랙잭션은 마이닝이 되어야 하고 반환 값은 없다.\n",
    "web3.js API는 **web3.eth.sendTransaction**이다.\n",
    "\n",
    "```python\n",
    "coin.send(web3.eth.accounts[0], 100,{from:web3.eth.accounts[0],gas:100000});\n",
    "coin.send.sendTransaction(web3.eth.accounts[0], 100,{from:web3.eth.accounts[0],gas:100000});\n",
    "```\n",
    "\n",
    "> Solidity Documentation의 트랜잭션 설명\n",
    "\n",
    "> 트랜잭션이 메시지인지 구분이 모호할 수 있다. 공식 문서를 참고하면 도움이 되겠다.\n",
    "> 트랜잭션은 한 계정에서 다른 계정으로 전송되는 메시지이다. 바이너리 데이터와 Ether를 포함할 수 있다.\n",
    "원문을 읽어보면 \"A transaction is a message that is sent from one account to another account. It can include binary data (which is called \"payload\") and Ether\"\n"
   ]
  },
  {
   "cell_type": "markdown",
   "metadata": {
    "slideshow": {
     "slide_type": "slide"
    }
   },
   "source": [
    "## 5.2 ABI 명세\n",
    "\n",
    "Application Binary Interface (ABI)는 컨트랙을 호출하기 위해 사용하는 방식이다.\n",
    "블록체인 외부에서나 또는 블록체인 내부에서 **컨트랙 서로 호출할 때, 함수 및 인자를 ABI 표준에 따라 부호화**해서 호출하게 된다.\n",
    "이 표준은 곧 살펴보겠지만, 사람 눈으로 그 부호화되는 과정을 이해하기는 어렵다. 그러나 걱정하지는 말자. 이더리움 내부에서 알아서 하므로 개발자가 직접 이 방식으로 하지 않아도 된다."
   ]
  },
  {
   "cell_type": "markdown",
   "metadata": {
    "slideshow": {
     "slide_type": "subslide"
    }
   },
   "source": [
    "예를 들어, Foo의 baz()함수를 호출한다고 하자.\n",
    "우선 함수와 인자를 각 각 인코딩하고 조합해서 16진수 데이터로 만들어 호출하게 된다.\n",
    "출처: https://solidity.readthedocs.io/en/develop/abi-spec.html\n",
    "```python\n",
    "contract Foo {\n",
    "  function bar(fixed[2] xy) {}\n",
    "  function baz(uint32 x, bool y) returns (bool r) { r = x > 32 || y; }\n",
    "  function sam(bytes name, bool z, uint[] data) {}\n",
    "}\n",
    "```"
   ]
  },
  {
   "cell_type": "markdown",
   "metadata": {
    "slideshow": {
     "slide_type": "subslide"
    }
   },
   "source": [
    "1) **함수명 부호화**\n",
    "\n",
    "호출할 **함수시그니처** (함수명과 인자, 이때 인자는 **컴마로 분리하고 공백 없이** 적는다)의 **sha3 해시값**으로 만들고, **앞 4 바이트**를 선택한다. 이를 **function selector**라고 한다.\n",
    "함수 시그니처 ```baz(uint32,bool)```의 Keccak hash ASCII 앞 4바이트를 선택한다.\n",
    "\n",
    "```python\n",
    "<address>.call(bytes4(bytes32(sha3(\"baz(uint32,bool)\")))\n",
    "```\n",
    "\n",
    "```python\n",
    "> web3.sha3('baz(uint32,bool)').substring(0,10);\n",
    "\"0xcdcd77c0\"\n",
    "```"
   ]
  },
  {
   "cell_type": "markdown",
   "metadata": {
    "slideshow": {
     "slide_type": "subslide"
    }
   },
   "source": [
    "2) **인자 값을 부호화**\n",
    "\n",
    "**32 바이트**로 만들기 위해 **앞에 0으로 채운다**.\n",
    "인자가 69일 경우, 앞은 0으로 채워서 32바이트로 만든다.\n",
    "```python\n",
    "> web3.toHex(69)\n",
    "\"0x45\"\n",
    "0x0000000000000000000000000000000000000000000000000000000000000045 - 인자 uint32 69 (32바이트)\n",
    "0x0000000000000000000000000000000000000000000000000000000000000001 - 인자 bool 1  (32바이트)\n",
    "```"
   ]
  },
  {
   "cell_type": "markdown",
   "metadata": {
    "slideshow": {
     "slide_type": "subslide"
    }
   },
   "source": [
    "3) **데이터 조합**\n",
    "\n",
    "위 1) function selector부호값과 2) 인자부호값를 합친다. 0x를 제거한다.\n",
    "아래에서 볼 때 몇 줄로 나누어져 있지만 그것은 공간상의 제약때문에 그러하고, 한 줄로 쭉 연결이 된 문자열이된다.\n",
    "\n",
    "```python\n",
    "0xcdcd77c00000000000000000000000000000000000000000000000000000000000000045\n",
    "0000000000000000000000000000000000000000000000000000000000000001\n",
    "```"
   ]
  },
  {
   "cell_type": "markdown",
   "metadata": {
    "collapsed": true,
    "slideshow": {
     "slide_type": "subslide"
    }
   },
   "source": [
    "4) **함수 호출**\n",
    "\n",
    "함수를 호출할 때 ```data``` 항목에 위와 같이 생성된 ABI 부호를 적는다.\n",
    "\n",
    "```python\n",
    "web3.eth.sendTransaction({\n",
    "    from: eth.accounts[0],\n",
    "    to: \"0x672807a8c0f72a52d759942e86cfe33264e73934\",\n",
    "    data: \"0xcdcd77c000000000000000000000000000000000000000000000000000000000000000450000000000000000000000000000000000000000000000000000000000000001\",\n",
    "    gas: 400000}\n",
    ")\n",
    "```"
   ]
  },
  {
   "cell_type": "markdown",
   "metadata": {
    "slideshow": {
     "slide_type": "slide"
    }
   },
   "source": [
    "## 5.3 트랜잭션 구성\n",
    "\n",
    "### 5.3.1 비트코인의 트랜잭션\n",
    "\n",
    "비트코인에서의 거래는 한 주소에서 다른 주소로 금액이 이체되는 것으로, 네트워크에 전파되고 모여서 블록으로 만들어지게 된다.\n",
    "거래는 아래 표에서 보듯이 버전, locktime 타임스탬프, 입금, 출금 관련 항목으로 구성한다.\n",
    "\n",
    "\n",
    "길이 | 항목 | 설명\n",
    "-----|-----|-----\n",
    "4 bytes | Version | 버전정보\n",
    "1-9 bytes | Input counter | in 개수\n",
    "variable | in | array로서 이전 거래의 out에서 가져와 본 거래의 out으로 지급된다.사용하게 되는 잔액을 가지고 있는 transactionHash, script를 가진다.\n",
    "1-9 bytes | output counter | out 개수\n",
    "variable | out | array로서 in보다 같거나, 적어야 한다 (적으면 처리비용으로). UTXO OpCodes: Scripts - 6...4사용하고 남는 잔액들 unspent transaction output UTXO. script, value를 가진다.\n",
    "4 bytes | locktime | unix timestamp 또는 블록번호"
   ]
  },
  {
   "cell_type": "markdown",
   "metadata": {},
   "source": [
    "아래 사례에서 보듯이, 입출금이 하나가 아니고 복수일 수 있다는 점에 주의한다.\n",
    "거래에서 발생한 미사용 잔액이 수합되어야 하는 경우 input이 여러 개가 된다.\n",
    "```ins```는 이전 거래 ```outpoint``` 2건에서 미사용 잔액을 수합하여 ```output```으로 지급한다.\n",
    "출금 또한 수신자가 1명이라도, 그 잔액이 자신에게 돌려지므로 **최소 2개**가 된다.\n",
    "하나는 수신처로 송금되는 금액, 다른 하나는 거스름돈에 해당하는 잔액이다.\n",
    "```Value```는 Satoshi 금액이다 (1 BTC = 100,000,000 Satoshi)."
   ]
  },
  {
   "cell_type": "code",
   "execution_count": 2,
   "metadata": {
    "scrolled": true,
    "slideshow": {
     "slide_type": "subslide"
    }
   },
   "outputs": [
    {
     "name": "stdout",
     "output_type": "stream",
     "text": [
      "{'ins': [{'outpoint': {'hash': '5a4a44f45cb5653a770660833e747d0449dc91e5b02e815375702856bebe9c34',\n",
      "                       'index': 3},\n",
      "          'script': '47304402203f02d209168bb9c4e8fab3b2f2aca19be1f9032eaa85be3a029641eecf69e60d022055d7e22914bb4741ee8c1ab73e23766de034a82dae22dad0c13684d6cb098b9e012102c3a7056ad278bf04f2e5546e29466d8175ec4a052ad8f9901b32d53e442545a8',\n",
      "          'sequence': 4294967295},\n",
      "         {'outpoint': {'hash': '386218d00f9617b55883499e96165c4e035cb7dcde4db6b7713995e18ae19008',\n",
      "                       'index': 1},\n",
      "          'script': '4830450221009511497e136765037a75f75a126168502bfee73a7c286ea775968a7140368ef002200cfc776ade17b9444bb7ad13e71852974befd1d6fcfa196df677cd72a697c63b012102b8963213667c71471d62361fe27aad7ab2b8b102a6d93f7367634466e04b5422',\n",
      "          'sequence': 4294967295}],\n",
      " 'locktime': 0,\n",
      " 'outs': [{'script': 'a914ed91639c578b4c1f526525e6dcbc9fbc505fe76987',\n",
      "           'value': 47220000},\n",
      "          {'script': '76a9145f9a3e6e8029dd934a2a00a17aa8254c0975219988ac',\n",
      "           'value': 900433}],\n",
      " 'version': 1}\n"
     ]
    }
   ],
   "source": [
    "import bitcoin, pprint\n",
    "tx='0100000002349cbebe5628707553812eb0e591dc49047d743e836006773a65b55cf4444a5a030000006a47304402203f02d209168bb9c4e8fab3b2f2aca19be1f9032eaa85be3a029641eecf69e60d022055d7e22914bb4741ee8c1ab73e23766de034a82dae22dad0c13684d6cb098b9e012102c3a7056ad278bf04f2e5546e29466d8175ec4a052ad8f9901b32d53e442545a8ffffffff0890e18ae1953971b7b64ddedcb75c034e5c16969e498358b517960fd0186238010000006b4830450221009511497e136765037a75f75a126168502bfee73a7c286ea775968a7140368ef002200cfc776ade17b9444bb7ad13e71852974befd1d6fcfa196df677cd72a697c63b012102b8963213667c71471d62361fe27aad7ab2b8b102a6d93f7367634466e04b5422ffffffff022085d0020000000017a914ed91639c578b4c1f526525e6dcbc9fbc505fe7698751bd0d00000000001976a9145f9a3e6e8029dd934a2a00a17aa8254c0975219988ac00000000'\n",
    "tx_structure = bitcoin.deserialize(tx)\n",
    "pprint.pprint(tx_structure)"
   ]
  },
  {
   "cell_type": "markdown",
   "metadata": {
    "slideshow": {
     "slide_type": "subslide"
    }
   },
   "source": [
    "### 5.3.2 트랜잭션\n",
    "\n",
    "#### 거래 속성\n",
    "\n",
    "다음에서 보게 되겠지만, 이더리움에서는 미사용잔액을 수합해서 사용하는 방식이 아니라, 입출금 관련항목이 불필요하고\n",
    "입금주소, 출금주소와 금액으로 단순해지게 된다.\n",
    "거래는 필요한 속성이 채워져야 한다.\n",
    "\n",
    "속성 | 바이트 | 설명\n",
    "----|-----|-----\n",
    "from | 20 바이트 | 전송 주소. 명시하지 않으면 web3.eth.defaultAccount\n",
    "to | 20 바이트 | (optional) 수신 주소. 컨트랙 생성하는 경우는 당연히 명시하지 않아도 된다.\n",
    "value | 32 바이트 | (optional) 전송 Wei 금액\n",
    "gasLimit | 32 바이트 | (optional, default: To-Be-Determined) 거래처리에 허용되는 최대 개스량\n",
    "gasPrice | 32 바이트 | (optional, default: To-Be-Determined) 거래 처리에 필요한 개스량 (Wei)\n",
    "data | 제한 없슴 | (optional)  메시지 데이터 (바이트)\n",
    "nonce | 32 바이트 | (optional) 계정에서 발생한 거래 순서 번호. 동일한 번호가 있으면 하나는 처리 거절, 또는 순서대로 처리 (즉 뒷 순서가 먼저 처리되고 앞 번호를 취소하는 이중거래 편법을 막음)\n",
    "v, r, s | 1, 32, 32 바이트 | v, r, s는 거래의 signature에서 구하고, 공개키를 회복하기 위해 사용된다.사인에서 구할 수 있다. v는 공개키를 회복하기 위해 필요한 recovery id (27 또는 28을 가진다. 0, 1 또는 2 값을 가질 수도 있다), (r,s)에서 공개키를 회복하는 방법이 2가지가 있고, 그 중 하나를 식별하기 위해 사용된다. (r은 R의 is computed as the X coordinate of a point R, modulo the curve order n.)"
   ]
  },
  {
   "cell_type": "markdown",
   "metadata": {
    "slideshow": {
     "slide_type": "subslide"
    }
   },
   "source": [
    "예를 들면:\n",
    "\n",
    "```python\n",
    "transactionObject = {\n",
    "  from: \"0xA0A0A0A01\",\n",
    "  to: \"0xA0A0A0A02\",\n",
    "  value: web3.eth.getBalance(\"0xA0A0A0A01\"),\n",
    "  gas: \"----\",\n",
    "  gasPrice: \"----\",\n",
    "  data: \"----\",\n",
    "  nonce: 0,\n",
    "}\n",
    "```"
   ]
  },
  {
   "cell_type": "markdown",
   "metadata": {
    "slideshow": {
     "slide_type": "slide"
    }
   },
   "source": [
    "## 5.4 트랜잭션의 처리 단계\n",
    "\n",
    "거래가 발생하면, 마이너에 의해 인증해야 한다.\n",
    "\n",
    "갑이 을에게 송금 거래를 한다고 하자.\n",
    "갑은 거래에 디지털서명을 하고\n",
    "그 거래는 참여 노드들에게 전파된다.\n",
    "노드들은 거래를 받으면:\n",
    "- 거래의 **디지털서명**을 인증하여 원본이 맞는지, 소유주의 서명이 맞는지?\n",
    "- 전송자가 **gas를 지불할 잔고**를 가지고 있는지\n",
    "- gas가 **gas limit**을 초과하지 않는지 기본적인 검증을 하고 거래를 다시 네트워크에 전파한다.\n",
    "\n",
    "마이너 노드들은 거래를 블록으로 만들어 가고, 만들면 모든 네트워크참여자에게 공지한다.\n",
    "블록이 체인에 연결, 블록해시를 다음 블록에 참조하면서 연결이되고 이를 받아들인 것으로 합의한다."
   ]
  },
  {
   "cell_type": "markdown",
   "metadata": {
    "slideshow": {
     "slide_type": "subslide"
    }
   },
   "source": [
    "순서 | 단계 | 설명\n",
    "-----|-----|-----\n",
    "1 | 거래 생성 | 거래에 **디지털 서명을**하고, 전송하기 위해 바이트 단위로 변환, **직렬화 serialize**한다.\n",
    "2 | 거래 전송 | 거래가 p2p 네트워크로 전송되고, 노드들 간에 서로 전파된다 (broadcast).\n",
    "3 | 블럭 생성 | 일정 시간 동안 거래를 묶어서 블록이 될 때까지 **pendingTransaction**에 넣는다. 그러나 아직 블록체인에 연결되기 전이므로 후보 블록 **candidate block**이 된다. 마이너들이 이렇게 묶은 블록 후보는 네트워크로 전파된다. 마이너는 자신들이 거래를 수집하여 블록으로 만들기 때문에 서로 같지 않을 수 있다. 거래가 도착 순서대로 묶어지는 것이 아니라, **우선순위**가 높은 거래부터 시작해서 블록으로 만들어진다 (이더리움에서는 처리비가 높은 거래가 우선순위가 높다. 비트코인에서는 잔고UTXO의 age, 금액이 클수록 높다, Sum (Value of input x Input Age) / Transaction Size). 따라서 부모hash가 없는 **고아 거래orphan transactions**이 있을 수 있다. 포함이 안된 거래는 기다려서 다음 블록에 추가된다.\n",
    "4 | 블록인증 | 앞서 만들어진 블록을 인증하게 된다. 마이닝은 Proof of Work, 즉 **hash puzzle을 풀어 nonce를 정하는 작업**이다. 블록 해시를 가장 먼저 찾아낸 노드는 이를 네트워크에 알리고, 다른 노드들은 새로 생성된 블록의 유효성을 검사하고 인증한다. **가장 긴 길이를 가진 체인을 선택**하여 (고아 블록은 짧은 길이를 가지게 되므로 선택되지 않는다), 블록을 앞 블록에 **전의 블록 hash를 찾아 체이닝**되어 블록에 추가된다. 한다. 참여한 노드들 중에서 가장 먼저 해시값을 찾아낸 노드가 보상을 받는다. 2종류의 보상: 1) 새롭게 생성된 코인을 획득 (2015년 25비트코인 생성), 2) 거래비용. 2016개마다 문제의 난이도를 조정한다.\n",
    "5 | 새로운 블록 전파 | 새로운 블럭이 공지되면 **다른 마이너들은 이 블록 해시값이 올바른지 검사하고 받아들이게 되면서 마이닝은 종료**하게 된다. 거래기록은 중앙 서버가 가지고 있는 것이 아니라, 분산 네트워크에 실시간 공유된다. 공유되고 나면 수정할 수 없다. 로컬 블럭체인 동기화, 마이닝하지 않은 경우 동기화가 뒤떨어질 수 있다."
   ]
  },
  {
   "cell_type": "markdown",
   "metadata": {
    "slideshow": {
     "slide_type": "slide"
    }
   },
   "source": [
    "## 5.5 블록체인\n",
    "\n",
    "### 블록헤더\n",
    "\n",
    "블록체인은 블록의 연결로 헤더와 바디로 구분된다.\n",
    "블록헤더는:\n",
    "1) 프로토콜 버전(Version), 2) 이전 블록 해시 값 (Previous Block Hash), 3) 채굴속도를 조정하는 난이도 (Difficulty), 4) 블록이 생성된 시간 (Timestamp), 5) Target Hash를 맞추기 위해 사용하는 난스(Nonce), 6) 각 블록의 해시 값을 결합하여 계산하는 머클 루트의 해시값 (Merkle Root)으로 구성한다. 가벼운 클라이언트의 spv (simple payment verification)는 이러한 블록헤더를 가지게 된다. spv는 거래를 검증하기 위해서는 full node의 머클트리에 요청하여 거래가 블록에 포함되었는지 확인하게 된다.\n",
    "\n",
    "블록헤더 | 바이트 수 | 설명\n",
    "-----|-----|-----\n",
    "version | 4 | 프로토콜 버전\n",
    "Previous Block Hash | 32 | 이전 블록 해시 값으로 서로 체인으로 연결.\n",
    "Merkle Root | 32 | 블록에 있는 모든 거래 hash의 root. 따라서 어떤 블럭 해시 값이 변경되면 Merkle Root Hash값도 달라지게 되어 수정이 불가능함.\n",
    "Timestamp | 4 | 블록 생성 시간\n",
    "difficulty target | 4 | 난이도를 조정하여 블록생성시간을 유지.\n",
    "nonce | 4 | Target Hash를 맞추어 나갈 때 조정\n",
    "\n",
    "블록바디는 발생한 트랙잭션을 저장한다."
   ]
  },
  {
   "cell_type": "markdown",
   "metadata": {
    "slideshow": {
     "slide_type": "subslide"
    }
   },
   "source": [
    "### 블록체인\n",
    "\n",
    "블록체인은 블록의 체인이고, 블록은 **거래를 묶어 이진트리 merkle tree로 구성**해서 가진다.\n",
    "Merkle tree는 **hash로 이름 붙여진 가지노드 lead node로 구성된 트리**를 말한다.\n",
    "예를 들어, 트랜잭션 A, B, C를 머클트리로 구성한다면 각 거래 데이터를 해싱해서 나온 결과 값이 각 가지 노드에 저장된다. 부모 노드를 만들기 위해서 자식노드의 32바이트 크기의 트랜잭션 A와 B의 해시 값을 서로 연결해서 64바이트 문자열을 만들고 문자열은 **이중 해시** 처리되어 부모노드의 해시를 생성한다. \n",
    "이러한 방식으로 상위에 노드가 하나 남을 때까지 계속 계산하고, 각각의 트랜잭션을 이진트리 형태로 만들 경우 가장 최종적으로 남는 해시 값이 머클트리 루트 해시 값이 된다."
   ]
  },
  {
   "cell_type": "markdown",
   "metadata": {
    "slideshow": {
     "slide_type": "subslide"
    }
   },
   "source": [
    "블록 내에서 머클 해시 값을 통해서 **트랜잭션의 무결성**을 검증 할 수 있고, 블록 해시 값을 통해서 **해더 값에 대한 무결성**을 검증할 수 있다.\n",
    "거래 내역의 위변조를 막기 위해서 해시로 만들고 이것을 트리 형태로 만든 것이다.\n",
    "어느 한 **블록에 변조가 발생하면, merkle tree로 root까지 전달되어 블록체인 전체가 변조**된다.\n",
    "이전에 생성된 블록해시 값은 다음 블록 헤더의 'Previous Block Hash' 항목에 저장된다. 각 블록에 트랜잭션이 지속적으로 쌓이면 새롭게 블록을 생성하여 **블록해시 값을 연결고리로 블록을 연결하여 블록체인이 생성**된다.\n",
    "블록 뒤에 다른 블록이 추가될 때마다, 이를 **confirmation**이라고 하는데 confirmation이 늘어날 수록 수정이 힘들어 진다. \n",
    "**fork**는 **같은 블록높이를 가지는 블록이 여러 개**, 부모가 여러 자식 블록을 가지는 경우 발생한다. 복수의 마이너가 거의 동시에 블록을 생산하는 경우이다.\n",
    "매 **2016블록마다 difficulty가 조정**된다.\n",
    "\n",
    "> 블록높이 block height\n",
    "\n",
    "> 블록체인에서 선행블록의 수를 말한다. 예를 들어 genesis block의 블록높이는 0이다."
   ]
  },
  {
   "cell_type": "markdown",
   "metadata": {
    "slideshow": {
     "slide_type": "subslide"
    }
   },
   "source": [
    "block header를 생성해보자 (source: bitcoinwiki https://en.bitcoin.it/wiki/Block_hashing_algorithm)\n",
    "\n",
    "버전, 이전 블록 해시 값, 머클루트 값, 타임스탬프, 난이도, 난스의 hex 값을 이중 해싱해서 생성한다."
   ]
  },
  {
   "cell_type": "code",
   "execution_count": 7,
   "metadata": {
    "collapsed": true
   },
   "outputs": [],
   "source": [
    "import hashlib"
   ]
  },
  {
   "cell_type": "code",
   "execution_count": 27,
   "metadata": {},
   "outputs": [],
   "source": [
    "version=\"01000000\";  #4 bytes\n",
    "prevBlockHash=\"81cd02ab7e569e8bcd9317e2fe99f2de44d49ab2b8851ba4a308000000000000\"; #32 bytes\n",
    "merkleRoot=\"e320b6c2fffc8d750423db8b1eb942ae710e951ed797f7affc8892b0f1fc122b\";  #32 bytes\n",
    "timestamp=\"c7f5d74d\"; #4 bytes\n",
    "difficulty=\"f2b9441a\"; #4 bytes\n",
    "nonce=\"42a14695\";  #4 bytes\n",
    "header_hex = version + prevBlockHash + merkleRoot + timestamp + difficulty + nonce\n",
    "#header_bin = header_hex.decode('hex')  # changes to binary string"
   ]
  },
  {
   "cell_type": "markdown",
   "metadata": {},
   "source": [
    "header값을 binary로 변환하고, sha256 더블해싱을 한후 hex코드로 출력해보자."
   ]
  },
  {
   "cell_type": "code",
   "execution_count": 54,
   "metadata": {},
   "outputs": [],
   "source": [
    "header_bin = header_hex.encode('utf-8')  # changes to binary string\n",
    "hash = hashlib.sha256(hashlib.sha256(header_bin).digest()).digest()"
   ]
  },
  {
   "cell_type": "code",
   "execution_count": 55,
   "metadata": {},
   "outputs": [
    {
     "data": {
      "text/plain": [
       "'6500f13bc254c59e9f3d77bd0b1999e686fadf7765ae2b59266d1d835b869083'"
      ]
     },
     "execution_count": 55,
     "metadata": {},
     "output_type": "execute_result"
    }
   ],
   "source": [
    "#hash.encode('hex_codec')    # equals to \"encode('hex')\"\n",
    "hash.hex()"
   ]
  },
  {
   "cell_type": "markdown",
   "metadata": {},
   "source": [
    "문자열을 뒤집어 출력해보자. 2자리, 즉 1바이트씩 거꾸로 복사를 하는데, 이를 byte-swap이라고 한다."
   ]
  },
  {
   "cell_type": "code",
   "execution_count": 57,
   "metadata": {},
   "outputs": [],
   "source": [
    "hashhex=hash.hex()"
   ]
  },
  {
   "cell_type": "code",
   "execution_count": 58,
   "metadata": {},
   "outputs": [
    {
     "data": {
      "text/plain": [
       "'8390865b831d6d26592bae6577dffa86e699190bbd773d9f9ec554c23bf10065'"
      ]
     },
     "execution_count": 58,
     "metadata": {},
     "output_type": "execute_result"
    }
   ],
   "source": [
    "#hash[::-1].encode('hex_codec')  # [::-1] all elements in the array reversed\n",
    "\"\".join(reversed([hashhex[i:i+2] for i in range(0, len(hashhex), 2)]))"
   ]
  },
  {
   "cell_type": "markdown",
   "metadata": {
    "slideshow": {
     "slide_type": "subslide"
    }
   },
   "source": [
    "### Merkle proof\n",
    "\n",
    "Merkle tree는 거래를 트리구조로 연결하여 가지고 있다.\n",
    "최정점의 머클루트는 가지들을 합쳐서 결국 하나의 해시 값을 만드는 것이다. 가지 노드를 하나씩, 예를 들어 TxA와 TxB를 합쳐서 해시값을 구하고, 다른 노드에 대해서도 이 작업을 반복하게 된다. 최하층 노드에 대해 두 개씩 결합이 끝나면, 이런 식으로 그 다음 계층으로 올라가 반복해서 해시값을 구한다.\n",
    "\n",
    "이렇게 해시로 연결해 놓으면 어떤 장점이 있을까?\n",
    "특정 transaction이 수정되면, 그 해시가 변경되게 되고, 연쇄적으로 전체 해시가 다르게 되기 때문에 위변조가 거의 불가능하게 된다.\n",
    "\n",
    "```python\n",
    "              ---------------\n",
    "              | Merkle Root |\n",
    "              ---------------\n",
    "                     /      byte swap\n",
    "                    /     double SHA256\n",
    "                   /   Hash 1 2 + Hash 3 4\n",
    "             --------------\n",
    "             |  Hash 1 2  |\n",
    "             --------------\n",
    "           /  double SHA256 \\\n",
    "          /    hash1+hash2   \\\n",
    "     byte swap            byte swap\n",
    "  --------------        --------------\n",
    "  |   Hash 1   |        |   Hash 2   |\n",
    "  --------------        --------------\n",
    "        |                    |\n",
    "        | SHA256             | SHA256  \n",
    "Transaction 1 Data   Transaction 2 Data\n",
    "```"
   ]
  },
  {
   "cell_type": "markdown",
   "metadata": {
    "collapsed": true
   },
   "source": [
    "아래 Merkle tree에 거래 TxA, 거래 TxB가 있다고 하고,\n",
    "여기서는 문자열만으로 구성하고, 이들을 묶어 머클루트를 구해보자.\n",
    "거래 TxA, TxB를 해싱하고, 바이트 스왑을 한다.\n",
    "그리고 합쳐서 더블 해싱을 하여 상위 해시 값을 구한다.\n",
    "\n",
    "각 문자열을 해싱해서 인코딩부터 해준다.\n",
    "Python 3.0부터는 문자열은 유니코드로 저장된다..\n",
    "```encode()``` 함수는 유니코드 문자열을 바이트로 변환, 즉 인코딩을 한다.\n",
    "물론 거래는 문자열만으로 구성되지 않는다.\n",
    "우선 hashing을 해준다."
   ]
  },
  {
   "cell_type": "code",
   "execution_count": 1,
   "metadata": {
    "collapsed": true
   },
   "outputs": [],
   "source": [
    "import hashlib\n",
    "\n",
    "nonce=1\n",
    "txA = 'Hello'.encode()\n",
    "txB = 'How are you?'.encode()\n",
    "txC = 'This is Thursday'.encode()\n",
    "txD = 'Happy new Year'.encode()"
   ]
  },
  {
   "cell_type": "code",
   "execution_count": 4,
   "metadata": {
    "collapsed": true
   },
   "outputs": [],
   "source": [
    "hashA=hashlib.sha256(txA)\n",
    "hashB=hashlib.sha256(txB)"
   ]
  },
  {
   "cell_type": "markdown",
   "metadata": {
    "collapsed": true
   },
   "source": [
    "```digest()```는 바이트 형식으로, 반면에 ```hexdigest()```는 16진수로 출력한다."
   ]
  },
  {
   "cell_type": "code",
   "execution_count": 5,
   "metadata": {},
   "outputs": [
    {
     "data": {
      "text/plain": [
       "'185f8db32271fe25f561a6fc938b2e264306ec304eda518007d1764826381969'"
      ]
     },
     "execution_count": 5,
     "metadata": {},
     "output_type": "execute_result"
    }
   ],
   "source": [
    "hashA.hexdigest()"
   ]
  },
  {
   "cell_type": "markdown",
   "metadata": {},
   "source": [
    "#### byteswap\n",
    "\n",
    "byte swap으로 big-endian을 little-endian으로 변환한다.\n",
    "이런 변환은 Endianness의 차이때문에 한다.\n",
    "이더리움 EVM은 big endian (예: 0x1234일 때, 왼쪽에서 오른쪽으로0x12 0x34), CPU는 small endian (0x34, 0x12)으로 처리한다."
   ]
  },
  {
   "cell_type": "markdown",
   "metadata": {},
   "source": [
    "1 바이트, 즉 2 nibbles씩 출력해보자. \n",
    "전체글자수 (즉 32바이트의 2배)에 대해 1 바이트인 2글자씩 반복을 하면서 출력한다."
   ]
  },
  {
   "cell_type": "code",
   "execution_count": 20,
   "metadata": {
    "scrolled": true
   },
   "outputs": [
    {
     "name": "stdout",
     "output_type": "stream",
     "text": [
      "18\n",
      "5f\n",
      "8d\n",
      "b3\n",
      "22\n",
      "71\n",
      "fe\n",
      "25\n",
      "f5\n",
      "61\n",
      "a6\n",
      "fc\n",
      "93\n",
      "8b\n",
      "2e\n",
      "26\n",
      "43\n",
      "06\n",
      "ec\n",
      "30\n",
      "4e\n",
      "da\n",
      "51\n",
      "80\n",
      "07\n",
      "d1\n",
      "76\n",
      "48\n",
      "26\n",
      "38\n",
      "19\n",
      "69\n"
     ]
    }
   ],
   "source": [
    "for i in range(0, hashA.digest_size*2, 2):\n",
    "    print(hashA.hexdigest()[i:i+2])"
   ]
  },
  {
   "cell_type": "markdown",
   "metadata": {},
   "source": [
    "반복문을 pythonic하게 줄여볼 수 있다. 그리고 2바이트씩 잘라서 ```reversed()``` 함수로 뒤집는다."
   ]
  },
  {
   "cell_type": "code",
   "execution_count": 6,
   "metadata": {},
   "outputs": [],
   "source": [
    "hashAswap=\"\".join(reversed([hashA.hexdigest()[i:i+2] for i in range(0, hashA.digest_size*2, 2)]))"
   ]
  },
  {
   "cell_type": "code",
   "execution_count": 7,
   "metadata": {},
   "outputs": [],
   "source": [
    "hashBswap=\"\".join(reversed([hashB.hexdigest()[i:i+2] for i in range(0, hashB.digest_size*2, 2)]))"
   ]
  },
  {
   "cell_type": "code",
   "execution_count": 8,
   "metadata": {},
   "outputs": [
    {
     "name": "stdout",
     "output_type": "stream",
     "text": [
      "hashAswap:  691938264876d1078051da4e30ec0643262e8b93fca661f525fe7122b38d5f18 \n",
      "hashBswap:  890dfa0aaa970381d9e11e1553ac7ec9ceb53b782c1c2e692bed0614fc7d28df\n"
     ]
    }
   ],
   "source": [
    "print(\"hashAswap: \", hashAswap, \"\\nhashBswap: \",hashBswap)"
   ]
  },
  {
   "cell_type": "markdown",
   "metadata": {},
   "source": [
    "#### double hashing\n",
    "\n",
    "두 해시값을 결합한다."
   ]
  },
  {
   "cell_type": "code",
   "execution_count": 9,
   "metadata": {},
   "outputs": [],
   "source": [
    "#hashAB=hashA.hexdigest()+hashA.hexdigest()\n",
    "hashAB=hashAswap+hashBswap"
   ]
  },
  {
   "cell_type": "markdown",
   "metadata": {},
   "source": [
    "double hashing은 해시 값에 대한 'length extension attack'을 막기 위해 사용한다."
   ]
  },
  {
   "cell_type": "code",
   "execution_count": 11,
   "metadata": {},
   "outputs": [
    {
     "data": {
      "text/plain": [
       "'006c195035200dd4ee937e56d7de9c1d2ce4fe1adc0f1e2451f27fc34520546c'"
      ]
     },
     "execution_count": 11,
     "metadata": {},
     "output_type": "execute_result"
    }
   ],
   "source": [
    "hashlib.sha256(hashlib.sha256(hashAB.encode()).hexdigest().encode()).hexdigest()"
   ]
  },
  {
   "cell_type": "markdown",
   "metadata": {
    "slideshow": {
     "slide_type": "slide"
    }
   },
   "source": [
    "## 5.6 마이닝\n",
    "\n",
    "마이닝은 거래를 인증하는 과정으로, hash puzzle을 풀고 그 보상으로 새로운 코인을 생성하게 된다.\n",
    "발생한 모든 거래가 추가되는 것은 아니다.\n",
    "**목표 값 target hash를 찾아내는 계산**을 하고, 맞추는 경우에 인증되고 블록체인에 비로서 추가된다.\n",
    "정답을 맞추는 작업을 하는 참여자들을 **마이너**라고 하며, **보상은 정답을 맞춘 최초의 경우**에만 해당 마이너에게 주어진다.\n",
    "이와 같이 일정한 량의 계산에 따라 거래가 인증되고, 블록체인에 추가될 수 있으므로 이러한 **계산작업증명을 Proof of Work** 이라고 한다.\n",
    "\n",
    "비트코인의 경우 블록생성시간은 10분으로 설정되어 있으므로 하루 144 블록, 일주 1008블록이 생성된다. \n",
    "이더리움은 문제의 난이도는 12초에 1건씩 풀도록 정한다."
   ]
  },
  {
   "cell_type": "markdown",
   "metadata": {
    "collapsed": true,
    "slideshow": {
     "slide_type": "subslide"
    }
   },
   "source": [
    "> Orphan, Stale\n",
    "\n",
    "> * **Orphan**  블록체인에서 **부모가 없는 블록**을 말한다. 부모로 삼으려 했던 블록이 인증이 실패하면서 부모가 없어지는 경우 발생한다.\n",
    "* **stale** 블록은 **자식이 없는 블록**을 말한다. 마이닝은 되었지만, 블록높이가 동일한 다른 블록이 먼저 자식이 생기면서 정상적인 블록체인이 되는 경우 발생한다.\n",
    "\n",
    "이더리움에서의 합의 알고리즘은 GHOST (Greedy Heaviest Observed Subtree, Zohar and Sompolinsky in December 2013)이다. 가장 무거운 트리가 블록체인에 연결되는 방식이다. 열매가 많이 매달려서 무거워진 나무의 가지를 연상하면 된다. 그 가지를 선택한다는 것이다. 비트코인은 가장 긴 블록을, 반면에 이더리움은 가장 무거운 블록을 추가한다."
   ]
  },
  {
   "cell_type": "markdown",
   "metadata": {
    "slideshow": {
     "slide_type": "subslide"
    }
   },
   "source": [
    "> Hash Rate\n",
    "\n",
    "> Hash Rate는 1초에 Hash를 몇 회하는지 (Number of hashes per second, H/s)\n",
    "마이닝하는 속도를 말한다. 성능이 좋은 컴퓨터는 당연히 Hash Rate이 높게 마련이다.\n",
    "H/s는 일반 척도와 같은 단위를 사용하여 나타낼 수 있다.\n",
    "비트코인이 등장한 초기에는 보통 컴퓨터로 마이닝을 충분히 해낼 수 있었다.\n",
    "채굴의 난이도가 높아지면서 특별히 마이닝을 하기 위한 **ASIC (Application Specific Integrated Circuit)** 칩을 사용한 고가의 컴퓨터가 사용되고 있다.\n",
    "\n",
    "구분 | 단위 | 해시 회수\n",
    "-----|-----|-----\n",
    "Kilohashes | KH/s | 1000\n",
    "Megahashes | MH/s | 1,000,000\n",
    "Gigahashes | GH/s | 1,000,000,000\n",
    "Terahashes | TH/s | 1,000,000,000,000\n",
    "Petahashes | PH/s | 1,000,000,000,000,000\n"
   ]
  },
  {
   "cell_type": "markdown",
   "metadata": {
    "slideshow": {
     "slide_type": "subslide"
    }
   },
   "source": [
    "> **Ethash**\n",
    "\n",
    "> 이더리움이 구현한 PoW 알고리즘이다.\n",
    "이전에 사용하였던 Dagger-Hashimoto 알고리즘을 개선한 버전이다.\n",
    "Ethash에서는 \"sha3_256\", \"sha3_512\" 해시함수가 사용된다.\n",
    "\n",
    "> Ethash는 Ethash DAG라고 하는 1 GB 데이터 분량을 사용한다. 전체를 가지고 있을 필요가 없는 light client는 16 MB 캐시를 사용한다.\n",
    "이 데이터는 매 **30,000 블록마다 재생성**되는데, 이 시간을 **epoch**이라고 한다.\n",
    "마이닝할 때 DAG의 일부를 가져다가 블럭해시와 nonce를 사용해 target hash를 맞춰 나갈 때 사용한다.\n",
    "\n",
    "> 마이닝을 하기 전에 보상이 지급되는 계정 coinbase를 정해야 한다.\n",
    "coinbase를 충전할 계정으로 변경하고, reward가 주어질 계정으로 마이닝을 시작한다.\n",
    "**처음 채굴을 시작하면, 기가규모의 블럭체인을 내려받아야 한다. 약 10분 정도 소요되며, DAG가 구성**된다.\n",
    ">```python\n",
    "> miner.setEtherbase(eth.accounts[2])\n",
    "true\n",
    "> eth.coinbase\n",
    "\"0x53cbba17cf9bd0735855809bdcb88e232de96f32\"\n",
    "> miner.start();\n",
    "```"
   ]
  },
  {
   "cell_type": "markdown",
   "metadata": {
    "slideshow": {
     "slide_type": "subslide"
    }
   },
   "source": [
    "### 난이도\n",
    "\n",
    "**hash puzzle**은 **block hash**값을 결정하기 위한 문제이다.\n",
    "식으로 표현하면, **```sha256(sha256(data+nonce)) < dificulty가 반영된 목표 해시값```**이고, 이 식이 충족되도록 nonce를 찾아야 한다.\n",
    "즉, 블록헤더의 Hash값이 난이도 목표에 제시된 값보다 작은값이 나오게 하는 Nonce값을 찾는 것이다.\n",
    "\n",
    "예를 들어, **10분에 문제를 풀기를 기대했는데 5분에 풀었다**. 그러면 **난이도는 $\\frac{10}{5}$, 2**가 된다.\n",
    "그러면 **새로운 난이도 = 현재 난이도 x 2**이 된다. 즉 난이도가 2배로 증가하게 된다.\n",
    "난이도가 1보다 크게 되면 새로운 난이도는 증가하고, 반대는 감소하게 되는 방식이다.\n",
    "\n",
    "**새로운 목표값 = 이전 목표값 / 난이도**\n",
    "즉, 난이도가 높아지면 새로운 목표 값이 낮아지고 맞추기가 더 어려워지게 된다.\n",
    "\n",
    "예를 들어:\n",
    "* 1부터 10 범위에 들어가는 수를 생성하는데 1분이 걸린다고 하자.\n",
    "* 목표 값을 5로 정하고, 그 이내의 값이 나오려면 $60s \\times \\frac{10}{5}$ 즉 2분이 걸린다 (1~5의 사이므로 2배의 시간)\n",
    "* 목표 값을 3으로 정하면, $60s \\times \\frac{10}{3}$ 즉 3분 20초가 걸린다.\n",
    "\n",
    "즉:\n",
    "* 목표 값이 최대값에 가까우면 쉬워진다. 그 보다 작은 수를 찾는 것은 당연히 쉽게 된다. 예를 들어 $2^{255}-2$ (**최대 32바이트 hash값은 $2^{255}-1$**, 이 보다 하나 적은 블록 hash값을 찾는 것은 쉽다.\n",
    "* 최대 값과 목표 값의 간극이 벌어질수록 어려워진다.\n",
    "* 비트코인에서 difficulty는 2016개의 평균시간이 1,209,600 seconds (two weeks)되도록 정한다."
   ]
  },
  {
   "cell_type": "markdown",
   "metadata": {
    "slideshow": {
     "slide_type": "subslide"
    }
   },
   "source": [
    "그 절차를 좀 더 자세하게 설명하면:\n",
    "\n",
    "(1) 거래를 수집하여 블록을 만든다 (비트코인은 1MB 블록)\n",
    "data=Merkle Root (블록에 있는 모든 거래의 hash 합계) + previous block hash\n",
    "\n",
    "(2) 블록헤더 (Version + Previous Block Hash + Merkle Root + Timestamp + Difficulty Bits + Nonce) 값을 SHA-256 해시하고 또 재해시를 하여 해시값을 계산한다.\n",
    "\n",
    "(3) 2에서 계산된 해시값을 Target hash와 비교한다. target hash보다 적으면 정답, 아니면 2번으로 돌아가 nonce값을 증가함.\n",
    "\n",
    "(4) 문제를 푼 경우, \n",
    "문제를 풀면 블럭체인에 승인된 블럭을 맨 뒤에 첨부하고 모든 peer에게 공지.\n",
    "참여자들에게 공지하고 참여자들로 하여금 계산을 하게 하여 검증되면 합의한다.\n",
    "\n",
    "(5) 참여자가 많아져 계산속도가 빨라질 수 있지만 설정된 블럭생성시간에 맞추어 난이도가 조정된다. 파이썬에서 ```//```는 정수 나누기 연산이다.\n",
    "```python\n",
    "block_diff = parent_diff + parent_diff // 2048 * \n",
    "max(1 - (block_timestamp - parent_timestamp) // 10, -99) + int(2**((block.number // 100000) - 2))\n",
    "```\n",
    "\n",
    "즉, 부모블록과 현재블록의 생성시간의 차이에 따라 난이도 변경이 이루어진다.  ```parent_diff // 2048```는 난이도 변경범위 (bound divisor of the difficulty)이다.\n",
    "- **10초 이하**: 난이도 **상향**, ```parent_diff // 2048 * 1``` 만큼 상향\n",
    "- **10~19초**: 난이도 변동 없슴.\n",
    "- **20초 이상**: 난이도 **하향** (timestamp 차이에 따라)최소 ```parent_diff // 2048 * -1```에서 최대 ```parent_diff // 2048 * -99```\n",
    "\n",
    "(6) 블록이 한꺼번에 2개 마이닝 되는 경우, \n",
    "두 마이너가 동시에 풀면 fork가 발생\n",
    "난이도가 높은 블록이 인증받게 된다.\n",
    "```python\n",
    "loop\n",
    "    if sha256(sha256(data+nonce)) < difficulty\n",
    "        stop\n",
    "    else change the nonce\n",
    "```"
   ]
  },
  {
   "cell_type": "markdown",
   "metadata": {
    "slideshow": {
     "slide_type": "subslide"
    }
   },
   "source": [
    "블록헤더 데이터의 해시 값에 NONCE를 증가시키면서\n",
    "앞 자리의 0의 개수를 맞출 때까지 반복한다.\n",
    "찾고자 하는 해시가 ```00000```로 시작한다고 하자.\n",
    "그러면 최대값은 ```000000FFFF...```가 되겠다\n",
    "(공간제약으로 6자리 0과 26자리 F를 모두 표현하지 않았다).\n",
    "즉 그 해시의 최대 값보다 작은 범위 내에 들게 된다.\n",
    "그러면 멈추고, 그 값을 해시로 정하게 된다.\n",
    "\n",
    "- NONCE:  100 a6e35d11b8f264ab6ebdf67081b66c1539f11b33fcefd16ca4595549d23daeed\n",
    "- NONCE:  200 0c5c39f89e19827e3fe915932c2ff1c4c0b3df2275f8598fe07e07e9c1c1c4a2\n",
    "- NONCE:  300 88fe56b50fa54b4ba5d9ec7ee52ab8a0cf672ec05d1a764b9201d92d6fa75893\n",
    "- NONCE:  400 650eaeb2cdebbcdd681400dcda4f2463d1d9d7706d8ea1e560deb1dd7a1a35cf\n",
    "- NONCE:  500 eb7f829ae96f868405aa87b6e74cb100669803d68b0a2c9df02927d332676fc4\n",
    "...\n"
   ]
  },
  {
   "cell_type": "code",
   "execution_count": null,
   "metadata": {},
   "outputs": [
    {
     "name": "stdout",
     "output_type": "stream",
     "text": [
      "NONCE:  10000000 660b9e057377381579f5c54347901cf462fce656c069a4d0f26bdd4cf1e05e66\n",
      "NONCE:  20000000 c31d3ddd7bb92312bcc2a88263d92e94c6d17a641ac9e59ac262c775c7f58925\n",
      "NONCE:  30000000 236077716f4ce428ec83f12bf74fb7ab76450bad60bc3f21d924e200c39a9fa4\n",
      "NONCE:  40000000 5b07929bd7088f11d6caf0e65a6f44ab3b7f82d32900430cc7c7244b2917e04d\n",
      "NONCE:  50000000 d9af343cc488cb44b57c30a071033fb4c9fc836f16e6c619be66a26c18b1a31a\n",
      "NONCE:  60000000 eee30c7b9952680cc2cf51a093586447c227fe78f3b4652684f2e5d8e589d4d9\n",
      "NONCE:  70000000 3d2125955e4fc1a9a154bafa910efb11cd265c97e6400341811c74fa2b09c0c1\n",
      "NONCE:  80000000 3c32aeb8681a6041e26befb7e060b74d992e00ac0c8ef684b641dc0ea4fa30dd\n",
      "NONCE:  90000000 a3f699e61d3182cffe35ffdb5f354b04ccbe7280474eb30dd76ea0fc3f037c88\n",
      "NONCE:  100000000 e196aa710ba089a8eb23bbfe5052183dc6f1c1f57733b1f614ce1e0daf8bff9b\n",
      "NONCE:  110000000 a047c1fd03a26cc8489fd24fb99cef4a1d0b87ecda1e41daaf6e57066f540d60\n",
      "NONCE:  120000000 45edd32c46085f0901631ce86c6bbc76335fd0c57f2a9d3aec78e52e4e3157cc\n",
      "NONCE:  130000000 e786a0f8e169aee160e05fb1876677477238bb2aa8724d8705401e62606d31b7\n",
      "NONCE:  140000000 af60418f7de97c22e2b3358696cec9b18aa75722e31ce46b6783ca7d22494f14\n",
      "NONCE:  150000000 b0b1346d1c8463cd8aa922adc25dd8fcd6af9a63dbdb3544dffe763b5e2f311a\n",
      "NONCE:  160000000 cf07bb251ddad733df74eb2ca8c882268c45133b3d8bb91ccc0f09e449d6ecc6\n",
      "NONCE:  170000000 195d1f774d85808aefb94fa72f8c1cc850d7a3fec0b3c8c317b0f0106e168a8d\n",
      "NONCE:  180000000 6245a9e81612da0cc31072de80e3a45fe4a91c69562f17bc90ace8125b608390\n",
      "NONCE:  190000000 0ef6974bea14a18897c599d50329eb4740b6e45a568a058870db84aab8320873\n",
      "NONCE:  200000000 c5e04c84266c69ea7854256121867dc34016801bc502bba9aaf44f3bf14c4c24\n",
      "NONCE:  210000000 22081805c0c46f9fa079e975c794212ef80b71d31cd7db8f13d259f38234c081\n",
      "NONCE:  220000000 96ebdc9168e68043864e253d8708dbaaca298c1ffd61f402ca5ba695cd48a680\n",
      "NONCE:  230000000 237bf92c7c7853ab724776f655a3eaf16bef0eb5d8f304d860f9c89617bc2e8a\n",
      "NONCE:  240000000 470beef2ff537b565e9bf2dd37bb46e9d9614e554e6d802ce2320ffcca360b65\n",
      "NONCE:  250000000 48a08bd1d1e4e4b8cf38aef838548dae9bf775569b08896f835211b256a299f1\n",
      "NONCE:  260000000 536714f6570f104ae5a728e06538e99f8aa55e51d0eeb0882b537511b988e2b1\n",
      "NONCE:  270000000 569e0cebe4fad85e2a6c0a2141cd8a0c6083788f7e268d6b3dddc2f0bd8e2d09\n",
      "NONCE:  280000000 4f8659f6aa1891458185a90bfc0fe55ec9db74ce5b797a5cbeb0a5c05d867de9\n",
      "NONCE:  290000000 23a3f2d8c1f14432d903b18d2b85aab9f613dd102a383a4191d9f53f9cf0ad1a\n",
      "NONCE:  300000000 ecb1fc9dc615aad0b40b6c5bf4577d3c3486efcdbe59a51618a888a5d9ad5007\n",
      "NONCE:  310000000 bedc5ae6228eb879909f441218b5b2051d24d215a5dbc92e15ff33cd4fd29d30\n",
      "NONCE:  320000000 7018901da64a9d82853b82efbe4230b02550fcaad413eb39e539093ec8cc6126\n",
      "NONCE:  330000000 af340d00ca8bab9514c766f67d397b0364862e55ca2d2d53f6c94fedf3d424ff\n",
      "NONCE:  340000000 986cbe71260e032821c4ac8add05fed9422678051de842a112f38d4fd9b5481c\n",
      "NONCE:  350000000 b69b502f38a8a7a5c6fb84d6106d8277c7733e8c403a34b98c15ba7422e4b1ed\n",
      "NONCE:  360000000 5139b072607f34bc530a2801b38e68f2deb222e3b9f974839c073a75433ada88\n",
      "NONCE:  370000000 7155eef967395ed924efec701d76d7aeec685ee96aa02135dc635ba98f0c2e71\n",
      "NONCE:  380000000 08beafade6f6f3de9e2a697fe3334a2732e65b86e16060f87516d1a03c522b32\n",
      "NONCE:  390000000 0b1f6682b3c6abf56f0eb41054b0550ea35249e0d3957dc05eb1476fbbad177f\n",
      "NONCE:  400000000 47faee79cb09444c948f69d2a95b1cfae1bb0af7ac8f9f8e366aa790c72dea7c\n",
      "NONCE:  410000000 356d03d7a85799d8bf1a69dd5567c3571df7c1c0f45e01f5968949f6183c8468\n",
      "NONCE:  420000000 95ac22a705b2a1ccc9b491a2126cad6c31c325c8390dd2b8433e740551814492\n",
      "NONCE:  430000000 11352570a05dddf6b872fd66ed9ff28330f9d647c8b3f27e4cb4d94225d3ab50\n",
      "NONCE:  440000000 c731ba3e015273674f1c42118d1cc15c02df129299e5178b5aacdbe86c9bb690\n",
      "NONCE:  450000000 86b2c78b9df78f7142a0b085c8fad75307bea48f16ba352a6b57297f4170eb70\n",
      "NONCE:  460000000 75edc6a8ea14e72017a2c4dafab6da617d8a92f3596cd0849a93ab32a30d75e9\n",
      "NONCE:  470000000 4bec471f04f5b4c61d39113c34e5682acb7b30a8e88c94e41ad14642fc735f84\n",
      "NONCE:  480000000 81bb3ab68390eb31b8c762555ef171c4aa2b0c1d685111a8c87634814f1ef3fb\n",
      "NONCE:  490000000 f495cc35765c66a27766eaafc484731f17808f220c0a652849a1bb227fcefa7a\n",
      "NONCE:  500000000 2ab69770f58c505329fbfb42651d59b4131593ef04abdb4b72fa0f279b380f57\n",
      "NONCE:  510000000 d4c62f8b048d50830c218c65ecad92eb994f06826978996dd93b5362f6b5902a\n",
      "NONCE:  520000000 a2d4f978017cf3056a8f4a7e12ff808549396b28d25f172a33db71beb3e3afe4\n",
      "NONCE:  530000000 6086e794d0a8a0f1fa7c76ff36c29c86d116f2651900c35a904f59eacfa7ff13\n",
      "NONCE:  540000000 92f221222bdbab1b4bac981c5b3a01c4c89d6d20d0a469e3ed242cf02d6833c3\n",
      "NONCE:  550000000 d717d28ed516ff48f05a35daf0531d312cc3d536dcb1603c7cc75eef2f4a26e2\n",
      "NONCE:  560000000 21f583a4c68f42caf6d24abcce49c4d53e23b1553340e9c8c66a2628238b12d5\n",
      "NONCE:  570000000 8288b07910a32f6820ee20d0c12da64f9a084ea518f3ea744d3f3aefd02f68e5\n",
      "NONCE:  580000000 a35e9164dcf7d3756413595d519529fb37275d94532911704b7c287207bc332d\n",
      "NONCE:  590000000 df8e55815314b2491ac0c24452df0bbb5d97f064e62aca7aba842a848bd3d5b7\n",
      "NONCE:  600000000 7106768234fc2d429a4def72f3f4cd2531a6508511ea308231e20ef3f30e9cee\n",
      "NONCE:  610000000 0b5e5d86664d24bce6751396fbb46f4c53b0dab45aa0e61336aab031b6a2354d\n",
      "NONCE:  620000000 0532d590fee4cba080796e9771a5e94b8d1a70b0aef4059dcace5714362aaf80\n",
      "NONCE:  630000000 0475fcc84be45c5a0c58e5efe041f2ffb3ea43de96e89b4379c247b3e92e997d\n",
      "NONCE:  640000000 cae1a9a8abc79142ed67689aa2bc4c60a4d1b1c40e97427ace876605ce588653\n",
      "NONCE:  650000000 60183310b8584ada6cd8e71528581e91d71f8e72cd37dad2924ab10729e39ffc\n",
      "NONCE:  660000000 a2a27a7384014c0319f929be95f6e69fc672b3d98979a0beee06e189efe03387\n",
      "NONCE:  670000000 a20ec43b733ad7d1bc337086e992b5e4c5be29440a9c2b3def658691a73dd9a4\n",
      "NONCE:  680000000 5a7f2bea1497157c0b82e8ec48df94fcc21f308ac06f7f15f1a28261398c1ecb\n",
      "NONCE:  690000000 a72adfccbf3da63ff96285f20e1d74230ce2a3557afc194e5aeecce8e6442a99\n",
      "NONCE:  700000000 af55c030b734f3f94bab31a9f766327cf10e4bec558a10cb1331aff23e00990d\n",
      "NONCE:  710000000 e0aeed890c59c71a9ccc6bbb5489083f6deb37490b4b264366bf8880895b55f7\n",
      "NONCE:  720000000 3f8f5bce46bac0cdf8b338801ec3670298a1b9ee5e31c137a11338ee5cc79048\n",
      "NONCE:  730000000 8d7f5e222a055ec1d555f85a118d2c847f067bd47fde69f9b7dd2f1df5211c56\n",
      "NONCE:  740000000 d77bfe31877e4e625cc6666ec620906109da53e3a0f607cc77f074378a28da3c\n",
      "NONCE:  750000000 13f7fe8117a213d94e1ac2f5a18f86455987eb9455bbd70df4cdbb7d20d328e7\n",
      "NONCE:  760000000 ff916ae3c48492ab29b3c9ff006b9f4c657350df56215169243e832272ac3881\n",
      "NONCE:  770000000 8a11dd8576d5d23dd42286e88386f911f45a992795b12cad01af83a7d5a12304\n",
      "NONCE:  780000000 dbad358383725d80629c33012302ed9f5208b7a2d4c20dfaddd5f675300045b2\n",
      "NONCE:  790000000 5a834a204c2c5a999057032234f9a7e7faf1b9ea5c6e58e012c7804df7b765e5\n",
      "NONCE:  800000000 7afd36671c064fe45388b79c21d844bfa6ec608186eb2cee22cd0fc6615738f3\n",
      "NONCE:  810000000 420d09f7de9287b4e96e7e847e533b7d76c41a3be5669a71e5c88e1597db3b40\n",
      "NONCE:  820000000 c88de188c96b1b04d11d19cf5c05b1befa132a2295f38459911351cfa481ff92\n",
      "NONCE:  830000000 9ea3cd373c904bc29bcf90875d4ed8eab73a7cba7faed55a0bd3a0f606f8f011\n",
      "NONCE:  840000000 4b87a319b4eb27c5923cc01f9d407115f70b73636d250dc37b2a723c03bee054\n",
      "NONCE:  850000000 3608eb1597db35cef65f57a3291629e7207781d227cf390ef6539b7386d3646b\n",
      "NONCE:  860000000 e24bfa4b7d422ad7dee00bf7f051914991004311356e380346f043586f7a9d67\n",
      "NONCE:  870000000 cbf2d9c9147a0d9311fa92e797c734a0f16efeef2c2183ee4b14818e6d552511\n",
      "NONCE:  880000000 46296150dedc6ee0914f7bf37e8fb858190fff8156db0b83bbac723047f55b7a\n",
      "NONCE:  890000000 63d5374013ff87a3192bd290f919d115dcf8df7db5852548296bbf1e7be6958e\n",
      "NONCE:  900000000 bbb01ba215d2720933db8a2c45c4c9d9277a6c0d893f489dc9213326d6e17f3d\n",
      "NONCE:  910000000 829073c42459ecba1609be05906e1267e6b0fbe150c2e82adf54353374cc6d99\n",
      "NONCE:  920000000 738d29965b917b166b487a8eeafb2beedb8e969e277b7d19a4d21b78ab5218a6\n",
      "NONCE:  930000000 f2d51afc683fa832519dfd5311622b0930ccc4d3909b19df977aeb54bdf73d01\n",
      "NONCE:  940000000 f15d52ede9379cb3fcc51598290d24f8feb76ee6f178c45948c23db0f735681c\n",
      "NONCE:  950000000 a60fab1bc3a82759d3c8a8c724510a0e7a0ef1b05f6ebf0be140b46daaa7406a\n",
      "NONCE:  960000000 07c67dae814b6d127a6c23109abef4e7d9b2ce58ba27d7089a510ecacbb5a98f\n",
      "NONCE:  970000000 92f9f414491416a5b2130ad87b4a7b212ea5bcc6a11553f7ce75d97e3a6cf67f\n",
      "NONCE:  980000000 dfc02e38bba75184753ed80620396362697ecd7a3c113af2d405e955dc35578d\n",
      "NONCE:  990000000 57edbadaa7dc4fc6538ec1fa2011c143161dfeca3b29ce6654f2df1234a4b4ca\n",
      "NONCE:  1000000000 f05021e875dcd2f0e061b029a59a9fb2471fde2f66913ddd8d959a96ad2efad1\n",
      "NONCE:  1010000000 e917057fc4e3698f2e81e390b9406856531f4a4c6fbabdf68a910f74be3126ad\n",
      "NONCE:  1020000000 ba1638bd3488d35bc86d1372b46719cae83e2018fbbbfcbebba882831fbb2366\n",
      "NONCE:  1030000000 ff2f556b969914ead3bd0340082d73a6265c588732dd81180897cd04397fb577\n",
      "NONCE:  1040000000 c8fccbda9da0aa3cbc5bb3f5f4aa2abb22cf8c29abaeba177e2d5650a7cf2c2a\n",
      "NONCE:  1050000000 d1927622ff6ab605a96a638c145d26424e74e0fdb66716941fec5603f8c06c9c\n",
      "NONCE:  1060000000 ac9fd6f27c4de8249b68bcfcb3e8ba58ed02c2b9d31ce5d07ceb1508954d20f4\n",
      "NONCE:  1070000000 985fc1c7d9e1c6d3841c25c8d5da858f04f58cfe2b7cd57765e10926eb5052b0\n",
      "NONCE:  1080000000 adf0e7002c17259951c5c3b6c6782dadf6e6d9b3c7258447d507919f5382c6bf\n",
      "NONCE:  1090000000 12a42e8408172f05d83208c3b2bbd0b6ed1762937cebf8d2e0c8bd9be05a6c74\n",
      "NONCE:  1100000000 a820e2f9476256e7b500839a719ad4858813805e4410afdefcea74528e50641c\n",
      "NONCE:  1110000000 eb97d19d0b1413051599a69decf7dd966c619d86c1b692bb210b6f7edbed1f17\n",
      "NONCE:  1120000000 90ed3359ea98c602725ed45e52cb28f4ed1045709b655b9464a505e1ee045e34\n",
      "NONCE:  1130000000 9d7ad7de29dbe8887a6ac6365eb1dc643fc43d3ada85e62a188db891da4eb76b\n",
      "NONCE:  1140000000 cc6434bcceb6c0a22b262583784e24418be7accf9be1b1b3308ed4e376a21ede\n",
      "NONCE:  1150000000 a5cce2816f780c1cead631b979d79f62598600b024fae11e607ed0e0df01531a\n",
      "NONCE:  1160000000 1b1a4e400cd8f759c57f9f2dbb34261da4e1807352013321ec14390b30338f60\n",
      "NONCE:  1170000000 48db2e8bfae52df5a971ea860291876e3275fad9eb04178dbc694000d2fb9a63\n",
      "NONCE:  1180000000 28dd30083b0b49412211902293c9f2334de8a83ca6dddce14f4bc1f87348572e\n",
      "NONCE:  1190000000 303a3c862f93c1dfe87a0413d69b8fcbe64cb5f7abe1c57b2ff4dd20a16feabc\n",
      "NONCE:  1200000000 1ac78a1f7fa5b7d983d7265d042202e967d4e48414850f293faedbfeb8df9278\n",
      "NONCE:  1210000000 1b02b67564ae4727d0ef5597d9720bfcc5f55af3da6c6aa4009d1007eedce116\n",
      "NONCE:  1220000000 993e059a0f81675934bbdb7674433d64946e0c85debc830033d60fef4ed6d63d\n",
      "NONCE:  1230000000 ae09eb99b4eb52c120bae4677edf79169c6f6b2481017f69dd1cc9bcb09cd8e0\n",
      "NONCE:  1240000000 0fa8d0c27927e502d0201d17b398772b4fe1e4f649aeef01a65f0793f01cfed7\n",
      "NONCE:  1250000000 ed6beb421fb0fb271d6279d07262b8860adeac7ca3bcbfbb7f3126061f4f3f5e\n",
      "NONCE:  1260000000 fd9f79b9935ae0895032abe113c935d2b7ea5ee4bf47764aacf630aedde30624\n",
      "NONCE:  1270000000 397ee84b30d0ad34f93e07b3a622aabbb1802f929248105081cd1aba2639516c\n",
      "NONCE:  1280000000 8fc408735daf3c2afd1b905aef1ccfbd023c8f0a177537613d143e32561b98fa\n",
      "NONCE:  1290000000 6ff308b05a5e54ea3432316145637272ff39f45a7bafecb45c53dfcf5cc14245\n",
      "NONCE:  1300000000 a5a4a362a5fae1f216833fe914d957ee97fd799895961db412a159852d594c79\n",
      "NONCE:  1310000000 4485810cc2bd333af1e3fe275d25b3a537ea2a82616c6e527f1929c214ccd74e\n",
      "NONCE:  1320000000 211605f591a569e4a2d916d15d7fbe85b376f3bb8693aee9335b12b731fb6535\n",
      "NONCE:  1330000000 c7ccb18207b8843c3f455810cde9d04910cda15c6802e922356b7d9511c17ada\n",
      "NONCE:  1340000000 5f3961209dd14fef6836c6504670c08958f35081fdfbd2e332d205a75493e54b\n",
      "NONCE:  1350000000 08be0f38384c7a9e491b74065ac931d9590a747b976b84d88de9b6a7e29afa98\n",
      "NONCE:  1360000000 5fe632a38f84e95e4ceacd7ec294a1dae0f597fd751e7a817f2b481f5af30cdf\n",
      "NONCE:  1370000000 1c78acb51c8233663879c33184d44252a8d2dd2df7110f7904725b7a46765ed7\n",
      "NONCE:  1380000000 17bb05bac9eb60950db71720c628f1ab9066b501e7e3a1549f7c14ebe5c6f06e\n",
      "NONCE:  1390000000 e4e45fe3272e44b3c2b980bbd5f885e84bb5d2f2cceeef67e095d65317f85292\n",
      "NONCE:  1400000000 c64f9c2df480795b97f213a99e1daf0a41baaa981f435a153493b5df374a061a\n",
      "NONCE:  1410000000 a21a6702379bd38c3480255be719dacb45ab95a48422e2ac13dc3efff3b572ee\n",
      "NONCE:  1420000000 b08ec963ce437f749060d3b01ac388cf3c7ac5f1a552ed7fd561bcab6d124a10\n",
      "NONCE:  1430000000 e82442651dddc58c11ff8ea25c42643d7a5297d2bb63aa96a8289904fd8509a4\n",
      "NONCE:  1440000000 0d1e1dd376561315e0aca221733f22da04d306b07b2979aa1844d566e95e3f56\n",
      "NONCE:  1450000000 79b107ab0151fef892e8c0914149d055ef8f2a563af7fdca2ad12c2a416bb785\n",
      "NONCE:  1460000000 f801c91e81a544ff241933646c06869951c9fa3e10b260fa31e0b41a136602c2\n",
      "NONCE:  1470000000 06491196f3536cc5bece4b380a99476f4406d2d4b2a81a2374e51a4578fa8a47\n",
      "NONCE:  1480000000 7b87e733af42c97014622eb888f19960cfcea6f6376ab0f0a25cd24311284da1\n",
      "NONCE:  1490000000 e4febcd6bfc342508f6368860558b0c7e8d352a3c730c05919ff1785e873bc5a\n",
      "NONCE:  1500000000 876424d1aec6541dd561069832a38f14540ab53741bf398535b57590f4938f98\n",
      "NONCE:  1510000000 508745e36927cf57576381dc386313dbe5cb562760a46baa1f81e72105203e60\n",
      "NONCE:  1520000000 680b62ca41f711a4743f445400e77a809272cff5aa7a441d29616e4dc6208dfb\n",
      "NONCE:  1530000000 cc329ed2b9c4491f6d5d763ff754a448f08f7b9aba8b1d677066c801ef2730b4\n",
      "NONCE:  1540000000 88a1dd80473a314af5d65fce8095d0846015895c25e932a4f4263a6e2a3ba29e\n",
      "NONCE:  1550000000 16019395fdf77d4974eb5ba54bd1a42b7792692d82202c1d68144c5bfe3e65dc\n",
      "NONCE:  1560000000 013a240cde6c1faed4fca7403d299d97ccf34d6c92592eeb8c06af9ca679dc9d\n",
      "NONCE:  1570000000 b3055d20e349667cfb6328ca5701cc1d29a4cd9c816ef2120db31622111ada6d\n",
      "NONCE:  1580000000 e984af6e94b194d4b962577aa9064ab668062dfd340a798597d6a584bf685cb6\n",
      "NONCE:  1590000000 3d344bf7351a388caa6c0800d0273ae05fe40f873dfd4fb5e94161ef0f0b75b6\n",
      "NONCE:  1600000000 5b4ccfdfcaff72756753d60fc32c827228ae738f4c5249181c148651214d740f\n",
      "NONCE:  1610000000 c77c128beef2fe685d48e63ccd856c349baa80f42bffbbd5cc84a1d646bae1d8\n",
      "NONCE:  1620000000 603351c1b0ba20f032e92642cfea65a400b1a05a13770abb2412b1b3b48d6560\n",
      "NONCE:  1630000000 a7e839d3fd6b4346463215164de7719f076f0ecaeb3590d18133738feea7cc40\n",
      "NONCE:  1640000000 c9f99a0bf4c1e5879b4dd816cb511ecbf9adabdd9a79928f88948cd00a79df20\n",
      "NONCE:  1650000000 4a415297728f01eaa1923e7d57bd34c781fa26e3c6dde6545a648c4e1ca7c460\n",
      "NONCE:  1660000000 745587fa519fe71d9d01660b0f85407fe13378af2ac5141281254c4d4fdc5306\n",
      "NONCE:  1670000000 6f476642fc546895920473f2aa2c459a69e72c3adde8c19e2483d57466712fda\n",
      "NONCE:  1680000000 3d9179ef3e0c71e683cda51adc2a6a2181ea57146fc67ceac064ac8ac5e73a15\n",
      "NONCE:  1690000000 35b58406f1b9ca91e23774213e1361f1c37dce43dbb67fc5465e45e795bf03c9\n",
      "NONCE:  1700000000 e659fee037ae1dde53628a3c1282a85567acd1c23021f6cde0614d62174dd892\n",
      "NONCE:  1710000000 a90cc739a9233f180248773d4af678e66c061c6aab590e59a0aac293feaba358\n",
      "NONCE:  1720000000 7daa9f008d1ec5f994f751d2334009d504009bf7db75024b40734da19066c824\n",
      "NONCE:  1730000000 61de021e31963f9507b85395c63d3c8c917e10bc3cbdb3c3e60e3e657a4e078a\n",
      "NONCE:  1740000000 c802d414f98a016dca26a8f1e970490c2cc5fe02a0c4be73fd5be9b92625afaa\n",
      "NONCE:  1750000000 f0d36e8e98564654aaaec88c58e102e368c09a9bddfc11f9dcca9e7a6ca06d48\n",
      "NONCE:  1760000000 95bd067d531801773defd8b32c90b391f5568cc5642d3c12567186e11b2582a7\n",
      "NONCE:  1770000000 ec98f7a7cb15786ed9b98147525c5c94363db7f6abfa31ee37668f39214a82a3\n",
      "NONCE:  1780000000 a1191b587ca95ed6b91a48c5f33aed2ef398f4b735100aeda621be8361481bff\n",
      "NONCE:  1790000000 a0ae8507e7cfd5906ccf8b808642b5e5c8f0117366cf05de485b62c633acd1da\n",
      "NONCE:  1800000000 042300f1002a92c900a19fd79ebdb92499fbca9c63462747eff71d7375413b37\n",
      "NONCE:  1810000000 96f885d982da50cc18757b37502a2ce27922c59f83b5b408ec4c2458ccd5b1ba\n",
      "NONCE:  1820000000 bb74bb4146a111f128100a7db8dc69bcf94c99ce87605fe740fccc8e736ef47e\n",
      "NONCE:  1830000000 d9762318950735f24ec1cb81c135213f1f2fbeca4f5a8d96483b5c1df2e7098d\n",
      "NONCE:  1840000000 3d53ff86f6cbf0617d7c7ce94a8dee65ad60d324eccc8c879be65be6989f5a04\n",
      "NONCE:  1850000000 04d59c04e712420ab338ab474ed10fcc7d87dcc581a46b39d527e58f42a7a58c\n",
      "NONCE:  1860000000 e55f124dfda00089039908b4feef1c9df7fcc266f005acd7f216fcdf9d5782eb\n",
      "NONCE:  1870000000 2e3b8719332c190d8c2ad78a4c1e2ac3dda9ed42519f10eda96cf66f2b98095f\n",
      "NONCE:  1880000000 336d1cdb78a1052446720eac983609c1cfb72acfd6f9436db8c845c96e61ef7f\n",
      "NONCE:  1890000000 a6d3b942869d5336bcbc92ceb9a8f12bded0a2d290e28424238e55f434292415\n",
      "NONCE:  1900000000 eb93dbd0b69f9ce6df3a965bf7c9bd744ea2479b223def8bc89fa4a084340a4d\n",
      "NONCE:  1910000000 53012d71cbd002469ec6c3a0299a5642c22806a8ca1e85f590af4dad055d0158\n",
      "NONCE:  1920000000 fd4004a607dffed0df515613fcd0dcb9eef5b95f1d83d1a154b8cd22d84497eb\n",
      "NONCE:  1930000000 358427b6190b20f362f5558c5bcbd90da1383729e19408a9779fdaa7e99648b9\n",
      "NONCE:  1940000000 d2b53b93d8257adb0abedd7289a3d037b8d8e3e8be3bc5e5fcc545939cfd9350\n",
      "NONCE:  1950000000 55444c6ff1b8935f24dca56136ac0d812d1360d18e418a7c8355dc4ca8d98fae\n",
      "NONCE:  1960000000 e4bbc5fbe7b87671681fcfe0d5cfafe12bd655fec67fa204987fa6cefae86208\n"
     ]
    }
   ],
   "source": [
    "import hashlib\n",
    "ntry=1\n",
    "found=False\n",
    "blockNumber=54 # hex\n",
    "NONCE=0\n",
    "data='Hello'\n",
    "previousHash='5d7c7ba21cbbcd75d14800b100252d5b428e5b1213d27c385bc141ca6b47989e'\n",
    "while found==False:\n",
    "    z=str(blockNumber)+str(NONCE)+data+previousHash\n",
    "    guessHash=hashlib.sha256(z.encode('utf-8')).hexdigest()\n",
    "    if guessHash[:4]=='00000':\n",
    "        found=True\n",
    "    NONCE+=1\n",
    "    if(NONCE%10000000==0):   #print guessHash every 10000000\n",
    "        print(\"NONCE: \",NONCE, guessHash)\n",
    "print(\"Solved \", \"NONCE: \", NONCE, \"guessHash: \", guessHash)"
   ]
  },
  {
   "cell_type": "markdown",
   "metadata": {
    "collapsed": true,
    "slideshow": {
     "slide_type": "subslide"
    }
   },
   "source": [
    "* 마이닝이 안되는 경우\n",
    "    * 발생한 트랜잭션이 처리되지 않고 여러 건이 적체되어 있는 경우\n",
    "    * 처리비용이 낮은 경우\n",
    "    * 트랜잭션 nonce 앞 번호가 처리 되지 않았는데 뒤 번호가 대기하고 있는 경우, 뒤 트랜잭션은 대기하게 된다.\n",
    "\n",
    "* 마이닝이 적체되어 안 지워지는 경우\n",
    "    - geth를 종료\n",
    "    - datadir 아래 geth디렉토리 밑의 transactions.rlp를 삭제\n",
    "    - geth 다시 시작한다.\n",
    "\n",
    "따라서 마이닝을 할 경우, ```txpool.inspect``` 명령어를 필요할 경우 실행하여 적체되어 있는 거래가 있는지 확인하는 것이 바람직하다."
   ]
  },
  {
   "cell_type": "code",
   "execution_count": null,
   "metadata": {},
   "outputs": [],
   "source": [
    "!geth --exec txpool.inspect attach http://117.16.44.45:8445"
   ]
  },
  {
   "cell_type": "markdown",
   "metadata": {
    "slideshow": {
     "slide_type": "slide"
    }
   },
   "source": [
    "## 5.7 gas\n",
    "\n",
    "트랜잭션을 처리하기 위해서는 비용이 발생한다. 노드들의 컴퓨팅 자원이 투입되기 때문에 이에 대한 비용이다.\n",
    "비용은 송금 금액에 비례하는 것이 아니라, 데이터 크기와 소요되는 컴퓨팅 자원량에 따라 산정이 된다.\n",
    "비용은 소모되는 **gas**에 **gasPrice** 단가를 곱하여 계산한다.\n",
    "주유소에 비유해서 이해할 수 있다.\n",
    "주행거리에 따라 필요한 연료량과 단가에 따라 주유를 하는 방식이다.\n",
    "즉 **gas는 필요한 리터**에 해당한다. 예를 들어 Kecchak hashing을 하는데 30 단위의 gas가 필요, 일정 분량의 바이트를 실행하는데 몇 gas가 필요한지 나타내는 단위를 의미한다.\n",
    "\n",
    "이러한 거래에 비용이 발생하게 되면, DDos 공격 역시 상당한 비용이 수반되게 되므로 쉽게 시도하지 못하게 되는 효과가 있다.\n",
    "블록체인에 부담이 가는 실행 (무한반복...) 역시 gas비용때문에 가능하지 못하게 된다. 일정 gas가 되면 gas limit을 초과하게 되므로 정지하게 된다.\n",
    "\n",
    "```python\n",
    "거래 비용 = gas price * gas\n",
    "```"
   ]
  },
  {
   "cell_type": "markdown",
   "metadata": {},
   "source": [
    "### gasPrice\n",
    "\n",
    "gasPrice는 단가로서 사용자가 정할 수 있다.\n",
    "주유와 비유하면 gas price는 시가, 즉 몇 ether가 필요한지에 해당한다.\n",
    "보통 명시하지 않으면 최선의 가격으로 정해지게 된다.\n",
    "gasPrice에 따라 처리속도가 결정된다.\n",
    "gasPrice가 너무 적으면 마이닝되지 않을 수 있으며, 반대로 많으면 빠르게 마이닝 될 수 있다.\n",
    "gasPrice가 높을수록 더 많은 마이너가 처리하려고 들 것이고 트랜잭션이 마이닝되는 시간이 짧아지게 된다.\n",
    "예를 들어, 2020년 현재 5 Gwei ($10 \\times 10^9$)로 정하면 2분 이내로 빠르게 처리된다. https://ethgasstation.info/\n",
    "\n",
    "Speed | Gas Price (gwei)\n",
    "-----|-----\n",
    "SafeLow (<30m) | 1\n",
    "Standard (<5m) | 1.3\n",
    "Fast (<2m) | 5\n",
    "\n",
    "메인네트워크에서 gasPrice 단가는 시간에 따라 정해져 있지 않고 변동한다\n",
    "etherscan.io에서는 지난 수 년간의 gasPrice를 그래프로 제공하고 있는데 (https://etherscan.io/chart/gasprice), 그 가격이 약간씩 감소하고 있지만 이는 이더리움의 실물가치가 상대적으로 증가하면서 생기는 현상일 것이다."
   ]
  },
  {
   "cell_type": "markdown",
   "metadata": {
    "slideshow": {
     "slide_type": "subslide"
    }
   },
   "source": [
    "gas price는 ```web3.eth.getGasPrice()``` 함수를 사용하여 구할 수 있고, 개인망에서 그 값은 1 gwei를 출력하고 있다.\n",
    "보통 테스트네트워크는 마이닝의 우선순위에 영향을 미치지 않기 때문에, 고정 gas price를 가지고 있다.\n",
    "\n",
    "gasPrice()를 계산하기 위해서는\n",
    "```python\n",
    "> web3.eth.getGasPrice().then(console.log);\n",
    "> 1000000000\n",
    "```\n",
    "\n",
    "gasPrice변수에 getGasPrice()의 결과를 입력하기 위해서는:\n",
    "```python\n",
    "> web3.eth.getGasPrice().then(function(gp) {console.log(gp); gasPrice=gp;});\n",
    "> 1000000000\n",
    "```\n",
    "\n",
    "```python\n",
    "> web3.eth.getGasPrice().\n",
    "... then(function(gp) {\n",
    "...     console.log(\"Average gas price: \" + gp);\n",
    "...     gasPrice = gp;\n",
    "... }).catch(console.error);\n",
    "> Average gas price: 1000000000\n",
    "```"
   ]
  },
  {
   "cell_type": "markdown",
   "metadata": {
    "slideshow": {
     "slide_type": "subslide"
    }
   },
   "source": [
    "### gas limit\n",
    "\n",
    "gas limit은 거래의 처리에 필요한 사용 한도를 말한다. 사용자가 최대로 지불할 용의가 있는 한도를 말한다.\n",
    "gas limit은 거래의 성격에 따라 다르게 책정된다. 최소 21,000에서, 단순한 거래의 경우 보통 30,000 정도면 충분하다.\n",
    "복잡한 거래일수록 필요한 gas가 늘어난다.\n",
    "gas가 소진될 때 까지 마이닝하고, 남으면 반환, 모자라면 **Out of Gas Exception**이 발생한다.\n",
    "\n",
    "또한 gas limit은 블록에 대한 한도를 의미하며, 이는 블록에 포함될 거래의 갯수를 결정하기 위해 사용된다.\n",
    "예를 들어, 거래가 6개 있고 gas비가 각 25, 30, 35, 40, 45, 50이라고 하자. 블록의 거래한도는 100이라고 하자.\n",
    "그러면 거래의 gas가 25 + 30 + 35를 포함할 수도, 40+45가 포함될 수도 있다.\n",
    "\n",
    "지금 현재 9,994,671 gas이고 (https://ethstats.net/) 이를 21000(거래 gas limit)으로 나누면 475개의 거래가 한 블록에 포함되는 수준이다.\n",
    "이 속도로 평균 14초 내외로 1블록이 생성되고 있다 (https://ethstats.net/).\n",
    "블록에 대한 gas limit은 처음에 ```genesis.json```에 설정되어 있고, 블록마다 이 값은 마이너들에 의해 1/1024 만큼씩 조정될 수 있다.\n",
    "블록을 생성하면서 그만큼의 한도로 조정은 할 수 있으나, 큰 차이로 변경하는 것은 허용되지 않는다.\n",
    "```eth.getBlock('latest').gasLimit```은 현재의 gasLimit을 알 수 있다."
   ]
  },
  {
   "cell_type": "code",
   "execution_count": 5,
   "metadata": {},
   "outputs": [
    {
     "name": "stdout",
     "output_type": "stream",
     "text": [
      "\u001b[31m8000000\u001b[0m\r\n"
     ]
    }
   ],
   "source": [
    "!geth --exec \"eth.getBlock('latest').gasLimit\" attach http://117.16.44.45:8445"
   ]
  },
  {
   "cell_type": "markdown",
   "metadata": {
    "slideshow": {
     "slide_type": "subslide"
    }
   },
   "source": [
    "### gas 산정\n",
    "\n",
    "**실행비용 execution costs**는 사용되는 명령어 opcode를 기준으로 산정이 된다.\n",
    "\n",
    "코드 | 명령어 | 비용 | 설명\n",
    "-----|-----|-----|-----\n",
    "0x00 | stop | | 실행중지\n",
    "0 01 | ADD | 3 | 더하기\n",
    "10 | LT | 3 | less than 비교\n",
    "20 | SHA3 | 30 | Keccak-256 hash 계산\n",
    "30 | ADDRESS |  | 현재 실행 계정 주소 읽기\n",
    "40 | BLOCKHASH | 20 | 블록 해시\n"
   ]
  },
  {
   "cell_type": "markdown",
   "metadata": {
    "slideshow": {
     "slide_type": "subslide"
    }
   },
   "source": [
    "#### Opcodes\n",
    "\n",
    "기계어 수준의 명령코드, **Op**eration **Codes**를 말한다 (참조 https://ethervm.io/)\n",
    "예를 들어, 스택에 ```2 3 ADD```라고 저장이 되어 있고 (push), 하나씩 꺼내 (pull) ```2 + 3``` 연산을 한다.\n",
    "\n",
    "* ```2 3 OP_ADD 5 OP_EQUAL``` $2+3==5$\n",
    "* ```2 3 OP_ADD 2 OP_MUL 1 OP_ADD 11 OP_EQUAL``` $((2+3) \\times 2)+1==1$\n",
    "* 기본적인 2개의 스크립트\n",
    "    * scriptPubKey: locking script, pubKey로 잠그는 명령문\n",
    "    DUP HASH160 <PubHash> EQAULVERIFY CHECKSIG\n",
    "    * scriptSig: unlocking script, pubKey를 푸는 sig로 해제하는 명령문. \n",
    "    <sig> <PubK>\n",
    "* P2PKH Pay-to-Public-Key-Hash script\n",
    "    * scriptSig, scriptPubKey를 합쳐서 실행\n",
    "    <서명> <공개키> OP_DUP OP_HASH160 <공개키Hash> OP_EQUALVERIFY OP_CHECKSIG\n",
    "* Pay-to-Public-Key\n",
    "     <Signature from Private Key A> <Public Key A> OP_CHECKSIG"
   ]
  },
  {
   "cell_type": "markdown",
   "metadata": {
    "collapsed": true,
    "slideshow": {
     "slide_type": "subslide"
    }
   },
   "source": [
    "**거래 비용 transaction costs**는\n",
    "* 보통 거래의 처리에는 21,000, 컨트랙 배포에는 32,000 gas가 소요\n",
    "* byte수에 따라 산정된다. Yellow Paper Appendix G를 참조해서 바이트수에 따른 비용을 알 수 있다. 데이터 값이 없는 $G_{txdatazero}$는 4, 데이터 값이 있는 $G_{txdatanonzero}$는 68로 계산된다. $1594 \\times 68 + 184 \\times 4 = 109128$로 계산한다.\n"
   ]
  },
  {
   "cell_type": "markdown",
   "metadata": {
    "slideshow": {
     "slide_type": "subslide"
    }
   },
   "source": [
    "![alt text](figures/5_gasCost.png \"gas cost in yellow paper\")"
   ]
  },
  {
   "cell_type": "markdown",
   "metadata": {},
   "source": [
    "아래와 같은 트랜잭션 데이터가 있다고 하자."
   ]
  },
  {
   "cell_type": "code",
   "execution_count": 3,
   "metadata": {
    "collapsed": true
   },
   "outputs": [],
   "source": [
    "txdata = \"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\""
   ]
  },
  {
   "cell_type": "markdown",
   "metadata": {},
   "source": [
    "2자리씩, 즉 1바이트씩 읽어서 0인지 아닌지 그 갯수를 산정한다."
   ]
  },
  {
   "cell_type": "code",
   "execution_count": 4,
   "metadata": {
    "collapsed": true
   },
   "outputs": [],
   "source": [
    "def count_zero_bytes(data):\n",
    "  count = 0\n",
    "  for i in range(0, len(data), 2):\n",
    "    byte = data[i:i+2]\n",
    "    if byte == \"00\":\n",
    "      count += 1\n",
    "  return count"
   ]
  },
  {
   "cell_type": "code",
   "execution_count": 5,
   "metadata": {
    "collapsed": true
   },
   "outputs": [],
   "source": [
    "def count_non_zero_bytes(data):\n",
    "  return (len(data) / 2) - count_zero_bytes(data)"
   ]
  },
  {
   "cell_type": "markdown",
   "metadata": {},
   "source": [
    "그 결과를 출력하면 0은 184바이트, 아닌 경우는 1594 바이트가 된다."
   ]
  },
  {
   "cell_type": "code",
   "execution_count": 6,
   "metadata": {
    "scrolled": true
   },
   "outputs": [
    {
     "name": "stdout",
     "output_type": "stream",
     "text": [
      "zero-bytes: 184\n",
      "non-zero-bytes: 1594.0\n"
     ]
    }
   ],
   "source": [
    "print(\"zero-bytes: {0}\".format(count_zero_bytes(txdata)))\n",
    "print(\"non-zero-bytes: {0}\".format(count_non_zero_bytes(txdata)))"
   ]
  },
  {
   "cell_type": "markdown",
   "metadata": {},
   "source": [
    "### web3.eth.estimateGas\n",
    "\n",
    "개스비용을 적지 않으면, ```web3.eth.estimateGas()``` 함수로 산정한 값으로 적용하게 된다.\n",
    "\n",
    "```python\n",
    "var gas = web3.eth.estimateGas({\n",
    "    data: byteCode\n",
    "});\n",
    "console.log(gas);\n",
    "```"
   ]
  },
  {
   "cell_type": "markdown",
   "metadata": {},
   "source": [
    "#### 사설망의 transaction fee\n",
    "\n",
    "거래 transaction을 송신자, 수신자, gas price, gas limit, 송금액을 넣어서 생성한다.\n",
    "생성된 거래객체의 처리에 필요한 gas를 ``` web3.eth.estimateGas(transactionObject)``` 함수로 산정하여, 최대지불가능한 gas limit으로 설정한다.\n",
    "그 거래비용을 gas limit x gas price로 계산하여 출력한다."
   ]
  },
  {
   "cell_type": "code",
   "execution_count": 11,
   "metadata": {
    "scrolled": true
   },
   "outputs": [
    {
     "name": "stdout",
     "output_type": "stream",
     "text": [
      "Overwriting src/gasTransaction.js\n"
     ]
    }
   ],
   "source": [
    "%%writefile src/gasTransaction.js\n",
    "var sender = web3.eth.accounts[0];\n",
    "var receiver = web3.eth.accounts[1];\n",
    "var bal = web3.eth.getBalance(sender);\n",
    "//var gasPrice = web3.eth.getGasPrice();\n",
    "var gasPrice;\n",
    "web3.eth.getGasPrice(function(error, gasprice){\n",
    "    console.log(gasprice);\n",
    "    gasPrice=gasprice;\n",
    "});\n",
    "\n",
    "var transactionObject = {\n",
    "  from: sender,\n",
    "  to: receiver,\n",
    "  gasPrice: gasPrice,\n",
    "}\n",
    "var gasLimit = web3.eth.estimateGas(transactionObject);\n",
    "var transactionCost = gasPrice * gasLimit;\n",
    "\n",
    "transactionObject.gas = gasLimit;\n",
    "transactionObject.value = balance - transactionCost;\n",
    "console.log(\"gas limit: \", gasLimit);  //21000\n",
    "console.log(\"gas price: \", gasPrice);  //1000000000 1gwei\n",
    "console.log(\"transaction fee = gas limit x gas price = \", transactionCost);   //21,000,000,000,000"
   ]
  },
  {
   "cell_type": "code",
   "execution_count": null,
   "metadata": {
    "collapsed": true
   },
   "outputs": [],
   "source": [
    "Async 방식이라 실행결과가 올바르게 출력되지 않는다. geth console에서 한 줄씩 입력하여 출력하면 바르게 출력이 된다."
   ]
  },
  {
   "cell_type": "code",
   "execution_count": 12,
   "metadata": {},
   "outputs": [
    {
     "name": "stdout",
     "output_type": "stream",
     "text": [
      "\u001b[1mfalse\u001b[0m\r\n"
     ]
    }
   ],
   "source": [
    "!geth --exec 'loadScript(\"src/getTransaction.js\")' attach http://117.16.44.45:8445"
   ]
  },
  {
   "cell_type": "markdown",
   "metadata": {},
   "source": [
    "#### eth.getTransactionReceipt의 gasUsed\n",
    "\n",
    "트랜잭션 처리 비용은 ```eth.getTransactionReceipt(hash)```로 알 수 있다.\n",
    "아래에서 보듯이gasUsed는 21000이고, 이는 보통의 거래에 소요되는 gas이다."
   ]
  },
  {
   "cell_type": "code",
   "execution_count": 3,
   "metadata": {
    "scrolled": false,
    "slideshow": {
     "slide_type": "subslide"
    }
   },
   "outputs": [
    {
     "name": "stdout",
     "output_type": "stream",
     "text": [
      "{\r\n",
      "  blockHash: \u001b[32m\"0xd2c51ae5dea10e50c915e9d7ccc6c117c2d14d0f38da936b62a1c38fd0494d26\"\u001b[0m,\r\n",
      "  blockNumber: \u001b[31m55169\u001b[0m,\r\n",
      "  contractAddress: \u001b[1mnull\u001b[0m,\r\n",
      "  cumulativeGasUsed: \u001b[31m21000\u001b[0m,\r\n",
      "  from: \u001b[32m\"0x2e49e21e708b7d83746ec676a4afda47f1a0d693\"\u001b[0m,\r\n",
      "  gasUsed: \u001b[31m21000\u001b[0m,\r\n",
      "  logs: [],\r\n",
      "  logsBloom: \u001b[32m\"0x00000000000000000000000000000000000000000000000000000000000000000000000000000000000000000000000000000000000000000000000000000000000000000000000000000000000000000000000000000000000000000000000000000000000000000000000000000000000000000000000000000000000000000000000000000000000000000000000000000000000000000000000000000000000000000000000000000000000000000000000000000000000000000000000000000000000000000000000000000000000000000000000000000000000000000000000000000000000000000000000000000000000000000000000000000000\"\u001b[0m,\r\n",
      "  root: \u001b[32m\"0x1817a1775db945025d4a67a0bfcb633b5fed6a1fa76804d152db410c9140237d\"\u001b[0m,\r\n",
      "  to: \u001b[32m\"0xe36104ad419c719e356e86f94b5a7ca47a83f9e7\"\u001b[0m,\r\n",
      "  transactionHash: \u001b[32m\"0xd87121b8b0f84f7fa038cd7c1928ca6a222d14228125c90edc2493fdef4fb90b\"\u001b[0m,\r\n",
      "  transactionIndex: \u001b[31m0\u001b[0m\r\n",
      "}\r\n"
     ]
    }
   ],
   "source": [
    "!geth --exec 'eth.getTransactionReceipt(\"0xd87121b8b0f84f7fa038cd7c1928ca6a222d14228125c90edc2493fdef4fb90b\")' attach http://117.16.44.45:8445"
   ]
  },
  {
   "cell_type": "markdown",
   "metadata": {},
   "source": [
    "#### 실제\n",
    "\n",
    "실제 hash를 가지고 gas 상세를 살펴보자 (참조: https://etherscan.io/tx/0xcb1e3530950cf2c43a307bcb5645ae71a12c76a60831617badd04aea3efe68aa)\n",
    "\n",
    "* Transaction Fee: 0.000284248 Ether ($0.05) = gas used x gas price = 35531 x 8 (아래를 참조)\n",
    "* Gas Limit: 136,500\n",
    "* Gas Used by Transaction: 35,531 (26.03%)\n",
    "* Gas Price: 0.000000008 Ether (8 Gwei) 이 수준은 'Fast' 기준"
   ]
  },
  {
   "cell_type": "markdown",
   "metadata": {
    "collapsed": true
   },
   "source": [
    "\n",
    "![alt text](figures/5_transactionFee.png \"transaction fee in a real case\")"
   ]
  },
  {
   "cell_type": "markdown",
   "metadata": {
    "collapsed": true,
    "slideshow": {
     "slide_type": "subslide"
    }
   },
   "source": [
    "### TransactionCount\n",
    "\n",
    "* 주소에서 전송된 거래 건수는 ```getTransactionCount``` 명령어를 통해서 알 수 있다.\n",
    "```python\n",
    "getTransactionCount(fromAddress, 'pending')\n",
    "```"
   ]
  },
  {
   "cell_type": "code",
   "execution_count": 4,
   "metadata": {},
   "outputs": [
    {
     "name": "stdout",
     "output_type": "stream",
     "text": [
      "\u001b[31m25\u001b[0m\r\n"
     ]
    }
   ],
   "source": [
    "!geth --exec 'eth.getTransactionCount(\"0x2e49e21e708b7d83746ec676a4afda47f1a0d693\")' attach http://117.16.44.45:8445 "
   ]
  },
  {
   "cell_type": "markdown",
   "metadata": {
    "collapsed": true,
    "slideshow": {
     "slide_type": "subslide"
    }
   },
   "source": [
    "* 발생된 거래를 살펴보기\n",
    "    * eth.getBlock(55169);\n",
    "    * eth.filter('latest')"
   ]
  },
  {
   "cell_type": "code",
   "execution_count": 1,
   "metadata": {
    "scrolled": true
   },
   "outputs": [
    {
     "name": "stdout",
     "output_type": "stream",
     "text": [
      "{\r\n",
      "  difficulty: \u001b[31m6314813\u001b[0m,\r\n",
      "  extraData: \u001b[32m\"0xd783010504846765746887676f312e372e33856c696e7578\"\u001b[0m,\r\n",
      "  gasLimit: \u001b[31m4712388\u001b[0m,\r\n",
      "  gasUsed: \u001b[31m21000\u001b[0m,\r\n",
      "  hash: \u001b[32m\"0xd2c51ae5dea10e50c915e9d7ccc6c117c2d14d0f38da936b62a1c38fd0494d26\"\u001b[0m,\r\n",
      "  logsBloom: \u001b[32m\"0x00000000000000000000000000000000000000000000000000000000000000000000000000000000000000000000000000000000000000000000000000000000000000000000000000000000000000000000000000000000000000000000000000000000000000000000000000000000000000000000000000000000000000000000000000000000000000000000000000000000000000000000000000000000000000000000000000000000000000000000000000000000000000000000000000000000000000000000000000000000000000000000000000000000000000000000000000000000000000000000000000000000000000000000000000000000\"\u001b[0m,\r\n",
      "  miner: \u001b[32m\"0x2e49e21e708b7d83746ec676a4afda47f1a0d693\"\u001b[0m,\r\n",
      "  mixHash: \u001b[32m\"0x4da21d2c5696ee4d798f6445db0287a73fb2332f089ac43690d302827f52401a\"\u001b[0m,\r\n",
      "  nonce: \u001b[32m\"0x3cd421957745a4b1\"\u001b[0m,\r\n",
      "  number: \u001b[31m55169\u001b[0m,\r\n",
      "  parentHash: \u001b[32m\"0x6533c71dd0f03108ea2c657896e73253f4f60ed3c4524a2bf0009cdec351d609\"\u001b[0m,\r\n",
      "  receiptsRoot: \u001b[32m\"0x925b88d8f207cf48a9dc303902f5674d239072c1f03493febc311549d820b9ce\"\u001b[0m,\r\n",
      "  sha3Uncles: \u001b[32m\"0x1dcc4de8dec75d7aab85b567b6ccd41ad312451b948a7413f0a142fd40d49347\"\u001b[0m,\r\n",
      "  size: \u001b[31m645\u001b[0m,\r\n",
      "  stateRoot: \u001b[32m\"0xdbf466898fd964478d1f606e4a4dc1da9640af35f46d623d5ad4ed277526aaef\"\u001b[0m,\r\n",
      "  timestamp: \u001b[31m1481249262\u001b[0m,\r\n",
      "  totalDifficulty: \u001b[31m273764475970\u001b[0m,\r\n",
      "  transactions: [\u001b[32m\"0xd87121b8b0f84f7fa038cd7c1928ca6a222d14228125c90edc2493fdef4fb90b\"\u001b[0m],\r\n",
      "  transactionsRoot: \u001b[32m\"0x5dbc80ced8364978e61d0c12aef1d7524092a4f7aa6ab30b4fccd6aa8b1282cd\"\u001b[0m,\r\n",
      "  uncles: []\r\n",
      "}\r\n"
     ]
    }
   ],
   "source": [
    "!geth --exec 'eth.getBlock(55169);' attach http://117.16.44.45:8445 "
   ]
  },
  {
   "cell_type": "code",
   "execution_count": 2,
   "metadata": {},
   "outputs": [
    {
     "name": "stdout",
     "output_type": "stream",
     "text": [
      "{\r\n",
      "  callbacks: [],\r\n",
      "  filterId: \u001b[32m\"0xa6d9df622f0acc03602e7b3c185ea906\"\u001b[0m,\r\n",
      "  getLogsCallbacks: [],\r\n",
      "  implementation: {\r\n",
      "    getLogs: \u001b[35mfunction()\u001b[0m,\r\n",
      "    newFilter: \u001b[35mfunction()\u001b[0m,\r\n",
      "    poll: \u001b[35mfunction()\u001b[0m,\r\n",
      "    uninstallFilter: \u001b[35mfunction()\u001b[0m\r\n",
      "  },\r\n",
      "  options: \u001b[32m\"latest\"\u001b[0m,\r\n",
      "  pollFilters: [],\r\n",
      "  requestManager: {\r\n",
      "    polls: {},\r\n",
      "    provider: {\r\n",
      "      newAccount: \u001b[35mfunction()\u001b[0m,\r\n",
      "      send: \u001b[35mfunction github.com/ethereum/go-ethereum/console.(*bridge).Send-fm()\u001b[0m,\r\n",
      "      sendAsync: \u001b[35mfunction github.com/ethereum/go-ethereum/console.(*bridge).Send-fm()\u001b[0m,\r\n",
      "      sign: \u001b[35mfunction()\u001b[0m,\r\n",
      "      unlockAccount: \u001b[35mfunction()\u001b[0m\r\n",
      "    },\r\n",
      "    timeout: \u001b[1mnull\u001b[0m,\r\n",
      "    poll: \u001b[35mfunction()\u001b[0m,\r\n",
      "    reset: \u001b[35mfunction(keepIsSyncing)\u001b[0m,\r\n",
      "    send: \u001b[35mfunction(data)\u001b[0m,\r\n",
      "    sendAsync: \u001b[35mfunction(data, callback)\u001b[0m,\r\n",
      "    sendBatch: \u001b[35mfunction(data, callback)\u001b[0m,\r\n",
      "    setProvider: \u001b[35mfunction(p)\u001b[0m,\r\n",
      "    startPolling: \u001b[35mfunction(data, pollId, callback, uninstall)\u001b[0m,\r\n",
      "    stopPolling: \u001b[35mfunction(pollId)\u001b[0m\r\n",
      "  },\r\n",
      "  formatter: \u001b[35mfunction(log)\u001b[0m,\r\n",
      "  get: \u001b[35mfunction(callback)\u001b[0m,\r\n",
      "  stopWatching: \u001b[35mfunction()\u001b[0m,\r\n",
      "  watch: \u001b[35mfunction(callback)\u001b[0m\r\n",
      "}\r\n"
     ]
    }
   ],
   "source": [
    "!geth --exec 'eth.filter(\"latest\");' attach http://117.16.44.45:8445 "
   ]
  },
  {
   "cell_type": "markdown",
   "metadata": {
    "slideshow": {
     "slide_type": "slide"
    }
   },
   "source": [
    "## 문제 5-1: 다른 계정으로 송금 거래\n",
    "\n",
    "<a id='5-1'></a>\n",
    "\n",
    "* 1-1 같은 기계, 다른 계정으로 송금하기\n",
    "* 1-2 다른 기계, 다른 계정으로 송금하기\n"
   ]
  },
  {
   "cell_type": "markdown",
   "metadata": {
    "slideshow": {
     "slide_type": "subslide"
    }
   },
   "source": [
    "### 1-1 같은 기계, 다른 계정으로 송금하기\n",
    "\n",
    "타계정으로 송금을 해보자.\n",
    "송금뿐만 아니라 블록체인에 데이터를 저장하기 위해서는 비용이 수반된다.\n",
    "송금 거래를 네트워크에 전송하기 위해서는 gas가 필요하고, 계정에 이를 충당할 잔고가 있어야 한다.\n",
    "gas가 모자라면 거래가 처리되지 않거나, 지연될 수 있다.\n",
    "잔고를 충전하기 위해서는 Ether를 구매하거나, 마이닝을 해서 충전을 해두어야 한다.\n",
    "\n",
    "우선:\n",
    "* 지급계정을 선택하고, 잔고를 확인한다. 송금액과 gas비를 충당할 금액이 있어야 한다.\n",
    "* 현재 blockNumber를 확인하고, 거래가 완성된 후 blockNumber와 잔고의 변화가 있는지 살펴보자.\n",
    "* 개인망이라서 자신이 거래를 발생하여 스스로 마이닝을 하자.\n",
    "* eth와 web3를 섞어서 사용하는 것은 피하도록 한다."
   ]
  },
  {
   "cell_type": "code",
   "execution_count": 7,
   "metadata": {
    "slideshow": {
     "slide_type": "subslide"
    }
   },
   "outputs": [
    {
     "name": "stdout",
     "output_type": "stream",
     "text": [
      "Fatal: Unable to attach to remote geth: no known transport for URL scheme \"ethhttp\"\r\n"
     ]
    }
   ],
   "source": [
    "!geth --exec \"eth.getBalance(eth.accounts[1])\" attach ethhttp://117.16.44.45:8445"
   ]
  },
  {
   "cell_type": "code",
   "execution_count": 2,
   "metadata": {
    "scrolled": true,
    "slideshow": {
     "slide_type": "subslide"
    }
   },
   "outputs": [
    {
     "name": "stdout",
     "output_type": "stream",
     "text": [
      "\u001b[91mError: authentication needed: password or unlock\r\n",
      "    at web3.js:3143:20\r\n",
      "    at web3.js:6347:15\r\n",
      "    at web3.js:5081:36\r\n",
      "    at <anonymous>:1:1\r\n",
      "\u001b[0m\r\n"
     ]
    }
   ],
   "source": [
    "!geth --exec \"eth.sendTransaction({from:eth.accounts[1], to:eth.accounts[0],value:10000})\" attach http://117.16.44.45:8445 "
   ]
  },
  {
   "cell_type": "markdown",
   "metadata": {
    "slideshow": {
     "slide_type": "subslide"
    }
   },
   "source": [
    "아래와 같이 프로그램을 만들어 실행해보자. 물론 geth client에서 한 줄씩 실행해도 좋다.\n",
    "송금하려면, account unlock해야 한다. geth를 시작할 때 --unlock 하거나, console에서 직접 할 수 있다.\n",
    "다음과 같이 프로그램을 실행하기 전에 다음과 같이 unlock을 하자.\n",
    "```python\n",
    "> personal.unlockAccount(eth.accounts[2])\n",
    "```\n",
    "\n",
    "```eth.sendTransaction({from:eth.coinbase, to:eth.accounts[1],value:10000})```는 coinbase에서 2번째 계정으로 송금하는 명령어이다.\n",
    "```value```에 송금액을 기입하였다.\n",
    "```eth.gasPrice()``` 지난 몇 건의 블록의 gasPrice의 중위값을 알려준다.\n",
    "\n",
    "실행하고 나면, 거래가 발생하고, 마이닝을 하고, 잔고와 bloack number가 변화하게 된다.\n",
    "coinbase에는 마이닝 보상까지 더해지므로, 잔고가 송금액만큼 줄어들지는 않을 것이다."
   ]
  },
  {
   "cell_type": "code",
   "execution_count": 15,
   "metadata": {},
   "outputs": [
    {
     "name": "stdout",
     "output_type": "stream",
     "text": [
      "coinbase:  0x21c704354d07f804bab01894e8b4eb4e0eba7451\n",
      "sender balance in ether:  60.000021786999979076\n",
      "receiver balance in ether:  184.999843394000019444\n",
      "median gas price:  1000000000\n",
      "block number:  47206\n",
      "tranaction count:  264\n",
      "...mining start\n",
      "mining done...\n",
      "- new sender balance in ether:  65.000021786999969076\n",
      "- new receiver balance in ether:  184.999843394000029444\n",
      "- block number:  47207\n",
      "- tranaction count:  265\n",
      "\u001b[1mtrue\u001b[0m\n"
     ]
    }
   ],
   "source": [
    "!geth --exec 'loadScript(\"src/e_testTran.js\")' attach http://117.16.44.45:8445"
   ]
  },
  {
   "cell_type": "markdown",
   "metadata": {},
   "source": [
    "![alt text](figures/2_sendTransactionToAnotherAccount.png \"send transaction to another account\")\n",
    "\n",
    "![alt text](figures/2_transactionReceipt.png \"transaction recepit after send transaction\")"
   ]
  },
  {
   "cell_type": "markdown",
   "metadata": {
    "slideshow": {
     "slide_type": "subslide"
    }
   },
   "source": [
    "### 1-2 다른 기계, 다른 계정으로 송금하기\n",
    "\n",
    "* 117.16.44.45에서 117.16.44.46 (\"0x519775cc61e4c9b3f19b75426a7a3696a3c85035\") 으로 송금\n",
    "* 117.16.44.45에서 멀티노드의 117.16.44.46 계정 잔고를 알 수 있다."
   ]
  },
  {
   "cell_type": "code",
   "execution_count": 7,
   "metadata": {
    "slideshow": {
     "slide_type": "subslide"
    }
   },
   "outputs": [
    {
     "name": "stdout",
     "output_type": "stream",
     "text": [
      "\u001b[31m10000\u001b[0m\r\n"
     ]
    }
   ],
   "source": [
    "!geth --exec 'eth.getBalance(\"0x519775cc61e4c9b3f19b75426a7a3696a3c85035\");' attach http://117.16.44.45:8445 "
   ]
  },
  {
   "cell_type": "code",
   "execution_count": 11,
   "metadata": {
    "scrolled": false
   },
   "outputs": [
    {
     "name": "stdout",
     "output_type": "stream",
     "text": [
      "hq account balance:  20000\n",
      "block number:  70296\n",
      "transactionHash:  0x15b17f04f20322cc8ee14aef9a9b617ec77935f29ce313a78ad1388241607e6c\n",
      "...mining start\n",
      "mining done...\n",
      "block number:  70297\n",
      "hq account balance:  30000\n",
      "\u001b[1mtrue\u001b[0m\n"
     ]
    }
   ],
   "source": [
    "!geth --exec 'loadScript(\"src/e_testTran2.js\")' attach http://117.16.44.45:8445"
   ]
  },
  {
   "cell_type": "markdown",
   "metadata": {
    "collapsed": true
   },
   "source": [
    "## 연습문제 1\n",
    "\n",
    "다음 4건의 데이터에 대해 Merkle Root 값을 계산하고 출력하세요.\n",
    "중간 노드의 AB, CD의 해시도 출력하세요.\n",
    "* txA = 'Hello'\n",
    "* txB = 'How are you?'\n",
    "* txC = 'This is Thursday'\n",
    "* txD = 'Happy new Year'"
   ]
  },
  {
   "cell_type": "markdown",
   "metadata": {},
   "source": [
    "## 연습문제 2\n",
    "\n",
    "친구에게 주소를 구하고, 그 주소로 송금해 보자. 송금이 되지 않으면 왜 안되는지 이유를 알아보자.\n",
    "안되면 친구의 주소를 만들고 전송한다.\n",
    "잔고의 증가분을 출력하세요.\n",
    "소요된 gas비용 출력하세요."
   ]
  },
  {
   "cell_type": "markdown",
   "metadata": {},
   "source": [
    "### 답\n",
    "\n",
    "우선 genesis block를 동일하게 설정해 놓은 상대 컴퓨터의 enode를 구해서, Peer로 추가해야 한다 (참조 3장 3-3).\n",
    "enode에는 IP주소, 포트번호가 포함되어 있어, 상대 컴퓨터를 노드로 추가할 수 있다.\n",
    "\n",
    "```python\n",
    "admin.addPeer(\"enode://719b29cc599ee5964...011155676a3cb@117.16.44.46:30446?discport=0\")\n",
    "```\n",
    "\n",
    "그리고 송금거래를 발생하면 된다 (참조 5-1) (아래 실행하지 않았슴 (NotYet))"
   ]
  },
  {
   "cell_type": "markdown",
   "metadata": {},
   "source": [
    "## 연습문제 3\n",
    "\n",
    "다음 ```sayHello()```함수의 ABI 명세를 생성한다.\n",
    "\n",
    "```python\n",
    "contract Hello {\n",
    "    function sayHello(bytes toWhom) pure public returns(string memory) {}\n",
    "}\n",
    "```"
   ]
  },
  {
   "cell_type": "markdown",
   "metadata": {},
   "source": [
    "## 연습문제 4\n",
    "\n",
    "\"Let's meet in my office at 10 AM.\"의 거래비용 gas를 계산하시오."
   ]
  },
  {
   "cell_type": "markdown",
   "metadata": {},
   "source": [
    "## 연습문제 5\n",
    "\n",
    "**해시는 100미만의 양수**로 정해진다고 하자.\n",
    "해시 값은 별도로 해싱을 할 필요없이 십진수로 생각하자.\n",
    "**NONCE는 반복회수**로만 쓰이고 무작위 수를 생성하는데 입력되지는 않는다.\n",
    "암호화폐에서는 마이닝이라고 하는 작업, 즉 목표 해시를 찾아보자.\n",
    "**목표해시 값이 100에 얼마나 가까운지에 따라**, 즉 90은 가깝고 10은 먼 값이다.\n",
    "**몇 회만에 그 값을 찾는지 비교**해 보자.\n",
    "여기서 난이도를 3회만에 찾게 되면 1이라고 하자.\n",
    "3회 보다 횟수가 많이 걸리면 이 경우는 어렵다는 의미이므로 난이도를 낮추어야 한다.\n",
    "반대의 경우 3회보다 적은 횟수가 필요하면 난이도를 높이게 된다.\n",
    "문제는 난이도를 계산해서 조정하지는 않고, 다순하게 목표 값을 몇 회에 출력하는지만 알아보자.\n",
    "- 90을 목표해시로 정하고 몇 회만에 마이닝에 성공하는지 출력\n",
    "- 10을 목표해시로 정하고 몇 회만에 마이닝에 성공하는지 출력"
   ]
  },
  {
   "cell_type": "markdown",
   "metadata": {
    "collapsed": true
   },
   "source": [
    "### random 함수\n",
    "```random()```은 0~1사이의 무작위 수를 생성한다.\n",
    "이 함수에 100을 곱하면 0~100 사이의 수를 생성한다 (100은 제외).\n",
    "```print```문의 ```end```는 출력을 이어서 하게 만든다."
   ]
  },
  {
   "cell_type": "code",
   "execution_count": 15,
   "metadata": {},
   "outputs": [
    {
     "name": "stdout",
     "output_type": "stream",
     "text": [
      "83 18 99 61 2 74 4 51 12 63 46 64 67 72 7 70 73 49 86 "
     ]
    }
   ],
   "source": [
    "from random import randint\n",
    "for i in range(1,20):\n",
    "    print(int(random.random()*100), end=\" \")"
   ]
  },
  {
   "cell_type": "markdown",
   "metadata": {},
   "source": [
    "### 답\n",
    "\n",
    "```int(random.random()*100)```로 0~99까지의 수를 생성하고 (random() 함수가 0 이상~1.0 미만 사이의 수를 생성)\n",
    "목표로 하는 90 이내 (또는 10) 이내의 수가 생성이 되면 반복을 종료하게 된다.\n",
    "\n",
    "아래 6번째 줄을 90 또는 10으로 해서 실행을 해보자.\n",
    "TargetHash 한도를 90으로 하면 보통 1회, 10으로 하면 훨씬 더 많은 횟수가 필요하였다.\n",
    "직접 10 이하의 수를 4번 시도해 보니 5, 22, 7, 16번 회만에 생성되었다.\n",
    "그러니까 90으로 하면 난이도가 낮고, 10으로 하면 난이도가 높다는 것을 알 수 있다."
   ]
  },
  {
   "cell_type": "code",
   "execution_count": null,
   "metadata": {
    "collapsed": true
   },
   "outputs": [],
   "source": []
  }
 ],
 "metadata": {
  "kernelspec": {
   "display_name": "Python 3",
   "language": "python",
   "name": "python3"
  },
  "language_info": {
   "codemirror_mode": {
    "name": "ipython",
    "version": 3
   },
   "file_extension": ".py",
   "mimetype": "text/x-python",
   "name": "python",
   "nbconvert_exporter": "python",
   "pygments_lexer": "ipython3",
   "version": "3.7.9"
  }
 },
 "nbformat": 4,
 "nbformat_minor": 1
}
