{
 "cells": [
  {
   "cell_type": "markdown",
   "metadata": {},
   "source": [
    "# 모듈 import 및 이미지 불러오기"
   ]
  },
  {
   "cell_type": "code",
   "execution_count": 1,
   "metadata": {},
   "outputs": [],
   "source": [
    "\"\"\"\n",
    "pip install cmake  # 크로스 플랫폼 빌드 툴 (face_recognition 설치를 위해 필요)\n",
    "pip install face_recognition  # 얼굴 인식 기능 관련 라이브러리\n",
    "\"\"\"\n",
    "import face_recognition\n",
    "import cv2\n",
    "import numpy as np"
   ]
  },
  {
   "cell_type": "code",
   "execution_count": 2,
   "metadata": {},
   "outputs": [],
   "source": [
    "img = face_recognition.load_image_file('candidates.jpg')\n",
    "bgr = cv2.cvtColor(img, cv2.COLOR_RGB2BGR)\n",
    "cv2.imshow('img', bgr)\n",
    "cv2.waitKey()\n",
    "\n",
    "cv2.destroyAllWindows()"
   ]
  },
  {
   "cell_type": "markdown",
   "metadata": {},
   "source": [
    "# 기능 1) 얼굴 위치 찾기"
   ]
  },
  {
   "cell_type": "code",
   "execution_count": 3,
   "metadata": {},
   "outputs": [
    {
     "name": "stdout",
     "output_type": "stream",
     "text": [
      "[(82, 296, 211, 167), (81, 597, 236, 442)]\n"
     ]
    }
   ],
   "source": [
    "face_locations = face_recognition.face_locations(img)\n",
    "print(face_locations)  # (ys, xs, ye, xe)"
   ]
  },
  {
   "cell_type": "code",
   "execution_count": 5,
   "metadata": {},
   "outputs": [],
   "source": [
    "bgr = cv2.cvtColor(img, cv2.COLOR_RGB2BGR)\n",
    "\n",
    "\n",
    "# for loc in face_locations:\n",
    "#     ys, xs, ye, xe = loc\n",
    "\n",
    "ys, xs, ye, xe = face_locations[0]\n",
    "cv2.rectangle(bgr, (xs, ys), (xe, ye), (0, 0, 255), 2)\n",
    "\n",
    "cv2.imshow('img', bgr)\n",
    "cv2.waitKey()\n",
    "\n",
    "cv2.destroyAllWindows()"
   ]
  },
  {
   "cell_type": "markdown",
   "metadata": {},
   "source": [
    "# 기능 2) 얼굴 랜드마크 찾기\n",
    "- 얼굴 회전 예측, 스노우 어플, 가상 메이크업 등등에 활용"
   ]
  },
  {
   "cell_type": "code",
   "execution_count": 7,
   "metadata": {},
   "outputs": [
    {
     "name": "stdout",
     "output_type": "stream",
     "text": [
      "2\n",
      "{'chin': [(142, 118), (145, 139), (149, 159), (155, 179), (165, 197), (179, 214), (195, 228), (213, 238), (232, 242), (248, 238), (258, 225), (267, 209), (273, 192), (276, 173), (279, 154), (280, 136), (280, 119)], 'left_eyebrow': [(171, 107), (182, 98), (197, 94), (213, 95), (227, 100)], 'right_eyebrow': [(242, 98), (251, 93), (261, 90), (272, 92), (278, 101)], 'nose_bridge': [(235, 111), (238, 121), (240, 132), (243, 143)], 'nose_tip': [(223, 155), (231, 156), (239, 158), (245, 156), (250, 153)], 'left_eye': [(188, 115), (196, 110), (205, 109), (212, 115), (205, 116), (196, 116)], 'right_eye': [(247, 114), (254, 108), (262, 107), (268, 113), (262, 114), (255, 114)], 'top_lip': [(206, 188), (216, 177), (229, 171), (237, 172), (243, 171), (251, 176), (254, 188), (250, 188), (243, 178), (237, 178), (229, 178), (210, 188)], 'bottom_lip': [(254, 188), (250, 202), (243, 209), (236, 211), (227, 210), (215, 203), (206, 188), (210, 188), (228, 200), (236, 201), (243, 199), (250, 188)]}\n"
     ]
    }
   ],
   "source": [
    "landmarks_list = face_recognition.face_landmarks(img)\n",
    "print(len(landmarks_list))\n",
    "print(landmarks_list[0])"
   ]
  },
  {
   "cell_type": "code",
   "execution_count": 8,
   "metadata": {},
   "outputs": [
    {
     "name": "stdout",
     "output_type": "stream",
     "text": [
      "dict_keys(['chin', 'left_eyebrow', 'right_eyebrow', 'nose_bridge', 'nose_tip', 'left_eye', 'right_eye', 'top_lip', 'bottom_lip'])\n"
     ]
    }
   ],
   "source": [
    "keys = landmarks_list[0].keys()\n",
    "print(keys)"
   ]
  },
  {
   "cell_type": "code",
   "execution_count": 11,
   "metadata": {},
   "outputs": [],
   "source": [
    "bgr = cv2.cvtColor(img, cv2.COLOR_RGB2BGR)\n",
    "for landmarks in landmarks_list:\n",
    "#     for key in keys:\n",
    "#         coords = landmarks[key]\n",
    "    coords = landmarks['left_eye']\n",
    "        \n",
    "    for coord in coords:\n",
    "        cv2.circle(bgr, coord, 2, (0, 0, 255), -1)\n",
    "    \n",
    "cv2.imshow('img', bgr)\n",
    "cv2.waitKey()\n",
    "\n",
    "cv2.destroyAllWindows()"
   ]
  },
  {
   "cell_type": "markdown",
   "metadata": {},
   "source": [
    "# 기능 3) 얼굴 인식"
   ]
  },
  {
   "cell_type": "code",
   "execution_count": 14,
   "metadata": {},
   "outputs": [
    {
     "name": "stdout",
     "output_type": "stream",
     "text": [
      "<class 'list'>\n"
     ]
    }
   ],
   "source": [
    "known_img = face_recognition.load_image_file('biden.jpg')\n",
    "unknown_img = face_recognition.load_image_file('candidates.jpg')\n",
    "\n",
    "biden_encoding = face_recognition.face_encodings(known_img)\n",
    "unknown_encoding = face_recognition.face_encodings(unknown_img)\n",
    "print(type(biden_encoding))"
   ]
  },
  {
   "cell_type": "code",
   "execution_count": 15,
   "metadata": {},
   "outputs": [],
   "source": [
    "# list -> numpy 타입 변경하여 compare_faces() 함수에 전달\n",
    "biden_encoding_np = np.array(biden_encoding)\n",
    "unknown_encoding_np = np.array(unknown_encoding)\n",
    "\n",
    "results = face_recognition.compare_faces(biden_encoding_np, unknown_encoding_np)"
   ]
  },
  {
   "cell_type": "code",
   "execution_count": 16,
   "metadata": {},
   "outputs": [
    {
     "data": {
      "text/plain": [
       "[False, True]"
      ]
     },
     "execution_count": 16,
     "metadata": {},
     "output_type": "execute_result"
    }
   ],
   "source": [
    "results"
   ]
  },
  {
   "cell_type": "code",
   "execution_count": 17,
   "metadata": {},
   "outputs": [],
   "source": [
    "bgr = cv2.cvtColor(unknown_img, cv2.COLOR_RGB2BGR)\n",
    "\n",
    "box_color = (0, 0, 255)\n",
    "for loc, result in zip(face_locations, results):\n",
    "    ys, xs, ye, xe = loc\n",
    "    \n",
    "    # result\n",
    "    if result == True:\n",
    "        box_color = (0, 255, 0)\n",
    "        \n",
    "    cv2.rectangle(bgr, (xs, ys), (xe, ye), box_color, 2)\n",
    "\n",
    "cv2.imshow('img', bgr)\n",
    "cv2.waitKey()\n",
    "\n",
    "cv2.destroyAllWindows()"
   ]
  },
  {
   "cell_type": "markdown",
   "metadata": {},
   "source": [
    "### * 참고 예제\n",
    "https://github.com/ageitgey/face_recognition/blob/master/examples/facerec_from_webcam_faster.py"
   ]
  }
 ],
 "metadata": {
  "kernelspec": {
   "display_name": "pr",
   "language": "python",
   "name": "pr"
  },
  "language_info": {
   "codemirror_mode": {
    "name": "ipython",
    "version": 3
   },
   "file_extension": ".py",
   "mimetype": "text/x-python",
   "name": "python",
   "nbconvert_exporter": "python",
   "pygments_lexer": "ipython3",
   "version": "3.8.5"
  }
 },
 "nbformat": 4,
 "nbformat_minor": 4
}
