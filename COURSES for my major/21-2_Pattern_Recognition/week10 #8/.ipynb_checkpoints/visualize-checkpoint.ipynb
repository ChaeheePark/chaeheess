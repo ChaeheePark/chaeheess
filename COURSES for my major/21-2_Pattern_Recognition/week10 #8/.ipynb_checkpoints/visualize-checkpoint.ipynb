{
 "cells": [
  {
   "cell_type": "markdown",
   "metadata": {},
   "source": [
    "# 0) 준비"
   ]
  },
  {
   "cell_type": "code",
   "execution_count": 3,
   "metadata": {},
   "outputs": [],
   "source": [
    "import numpy as np\n",
    "import pandas as pd\n",
    "import copy\n",
    "import matplotlib.pyplot as plt\n",
    "\n",
    "import sample_data\n",
    "from meanshift import mean_shift, mean_shift_with_history\n",
    "\n",
    "%matplotlib inline\n",
    "\n",
    "# # PyCharm에서 인터랙티브 창 띄우기\n",
    "# import matplotlib\n",
    "# matplotlib.use('TkAgg')\n",
    "\n",
    "def calc_euclidean_distance(p1, p2):\n",
    "    return np.sqrt(np.sum((p1 - p2) ** 2))"
   ]
  },
  {
   "cell_type": "markdown",
   "metadata": {},
   "source": [
    "# 1) 데이터 샘플 불러오기"
   ]
  },
  {
   "cell_type": "code",
   "execution_count": 4,
   "metadata": {},
   "outputs": [
    {
     "name": "stdout",
     "output_type": "stream",
     "text": [
      "(9, 2)\n",
      "[[ 1.   2. ]\n",
      " [ 1.5  1.8]\n",
      " [ 5.   8. ]\n",
      " [ 8.   8. ]\n",
      " [ 1.   0.6]\n",
      " [ 9.  11. ]\n",
      " [ 8.   2. ]\n",
      " [10.   2. ]\n",
      " [ 9.   3. ]]\n"
     ]
    },
    {
     "data": {
      "image/png": "[encoded data removed]",
      "text/plain": [
       "<Figure size 504x504 with 1 Axes>"
      ]
     },
     "metadata": {
      "needs_background": "light"
     },
     "output_type": "display_data"
    }
   ],
   "source": [
    "X = sample_data.sample1\n",
    "\n",
    "# 데이터 확인\n",
    "print(X.shape)\n",
    "print(X)\n",
    "\n",
    "# 좌표에 그리기\n",
    "plt.figure(figsize=(7, 7))\n",
    "plt.scatter(X[:, 0], X[:, 1], color='b', s=50, zorder=2)\n",
    "plt.grid()\n",
    "# plt.axis([0, 12, 0, 12])\n",
    "plt.gca().set_aspect(\"equal\")\n",
    "plt.show()"
   ]
  },
  {
   "cell_type": "markdown",
   "metadata": {},
   "source": [
    "# 2) Meanshif 알고리즘을 이용한 군집화 수행"
   ]
  },
  {
   "cell_type": "code",
   "execution_count": 5,
   "metadata": {},
   "outputs": [
    {
     "data": {
      "text/html": [
       "<div>\n",
       "<style scoped>\n",
       "    .dataframe tbody tr th:only-of-type {\n",
       "        vertical-align: middle;\n",
       "    }\n",
       "\n",
       "    .dataframe tbody tr th {\n",
       "        vertical-align: top;\n",
       "    }\n",
       "\n",
       "    .dataframe thead th {\n",
       "        text-align: right;\n",
       "    }\n",
       "</style>\n",
       "<table border=\"1\" class=\"dataframe\">\n",
       "  <thead>\n",
       "    <tr style=\"text-align: right;\">\n",
       "      <th></th>\n",
       "      <th>Sample_data</th>\n",
       "      <th>Centroids</th>\n",
       "      <th>Clusters</th>\n",
       "    </tr>\n",
       "  </thead>\n",
       "  <tbody>\n",
       "    <tr>\n",
       "      <th>0</th>\n",
       "      <td>[1.0, 2.0]</td>\n",
       "      <td>[1.1666666666666667, 1.4666666666666668]</td>\n",
       "      <td>0</td>\n",
       "    </tr>\n",
       "    <tr>\n",
       "      <th>1</th>\n",
       "      <td>[1.5, 1.8]</td>\n",
       "      <td>[1.1666666666666667, 1.4666666666666668]</td>\n",
       "      <td>0</td>\n",
       "    </tr>\n",
       "    <tr>\n",
       "      <th>2</th>\n",
       "      <td>[5.0, 8.0]</td>\n",
       "      <td>[7.333333333333333, 9.0]</td>\n",
       "      <td>1</td>\n",
       "    </tr>\n",
       "    <tr>\n",
       "      <th>3</th>\n",
       "      <td>[8.0, 8.0]</td>\n",
       "      <td>[7.333333333333333, 9.0]</td>\n",
       "      <td>1</td>\n",
       "    </tr>\n",
       "    <tr>\n",
       "      <th>4</th>\n",
       "      <td>[1.0, 0.6]</td>\n",
       "      <td>[1.1666666666666667, 1.4666666666666668]</td>\n",
       "      <td>0</td>\n",
       "    </tr>\n",
       "    <tr>\n",
       "      <th>5</th>\n",
       "      <td>[9.0, 11.0]</td>\n",
       "      <td>[7.333333333333333, 9.0]</td>\n",
       "      <td>1</td>\n",
       "    </tr>\n",
       "    <tr>\n",
       "      <th>6</th>\n",
       "      <td>[8.0, 2.0]</td>\n",
       "      <td>[9.0, 2.3333333333333335]</td>\n",
       "      <td>2</td>\n",
       "    </tr>\n",
       "    <tr>\n",
       "      <th>7</th>\n",
       "      <td>[10.0, 2.0]</td>\n",
       "      <td>[9.0, 2.3333333333333335]</td>\n",
       "      <td>2</td>\n",
       "    </tr>\n",
       "    <tr>\n",
       "      <th>8</th>\n",
       "      <td>[9.0, 3.0]</td>\n",
       "      <td>[9.0, 2.3333333333333335]</td>\n",
       "      <td>2</td>\n",
       "    </tr>\n",
       "  </tbody>\n",
       "</table>\n",
       "</div>"
      ],
      "text/plain": [
       "   Sample_data                                 Centroids  Clusters\n",
       "0   [1.0, 2.0]  [1.1666666666666667, 1.4666666666666668]         0\n",
       "1   [1.5, 1.8]  [1.1666666666666667, 1.4666666666666668]         0\n",
       "2   [5.0, 8.0]                  [7.333333333333333, 9.0]         1\n",
       "3   [8.0, 8.0]                  [7.333333333333333, 9.0]         1\n",
       "4   [1.0, 0.6]  [1.1666666666666667, 1.4666666666666668]         0\n",
       "5  [9.0, 11.0]                  [7.333333333333333, 9.0]         1\n",
       "6   [8.0, 2.0]                 [9.0, 2.3333333333333335]         2\n",
       "7  [10.0, 2.0]                 [9.0, 2.3333333333333335]         2\n",
       "8   [9.0, 3.0]                 [9.0, 2.3333333333333335]         2"
      ]
     },
     "execution_count": 5,
     "metadata": {},
     "output_type": "execute_result"
    }
   ],
   "source": [
    "# meanshift 수행\n",
    "bandwidth = 4\n",
    "centroids = mean_shift(X, bandwidth)\n",
    "\n",
    "# 군집화 단계 (알고리즘 5-6의 line 12~14에 해당)\n",
    "final_centroids = np.zeros_like(centroids)\n",
    "for i in range(len(centroids)):\n",
    "    in_bandwidth = []\n",
    "    for j in range(len(centroids)):\n",
    "        if calc_euclidean_distance(centroids[i], centroids[j]) <= bandwidth:\n",
    "            in_bandwidth.append(centroids[j])\n",
    "\n",
    "    final_centroids[i] = np.average(in_bandwidth, axis=0)\n",
    "unique_centroids = np.unique(final_centroids, axis=0)\n",
    "\n",
    "clusters = dict(zip(range(len(unique_centroids)), np.array([unique_centroids[i,:] for i in range(len(unique_centroids))])))\n",
    "getcluster = lambda val : [k for k,v in clusters.items() if (v == val).sum()==len(val)][0]\n",
    "df = pd.DataFrame(columns=['Sample_data','Centroids','Clusters'])\n",
    "df['Sample_data'] = tuple(X)\n",
    "df['Centroids']   = tuple(final_centroids)\n",
    "df['Clusters']    = [getcluster(final_centroids[i]) for i in range(len(final_centroids))]\n",
    "df"
   ]
  },
  {
   "cell_type": "code",
   "execution_count": 6,
   "metadata": {},
   "outputs": [
    {
     "data": {
      "image/png": "[encoded data removed]",
      "text/plain": [
       "<Figure size 504x504 with 1 Axes>"
      ]
     },
     "metadata": {
      "needs_background": "light"
     },
     "output_type": "display_data"
    }
   ],
   "source": [
    "# 그래프에 결과 그리기\n",
    "plt.figure(figsize=(7, 7))\n",
    "plt.scatter(X[:, 0], X[:, 1], color='b', s=50, zorder=2)\n",
    "for c in centroids:\n",
    "    plt.scatter(unique_centroids[:, 0], unique_centroids[:, 1], color='r', marker='x', s=50, zorder=2)\n",
    "plt.grid()\n",
    "# plt.axis([0, 12, 0, 12])\n",
    "plt.gca().set_aspect(\"equal\")\n",
    "plt.show()"
   ]
  },
  {
   "cell_type": "markdown",
   "metadata": {},
   "source": [
    "# +) 중심점 업데이트 내역 확인하기"
   ]
  },
  {
   "cell_type": "code",
   "execution_count": 7,
   "metadata": {},
   "outputs": [
    {
     "data": {
      "text/html": [
       "<div>\n",
       "<style scoped>\n",
       "    .dataframe tbody tr th:only-of-type {\n",
       "        vertical-align: middle;\n",
       "    }\n",
       "\n",
       "    .dataframe tbody tr th {\n",
       "        vertical-align: top;\n",
       "    }\n",
       "\n",
       "    .dataframe thead th {\n",
       "        text-align: right;\n",
       "    }\n",
       "</style>\n",
       "<table border=\"1\" class=\"dataframe\">\n",
       "  <thead>\n",
       "    <tr style=\"text-align: right;\">\n",
       "      <th></th>\n",
       "      <th>Sample_data</th>\n",
       "      <th>Centroids</th>\n",
       "      <th>Iter #0</th>\n",
       "      <th>Iter #1</th>\n",
       "      <th>Iter #2</th>\n",
       "    </tr>\n",
       "  </thead>\n",
       "  <tbody>\n",
       "    <tr>\n",
       "      <th>0</th>\n",
       "      <td>[1.0, 2.0]</td>\n",
       "      <td>[1.17, 1.47]</td>\n",
       "      <td>(1.0, 2.0)</td>\n",
       "      <td>(1.17, 1.47)</td>\n",
       "      <td></td>\n",
       "    </tr>\n",
       "    <tr>\n",
       "      <th>1</th>\n",
       "      <td>[1.5, 1.8]</td>\n",
       "      <td>[1.17, 1.47]</td>\n",
       "      <td>(1.5, 1.8)</td>\n",
       "      <td>(1.17, 1.47)</td>\n",
       "      <td></td>\n",
       "    </tr>\n",
       "    <tr>\n",
       "      <th>2</th>\n",
       "      <td>[5.0, 8.0]</td>\n",
       "      <td>[7.33, 9.0]</td>\n",
       "      <td>(5.0, 8.0)</td>\n",
       "      <td>(6.5, 8.0)</td>\n",
       "      <td>(7.33, 9.0)</td>\n",
       "    </tr>\n",
       "    <tr>\n",
       "      <th>3</th>\n",
       "      <td>[8.0, 8.0]</td>\n",
       "      <td>[7.33, 9.0]</td>\n",
       "      <td>(8.0, 8.0)</td>\n",
       "      <td>(7.33, 9.0)</td>\n",
       "      <td></td>\n",
       "    </tr>\n",
       "    <tr>\n",
       "      <th>4</th>\n",
       "      <td>[1.0, 0.6]</td>\n",
       "      <td>[1.17, 1.47]</td>\n",
       "      <td>(1.0, 0.6)</td>\n",
       "      <td>(1.17, 1.47)</td>\n",
       "      <td></td>\n",
       "    </tr>\n",
       "    <tr>\n",
       "      <th>5</th>\n",
       "      <td>[9.0, 11.0]</td>\n",
       "      <td>[7.33, 9.0]</td>\n",
       "      <td>(9.0, 11.0)</td>\n",
       "      <td>(8.5, 9.5)</td>\n",
       "      <td>(7.33, 9.0)</td>\n",
       "    </tr>\n",
       "    <tr>\n",
       "      <th>6</th>\n",
       "      <td>[8.0, 2.0]</td>\n",
       "      <td>[9.0, 2.33]</td>\n",
       "      <td>(8.0, 2.0)</td>\n",
       "      <td>(9.0, 2.33)</td>\n",
       "      <td></td>\n",
       "    </tr>\n",
       "    <tr>\n",
       "      <th>7</th>\n",
       "      <td>[10.0, 2.0]</td>\n",
       "      <td>[9.0, 2.33]</td>\n",
       "      <td>(10.0, 2.0)</td>\n",
       "      <td>(9.0, 2.33)</td>\n",
       "      <td></td>\n",
       "    </tr>\n",
       "    <tr>\n",
       "      <th>8</th>\n",
       "      <td>[9.0, 3.0]</td>\n",
       "      <td>[9.0, 2.33]</td>\n",
       "      <td>(9.0, 3.0)</td>\n",
       "      <td>(9.0, 2.33)</td>\n",
       "      <td></td>\n",
       "    </tr>\n",
       "  </tbody>\n",
       "</table>\n",
       "</div>"
      ],
      "text/plain": [
       "   Sample_data     Centroids      Iter #0       Iter #1      Iter #2\n",
       "0   [1.0, 2.0]  [1.17, 1.47]   (1.0, 2.0)  (1.17, 1.47)             \n",
       "1   [1.5, 1.8]  [1.17, 1.47]   (1.5, 1.8)  (1.17, 1.47)             \n",
       "2   [5.0, 8.0]   [7.33, 9.0]   (5.0, 8.0)    (6.5, 8.0)  (7.33, 9.0)\n",
       "3   [8.0, 8.0]   [7.33, 9.0]   (8.0, 8.0)   (7.33, 9.0)             \n",
       "4   [1.0, 0.6]  [1.17, 1.47]   (1.0, 0.6)  (1.17, 1.47)             \n",
       "5  [9.0, 11.0]   [7.33, 9.0]  (9.0, 11.0)    (8.5, 9.5)  (7.33, 9.0)\n",
       "6   [8.0, 2.0]   [9.0, 2.33]   (8.0, 2.0)   (9.0, 2.33)             \n",
       "7  [10.0, 2.0]   [9.0, 2.33]  (10.0, 2.0)   (9.0, 2.33)             \n",
       "8   [9.0, 3.0]   [9.0, 2.33]   (9.0, 3.0)   (9.0, 2.33)             "
      ]
     },
     "execution_count": 7,
     "metadata": {},
     "output_type": "execute_result"
    }
   ],
   "source": [
    "# meanshift 수행\n",
    "bandwidth = 4\n",
    "centroids, history = mean_shift_with_history(X, bandwidth)\n",
    "\n",
    "# 중심점 업데이트 내역 테이블 생성\n",
    "hist = copy.deepcopy(history)\n",
    "centroids = np.round(centroids, 2)\n",
    "n_iter = max([len(arr) for arr in hist.values()])\n",
    "columns = ['Sample_data', 'Centroids']\n",
    "for i in range(n_iter):\n",
    "    columns.append('Iter #%d' % i)\n",
    "df = pd.DataFrame(columns=columns)\n",
    "\n",
    "for i in range(len(X)):\n",
    "    n = len(hist[i])\n",
    "    \n",
    "    for j in range(n_iter):\n",
    "        if j < n:\n",
    "            hist[i][j] = (round(hist[i][j][0], 2), round(hist[i][j][1], 2))\n",
    "        else:\n",
    "            hist[i].append('')\n",
    "\n",
    "df['Sample_data'] = tuple(X)\n",
    "df['Centroids']   = tuple(centroids)\n",
    "for i in range(n_iter):\n",
    "    points = [hist[j][i] for j in range(len(X))]\n",
    "    df['Iter #%d' % i] = tuple(points)\n",
    "\n",
    "df"
   ]
  },
  {
   "cell_type": "code",
   "execution_count": 8,
   "metadata": {},
   "outputs": [
    {
     "data": {
      "image/png": "[encoded data removed]",
      "text/plain": [
       "<Figure size 504x504 with 1 Axes>"
      ]
     },
     "metadata": {
      "needs_background": "light"
     },
     "output_type": "display_data"
    },
    {
     "data": {
      "image/png": "[encoded data removed]",
      "text/plain": [
       "<Figure size 504x504 with 1 Axes>"
      ]
     },
     "metadata": {
      "needs_background": "light"
     },
     "output_type": "display_data"
    },
    {
     "data": {
      "image/png": "[encoded data removed]",
      "text/plain": [
       "<Figure size 504x504 with 1 Axes>"
      ]
     },
     "metadata": {
      "needs_background": "light"
     },
     "output_type": "display_data"
    }
   ],
   "source": [
    "# 중심점 업데이트 내역 시각화\n",
    "hist = copy.deepcopy(history)\n",
    "for i in range(len(X)):\n",
    "    n = len(hist[i])\n",
    "    \n",
    "    for j in range(n_iter):\n",
    "        if j < n:\n",
    "            hist[i][j] = (round(hist[i][j][0], 2), round(hist[i][j][1], 2))\n",
    "        else:\n",
    "            hist[i].append(hist[i][-1])\n",
    "                \n",
    "for i in range(n_iter):\n",
    "    plt.figure(figsize=(7, 7))\n",
    "    \n",
    "    for j in range(len(X)):\n",
    "        plt.scatter(X[:,0], X[:,1], color='b', marker='o',  s=30, zorder=1)\n",
    "        plt.scatter(hist[j][i][0], hist[j][i][1], color='r', marker='x',  s=15, zorder=2)\n",
    "    plt.title('iteration %d'%i)\n",
    "    plt.grid()\n",
    "    plt.gca().set_aspect(\"equal\")\n",
    "    plt.show() "
   ]
  }
 ],
 "metadata": {
  "kernelspec": {
   "display_name": "Python 3 (ipykernel)",
   "language": "python",
   "name": "python3"
  },
  "language_info": {
   "codemirror_mode": {
    "name": "ipython",
    "version": 3
   },
   "file_extension": ".py",
   "mimetype": "text/x-python",
   "name": "python",
   "nbconvert_exporter": "python",
   "pygments_lexer": "ipython3",
   "version": "3.9.0"
  }
 },
 "nbformat": 4,
 "nbformat_minor": 4
}
