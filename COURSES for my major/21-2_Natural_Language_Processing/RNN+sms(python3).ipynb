{
  "nbformat": 4,
  "nbformat_minor": 5,
  "metadata": {
    "kernelspec": {
      "display_name": "conda_pytorch_p27",
      "language": "python",
      "name": "conda_pytorch_p27"
    },
    "colab": {
      "name": "RNN+sms",
      "provenance": [],
      "collapsed_sections": []
    }
  },
  "cells": [
    {
      "cell_type": "code",
      "metadata": {
        "id": "6263b81a"
      },
      "source": [
        "max_length=256 #sms 최대길이"
      ],
      "id": "6263b81a",
      "execution_count": 7,
      "outputs": []
    },
    {
      "cell_type": "markdown",
      "metadata": {
        "id": "c9c1be1b"
      },
      "source": [
        "## 1. 데이터 불러오기"
      ],
      "id": "c9c1be1b"
    },
    {
      "cell_type": "code",
      "metadata": {
        "id": "c457a591"
      },
      "source": [
        "import pandas as pd"
      ],
      "id": "c457a591",
      "execution_count": 8,
      "outputs": []
    },
    {
      "cell_type": "code",
      "metadata": {
        "colab": {
          "base_uri": "https://localhost:8080/"
        },
        "id": "ae09c522",
        "outputId": "f0698238-169c-40d7-fd7b-f30448a2981d"
      },
      "source": [
        "df=pd.read_csv('sms.tsv',sep='\\t',)\n",
        "print (df.columns)\n",
        "print (df.shape)"
      ],
      "id": "ae09c522",
      "execution_count": 9,
      "outputs": [
        {
          "output_type": "stream",
          "name": "stdout",
          "text": [
            "Index(['label', 'sms'], dtype='object')\n",
            "(5572, 2)\n"
          ]
        }
      ]
    },
    {
      "cell_type": "code",
      "metadata": {
        "colab": {
          "base_uri": "https://localhost:8080/",
          "height": 204
        },
        "id": "621f75e2",
        "outputId": "d4575609-4156-486a-8f7d-b2af6cc0845d"
      },
      "source": [
        "df.head()"
      ],
      "id": "621f75e2",
      "execution_count": 10,
      "outputs": [
        {
          "output_type": "execute_result",
          "data": {
            "text/html": [
              "<div>\n",
              "<style scoped>\n",
              "    .dataframe tbody tr th:only-of-type {\n",
              "        vertical-align: middle;\n",
              "    }\n",
              "\n",
              "    .dataframe tbody tr th {\n",
              "        vertical-align: top;\n",
              "    }\n",
              "\n",
              "    .dataframe thead th {\n",
              "        text-align: right;\n",
              "    }\n",
              "</style>\n",
              "<table border=\"1\" class=\"dataframe\">\n",
              "  <thead>\n",
              "    <tr style=\"text-align: right;\">\n",
              "      <th></th>\n",
              "      <th>label</th>\n",
              "      <th>sms</th>\n",
              "    </tr>\n",
              "  </thead>\n",
              "  <tbody>\n",
              "    <tr>\n",
              "      <th>0</th>\n",
              "      <td>ham</td>\n",
              "      <td>Go until jurong point, crazy.. Available only ...</td>\n",
              "    </tr>\n",
              "    <tr>\n",
              "      <th>1</th>\n",
              "      <td>ham</td>\n",
              "      <td>Ok lar... Joking wif u oni...</td>\n",
              "    </tr>\n",
              "    <tr>\n",
              "      <th>2</th>\n",
              "      <td>spam</td>\n",
              "      <td>Free entry in 2 a wkly comp to win FA Cup fina...</td>\n",
              "    </tr>\n",
              "    <tr>\n",
              "      <th>3</th>\n",
              "      <td>ham</td>\n",
              "      <td>U dun say so early hor... U c already then say...</td>\n",
              "    </tr>\n",
              "    <tr>\n",
              "      <th>4</th>\n",
              "      <td>ham</td>\n",
              "      <td>Nah I don't think he goes to usf, he lives aro...</td>\n",
              "    </tr>\n",
              "  </tbody>\n",
              "</table>\n",
              "</div>"
            ],
            "text/plain": [
              "  label                                                sms\n",
              "0   ham  Go until jurong point, crazy.. Available only ...\n",
              "1   ham                      Ok lar... Joking wif u oni...\n",
              "2  spam  Free entry in 2 a wkly comp to win FA Cup fina...\n",
              "3   ham  U dun say so early hor... U c already then say...\n",
              "4   ham  Nah I don't think he goes to usf, he lives aro..."
            ]
          },
          "metadata": {},
          "execution_count": 10
        }
      ]
    },
    {
      "cell_type": "code",
      "metadata": {
        "colab": {
          "base_uri": "https://localhost:8080/"
        },
        "id": "6f54316d",
        "outputId": "a371013c-3e15-44ca-a2fd-d130ecde387f"
      },
      "source": [
        "# 클래스 파악\n",
        "classes = sorted(set(df['label']))\n",
        "class_to_idx={}\n",
        "\n",
        "for i, c in enumerate(classes):\n",
        "    class_to_idx.update({c: i})\n",
        "    \n",
        "nclass=len(classes)\n",
        "\n",
        "print (\"# of classes: %d\"%nclass)\n",
        "print (classes)\n",
        "print (class_to_idx)"
      ],
      "id": "6f54316d",
      "execution_count": 11,
      "outputs": [
        {
          "output_type": "stream",
          "name": "stdout",
          "text": [
            "# of classes: 2\n",
            "['ham', 'spam']\n",
            "{'ham': 0, 'spam': 1}\n"
          ]
        }
      ]
    },
    {
      "cell_type": "markdown",
      "metadata": {
        "id": "8a21a681"
      },
      "source": [
        "## 2. 새로운 DataFrame\n",
        "\n",
        "### 1) 'label,sms' 만 남기기\n",
        "### 2) 최대 텍스트 길이 만큼 자르기 # pandas.Series.str.slice\n",
        "\n",
        "- '성별, 가사' 만 남기려면?"
      ],
      "id": "8a21a681"
    },
    {
      "cell_type": "code",
      "metadata": {
        "id": "5286c028"
      },
      "source": [
        "new_df = pd.DataFrame({'label':df['label'],\n",
        "                      'sms':df['sms'].str.slice(\n",
        "                      start=0, stop=max_length)\n",
        "                      })"
      ],
      "id": "5286c028",
      "execution_count": 12,
      "outputs": []
    },
    {
      "cell_type": "markdown",
      "metadata": {
        "id": "9a2f548b"
      },
      "source": [
        "### 3) 중복 제거"
      ],
      "id": "9a2f548b"
    },
    {
      "cell_type": "code",
      "metadata": {
        "colab": {
          "base_uri": "https://localhost:8080/"
        },
        "id": "6c22e50f",
        "outputId": "58aa756e-71ce-47ed-d57e-291a0ec530f4"
      },
      "source": [
        "len(new_df)"
      ],
      "id": "6c22e50f",
      "execution_count": 13,
      "outputs": [
        {
          "output_type": "execute_result",
          "data": {
            "text/plain": [
              "5572"
            ]
          },
          "metadata": {},
          "execution_count": 13
        }
      ]
    },
    {
      "cell_type": "code",
      "metadata": {
        "id": "3e72b41d"
      },
      "source": [
        "new_df=pd.DataFrame(new_df.drop_duplicates())"
      ],
      "id": "3e72b41d",
      "execution_count": 14,
      "outputs": []
    },
    {
      "cell_type": "code",
      "metadata": {
        "colab": {
          "base_uri": "https://localhost:8080/"
        },
        "id": "97a4f728",
        "outputId": "58a1e772-d6f8-41c9-9604-326e1b33c64b"
      },
      "source": [
        "len(new_df)"
      ],
      "id": "97a4f728",
      "execution_count": 15,
      "outputs": [
        {
          "output_type": "execute_result",
          "data": {
            "text/plain": [
              "5169"
            ]
          },
          "metadata": {},
          "execution_count": 15
        }
      ]
    },
    {
      "cell_type": "markdown",
      "metadata": {
        "id": "65073b63"
      },
      "source": [
        "### 4) 셔플"
      ],
      "id": "65073b63"
    },
    {
      "cell_type": "code",
      "metadata": {
        "colab": {
          "base_uri": "https://localhost:8080/",
          "height": 204
        },
        "id": "78fd2824",
        "outputId": "6d304d79-8e16-4af6-8103-ca3a5c53f6f7"
      },
      "source": [
        "df_shuffled=new_df.sample(frac=1).reset_index(drop=True)\n",
        "df_shuffled.head()"
      ],
      "id": "78fd2824",
      "execution_count": 16,
      "outputs": [
        {
          "output_type": "execute_result",
          "data": {
            "text/html": [
              "<div>\n",
              "<style scoped>\n",
              "    .dataframe tbody tr th:only-of-type {\n",
              "        vertical-align: middle;\n",
              "    }\n",
              "\n",
              "    .dataframe tbody tr th {\n",
              "        vertical-align: top;\n",
              "    }\n",
              "\n",
              "    .dataframe thead th {\n",
              "        text-align: right;\n",
              "    }\n",
              "</style>\n",
              "<table border=\"1\" class=\"dataframe\">\n",
              "  <thead>\n",
              "    <tr style=\"text-align: right;\">\n",
              "      <th></th>\n",
              "      <th>label</th>\n",
              "      <th>sms</th>\n",
              "    </tr>\n",
              "  </thead>\n",
              "  <tbody>\n",
              "    <tr>\n",
              "      <th>0</th>\n",
              "      <td>ham</td>\n",
              "      <td>There the size of elephant tablets &amp; u shove u...</td>\n",
              "    </tr>\n",
              "    <tr>\n",
              "      <th>1</th>\n",
              "      <td>ham</td>\n",
              "      <td>Prof: you have passed in all the papers in thi...</td>\n",
              "    </tr>\n",
              "    <tr>\n",
              "      <th>2</th>\n",
              "      <td>ham</td>\n",
              "      <td>It'll be tough, but I'll do what I have to</td>\n",
              "    </tr>\n",
              "    <tr>\n",
              "      <th>3</th>\n",
              "      <td>ham</td>\n",
              "      <td>1 in cbe. 2 in chennai.</td>\n",
              "    </tr>\n",
              "    <tr>\n",
              "      <th>4</th>\n",
              "      <td>ham</td>\n",
              "      <td>G.W.R</td>\n",
              "    </tr>\n",
              "  </tbody>\n",
              "</table>\n",
              "</div>"
            ],
            "text/plain": [
              "  label                                                sms\n",
              "0   ham  There the size of elephant tablets & u shove u...\n",
              "1   ham  Prof: you have passed in all the papers in thi...\n",
              "2   ham         It'll be tough, but I'll do what I have to\n",
              "3   ham                            1 in cbe. 2 in chennai.\n",
              "4   ham                                              G.W.R"
            ]
          },
          "metadata": {},
          "execution_count": 16
        }
      ]
    },
    {
      "cell_type": "markdown",
      "metadata": {
        "id": "e6268065"
      },
      "source": [
        "### 5) train, test 나누기"
      ],
      "id": "e6268065"
    },
    {
      "cell_type": "code",
      "metadata": {
        "colab": {
          "base_uri": "https://localhost:8080/"
        },
        "id": "a6b64728",
        "outputId": "c954c797-72c6-4a5c-b838-ce018ccdd198"
      },
      "source": [
        "# train: test = 9: 1\n",
        "# train: test = 540: 60 -> train:valid:test=432:108:60\n",
        "train_ratio=0.9\n",
        "\n",
        "#train dataset\n",
        "s,e = 0, int(df_shuffled.shape[0]*train_ratio) # #of rows\n",
        "df_train = pd.DataFrame({'label':df_shuffled['label'][s:e],\n",
        "                        'sms':df_shuffled['sms'][s:e]})\n",
        "print (\"index for train: %d-%d\"%(s,e))\n",
        "\n",
        "#test dataset\n",
        "s,e=e,e+int(df_shuffled.shape[0]*(1.0-train_ratio))\n",
        "print (\"index for test: %d-%d\"%(s,e))\n",
        "df_test=pd.DataFrame({'label':df_shuffled['label'][s:e],\n",
        "                        'sms':df_shuffled['sms'][s:e]})"
      ],
      "id": "a6b64728",
      "execution_count": 17,
      "outputs": [
        {
          "output_type": "stream",
          "name": "stdout",
          "text": [
            "index for train: 0-4652\n",
            "index for test: 4652-5168\n"
          ]
        }
      ]
    },
    {
      "cell_type": "code",
      "metadata": {
        "colab": {
          "base_uri": "https://localhost:8080/"
        },
        "id": "6c42304a",
        "outputId": "537e58e6-eb0e-4178-c395-5d2403c14b4d"
      },
      "source": [
        "#column 수 확인\n",
        "print (df_train.shape)\n",
        "print (df_test.shape)"
      ],
      "id": "6c42304a",
      "execution_count": 18,
      "outputs": [
        {
          "output_type": "stream",
          "name": "stdout",
          "text": [
            "(4652, 2)\n",
            "(516, 2)\n"
          ]
        }
      ]
    },
    {
      "cell_type": "markdown",
      "metadata": {
        "id": "c90dd694"
      },
      "source": [
        "### 6) 저장"
      ],
      "id": "c90dd694"
    },
    {
      "cell_type": "code",
      "metadata": {
        "id": "2c5fba67"
      },
      "source": [
        "df_train.to_csv('./sms.maxlen.uniq.shuf.train.tsv',header=False, index=False, sep='\\t')\n",
        "df_test.to_csv('./sms.maxlen.uniq.shuf.test.tsv',header=False, index=False, sep='\\t')"
      ],
      "id": "2c5fba67",
      "execution_count": 19,
      "outputs": []
    },
    {
      "cell_type": "code",
      "metadata": {
        "colab": {
          "base_uri": "https://localhost:8080/"
        },
        "id": "d384c023",
        "outputId": "3f0c0712-64b0-4d2a-d02c-0edc706cc13a"
      },
      "source": [
        "!pip install torchtext==0.4.0"
      ],
      "id": "d384c023",
      "execution_count": 20,
      "outputs": [
        {
          "output_type": "stream",
          "name": "stdout",
          "text": [
            "Collecting torchtext==0.4.0\n",
            "  Downloading torchtext-0.4.0-py3-none-any.whl (53 kB)\n",
            "\u001b[?25l\r\u001b[K     |██████▏                         | 10 kB 23.4 MB/s eta 0:00:01\r\u001b[K     |████████████▍                   | 20 kB 16.7 MB/s eta 0:00:01\r\u001b[K     |██████████████████▌             | 30 kB 10.5 MB/s eta 0:00:01\r\u001b[K     |████████████████████████▊       | 40 kB 8.9 MB/s eta 0:00:01\r\u001b[K     |██████████████████████████████▉ | 51 kB 4.4 MB/s eta 0:00:01\r\u001b[K     |████████████████████████████████| 53 kB 1.3 MB/s \n",
            "\u001b[?25hRequirement already satisfied: requests in /usr/local/lib/python3.7/dist-packages (from torchtext==0.4.0) (2.23.0)\n",
            "Requirement already satisfied: tqdm in /usr/local/lib/python3.7/dist-packages (from torchtext==0.4.0) (4.62.3)\n",
            "Requirement already satisfied: six in /usr/local/lib/python3.7/dist-packages (from torchtext==0.4.0) (1.15.0)\n",
            "Requirement already satisfied: torch in /usr/local/lib/python3.7/dist-packages (from torchtext==0.4.0) (1.10.0+cu111)\n",
            "Requirement already satisfied: numpy in /usr/local/lib/python3.7/dist-packages (from torchtext==0.4.0) (1.19.5)\n",
            "Requirement already satisfied: idna<3,>=2.5 in /usr/local/lib/python3.7/dist-packages (from requests->torchtext==0.4.0) (2.10)\n",
            "Requirement already satisfied: urllib3!=1.25.0,!=1.25.1,<1.26,>=1.21.1 in /usr/local/lib/python3.7/dist-packages (from requests->torchtext==0.4.0) (1.24.3)\n",
            "Requirement already satisfied: certifi>=2017.4.17 in /usr/local/lib/python3.7/dist-packages (from requests->torchtext==0.4.0) (2021.10.8)\n",
            "Requirement already satisfied: chardet<4,>=3.0.2 in /usr/local/lib/python3.7/dist-packages (from requests->torchtext==0.4.0) (3.0.4)\n",
            "Requirement already satisfied: typing-extensions in /usr/local/lib/python3.7/dist-packages (from torch->torchtext==0.4.0) (3.10.0.2)\n",
            "Installing collected packages: torchtext\n",
            "  Attempting uninstall: torchtext\n",
            "    Found existing installation: torchtext 0.11.0\n",
            "    Uninstalling torchtext-0.11.0:\n",
            "      Successfully uninstalled torchtext-0.11.0\n",
            "Successfully installed torchtext-0.4.0\n"
          ]
        }
      ]
    },
    {
      "cell_type": "code",
      "metadata": {
        "id": "732afea9"
      },
      "source": [
        "import torchtext\n",
        "import numpy as np"
      ],
      "id": "732afea9",
      "execution_count": 21,
      "outputs": []
    },
    {
      "cell_type": "code",
      "metadata": {
        "id": "febd3197"
      },
      "source": [
        "from data_loader import DataLoader"
      ],
      "id": "febd3197",
      "execution_count": 22,
      "outputs": []
    },
    {
      "cell_type": "markdown",
      "metadata": {
        "id": "125579d0"
      },
      "source": [
        "# RNN+SMS 구현\n",
        "## 0.1 라이브러리 임포트"
      ],
      "id": "125579d0"
    },
    {
      "cell_type": "code",
      "metadata": {
        "id": "df790e1f"
      },
      "source": [
        "import torch\n",
        "import torch.nn as nn\n",
        "import torchvision.datasets as dset\n",
        "import torchvision.transforms as transforms\n",
        "import matplotlib.pyplot as plt\n",
        "from torch.autograd import Variable\n",
        "import numpy as np"
      ],
      "id": "df790e1f",
      "execution_count": 23,
      "outputs": []
    },
    {
      "cell_type": "markdown",
      "metadata": {
        "id": "2eb541e3"
      },
      "source": [
        "## 0.2 하이퍼파라미터 셋팅"
      ],
      "id": "2eb541e3"
    },
    {
      "cell_type": "code",
      "metadata": {
        "id": "abd7284e"
      },
      "source": [
        "# Hyper-parameters\n",
        "batch_size=128\n",
        "num_epochs=10\n",
        "\n",
        "word_vec_size=256\n",
        "dropout_p=0.3\n",
        "\n",
        "hidden_size=512\n",
        "num_layers=4\n",
        "\n",
        "learning_rate=0.0001"
      ],
      "id": "abd7284e",
      "execution_count": 24,
      "outputs": []
    },
    {
      "cell_type": "code",
      "metadata": {
        "id": "2a9bf901"
      },
      "source": [
        "#Device configuration\n",
        "device=torch.device('cuda' if torch.cuda.is_available() else 'cpu')"
      ],
      "id": "2a9bf901",
      "execution_count": 25,
      "outputs": []
    },
    {
      "cell_type": "markdown",
      "metadata": {
        "id": "c17c0129"
      },
      "source": [
        "## 1. SMS train, test dataset 가져오기"
      ],
      "id": "c17c0129"
    },
    {
      "cell_type": "code",
      "metadata": {
        "id": "1b2bca83"
      },
      "source": [
        "from data_loader import DataLoader"
      ],
      "id": "1b2bca83",
      "execution_count": 26,
      "outputs": []
    },
    {
      "cell_type": "code",
      "metadata": {
        "id": "dd0bc915"
      },
      "source": [
        "loaders=DataLoader(\n",
        "    train_fn='./sms.maxlen.uniq.shuf.train.tsv',\n",
        "    batch_size=batch_size,\n",
        "    valid_ratio=.2,\n",
        "    device=-1,\n",
        "    max_vocab=999999,\n",
        "    min_freq=5,\n",
        ")"
      ],
      "id": "dd0bc915",
      "execution_count": 27,
      "outputs": []
    },
    {
      "cell_type": "code",
      "metadata": {
        "id": "d545f13b"
      },
      "source": [
        "test_loaders=DataLoader(\n",
        "    train_fn='./sms.maxlen.uniq.shuf.test.tsv',\n",
        "    batch_size=batch_size,\n",
        "    valid_ratio=.01,\n",
        "    device=-1,\n",
        "    max_vocab=999999,\n",
        "    min_freq=5,\n",
        ")"
      ],
      "id": "d545f13b",
      "execution_count": 28,
      "outputs": []
    },
    {
      "cell_type": "markdown",
      "metadata": {
        "id": "1436a1d2"
      },
      "source": [
        "## 2. 대략적인 데이터 형태"
      ],
      "id": "1436a1d2"
    },
    {
      "cell_type": "code",
      "metadata": {
        "colab": {
          "base_uri": "https://localhost:8080/"
        },
        "id": "6d29090b",
        "outputId": "736953b1-94b6-416b-ecbc-6721f8c2bf28"
      },
      "source": [
        "print (\"[train]=\",len(loaders.train_loader.dataset),\"[valid]=\",len(loaders.valid_loader.dataset))\n",
        "\n",
        "vocab_size=len(loaders.text.vocab)\n",
        "num_classes=len(loaders.label.vocab)\n",
        "print (\"[vocab]=\",vocab_size,'[classes]=',num_classes)"
      ],
      "id": "6d29090b",
      "execution_count": 29,
      "outputs": [
        {
          "output_type": "stream",
          "name": "stdout",
          "text": [
            "[train]= 3722 [valid]= 930\n",
            "[vocab]= 1540 [classes]= 2\n"
          ]
        }
      ]
    },
    {
      "cell_type": "markdown",
      "metadata": {
        "id": "1a3fd176"
      },
      "source": [
        "## 3. 데이터 로드함수\n",
        "학습시킬 때 batch_size 단위로 끊어서 로드하기 위함\n",
        "\n",
        "### 데이터 로드함수 이해하기"
      ],
      "id": "1a3fd176"
    },
    {
      "cell_type": "code",
      "metadata": {
        "colab": {
          "base_uri": "https://localhost:8080/"
        },
        "id": "648ed89c",
        "outputId": "07a690df-0a3b-43e1-ee36-8fb2cb96d761"
      },
      "source": [
        "n=3 #샘플로 출력할 데이터 갯\n",
        "for i, data in enumerate(loaders.train_loader):\n",
        "    labels=data.label\n",
        "    texts=data.text\n",
        "    \n",
        "    if i>n:\n",
        "        break\n",
        "    \n",
        "    print (\"[%d]\"%i)\n",
        "    print (\"한번에 로드되는 데이터 크기:\",len(labels))\n",
        "    \n",
        "    # 출력\n",
        "    for j in range(n):\n",
        "        label=labels[j].numpy()\n",
        "        text=texts[j].numpy()\n",
        "        print (\"label:\",label)\n",
        "        print (\"text:\",text.shape)"
      ],
      "id": "648ed89c",
      "execution_count": 30,
      "outputs": [
        {
          "output_type": "stream",
          "name": "stdout",
          "text": [
            "[0]\n",
            "한번에 로드되는 데이터 크기: 128\n",
            "label: 0\n",
            "text: (8,)\n",
            "label: 0\n",
            "text: (8,)\n",
            "label: 0\n",
            "text: (8,)\n",
            "[1]\n",
            "한번에 로드되는 데이터 크기: 128\n",
            "label: 0\n",
            "text: (19,)\n",
            "label: 0\n",
            "text: (19,)\n",
            "label: 1\n",
            "text: (19,)\n",
            "[2]\n",
            "한번에 로드되는 데이터 크기: 10\n",
            "label: 0\n",
            "text: (60,)\n",
            "label: 0\n",
            "text: (60,)\n",
            "label: 0\n",
            "text: (60,)\n",
            "[3]\n",
            "한번에 로드되는 데이터 크기: 128\n",
            "label: 0\n",
            "text: (5,)\n",
            "label: 0\n",
            "text: (5,)\n",
            "label: 0\n",
            "text: (5,)\n"
          ]
        }
      ]
    },
    {
      "cell_type": "markdown",
      "metadata": {
        "id": "2a1f631b"
      },
      "source": [
        "## 4. 모델선언"
      ],
      "id": "2a1f631b"
    },
    {
      "cell_type": "code",
      "metadata": {
        "id": "b9b49561"
      },
      "source": [
        "class RNN(nn.Module):\n",
        "    def __init__(self,\n",
        "                 input_size,\n",
        "                 word_vec_size,\n",
        "                 hidden_size, \n",
        "                 n_classes,\n",
        "                 num_layers=4,\n",
        "                 dropout_p=0.3\n",
        "                ):\n",
        "        super(RNN, self).__init__()\n",
        "        \n",
        "        self.input_size=input_size\n",
        "        self.sord_vec_size=word_vec_size\n",
        "        self.hidden_size = hidden_size\n",
        "        self.n_classes=n_classes\n",
        "        self.num_layers = num_layers\n",
        "        self.dropout_p=dropout_p\n",
        "        \n",
        "        self.emb=nn.Embedding(input_size,word_vec_size)\n",
        "        \n",
        "        self.lstm=nn.LSTM(input_size=word_vec_size,\n",
        "                         hidden_size=hidden_size,\n",
        "                         num_layers=num_layers,\n",
        "                             dropout=dropout_p,\n",
        "                             batch_first=True,\n",
        "                             bidirectional=True)\n",
        "        \n",
        "        self.fc = nn.Linear(hidden_size*2, num_classes)\n",
        "        self.activation=nn.LogSoftmax(dim=1)\n",
        "        \n",
        "    def forward(self, x):\n",
        "        x=self.emb(x)\n",
        "        \n",
        "        x,_=self.lstm(x)\n",
        "        \n",
        "        out=self.activation(self.fc(x[:,-1]))\n",
        "        \n",
        "        return out"
      ],
      "id": "b9b49561",
      "execution_count": 31,
      "outputs": []
    },
    {
      "cell_type": "code",
      "metadata": {
        "id": "fc6eeab8"
      },
      "source": [
        "model=RNN(input_size=vocab_size,\n",
        "         word_vec_size=word_vec_size,\n",
        "         hidden_size=hidden_size,\n",
        "         n_classes=num_classes,\n",
        "         num_layers=num_layers,\n",
        "         dropout_p=dropout_p)"
      ],
      "id": "fc6eeab8",
      "execution_count": 32,
      "outputs": []
    },
    {
      "cell_type": "code",
      "metadata": {
        "id": "f1fc8e53"
      },
      "source": [
        "def ComputeAccr(dloader, imodel):\n",
        "    correct=0\n",
        "    total=0\n",
        "    \n",
        "    model.eval() #test mode\n",
        "    for i,data in enumerate(dloader):\n",
        "        texts=data.text.to(device)\n",
        "        labels=data.label.to(device)\n",
        "        \n",
        "        # Forward prop.\n",
        "        output=model(texts) \n",
        "        _, output_index=torch.max(output,1) \n",
        "        \n",
        "        total+=labels.size(0)\n",
        "        correct+=(output_index==labels).sum().float()\n",
        "    model.train()\n",
        "    return (100*correct/total).cpu().numpy() "
      ],
      "id": "f1fc8e53",
      "execution_count": 32,
      "outputs": []
    },
    {
      "cell_type": "code",
      "metadata": {
        "colab": {
          "base_uri": "https://localhost:8080/"
        },
        "id": "87ed38db",
        "outputId": "6632cd69-0a7f-4a8f-c833-4b4ef3019fe8"
      },
      "source": [
        "print (\"Accuracy of Test Data: %.2f\"%ComputeAccr(loaders.valid_loader, model))"
      ],
      "id": "87ed38db",
      "execution_count": 33,
      "outputs": [
        {
          "output_type": "stream",
          "name": "stdout",
          "text": [
            "Accuracy of Test Data: 13.66\n"
          ]
        }
      ]
    },
    {
      "cell_type": "markdown",
      "metadata": {
        "id": "25fd9aef"
      },
      "source": [
        "## 5. loss, optimizer"
      ],
      "id": "25fd9aef"
    },
    {
      "cell_type": "code",
      "metadata": {
        "id": "cc581275"
      },
      "source": [
        "loss_func=nn.NLLLoss()\n",
        "optimizer=torch.optim.Adam(model.parameters(),lr=learning_rate)"
      ],
      "id": "cc581275",
      "execution_count": 34,
      "outputs": []
    },
    {
      "cell_type": "markdown",
      "metadata": {
        "id": "0bcdd1be"
      },
      "source": [
        "## 6. 학습"
      ],
      "id": "0bcdd1be"
    },
    {
      "cell_type": "code",
      "metadata": {
        "colab": {
          "base_uri": "https://localhost:8080/"
        },
        "id": "b7d0cb22",
        "outputId": "ab865971-1217-4bf0-9322-0a0689208efd"
      },
      "source": [
        "# Train the model\n",
        "total_step = len(loaders.train_loader)\n",
        "for epoch in range(num_epochs):\n",
        "    for i, data in enumerate(loaders.train_loader):\n",
        "        texts=data.text.to(device) \n",
        "        labels=data.label.to(device) \n",
        "        \n",
        "        print (\"[%d]\" %i)\n",
        "        \n",
        "        # Forward pass\n",
        "        outputs = model(texts)\n",
        "        loss = loss_func(outputs, labels)\n",
        "        \n",
        "        # Backward prop. & optimize\n",
        "        optimizer.zero_grad()\n",
        "        loss.backward()\n",
        "        optimizer.step()\n",
        "        \n",
        "        if (i+1) % 10 == 0:\n",
        "            print ('Epoch [{}/{}], Step [{}/{}], Loss: {:.4f}, Accr:{:.2f}'.format(epoch+1, num_epochs, i+1, total_step,loss.item(),ComputeAccr(loaders.valid_loader,model)))"
      ],
      "id": "b7d0cb22",
      "execution_count": 35,
      "outputs": [
        {
          "output_type": "stream",
          "name": "stdout",
          "text": [
            "[0]\n",
            "[1]\n",
            "[2]\n",
            "[3]\n",
            "[4]\n",
            "[5]\n",
            "[6]\n",
            "[7]\n",
            "[8]\n",
            "[9]\n",
            "Epoch [1/10], Step [10/30], Loss: 0.5870, Accr:86.34\n",
            "[10]\n",
            "[11]\n",
            "[12]\n",
            "[13]\n",
            "[14]\n",
            "[15]\n",
            "[16]\n",
            "[17]\n",
            "[18]\n",
            "[19]\n",
            "Epoch [1/10], Step [20/30], Loss: 0.1645, Accr:86.34\n",
            "[20]\n",
            "[21]\n",
            "[22]\n",
            "[23]\n",
            "[24]\n",
            "[25]\n",
            "[26]\n",
            "[27]\n",
            "[28]\n",
            "[29]\n",
            "Epoch [1/10], Step [30/30], Loss: 2.3479, Accr:86.34\n",
            "[0]\n",
            "[1]\n",
            "[2]\n",
            "[3]\n",
            "[4]\n",
            "[5]\n",
            "[6]\n",
            "[7]\n",
            "[8]\n",
            "[9]\n",
            "Epoch [2/10], Step [10/30], Loss: 0.2583, Accr:86.34\n",
            "[10]\n",
            "[11]\n",
            "[12]\n",
            "[13]\n",
            "[14]\n",
            "[15]\n",
            "[16]\n",
            "[17]\n",
            "[18]\n",
            "[19]\n",
            "Epoch [2/10], Step [20/30], Loss: 0.6211, Accr:86.34\n",
            "[20]\n",
            "[21]\n",
            "[22]\n",
            "[23]\n",
            "[24]\n",
            "[25]\n",
            "[26]\n",
            "[27]\n",
            "[28]\n",
            "[29]\n",
            "Epoch [2/10], Step [30/30], Loss: 0.2413, Accr:86.34\n",
            "[0]\n",
            "[1]\n",
            "[2]\n",
            "[3]\n",
            "[4]\n",
            "[5]\n",
            "[6]\n",
            "[7]\n",
            "[8]\n",
            "[9]\n",
            "Epoch [3/10], Step [10/30], Loss: 0.2489, Accr:86.34\n",
            "[10]\n",
            "[11]\n",
            "[12]\n",
            "[13]\n",
            "[14]\n",
            "[15]\n",
            "[16]\n",
            "[17]\n",
            "[18]\n",
            "[19]\n",
            "Epoch [3/10], Step [20/30], Loss: 0.1587, Accr:86.34\n",
            "[20]\n",
            "[21]\n",
            "[22]\n",
            "[23]\n",
            "[24]\n",
            "[25]\n",
            "[26]\n",
            "[27]\n",
            "[28]\n",
            "[29]\n",
            "Epoch [3/10], Step [30/30], Loss: 0.1981, Accr:87.10\n",
            "[0]\n",
            "[1]\n",
            "[2]\n",
            "[3]\n",
            "[4]\n",
            "[5]\n",
            "[6]\n",
            "[7]\n",
            "[8]\n",
            "[9]\n",
            "Epoch [4/10], Step [10/30], Loss: 0.8491, Accr:88.39\n",
            "[10]\n",
            "[11]\n",
            "[12]\n",
            "[13]\n",
            "[14]\n",
            "[15]\n",
            "[16]\n",
            "[17]\n",
            "[18]\n",
            "[19]\n",
            "Epoch [4/10], Step [20/30], Loss: 0.1136, Accr:89.03\n",
            "[20]\n",
            "[21]\n",
            "[22]\n",
            "[23]\n",
            "[24]\n",
            "[25]\n",
            "[26]\n",
            "[27]\n",
            "[28]\n",
            "[29]\n",
            "Epoch [4/10], Step [30/30], Loss: 0.1996, Accr:90.43\n",
            "[0]\n",
            "[1]\n",
            "[2]\n",
            "[3]\n",
            "[4]\n",
            "[5]\n",
            "[6]\n",
            "[7]\n",
            "[8]\n",
            "[9]\n",
            "Epoch [5/10], Step [10/30], Loss: 0.0366, Accr:90.32\n",
            "[10]\n",
            "[11]\n",
            "[12]\n",
            "[13]\n",
            "[14]\n",
            "[15]\n",
            "[16]\n",
            "[17]\n",
            "[18]\n",
            "[19]\n",
            "Epoch [5/10], Step [20/30], Loss: 0.0907, Accr:83.23\n",
            "[20]\n",
            "[21]\n",
            "[22]\n",
            "[23]\n",
            "[24]\n",
            "[25]\n",
            "[26]\n",
            "[27]\n",
            "[28]\n",
            "[29]\n",
            "Epoch [5/10], Step [30/30], Loss: 0.3830, Accr:89.68\n",
            "[0]\n",
            "[1]\n",
            "[2]\n",
            "[3]\n",
            "[4]\n",
            "[5]\n",
            "[6]\n",
            "[7]\n",
            "[8]\n",
            "[9]\n",
            "Epoch [6/10], Step [10/30], Loss: 0.9929, Accr:86.56\n",
            "[10]\n",
            "[11]\n",
            "[12]\n",
            "[13]\n",
            "[14]\n",
            "[15]\n",
            "[16]\n",
            "[17]\n",
            "[18]\n",
            "[19]\n",
            "Epoch [6/10], Step [20/30], Loss: 0.2044, Accr:90.32\n",
            "[20]\n",
            "[21]\n",
            "[22]\n",
            "[23]\n",
            "[24]\n",
            "[25]\n",
            "[26]\n",
            "[27]\n",
            "[28]\n",
            "[29]\n",
            "Epoch [6/10], Step [30/30], Loss: 0.3387, Accr:90.65\n",
            "[0]\n",
            "[1]\n",
            "[2]\n",
            "[3]\n",
            "[4]\n",
            "[5]\n",
            "[6]\n",
            "[7]\n",
            "[8]\n",
            "[9]\n",
            "Epoch [7/10], Step [10/30], Loss: 0.1591, Accr:92.80\n",
            "[10]\n",
            "[11]\n",
            "[12]\n",
            "[13]\n",
            "[14]\n",
            "[15]\n",
            "[16]\n",
            "[17]\n",
            "[18]\n",
            "[19]\n",
            "Epoch [7/10], Step [20/30], Loss: 0.0505, Accr:93.33\n",
            "[20]\n",
            "[21]\n",
            "[22]\n",
            "[23]\n",
            "[24]\n",
            "[25]\n",
            "[26]\n",
            "[27]\n",
            "[28]\n",
            "[29]\n",
            "Epoch [7/10], Step [30/30], Loss: 0.0457, Accr:94.19\n",
            "[0]\n",
            "[1]\n",
            "[2]\n",
            "[3]\n",
            "[4]\n",
            "[5]\n",
            "[6]\n",
            "[7]\n",
            "[8]\n",
            "[9]\n",
            "Epoch [8/10], Step [10/30], Loss: 0.0389, Accr:94.84\n",
            "[10]\n",
            "[11]\n",
            "[12]\n",
            "[13]\n",
            "[14]\n",
            "[15]\n",
            "[16]\n",
            "[17]\n",
            "[18]\n",
            "[19]\n",
            "Epoch [8/10], Step [20/30], Loss: 0.0191, Accr:95.16\n",
            "[20]\n",
            "[21]\n",
            "[22]\n",
            "[23]\n",
            "[24]\n",
            "[25]\n",
            "[26]\n",
            "[27]\n",
            "[28]\n",
            "[29]\n",
            "Epoch [8/10], Step [30/30], Loss: 0.1136, Accr:95.59\n",
            "[0]\n",
            "[1]\n",
            "[2]\n",
            "[3]\n",
            "[4]\n",
            "[5]\n",
            "[6]\n",
            "[7]\n",
            "[8]\n",
            "[9]\n",
            "Epoch [9/10], Step [10/30], Loss: 0.0042, Accr:96.13\n",
            "[10]\n",
            "[11]\n",
            "[12]\n",
            "[13]\n",
            "[14]\n",
            "[15]\n",
            "[16]\n",
            "[17]\n",
            "[18]\n",
            "[19]\n",
            "Epoch [9/10], Step [20/30], Loss: 0.0367, Accr:95.91\n",
            "[20]\n",
            "[21]\n",
            "[22]\n",
            "[23]\n",
            "[24]\n",
            "[25]\n",
            "[26]\n",
            "[27]\n",
            "[28]\n",
            "[29]\n",
            "Epoch [9/10], Step [30/30], Loss: 0.2671, Accr:95.59\n",
            "[0]\n",
            "[1]\n",
            "[2]\n",
            "[3]\n",
            "[4]\n",
            "[5]\n",
            "[6]\n",
            "[7]\n",
            "[8]\n",
            "[9]\n",
            "Epoch [10/10], Step [10/30], Loss: 0.0188, Accr:95.91\n",
            "[10]\n",
            "[11]\n",
            "[12]\n",
            "[13]\n",
            "[14]\n",
            "[15]\n",
            "[16]\n",
            "[17]\n",
            "[18]\n",
            "[19]\n",
            "Epoch [10/10], Step [20/30], Loss: 0.1123, Accr:96.02\n",
            "[20]\n",
            "[21]\n",
            "[22]\n",
            "[23]\n",
            "[24]\n",
            "[25]\n",
            "[26]\n",
            "[27]\n",
            "[28]\n",
            "[29]\n",
            "Epoch [10/10], Step [30/30], Loss: 0.1084, Accr:94.62\n"
          ]
        }
      ]
    },
    {
      "cell_type": "markdown",
      "metadata": {
        "id": "934f2b09"
      },
      "source": [
        "## 7. 테스트"
      ],
      "id": "934f2b09"
    },
    {
      "cell_type": "code",
      "metadata": {
        "colab": {
          "base_uri": "https://localhost:8080/"
        },
        "id": "a6f323a3",
        "outputId": "03c0c184-270d-4925-e00a-c8a9e300da7d"
      },
      "source": [
        "print (\"Accuracy of valid Data: %.2f\" %ComputeAccr(loaders.valid_loader, model))"
      ],
      "id": "a6f323a3",
      "execution_count": 36,
      "outputs": [
        {
          "output_type": "stream",
          "name": "stdout",
          "text": [
            "Accuracy of valid Data: 94.62\n"
          ]
        }
      ]
    },
    {
      "cell_type": "markdown",
      "metadata": {
        "id": "a7ded3ea"
      },
      "source": [
        "## 8. 학습된 파라미터 저장"
      ],
      "id": "a7ded3ea"
    },
    {
      "cell_type": "code",
      "metadata": {
        "id": "7bbc1e65"
      },
      "source": [
        "netname='./rnn_weight.pkl'\n",
        "torch.save(model, netname,)"
      ],
      "id": "7bbc1e65",
      "execution_count": 39,
      "outputs": []
    },
    {
      "cell_type": "markdown",
      "metadata": {
        "id": "bafc6a26"
      },
      "source": [
        "## 9. 학습된 파라미터 로드"
      ],
      "id": "bafc6a26"
    },
    {
      "cell_type": "code",
      "metadata": {
        "colab": {
          "base_uri": "https://localhost:8080/"
        },
        "id": "d411955e",
        "outputId": "cd6feee5-f6aa-430c-aa08-79f732b445f3"
      },
      "source": [
        "netname='./rnn_weight.pkl'\n",
        "model=torch.load(netname)\n",
        "print (\"Accuracy of Test Data: %.2f\" %ComputeAccr(loaders.valid_loader, model))"
      ],
      "id": "d411955e",
      "execution_count": 44,
      "outputs": [
        {
          "output_type": "stream",
          "name": "stdout",
          "text": [
            "Accuracy of Test Data: 94.62\n"
          ]
        }
      ]
    }
  ]
}