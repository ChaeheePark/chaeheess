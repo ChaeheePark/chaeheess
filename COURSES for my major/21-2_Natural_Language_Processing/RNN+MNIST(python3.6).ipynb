{
 "cells": [
  {
   "cell_type": "markdown",
   "id": "1f17187f",
   "metadata": {},
   "source": [
    "## 0.1 라이브러리 임포트\n"
   ]
  },
  {
   "cell_type": "code",
   "execution_count": 1,
   "id": "d78f8f17",
   "metadata": {},
   "outputs": [],
   "source": [
    "import torch\n",
    "import torch.nn as nn\n",
    "import torchvision.datasets as dset\n",
    "import torchvision.transforms as transforms\n",
    "import matplotlib.pyplot as plt\n",
    "from torch.autograd import Variable"
   ]
  },
  {
   "cell_type": "markdown",
   "id": "80898ee8",
   "metadata": {},
   "source": [
    "## 0.2 하이퍼파라미터 셋팅"
   ]
  },
  {
   "cell_type": "code",
   "execution_count": 2,
   "id": "f9d6bb7d",
   "metadata": {},
   "outputs": [],
   "source": [
    "# Hyper-parameters \n",
    "sequence_length=28\n",
    "input_size=28\n",
    "hidden_size=128\n",
    "num_layers=2\n",
    "\n",
    "num_classes=10\n",
    "batch_size=100\n",
    "num_epochs=7\n",
    "learning_rate=0.01"
   ]
  },
  {
   "cell_type": "code",
   "execution_count": 3,
   "id": "e7179273",
   "metadata": {},
   "outputs": [],
   "source": [
    "# Device configuration\n",
    "device=torch.device('cuda' if torch.cuda.is_available() else 'cpu')"
   ]
  },
  {
   "cell_type": "markdown",
   "id": "d95218ce",
   "metadata": {},
   "source": [
    "## 1. MNIST train, test dataset 가져오기"
   ]
  },
  {
   "cell_type": "code",
   "execution_count": 4,
   "id": "253fc6ed",
   "metadata": {},
   "outputs": [
    {
     "name": "stdout",
     "output_type": "stream",
     "text": [
      "Downloading http://yann.lecun.com/exdb/mnist/train-images-idx3-ubyte.gz to MNIST/raw/train-images-idx3-ubyte.gz\n"
     ]
    },
    {
     "data": {
      "application/vnd.jupyter.widget-view+json": {
       "model_id": "dc63e21b9a384cb08e7e5234a01d3c9f",
       "version_major": 2,
       "version_minor": 0
      },
      "text/plain": [
       "0it [00:00, ?it/s]"
      ]
     },
     "metadata": {},
     "output_type": "display_data"
    },
    {
     "name": "stdout",
     "output_type": "stream",
     "text": [
      "Extracting MNIST/raw/train-images-idx3-ubyte.gz to MNIST/raw\n",
      "Downloading http://yann.lecun.com/exdb/mnist/train-labels-idx1-ubyte.gz to MNIST/raw/train-labels-idx1-ubyte.gz\n"
     ]
    },
    {
     "data": {
      "application/vnd.jupyter.widget-view+json": {
       "model_id": "93c74ff673fb4d00ad0b5ecd88826cc3",
       "version_major": 2,
       "version_minor": 0
      },
      "text/plain": [
       "0it [00:00, ?it/s]"
      ]
     },
     "metadata": {},
     "output_type": "display_data"
    },
    {
     "name": "stdout",
     "output_type": "stream",
     "text": [
      "Extracting MNIST/raw/train-labels-idx1-ubyte.gz to MNIST/raw\n",
      "Downloading http://yann.lecun.com/exdb/mnist/t10k-images-idx3-ubyte.gz to MNIST/raw/t10k-images-idx3-ubyte.gz\n"
     ]
    },
    {
     "data": {
      "application/vnd.jupyter.widget-view+json": {
       "model_id": "c36a85c2e663497394a327631cd2931c",
       "version_major": 2,
       "version_minor": 0
      },
      "text/plain": [
       "0it [00:00, ?it/s]"
      ]
     },
     "metadata": {},
     "output_type": "display_data"
    },
    {
     "name": "stdout",
     "output_type": "stream",
     "text": [
      "Extracting MNIST/raw/t10k-images-idx3-ubyte.gz to MNIST/raw\n",
      "Downloading http://yann.lecun.com/exdb/mnist/t10k-labels-idx1-ubyte.gz to MNIST/raw/t10k-labels-idx1-ubyte.gz\n"
     ]
    },
    {
     "data": {
      "application/vnd.jupyter.widget-view+json": {
       "model_id": "a91817c5ed8f45beb734fc9bf5a65d0c",
       "version_major": 2,
       "version_minor": 0
      },
      "text/plain": [
       "0it [00:00, ?it/s]"
      ]
     },
     "metadata": {},
     "output_type": "display_data"
    },
    {
     "name": "stdout",
     "output_type": "stream",
     "text": [
      "Extracting MNIST/raw/t10k-labels-idx1-ubyte.gz to MNIST/raw\n",
      "Processing...\n",
      "Done!\n"
     ]
    }
   ],
   "source": [
    "mnist_train=dset.MNIST(\"\",train=True,transform=transforms.ToTensor(),\n",
    "                       target_transform=None, download=True) \n",
    "mnist_test=dset.MNIST(\"\",train=False, transform=transforms.ToTensor(),\n",
    "                      target_transform=None,download=True)"
   ]
  },
  {
   "cell_type": "markdown",
   "id": "148954d8",
   "metadata": {},
   "source": [
    "## 2. 대략적인 데이터 형태"
   ]
  },
  {
   "cell_type": "code",
   "execution_count": 5,
   "id": "bf954d9b",
   "metadata": {},
   "outputs": [
    {
     "name": "stdout",
     "output_type": "stream",
     "text": [
      "mnist_train 길이: 60000\n",
      "mnist_test 길이: 10000\n",
      "image data 형태: torch.Size([1, 28, 28])\n",
      "label:  6\n"
     ]
    },
    {
     "data": {
      "image/png": "[encoded data removed]",
      "text/plain": [
       "<Figure size 432x288 with 1 Axes>"
      ]
     },
     "metadata": {
      "needs_background": "light"
     },
     "output_type": "display_data"
    }
   ],
   "source": [
    "print (\"mnist_train 길이:\", len(mnist_train))\n",
    "print (\"mnist_test 길이:\", len(mnist_test))\n",
    "\n",
    "#데이터 하나 형태\n",
    "image, label=mnist_train.__getitem__(1515)\n",
    "print (\"image data 형태:\", image.size())\n",
    "print (\"label: \", label)\n",
    "\n",
    "#그리기\n",
    "img=image.numpy()\n",
    "plt.title(\"label: %d\" %label)\n",
    "plt.imshow(img[0],cmap='gray')\n",
    "plt.show()"
   ]
  },
  {
   "cell_type": "markdown",
   "id": "b8b7b7f8",
   "metadata": {},
   "source": [
    "## 3. 데이터 로드함수\n",
    "학습시킬 때 batch_size 단위로 끊어서 로드하기 위함"
   ]
  },
  {
   "cell_type": "code",
   "execution_count": 6,
   "id": "a87ef717",
   "metadata": {},
   "outputs": [],
   "source": [
    "train_loader=torch.utils.data.DataLoader(dataset=mnist_train,\n",
    "                                         batch_size=batch_size, # mnist_train을 트레인 시키자.\n",
    "                                         shuffle=True,\n",
    "                                         drop_last=True) # batch_size 만큼 나눌 때 나머지는 버려라 \n",
    "test_loader=torch.utils.data.DataLoader(dataset=mnist_test,\n",
    "                                        batch_size=batch_size,\n",
    "                                        shuffle=False, # test는 suhffle하지 않음\n",
    "                                        drop_last=True)"
   ]
  },
  {
   "cell_type": "markdown",
   "id": "adb48c68",
   "metadata": {},
   "source": [
    "### 데이터 로드함수 이해하기"
   ]
  },
  {
   "cell_type": "code",
   "execution_count": 7,
   "id": "7c12e183",
   "metadata": {},
   "outputs": [
    {
     "name": "stdout",
     "output_type": "stream",
     "text": [
      "[0]\n",
      "한 번에 로드되는 데이터 크기:  100\n"
     ]
    },
    {
     "data": {
      "image/png": "[encoded data removed]",
      "text/plain": [
       "<Figure size 432x288 with 3 Axes>"
      ]
     },
     "metadata": {
      "needs_background": "light"
     },
     "output_type": "display_data"
    },
    {
     "name": "stdout",
     "output_type": "stream",
     "text": [
      "[1]\n",
      "한 번에 로드되는 데이터 크기:  100\n"
     ]
    },
    {
     "data": {
      "image/png": "[encoded data removed]",
      "text/plain": [
       "<Figure size 432x288 with 3 Axes>"
      ]
     },
     "metadata": {
      "needs_background": "light"
     },
     "output_type": "display_data"
    },
    {
     "name": "stdout",
     "output_type": "stream",
     "text": [
      "[2]\n",
      "한 번에 로드되는 데이터 크기:  100\n"
     ]
    },
    {
     "data": {
      "image/png": "[encoded data removed]",
      "text/plain": [
       "<Figure size 432x288 with 3 Axes>"
      ]
     },
     "metadata": {
      "needs_background": "light"
     },
     "output_type": "display_data"
    },
    {
     "name": "stdout",
     "output_type": "stream",
     "text": [
      "[3]\n",
      "한 번에 로드되는 데이터 크기:  100\n"
     ]
    },
    {
     "data": {
      "image/png": "[encoded data removed]",
      "text/plain": [
       "<Figure size 432x288 with 3 Axes>"
      ]
     },
     "metadata": {
      "needs_background": "light"
     },
     "output_type": "display_data"
    },
    {
     "name": "stdout",
     "output_type": "stream",
     "text": [
      "[4]\n",
      "한 번에 로드되는 데이터 크기:  100\n"
     ]
    },
    {
     "data": {
      "image/png": "[encoded data removed]",
      "text/plain": [
       "<Figure size 432x288 with 3 Axes>"
      ]
     },
     "metadata": {
      "needs_background": "light"
     },
     "output_type": "display_data"
    },
    {
     "name": "stdout",
     "output_type": "stream",
     "text": [
      "[5]\n",
      "한 번에 로드되는 데이터 크기:  100\n"
     ]
    },
    {
     "data": {
      "image/png": "[encoded data removed]",
      "text/plain": [
       "<Figure size 432x288 with 3 Axes>"
      ]
     },
     "metadata": {
      "needs_background": "light"
     },
     "output_type": "display_data"
    }
   ],
   "source": [
    "n=3 # 샘플로 그려볼 데이터 개수\n",
    "for i, [imgs, labels] in enumerate(test_loader): # batch_size 만큼\n",
    "    if i>5:\n",
    "        break\n",
    "        \n",
    "    print (\"[%d]\" %i)\n",
    "    print (\"한 번에 로드되는 데이터 크기: \", len(imgs))\n",
    "    \n",
    "    #그리기\n",
    "    for j in range(n):\n",
    "        img=imgs[j].numpy() # image 타입을 numpy로 변환(1,28,28)\n",
    "        img=img.reshape((img.shape[1],img.shape[2])) # (1,28,28)->(28,28)\n",
    "        \n",
    "        plt.subplot(1,n,j+1) # (1,3) 형태 플랏의 j번째 자리에 그리겠다\n",
    "        plt.imshow(img, cmap='gray')\n",
    "        plt.title(\"label: %d\" %labels[j])\n",
    "    plt.show()"
   ]
  },
  {
   "cell_type": "markdown",
   "id": "6a82d891",
   "metadata": {},
   "source": [
    "## 4. 모델 선언"
   ]
  },
  {
   "cell_type": "code",
   "execution_count": 8,
   "id": "e02d8bd2",
   "metadata": {},
   "outputs": [],
   "source": [
    "# Recurrent neural network (many-to-one)\n",
    "class RNN(nn.Module):\n",
    "    def __init__(self, input_size, hidden_size, num_layers, num_classes):\n",
    "        super(RNN, self).__init__()\n",
    "        self.hidden_size = hidden_size #128\n",
    "        self.num_layers = num_layers # 2\n",
    "        self.lstm = nn.LSTM(input_size, hidden_size, num_layers, batch_first=True)\n",
    "        self.fc = nn.Linear(hidden_size, num_classes) #128-10\n",
    "        \n",
    "    def forward(self, x):\n",
    "        # -----------------\n",
    "        # input tensor: (batch_size, seq_length, input_size) # bs, n, vector size\n",
    "        # x: (100,28,28)\n",
    "        # print('x: ', x.shape)\n",
    "        \n",
    "        # -----------------\n",
    "        # hidden state tensor: (# of layers, batch_size, hidden_size)\n",
    "        # h: (2, 100, 128)\n",
    "        h0 = torch.zeros(self.num_layers, x.size(0), self.hidden_size).to(device) \n",
    "        c0 = torch.zeros(self.num_layers, x.size(0), self.hidden_size).to(device)\n",
    "        \n",
    "        # -----------------\n",
    "        # Forward propagate LSTM\n",
    "        # output tensor: (batch_size, seq_length, hidden_size)\n",
    "        # out:(128,28,128)\n",
    "        # print('out',out.shape)\n",
    "        \n",
    "        out, _ = self.lstm(x, (h0, c0))\n",
    "        \n",
    "        # -----------------\n",
    "        # 28번째 output layer: (bs, hidden_size)\n",
    "        # out[:,-1,:]: (100,128)\n",
    "        # print('out[-1]:',out[:,-1,:].shape) \n",
    "        \n",
    "        # -----------------\n",
    "        out = self.fc(out[:, -1, :])\n",
    "        \n",
    "        # y^: (batch_size,num_classes)\n",
    "        # y_pred:(100,10)\n",
    "        # print('out: ',out.shape)\n",
    "        \n",
    "        return out"
   ]
  },
  {
   "cell_type": "code",
   "execution_count": 9,
   "id": "d495b113",
   "metadata": {},
   "outputs": [],
   "source": [
    "model=RNN(input_size,hidden_size,num_layers,num_classes).to(device)"
   ]
  },
  {
   "cell_type": "code",
   "execution_count": 10,
   "id": "f8520216",
   "metadata": {},
   "outputs": [],
   "source": [
    "def ComputeAccr(dloader, imodel):\n",
    "    correct=0\n",
    "    total=0\n",
    "    \n",
    "    for j, [imgs,labels] in enumerate(dloader): #batch_size 만큼\n",
    "        # x: (batch_size, 1, seq_length, input_size) ->(batch_size, seq_length, input_size)\n",
    "        img=imgs\n",
    "        img=img.reshape(-1,sequence_length,input_size).to(device)\n",
    "        \n",
    "        # y: (batch_size, num_classes)\n",
    "        label=labels.to(device) # y # Variable(labels)\n",
    "        # label=Variable(labels).cuda()\n",
    "        # .cuda(): GPU에 로드되기 위함, 만약 CPU로 설정되어 있다면 에러남\n",
    "        \n",
    "        # Forward prop.\n",
    "        output=imodel(img) #(batch_size, num_classes)\n",
    "        _, output_index=torch.max(output,1) # (batch_size, 1)\n",
    "        \n",
    "        total+=label.size(0)\n",
    "        correct+=(output_index==label).sum().float()\n",
    "    #print(\"Accuracy of Test Data: {}\".format(100*correct/total))\n",
    "    return (100*correct/total).cpu().numpy() # tensor -> numpy "
   ]
  },
  {
   "cell_type": "code",
   "execution_count": 11,
   "id": "f79584d1",
   "metadata": {},
   "outputs": [
    {
     "name": "stdout",
     "output_type": "stream",
     "text": [
      "Accuracy of Test Data: 11.78\n"
     ]
    }
   ],
   "source": [
    "print(\"Accuracy of Test Data: %.2f\" %ComputeAccr(test_loader, model))"
   ]
  },
  {
   "cell_type": "markdown",
   "id": "a58b0f1c",
   "metadata": {},
   "source": [
    "## 5. Loss, optimizer"
   ]
  },
  {
   "cell_type": "code",
   "execution_count": 12,
   "id": "e53ec246",
   "metadata": {},
   "outputs": [],
   "source": [
    "loss_func=nn.CrossEntropyLoss()\n",
    "optimizer=torch.optim.Adam(model.parameters(), lr=learning_rate)"
   ]
  },
  {
   "cell_type": "markdown",
   "id": "f53da91b",
   "metadata": {},
   "source": [
    "## 6. 학습"
   ]
  },
  {
   "cell_type": "code",
   "execution_count": 13,
   "id": "5d36a4ab",
   "metadata": {},
   "outputs": [
    {
     "name": "stdout",
     "output_type": "stream",
     "text": [
      "Epoch [1/7], Step [100/600], Loss: 0.6256, Accr:79.85\n",
      "Epoch [1/7], Step [200/600], Loss: 0.2734, Accr:93.00\n",
      "Epoch [1/7], Step [300/600], Loss: 0.2486, Accr:94.50\n",
      "Epoch [1/7], Step [400/600], Loss: 0.0615, Accr:95.46\n",
      "Epoch [1/7], Step [500/600], Loss: 0.0855, Accr:96.71\n",
      "Epoch [1/7], Step [600/600], Loss: 0.1685, Accr:96.08\n",
      "Epoch [2/7], Step [100/600], Loss: 0.0606, Accr:97.25\n",
      "Epoch [2/7], Step [200/600], Loss: 0.0645, Accr:97.27\n",
      "Epoch [2/7], Step [300/600], Loss: 0.1165, Accr:97.59\n",
      "Epoch [2/7], Step [400/600], Loss: 0.1342, Accr:97.53\n",
      "Epoch [2/7], Step [500/600], Loss: 0.1214, Accr:97.64\n",
      "Epoch [2/7], Step [600/600], Loss: 0.0146, Accr:98.02\n",
      "Epoch [3/7], Step [100/600], Loss: 0.0523, Accr:97.71\n",
      "Epoch [3/7], Step [200/600], Loss: 0.1180, Accr:97.43\n",
      "Epoch [3/7], Step [300/600], Loss: 0.0412, Accr:98.03\n",
      "Epoch [3/7], Step [400/600], Loss: 0.1905, Accr:97.89\n",
      "Epoch [3/7], Step [500/600], Loss: 0.0114, Accr:98.01\n",
      "Epoch [3/7], Step [600/600], Loss: 0.0299, Accr:98.07\n",
      "Epoch [4/7], Step [100/600], Loss: 0.0830, Accr:97.88\n",
      "Epoch [4/7], Step [200/600], Loss: 0.1277, Accr:97.92\n",
      "Epoch [4/7], Step [300/600], Loss: 0.0970, Accr:98.00\n",
      "Epoch [4/7], Step [400/600], Loss: 0.0810, Accr:98.08\n",
      "Epoch [4/7], Step [500/600], Loss: 0.0268, Accr:98.14\n",
      "Epoch [4/7], Step [600/600], Loss: 0.0525, Accr:96.83\n",
      "Epoch [5/7], Step [100/600], Loss: 0.0392, Accr:98.14\n",
      "Epoch [5/7], Step [200/600], Loss: 0.0670, Accr:97.90\n",
      "Epoch [5/7], Step [300/600], Loss: 0.1005, Accr:98.27\n",
      "Epoch [5/7], Step [400/600], Loss: 0.1672, Accr:98.26\n",
      "Epoch [5/7], Step [500/600], Loss: 0.0743, Accr:98.59\n",
      "Epoch [5/7], Step [600/600], Loss: 0.0436, Accr:98.07\n",
      "Epoch [6/7], Step [100/600], Loss: 0.0925, Accr:98.36\n",
      "Epoch [6/7], Step [200/600], Loss: 0.0678, Accr:98.35\n",
      "Epoch [6/7], Step [300/600], Loss: 0.1185, Accr:98.28\n",
      "Epoch [6/7], Step [400/600], Loss: 0.0329, Accr:98.58\n",
      "Epoch [6/7], Step [500/600], Loss: 0.0760, Accr:98.02\n",
      "Epoch [6/7], Step [600/600], Loss: 0.0754, Accr:98.45\n",
      "Epoch [7/7], Step [100/600], Loss: 0.0144, Accr:98.21\n",
      "Epoch [7/7], Step [200/600], Loss: 0.0426, Accr:98.31\n",
      "Epoch [7/7], Step [300/600], Loss: 0.1830, Accr:98.11\n",
      "Epoch [7/7], Step [400/600], Loss: 0.0709, Accr:97.77\n",
      "Epoch [7/7], Step [500/600], Loss: 0.0445, Accr:97.99\n",
      "Epoch [7/7], Step [600/600], Loss: 0.0143, Accr:98.27\n"
     ]
    }
   ],
   "source": [
    "# Train the model\n",
    "total_step = len(train_loader)\n",
    "for epoch in range(num_epochs):\n",
    "    for i, [imgs, labels] in enumerate(train_loader):\n",
    "        # x: (batch_size, 1, seq_length, input_size) -> (batch_size, seq_length, input_size)\n",
    "        img=imgs\n",
    "        img=img.reshape(-1,sequence_length,input_size).to(device)\n",
    "        \n",
    "        # y: (batch_size, num_classes)\n",
    "        label=labels.to(device) # y # Variable(labels)\n",
    "        \n",
    "        # Forward pass\n",
    "        outputs = model(img)\n",
    "        loss = loss_func(outputs, label)\n",
    "        \n",
    "        # Backward prop. & optimize\n",
    "        optimizer.zero_grad()\n",
    "        loss.backward()\n",
    "        optimizer.step()\n",
    "        \n",
    "        if (i+1) % 100 == 0:\n",
    "            print ('Epoch [{}/{}], Step [{}/{}], Loss: {:.4f}, Accr:{:.2f}' \n",
    "                   .format(epoch+1, num_epochs, i+1, total_step,\n",
    "                           loss.item(),\n",
    "                           ComputeAccr(test_loader,model)))"
   ]
  },
  {
   "cell_type": "markdown",
   "id": "b4dcae74",
   "metadata": {},
   "source": [
    "## 7. 테스트"
   ]
  },
  {
   "cell_type": "code",
   "execution_count": 14,
   "id": "e58264df",
   "metadata": {},
   "outputs": [
    {
     "name": "stdout",
     "output_type": "stream",
     "text": [
      "Accuracy of Test Data: 98.27\n"
     ]
    }
   ],
   "source": [
    "print(\"Accuracy of Test Data: %.2f\" %ComputeAccr(test_loader, model))"
   ]
  },
  {
   "cell_type": "markdown",
   "id": "f15394c1",
   "metadata": {},
   "source": [
    "## 8. 학습된 파라미터 저장"
   ]
  },
  {
   "cell_type": "code",
   "execution_count": 16,
   "id": "fff23593",
   "metadata": {},
   "outputs": [
    {
     "name": "stderr",
     "output_type": "stream",
     "text": [
      "/home/ec2-user/anaconda3/envs/pytorch_p36/lib/python3.6/site-packages/torch/serialization.py:360: UserWarning: Couldn't retrieve source code for container of type RNN. It won't be checked for correctness upon loading.\n",
      "  \"type \" + obj.__name__ + \". It won't be checked \"\n"
     ]
    }
   ],
   "source": [
    "netname='./rnn_weight.pkl'\n",
    "torch.save(model, netname,)"
   ]
  },
  {
   "cell_type": "markdown",
   "id": "9abbc6ce",
   "metadata": {},
   "source": [
    "## 9. 학습된 파라미터 로드"
   ]
  },
  {
   "cell_type": "code",
   "execution_count": 18,
   "id": "24314071",
   "metadata": {},
   "outputs": [],
   "source": [
    "netname='./rnn_weight.pkl'\n",
    "model=torch.load(netname)"
   ]
  },
  {
   "cell_type": "code",
   "execution_count": 19,
   "id": "34b8f54d",
   "metadata": {},
   "outputs": [
    {
     "name": "stdout",
     "output_type": "stream",
     "text": [
      "Accuracy of Test Data: 98.27\n"
     ]
    }
   ],
   "source": [
    "print(\"Accuracy of Test Data: %.2f\" %ComputeAccr(test_loader, model))"
   ]
  },
  {
   "cell_type": "code",
   "execution_count": null,
   "id": "75ab9b90",
   "metadata": {},
   "outputs": [],
   "source": []
  }
 ],
 "metadata": {
  "kernelspec": {
   "display_name": "conda_pytorch_p36",
   "language": "python",
   "name": "conda_pytorch_p36"
  },
  "language_info": {
   "codemirror_mode": {
    "name": "ipython",
    "version": 3
   },
   "file_extension": ".py",
   "mimetype": "text/x-python",
   "name": "python",
   "nbconvert_exporter": "python",
   "pygments_lexer": "ipython3",
   "version": "3.6.13"
  }
 },
 "nbformat": 4,
 "nbformat_minor": 5
}
