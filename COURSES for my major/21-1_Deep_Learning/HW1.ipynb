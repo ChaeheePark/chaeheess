{
 "cells": [
  {
   "cell_type": "code",
   "execution_count": 5,
   "id": "protecting-complement",
   "metadata": {},
   "outputs": [],
   "source": [
    "import numpy as np\n",
    "import matplotlib.pyplot as plt\n",
    "%matplotlib inline\n",
    "\n",
    "import torch\n",
    "import torchvision.datasets as dset\n",
    "import torchvision.transforms as transforms"
   ]
  },
  {
   "cell_type": "code",
   "execution_count": 4,
   "id": "international-treasurer",
   "metadata": {},
   "outputs": [
    {
     "name": "stdout",
     "output_type": "stream",
     "text": [
      "Archive:  MNIST.zip\n",
      "  inflating: MNIST/processed/test.pt  \n",
      "  inflating: MNIST/processed/training.pt  \n",
      "  inflating: MNIST/raw/t10k-images-idx3-ubyte  \n",
      " extracting: MNIST/raw/t10k-images-idx3-ubyte.gz  \n",
      "  inflating: MNIST/raw/t10k-labels-idx1-ubyte  \n",
      " extracting: MNIST/raw/t10k-labels-idx1-ubyte.gz  \n",
      "  inflating: MNIST/raw/train-images-idx3-ubyte  \n",
      " extracting: MNIST/raw/train-images-idx3-ubyte.gz  \n",
      "  inflating: MNIST/raw/train-labels-idx1-ubyte  \n",
      " extracting: MNIST/raw/train-labels-idx1-ubyte.gz  \n"
     ]
    }
   ],
   "source": [
    "!unzip MNIST.zip"
   ]
  },
  {
   "cell_type": "code",
   "execution_count": 6,
   "id": "therapeutic-alcohol",
   "metadata": {},
   "outputs": [],
   "source": [
    "mnist_test=dset.MNIST(\"\",train=False,transform=transforms.ToTensor(),target_transform=None, download=True)"
   ]
  },
  {
   "cell_type": "code",
   "execution_count": 10,
   "id": "detailed-boring",
   "metadata": {},
   "outputs": [
    {
     "name": "stdout",
     "output_type": "stream",
     "text": [
      "mnist_test 길이:  10000\n",
      "image data 형태:  torch.Size([1, 28, 28])\n",
      "label:  7\n"
     ]
    },
    {
     "data": {
      "image/png": "[encoded data removed]",
      "text/plain": [
       "<Figure size 432x288 with 1 Axes>"
      ]
     },
     "metadata": {
      "needs_background": "light"
     },
     "output_type": "display_data"
    }
   ],
   "source": [
    "print (\"mnist_test 길이: \", len(mnist_test))\n",
    "\n",
    "#데이터 하나 형태\n",
    "image,label=mnist_test.__getitem__(0) #0번째 데이터\n",
    "print (\"image data 형태: \",image.size())\n",
    "print (\"label: \",label)\n",
    "\n",
    "#그리기\n",
    "img=image.numpy() #image 타입을 numpy로 변환(1,28,28)\n",
    "plt.title(\"label: %d\"%label)\n",
    "plt.imshow(img[0],cmap='gray')\n",
    "plt.show()"
   ]
  },
  {
   "cell_type": "code",
   "execution_count": 11,
   "id": "infinite-trust",
   "metadata": {},
   "outputs": [],
   "source": [
    "def sigmoid(x):\n",
    "    return 1/(1+np.exp(-x))\n",
    "\n",
    "def softmax(x):\n",
    "    e_x=np.exp(x)\n",
    "    return e_x/np.sum(e_x)"
   ]
  },
  {
   "cell_type": "code",
   "execution_count": 23,
   "id": "valuable-imperial",
   "metadata": {},
   "outputs": [],
   "source": [
    "#multi-layered perceptron\n",
    "# #of units in each layer :28*28 - 256 - 128 - 10\n",
    "class MyMLP:\n",
    "    def __init__(self,n_input,n_hidden1,n_hidden2,n_output):\n",
    "        #W^(1): layer1-> layer2에 매핑되는 weight\n",
    "        self.W1=np.zeros((n_hidden1,n_input),dtype=np.float32)\n",
    "        self.b1=np.zeros((n_hidden1,),dtype=np.float32)\n",
    "        \n",
    "        self.W2=np.zeros((n_hidden2,n_hidden1),dtype=np.float32)\n",
    "        self.b2=np.zeros((n_hidden2,),dtype=np.float32)\n",
    "        \n",
    "        self.W3=np.zeros((n_output,n_hidden2),dtype=np.float32)\n",
    "        self.b3=np.zeros((n_output,),dtype=np.float32)\n",
    "        \n",
    "    \n",
    "    def __call__(self,x):\n",
    "        #(1,28,28) - >(28,28)\n",
    "        x=x.reshape(-1) #일렬로피기\n",
    "        h1=sigmoid(np.dot(self.W1,x)+self.b1) \n",
    "        h2=np.dot(self.W2,h1)+self.b2\n",
    "        out=np.dot(self.W3,h2)+self.b3\n",
    "        \n",
    "        return softmax(out) "
   ]
  },
  {
   "cell_type": "code",
   "execution_count": 24,
   "id": "alien-radius",
   "metadata": {},
   "outputs": [
    {
     "name": "stdout",
     "output_type": "stream",
     "text": [
      "(256, 784) (256,)\n",
      "(128, 256) (128,)\n",
      "(10, 128) (10,)\n"
     ]
    }
   ],
   "source": [
    "model=MyMLP(28*28, 256,128,10)\n",
    "\n",
    "print(model.W1.shape, model.b1.shape)\n",
    "print(model.W2.shape, model.b2.shape)\n",
    "print(model.W3.shape, model.b3.shape)"
   ]
  },
  {
   "cell_type": "code",
   "execution_count": 25,
   "id": "detected-honduras",
   "metadata": {},
   "outputs": [
    {
     "name": "stdout",
     "output_type": "stream",
     "text": [
      "(256, 784) (256,)\n",
      "(128, 256) (128,)\n",
      "(10, 128) (10,)\n"
     ]
    }
   ],
   "source": [
    "weights=np.load('mlp_weight.npz')\n",
    "model.W1=weights['W1']\n",
    "model.W2=weights['W2']\n",
    "model.W3=weights['W3']\n",
    "model.b1=weights['b1']\n",
    "model.b2=weights['b2']\n",
    "model.b3=weights['b3']\n",
    "\n",
    "print(model.W1.shape, model.b1.shape)\n",
    "print(model.W2.shape, model.b2.shape)\n",
    "print(model.W3.shape, model.b3.shape)"
   ]
  },
  {
   "cell_type": "code",
   "execution_count": 26,
   "id": "charitable-montana",
   "metadata": {},
   "outputs": [
    {
     "data": {
      "image/png": "[encoded data removed]",
      "text/plain": [
       "<Figure size 432x288 with 1 Axes>"
      ]
     },
     "metadata": {
      "needs_background": "light"
     },
     "output_type": "display_data"
    },
    {
     "data": {
      "image/png": "[encoded data removed]",
      "text/plain": [
       "<Figure size 432x288 with 1 Axes>"
      ]
     },
     "metadata": {
      "needs_background": "light"
     },
     "output_type": "display_data"
    },
    {
     "data": {
      "image/png": "[encoded data removed]",
      "text/plain": [
       "<Figure size 432x288 with 1 Axes>"
      ]
     },
     "metadata": {
      "needs_background": "light"
     },
     "output_type": "display_data"
    },
    {
     "data": {
      "image/png": "[encoded data removed]",
      "text/plain": [
       "<Figure size 432x288 with 1 Axes>"
      ]
     },
     "metadata": {
      "needs_background": "light"
     },
     "output_type": "display_data"
    },
    {
     "data": {
      "image/png": "[encoded data removed]",
      "text/plain": [
       "<Figure size 432x288 with 1 Axes>"
      ]
     },
     "metadata": {
      "needs_background": "light"
     },
     "output_type": "display_data"
    },
    {
     "data": {
      "image/png": "[encoded data removed]",
      "text/plain": [
       "<Figure size 432x288 with 1 Axes>"
      ]
     },
     "metadata": {
      "needs_background": "light"
     },
     "output_type": "display_data"
    },
    {
     "data": {
      "image/png": "[encoded data removed]",
      "text/plain": [
       "<Figure size 432x288 with 1 Axes>"
      ]
     },
     "metadata": {
      "needs_background": "light"
     },
     "output_type": "display_data"
    },
    {
     "data": {
      "image/png": "[encoded data removed]",
      "text/plain": [
       "<Figure size 432x288 with 1 Axes>"
      ]
     },
     "metadata": {
      "needs_background": "light"
     },
     "output_type": "display_data"
    },
    {
     "data": {
      "image/png": "[encoded data removed]",
      "text/plain": [
       "<Figure size 432x288 with 1 Axes>"
      ]
     },
     "metadata": {
      "needs_background": "light"
     },
     "output_type": "display_data"
    },
    {
     "data": {
      "image/png": "[encoded data removed]",
      "text/plain": [
       "<Figure size 432x288 with 1 Axes>"
      ]
     },
     "metadata": {
      "needs_background": "light"
     },
     "output_type": "display_data"
    },
    {
     "name": "stdout",
     "output_type": "stream",
     "text": [
      "정확도: 91.91\n"
     ]
    }
   ],
   "source": [
    "mysum=0\n",
    "\n",
    "m=len(mnist_test)\n",
    "cnt=0\n",
    "for i in range(m):\n",
    "    image,label=mnist_test.__getitem__(i)\n",
    "    output=model(image)\n",
    "    \n",
    "    if (i%1000==0):\n",
    "        img=image.numpy()\n",
    "        pred_label=np.argmax(output)\n",
    "        plt.title(\"pred: %d, label:%d\"%(pred_label, label))\n",
    "        plt.imshow(img[0],cmap='gray')\n",
    "        plt.show()\n",
    "    cnt+=1\n",
    "    mysum+=(np.argmax(output)==label)\n",
    "\n",
    "print(\"정확도: %.2f\"%((float(mysum)/cnt)*100.0))"
   ]
  }
 ],
 "metadata": {
  "kernelspec": {
   "display_name": "conda_pytorch_p36",
   "language": "python",
   "name": "conda_pytorch_p36"
  },
  "language_info": {
   "codemirror_mode": {
    "name": "ipython",
    "version": 3
   },
   "file_extension": ".py",
   "mimetype": "text/x-python",
   "name": "python",
   "nbconvert_exporter": "python",
   "pygments_lexer": "ipython3",
   "version": "3.6.13"
  }
 },
 "nbformat": 4,
 "nbformat_minor": 5
}
